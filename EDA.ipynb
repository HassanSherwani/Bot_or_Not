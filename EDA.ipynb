{
  "nbformat": 4,
  "nbformat_minor": 0,
  "metadata": {
    "accelerator": "GPU",
    "colab": {
      "name": "EDA.ipynb",
      "provenance": [],
      "collapsed_sections": []
    },
    "kernelspec": {
      "display_name": "Python 3",
      "language": "python",
      "name": "python3"
    },
    "language_info": {
      "codemirror_mode": {
        "name": "ipython",
        "version": 3
      },
      "file_extension": ".py",
      "mimetype": "text/x-python",
      "name": "python",
      "nbconvert_exporter": "python",
      "pygments_lexer": "ipython3",
      "version": "3.6.3"
    }
  },
  "cells": [
    {
      "cell_type": "markdown",
      "metadata": {
        "colab_type": "text",
        "id": "zfSWyFCgeA12"
      },
      "source": [
        "# Problem Statement\n",
        "\n",
        "Build an optimal model that can help us to identify bot traffic(Not-human traffic) and human traffic (HT)."
      ]
    },
    {
      "cell_type": "markdown",
      "metadata": {
        "colab_type": "text",
        "id": "znXnOA8IeGF3"
      },
      "source": [
        "# Importing key modules"
      ]
    },
    {
      "cell_type": "code",
      "metadata": {
        "colab_type": "code",
        "id": "qlTOkyBUeFQ6",
        "colab": {}
      },
      "source": [
        "#support both Python 2 and Python 3 with minimal overhead.\n",
        "from __future__ import absolute_import, division, print_function\n",
        "# I am an engineer. I care only about error not warning. So, let's be maverick and ignore warnings.\n",
        "import warnings\n",
        "warnings.filterwarnings('ignore')"
      ],
      "execution_count": 0,
      "outputs": []
    },
    {
      "cell_type": "code",
      "metadata": {
        "colab_type": "code",
        "id": "PmaYA_4deKGL",
        "colab": {}
      },
      "source": [
        "# For processing and maths\n",
        "import numpy as np\n",
        "import pandas as pd\n",
        "import re\n",
        "import requests\n",
        "import pickle"
      ],
      "execution_count": 0,
      "outputs": []
    },
    {
      "cell_type": "code",
      "metadata": {
        "colab_type": "code",
        "id": "RJOw_xPQeL9X",
        "outputId": "9531773a-a359-40c2-f2f7-790127f82ae3",
        "colab": {
          "base_uri": "https://localhost:8080/",
          "height": 34
        }
      },
      "source": [
        "#For Visuals\n",
        "import matplotlib.pyplot as plt\n",
        "import seaborn as sns\n",
        "sns.set()\n",
        "from matplotlib import rcParams\n",
        "rcParams['figure.figsize'] = 11, 8\n",
        "%config InlineBackend.figure_format = 'svg'\n",
        "%matplotlib inline\n",
        "%pylab inline"
      ],
      "execution_count": 3,
      "outputs": [
        {
          "output_type": "stream",
          "text": [
            "Populating the interactive namespace from numpy and matplotlib\n"
          ],
          "name": "stdout"
        }
      ]
    },
    {
      "cell_type": "markdown",
      "metadata": {
        "colab_type": "text",
        "id": "mA9aE7ZGeYbb"
      },
      "source": [
        "# 2)-Loading datasets "
      ]
    },
    {
      "cell_type": "code",
      "metadata": {
        "colab_type": "code",
        "id": "nptwi6qpeX4-",
        "outputId": "0b85850f-9d13-4b0e-f613-f38db5a175b5",
        "colab": {
          "base_uri": "https://localhost:8080/",
          "height": 34
        }
      },
      "source": [
        "df_bol =pd.read_csv('clickdata.csv')\n",
        "df_bol.shape"
      ],
      "execution_count": 4,
      "outputs": [
        {
          "output_type": "execute_result",
          "data": {
            "text/plain": [
              "(59782, 8)"
            ]
          },
          "metadata": {
            "tags": []
          },
          "execution_count": 4
        }
      ]
    },
    {
      "cell_type": "code",
      "metadata": {
        "colab_type": "code",
        "id": "6nz1p0HNebKz",
        "outputId": "d0a2c7f2-0889-45b0-badb-532f2995078d",
        "colab": {
          "base_uri": "https://localhost:8080/",
          "height": 105
        }
      },
      "source": [
        "df_bol.columns"
      ],
      "execution_count": 5,
      "outputs": [
        {
          "output_type": "execute_result",
          "data": {
            "text/plain": [
              "Index(['epoch_ms', 'session_id', 'country_by_ip_address',\n",
              "       'region_by_ip_address', 'url_without_parameters',\n",
              "       'referrer_without_parameters', 'visitor_recognition_type',\n",
              "       'ua_agent_class'],\n",
              "      dtype='object')"
            ]
          },
          "metadata": {
            "tags": []
          },
          "execution_count": 5
        }
      ]
    },
    {
      "cell_type": "code",
      "metadata": {
        "colab_type": "code",
        "id": "jD1utT_xebQy",
        "outputId": "43290b46-930f-4440-b36e-906482c58aba",
        "colab": {
          "base_uri": "https://localhost:8080/",
          "height": 197
        }
      },
      "source": [
        "df_bol.head()"
      ],
      "execution_count": 0,
      "outputs": [
        {
          "output_type": "execute_result",
          "data": {
            "text/html": [
              "<div>\n",
              "<style scoped>\n",
              "    .dataframe tbody tr th:only-of-type {\n",
              "        vertical-align: middle;\n",
              "    }\n",
              "\n",
              "    .dataframe tbody tr th {\n",
              "        vertical-align: top;\n",
              "    }\n",
              "\n",
              "    .dataframe thead th {\n",
              "        text-align: right;\n",
              "    }\n",
              "</style>\n",
              "<table border=\"1\" class=\"dataframe\">\n",
              "  <thead>\n",
              "    <tr style=\"text-align: right;\">\n",
              "      <th></th>\n",
              "      <th>epoch_ms</th>\n",
              "      <th>session_id</th>\n",
              "      <th>country_by_ip_address</th>\n",
              "      <th>region_by_ip_address</th>\n",
              "      <th>url_without_parameters</th>\n",
              "      <th>referrer_without_parameters</th>\n",
              "      <th>visitor_recognition_type</th>\n",
              "      <th>ua_agent_class</th>\n",
              "    </tr>\n",
              "  </thead>\n",
              "  <tbody>\n",
              "    <tr>\n",
              "      <th>0</th>\n",
              "      <td>1520280001034</td>\n",
              "      <td>be73c8d1b836170a21529a1b23140f8e</td>\n",
              "      <td>US</td>\n",
              "      <td>CA</td>\n",
              "      <td>https://www.bol.com/nl/l/nederlandstalige-kuns...</td>\n",
              "      <td>NaN</td>\n",
              "      <td>ANONYMOUS</td>\n",
              "      <td>Robot</td>\n",
              "    </tr>\n",
              "    <tr>\n",
              "      <th>1</th>\n",
              "      <td>1520280001590</td>\n",
              "      <td>c24c6637ed7dcbe19ad64056184212a7</td>\n",
              "      <td>US</td>\n",
              "      <td>CA</td>\n",
              "      <td>https://www.bol.com/nl/l/italiaans-natuur-wete...</td>\n",
              "      <td>NaN</td>\n",
              "      <td>ANONYMOUS</td>\n",
              "      <td>Robot</td>\n",
              "    </tr>\n",
              "    <tr>\n",
              "      <th>2</th>\n",
              "      <td>1520280002397</td>\n",
              "      <td>ee391655f5680a7bfae0019450aed396</td>\n",
              "      <td>IT</td>\n",
              "      <td>LI</td>\n",
              "      <td>https://www.bol.com/nl/p/nespresso-magimix-ini...</td>\n",
              "      <td>https://www.bol.com/nl/p/nespresso-magimix-ini...</td>\n",
              "      <td>ANONYMOUS</td>\n",
              "      <td>Browser</td>\n",
              "    </tr>\n",
              "    <tr>\n",
              "      <th>3</th>\n",
              "      <td>1520280002598</td>\n",
              "      <td>f8c8a696dd37ca88233b2df096afa97f</td>\n",
              "      <td>US</td>\n",
              "      <td>CA</td>\n",
              "      <td>https://www.bol.com/nl/l/nieuwe-engelstalige-o...</td>\n",
              "      <td>NaN</td>\n",
              "      <td>ANONYMOUS</td>\n",
              "      <td>Robot</td>\n",
              "    </tr>\n",
              "    <tr>\n",
              "      <th>4</th>\n",
              "      <td>1520280004428</td>\n",
              "      <td>f8b0c06747b7dd1d53c0932306bd04d6</td>\n",
              "      <td>US</td>\n",
              "      <td>CA</td>\n",
              "      <td>https://www.bol.com/nl/l/nieuwe-actie-avontuur...</td>\n",
              "      <td>NaN</td>\n",
              "      <td>ANONYMOUS</td>\n",
              "      <td>Robot Mobile</td>\n",
              "    </tr>\n",
              "  </tbody>\n",
              "</table>\n",
              "</div>"
            ],
            "text/plain": [
              "        epoch_ms  ... ua_agent_class\n",
              "0  1520280001034  ...          Robot\n",
              "1  1520280001590  ...          Robot\n",
              "2  1520280002397  ...        Browser\n",
              "3  1520280002598  ...          Robot\n",
              "4  1520280004428  ...   Robot Mobile\n",
              "\n",
              "[5 rows x 8 columns]"
            ]
          },
          "metadata": {
            "tags": []
          },
          "execution_count": 6
        }
      ]
    },
    {
      "cell_type": "code",
      "metadata": {
        "colab_type": "code",
        "id": "oIgmJhYEebUK",
        "outputId": "88f291df-6db5-4b9d-ed0f-cf7fae878f0c",
        "colab": {
          "base_uri": "https://localhost:8080/",
          "height": 197
        }
      },
      "source": [
        "df_bol.tail()"
      ],
      "execution_count": 0,
      "outputs": [
        {
          "output_type": "execute_result",
          "data": {
            "text/html": [
              "<div>\n",
              "<style scoped>\n",
              "    .dataframe tbody tr th:only-of-type {\n",
              "        vertical-align: middle;\n",
              "    }\n",
              "\n",
              "    .dataframe tbody tr th {\n",
              "        vertical-align: top;\n",
              "    }\n",
              "\n",
              "    .dataframe thead th {\n",
              "        text-align: right;\n",
              "    }\n",
              "</style>\n",
              "<table border=\"1\" class=\"dataframe\">\n",
              "  <thead>\n",
              "    <tr style=\"text-align: right;\">\n",
              "      <th></th>\n",
              "      <th>epoch_ms</th>\n",
              "      <th>session_id</th>\n",
              "      <th>country_by_ip_address</th>\n",
              "      <th>region_by_ip_address</th>\n",
              "      <th>url_without_parameters</th>\n",
              "      <th>referrer_without_parameters</th>\n",
              "      <th>visitor_recognition_type</th>\n",
              "      <th>ua_agent_class</th>\n",
              "    </tr>\n",
              "  </thead>\n",
              "  <tbody>\n",
              "    <tr>\n",
              "      <th>12461</th>\n",
              "      <td>1520282840606</td>\n",
              "      <td>babde2c9f54a91ec45c059be93179787</td>\n",
              "      <td>GB</td>\n",
              "      <td>ENG</td>\n",
              "      <td>https://www.bol.com/nl/p/fiio-m7-zilver/920000...</td>\n",
              "      <td>NaN</td>\n",
              "      <td>ANONYMOUS</td>\n",
              "      <td>Browser</td>\n",
              "    </tr>\n",
              "    <tr>\n",
              "      <th>12462</th>\n",
              "      <td>1520282841730</td>\n",
              "      <td>8620ea017b55ae71b8db7f4121b49ce4</td>\n",
              "      <td>PT</td>\n",
              "      <td>11</td>\n",
              "      <td>https://www.bol.com/nl/checkout/login.html</td>\n",
              "      <td>NaN</td>\n",
              "      <td>RECOGNIZED</td>\n",
              "      <td>Browser</td>\n",
              "    </tr>\n",
              "    <tr>\n",
              "      <th>12463</th>\n",
              "      <td>1520282844119</td>\n",
              "      <td>519589c26582a5c90bb6674546dc181e</td>\n",
              "      <td>NL</td>\n",
              "      <td>ZE</td>\n",
              "      <td>https://www.bol.com/nl/p/scratch-magic/9200000...</td>\n",
              "      <td>NaN</td>\n",
              "      <td>RECOGNIZED</td>\n",
              "      <td>Browser</td>\n",
              "    </tr>\n",
              "    <tr>\n",
              "      <th>12464</th>\n",
              "      <td>1520282845109</td>\n",
              "      <td>faa02ef09cc461f141d6ece9781a89bb</td>\n",
              "      <td>NL</td>\n",
              "      <td>ZH</td>\n",
              "      <td>https://www.bol.com/nl/account/bestellingen/ov...</td>\n",
              "      <td>NaN</td>\n",
              "      <td>LOGGEDIN</td>\n",
              "      <td>Browser Webview</td>\n",
              "    </tr>\n",
              "    <tr>\n",
              "      <th>12465</th>\n",
              "      <td>1520282847348</td>\n",
              "      <td>ea555d3216dd6b3936020dc3e7cac22d</td>\n",
              "      <td>NL</td>\n",
              "      <td>GE</td>\n",
              "      <td>https://www.bol.com/nl/s/ajax/index.html</td>\n",
              "      <td>https://www.bol.com/nl/s/elektronica/zoekresul...</td>\n",
              "      <td>NaN</td>\n",
              "      <td>NaN</td>\n",
              "    </tr>\n",
              "  </tbody>\n",
              "</table>\n",
              "</div>"
            ],
            "text/plain": [
              "            epoch_ms  ...   ua_agent_class\n",
              "12461  1520282840606  ...          Browser\n",
              "12462  1520282841730  ...          Browser\n",
              "12463  1520282844119  ...          Browser\n",
              "12464  1520282845109  ...  Browser Webview\n",
              "12465  1520282847348  ...              NaN\n",
              "\n",
              "[5 rows x 8 columns]"
            ]
          },
          "metadata": {
            "tags": []
          },
          "execution_count": 7
        }
      ]
    },
    {
      "cell_type": "markdown",
      "metadata": {
        "colab_type": "text",
        "id": "XQHFnIwEmegJ"
      },
      "source": [
        "# 3)-Data Exploring"
      ]
    },
    {
      "cell_type": "markdown",
      "metadata": {
        "colab_type": "text",
        "id": "jw8r6BQLmp6p"
      },
      "source": [
        "### 3.1)- Checking data-type"
      ]
    },
    {
      "cell_type": "code",
      "metadata": {
        "colab_type": "code",
        "id": "Yg5ct34KmqSv",
        "outputId": "5d30034f-2f85-4d8d-b91b-59e6fa332b9a",
        "colab": {
          "base_uri": "https://localhost:8080/",
          "height": 287
        }
      },
      "source": [
        "# Checking all variables with their data-type\n",
        "def _tbl_dtype(dataset):\n",
        "    sum_dtype = pd.DataFrame(dataset.dtypes).sort_values(0).rename(columns = {0:'Data Type'})\n",
        "    return sum_dtype\n",
        "\n",
        "table_dtype = _tbl_dtype(df_bol)\n",
        "table_dtype"
      ],
      "execution_count": 0,
      "outputs": [
        {
          "output_type": "execute_result",
          "data": {
            "text/html": [
              "<div>\n",
              "<style scoped>\n",
              "    .dataframe tbody tr th:only-of-type {\n",
              "        vertical-align: middle;\n",
              "    }\n",
              "\n",
              "    .dataframe tbody tr th {\n",
              "        vertical-align: top;\n",
              "    }\n",
              "\n",
              "    .dataframe thead th {\n",
              "        text-align: right;\n",
              "    }\n",
              "</style>\n",
              "<table border=\"1\" class=\"dataframe\">\n",
              "  <thead>\n",
              "    <tr style=\"text-align: right;\">\n",
              "      <th></th>\n",
              "      <th>Data Type</th>\n",
              "    </tr>\n",
              "  </thead>\n",
              "  <tbody>\n",
              "    <tr>\n",
              "      <th>epoch_ms</th>\n",
              "      <td>int64</td>\n",
              "    </tr>\n",
              "    <tr>\n",
              "      <th>session_id</th>\n",
              "      <td>object</td>\n",
              "    </tr>\n",
              "    <tr>\n",
              "      <th>country_by_ip_address</th>\n",
              "      <td>object</td>\n",
              "    </tr>\n",
              "    <tr>\n",
              "      <th>region_by_ip_address</th>\n",
              "      <td>object</td>\n",
              "    </tr>\n",
              "    <tr>\n",
              "      <th>url_without_parameters</th>\n",
              "      <td>object</td>\n",
              "    </tr>\n",
              "    <tr>\n",
              "      <th>referrer_without_parameters</th>\n",
              "      <td>object</td>\n",
              "    </tr>\n",
              "    <tr>\n",
              "      <th>visitor_recognition_type</th>\n",
              "      <td>object</td>\n",
              "    </tr>\n",
              "    <tr>\n",
              "      <th>ua_agent_class</th>\n",
              "      <td>object</td>\n",
              "    </tr>\n",
              "  </tbody>\n",
              "</table>\n",
              "</div>"
            ],
            "text/plain": [
              "                            Data Type\n",
              "epoch_ms                        int64\n",
              "session_id                     object\n",
              "country_by_ip_address          object\n",
              "region_by_ip_address           object\n",
              "url_without_parameters         object\n",
              "referrer_without_parameters    object\n",
              "visitor_recognition_type       object\n",
              "ua_agent_class                 object"
            ]
          },
          "metadata": {
            "tags": []
          },
          "execution_count": 8
        }
      ]
    },
    {
      "cell_type": "markdown",
      "metadata": {
        "colab_type": "text",
        "id": "ihuSrOWymi3q"
      },
      "source": [
        "### 3.2)- Checking missing values"
      ]
    },
    {
      "cell_type": "code",
      "metadata": {
        "id": "t0eWDwB5Z0pC",
        "colab_type": "code",
        "outputId": "9882f185-d4c3-4676-fcff-e48cc8e30b1f",
        "colab": {
          "base_uri": "https://localhost:8080/",
          "height": 681
        }
      },
      "source": [
        "import missingno as msno\n",
        "\n",
        "msno.matrix(df_bol.sample(500),\n",
        "            figsize=(10, 5),\n",
        "            width_ratios=(15, 1))"
      ],
      "execution_count": 0,
      "outputs": [
        {
          "output_type": "execute_result",
          "data": {
            "text/plain": [
              "<matplotlib.axes._subplots.AxesSubplot at 0x7f3f40a2fb00>"
            ]
          },
          "metadata": {
            "tags": []
          },
          "execution_count": 9
        },
        {
          "output_type": "display_data",
          "data": {
            "text/plain": [
              "<Figure size 720x360 with 2 Axes>"
            ],
            "image/svg+xml": "<?xml version=\"1.0\" encoding=\"utf-8\" standalone=\"no\"?>\n<!DOCTYPE svg PUBLIC \"-//W3C//DTD SVG 1.1//EN\"\n  \"http://www.w3.org/Graphics/SVG/1.1/DTD/svg11.dtd\">\n<!-- Created with matplotlib (https://matplotlib.org/) -->\n<svg height=\"481.378233pt\" version=\"1.1\" viewBox=\"0 0 631.09016 481.378233\" width=\"631.09016pt\" xmlns=\"http://www.w3.org/2000/svg\" xmlns:xlink=\"http://www.w3.org/1999/xlink\">\n <defs>\n  <style type=\"text/css\">\n*{stroke-linecap:butt;stroke-linejoin:round;}\n  </style>\n </defs>\n <g id=\"figure_1\">\n  <g id=\"patch_1\">\n   <path d=\"M 0 481.378233 \nL 631.09016 481.378233 \nL 631.09016 0 \nL 0 0 \nz\n\" style=\"fill:none;\"/>\n  </g>\n  <g id=\"axes_1\">\n   <g id=\"patch_2\">\n    <path d=\"M 579.341346 462.69222 \nL 612.875 462.69222 \nL 612.875 190.89222 \nL 579.341346 190.89222 \nz\n\" style=\"fill:#ffffff;\"/>\n   </g>\n   <g id=\"matplotlib.axis_1\"/>\n   <g id=\"matplotlib.axis_2\"/>\n   <g id=\"line2d_1\">\n    <path clip-path=\"url(#p0cb2179a20)\" d=\"M 598.503434 462.69222 \nL 593.712912 462.147531 \nL 593.712912 461.602841 \nL 603.293956 461.058152 \nL 603.293956 459.968773 \nL 598.503434 459.424084 \nL 598.503434 457.790016 \nL 593.712912 457.245326 \nL 603.293956 456.700637 \nL 593.712912 456.155947 \nL 593.712912 455.611258 \nL 598.503434 455.066569 \nL 598.503434 454.521879 \nL 603.293956 453.97719 \nL 588.92239 453.432501 \nL 603.293956 452.887811 \nL 598.503434 452.343122 \nL 598.503434 451.253743 \nL 603.293956 450.709054 \nL 598.503434 450.164364 \nL 598.503434 446.351539 \nL 593.712912 445.806849 \nL 598.503434 445.26216 \nL 598.503434 444.717471 \nL 603.293956 444.172781 \nL 598.503434 443.628092 \nL 598.503434 442.538713 \nL 603.293956 441.994024 \nL 603.293956 441.449334 \nL 598.503434 440.904645 \nL 603.293956 440.359955 \nL 598.503434 439.815266 \nL 598.503434 439.270577 \nL 603.293956 438.725887 \nL 603.293956 438.181198 \nL 598.503434 437.636509 \nL 598.503434 435.457751 \nL 593.712912 434.913062 \nL 598.503434 434.368372 \nL 598.503434 433.823683 \nL 593.712912 433.278994 \nL 603.293956 432.189615 \nL 598.503434 431.644925 \nL 598.503434 426.742721 \nL 593.712912 426.198032 \nL 603.293956 425.653342 \nL 603.293956 425.108653 \nL 593.712912 424.019274 \nL 598.503434 423.474585 \nL 598.503434 422.929895 \nL 593.712912 422.385206 \nL 593.712912 421.840517 \nL 598.503434 421.295827 \nL 598.503434 418.57238 \nL 603.293956 418.027691 \nL 598.503434 417.483002 \nL 598.503434 413.125487 \nL 593.712912 412.580797 \nL 603.293956 411.491418 \nL 603.293956 410.946729 \nL 598.503434 410.40204 \nL 603.293956 409.85735 \nL 598.503434 409.312661 \nL 598.503434 407.678593 \nL 593.712912 407.133903 \nL 598.503434 406.589214 \nL 598.503434 406.044525 \nL 593.712912 405.499835 \nL 598.503434 404.955146 \nL 593.712912 404.410456 \nL 603.293956 403.321078 \nL 603.293956 402.776388 \nL 593.712912 401.68701 \nL 598.503434 401.14232 \nL 598.503434 400.052941 \nL 593.712912 399.508252 \nL 593.712912 398.963563 \nL 598.503434 398.418873 \nL 593.712912 397.874184 \nL 598.503434 397.329495 \nL 593.712912 396.784805 \nL 598.503434 396.240116 \nL 598.503434 394.606048 \nL 603.293956 394.061358 \nL 593.712912 392.97198 \nL 598.503434 392.42729 \nL 598.503434 391.337911 \nL 593.712912 390.793222 \nL 598.503434 390.248533 \nL 598.503434 389.703843 \nL 603.293956 389.159154 \nL 593.712912 388.069775 \nL 598.503434 387.525086 \nL 598.503434 386.435707 \nL 603.293956 385.891018 \nL 603.293956 384.801639 \nL 593.712912 384.256949 \nL 603.293956 383.71226 \nL 598.503434 383.167571 \nL 603.293956 382.622881 \nL 598.503434 382.078192 \nL 598.503434 381.533503 \nL 603.293956 380.988813 \nL 598.503434 380.444124 \nL 603.293956 379.899434 \nL 598.503434 379.354745 \nL 603.293956 378.810056 \nL 598.503434 378.265366 \nL 598.503434 376.631298 \nL 593.712912 376.086609 \nL 603.293956 375.541919 \nL 598.503434 374.99723 \nL 598.503434 371.184404 \nL 603.293956 370.639715 \nL 593.712912 370.095026 \nL 603.293956 369.005647 \nL 598.503434 368.460957 \nL 603.293956 367.916268 \nL 603.293956 367.371579 \nL 598.503434 366.826889 \nL 598.503434 364.648132 \nL 603.293956 364.103442 \nL 598.503434 363.558753 \nL 598.503434 361.924685 \nL 593.712912 361.379996 \nL 598.503434 360.835306 \nL 598.503434 358.656549 \nL 593.712912 358.111859 \nL 603.293956 357.56717 \nL 598.503434 357.022481 \nL 598.503434 354.843723 \nL 603.293956 354.299034 \nL 603.293956 353.754344 \nL 593.712912 353.209655 \nL 598.503434 352.664966 \nL 598.503434 351.030897 \nL 603.293956 350.486208 \nL 603.293956 349.941519 \nL 598.503434 349.396829 \nL 598.503434 348.85214 \nL 603.293956 348.30745 \nL 593.712912 347.218072 \nL 598.503434 346.673382 \nL 598.503434 346.128693 \nL 603.293956 345.584004 \nL 593.712912 345.039314 \nL 598.503434 344.494625 \nL 598.503434 342.315867 \nL 593.712912 341.771178 \nL 598.503434 341.226489 \nL 598.503434 339.047731 \nL 603.293956 338.503042 \nL 598.503434 337.958352 \nL 603.293956 337.413663 \nL 598.503434 336.868974 \nL 598.503434 336.324284 \nL 593.712912 335.779595 \nL 603.293956 335.234905 \nL 598.503434 334.690216 \nL 598.503434 334.145527 \nL 603.293956 333.600837 \nL 598.503434 333.056148 \nL 598.503434 331.42208 \nL 593.712912 330.87739 \nL 603.293956 330.332701 \nL 598.503434 329.788012 \nL 598.503434 324.341118 \nL 593.712912 323.796428 \nL 603.293956 323.251739 \nL 598.503434 322.70705 \nL 598.503434 319.983603 \nL 603.293956 319.438913 \nL 598.503434 318.894224 \nL 598.503434 318.349535 \nL 593.712912 317.804845 \nL 603.293956 316.715467 \nL 603.293956 316.170777 \nL 598.503434 315.626088 \nL 598.503434 314.536709 \nL 603.293956 313.99202 \nL 598.503434 313.44733 \nL 598.503434 310.723883 \nL 593.712912 310.179194 \nL 598.503434 309.634505 \nL 598.503434 309.089815 \nL 603.293956 308.545126 \nL 593.712912 308.000436 \nL 593.712912 307.455747 \nL 603.293956 306.911058 \nL 603.293956 306.366368 \nL 598.503434 305.821679 \nL 603.293956 305.27699 \nL 593.712912 304.187611 \nL 593.712912 303.642921 \nL 603.293956 302.553543 \nL 603.293956 302.008853 \nL 598.503434 301.464164 \nL 603.293956 300.919475 \nL 598.503434 300.374785 \nL 598.503434 299.285406 \nL 603.293956 298.740717 \nL 598.503434 298.196028 \nL 598.503434 297.651338 \nL 603.293956 297.106649 \nL 598.503434 296.561959 \nL 603.293956 296.01727 \nL 598.503434 295.472581 \nL 603.293956 294.927891 \nL 598.503434 294.383202 \nL 598.503434 292.749134 \nL 593.712912 292.204444 \nL 603.293956 291.115066 \nL 593.712912 290.570376 \nL 598.503434 290.025687 \nL 598.503434 289.480998 \nL 603.293956 288.936308 \nL 593.712912 287.846929 \nL 598.503434 287.30224 \nL 598.503434 286.757551 \nL 603.293956 286.212861 \nL 598.503434 285.668172 \nL 598.503434 285.123483 \nL 603.293956 284.578793 \nL 593.712912 283.489414 \nL 598.503434 282.944725 \nL 598.503434 282.400036 \nL 593.712912 281.855346 \nL 598.503434 281.310657 \nL 598.503434 279.676589 \nL 603.293956 279.131899 \nL 593.712912 278.042521 \nL 603.293956 276.953142 \nL 593.712912 275.863763 \nL 598.503434 275.319074 \nL 598.503434 274.774384 \nL 603.293956 274.229695 \nL 593.712912 273.685006 \nL 598.503434 273.140316 \nL 598.503434 270.961559 \nL 603.293956 270.416869 \nL 598.503434 269.87218 \nL 598.503434 268.782801 \nL 603.293956 268.238112 \nL 598.503434 267.693422 \nL 598.503434 266.604044 \nL 603.293956 266.059354 \nL 598.503434 265.514665 \nL 603.293956 264.969976 \nL 598.503434 264.425286 \nL 598.503434 262.791218 \nL 603.293956 262.246529 \nL 598.503434 261.701839 \nL 603.293956 261.15715 \nL 598.503434 260.61246 \nL 603.293956 260.067771 \nL 603.293956 259.523082 \nL 598.503434 258.978392 \nL 598.503434 258.433703 \nL 603.293956 257.889014 \nL 598.503434 257.344324 \nL 598.503434 255.165567 \nL 593.712912 254.620877 \nL 593.712912 254.076188 \nL 598.503434 253.531499 \nL 598.503434 251.352741 \nL 603.293956 250.808052 \nL 598.503434 250.263362 \nL 598.503434 242.637711 \nL 603.293956 242.093022 \nL 598.503434 241.548332 \nL 598.503434 239.914264 \nL 603.293956 239.369575 \nL 593.712912 238.824885 \nL 598.503434 238.280196 \nL 598.503434 237.735507 \nL 603.293956 237.190817 \nL 598.503434 236.646128 \nL 598.503434 234.46737 \nL 603.293956 233.922681 \nL 598.503434 233.377992 \nL 603.293956 232.833302 \nL 598.503434 232.288613 \nL 598.503434 231.199234 \nL 593.712912 230.654545 \nL 598.503434 230.109855 \nL 598.503434 229.565166 \nL 603.293956 229.020477 \nL 593.712912 228.475787 \nL 598.503434 227.931098 \nL 598.503434 226.841719 \nL 593.712912 226.29703 \nL 603.293956 225.75234 \nL 593.712912 225.207651 \nL 598.503434 224.662961 \nL 593.712912 224.118272 \nL 603.293956 223.573583 \nL 598.503434 223.028893 \nL 598.503434 222.484204 \nL 593.712912 221.939515 \nL 593.712912 221.394825 \nL 598.503434 220.850136 \nL 598.503434 218.126689 \nL 603.293956 217.582 \nL 598.503434 217.03731 \nL 603.293956 216.492621 \nL 598.503434 215.947931 \nL 603.293956 215.403242 \nL 598.503434 214.858553 \nL 603.293956 214.313863 \nL 598.503434 213.769174 \nL 598.503434 212.135106 \nL 593.712912 211.590416 \nL 598.503434 211.045727 \nL 593.712912 210.501038 \nL 603.293956 209.411659 \nL 598.503434 208.86697 \nL 598.503434 207.232901 \nL 603.293956 206.688212 \nL 598.503434 206.143523 \nL 603.293956 205.598833 \nL 593.712912 204.509454 \nL 593.712912 203.964765 \nL 603.293956 202.875386 \nL 598.503434 202.330697 \nL 598.503434 201.786008 \nL 593.712912 201.241318 \nL 603.293956 200.696629 \nL 598.503434 200.151939 \nL 603.293956 199.60725 \nL 598.503434 199.062561 \nL 598.503434 197.973182 \nL 593.712912 197.428493 \nL 603.293956 196.339114 \nL 598.503434 195.794424 \nL 603.293956 195.249735 \nL 603.293956 194.705046 \nL 593.712912 193.615667 \nL 598.503434 193.070978 \nL 598.503434 191.981599 \nL 603.293956 191.436909 \nL 593.712912 190.89222 \nL 593.712912 190.89222 \n\" style=\"fill:none;stroke:#404040;stroke-linecap:round;stroke-width:1.5;\"/>\n   </g>\n   <g id=\"line2d_2\">\n    <defs>\n     <path d=\"M 0 2.5 \nC 0.663008 2.5 1.29895 2.236584 1.767767 1.767767 \nC 2.236584 1.29895 2.5 0.663008 2.5 0 \nC 2.5 -0.663008 2.236584 -1.29895 1.767767 -1.767767 \nC 1.29895 -2.236584 0.663008 -2.5 0 -2.5 \nC -0.663008 -2.5 -1.29895 -2.236584 -1.767767 -1.767767 \nC -2.236584 -1.29895 -2.5 -0.663008 -2.5 0 \nC -2.5 0.663008 -2.236584 1.29895 -1.767767 1.767767 \nC -1.29895 2.236584 -0.663008 2.5 0 2.5 \nz\n\" id=\"md7c7a04c71\" style=\"stroke:#404040;\"/>\n    </defs>\n    <g clip-path=\"url(#p0cb2179a20)\">\n     <use style=\"fill:#404040;stroke:#404040;\" x=\"588.92239\" xlink:href=\"#md7c7a04c71\" y=\"453.432501\"/>\n    </g>\n   </g>\n   <g id=\"line2d_3\">\n    <g clip-path=\"url(#p0cb2179a20)\">\n     <use style=\"fill:#404040;stroke:#404040;\" x=\"603.293956\" xlink:href=\"#md7c7a04c71\" y=\"461.058152\"/>\n    </g>\n   </g>\n   <g id=\"text_1\">\n    <!-- 8 -->\n    <defs>\n     <path d=\"M 31.78125 34.625 \nQ 24.75 34.625 20.71875 30.859375 \nQ 16.703125 27.09375 16.703125 20.515625 \nQ 16.703125 13.921875 20.71875 10.15625 \nQ 24.75 6.390625 31.78125 6.390625 \nQ 38.8125 6.390625 42.859375 10.171875 \nQ 46.921875 13.96875 46.921875 20.515625 \nQ 46.921875 27.09375 42.890625 30.859375 \nQ 38.875 34.625 31.78125 34.625 \nz\nM 21.921875 38.8125 \nQ 15.578125 40.375 12.03125 44.71875 \nQ 8.5 49.078125 8.5 55.328125 \nQ 8.5 64.0625 14.71875 69.140625 \nQ 20.953125 74.21875 31.78125 74.21875 \nQ 42.671875 74.21875 48.875 69.140625 \nQ 55.078125 64.0625 55.078125 55.328125 \nQ 55.078125 49.078125 51.53125 44.71875 \nQ 48 40.375 41.703125 38.8125 \nQ 48.828125 37.15625 52.796875 32.3125 \nQ 56.78125 27.484375 56.78125 20.515625 \nQ 56.78125 9.90625 50.3125 4.234375 \nQ 43.84375 -1.421875 31.78125 -1.421875 \nQ 19.734375 -1.421875 13.25 4.234375 \nQ 6.78125 9.90625 6.78125 20.515625 \nQ 6.78125 27.484375 10.78125 32.3125 \nQ 14.796875 37.15625 21.921875 38.8125 \nz\nM 18.3125 54.390625 \nQ 18.3125 48.734375 21.84375 45.5625 \nQ 25.390625 42.390625 31.78125 42.390625 \nQ 38.140625 42.390625 41.71875 45.5625 \nQ 45.3125 48.734375 45.3125 54.390625 \nQ 45.3125 60.0625 41.71875 63.234375 \nQ 38.140625 66.40625 31.78125 66.40625 \nQ 25.390625 66.40625 21.84375 63.234375 \nQ 18.3125 60.0625 18.3125 54.390625 \nz\n\" id=\"DejaVuSans-56\"/>\n    </defs>\n    <g style=\"fill:#262626;\" transform=\"translate(612.875 464.921277)scale(0.14 -0.14)\">\n     <use xlink:href=\"#DejaVuSans-56\"/>\n    </g>\n   </g>\n   <g id=\"text_2\">\n    <!-- 5 -->\n    <defs>\n     <path d=\"M 10.796875 72.90625 \nL 49.515625 72.90625 \nL 49.515625 64.59375 \nL 19.828125 64.59375 \nL 19.828125 46.734375 \nQ 21.96875 47.46875 24.109375 47.828125 \nQ 26.265625 48.1875 28.421875 48.1875 \nQ 40.625 48.1875 47.75 41.5 \nQ 54.890625 34.8125 54.890625 23.390625 \nQ 54.890625 11.625 47.5625 5.09375 \nQ 40.234375 -1.421875 26.90625 -1.421875 \nQ 22.3125 -1.421875 17.546875 -0.640625 \nQ 12.796875 0.140625 7.71875 1.703125 \nL 7.71875 11.625 \nQ 12.109375 9.234375 16.796875 8.0625 \nQ 21.484375 6.890625 26.703125 6.890625 \nQ 35.15625 6.890625 40.078125 11.328125 \nQ 45.015625 15.765625 45.015625 23.390625 \nQ 45.015625 31 40.078125 35.4375 \nQ 35.15625 39.890625 26.703125 39.890625 \nQ 22.75 39.890625 18.8125 39.015625 \nQ 14.890625 38.140625 10.796875 36.28125 \nz\n\" id=\"DejaVuSans-53\"/>\n    </defs>\n    <g style=\"fill:#262626;\" transform=\"translate(570.433846 457.295626)scale(0.14 -0.14)\">\n     <use xlink:href=\"#DejaVuSans-53\"/>\n    </g>\n   </g>\n  </g>\n  <g id=\"axes_2\">\n   <g id=\"patch_3\">\n    <path d=\"M 54.875 462.69222 \nL 557.879808 462.69222 \nL 557.879808 190.89222 \nL 54.875 190.89222 \nz\n\" style=\"fill:#eaeaf2;\"/>\n   </g>\n   <g clip-path=\"url(#pf8c48dc9d1)\">\n    <image height=\"500\" id=\"image3a5720dae2\" transform=\"matrix(63 0 0 0.544 54.875 190.69222)\" width=\"8\" xlink:href=\"data:image/png;base64,\niVBORw0KGgoAAAANSUhEUgAAAAgAAAH0CAYAAAAAKGxdAAAABHNCSVQICAgIfAhkiAAAAc5JREFUeJztWkuyAjEIjF5s5ujcTDeOlQURQ0LbJLKxyupH+P98t+M4HuVFIlLO83x/llLKrQZodNe+FJHPAJNDE1CzVgGX5DX5tDABtSyTDWWqeVGtrmqHLl+Ma9HH4frLppCaNwFa+HzRBMyLycCQ+5pDF4AuL8wnXCHHYKg1OABMjW5JJgdAlRuvtJqaDNV+3FnooHXNMGtUGIbkZXB3CkumEPIPCAFcXqxLUdAsN3eFSdG78yXvvHjokmGTnrWGmn8ZQgAM8wPw7Obf/QEymBzGmxpgO2C1pG+dbAJiTM2QegyZtUlbpAt71xO0pu56AjC609nBPJppxFCjGAoIQ16MjwdBEWVymHunZahydAHDcBLfGLCGs+hGlBhDpZjlGI4D6JiM2XlTzDCAjRU9V897ogmY524TwJa8DIWUwd0MWqzRDgDbAeDctIYv6NzNWkAYZjm6sVl7YtzdQY3VBATmZtq7/a8m8y4Z8pXicVMDOGi0cDyYAP9hH+BNjeiyWyO63y+0J1JY8ldFDPDTQO6xmaHSMhRS1tkeEPaTOWiU718s0hZShtNfvr7pemLHJYgVwNC7v5dBRCaeFwIjSqOdj2Z+gGkHk4NmqCcuIk1KaBEJCwAAAABJRU5ErkJggg==\"/>\n   </g>\n   <g id=\"matplotlib.axis_3\">\n    <g id=\"xtick_1\">\n     <g id=\"text_3\">\n      <!-- epoch_ms -->\n      <defs>\n       <path d=\"M 56.203125 29.59375 \nL 56.203125 25.203125 \nL 14.890625 25.203125 \nQ 15.484375 15.921875 20.484375 11.0625 \nQ 25.484375 6.203125 34.421875 6.203125 \nQ 39.59375 6.203125 44.453125 7.46875 \nQ 49.3125 8.734375 54.109375 11.28125 \nL 54.109375 2.78125 \nQ 49.265625 0.734375 44.1875 -0.34375 \nQ 39.109375 -1.421875 33.890625 -1.421875 \nQ 20.796875 -1.421875 13.15625 6.1875 \nQ 5.515625 13.8125 5.515625 26.8125 \nQ 5.515625 40.234375 12.765625 48.109375 \nQ 20.015625 56 32.328125 56 \nQ 43.359375 56 49.78125 48.890625 \nQ 56.203125 41.796875 56.203125 29.59375 \nz\nM 47.21875 32.234375 \nQ 47.125 39.59375 43.09375 43.984375 \nQ 39.0625 48.390625 32.421875 48.390625 \nQ 24.90625 48.390625 20.390625 44.140625 \nQ 15.875 39.890625 15.1875 32.171875 \nz\n\" id=\"DejaVuSans-101\"/>\n       <path d=\"M 18.109375 8.203125 \nL 18.109375 -20.796875 \nL 9.078125 -20.796875 \nL 9.078125 54.6875 \nL 18.109375 54.6875 \nL 18.109375 46.390625 \nQ 20.953125 51.265625 25.265625 53.625 \nQ 29.59375 56 35.59375 56 \nQ 45.5625 56 51.78125 48.09375 \nQ 58.015625 40.1875 58.015625 27.296875 \nQ 58.015625 14.40625 51.78125 6.484375 \nQ 45.5625 -1.421875 35.59375 -1.421875 \nQ 29.59375 -1.421875 25.265625 0.953125 \nQ 20.953125 3.328125 18.109375 8.203125 \nz\nM 48.6875 27.296875 \nQ 48.6875 37.203125 44.609375 42.84375 \nQ 40.53125 48.484375 33.40625 48.484375 \nQ 26.265625 48.484375 22.1875 42.84375 \nQ 18.109375 37.203125 18.109375 27.296875 \nQ 18.109375 17.390625 22.1875 11.75 \nQ 26.265625 6.109375 33.40625 6.109375 \nQ 40.53125 6.109375 44.609375 11.75 \nQ 48.6875 17.390625 48.6875 27.296875 \nz\n\" id=\"DejaVuSans-112\"/>\n       <path d=\"M 30.609375 48.390625 \nQ 23.390625 48.390625 19.1875 42.75 \nQ 14.984375 37.109375 14.984375 27.296875 \nQ 14.984375 17.484375 19.15625 11.84375 \nQ 23.34375 6.203125 30.609375 6.203125 \nQ 37.796875 6.203125 41.984375 11.859375 \nQ 46.1875 17.53125 46.1875 27.296875 \nQ 46.1875 37.015625 41.984375 42.703125 \nQ 37.796875 48.390625 30.609375 48.390625 \nz\nM 30.609375 56 \nQ 42.328125 56 49.015625 48.375 \nQ 55.71875 40.765625 55.71875 27.296875 \nQ 55.71875 13.875 49.015625 6.21875 \nQ 42.328125 -1.421875 30.609375 -1.421875 \nQ 18.84375 -1.421875 12.171875 6.21875 \nQ 5.515625 13.875 5.515625 27.296875 \nQ 5.515625 40.765625 12.171875 48.375 \nQ 18.84375 56 30.609375 56 \nz\n\" id=\"DejaVuSans-111\"/>\n       <path d=\"M 48.78125 52.59375 \nL 48.78125 44.1875 \nQ 44.96875 46.296875 41.140625 47.34375 \nQ 37.3125 48.390625 33.40625 48.390625 \nQ 24.65625 48.390625 19.8125 42.84375 \nQ 14.984375 37.3125 14.984375 27.296875 \nQ 14.984375 17.28125 19.8125 11.734375 \nQ 24.65625 6.203125 33.40625 6.203125 \nQ 37.3125 6.203125 41.140625 7.25 \nQ 44.96875 8.296875 48.78125 10.40625 \nL 48.78125 2.09375 \nQ 45.015625 0.34375 40.984375 -0.53125 \nQ 36.96875 -1.421875 32.421875 -1.421875 \nQ 20.0625 -1.421875 12.78125 6.34375 \nQ 5.515625 14.109375 5.515625 27.296875 \nQ 5.515625 40.671875 12.859375 48.328125 \nQ 20.21875 56 33.015625 56 \nQ 37.15625 56 41.109375 55.140625 \nQ 45.0625 54.296875 48.78125 52.59375 \nz\n\" id=\"DejaVuSans-99\"/>\n       <path d=\"M 54.890625 33.015625 \nL 54.890625 0 \nL 45.90625 0 \nL 45.90625 32.71875 \nQ 45.90625 40.484375 42.875 44.328125 \nQ 39.84375 48.1875 33.796875 48.1875 \nQ 26.515625 48.1875 22.3125 43.546875 \nQ 18.109375 38.921875 18.109375 30.90625 \nL 18.109375 0 \nL 9.078125 0 \nL 9.078125 75.984375 \nL 18.109375 75.984375 \nL 18.109375 46.1875 \nQ 21.34375 51.125 25.703125 53.5625 \nQ 30.078125 56 35.796875 56 \nQ 45.21875 56 50.046875 50.171875 \nQ 54.890625 44.34375 54.890625 33.015625 \nz\n\" id=\"DejaVuSans-104\"/>\n       <path d=\"M 50.984375 -16.609375 \nL 50.984375 -23.578125 \nL -0.984375 -23.578125 \nL -0.984375 -16.609375 \nz\n\" id=\"DejaVuSans-95\"/>\n       <path d=\"M 52 44.1875 \nQ 55.375 50.25 60.0625 53.125 \nQ 64.75 56 71.09375 56 \nQ 79.640625 56 84.28125 50.015625 \nQ 88.921875 44.046875 88.921875 33.015625 \nL 88.921875 0 \nL 79.890625 0 \nL 79.890625 32.71875 \nQ 79.890625 40.578125 77.09375 44.375 \nQ 74.3125 48.1875 68.609375 48.1875 \nQ 61.625 48.1875 57.5625 43.546875 \nQ 53.515625 38.921875 53.515625 30.90625 \nL 53.515625 0 \nL 44.484375 0 \nL 44.484375 32.71875 \nQ 44.484375 40.625 41.703125 44.40625 \nQ 38.921875 48.1875 33.109375 48.1875 \nQ 26.21875 48.1875 22.15625 43.53125 \nQ 18.109375 38.875 18.109375 30.90625 \nL 18.109375 0 \nL 9.078125 0 \nL 9.078125 54.6875 \nL 18.109375 54.6875 \nL 18.109375 46.1875 \nQ 21.1875 51.21875 25.484375 53.609375 \nQ 29.78125 56 35.6875 56 \nQ 41.65625 56 45.828125 52.96875 \nQ 50 49.953125 52 44.1875 \nz\n\" id=\"DejaVuSans-109\"/>\n       <path d=\"M 44.28125 53.078125 \nL 44.28125 44.578125 \nQ 40.484375 46.53125 36.375 47.5 \nQ 32.28125 48.484375 27.875 48.484375 \nQ 21.1875 48.484375 17.84375 46.4375 \nQ 14.5 44.390625 14.5 40.28125 \nQ 14.5 37.15625 16.890625 35.375 \nQ 19.28125 33.59375 26.515625 31.984375 \nL 29.59375 31.296875 \nQ 39.15625 29.25 43.1875 25.515625 \nQ 47.21875 21.78125 47.21875 15.09375 \nQ 47.21875 7.46875 41.1875 3.015625 \nQ 35.15625 -1.421875 24.609375 -1.421875 \nQ 20.21875 -1.421875 15.453125 -0.5625 \nQ 10.6875 0.296875 5.421875 2 \nL 5.421875 11.28125 \nQ 10.40625 8.6875 15.234375 7.390625 \nQ 20.0625 6.109375 24.8125 6.109375 \nQ 31.15625 6.109375 34.5625 8.28125 \nQ 37.984375 10.453125 37.984375 14.40625 \nQ 37.984375 18.0625 35.515625 20.015625 \nQ 33.0625 21.96875 24.703125 23.78125 \nL 21.578125 24.515625 \nQ 13.234375 26.265625 9.515625 29.90625 \nQ 5.8125 33.546875 5.8125 39.890625 \nQ 5.8125 47.609375 11.28125 51.796875 \nQ 16.75 56 26.8125 56 \nQ 31.78125 56 36.171875 55.265625 \nQ 40.578125 54.546875 44.28125 53.078125 \nz\n\" id=\"DejaVuSans-115\"/>\n      </defs>\n      <g style=\"fill:#262626;\" transform=\"translate(94.909451 178.72466)rotate(-45)scale(0.16 -0.16)\">\n       <use xlink:href=\"#DejaVuSans-101\"/>\n       <use x=\"61.523438\" xlink:href=\"#DejaVuSans-112\"/>\n       <use x=\"125\" xlink:href=\"#DejaVuSans-111\"/>\n       <use x=\"186.181641\" xlink:href=\"#DejaVuSans-99\"/>\n       <use x=\"241.162109\" xlink:href=\"#DejaVuSans-104\"/>\n       <use x=\"304.541016\" xlink:href=\"#DejaVuSans-95\"/>\n       <use x=\"354.541016\" xlink:href=\"#DejaVuSans-109\"/>\n       <use x=\"451.953125\" xlink:href=\"#DejaVuSans-115\"/>\n      </g>\n     </g>\n    </g>\n    <g id=\"xtick_2\">\n     <g id=\"text_4\">\n      <!-- session_id -->\n      <defs>\n       <path d=\"M 9.421875 54.6875 \nL 18.40625 54.6875 \nL 18.40625 0 \nL 9.421875 0 \nz\nM 9.421875 75.984375 \nL 18.40625 75.984375 \nL 18.40625 64.59375 \nL 9.421875 64.59375 \nz\n\" id=\"DejaVuSans-105\"/>\n       <path d=\"M 54.890625 33.015625 \nL 54.890625 0 \nL 45.90625 0 \nL 45.90625 32.71875 \nQ 45.90625 40.484375 42.875 44.328125 \nQ 39.84375 48.1875 33.796875 48.1875 \nQ 26.515625 48.1875 22.3125 43.546875 \nQ 18.109375 38.921875 18.109375 30.90625 \nL 18.109375 0 \nL 9.078125 0 \nL 9.078125 54.6875 \nL 18.109375 54.6875 \nL 18.109375 46.1875 \nQ 21.34375 51.125 25.703125 53.5625 \nQ 30.078125 56 35.796875 56 \nQ 45.21875 56 50.046875 50.171875 \nQ 54.890625 44.34375 54.890625 33.015625 \nz\n\" id=\"DejaVuSans-110\"/>\n       <path d=\"M 45.40625 46.390625 \nL 45.40625 75.984375 \nL 54.390625 75.984375 \nL 54.390625 0 \nL 45.40625 0 \nL 45.40625 8.203125 \nQ 42.578125 3.328125 38.25 0.953125 \nQ 33.9375 -1.421875 27.875 -1.421875 \nQ 17.96875 -1.421875 11.734375 6.484375 \nQ 5.515625 14.40625 5.515625 27.296875 \nQ 5.515625 40.1875 11.734375 48.09375 \nQ 17.96875 56 27.875 56 \nQ 33.9375 56 38.25 53.625 \nQ 42.578125 51.265625 45.40625 46.390625 \nz\nM 14.796875 27.296875 \nQ 14.796875 17.390625 18.875 11.75 \nQ 22.953125 6.109375 30.078125 6.109375 \nQ 37.203125 6.109375 41.296875 11.75 \nQ 45.40625 17.390625 45.40625 27.296875 \nQ 45.40625 37.203125 41.296875 42.84375 \nQ 37.203125 48.484375 30.078125 48.484375 \nQ 22.953125 48.484375 18.875 42.84375 \nQ 14.796875 37.203125 14.796875 27.296875 \nz\n\" id=\"DejaVuSans-100\"/>\n      </defs>\n      <g style=\"fill:#262626;\" transform=\"translate(157.785052 178.72466)rotate(-45)scale(0.16 -0.16)\">\n       <use xlink:href=\"#DejaVuSans-115\"/>\n       <use x=\"52.099609\" xlink:href=\"#DejaVuSans-101\"/>\n       <use x=\"113.623047\" xlink:href=\"#DejaVuSans-115\"/>\n       <use x=\"165.722656\" xlink:href=\"#DejaVuSans-115\"/>\n       <use x=\"217.822266\" xlink:href=\"#DejaVuSans-105\"/>\n       <use x=\"245.605469\" xlink:href=\"#DejaVuSans-111\"/>\n       <use x=\"306.787109\" xlink:href=\"#DejaVuSans-110\"/>\n       <use x=\"370.166016\" xlink:href=\"#DejaVuSans-95\"/>\n       <use x=\"420.166016\" xlink:href=\"#DejaVuSans-105\"/>\n       <use x=\"447.949219\" xlink:href=\"#DejaVuSans-100\"/>\n      </g>\n     </g>\n    </g>\n    <g id=\"xtick_3\">\n     <g id=\"text_5\">\n      <!-- country_by_ip_address -->\n      <defs>\n       <path d=\"M 8.5 21.578125 \nL 8.5 54.6875 \nL 17.484375 54.6875 \nL 17.484375 21.921875 \nQ 17.484375 14.15625 20.5 10.265625 \nQ 23.53125 6.390625 29.59375 6.390625 \nQ 36.859375 6.390625 41.078125 11.03125 \nQ 45.3125 15.671875 45.3125 23.6875 \nL 45.3125 54.6875 \nL 54.296875 54.6875 \nL 54.296875 0 \nL 45.3125 0 \nL 45.3125 8.40625 \nQ 42.046875 3.421875 37.71875 1 \nQ 33.40625 -1.421875 27.6875 -1.421875 \nQ 18.265625 -1.421875 13.375 4.4375 \nQ 8.5 10.296875 8.5 21.578125 \nz\nM 31.109375 56 \nz\n\" id=\"DejaVuSans-117\"/>\n       <path d=\"M 18.3125 70.21875 \nL 18.3125 54.6875 \nL 36.8125 54.6875 \nL 36.8125 47.703125 \nL 18.3125 47.703125 \nL 18.3125 18.015625 \nQ 18.3125 11.328125 20.140625 9.421875 \nQ 21.96875 7.515625 27.59375 7.515625 \nL 36.8125 7.515625 \nL 36.8125 0 \nL 27.59375 0 \nQ 17.1875 0 13.234375 3.875 \nQ 9.28125 7.765625 9.28125 18.015625 \nL 9.28125 47.703125 \nL 2.6875 47.703125 \nL 2.6875 54.6875 \nL 9.28125 54.6875 \nL 9.28125 70.21875 \nz\n\" id=\"DejaVuSans-116\"/>\n       <path d=\"M 41.109375 46.296875 \nQ 39.59375 47.171875 37.8125 47.578125 \nQ 36.03125 48 33.890625 48 \nQ 26.265625 48 22.1875 43.046875 \nQ 18.109375 38.09375 18.109375 28.8125 \nL 18.109375 0 \nL 9.078125 0 \nL 9.078125 54.6875 \nL 18.109375 54.6875 \nL 18.109375 46.1875 \nQ 20.953125 51.171875 25.484375 53.578125 \nQ 30.03125 56 36.53125 56 \nQ 37.453125 56 38.578125 55.875 \nQ 39.703125 55.765625 41.0625 55.515625 \nz\n\" id=\"DejaVuSans-114\"/>\n       <path d=\"M 32.171875 -5.078125 \nQ 28.375 -14.84375 24.75 -17.8125 \nQ 21.140625 -20.796875 15.09375 -20.796875 \nL 7.90625 -20.796875 \nL 7.90625 -13.28125 \nL 13.1875 -13.28125 \nQ 16.890625 -13.28125 18.9375 -11.515625 \nQ 21 -9.765625 23.484375 -3.21875 \nL 25.09375 0.875 \nL 2.984375 54.6875 \nL 12.5 54.6875 \nL 29.59375 11.921875 \nL 46.6875 54.6875 \nL 56.203125 54.6875 \nz\n\" id=\"DejaVuSans-121\"/>\n       <path d=\"M 48.6875 27.296875 \nQ 48.6875 37.203125 44.609375 42.84375 \nQ 40.53125 48.484375 33.40625 48.484375 \nQ 26.265625 48.484375 22.1875 42.84375 \nQ 18.109375 37.203125 18.109375 27.296875 \nQ 18.109375 17.390625 22.1875 11.75 \nQ 26.265625 6.109375 33.40625 6.109375 \nQ 40.53125 6.109375 44.609375 11.75 \nQ 48.6875 17.390625 48.6875 27.296875 \nz\nM 18.109375 46.390625 \nQ 20.953125 51.265625 25.265625 53.625 \nQ 29.59375 56 35.59375 56 \nQ 45.5625 56 51.78125 48.09375 \nQ 58.015625 40.1875 58.015625 27.296875 \nQ 58.015625 14.40625 51.78125 6.484375 \nQ 45.5625 -1.421875 35.59375 -1.421875 \nQ 29.59375 -1.421875 25.265625 0.953125 \nQ 20.953125 3.328125 18.109375 8.203125 \nL 18.109375 0 \nL 9.078125 0 \nL 9.078125 75.984375 \nL 18.109375 75.984375 \nz\n\" id=\"DejaVuSans-98\"/>\n       <path d=\"M 34.28125 27.484375 \nQ 23.390625 27.484375 19.1875 25 \nQ 14.984375 22.515625 14.984375 16.5 \nQ 14.984375 11.71875 18.140625 8.90625 \nQ 21.296875 6.109375 26.703125 6.109375 \nQ 34.1875 6.109375 38.703125 11.40625 \nQ 43.21875 16.703125 43.21875 25.484375 \nL 43.21875 27.484375 \nz\nM 52.203125 31.203125 \nL 52.203125 0 \nL 43.21875 0 \nL 43.21875 8.296875 \nQ 40.140625 3.328125 35.546875 0.953125 \nQ 30.953125 -1.421875 24.3125 -1.421875 \nQ 15.921875 -1.421875 10.953125 3.296875 \nQ 6 8.015625 6 15.921875 \nQ 6 25.140625 12.171875 29.828125 \nQ 18.359375 34.515625 30.609375 34.515625 \nL 43.21875 34.515625 \nL 43.21875 35.40625 \nQ 43.21875 41.609375 39.140625 45 \nQ 35.0625 48.390625 27.6875 48.390625 \nQ 23 48.390625 18.546875 47.265625 \nQ 14.109375 46.140625 10.015625 43.890625 \nL 10.015625 52.203125 \nQ 14.9375 54.109375 19.578125 55.046875 \nQ 24.21875 56 28.609375 56 \nQ 40.484375 56 46.34375 49.84375 \nQ 52.203125 43.703125 52.203125 31.203125 \nz\n\" id=\"DejaVuSans-97\"/>\n      </defs>\n      <g style=\"fill:#262626;\" transform=\"translate(220.660653 178.72466)rotate(-45)scale(0.16 -0.16)\">\n       <use xlink:href=\"#DejaVuSans-99\"/>\n       <use x=\"54.980469\" xlink:href=\"#DejaVuSans-111\"/>\n       <use x=\"116.162109\" xlink:href=\"#DejaVuSans-117\"/>\n       <use x=\"179.541016\" xlink:href=\"#DejaVuSans-110\"/>\n       <use x=\"242.919922\" xlink:href=\"#DejaVuSans-116\"/>\n       <use x=\"282.128906\" xlink:href=\"#DejaVuSans-114\"/>\n       <use x=\"323.242188\" xlink:href=\"#DejaVuSans-121\"/>\n       <use x=\"382.421875\" xlink:href=\"#DejaVuSans-95\"/>\n       <use x=\"432.421875\" xlink:href=\"#DejaVuSans-98\"/>\n       <use x=\"495.898438\" xlink:href=\"#DejaVuSans-121\"/>\n       <use x=\"555.078125\" xlink:href=\"#DejaVuSans-95\"/>\n       <use x=\"605.078125\" xlink:href=\"#DejaVuSans-105\"/>\n       <use x=\"632.861328\" xlink:href=\"#DejaVuSans-112\"/>\n       <use x=\"696.337891\" xlink:href=\"#DejaVuSans-95\"/>\n       <use x=\"746.337891\" xlink:href=\"#DejaVuSans-97\"/>\n       <use x=\"807.617188\" xlink:href=\"#DejaVuSans-100\"/>\n       <use x=\"871.09375\" xlink:href=\"#DejaVuSans-100\"/>\n       <use x=\"934.570312\" xlink:href=\"#DejaVuSans-114\"/>\n       <use x=\"975.652344\" xlink:href=\"#DejaVuSans-101\"/>\n       <use x=\"1037.175781\" xlink:href=\"#DejaVuSans-115\"/>\n       <use x=\"1089.275391\" xlink:href=\"#DejaVuSans-115\"/>\n      </g>\n     </g>\n    </g>\n    <g id=\"xtick_4\">\n     <g id=\"text_6\">\n      <!-- region_by_ip_address -->\n      <defs>\n       <path d=\"M 45.40625 27.984375 \nQ 45.40625 37.75 41.375 43.109375 \nQ 37.359375 48.484375 30.078125 48.484375 \nQ 22.859375 48.484375 18.828125 43.109375 \nQ 14.796875 37.75 14.796875 27.984375 \nQ 14.796875 18.265625 18.828125 12.890625 \nQ 22.859375 7.515625 30.078125 7.515625 \nQ 37.359375 7.515625 41.375 12.890625 \nQ 45.40625 18.265625 45.40625 27.984375 \nz\nM 54.390625 6.78125 \nQ 54.390625 -7.171875 48.1875 -13.984375 \nQ 42 -20.796875 29.203125 -20.796875 \nQ 24.46875 -20.796875 20.265625 -20.09375 \nQ 16.0625 -19.390625 12.109375 -17.921875 \nL 12.109375 -9.1875 \nQ 16.0625 -11.328125 19.921875 -12.34375 \nQ 23.78125 -13.375 27.78125 -13.375 \nQ 36.625 -13.375 41.015625 -8.765625 \nQ 45.40625 -4.15625 45.40625 5.171875 \nL 45.40625 9.625 \nQ 42.625 4.78125 38.28125 2.390625 \nQ 33.9375 0 27.875 0 \nQ 17.828125 0 11.671875 7.65625 \nQ 5.515625 15.328125 5.515625 27.984375 \nQ 5.515625 40.671875 11.671875 48.328125 \nQ 17.828125 56 27.875 56 \nQ 33.9375 56 38.28125 53.609375 \nQ 42.625 51.21875 45.40625 46.390625 \nL 45.40625 54.6875 \nL 54.390625 54.6875 \nz\n\" id=\"DejaVuSans-103\"/>\n      </defs>\n      <g style=\"fill:#262626;\" transform=\"translate(283.536254 178.72466)rotate(-45)scale(0.16 -0.16)\">\n       <use xlink:href=\"#DejaVuSans-114\"/>\n       <use x=\"41.082031\" xlink:href=\"#DejaVuSans-101\"/>\n       <use x=\"102.605469\" xlink:href=\"#DejaVuSans-103\"/>\n       <use x=\"166.082031\" xlink:href=\"#DejaVuSans-105\"/>\n       <use x=\"193.865234\" xlink:href=\"#DejaVuSans-111\"/>\n       <use x=\"255.046875\" xlink:href=\"#DejaVuSans-110\"/>\n       <use x=\"318.425781\" xlink:href=\"#DejaVuSans-95\"/>\n       <use x=\"368.425781\" xlink:href=\"#DejaVuSans-98\"/>\n       <use x=\"431.902344\" xlink:href=\"#DejaVuSans-121\"/>\n       <use x=\"491.082031\" xlink:href=\"#DejaVuSans-95\"/>\n       <use x=\"541.082031\" xlink:href=\"#DejaVuSans-105\"/>\n       <use x=\"568.865234\" xlink:href=\"#DejaVuSans-112\"/>\n       <use x=\"632.341797\" xlink:href=\"#DejaVuSans-95\"/>\n       <use x=\"682.341797\" xlink:href=\"#DejaVuSans-97\"/>\n       <use x=\"743.621094\" xlink:href=\"#DejaVuSans-100\"/>\n       <use x=\"807.097656\" xlink:href=\"#DejaVuSans-100\"/>\n       <use x=\"870.574219\" xlink:href=\"#DejaVuSans-114\"/>\n       <use x=\"911.65625\" xlink:href=\"#DejaVuSans-101\"/>\n       <use x=\"973.179688\" xlink:href=\"#DejaVuSans-115\"/>\n       <use x=\"1025.279297\" xlink:href=\"#DejaVuSans-115\"/>\n      </g>\n     </g>\n    </g>\n    <g id=\"xtick_5\">\n     <g id=\"text_7\">\n      <!-- url_without_parameters -->\n      <defs>\n       <path d=\"M 9.421875 75.984375 \nL 18.40625 75.984375 \nL 18.40625 0 \nL 9.421875 0 \nz\n\" id=\"DejaVuSans-108\"/>\n       <path d=\"M 4.203125 54.6875 \nL 13.1875 54.6875 \nL 24.421875 12.015625 \nL 35.59375 54.6875 \nL 46.1875 54.6875 \nL 57.421875 12.015625 \nL 68.609375 54.6875 \nL 77.59375 54.6875 \nL 63.28125 0 \nL 52.6875 0 \nL 40.921875 44.828125 \nL 29.109375 0 \nL 18.5 0 \nz\n\" id=\"DejaVuSans-119\"/>\n      </defs>\n      <g style=\"fill:#262626;\" transform=\"translate(346.411855 178.72466)rotate(-45)scale(0.16 -0.16)\">\n       <use xlink:href=\"#DejaVuSans-117\"/>\n       <use x=\"63.378906\" xlink:href=\"#DejaVuSans-114\"/>\n       <use x=\"104.492188\" xlink:href=\"#DejaVuSans-108\"/>\n       <use x=\"132.275391\" xlink:href=\"#DejaVuSans-95\"/>\n       <use x=\"182.275391\" xlink:href=\"#DejaVuSans-119\"/>\n       <use x=\"264.0625\" xlink:href=\"#DejaVuSans-105\"/>\n       <use x=\"291.845703\" xlink:href=\"#DejaVuSans-116\"/>\n       <use x=\"331.054688\" xlink:href=\"#DejaVuSans-104\"/>\n       <use x=\"394.433594\" xlink:href=\"#DejaVuSans-111\"/>\n       <use x=\"455.615234\" xlink:href=\"#DejaVuSans-117\"/>\n       <use x=\"518.994141\" xlink:href=\"#DejaVuSans-116\"/>\n       <use x=\"558.203125\" xlink:href=\"#DejaVuSans-95\"/>\n       <use x=\"608.203125\" xlink:href=\"#DejaVuSans-112\"/>\n       <use x=\"671.679688\" xlink:href=\"#DejaVuSans-97\"/>\n       <use x=\"732.958984\" xlink:href=\"#DejaVuSans-114\"/>\n       <use x=\"774.072266\" xlink:href=\"#DejaVuSans-97\"/>\n       <use x=\"835.351562\" xlink:href=\"#DejaVuSans-109\"/>\n       <use x=\"932.763672\" xlink:href=\"#DejaVuSans-101\"/>\n       <use x=\"994.287109\" xlink:href=\"#DejaVuSans-116\"/>\n       <use x=\"1033.496094\" xlink:href=\"#DejaVuSans-101\"/>\n       <use x=\"1095.019531\" xlink:href=\"#DejaVuSans-114\"/>\n       <use x=\"1136.132812\" xlink:href=\"#DejaVuSans-115\"/>\n      </g>\n     </g>\n    </g>\n    <g id=\"xtick_6\">\n     <g id=\"text_8\">\n      <!-- referrer_without_parameters -->\n      <defs>\n       <path d=\"M 37.109375 75.984375 \nL 37.109375 68.5 \nL 28.515625 68.5 \nQ 23.6875 68.5 21.796875 66.546875 \nQ 19.921875 64.59375 19.921875 59.515625 \nL 19.921875 54.6875 \nL 34.71875 54.6875 \nL 34.71875 47.703125 \nL 19.921875 47.703125 \nL 19.921875 0 \nL 10.890625 0 \nL 10.890625 47.703125 \nL 2.296875 47.703125 \nL 2.296875 54.6875 \nL 10.890625 54.6875 \nL 10.890625 58.5 \nQ 10.890625 67.625 15.140625 71.796875 \nQ 19.390625 75.984375 28.609375 75.984375 \nz\n\" id=\"DejaVuSans-102\"/>\n      </defs>\n      <g style=\"fill:#262626;\" transform=\"translate(409.287456 178.72466)rotate(-45)scale(0.16 -0.16)\">\n       <use xlink:href=\"#DejaVuSans-114\"/>\n       <use x=\"41.082031\" xlink:href=\"#DejaVuSans-101\"/>\n       <use x=\"102.605469\" xlink:href=\"#DejaVuSans-102\"/>\n       <use x=\"137.810547\" xlink:href=\"#DejaVuSans-101\"/>\n       <use x=\"199.333984\" xlink:href=\"#DejaVuSans-114\"/>\n       <use x=\"240.431641\" xlink:href=\"#DejaVuSans-114\"/>\n       <use x=\"281.513672\" xlink:href=\"#DejaVuSans-101\"/>\n       <use x=\"343.037109\" xlink:href=\"#DejaVuSans-114\"/>\n       <use x=\"384.150391\" xlink:href=\"#DejaVuSans-95\"/>\n       <use x=\"434.150391\" xlink:href=\"#DejaVuSans-119\"/>\n       <use x=\"515.9375\" xlink:href=\"#DejaVuSans-105\"/>\n       <use x=\"543.720703\" xlink:href=\"#DejaVuSans-116\"/>\n       <use x=\"582.929688\" xlink:href=\"#DejaVuSans-104\"/>\n       <use x=\"646.308594\" xlink:href=\"#DejaVuSans-111\"/>\n       <use x=\"707.490234\" xlink:href=\"#DejaVuSans-117\"/>\n       <use x=\"770.869141\" xlink:href=\"#DejaVuSans-116\"/>\n       <use x=\"810.078125\" xlink:href=\"#DejaVuSans-95\"/>\n       <use x=\"860.078125\" xlink:href=\"#DejaVuSans-112\"/>\n       <use x=\"923.554688\" xlink:href=\"#DejaVuSans-97\"/>\n       <use x=\"984.833984\" xlink:href=\"#DejaVuSans-114\"/>\n       <use x=\"1025.947266\" xlink:href=\"#DejaVuSans-97\"/>\n       <use x=\"1087.226562\" xlink:href=\"#DejaVuSans-109\"/>\n       <use x=\"1184.638672\" xlink:href=\"#DejaVuSans-101\"/>\n       <use x=\"1246.162109\" xlink:href=\"#DejaVuSans-116\"/>\n       <use x=\"1285.371094\" xlink:href=\"#DejaVuSans-101\"/>\n       <use x=\"1346.894531\" xlink:href=\"#DejaVuSans-114\"/>\n       <use x=\"1388.007812\" xlink:href=\"#DejaVuSans-115\"/>\n      </g>\n     </g>\n    </g>\n    <g id=\"xtick_7\">\n     <g id=\"text_9\">\n      <!-- visitor_recognition_type -->\n      <defs>\n       <path d=\"M 2.984375 54.6875 \nL 12.5 54.6875 \nL 29.59375 8.796875 \nL 46.6875 54.6875 \nL 56.203125 54.6875 \nL 35.6875 0 \nL 23.484375 0 \nz\n\" id=\"DejaVuSans-118\"/>\n      </defs>\n      <g style=\"fill:#262626;\" transform=\"translate(472.163057 178.72466)rotate(-45)scale(0.16 -0.16)\">\n       <use xlink:href=\"#DejaVuSans-118\"/>\n       <use x=\"59.179688\" xlink:href=\"#DejaVuSans-105\"/>\n       <use x=\"86.962891\" xlink:href=\"#DejaVuSans-115\"/>\n       <use x=\"139.0625\" xlink:href=\"#DejaVuSans-105\"/>\n       <use x=\"166.845703\" xlink:href=\"#DejaVuSans-116\"/>\n       <use x=\"206.054688\" xlink:href=\"#DejaVuSans-111\"/>\n       <use x=\"267.236328\" xlink:href=\"#DejaVuSans-114\"/>\n       <use x=\"308.349609\" xlink:href=\"#DejaVuSans-95\"/>\n       <use x=\"358.349609\" xlink:href=\"#DejaVuSans-114\"/>\n       <use x=\"399.431641\" xlink:href=\"#DejaVuSans-101\"/>\n       <use x=\"460.955078\" xlink:href=\"#DejaVuSans-99\"/>\n       <use x=\"515.935547\" xlink:href=\"#DejaVuSans-111\"/>\n       <use x=\"577.117188\" xlink:href=\"#DejaVuSans-103\"/>\n       <use x=\"640.59375\" xlink:href=\"#DejaVuSans-110\"/>\n       <use x=\"703.972656\" xlink:href=\"#DejaVuSans-105\"/>\n       <use x=\"731.755859\" xlink:href=\"#DejaVuSans-116\"/>\n       <use x=\"770.964844\" xlink:href=\"#DejaVuSans-105\"/>\n       <use x=\"798.748047\" xlink:href=\"#DejaVuSans-111\"/>\n       <use x=\"859.929688\" xlink:href=\"#DejaVuSans-110\"/>\n       <use x=\"923.308594\" xlink:href=\"#DejaVuSans-95\"/>\n       <use x=\"973.308594\" xlink:href=\"#DejaVuSans-116\"/>\n       <use x=\"1012.517578\" xlink:href=\"#DejaVuSans-121\"/>\n       <use x=\"1071.697266\" xlink:href=\"#DejaVuSans-112\"/>\n       <use x=\"1135.173828\" xlink:href=\"#DejaVuSans-101\"/>\n      </g>\n     </g>\n    </g>\n    <g id=\"xtick_8\">\n     <g id=\"text_10\">\n      <!-- ua_agent_class -->\n      <g style=\"fill:#262626;\" transform=\"translate(535.038658 178.72466)rotate(-45)scale(0.16 -0.16)\">\n       <use xlink:href=\"#DejaVuSans-117\"/>\n       <use x=\"63.378906\" xlink:href=\"#DejaVuSans-97\"/>\n       <use x=\"124.658203\" xlink:href=\"#DejaVuSans-95\"/>\n       <use x=\"174.658203\" xlink:href=\"#DejaVuSans-97\"/>\n       <use x=\"235.9375\" xlink:href=\"#DejaVuSans-103\"/>\n       <use x=\"299.414062\" xlink:href=\"#DejaVuSans-101\"/>\n       <use x=\"360.9375\" xlink:href=\"#DejaVuSans-110\"/>\n       <use x=\"424.316406\" xlink:href=\"#DejaVuSans-116\"/>\n       <use x=\"463.525391\" xlink:href=\"#DejaVuSans-95\"/>\n       <use x=\"513.525391\" xlink:href=\"#DejaVuSans-99\"/>\n       <use x=\"568.505859\" xlink:href=\"#DejaVuSans-108\"/>\n       <use x=\"596.289062\" xlink:href=\"#DejaVuSans-97\"/>\n       <use x=\"657.568359\" xlink:href=\"#DejaVuSans-115\"/>\n       <use x=\"709.667969\" xlink:href=\"#DejaVuSans-115\"/>\n      </g>\n     </g>\n    </g>\n   </g>\n   <g id=\"matplotlib.axis_4\">\n    <g id=\"ytick_1\">\n     <g id=\"text_11\">\n      <!-- 1 -->\n      <defs>\n       <path d=\"M 12.40625 8.296875 \nL 28.515625 8.296875 \nL 28.515625 63.921875 \nL 10.984375 60.40625 \nL 10.984375 69.390625 \nL 28.421875 72.90625 \nL 38.28125 72.90625 \nL 38.28125 8.296875 \nL 54.390625 8.296875 \nL 54.390625 0 \nL 12.40625 0 \nz\n\" id=\"DejaVuSans-49\"/>\n      </defs>\n      <g style=\"fill:#262626;\" transform=\"translate(32.65 198.762458)scale(0.2 -0.2)\">\n       <use xlink:href=\"#DejaVuSans-49\"/>\n      </g>\n     </g>\n    </g>\n    <g id=\"ytick_2\">\n     <g id=\"text_12\">\n      <!-- 500 -->\n      <defs>\n       <path d=\"M 31.78125 66.40625 \nQ 24.171875 66.40625 20.328125 58.90625 \nQ 16.5 51.421875 16.5 36.375 \nQ 16.5 21.390625 20.328125 13.890625 \nQ 24.171875 6.390625 31.78125 6.390625 \nQ 39.453125 6.390625 43.28125 13.890625 \nQ 47.125 21.390625 47.125 36.375 \nQ 47.125 51.421875 43.28125 58.90625 \nQ 39.453125 66.40625 31.78125 66.40625 \nz\nM 31.78125 74.21875 \nQ 44.046875 74.21875 50.515625 64.515625 \nQ 56.984375 54.828125 56.984375 36.375 \nQ 56.984375 17.96875 50.515625 8.265625 \nQ 44.046875 -1.421875 31.78125 -1.421875 \nQ 19.53125 -1.421875 13.0625 8.265625 \nQ 6.59375 17.96875 6.59375 36.375 \nQ 6.59375 54.828125 13.0625 64.515625 \nQ 19.53125 74.21875 31.78125 74.21875 \nz\n\" id=\"DejaVuSans-48\"/>\n      </defs>\n      <g style=\"fill:#262626;\" transform=\"translate(7.2 470.018858)scale(0.2 -0.2)\">\n       <use xlink:href=\"#DejaVuSans-53\"/>\n       <use x=\"63.623047\" xlink:href=\"#DejaVuSans-48\"/>\n       <use x=\"127.246094\" xlink:href=\"#DejaVuSans-48\"/>\n      </g>\n     </g>\n    </g>\n   </g>\n   <g id=\"line2d_4\">\n    <path clip-path=\"url(#pf8c48dc9d1)\" d=\"M 117.750601 462.69222 \nL 117.750601 190.89222 \n\" style=\"fill:none;stroke:#ffffff;stroke-linecap:round;stroke-width:1.5;\"/>\n   </g>\n   <g id=\"line2d_5\">\n    <path clip-path=\"url(#pf8c48dc9d1)\" d=\"M 180.626202 462.69222 \nL 180.626202 190.89222 \n\" style=\"fill:none;stroke:#ffffff;stroke-linecap:round;stroke-width:1.5;\"/>\n   </g>\n   <g id=\"line2d_6\">\n    <path clip-path=\"url(#pf8c48dc9d1)\" d=\"M 243.501803 462.69222 \nL 243.501803 190.89222 \n\" style=\"fill:none;stroke:#ffffff;stroke-linecap:round;stroke-width:1.5;\"/>\n   </g>\n   <g id=\"line2d_7\">\n    <path clip-path=\"url(#pf8c48dc9d1)\" d=\"M 306.377404 462.69222 \nL 306.377404 190.89222 \n\" style=\"fill:none;stroke:#ffffff;stroke-linecap:round;stroke-width:1.5;\"/>\n   </g>\n   <g id=\"line2d_8\">\n    <path clip-path=\"url(#pf8c48dc9d1)\" d=\"M 369.253005 462.69222 \nL 369.253005 190.89222 \n\" style=\"fill:none;stroke:#ffffff;stroke-linecap:round;stroke-width:1.5;\"/>\n   </g>\n   <g id=\"line2d_9\">\n    <path clip-path=\"url(#pf8c48dc9d1)\" d=\"M 432.128606 462.69222 \nL 432.128606 190.89222 \n\" style=\"fill:none;stroke:#ffffff;stroke-linecap:round;stroke-width:1.5;\"/>\n   </g>\n   <g id=\"line2d_10\">\n    <path clip-path=\"url(#pf8c48dc9d1)\" d=\"M 495.004207 462.69222 \nL 495.004207 190.89222 \n\" style=\"fill:none;stroke:#ffffff;stroke-linecap:round;stroke-width:1.5;\"/>\n   </g>\n  </g>\n </g>\n <defs>\n  <clipPath id=\"p0cb2179a20\">\n   <rect height=\"271.8\" width=\"33.533654\" x=\"579.341346\" y=\"190.89222\"/>\n  </clipPath>\n  <clipPath id=\"pf8c48dc9d1\">\n   <rect height=\"271.8\" width=\"503.004808\" x=\"54.875\" y=\"190.89222\"/>\n  </clipPath>\n </defs>\n</svg>\n"
          },
          "metadata": {
            "tags": []
          }
        }
      ]
    },
    {
      "cell_type": "code",
      "metadata": {
        "id": "rkFSS0rpZ0pE",
        "colab_type": "code",
        "outputId": "28169e93-341a-41ad-ecef-154ba89979ba",
        "colab": {
          "base_uri": "https://localhost:8080/",
          "height": 722
        }
      },
      "source": [
        "msno.bar(df_bol.sample(500),\n",
        "            figsize=(12, 5),)"
      ],
      "execution_count": 0,
      "outputs": [
        {
          "output_type": "execute_result",
          "data": {
            "text/plain": [
              "<matplotlib.axes._subplots.AxesSubplot at 0x7f3f3e19cc88>"
            ]
          },
          "metadata": {
            "tags": []
          },
          "execution_count": 10
        },
        {
          "output_type": "display_data",
          "data": {
            "text/plain": [
              "<Figure size 864x360 with 3 Axes>"
            ],
            "image/svg+xml": "<?xml version=\"1.0\" encoding=\"utf-8\" standalone=\"no\"?>\n<!DOCTYPE svg PUBLIC \"-//W3C//DTD SVG 1.1//EN\"\n  \"http://www.w3.org/Graphics/SVG/1.1/DTD/svg11.dtd\">\n<!-- Created with matplotlib (https://matplotlib.org/) -->\n<svg height=\"511.93681pt\" version=\"1.1\" viewBox=\"0 0 758.985 511.93681\" width=\"758.985pt\" xmlns=\"http://www.w3.org/2000/svg\" xmlns:xlink=\"http://www.w3.org/1999/xlink\">\n <defs>\n  <style type=\"text/css\">\n*{stroke-linecap:butt;stroke-linejoin:round;}\n  </style>\n </defs>\n <g id=\"figure_1\">\n  <g id=\"patch_1\">\n   <path d=\"M 0 511.93681 \nL 758.985 511.93681 \nL 758.985 0 \nL 0 0 \nz\n\" style=\"fill:none;\"/>\n  </g>\n  <g id=\"axes_1\">\n   <g id=\"patch_2\">\n    <path d=\"M 42.145 321.04459 \nL 711.745 321.04459 \nL 711.745 49.24459 \nL 42.145 49.24459 \nz\n\" style=\"fill:#eaeaf2;\"/>\n   </g>\n   <g id=\"matplotlib.axis_1\">\n    <g id=\"xtick_1\">\n     <g id=\"line2d_1\">\n      <path clip-path=\"url(#ped59f30cdb)\" d=\"M 83.995 321.04459 \nL 83.995 49.24459 \n\" style=\"fill:none;stroke:#ffffff;stroke-linecap:round;\"/>\n     </g>\n     <g id=\"text_1\">\n      <!-- epoch_ms -->\n      <defs>\n       <path d=\"M 56.203125 29.59375 \nL 56.203125 25.203125 \nL 14.890625 25.203125 \nQ 15.484375 15.921875 20.484375 11.0625 \nQ 25.484375 6.203125 34.421875 6.203125 \nQ 39.59375 6.203125 44.453125 7.46875 \nQ 49.3125 8.734375 54.109375 11.28125 \nL 54.109375 2.78125 \nQ 49.265625 0.734375 44.1875 -0.34375 \nQ 39.109375 -1.421875 33.890625 -1.421875 \nQ 20.796875 -1.421875 13.15625 6.1875 \nQ 5.515625 13.8125 5.515625 26.8125 \nQ 5.515625 40.234375 12.765625 48.109375 \nQ 20.015625 56 32.328125 56 \nQ 43.359375 56 49.78125 48.890625 \nQ 56.203125 41.796875 56.203125 29.59375 \nz\nM 47.21875 32.234375 \nQ 47.125 39.59375 43.09375 43.984375 \nQ 39.0625 48.390625 32.421875 48.390625 \nQ 24.90625 48.390625 20.390625 44.140625 \nQ 15.875 39.890625 15.1875 32.171875 \nz\n\" id=\"DejaVuSans-101\"/>\n       <path d=\"M 18.109375 8.203125 \nL 18.109375 -20.796875 \nL 9.078125 -20.796875 \nL 9.078125 54.6875 \nL 18.109375 54.6875 \nL 18.109375 46.390625 \nQ 20.953125 51.265625 25.265625 53.625 \nQ 29.59375 56 35.59375 56 \nQ 45.5625 56 51.78125 48.09375 \nQ 58.015625 40.1875 58.015625 27.296875 \nQ 58.015625 14.40625 51.78125 6.484375 \nQ 45.5625 -1.421875 35.59375 -1.421875 \nQ 29.59375 -1.421875 25.265625 0.953125 \nQ 20.953125 3.328125 18.109375 8.203125 \nz\nM 48.6875 27.296875 \nQ 48.6875 37.203125 44.609375 42.84375 \nQ 40.53125 48.484375 33.40625 48.484375 \nQ 26.265625 48.484375 22.1875 42.84375 \nQ 18.109375 37.203125 18.109375 27.296875 \nQ 18.109375 17.390625 22.1875 11.75 \nQ 26.265625 6.109375 33.40625 6.109375 \nQ 40.53125 6.109375 44.609375 11.75 \nQ 48.6875 17.390625 48.6875 27.296875 \nz\n\" id=\"DejaVuSans-112\"/>\n       <path d=\"M 30.609375 48.390625 \nQ 23.390625 48.390625 19.1875 42.75 \nQ 14.984375 37.109375 14.984375 27.296875 \nQ 14.984375 17.484375 19.15625 11.84375 \nQ 23.34375 6.203125 30.609375 6.203125 \nQ 37.796875 6.203125 41.984375 11.859375 \nQ 46.1875 17.53125 46.1875 27.296875 \nQ 46.1875 37.015625 41.984375 42.703125 \nQ 37.796875 48.390625 30.609375 48.390625 \nz\nM 30.609375 56 \nQ 42.328125 56 49.015625 48.375 \nQ 55.71875 40.765625 55.71875 27.296875 \nQ 55.71875 13.875 49.015625 6.21875 \nQ 42.328125 -1.421875 30.609375 -1.421875 \nQ 18.84375 -1.421875 12.171875 6.21875 \nQ 5.515625 13.875 5.515625 27.296875 \nQ 5.515625 40.765625 12.171875 48.375 \nQ 18.84375 56 30.609375 56 \nz\n\" id=\"DejaVuSans-111\"/>\n       <path d=\"M 48.78125 52.59375 \nL 48.78125 44.1875 \nQ 44.96875 46.296875 41.140625 47.34375 \nQ 37.3125 48.390625 33.40625 48.390625 \nQ 24.65625 48.390625 19.8125 42.84375 \nQ 14.984375 37.3125 14.984375 27.296875 \nQ 14.984375 17.28125 19.8125 11.734375 \nQ 24.65625 6.203125 33.40625 6.203125 \nQ 37.3125 6.203125 41.140625 7.25 \nQ 44.96875 8.296875 48.78125 10.40625 \nL 48.78125 2.09375 \nQ 45.015625 0.34375 40.984375 -0.53125 \nQ 36.96875 -1.421875 32.421875 -1.421875 \nQ 20.0625 -1.421875 12.78125 6.34375 \nQ 5.515625 14.109375 5.515625 27.296875 \nQ 5.515625 40.671875 12.859375 48.328125 \nQ 20.21875 56 33.015625 56 \nQ 37.15625 56 41.109375 55.140625 \nQ 45.0625 54.296875 48.78125 52.59375 \nz\n\" id=\"DejaVuSans-99\"/>\n       <path d=\"M 54.890625 33.015625 \nL 54.890625 0 \nL 45.90625 0 \nL 45.90625 32.71875 \nQ 45.90625 40.484375 42.875 44.328125 \nQ 39.84375 48.1875 33.796875 48.1875 \nQ 26.515625 48.1875 22.3125 43.546875 \nQ 18.109375 38.921875 18.109375 30.90625 \nL 18.109375 0 \nL 9.078125 0 \nL 9.078125 75.984375 \nL 18.109375 75.984375 \nL 18.109375 46.1875 \nQ 21.34375 51.125 25.703125 53.5625 \nQ 30.078125 56 35.796875 56 \nQ 45.21875 56 50.046875 50.171875 \nQ 54.890625 44.34375 54.890625 33.015625 \nz\n\" id=\"DejaVuSans-104\"/>\n       <path d=\"M 50.984375 -16.609375 \nL 50.984375 -23.578125 \nL -0.984375 -23.578125 \nL -0.984375 -16.609375 \nz\n\" id=\"DejaVuSans-95\"/>\n       <path d=\"M 52 44.1875 \nQ 55.375 50.25 60.0625 53.125 \nQ 64.75 56 71.09375 56 \nQ 79.640625 56 84.28125 50.015625 \nQ 88.921875 44.046875 88.921875 33.015625 \nL 88.921875 0 \nL 79.890625 0 \nL 79.890625 32.71875 \nQ 79.890625 40.578125 77.09375 44.375 \nQ 74.3125 48.1875 68.609375 48.1875 \nQ 61.625 48.1875 57.5625 43.546875 \nQ 53.515625 38.921875 53.515625 30.90625 \nL 53.515625 0 \nL 44.484375 0 \nL 44.484375 32.71875 \nQ 44.484375 40.625 41.703125 44.40625 \nQ 38.921875 48.1875 33.109375 48.1875 \nQ 26.21875 48.1875 22.15625 43.53125 \nQ 18.109375 38.875 18.109375 30.90625 \nL 18.109375 0 \nL 9.078125 0 \nL 9.078125 54.6875 \nL 18.109375 54.6875 \nL 18.109375 46.1875 \nQ 21.1875 51.21875 25.484375 53.609375 \nQ 29.78125 56 35.6875 56 \nQ 41.65625 56 45.828125 52.96875 \nQ 50 49.953125 52 44.1875 \nz\n\" id=\"DejaVuSans-109\"/>\n       <path d=\"M 44.28125 53.078125 \nL 44.28125 44.578125 \nQ 40.484375 46.53125 36.375 47.5 \nQ 32.28125 48.484375 27.875 48.484375 \nQ 21.1875 48.484375 17.84375 46.4375 \nQ 14.5 44.390625 14.5 40.28125 \nQ 14.5 37.15625 16.890625 35.375 \nQ 19.28125 33.59375 26.515625 31.984375 \nL 29.59375 31.296875 \nQ 39.15625 29.25 43.1875 25.515625 \nQ 47.21875 21.78125 47.21875 15.09375 \nQ 47.21875 7.46875 41.1875 3.015625 \nQ 35.15625 -1.421875 24.609375 -1.421875 \nQ 20.21875 -1.421875 15.453125 -0.5625 \nQ 10.6875 0.296875 5.421875 2 \nL 5.421875 11.28125 \nQ 10.40625 8.6875 15.234375 7.390625 \nQ 20.0625 6.109375 24.8125 6.109375 \nQ 31.15625 6.109375 34.5625 8.28125 \nQ 37.984375 10.453125 37.984375 14.40625 \nQ 37.984375 18.0625 35.515625 20.015625 \nQ 33.0625 21.96875 24.703125 23.78125 \nL 21.578125 24.515625 \nQ 13.234375 26.265625 9.515625 29.90625 \nQ 5.8125 33.546875 5.8125 39.890625 \nQ 5.8125 47.609375 11.28125 51.796875 \nQ 16.75 56 26.8125 56 \nQ 31.78125 56 36.171875 55.265625 \nQ 40.578125 54.546875 44.28125 53.078125 \nz\n\" id=\"DejaVuSans-115\"/>\n      </defs>\n      <g style=\"fill:#262626;\" transform=\"translate(24.299278 396.169402)rotate(-45)scale(0.16 -0.16)\">\n       <use xlink:href=\"#DejaVuSans-101\"/>\n       <use x=\"61.523438\" xlink:href=\"#DejaVuSans-112\"/>\n       <use x=\"125\" xlink:href=\"#DejaVuSans-111\"/>\n       <use x=\"186.181641\" xlink:href=\"#DejaVuSans-99\"/>\n       <use x=\"241.162109\" xlink:href=\"#DejaVuSans-104\"/>\n       <use x=\"304.541016\" xlink:href=\"#DejaVuSans-95\"/>\n       <use x=\"354.541016\" xlink:href=\"#DejaVuSans-109\"/>\n       <use x=\"451.953125\" xlink:href=\"#DejaVuSans-115\"/>\n      </g>\n     </g>\n    </g>\n    <g id=\"xtick_2\">\n     <g id=\"line2d_2\">\n      <path clip-path=\"url(#ped59f30cdb)\" d=\"M 167.695 321.04459 \nL 167.695 49.24459 \n\" style=\"fill:none;stroke:#ffffff;stroke-linecap:round;\"/>\n     </g>\n     <g id=\"text_2\">\n      <!-- session_id -->\n      <defs>\n       <path d=\"M 9.421875 54.6875 \nL 18.40625 54.6875 \nL 18.40625 0 \nL 9.421875 0 \nz\nM 9.421875 75.984375 \nL 18.40625 75.984375 \nL 18.40625 64.59375 \nL 9.421875 64.59375 \nz\n\" id=\"DejaVuSans-105\"/>\n       <path d=\"M 54.890625 33.015625 \nL 54.890625 0 \nL 45.90625 0 \nL 45.90625 32.71875 \nQ 45.90625 40.484375 42.875 44.328125 \nQ 39.84375 48.1875 33.796875 48.1875 \nQ 26.515625 48.1875 22.3125 43.546875 \nQ 18.109375 38.921875 18.109375 30.90625 \nL 18.109375 0 \nL 9.078125 0 \nL 9.078125 54.6875 \nL 18.109375 54.6875 \nL 18.109375 46.1875 \nQ 21.34375 51.125 25.703125 53.5625 \nQ 30.078125 56 35.796875 56 \nQ 45.21875 56 50.046875 50.171875 \nQ 54.890625 44.34375 54.890625 33.015625 \nz\n\" id=\"DejaVuSans-110\"/>\n       <path d=\"M 45.40625 46.390625 \nL 45.40625 75.984375 \nL 54.390625 75.984375 \nL 54.390625 0 \nL 45.40625 0 \nL 45.40625 8.203125 \nQ 42.578125 3.328125 38.25 0.953125 \nQ 33.9375 -1.421875 27.875 -1.421875 \nQ 17.96875 -1.421875 11.734375 6.484375 \nQ 5.515625 14.40625 5.515625 27.296875 \nQ 5.515625 40.1875 11.734375 48.09375 \nQ 17.96875 56 27.875 56 \nQ 33.9375 56 38.25 53.625 \nQ 42.578125 51.265625 45.40625 46.390625 \nz\nM 14.796875 27.296875 \nQ 14.796875 17.390625 18.875 11.75 \nQ 22.953125 6.109375 30.078125 6.109375 \nQ 37.203125 6.109375 41.296875 11.75 \nQ 45.40625 17.390625 45.40625 27.296875 \nQ 45.40625 37.203125 41.296875 42.84375 \nQ 37.203125 48.484375 30.078125 48.484375 \nQ 22.953125 48.484375 18.875 42.84375 \nQ 14.796875 37.203125 14.796875 27.296875 \nz\n\" id=\"DejaVuSans-100\"/>\n      </defs>\n      <g style=\"fill:#262626;\" transform=\"translate(107.16666 397.00202)rotate(-45)scale(0.16 -0.16)\">\n       <use xlink:href=\"#DejaVuSans-115\"/>\n       <use x=\"52.099609\" xlink:href=\"#DejaVuSans-101\"/>\n       <use x=\"113.623047\" xlink:href=\"#DejaVuSans-115\"/>\n       <use x=\"165.722656\" xlink:href=\"#DejaVuSans-115\"/>\n       <use x=\"217.822266\" xlink:href=\"#DejaVuSans-105\"/>\n       <use x=\"245.605469\" xlink:href=\"#DejaVuSans-111\"/>\n       <use x=\"306.787109\" xlink:href=\"#DejaVuSans-110\"/>\n       <use x=\"370.166016\" xlink:href=\"#DejaVuSans-95\"/>\n       <use x=\"420.166016\" xlink:href=\"#DejaVuSans-105\"/>\n       <use x=\"447.949219\" xlink:href=\"#DejaVuSans-100\"/>\n      </g>\n     </g>\n    </g>\n    <g id=\"xtick_3\">\n     <g id=\"line2d_3\">\n      <path clip-path=\"url(#ped59f30cdb)\" d=\"M 251.395 321.04459 \nL 251.395 49.24459 \n\" style=\"fill:none;stroke:#ffffff;stroke-linecap:round;\"/>\n     </g>\n     <g id=\"text_3\">\n      <!-- country_by_ip_address -->\n      <defs>\n       <path d=\"M 8.5 21.578125 \nL 8.5 54.6875 \nL 17.484375 54.6875 \nL 17.484375 21.921875 \nQ 17.484375 14.15625 20.5 10.265625 \nQ 23.53125 6.390625 29.59375 6.390625 \nQ 36.859375 6.390625 41.078125 11.03125 \nQ 45.3125 15.671875 45.3125 23.6875 \nL 45.3125 54.6875 \nL 54.296875 54.6875 \nL 54.296875 0 \nL 45.3125 0 \nL 45.3125 8.40625 \nQ 42.046875 3.421875 37.71875 1 \nQ 33.40625 -1.421875 27.6875 -1.421875 \nQ 18.265625 -1.421875 13.375 4.4375 \nQ 8.5 10.296875 8.5 21.578125 \nz\nM 31.109375 56 \nz\n\" id=\"DejaVuSans-117\"/>\n       <path d=\"M 18.3125 70.21875 \nL 18.3125 54.6875 \nL 36.8125 54.6875 \nL 36.8125 47.703125 \nL 18.3125 47.703125 \nL 18.3125 18.015625 \nQ 18.3125 11.328125 20.140625 9.421875 \nQ 21.96875 7.515625 27.59375 7.515625 \nL 36.8125 7.515625 \nL 36.8125 0 \nL 27.59375 0 \nQ 17.1875 0 13.234375 3.875 \nQ 9.28125 7.765625 9.28125 18.015625 \nL 9.28125 47.703125 \nL 2.6875 47.703125 \nL 2.6875 54.6875 \nL 9.28125 54.6875 \nL 9.28125 70.21875 \nz\n\" id=\"DejaVuSans-116\"/>\n       <path d=\"M 41.109375 46.296875 \nQ 39.59375 47.171875 37.8125 47.578125 \nQ 36.03125 48 33.890625 48 \nQ 26.265625 48 22.1875 43.046875 \nQ 18.109375 38.09375 18.109375 28.8125 \nL 18.109375 0 \nL 9.078125 0 \nL 9.078125 54.6875 \nL 18.109375 54.6875 \nL 18.109375 46.1875 \nQ 20.953125 51.171875 25.484375 53.578125 \nQ 30.03125 56 36.53125 56 \nQ 37.453125 56 38.578125 55.875 \nQ 39.703125 55.765625 41.0625 55.515625 \nz\n\" id=\"DejaVuSans-114\"/>\n       <path d=\"M 32.171875 -5.078125 \nQ 28.375 -14.84375 24.75 -17.8125 \nQ 21.140625 -20.796875 15.09375 -20.796875 \nL 7.90625 -20.796875 \nL 7.90625 -13.28125 \nL 13.1875 -13.28125 \nQ 16.890625 -13.28125 18.9375 -11.515625 \nQ 21 -9.765625 23.484375 -3.21875 \nL 25.09375 0.875 \nL 2.984375 54.6875 \nL 12.5 54.6875 \nL 29.59375 11.921875 \nL 46.6875 54.6875 \nL 56.203125 54.6875 \nz\n\" id=\"DejaVuSans-121\"/>\n       <path d=\"M 48.6875 27.296875 \nQ 48.6875 37.203125 44.609375 42.84375 \nQ 40.53125 48.484375 33.40625 48.484375 \nQ 26.265625 48.484375 22.1875 42.84375 \nQ 18.109375 37.203125 18.109375 27.296875 \nQ 18.109375 17.390625 22.1875 11.75 \nQ 26.265625 6.109375 33.40625 6.109375 \nQ 40.53125 6.109375 44.609375 11.75 \nQ 48.6875 17.390625 48.6875 27.296875 \nz\nM 18.109375 46.390625 \nQ 20.953125 51.265625 25.265625 53.625 \nQ 29.59375 56 35.59375 56 \nQ 45.5625 56 51.78125 48.09375 \nQ 58.015625 40.1875 58.015625 27.296875 \nQ 58.015625 14.40625 51.78125 6.484375 \nQ 45.5625 -1.421875 35.59375 -1.421875 \nQ 29.59375 -1.421875 25.265625 0.953125 \nQ 20.953125 3.328125 18.109375 8.203125 \nL 18.109375 0 \nL 9.078125 0 \nL 9.078125 75.984375 \nL 18.109375 75.984375 \nz\n\" id=\"DejaVuSans-98\"/>\n       <path d=\"M 34.28125 27.484375 \nQ 23.390625 27.484375 19.1875 25 \nQ 14.984375 22.515625 14.984375 16.5 \nQ 14.984375 11.71875 18.140625 8.90625 \nQ 21.296875 6.109375 26.703125 6.109375 \nQ 34.1875 6.109375 38.703125 11.40625 \nQ 43.21875 16.703125 43.21875 25.484375 \nL 43.21875 27.484375 \nz\nM 52.203125 31.203125 \nL 52.203125 0 \nL 43.21875 0 \nL 43.21875 8.296875 \nQ 40.140625 3.328125 35.546875 0.953125 \nQ 30.953125 -1.421875 24.3125 -1.421875 \nQ 15.921875 -1.421875 10.953125 3.296875 \nQ 6 8.015625 6 15.921875 \nQ 6 25.140625 12.171875 29.828125 \nQ 18.359375 34.515625 30.609375 34.515625 \nL 43.21875 34.515625 \nL 43.21875 35.40625 \nQ 43.21875 41.609375 39.140625 45 \nQ 35.0625 48.390625 27.6875 48.390625 \nQ 23 48.390625 18.546875 47.265625 \nQ 14.109375 46.140625 10.015625 43.890625 \nL 10.015625 52.203125 \nQ 14.9375 54.109375 19.578125 55.046875 \nQ 24.21875 56 28.609375 56 \nQ 40.484375 56 46.34375 49.84375 \nQ 52.203125 43.703125 52.203125 31.203125 \nz\n\" id=\"DejaVuSans-97\"/>\n      </defs>\n      <g style=\"fill:#262626;\" transform=\"translate(119.592064 468.276616)rotate(-45)scale(0.16 -0.16)\">\n       <use xlink:href=\"#DejaVuSans-99\"/>\n       <use x=\"54.980469\" xlink:href=\"#DejaVuSans-111\"/>\n       <use x=\"116.162109\" xlink:href=\"#DejaVuSans-117\"/>\n       <use x=\"179.541016\" xlink:href=\"#DejaVuSans-110\"/>\n       <use x=\"242.919922\" xlink:href=\"#DejaVuSans-116\"/>\n       <use x=\"282.128906\" xlink:href=\"#DejaVuSans-114\"/>\n       <use x=\"323.242188\" xlink:href=\"#DejaVuSans-121\"/>\n       <use x=\"382.421875\" xlink:href=\"#DejaVuSans-95\"/>\n       <use x=\"432.421875\" xlink:href=\"#DejaVuSans-98\"/>\n       <use x=\"495.898438\" xlink:href=\"#DejaVuSans-121\"/>\n       <use x=\"555.078125\" xlink:href=\"#DejaVuSans-95\"/>\n       <use x=\"605.078125\" xlink:href=\"#DejaVuSans-105\"/>\n       <use x=\"632.861328\" xlink:href=\"#DejaVuSans-112\"/>\n       <use x=\"696.337891\" xlink:href=\"#DejaVuSans-95\"/>\n       <use x=\"746.337891\" xlink:href=\"#DejaVuSans-97\"/>\n       <use x=\"807.617188\" xlink:href=\"#DejaVuSans-100\"/>\n       <use x=\"871.09375\" xlink:href=\"#DejaVuSans-100\"/>\n       <use x=\"934.570312\" xlink:href=\"#DejaVuSans-114\"/>\n       <use x=\"975.652344\" xlink:href=\"#DejaVuSans-101\"/>\n       <use x=\"1037.175781\" xlink:href=\"#DejaVuSans-115\"/>\n       <use x=\"1089.275391\" xlink:href=\"#DejaVuSans-115\"/>\n      </g>\n     </g>\n    </g>\n    <g id=\"xtick_4\">\n     <g id=\"line2d_4\">\n      <path clip-path=\"url(#ped59f30cdb)\" d=\"M 335.095 321.04459 \nL 335.095 49.24459 \n\" style=\"fill:none;stroke:#ffffff;stroke-linecap:round;\"/>\n     </g>\n     <g id=\"text_4\">\n      <!-- region_by_ip_address -->\n      <defs>\n       <path d=\"M 45.40625 27.984375 \nQ 45.40625 37.75 41.375 43.109375 \nQ 37.359375 48.484375 30.078125 48.484375 \nQ 22.859375 48.484375 18.828125 43.109375 \nQ 14.796875 37.75 14.796875 27.984375 \nQ 14.796875 18.265625 18.828125 12.890625 \nQ 22.859375 7.515625 30.078125 7.515625 \nQ 37.359375 7.515625 41.375 12.890625 \nQ 45.40625 18.265625 45.40625 27.984375 \nz\nM 54.390625 6.78125 \nQ 54.390625 -7.171875 48.1875 -13.984375 \nQ 42 -20.796875 29.203125 -20.796875 \nQ 24.46875 -20.796875 20.265625 -20.09375 \nQ 16.0625 -19.390625 12.109375 -17.921875 \nL 12.109375 -9.1875 \nQ 16.0625 -11.328125 19.921875 -12.34375 \nQ 23.78125 -13.375 27.78125 -13.375 \nQ 36.625 -13.375 41.015625 -8.765625 \nQ 45.40625 -4.15625 45.40625 5.171875 \nL 45.40625 9.625 \nQ 42.625 4.78125 38.28125 2.390625 \nQ 33.9375 0 27.875 0 \nQ 17.828125 0 11.671875 7.65625 \nQ 5.515625 15.328125 5.515625 27.984375 \nQ 5.515625 40.671875 11.671875 48.328125 \nQ 17.828125 56 27.875 56 \nQ 33.9375 56 38.28125 53.609375 \nQ 42.625 51.21875 45.40625 46.390625 \nL 45.40625 54.6875 \nL 54.390625 54.6875 \nz\n\" id=\"DejaVuSans-103\"/>\n      </defs>\n      <g style=\"fill:#262626;\" transform=\"translate(210.531069 461.037611)rotate(-45)scale(0.16 -0.16)\">\n       <use xlink:href=\"#DejaVuSans-114\"/>\n       <use x=\"41.082031\" xlink:href=\"#DejaVuSans-101\"/>\n       <use x=\"102.605469\" xlink:href=\"#DejaVuSans-103\"/>\n       <use x=\"166.082031\" xlink:href=\"#DejaVuSans-105\"/>\n       <use x=\"193.865234\" xlink:href=\"#DejaVuSans-111\"/>\n       <use x=\"255.046875\" xlink:href=\"#DejaVuSans-110\"/>\n       <use x=\"318.425781\" xlink:href=\"#DejaVuSans-95\"/>\n       <use x=\"368.425781\" xlink:href=\"#DejaVuSans-98\"/>\n       <use x=\"431.902344\" xlink:href=\"#DejaVuSans-121\"/>\n       <use x=\"491.082031\" xlink:href=\"#DejaVuSans-95\"/>\n       <use x=\"541.082031\" xlink:href=\"#DejaVuSans-105\"/>\n       <use x=\"568.865234\" xlink:href=\"#DejaVuSans-112\"/>\n       <use x=\"632.341797\" xlink:href=\"#DejaVuSans-95\"/>\n       <use x=\"682.341797\" xlink:href=\"#DejaVuSans-97\"/>\n       <use x=\"743.621094\" xlink:href=\"#DejaVuSans-100\"/>\n       <use x=\"807.097656\" xlink:href=\"#DejaVuSans-100\"/>\n       <use x=\"870.574219\" xlink:href=\"#DejaVuSans-114\"/>\n       <use x=\"911.65625\" xlink:href=\"#DejaVuSans-101\"/>\n       <use x=\"973.179688\" xlink:href=\"#DejaVuSans-115\"/>\n       <use x=\"1025.279297\" xlink:href=\"#DejaVuSans-115\"/>\n      </g>\n     </g>\n    </g>\n    <g id=\"xtick_5\">\n     <g id=\"line2d_5\">\n      <path clip-path=\"url(#ped59f30cdb)\" d=\"M 418.795 321.04459 \nL 418.795 49.24459 \n\" style=\"fill:none;stroke:#ffffff;stroke-linecap:round;\"/>\n     </g>\n     <g id=\"text_5\">\n      <!-- url_without_parameters -->\n      <defs>\n       <path d=\"M 9.421875 75.984375 \nL 18.40625 75.984375 \nL 18.40625 0 \nL 9.421875 0 \nz\n\" id=\"DejaVuSans-108\"/>\n       <path d=\"M 4.203125 54.6875 \nL 13.1875 54.6875 \nL 24.421875 12.015625 \nL 35.59375 54.6875 \nL 46.1875 54.6875 \nL 57.421875 12.015625 \nL 68.609375 54.6875 \nL 77.59375 54.6875 \nL 63.28125 0 \nL 52.6875 0 \nL 40.921875 44.828125 \nL 29.109375 0 \nL 18.5 0 \nz\n\" id=\"DejaVuSans-119\"/>\n      </defs>\n      <g style=\"fill:#262626;\" transform=\"translate(281.697602 473.571078)rotate(-45)scale(0.16 -0.16)\">\n       <use xlink:href=\"#DejaVuSans-117\"/>\n       <use x=\"63.378906\" xlink:href=\"#DejaVuSans-114\"/>\n       <use x=\"104.492188\" xlink:href=\"#DejaVuSans-108\"/>\n       <use x=\"132.275391\" xlink:href=\"#DejaVuSans-95\"/>\n       <use x=\"182.275391\" xlink:href=\"#DejaVuSans-119\"/>\n       <use x=\"264.0625\" xlink:href=\"#DejaVuSans-105\"/>\n       <use x=\"291.845703\" xlink:href=\"#DejaVuSans-116\"/>\n       <use x=\"331.054688\" xlink:href=\"#DejaVuSans-104\"/>\n       <use x=\"394.433594\" xlink:href=\"#DejaVuSans-111\"/>\n       <use x=\"455.615234\" xlink:href=\"#DejaVuSans-117\"/>\n       <use x=\"518.994141\" xlink:href=\"#DejaVuSans-116\"/>\n       <use x=\"558.203125\" xlink:href=\"#DejaVuSans-95\"/>\n       <use x=\"608.203125\" xlink:href=\"#DejaVuSans-112\"/>\n       <use x=\"671.679688\" xlink:href=\"#DejaVuSans-97\"/>\n       <use x=\"732.958984\" xlink:href=\"#DejaVuSans-114\"/>\n       <use x=\"774.072266\" xlink:href=\"#DejaVuSans-97\"/>\n       <use x=\"835.351562\" xlink:href=\"#DejaVuSans-109\"/>\n       <use x=\"932.763672\" xlink:href=\"#DejaVuSans-101\"/>\n       <use x=\"994.287109\" xlink:href=\"#DejaVuSans-116\"/>\n       <use x=\"1033.496094\" xlink:href=\"#DejaVuSans-101\"/>\n       <use x=\"1095.019531\" xlink:href=\"#DejaVuSans-114\"/>\n       <use x=\"1136.132812\" xlink:href=\"#DejaVuSans-115\"/>\n      </g>\n     </g>\n    </g>\n    <g id=\"xtick_6\">\n     <g id=\"line2d_6\">\n      <path clip-path=\"url(#ped59f30cdb)\" d=\"M 502.495 321.04459 \nL 502.495 49.24459 \n\" style=\"fill:none;stroke:#ffffff;stroke-linecap:round;\"/>\n     </g>\n     <g id=\"text_6\">\n      <!-- referrer_without_parameters -->\n      <defs>\n       <path d=\"M 37.109375 75.984375 \nL 37.109375 68.5 \nL 28.515625 68.5 \nQ 23.6875 68.5 21.796875 66.546875 \nQ 19.921875 64.59375 19.921875 59.515625 \nL 19.921875 54.6875 \nL 34.71875 54.6875 \nL 34.71875 47.703125 \nL 19.921875 47.703125 \nL 19.921875 0 \nL 10.890625 0 \nL 10.890625 47.703125 \nL 2.296875 47.703125 \nL 2.296875 54.6875 \nL 10.890625 54.6875 \nL 10.890625 58.5 \nQ 10.890625 67.625 15.140625 71.796875 \nQ 19.390625 75.984375 28.609375 75.984375 \nz\n\" id=\"DejaVuSans-102\"/>\n      </defs>\n      <g style=\"fill:#262626;\" transform=\"translate(336.899431 502.069249)rotate(-45)scale(0.16 -0.16)\">\n       <use xlink:href=\"#DejaVuSans-114\"/>\n       <use x=\"41.082031\" xlink:href=\"#DejaVuSans-101\"/>\n       <use x=\"102.605469\" xlink:href=\"#DejaVuSans-102\"/>\n       <use x=\"137.810547\" xlink:href=\"#DejaVuSans-101\"/>\n       <use x=\"199.333984\" xlink:href=\"#DejaVuSans-114\"/>\n       <use x=\"240.431641\" xlink:href=\"#DejaVuSans-114\"/>\n       <use x=\"281.513672\" xlink:href=\"#DejaVuSans-101\"/>\n       <use x=\"343.037109\" xlink:href=\"#DejaVuSans-114\"/>\n       <use x=\"384.150391\" xlink:href=\"#DejaVuSans-95\"/>\n       <use x=\"434.150391\" xlink:href=\"#DejaVuSans-119\"/>\n       <use x=\"515.9375\" xlink:href=\"#DejaVuSans-105\"/>\n       <use x=\"543.720703\" xlink:href=\"#DejaVuSans-116\"/>\n       <use x=\"582.929688\" xlink:href=\"#DejaVuSans-104\"/>\n       <use x=\"646.308594\" xlink:href=\"#DejaVuSans-111\"/>\n       <use x=\"707.490234\" xlink:href=\"#DejaVuSans-117\"/>\n       <use x=\"770.869141\" xlink:href=\"#DejaVuSans-116\"/>\n       <use x=\"810.078125\" xlink:href=\"#DejaVuSans-95\"/>\n       <use x=\"860.078125\" xlink:href=\"#DejaVuSans-112\"/>\n       <use x=\"923.554688\" xlink:href=\"#DejaVuSans-97\"/>\n       <use x=\"984.833984\" xlink:href=\"#DejaVuSans-114\"/>\n       <use x=\"1025.947266\" xlink:href=\"#DejaVuSans-97\"/>\n       <use x=\"1087.226562\" xlink:href=\"#DejaVuSans-109\"/>\n       <use x=\"1184.638672\" xlink:href=\"#DejaVuSans-101\"/>\n       <use x=\"1246.162109\" xlink:href=\"#DejaVuSans-116\"/>\n       <use x=\"1285.371094\" xlink:href=\"#DejaVuSans-101\"/>\n       <use x=\"1346.894531\" xlink:href=\"#DejaVuSans-114\"/>\n       <use x=\"1388.007812\" xlink:href=\"#DejaVuSans-115\"/>\n      </g>\n     </g>\n    </g>\n    <g id=\"xtick_7\">\n     <g id=\"line2d_7\">\n      <path clip-path=\"url(#ped59f30cdb)\" d=\"M 586.195 321.04459 \nL 586.195 49.24459 \n\" style=\"fill:none;stroke:#ffffff;stroke-linecap:round;\"/>\n     </g>\n     <g id=\"text_7\">\n      <!-- visitor_recognition_type -->\n      <defs>\n       <path d=\"M 2.984375 54.6875 \nL 12.5 54.6875 \nL 29.59375 8.796875 \nL 46.6875 54.6875 \nL 56.203125 54.6875 \nL 35.6875 0 \nL 23.484375 0 \nz\n\" id=\"DejaVuSans-118\"/>\n      </defs>\n      <g style=\"fill:#262626;\" transform=\"translate(448.134169 474.534511)rotate(-45)scale(0.16 -0.16)\">\n       <use xlink:href=\"#DejaVuSans-118\"/>\n       <use x=\"59.179688\" xlink:href=\"#DejaVuSans-105\"/>\n       <use x=\"86.962891\" xlink:href=\"#DejaVuSans-115\"/>\n       <use x=\"139.0625\" xlink:href=\"#DejaVuSans-105\"/>\n       <use x=\"166.845703\" xlink:href=\"#DejaVuSans-116\"/>\n       <use x=\"206.054688\" xlink:href=\"#DejaVuSans-111\"/>\n       <use x=\"267.236328\" xlink:href=\"#DejaVuSans-114\"/>\n       <use x=\"308.349609\" xlink:href=\"#DejaVuSans-95\"/>\n       <use x=\"358.349609\" xlink:href=\"#DejaVuSans-114\"/>\n       <use x=\"399.431641\" xlink:href=\"#DejaVuSans-101\"/>\n       <use x=\"460.955078\" xlink:href=\"#DejaVuSans-99\"/>\n       <use x=\"515.935547\" xlink:href=\"#DejaVuSans-111\"/>\n       <use x=\"577.117188\" xlink:href=\"#DejaVuSans-103\"/>\n       <use x=\"640.59375\" xlink:href=\"#DejaVuSans-110\"/>\n       <use x=\"703.972656\" xlink:href=\"#DejaVuSans-105\"/>\n       <use x=\"731.755859\" xlink:href=\"#DejaVuSans-116\"/>\n       <use x=\"770.964844\" xlink:href=\"#DejaVuSans-105\"/>\n       <use x=\"798.748047\" xlink:href=\"#DejaVuSans-111\"/>\n       <use x=\"859.929688\" xlink:href=\"#DejaVuSans-110\"/>\n       <use x=\"923.308594\" xlink:href=\"#DejaVuSans-95\"/>\n       <use x=\"973.308594\" xlink:href=\"#DejaVuSans-116\"/>\n       <use x=\"1012.517578\" xlink:href=\"#DejaVuSans-121\"/>\n       <use x=\"1071.697266\" xlink:href=\"#DejaVuSans-112\"/>\n       <use x=\"1135.173828\" xlink:href=\"#DejaVuSans-101\"/>\n      </g>\n     </g>\n    </g>\n    <g id=\"xtick_8\">\n     <g id=\"line2d_8\">\n      <path clip-path=\"url(#ped59f30cdb)\" d=\"M 669.895 321.04459 \nL 669.895 49.24459 \n\" style=\"fill:none;stroke:#ffffff;stroke-linecap:round;\"/>\n     </g>\n     <g id=\"text_8\">\n      <!-- ua_agent_class -->\n      <g style=\"fill:#262626;\" transform=\"translate(581.043497 425.325183)rotate(-45)scale(0.16 -0.16)\">\n       <use xlink:href=\"#DejaVuSans-117\"/>\n       <use x=\"63.378906\" xlink:href=\"#DejaVuSans-97\"/>\n       <use x=\"124.658203\" xlink:href=\"#DejaVuSans-95\"/>\n       <use x=\"174.658203\" xlink:href=\"#DejaVuSans-97\"/>\n       <use x=\"235.9375\" xlink:href=\"#DejaVuSans-103\"/>\n       <use x=\"299.414062\" xlink:href=\"#DejaVuSans-101\"/>\n       <use x=\"360.9375\" xlink:href=\"#DejaVuSans-110\"/>\n       <use x=\"424.316406\" xlink:href=\"#DejaVuSans-116\"/>\n       <use x=\"463.525391\" xlink:href=\"#DejaVuSans-95\"/>\n       <use x=\"513.525391\" xlink:href=\"#DejaVuSans-99\"/>\n       <use x=\"568.505859\" xlink:href=\"#DejaVuSans-108\"/>\n       <use x=\"596.289062\" xlink:href=\"#DejaVuSans-97\"/>\n       <use x=\"657.568359\" xlink:href=\"#DejaVuSans-115\"/>\n       <use x=\"709.667969\" xlink:href=\"#DejaVuSans-115\"/>\n      </g>\n     </g>\n    </g>\n   </g>\n   <g id=\"matplotlib.axis_2\">\n    <g id=\"ytick_1\">\n     <g id=\"line2d_9\">\n      <path clip-path=\"url(#ped59f30cdb)\" d=\"M 42.145 321.04459 \nL 711.745 321.04459 \n\" style=\"fill:none;stroke:#ffffff;stroke-linecap:round;\"/>\n     </g>\n     <g id=\"text_9\">\n      <!-- 0.0 -->\n      <defs>\n       <path d=\"M 31.78125 66.40625 \nQ 24.171875 66.40625 20.328125 58.90625 \nQ 16.5 51.421875 16.5 36.375 \nQ 16.5 21.390625 20.328125 13.890625 \nQ 24.171875 6.390625 31.78125 6.390625 \nQ 39.453125 6.390625 43.28125 13.890625 \nQ 47.125 21.390625 47.125 36.375 \nQ 47.125 51.421875 43.28125 58.90625 \nQ 39.453125 66.40625 31.78125 66.40625 \nz\nM 31.78125 74.21875 \nQ 44.046875 74.21875 50.515625 64.515625 \nQ 56.984375 54.828125 56.984375 36.375 \nQ 56.984375 17.96875 50.515625 8.265625 \nQ 44.046875 -1.421875 31.78125 -1.421875 \nQ 19.53125 -1.421875 13.0625 8.265625 \nQ 6.59375 17.96875 6.59375 36.375 \nQ 6.59375 54.828125 13.0625 64.515625 \nQ 19.53125 74.21875 31.78125 74.21875 \nz\n\" id=\"DejaVuSans-48\"/>\n       <path d=\"M 10.6875 12.40625 \nL 21 12.40625 \nL 21 0 \nL 10.6875 0 \nz\n\" id=\"DejaVuSans-46\"/>\n      </defs>\n      <g style=\"fill:#262626;\" transform=\"translate(7.2 327.12334)scale(0.16 -0.16)\">\n       <use xlink:href=\"#DejaVuSans-48\"/>\n       <use x=\"63.623047\" xlink:href=\"#DejaVuSans-46\"/>\n       <use x=\"95.410156\" xlink:href=\"#DejaVuSans-48\"/>\n      </g>\n     </g>\n    </g>\n    <g id=\"ytick_2\">\n     <g id=\"line2d_10\">\n      <path clip-path=\"url(#ped59f30cdb)\" d=\"M 42.145 266.68459 \nL 711.745 266.68459 \n\" style=\"fill:none;stroke:#ffffff;stroke-linecap:round;\"/>\n     </g>\n     <g id=\"text_10\">\n      <!-- 0.2 -->\n      <defs>\n       <path d=\"M 19.1875 8.296875 \nL 53.609375 8.296875 \nL 53.609375 0 \nL 7.328125 0 \nL 7.328125 8.296875 \nQ 12.9375 14.109375 22.625 23.890625 \nQ 32.328125 33.6875 34.8125 36.53125 \nQ 39.546875 41.84375 41.421875 45.53125 \nQ 43.3125 49.21875 43.3125 52.78125 \nQ 43.3125 58.59375 39.234375 62.25 \nQ 35.15625 65.921875 28.609375 65.921875 \nQ 23.96875 65.921875 18.8125 64.3125 \nQ 13.671875 62.703125 7.8125 59.421875 \nL 7.8125 69.390625 \nQ 13.765625 71.78125 18.9375 73 \nQ 24.125 74.21875 28.421875 74.21875 \nQ 39.75 74.21875 46.484375 68.546875 \nQ 53.21875 62.890625 53.21875 53.421875 \nQ 53.21875 48.921875 51.53125 44.890625 \nQ 49.859375 40.875 45.40625 35.40625 \nQ 44.1875 33.984375 37.640625 27.21875 \nQ 31.109375 20.453125 19.1875 8.296875 \nz\n\" id=\"DejaVuSans-50\"/>\n      </defs>\n      <g style=\"fill:#262626;\" transform=\"translate(7.2 272.76334)scale(0.16 -0.16)\">\n       <use xlink:href=\"#DejaVuSans-48\"/>\n       <use x=\"63.623047\" xlink:href=\"#DejaVuSans-46\"/>\n       <use x=\"95.410156\" xlink:href=\"#DejaVuSans-50\"/>\n      </g>\n     </g>\n    </g>\n    <g id=\"ytick_3\">\n     <g id=\"line2d_11\">\n      <path clip-path=\"url(#ped59f30cdb)\" d=\"M 42.145 212.32459 \nL 711.745 212.32459 \n\" style=\"fill:none;stroke:#ffffff;stroke-linecap:round;\"/>\n     </g>\n     <g id=\"text_11\">\n      <!-- 0.4 -->\n      <defs>\n       <path d=\"M 37.796875 64.3125 \nL 12.890625 25.390625 \nL 37.796875 25.390625 \nz\nM 35.203125 72.90625 \nL 47.609375 72.90625 \nL 47.609375 25.390625 \nL 58.015625 25.390625 \nL 58.015625 17.1875 \nL 47.609375 17.1875 \nL 47.609375 0 \nL 37.796875 0 \nL 37.796875 17.1875 \nL 4.890625 17.1875 \nL 4.890625 26.703125 \nz\n\" id=\"DejaVuSans-52\"/>\n      </defs>\n      <g style=\"fill:#262626;\" transform=\"translate(7.2 218.40334)scale(0.16 -0.16)\">\n       <use xlink:href=\"#DejaVuSans-48\"/>\n       <use x=\"63.623047\" xlink:href=\"#DejaVuSans-46\"/>\n       <use x=\"95.410156\" xlink:href=\"#DejaVuSans-52\"/>\n      </g>\n     </g>\n    </g>\n    <g id=\"ytick_4\">\n     <g id=\"line2d_12\">\n      <path clip-path=\"url(#ped59f30cdb)\" d=\"M 42.145 157.96459 \nL 711.745 157.96459 \n\" style=\"fill:none;stroke:#ffffff;stroke-linecap:round;\"/>\n     </g>\n     <g id=\"text_12\">\n      <!-- 0.6 -->\n      <defs>\n       <path d=\"M 33.015625 40.375 \nQ 26.375 40.375 22.484375 35.828125 \nQ 18.609375 31.296875 18.609375 23.390625 \nQ 18.609375 15.53125 22.484375 10.953125 \nQ 26.375 6.390625 33.015625 6.390625 \nQ 39.65625 6.390625 43.53125 10.953125 \nQ 47.40625 15.53125 47.40625 23.390625 \nQ 47.40625 31.296875 43.53125 35.828125 \nQ 39.65625 40.375 33.015625 40.375 \nz\nM 52.59375 71.296875 \nL 52.59375 62.3125 \nQ 48.875 64.0625 45.09375 64.984375 \nQ 41.3125 65.921875 37.59375 65.921875 \nQ 27.828125 65.921875 22.671875 59.328125 \nQ 17.53125 52.734375 16.796875 39.40625 \nQ 19.671875 43.65625 24.015625 45.921875 \nQ 28.375 48.1875 33.59375 48.1875 \nQ 44.578125 48.1875 50.953125 41.515625 \nQ 57.328125 34.859375 57.328125 23.390625 \nQ 57.328125 12.15625 50.6875 5.359375 \nQ 44.046875 -1.421875 33.015625 -1.421875 \nQ 20.359375 -1.421875 13.671875 8.265625 \nQ 6.984375 17.96875 6.984375 36.375 \nQ 6.984375 53.65625 15.1875 63.9375 \nQ 23.390625 74.21875 37.203125 74.21875 \nQ 40.921875 74.21875 44.703125 73.484375 \nQ 48.484375 72.75 52.59375 71.296875 \nz\n\" id=\"DejaVuSans-54\"/>\n      </defs>\n      <g style=\"fill:#262626;\" transform=\"translate(7.2 164.04334)scale(0.16 -0.16)\">\n       <use xlink:href=\"#DejaVuSans-48\"/>\n       <use x=\"63.623047\" xlink:href=\"#DejaVuSans-46\"/>\n       <use x=\"95.410156\" xlink:href=\"#DejaVuSans-54\"/>\n      </g>\n     </g>\n    </g>\n    <g id=\"ytick_5\">\n     <g id=\"line2d_13\">\n      <path clip-path=\"url(#ped59f30cdb)\" d=\"M 42.145 103.60459 \nL 711.745 103.60459 \n\" style=\"fill:none;stroke:#ffffff;stroke-linecap:round;\"/>\n     </g>\n     <g id=\"text_13\">\n      <!-- 0.8 -->\n      <defs>\n       <path d=\"M 31.78125 34.625 \nQ 24.75 34.625 20.71875 30.859375 \nQ 16.703125 27.09375 16.703125 20.515625 \nQ 16.703125 13.921875 20.71875 10.15625 \nQ 24.75 6.390625 31.78125 6.390625 \nQ 38.8125 6.390625 42.859375 10.171875 \nQ 46.921875 13.96875 46.921875 20.515625 \nQ 46.921875 27.09375 42.890625 30.859375 \nQ 38.875 34.625 31.78125 34.625 \nz\nM 21.921875 38.8125 \nQ 15.578125 40.375 12.03125 44.71875 \nQ 8.5 49.078125 8.5 55.328125 \nQ 8.5 64.0625 14.71875 69.140625 \nQ 20.953125 74.21875 31.78125 74.21875 \nQ 42.671875 74.21875 48.875 69.140625 \nQ 55.078125 64.0625 55.078125 55.328125 \nQ 55.078125 49.078125 51.53125 44.71875 \nQ 48 40.375 41.703125 38.8125 \nQ 48.828125 37.15625 52.796875 32.3125 \nQ 56.78125 27.484375 56.78125 20.515625 \nQ 56.78125 9.90625 50.3125 4.234375 \nQ 43.84375 -1.421875 31.78125 -1.421875 \nQ 19.734375 -1.421875 13.25 4.234375 \nQ 6.78125 9.90625 6.78125 20.515625 \nQ 6.78125 27.484375 10.78125 32.3125 \nQ 14.796875 37.15625 21.921875 38.8125 \nz\nM 18.3125 54.390625 \nQ 18.3125 48.734375 21.84375 45.5625 \nQ 25.390625 42.390625 31.78125 42.390625 \nQ 38.140625 42.390625 41.71875 45.5625 \nQ 45.3125 48.734375 45.3125 54.390625 \nQ 45.3125 60.0625 41.71875 63.234375 \nQ 38.140625 66.40625 31.78125 66.40625 \nQ 25.390625 66.40625 21.84375 63.234375 \nQ 18.3125 60.0625 18.3125 54.390625 \nz\n\" id=\"DejaVuSans-56\"/>\n      </defs>\n      <g style=\"fill:#262626;\" transform=\"translate(7.2 109.68334)scale(0.16 -0.16)\">\n       <use xlink:href=\"#DejaVuSans-48\"/>\n       <use x=\"63.623047\" xlink:href=\"#DejaVuSans-46\"/>\n       <use x=\"95.410156\" xlink:href=\"#DejaVuSans-56\"/>\n      </g>\n     </g>\n    </g>\n    <g id=\"ytick_6\">\n     <g id=\"line2d_14\">\n      <path clip-path=\"url(#ped59f30cdb)\" d=\"M 42.145 49.24459 \nL 711.745 49.24459 \n\" style=\"fill:none;stroke:#ffffff;stroke-linecap:round;\"/>\n     </g>\n     <g id=\"text_14\">\n      <!-- 1.0 -->\n      <defs>\n       <path d=\"M 12.40625 8.296875 \nL 28.515625 8.296875 \nL 28.515625 63.921875 \nL 10.984375 60.40625 \nL 10.984375 69.390625 \nL 28.421875 72.90625 \nL 38.28125 72.90625 \nL 38.28125 8.296875 \nL 54.390625 8.296875 \nL 54.390625 0 \nL 12.40625 0 \nz\n\" id=\"DejaVuSans-49\"/>\n      </defs>\n      <g style=\"fill:#262626;\" transform=\"translate(7.2 55.32334)scale(0.16 -0.16)\">\n       <use xlink:href=\"#DejaVuSans-49\"/>\n       <use x=\"63.623047\" xlink:href=\"#DejaVuSans-46\"/>\n       <use x=\"95.410156\" xlink:href=\"#DejaVuSans-48\"/>\n      </g>\n     </g>\n    </g>\n   </g>\n   <g id=\"patch_3\">\n    <path clip-path=\"url(#ped59f30cdb)\" d=\"M 63.07 321.04459 \nL 104.92 321.04459 \nL 104.92 49.24459 \nL 63.07 49.24459 \nz\n\" style=\"fill:#696969;stroke:#ffffff;stroke-linejoin:miter;\"/>\n   </g>\n   <g id=\"patch_4\">\n    <path clip-path=\"url(#ped59f30cdb)\" d=\"M 146.77 321.04459 \nL 188.62 321.04459 \nL 188.62 49.24459 \nL 146.77 49.24459 \nz\n\" style=\"fill:#696969;stroke:#ffffff;stroke-linejoin:miter;\"/>\n   </g>\n   <g id=\"patch_5\">\n    <path clip-path=\"url(#ped59f30cdb)\" d=\"M 230.47 321.04459 \nL 272.32 321.04459 \nL 272.32 50.33179 \nL 230.47 50.33179 \nz\n\" style=\"fill:#696969;stroke:#ffffff;stroke-linejoin:miter;\"/>\n   </g>\n   <g id=\"patch_6\">\n    <path clip-path=\"url(#ped59f30cdb)\" d=\"M 314.17 321.04459 \nL 356.02 321.04459 \nL 356.02 93.81979 \nL 314.17 93.81979 \nz\n\" style=\"fill:#696969;stroke:#ffffff;stroke-linejoin:miter;\"/>\n   </g>\n   <g id=\"patch_7\">\n    <path clip-path=\"url(#ped59f30cdb)\" d=\"M 397.87 321.04459 \nL 439.72 321.04459 \nL 439.72 49.24459 \nL 397.87 49.24459 \nz\n\" style=\"fill:#696969;stroke:#ffffff;stroke-linejoin:miter;\"/>\n   </g>\n   <g id=\"patch_8\">\n    <path clip-path=\"url(#ped59f30cdb)\" d=\"M 481.57 321.04459 \nL 523.42 321.04459 \nL 523.42 257.44339 \nL 481.57 257.44339 \nz\n\" style=\"fill:#696969;stroke:#ffffff;stroke-linejoin:miter;\"/>\n   </g>\n   <g id=\"patch_9\">\n    <path clip-path=\"url(#ped59f30cdb)\" d=\"M 565.27 321.04459 \nL 607.12 321.04459 \nL 607.12 49.24459 \nL 565.27 49.24459 \nz\n\" style=\"fill:#696969;stroke:#ffffff;stroke-linejoin:miter;\"/>\n   </g>\n   <g id=\"patch_10\">\n    <path clip-path=\"url(#ped59f30cdb)\" d=\"M 648.97 321.04459 \nL 690.82 321.04459 \nL 690.82 49.24459 \nL 648.97 49.24459 \nz\n\" style=\"fill:#696969;stroke:#ffffff;stroke-linejoin:miter;\"/>\n   </g>\n  </g>\n  <g id=\"axes_2\">\n   <g id=\"matplotlib.axis_3\">\n    <g id=\"ytick_7\">\n     <g id=\"line2d_15\">\n      <path clip-path=\"url(#ped59f30cdb)\" d=\"M 42.145 321.04459 \nL 711.745 321.04459 \n\" style=\"fill:none;stroke:#ffffff;stroke-linecap:round;\"/>\n     </g>\n     <g id=\"text_15\">\n      <!-- 0 -->\n      <g style=\"fill:#262626;\" transform=\"translate(721.245 327.12334)scale(0.16 -0.16)\">\n       <use xlink:href=\"#DejaVuSans-48\"/>\n      </g>\n     </g>\n    </g>\n    <g id=\"ytick_8\">\n     <g id=\"line2d_16\">\n      <path clip-path=\"url(#ped59f30cdb)\" d=\"M 42.145 266.68459 \nL 711.745 266.68459 \n\" style=\"fill:none;stroke:#ffffff;stroke-linecap:round;\"/>\n     </g>\n     <g id=\"text_16\">\n      <!-- 100 -->\n      <g style=\"fill:#262626;\" transform=\"translate(721.245 272.76334)scale(0.16 -0.16)\">\n       <use xlink:href=\"#DejaVuSans-49\"/>\n       <use x=\"63.623047\" xlink:href=\"#DejaVuSans-48\"/>\n       <use x=\"127.246094\" xlink:href=\"#DejaVuSans-48\"/>\n      </g>\n     </g>\n    </g>\n    <g id=\"ytick_9\">\n     <g id=\"line2d_17\">\n      <path clip-path=\"url(#ped59f30cdb)\" d=\"M 42.145 212.32459 \nL 711.745 212.32459 \n\" style=\"fill:none;stroke:#ffffff;stroke-linecap:round;\"/>\n     </g>\n     <g id=\"text_17\">\n      <!-- 200 -->\n      <g style=\"fill:#262626;\" transform=\"translate(721.245 218.40334)scale(0.16 -0.16)\">\n       <use xlink:href=\"#DejaVuSans-50\"/>\n       <use x=\"63.623047\" xlink:href=\"#DejaVuSans-48\"/>\n       <use x=\"127.246094\" xlink:href=\"#DejaVuSans-48\"/>\n      </g>\n     </g>\n    </g>\n    <g id=\"ytick_10\">\n     <g id=\"line2d_18\">\n      <path clip-path=\"url(#ped59f30cdb)\" d=\"M 42.145 157.96459 \nL 711.745 157.96459 \n\" style=\"fill:none;stroke:#ffffff;stroke-linecap:round;\"/>\n     </g>\n     <g id=\"text_18\">\n      <!-- 300 -->\n      <defs>\n       <path d=\"M 40.578125 39.3125 \nQ 47.65625 37.796875 51.625 33 \nQ 55.609375 28.21875 55.609375 21.1875 \nQ 55.609375 10.40625 48.1875 4.484375 \nQ 40.765625 -1.421875 27.09375 -1.421875 \nQ 22.515625 -1.421875 17.65625 -0.515625 \nQ 12.796875 0.390625 7.625 2.203125 \nL 7.625 11.71875 \nQ 11.71875 9.328125 16.59375 8.109375 \nQ 21.484375 6.890625 26.8125 6.890625 \nQ 36.078125 6.890625 40.9375 10.546875 \nQ 45.796875 14.203125 45.796875 21.1875 \nQ 45.796875 27.640625 41.28125 31.265625 \nQ 36.765625 34.90625 28.71875 34.90625 \nL 20.21875 34.90625 \nL 20.21875 43.015625 \nL 29.109375 43.015625 \nQ 36.375 43.015625 40.234375 45.921875 \nQ 44.09375 48.828125 44.09375 54.296875 \nQ 44.09375 59.90625 40.109375 62.90625 \nQ 36.140625 65.921875 28.71875 65.921875 \nQ 24.65625 65.921875 20.015625 65.03125 \nQ 15.375 64.15625 9.8125 62.3125 \nL 9.8125 71.09375 \nQ 15.4375 72.65625 20.34375 73.4375 \nQ 25.25 74.21875 29.59375 74.21875 \nQ 40.828125 74.21875 47.359375 69.109375 \nQ 53.90625 64.015625 53.90625 55.328125 \nQ 53.90625 49.265625 50.4375 45.09375 \nQ 46.96875 40.921875 40.578125 39.3125 \nz\n\" id=\"DejaVuSans-51\"/>\n      </defs>\n      <g style=\"fill:#262626;\" transform=\"translate(721.245 164.04334)scale(0.16 -0.16)\">\n       <use xlink:href=\"#DejaVuSans-51\"/>\n       <use x=\"63.623047\" xlink:href=\"#DejaVuSans-48\"/>\n       <use x=\"127.246094\" xlink:href=\"#DejaVuSans-48\"/>\n      </g>\n     </g>\n    </g>\n    <g id=\"ytick_11\">\n     <g id=\"line2d_19\">\n      <path clip-path=\"url(#ped59f30cdb)\" d=\"M 42.145 103.60459 \nL 711.745 103.60459 \n\" style=\"fill:none;stroke:#ffffff;stroke-linecap:round;\"/>\n     </g>\n     <g id=\"text_19\">\n      <!-- 400 -->\n      <g style=\"fill:#262626;\" transform=\"translate(721.245 109.68334)scale(0.16 -0.16)\">\n       <use xlink:href=\"#DejaVuSans-52\"/>\n       <use x=\"63.623047\" xlink:href=\"#DejaVuSans-48\"/>\n       <use x=\"127.246094\" xlink:href=\"#DejaVuSans-48\"/>\n      </g>\n     </g>\n    </g>\n    <g id=\"ytick_12\">\n     <g id=\"line2d_20\">\n      <path clip-path=\"url(#ped59f30cdb)\" d=\"M 42.145 49.24459 \nL 711.745 49.24459 \n\" style=\"fill:none;stroke:#ffffff;stroke-linecap:round;\"/>\n     </g>\n     <g id=\"text_20\">\n      <!-- 500 -->\n      <defs>\n       <path d=\"M 10.796875 72.90625 \nL 49.515625 72.90625 \nL 49.515625 64.59375 \nL 19.828125 64.59375 \nL 19.828125 46.734375 \nQ 21.96875 47.46875 24.109375 47.828125 \nQ 26.265625 48.1875 28.421875 48.1875 \nQ 40.625 48.1875 47.75 41.5 \nQ 54.890625 34.8125 54.890625 23.390625 \nQ 54.890625 11.625 47.5625 5.09375 \nQ 40.234375 -1.421875 26.90625 -1.421875 \nQ 22.3125 -1.421875 17.546875 -0.640625 \nQ 12.796875 0.140625 7.71875 1.703125 \nL 7.71875 11.625 \nQ 12.109375 9.234375 16.796875 8.0625 \nQ 21.484375 6.890625 26.703125 6.890625 \nQ 35.15625 6.890625 40.078125 11.328125 \nQ 45.015625 15.765625 45.015625 23.390625 \nQ 45.015625 31 40.078125 35.4375 \nQ 35.15625 39.890625 26.703125 39.890625 \nQ 22.75 39.890625 18.8125 39.015625 \nQ 14.890625 38.140625 10.796875 36.28125 \nz\n\" id=\"DejaVuSans-53\"/>\n      </defs>\n      <g style=\"fill:#262626;\" transform=\"translate(721.245 55.32334)scale(0.16 -0.16)\">\n       <use xlink:href=\"#DejaVuSans-53\"/>\n       <use x=\"63.623047\" xlink:href=\"#DejaVuSans-48\"/>\n       <use x=\"127.246094\" xlink:href=\"#DejaVuSans-48\"/>\n      </g>\n     </g>\n    </g>\n   </g>\n  </g>\n  <g id=\"axes_3\">\n   <g id=\"matplotlib.axis_4\">\n    <g id=\"xtick_9\">\n     <g id=\"text_21\">\n      <!-- 500 -->\n      <g style=\"fill:#262626;\" transform=\"translate(92.591651 37.391692)rotate(-45)scale(0.16 -0.16)\">\n       <use xlink:href=\"#DejaVuSans-53\"/>\n       <use x=\"63.623047\" xlink:href=\"#DejaVuSans-48\"/>\n       <use x=\"127.246094\" xlink:href=\"#DejaVuSans-48\"/>\n      </g>\n     </g>\n    </g>\n    <g id=\"xtick_10\">\n     <g id=\"text_22\">\n      <!-- 500 -->\n      <g style=\"fill:#262626;\" transform=\"translate(176.291651 37.391692)rotate(-45)scale(0.16 -0.16)\">\n       <use xlink:href=\"#DejaVuSans-53\"/>\n       <use x=\"63.623047\" xlink:href=\"#DejaVuSans-48\"/>\n       <use x=\"127.246094\" xlink:href=\"#DejaVuSans-48\"/>\n      </g>\n     </g>\n    </g>\n    <g id=\"xtick_11\">\n     <g id=\"text_23\">\n      <!-- 498 -->\n      <defs>\n       <path d=\"M 10.984375 1.515625 \nL 10.984375 10.5 \nQ 14.703125 8.734375 18.5 7.8125 \nQ 22.3125 6.890625 25.984375 6.890625 \nQ 35.75 6.890625 40.890625 13.453125 \nQ 46.046875 20.015625 46.78125 33.40625 \nQ 43.953125 29.203125 39.59375 26.953125 \nQ 35.25 24.703125 29.984375 24.703125 \nQ 19.046875 24.703125 12.671875 31.3125 \nQ 6.296875 37.9375 6.296875 49.421875 \nQ 6.296875 60.640625 12.9375 67.421875 \nQ 19.578125 74.21875 30.609375 74.21875 \nQ 43.265625 74.21875 49.921875 64.515625 \nQ 56.59375 54.828125 56.59375 36.375 \nQ 56.59375 19.140625 48.40625 8.859375 \nQ 40.234375 -1.421875 26.421875 -1.421875 \nQ 22.703125 -1.421875 18.890625 -0.6875 \nQ 15.09375 0.046875 10.984375 1.515625 \nz\nM 30.609375 32.421875 \nQ 37.25 32.421875 41.125 36.953125 \nQ 45.015625 41.5 45.015625 49.421875 \nQ 45.015625 57.28125 41.125 61.84375 \nQ 37.25 66.40625 30.609375 66.40625 \nQ 23.96875 66.40625 20.09375 61.84375 \nQ 16.21875 57.28125 16.21875 49.421875 \nQ 16.21875 41.5 20.09375 36.953125 \nQ 23.96875 32.421875 30.609375 32.421875 \nz\n\" id=\"DejaVuSans-57\"/>\n      </defs>\n      <g style=\"fill:#262626;\" transform=\"translate(259.991651 37.391692)rotate(-45)scale(0.16 -0.16)\">\n       <use xlink:href=\"#DejaVuSans-52\"/>\n       <use x=\"63.623047\" xlink:href=\"#DejaVuSans-57\"/>\n       <use x=\"127.246094\" xlink:href=\"#DejaVuSans-56\"/>\n      </g>\n     </g>\n    </g>\n    <g id=\"xtick_12\">\n     <g id=\"text_24\">\n      <!-- 418 -->\n      <g style=\"fill:#262626;\" transform=\"translate(343.691651 37.391692)rotate(-45)scale(0.16 -0.16)\">\n       <use xlink:href=\"#DejaVuSans-52\"/>\n       <use x=\"63.623047\" xlink:href=\"#DejaVuSans-49\"/>\n       <use x=\"127.246094\" xlink:href=\"#DejaVuSans-56\"/>\n      </g>\n     </g>\n    </g>\n    <g id=\"xtick_13\">\n     <g id=\"text_25\">\n      <!-- 500 -->\n      <g style=\"fill:#262626;\" transform=\"translate(427.391651 37.391692)rotate(-45)scale(0.16 -0.16)\">\n       <use xlink:href=\"#DejaVuSans-53\"/>\n       <use x=\"63.623047\" xlink:href=\"#DejaVuSans-48\"/>\n       <use x=\"127.246094\" xlink:href=\"#DejaVuSans-48\"/>\n      </g>\n     </g>\n    </g>\n    <g id=\"xtick_14\">\n     <g id=\"text_26\">\n      <!-- 117 -->\n      <defs>\n       <path d=\"M 8.203125 72.90625 \nL 55.078125 72.90625 \nL 55.078125 68.703125 \nL 28.609375 0 \nL 18.3125 0 \nL 43.21875 64.59375 \nL 8.203125 64.59375 \nz\n\" id=\"DejaVuSans-55\"/>\n      </defs>\n      <g style=\"fill:#262626;\" transform=\"translate(511.091651 37.391692)rotate(-45)scale(0.16 -0.16)\">\n       <use xlink:href=\"#DejaVuSans-49\"/>\n       <use x=\"63.623047\" xlink:href=\"#DejaVuSans-49\"/>\n       <use x=\"127.246094\" xlink:href=\"#DejaVuSans-55\"/>\n      </g>\n     </g>\n    </g>\n    <g id=\"xtick_15\">\n     <g id=\"text_27\">\n      <!-- 500 -->\n      <g style=\"fill:#262626;\" transform=\"translate(594.791651 37.391692)rotate(-45)scale(0.16 -0.16)\">\n       <use xlink:href=\"#DejaVuSans-53\"/>\n       <use x=\"63.623047\" xlink:href=\"#DejaVuSans-48\"/>\n       <use x=\"127.246094\" xlink:href=\"#DejaVuSans-48\"/>\n      </g>\n     </g>\n    </g>\n    <g id=\"xtick_16\">\n     <g id=\"text_28\">\n      <!-- 500 -->\n      <g style=\"fill:#262626;\" transform=\"translate(678.491651 37.391692)rotate(-45)scale(0.16 -0.16)\">\n       <use xlink:href=\"#DejaVuSans-53\"/>\n       <use x=\"63.623047\" xlink:href=\"#DejaVuSans-48\"/>\n       <use x=\"127.246094\" xlink:href=\"#DejaVuSans-48\"/>\n      </g>\n     </g>\n    </g>\n   </g>\n  </g>\n </g>\n <defs>\n  <clipPath id=\"ped59f30cdb\">\n   <rect height=\"271.8\" width=\"669.6\" x=\"42.145\" y=\"49.24459\"/>\n  </clipPath>\n </defs>\n</svg>\n"
          },
          "metadata": {
            "tags": []
          }
        }
      ]
    },
    {
      "cell_type": "code",
      "metadata": {
        "colab_type": "code",
        "id": "3BIaAHLgmSKC",
        "colab": {}
      },
      "source": [
        "def summary_missing(dataset):\n",
        "    n_miss = dataset.isnull().sum()\n",
        "    n_obs = dataset.shape[0]\n",
        "    n_miss_per = n_miss/n_obs*100\n",
        "    n_miss_tbl = pd.concat([n_miss, n_miss_per], axis = 1).sort_values(1, ascending = False).round(1)\n",
        "    n_miss_tbl = n_miss_tbl[n_miss_tbl[1] != 0]\n",
        "    print('No. of fields: ', dataset.shape[0])\n",
        "    print('No. of missing fields: ', n_miss_tbl.shape[0])\n",
        "    n_miss_tbl = n_miss_tbl.rename(columns = {0:'No. of mising Value', 1:'%age of missing Value'})\n",
        "    return n_miss_tbl"
      ],
      "execution_count": 0,
      "outputs": []
    },
    {
      "cell_type": "code",
      "metadata": {
        "colab_type": "code",
        "id": "c9FpjOeamSM3",
        "outputId": "784413f0-0c02-434c-fe1b-2d0396ea06cd",
        "colab": {
          "base_uri": "https://localhost:8080/",
          "height": 173
        }
      },
      "source": [
        "summary_missing(df_bol)"
      ],
      "execution_count": 0,
      "outputs": [
        {
          "output_type": "stream",
          "text": [
            "No. of fields:  12466\n",
            "No. of missing fields:  3\n"
          ],
          "name": "stdout"
        },
        {
          "output_type": "execute_result",
          "data": {
            "text/html": [
              "<div>\n",
              "<style scoped>\n",
              "    .dataframe tbody tr th:only-of-type {\n",
              "        vertical-align: middle;\n",
              "    }\n",
              "\n",
              "    .dataframe tbody tr th {\n",
              "        vertical-align: top;\n",
              "    }\n",
              "\n",
              "    .dataframe thead th {\n",
              "        text-align: right;\n",
              "    }\n",
              "</style>\n",
              "<table border=\"1\" class=\"dataframe\">\n",
              "  <thead>\n",
              "    <tr style=\"text-align: right;\">\n",
              "      <th></th>\n",
              "      <th>No. of mising Value</th>\n",
              "      <th>%age of missing Value</th>\n",
              "    </tr>\n",
              "  </thead>\n",
              "  <tbody>\n",
              "    <tr>\n",
              "      <th>referrer_without_parameters</th>\n",
              "      <td>9365</td>\n",
              "      <td>75.1</td>\n",
              "    </tr>\n",
              "    <tr>\n",
              "      <th>region_by_ip_address</th>\n",
              "      <td>2090</td>\n",
              "      <td>16.8</td>\n",
              "    </tr>\n",
              "    <tr>\n",
              "      <th>country_by_ip_address</th>\n",
              "      <td>47</td>\n",
              "      <td>0.4</td>\n",
              "    </tr>\n",
              "  </tbody>\n",
              "</table>\n",
              "</div>"
            ],
            "text/plain": [
              "                             No. of mising Value  %age of missing Value\n",
              "referrer_without_parameters                 9365                   75.1\n",
              "region_by_ip_address                        2090                   16.8\n",
              "country_by_ip_address                         47                    0.4"
            ]
          },
          "metadata": {
            "tags": []
          },
          "execution_count": 12
        }
      ]
    },
    {
      "cell_type": "code",
      "metadata": {
        "colab_type": "code",
        "id": "VrNrLAyJmSPf",
        "outputId": "99c0fae2-952c-4171-ce99-c1258f72c881",
        "colab": {
          "base_uri": "https://localhost:8080/",
          "height": 123
        }
      },
      "source": [
        "# checking each feature one by one starting with \"referrer_without_parameters\"\n",
        "\n",
        "df_bol['referrer_without_parameters'].value_counts(dropna=False).head()"
      ],
      "execution_count": 0,
      "outputs": [
        {
          "output_type": "execute_result",
          "data": {
            "text/plain": [
              "NaN                                                                         9365\n",
              "https://www.bol.com/nl/s/algemeen/zoekresultaten/sc/media_all/index.html     165\n",
              "https://www.bol.com/nl/chckout/checkout.html                                  79\n",
              "https://www.bol.com/nl/m/voordeel/sale-solden/index.html                      47\n",
              "https://www.bol.com/nl/s/algemeen/zoekresultaten/index.html                   35\n",
              "Name: referrer_without_parameters, dtype: int64"
            ]
          },
          "metadata": {
            "tags": []
          },
          "execution_count": 13
        }
      ]
    },
    {
      "cell_type": "markdown",
      "metadata": {
        "id": "R56ceDchZ0pL",
        "colab_type": "text"
      },
      "source": [
        "NaN                                                                         44778"
      ]
    },
    {
      "cell_type": "code",
      "metadata": {
        "colab_type": "code",
        "id": "LKnqhd_Wo7w6",
        "outputId": "e25ed455-7404-4efe-e5e6-0bb6ee47c77d",
        "colab": {
          "base_uri": "https://localhost:8080/",
          "height": 176
        }
      },
      "source": [
        "df_bol['country_by_ip_address'].value_counts(dropna=False).head(8)"
      ],
      "execution_count": 0,
      "outputs": [
        {
          "output_type": "execute_result",
          "data": {
            "text/plain": [
              "NL     5386\n",
              "US     4652\n",
              "BE     1622\n",
              "GB      241\n",
              "DE      138\n",
              "CN       62\n",
              "FR       55\n",
              "NaN      47\n",
              "Name: country_by_ip_address, dtype: int64"
            ]
          },
          "metadata": {
            "tags": []
          },
          "execution_count": 14
        }
      ]
    },
    {
      "cell_type": "markdown",
      "metadata": {
        "id": "wwPvXAJIZ0pN",
        "colab_type": "text"
      },
      "source": [
        "NaN      248"
      ]
    },
    {
      "cell_type": "code",
      "metadata": {
        "colab_type": "code",
        "id": "o7iVont1mSSC",
        "outputId": "3795f9a2-b413-494f-91b2-018e1812601c",
        "colab": {
          "base_uri": "https://localhost:8080/",
          "height": 123
        }
      },
      "source": [
        "df_bol['region_by_ip_address'].value_counts(dropna=False).head()"
      ],
      "execution_count": 0,
      "outputs": [
        {
          "output_type": "execute_result",
          "data": {
            "text/plain": [
              "CA     4232\n",
              "NaN    2090\n",
              "ZH      907\n",
              "NH      876\n",
              "VAN     489\n",
              "Name: region_by_ip_address, dtype: int64"
            ]
          },
          "metadata": {
            "tags": []
          },
          "execution_count": 15
        }
      ]
    },
    {
      "cell_type": "markdown",
      "metadata": {
        "id": "H_VQjdqCZ0pP",
        "colab_type": "text"
      },
      "source": [
        "NaN     9896"
      ]
    },
    {
      "cell_type": "code",
      "metadata": {
        "id": "EDdX7fAnZ0pQ",
        "colab_type": "code",
        "outputId": "27df05e1-3b7f-48a1-b350-2e5cf9e38551",
        "colab": {
          "base_uri": "https://localhost:8080/",
          "height": 197
        }
      },
      "source": [
        "# use the 'isnull' Series method to filter the DataFrame rows. \n",
        "df_bol[df_bol.country_by_ip_address.isnull()].head()"
      ],
      "execution_count": 0,
      "outputs": [
        {
          "output_type": "execute_result",
          "data": {
            "text/html": [
              "<div>\n",
              "<style scoped>\n",
              "    .dataframe tbody tr th:only-of-type {\n",
              "        vertical-align: middle;\n",
              "    }\n",
              "\n",
              "    .dataframe tbody tr th {\n",
              "        vertical-align: top;\n",
              "    }\n",
              "\n",
              "    .dataframe thead th {\n",
              "        text-align: right;\n",
              "    }\n",
              "</style>\n",
              "<table border=\"1\" class=\"dataframe\">\n",
              "  <thead>\n",
              "    <tr style=\"text-align: right;\">\n",
              "      <th></th>\n",
              "      <th>epoch_ms</th>\n",
              "      <th>session_id</th>\n",
              "      <th>country_by_ip_address</th>\n",
              "      <th>region_by_ip_address</th>\n",
              "      <th>url_without_parameters</th>\n",
              "      <th>referrer_without_parameters</th>\n",
              "      <th>visitor_recognition_type</th>\n",
              "      <th>ua_agent_class</th>\n",
              "    </tr>\n",
              "  </thead>\n",
              "  <tbody>\n",
              "    <tr>\n",
              "      <th>44</th>\n",
              "      <td>1520280042769</td>\n",
              "      <td>ead0de034f327f2d65b1d3b6e1ccf3bd</td>\n",
              "      <td>NaN</td>\n",
              "      <td>NaN</td>\n",
              "      <td>https://www.bol.com/nl/p/stahlex-o10mm-140cm-a...</td>\n",
              "      <td>https://www.bol.com/nl/p/stahlex-o10mm-120cm-a...</td>\n",
              "      <td>ANONYMOUS</td>\n",
              "      <td>Browser</td>\n",
              "    </tr>\n",
              "    <tr>\n",
              "      <th>149</th>\n",
              "      <td>1520280121568</td>\n",
              "      <td>ead0de034f327f2d65b1d3b6e1ccf3bd</td>\n",
              "      <td>NaN</td>\n",
              "      <td>NaN</td>\n",
              "      <td>https://www.bol.com/nl/p/kettingslot-top-lock-...</td>\n",
              "      <td>NaN</td>\n",
              "      <td>ANONYMOUS</td>\n",
              "      <td>Browser</td>\n",
              "    </tr>\n",
              "    <tr>\n",
              "      <th>415</th>\n",
              "      <td>1520280294514</td>\n",
              "      <td>4a462ddfb4a61788864dd2db9d07a8df</td>\n",
              "      <td>NaN</td>\n",
              "      <td>NaN</td>\n",
              "      <td>https://www.bol.com/nl/l/mediaplayers/N/7114/</td>\n",
              "      <td>NaN</td>\n",
              "      <td>ANONYMOUS</td>\n",
              "      <td>Browser</td>\n",
              "    </tr>\n",
              "    <tr>\n",
              "      <th>961</th>\n",
              "      <td>1520280658423</td>\n",
              "      <td>465b8921f35bfb2dbbc4764c7fbe0572</td>\n",
              "      <td>NaN</td>\n",
              "      <td>NaN</td>\n",
              "      <td>https://www.bol.com/nl/l/alle-laptops/N/4770/</td>\n",
              "      <td>NaN</td>\n",
              "      <td>ANONYMOUS</td>\n",
              "      <td>Browser</td>\n",
              "    </tr>\n",
              "    <tr>\n",
              "      <th>987</th>\n",
              "      <td>1520280671831</td>\n",
              "      <td>1910b1489132245e4cd481260cc20362</td>\n",
              "      <td>NaN</td>\n",
              "      <td>NaN</td>\n",
              "      <td>https://www.bol.com/nl/l/kinderwagens/N/11274/</td>\n",
              "      <td>NaN</td>\n",
              "      <td>ANONYMOUS</td>\n",
              "      <td>Browser</td>\n",
              "    </tr>\n",
              "  </tbody>\n",
              "</table>\n",
              "</div>"
            ],
            "text/plain": [
              "          epoch_ms  ... ua_agent_class\n",
              "44   1520280042769  ...        Browser\n",
              "149  1520280121568  ...        Browser\n",
              "415  1520280294514  ...        Browser\n",
              "961  1520280658423  ...        Browser\n",
              "987  1520280671831  ...        Browser\n",
              "\n",
              "[5 rows x 8 columns]"
            ]
          },
          "metadata": {
            "tags": []
          },
          "execution_count": 16
        }
      ]
    },
    {
      "cell_type": "markdown",
      "metadata": {
        "id": "v2f03pBEZ0pR",
        "colab_type": "text"
      },
      "source": [
        "**Filling missing value with \"VARIOUS\"**"
      ]
    },
    {
      "cell_type": "markdown",
      "metadata": {
        "colab_type": "text",
        "id": "v7wFXFGkq-g7"
      },
      "source": [
        "We could either remove these missing values or we might fill them with an \"entity\". If it were numerical data then I would use impute option. As it is categorical data , we might add\"various\" or as training model suggests , we may also add ''."
      ]
    },
    {
      "cell_type": "code",
      "metadata": {
        "colab_type": "code",
        "id": "5tRmQ-WeooAj",
        "colab": {}
      },
      "source": [
        "df_bol['referrer_without_parameters'].fillna(value='VARIOUS', inplace=True)\n",
        "df_bol['country_by_ip_address'].fillna(value='VARIOUS', inplace=True)\n",
        "df_bol['region_by_ip_address'].fillna(value='VARIOUS', inplace=True)"
      ],
      "execution_count": 0,
      "outputs": []
    },
    {
      "cell_type": "code",
      "metadata": {
        "colab_type": "code",
        "id": "W1vhA5HrrxUZ",
        "outputId": "0a2336dd-8bc9-4131-f802-f5396491778b",
        "colab": {
          "base_uri": "https://localhost:8080/",
          "height": 83
        }
      },
      "source": [
        "summary_missing(df_bol)"
      ],
      "execution_count": 0,
      "outputs": [
        {
          "output_type": "stream",
          "text": [
            "No. of fields:  12466\n",
            "No. of missing fields:  0\n"
          ],
          "name": "stdout"
        },
        {
          "output_type": "execute_result",
          "data": {
            "text/html": [
              "<div>\n",
              "<style scoped>\n",
              "    .dataframe tbody tr th:only-of-type {\n",
              "        vertical-align: middle;\n",
              "    }\n",
              "\n",
              "    .dataframe tbody tr th {\n",
              "        vertical-align: top;\n",
              "    }\n",
              "\n",
              "    .dataframe thead th {\n",
              "        text-align: right;\n",
              "    }\n",
              "</style>\n",
              "<table border=\"1\" class=\"dataframe\">\n",
              "  <thead>\n",
              "    <tr style=\"text-align: right;\">\n",
              "      <th></th>\n",
              "      <th>No. of mising Value</th>\n",
              "      <th>%age of missing Value</th>\n",
              "    </tr>\n",
              "  </thead>\n",
              "  <tbody>\n",
              "  </tbody>\n",
              "</table>\n",
              "</div>"
            ],
            "text/plain": [
              "Empty DataFrame\n",
              "Columns: [No. of mising Value, %age of missing Value]\n",
              "Index: []"
            ]
          },
          "metadata": {
            "tags": []
          },
          "execution_count": 18
        }
      ]
    },
    {
      "cell_type": "markdown",
      "metadata": {
        "colab_type": "text",
        "id": "pUercXsJvHXc"
      },
      "source": [
        "Seems fine now"
      ]
    },
    {
      "cell_type": "code",
      "metadata": {
        "id": "ukBcN8MRZ0pa",
        "colab_type": "code",
        "outputId": "1c15f311-5d52-46ba-ad77-c789100aa7c4",
        "colab": {
          "base_uri": "https://localhost:8080/",
          "height": 123
        }
      },
      "source": [
        "df_bol['referrer_without_parameters'].value_counts(dropna=False).head()"
      ],
      "execution_count": 0,
      "outputs": [
        {
          "output_type": "execute_result",
          "data": {
            "text/plain": [
              "VARIOUS                                                                     9365\n",
              "https://www.bol.com/nl/s/algemeen/zoekresultaten/sc/media_all/index.html     165\n",
              "https://www.bol.com/nl/chckout/checkout.html                                  79\n",
              "https://www.bol.com/nl/m/voordeel/sale-solden/index.html                      47\n",
              "https://www.bol.com/nl/s/algemeen/zoekresultaten/index.html                   35\n",
              "Name: referrer_without_parameters, dtype: int64"
            ]
          },
          "metadata": {
            "tags": []
          },
          "execution_count": 19
        }
      ]
    },
    {
      "cell_type": "code",
      "metadata": {
        "id": "HKYj5HGjZ0pc",
        "colab_type": "code",
        "outputId": "b8ff823b-74f6-42ab-a955-6f870069e762",
        "colab": {
          "base_uri": "https://localhost:8080/",
          "height": 34
        }
      },
      "source": [
        "df_bol.shape"
      ],
      "execution_count": 0,
      "outputs": [
        {
          "output_type": "execute_result",
          "data": {
            "text/plain": [
              "(12466, 8)"
            ]
          },
          "metadata": {
            "tags": []
          },
          "execution_count": 20
        }
      ]
    },
    {
      "cell_type": "markdown",
      "metadata": {
        "id": "GQrtNt41Z0pe",
        "colab_type": "text"
      },
      "source": [
        "And we didnt lose any values"
      ]
    },
    {
      "cell_type": "markdown",
      "metadata": {
        "colab_type": "text",
        "id": "ckyMNwRKbG4u"
      },
      "source": [
        "### 3.3)-checking duplicate values"
      ]
    },
    {
      "cell_type": "code",
      "metadata": {
        "colab_type": "code",
        "id": "erep1L9ybK5z",
        "outputId": "87fafad2-2f6e-43d7-9062-fff7c00cb8d9",
        "colab": {
          "base_uri": "https://localhost:8080/",
          "height": 34
        }
      },
      "source": [
        "print(df_bol.duplicated().sum())"
      ],
      "execution_count": 0,
      "outputs": [
        {
          "output_type": "stream",
          "text": [
            "0\n"
          ],
          "name": "stdout"
        }
      ]
    },
    {
      "cell_type": "markdown",
      "metadata": {
        "colab_type": "text",
        "id": "7DqbCRQDmxDv"
      },
      "source": [
        "### 3.4)-Sorting"
      ]
    },
    {
      "cell_type": "code",
      "metadata": {
        "colab_type": "code",
        "id": "4pv5_xNbmzWU",
        "outputId": "07cc4e80-9070-4b54-a9d7-4459bca7b9ed",
        "colab": {
          "base_uri": "https://localhost:8080/",
          "height": 197
        }
      },
      "source": [
        "df_bol.sort_values(by='visitor_recognition_type', ascending=False).head()"
      ],
      "execution_count": 0,
      "outputs": [
        {
          "output_type": "execute_result",
          "data": {
            "text/html": [
              "<div>\n",
              "<style scoped>\n",
              "    .dataframe tbody tr th:only-of-type {\n",
              "        vertical-align: middle;\n",
              "    }\n",
              "\n",
              "    .dataframe tbody tr th {\n",
              "        vertical-align: top;\n",
              "    }\n",
              "\n",
              "    .dataframe thead th {\n",
              "        text-align: right;\n",
              "    }\n",
              "</style>\n",
              "<table border=\"1\" class=\"dataframe\">\n",
              "  <thead>\n",
              "    <tr style=\"text-align: right;\">\n",
              "      <th></th>\n",
              "      <th>epoch_ms</th>\n",
              "      <th>session_id</th>\n",
              "      <th>country_by_ip_address</th>\n",
              "      <th>region_by_ip_address</th>\n",
              "      <th>url_without_parameters</th>\n",
              "      <th>referrer_without_parameters</th>\n",
              "      <th>visitor_recognition_type</th>\n",
              "      <th>ua_agent_class</th>\n",
              "    </tr>\n",
              "  </thead>\n",
              "  <tbody>\n",
              "    <tr>\n",
              "      <th>8835</th>\n",
              "      <td>1520280216443</td>\n",
              "      <td>bb976bcef4c1aace5789a89436a42fff</td>\n",
              "      <td>NL</td>\n",
              "      <td>VARIOUS</td>\n",
              "      <td>https://www.bol.com/nl/p/crosslinq-crosstape-l...</td>\n",
              "      <td>VARIOUS</td>\n",
              "      <td>RECOGNIZED</td>\n",
              "      <td>Browser</td>\n",
              "    </tr>\n",
              "    <tr>\n",
              "      <th>9346</th>\n",
              "      <td>1520280575855</td>\n",
              "      <td>401969f5ad79834110f2b96a46bd9661</td>\n",
              "      <td>NL</td>\n",
              "      <td>ZH</td>\n",
              "      <td>https://www.bol.com/nl/s/ajax/index.html</td>\n",
              "      <td>https://www.bol.com/nl/s/baby/zoekresultaten/N...</td>\n",
              "      <td>RECOGNIZED</td>\n",
              "      <td>Browser</td>\n",
              "    </tr>\n",
              "    <tr>\n",
              "      <th>4443</th>\n",
              "      <td>1520283135408</td>\n",
              "      <td>d9226d47f95ae69c0bbc76b5bd3982ab</td>\n",
              "      <td>NL</td>\n",
              "      <td>ZH</td>\n",
              "      <td>https://www.bol.com/nl/p/dyson-v10-absolute-st...</td>\n",
              "      <td>https://www.bol.com/nl/p/philips-powerpro-aqua...</td>\n",
              "      <td>RECOGNIZED</td>\n",
              "      <td>Browser</td>\n",
              "    </tr>\n",
              "    <tr>\n",
              "      <th>4442</th>\n",
              "      <td>1520283134163</td>\n",
              "      <td>ae77d18aa5b932ac0e9628e0e185e401</td>\n",
              "      <td>BE</td>\n",
              "      <td>VOV</td>\n",
              "      <td>https://www.bol.com/nl/s/ajax/index.html</td>\n",
              "      <td>https://www.bol.com/nl/s/sport-vrije-tijd/zoek...</td>\n",
              "      <td>RECOGNIZED</td>\n",
              "      <td>Browser</td>\n",
              "    </tr>\n",
              "    <tr>\n",
              "      <th>4440</th>\n",
              "      <td>1520283131781</td>\n",
              "      <td>4d87deed9ae903fa26a84d20ffdbc8d8</td>\n",
              "      <td>NL</td>\n",
              "      <td>ZH</td>\n",
              "      <td>https://www.bol.com/nl/p/lucide-goosy-soft-han...</td>\n",
              "      <td>VARIOUS</td>\n",
              "      <td>RECOGNIZED</td>\n",
              "      <td>Browser</td>\n",
              "    </tr>\n",
              "  </tbody>\n",
              "</table>\n",
              "</div>"
            ],
            "text/plain": [
              "           epoch_ms  ... ua_agent_class\n",
              "8835  1520280216443  ...        Browser\n",
              "9346  1520280575855  ...        Browser\n",
              "4443  1520283135408  ...        Browser\n",
              "4442  1520283134163  ...        Browser\n",
              "4440  1520283131781  ...        Browser\n",
              "\n",
              "[5 rows x 8 columns]"
            ]
          },
          "metadata": {
            "tags": []
          },
          "execution_count": 22
        }
      ]
    },
    {
      "cell_type": "code",
      "metadata": {
        "colab_type": "code",
        "id": "6Y-wDJHNmzZc",
        "outputId": "7c05d675-ce2e-4ae6-a8ac-f8ca9ab465fc",
        "colab": {
          "base_uri": "https://localhost:8080/",
          "height": 197
        }
      },
      "source": [
        "df_bol.sort_values(by=['ua_agent_class', 'visitor_recognition_type'], ascending=[True, False]).head()"
      ],
      "execution_count": 0,
      "outputs": [
        {
          "output_type": "execute_result",
          "data": {
            "text/html": [
              "<div>\n",
              "<style scoped>\n",
              "    .dataframe tbody tr th:only-of-type {\n",
              "        vertical-align: middle;\n",
              "    }\n",
              "\n",
              "    .dataframe tbody tr th {\n",
              "        vertical-align: top;\n",
              "    }\n",
              "\n",
              "    .dataframe thead th {\n",
              "        text-align: right;\n",
              "    }\n",
              "</style>\n",
              "<table border=\"1\" class=\"dataframe\">\n",
              "  <thead>\n",
              "    <tr style=\"text-align: right;\">\n",
              "      <th></th>\n",
              "      <th>epoch_ms</th>\n",
              "      <th>session_id</th>\n",
              "      <th>country_by_ip_address</th>\n",
              "      <th>region_by_ip_address</th>\n",
              "      <th>url_without_parameters</th>\n",
              "      <th>referrer_without_parameters</th>\n",
              "      <th>visitor_recognition_type</th>\n",
              "      <th>ua_agent_class</th>\n",
              "    </tr>\n",
              "  </thead>\n",
              "  <tbody>\n",
              "    <tr>\n",
              "      <th>9</th>\n",
              "      <td>1520280013619</td>\n",
              "      <td>d3828e7e2638881c9b0f3bed0221f815</td>\n",
              "      <td>NL</td>\n",
              "      <td>ZH</td>\n",
              "      <td>https://www.bol.com/nl/t/elektronica/audio-hif...</td>\n",
              "      <td>VARIOUS</td>\n",
              "      <td>RECOGNIZED</td>\n",
              "      <td>Browser</td>\n",
              "    </tr>\n",
              "    <tr>\n",
              "      <th>19</th>\n",
              "      <td>1520280023995</td>\n",
              "      <td>6c3d7350dee7687fe8a550951ae2ad4a</td>\n",
              "      <td>NL</td>\n",
              "      <td>ZH</td>\n",
              "      <td>https://www.bol.com/nl/checkout/login.html</td>\n",
              "      <td>VARIOUS</td>\n",
              "      <td>RECOGNIZED</td>\n",
              "      <td>Browser</td>\n",
              "    </tr>\n",
              "    <tr>\n",
              "      <th>26</th>\n",
              "      <td>1520280033070</td>\n",
              "      <td>160fdd31c0a5ecfb6e27d0c9e99eceaa</td>\n",
              "      <td>NL</td>\n",
              "      <td>UT</td>\n",
              "      <td>https://www.bol.com/nl/p/ducksday-zomer-poncho...</td>\n",
              "      <td>https://www.bol.com/nl/s/algemeen/zoekresultat...</td>\n",
              "      <td>RECOGNIZED</td>\n",
              "      <td>Browser</td>\n",
              "    </tr>\n",
              "    <tr>\n",
              "      <th>37</th>\n",
              "      <td>1520280038110</td>\n",
              "      <td>13f24291bd85342a43c4afbdad7c6e9c</td>\n",
              "      <td>NL</td>\n",
              "      <td>GR</td>\n",
              "      <td>https://www.bol.com/nl/ra/boeken/gratis-verzen...</td>\n",
              "      <td>VARIOUS</td>\n",
              "      <td>RECOGNIZED</td>\n",
              "      <td>Browser</td>\n",
              "    </tr>\n",
              "    <tr>\n",
              "      <th>39</th>\n",
              "      <td>1520280039188</td>\n",
              "      <td>8e2499565ca2b5a8a1ece6080e09af5d</td>\n",
              "      <td>NL</td>\n",
              "      <td>NB</td>\n",
              "      <td>https://www.bol.com/nl/c/ajax/index.html</td>\n",
              "      <td>VARIOUS</td>\n",
              "      <td>RECOGNIZED</td>\n",
              "      <td>Browser</td>\n",
              "    </tr>\n",
              "  </tbody>\n",
              "</table>\n",
              "</div>"
            ],
            "text/plain": [
              "         epoch_ms  ... ua_agent_class\n",
              "9   1520280013619  ...        Browser\n",
              "19  1520280023995  ...        Browser\n",
              "26  1520280033070  ...        Browser\n",
              "37  1520280038110  ...        Browser\n",
              "39  1520280039188  ...        Browser\n",
              "\n",
              "[5 rows x 8 columns]"
            ]
          },
          "metadata": {
            "tags": []
          },
          "execution_count": 23
        }
      ]
    },
    {
      "cell_type": "markdown",
      "metadata": {
        "colab_type": "text",
        "id": "PoPAZgN3sB1M"
      },
      "source": [
        "### groupby"
      ]
    },
    {
      "cell_type": "code",
      "metadata": {
        "colab_type": "code",
        "id": "3ixu_q2ZtrB-",
        "outputId": "8fb57025-441b-442a-d07f-b8d6b6bdf31c",
        "colab": {
          "base_uri": "https://localhost:8080/",
          "height": 317
        }
      },
      "source": [
        "df_bol.groupby(['ua_agent_class']).count()"
      ],
      "execution_count": 0,
      "outputs": [
        {
          "output_type": "execute_result",
          "data": {
            "text/html": [
              "<div>\n",
              "<style scoped>\n",
              "    .dataframe tbody tr th:only-of-type {\n",
              "        vertical-align: middle;\n",
              "    }\n",
              "\n",
              "    .dataframe tbody tr th {\n",
              "        vertical-align: top;\n",
              "    }\n",
              "\n",
              "    .dataframe thead th {\n",
              "        text-align: right;\n",
              "    }\n",
              "</style>\n",
              "<table border=\"1\" class=\"dataframe\">\n",
              "  <thead>\n",
              "    <tr style=\"text-align: right;\">\n",
              "      <th></th>\n",
              "      <th>epoch_ms</th>\n",
              "      <th>session_id</th>\n",
              "      <th>country_by_ip_address</th>\n",
              "      <th>region_by_ip_address</th>\n",
              "      <th>url_without_parameters</th>\n",
              "      <th>referrer_without_parameters</th>\n",
              "      <th>visitor_recognition_type</th>\n",
              "    </tr>\n",
              "    <tr>\n",
              "      <th>ua_agent_class</th>\n",
              "      <th></th>\n",
              "      <th></th>\n",
              "      <th></th>\n",
              "      <th></th>\n",
              "      <th></th>\n",
              "      <th></th>\n",
              "      <th></th>\n",
              "    </tr>\n",
              "  </thead>\n",
              "  <tbody>\n",
              "    <tr>\n",
              "      <th>Browser</th>\n",
              "      <td>7461</td>\n",
              "      <td>7461</td>\n",
              "      <td>7461</td>\n",
              "      <td>7461</td>\n",
              "      <td>7461</td>\n",
              "      <td>7461</td>\n",
              "      <td>7461</td>\n",
              "    </tr>\n",
              "    <tr>\n",
              "      <th>Browser Webview</th>\n",
              "      <td>391</td>\n",
              "      <td>391</td>\n",
              "      <td>391</td>\n",
              "      <td>391</td>\n",
              "      <td>391</td>\n",
              "      <td>391</td>\n",
              "      <td>391</td>\n",
              "    </tr>\n",
              "    <tr>\n",
              "      <th>Cloud Application</th>\n",
              "      <td>2</td>\n",
              "      <td>2</td>\n",
              "      <td>2</td>\n",
              "      <td>2</td>\n",
              "      <td>2</td>\n",
              "      <td>2</td>\n",
              "      <td>2</td>\n",
              "    </tr>\n",
              "    <tr>\n",
              "      <th>Hacker</th>\n",
              "      <td>241</td>\n",
              "      <td>241</td>\n",
              "      <td>241</td>\n",
              "      <td>241</td>\n",
              "      <td>241</td>\n",
              "      <td>241</td>\n",
              "      <td>241</td>\n",
              "    </tr>\n",
              "    <tr>\n",
              "      <th>Mobile App</th>\n",
              "      <td>4</td>\n",
              "      <td>4</td>\n",
              "      <td>4</td>\n",
              "      <td>4</td>\n",
              "      <td>4</td>\n",
              "      <td>4</td>\n",
              "      <td>4</td>\n",
              "    </tr>\n",
              "    <tr>\n",
              "      <th>Robot</th>\n",
              "      <td>3309</td>\n",
              "      <td>3309</td>\n",
              "      <td>3309</td>\n",
              "      <td>3309</td>\n",
              "      <td>3309</td>\n",
              "      <td>3309</td>\n",
              "      <td>3309</td>\n",
              "    </tr>\n",
              "    <tr>\n",
              "      <th>Robot Mobile</th>\n",
              "      <td>1029</td>\n",
              "      <td>1029</td>\n",
              "      <td>1029</td>\n",
              "      <td>1029</td>\n",
              "      <td>1029</td>\n",
              "      <td>1029</td>\n",
              "      <td>1029</td>\n",
              "    </tr>\n",
              "    <tr>\n",
              "      <th>Special</th>\n",
              "      <td>28</td>\n",
              "      <td>28</td>\n",
              "      <td>28</td>\n",
              "      <td>28</td>\n",
              "      <td>28</td>\n",
              "      <td>28</td>\n",
              "      <td>28</td>\n",
              "    </tr>\n",
              "  </tbody>\n",
              "</table>\n",
              "</div>"
            ],
            "text/plain": [
              "                   epoch_ms  ...  visitor_recognition_type\n",
              "ua_agent_class               ...                          \n",
              "Browser                7461  ...                      7461\n",
              "Browser Webview         391  ...                       391\n",
              "Cloud Application         2  ...                         2\n",
              "Hacker                  241  ...                       241\n",
              "Mobile App                4  ...                         4\n",
              "Robot                  3309  ...                      3309\n",
              "Robot Mobile           1029  ...                      1029\n",
              "Special                  28  ...                        28\n",
              "\n",
              "[8 rows x 7 columns]"
            ]
          },
          "metadata": {
            "tags": []
          },
          "execution_count": 24
        }
      ]
    },
    {
      "cell_type": "code",
      "metadata": {
        "colab_type": "code",
        "id": "YOJDQmykri3E",
        "outputId": "ec0596f0-b13c-4a77-d6c8-e4feeec54371",
        "colab": {
          "base_uri": "https://localhost:8080/",
          "height": 437
        }
      },
      "source": [
        "df_bol.groupby(['ua_agent_class', 'visitor_recognition_type']).count()"
      ],
      "execution_count": 0,
      "outputs": [
        {
          "output_type": "execute_result",
          "data": {
            "text/html": [
              "<div>\n",
              "<style scoped>\n",
              "    .dataframe tbody tr th:only-of-type {\n",
              "        vertical-align: middle;\n",
              "    }\n",
              "\n",
              "    .dataframe tbody tr th {\n",
              "        vertical-align: top;\n",
              "    }\n",
              "\n",
              "    .dataframe thead th {\n",
              "        text-align: right;\n",
              "    }\n",
              "</style>\n",
              "<table border=\"1\" class=\"dataframe\">\n",
              "  <thead>\n",
              "    <tr style=\"text-align: right;\">\n",
              "      <th></th>\n",
              "      <th></th>\n",
              "      <th>epoch_ms</th>\n",
              "      <th>session_id</th>\n",
              "      <th>country_by_ip_address</th>\n",
              "      <th>region_by_ip_address</th>\n",
              "      <th>url_without_parameters</th>\n",
              "      <th>referrer_without_parameters</th>\n",
              "    </tr>\n",
              "    <tr>\n",
              "      <th>ua_agent_class</th>\n",
              "      <th>visitor_recognition_type</th>\n",
              "      <th></th>\n",
              "      <th></th>\n",
              "      <th></th>\n",
              "      <th></th>\n",
              "      <th></th>\n",
              "      <th></th>\n",
              "    </tr>\n",
              "  </thead>\n",
              "  <tbody>\n",
              "    <tr>\n",
              "      <th rowspan=\"3\" valign=\"top\">Browser</th>\n",
              "      <th>ANONYMOUS</th>\n",
              "      <td>4350</td>\n",
              "      <td>4350</td>\n",
              "      <td>4350</td>\n",
              "      <td>4350</td>\n",
              "      <td>4350</td>\n",
              "      <td>4350</td>\n",
              "    </tr>\n",
              "    <tr>\n",
              "      <th>LOGGEDIN</th>\n",
              "      <td>614</td>\n",
              "      <td>614</td>\n",
              "      <td>614</td>\n",
              "      <td>614</td>\n",
              "      <td>614</td>\n",
              "      <td>614</td>\n",
              "    </tr>\n",
              "    <tr>\n",
              "      <th>RECOGNIZED</th>\n",
              "      <td>2497</td>\n",
              "      <td>2497</td>\n",
              "      <td>2497</td>\n",
              "      <td>2497</td>\n",
              "      <td>2497</td>\n",
              "      <td>2497</td>\n",
              "    </tr>\n",
              "    <tr>\n",
              "      <th rowspan=\"3\" valign=\"top\">Browser Webview</th>\n",
              "      <th>ANONYMOUS</th>\n",
              "      <td>184</td>\n",
              "      <td>184</td>\n",
              "      <td>184</td>\n",
              "      <td>184</td>\n",
              "      <td>184</td>\n",
              "      <td>184</td>\n",
              "    </tr>\n",
              "    <tr>\n",
              "      <th>LOGGEDIN</th>\n",
              "      <td>87</td>\n",
              "      <td>87</td>\n",
              "      <td>87</td>\n",
              "      <td>87</td>\n",
              "      <td>87</td>\n",
              "      <td>87</td>\n",
              "    </tr>\n",
              "    <tr>\n",
              "      <th>RECOGNIZED</th>\n",
              "      <td>120</td>\n",
              "      <td>120</td>\n",
              "      <td>120</td>\n",
              "      <td>120</td>\n",
              "      <td>120</td>\n",
              "      <td>120</td>\n",
              "    </tr>\n",
              "    <tr>\n",
              "      <th>Cloud Application</th>\n",
              "      <th>ANONYMOUS</th>\n",
              "      <td>2</td>\n",
              "      <td>2</td>\n",
              "      <td>2</td>\n",
              "      <td>2</td>\n",
              "      <td>2</td>\n",
              "      <td>2</td>\n",
              "    </tr>\n",
              "    <tr>\n",
              "      <th>Hacker</th>\n",
              "      <th>ANONYMOUS</th>\n",
              "      <td>241</td>\n",
              "      <td>241</td>\n",
              "      <td>241</td>\n",
              "      <td>241</td>\n",
              "      <td>241</td>\n",
              "      <td>241</td>\n",
              "    </tr>\n",
              "    <tr>\n",
              "      <th>Mobile App</th>\n",
              "      <th>ANONYMOUS</th>\n",
              "      <td>4</td>\n",
              "      <td>4</td>\n",
              "      <td>4</td>\n",
              "      <td>4</td>\n",
              "      <td>4</td>\n",
              "      <td>4</td>\n",
              "    </tr>\n",
              "    <tr>\n",
              "      <th>Robot</th>\n",
              "      <th>ANONYMOUS</th>\n",
              "      <td>3309</td>\n",
              "      <td>3309</td>\n",
              "      <td>3309</td>\n",
              "      <td>3309</td>\n",
              "      <td>3309</td>\n",
              "      <td>3309</td>\n",
              "    </tr>\n",
              "    <tr>\n",
              "      <th>Robot Mobile</th>\n",
              "      <th>ANONYMOUS</th>\n",
              "      <td>1029</td>\n",
              "      <td>1029</td>\n",
              "      <td>1029</td>\n",
              "      <td>1029</td>\n",
              "      <td>1029</td>\n",
              "      <td>1029</td>\n",
              "    </tr>\n",
              "    <tr>\n",
              "      <th>Special</th>\n",
              "      <th>ANONYMOUS</th>\n",
              "      <td>28</td>\n",
              "      <td>28</td>\n",
              "      <td>28</td>\n",
              "      <td>28</td>\n",
              "      <td>28</td>\n",
              "      <td>28</td>\n",
              "    </tr>\n",
              "  </tbody>\n",
              "</table>\n",
              "</div>"
            ],
            "text/plain": [
              "                                            epoch_ms  ...  referrer_without_parameters\n",
              "ua_agent_class    visitor_recognition_type            ...                             \n",
              "Browser           ANONYMOUS                     4350  ...                         4350\n",
              "                  LOGGEDIN                       614  ...                          614\n",
              "                  RECOGNIZED                    2497  ...                         2497\n",
              "Browser Webview   ANONYMOUS                      184  ...                          184\n",
              "                  LOGGEDIN                        87  ...                           87\n",
              "                  RECOGNIZED                     120  ...                          120\n",
              "Cloud Application ANONYMOUS                        2  ...                            2\n",
              "Hacker            ANONYMOUS                      241  ...                          241\n",
              "Mobile App        ANONYMOUS                        4  ...                            4\n",
              "Robot             ANONYMOUS                     3309  ...                         3309\n",
              "Robot Mobile      ANONYMOUS                     1029  ...                         1029\n",
              "Special           ANONYMOUS                       28  ...                           28\n",
              "\n",
              "[12 rows x 6 columns]"
            ]
          },
          "metadata": {
            "tags": []
          },
          "execution_count": 25
        }
      ]
    },
    {
      "cell_type": "markdown",
      "metadata": {
        "colab_type": "text",
        "id": "_CAmQCSVvmM1"
      },
      "source": [
        "### 3.4)- Checking categorical features"
      ]
    },
    {
      "cell_type": "code",
      "metadata": {
        "colab_type": "code",
        "id": "-GS3DiT_vDie",
        "outputId": "f34f25d4-1a24-424d-bab9-a5d1685053e1",
        "colab": {
          "base_uri": "https://localhost:8080/",
          "height": 158
        }
      },
      "source": [
        "# Checking unique categorical variables\n",
        "df_bol.select_dtypes('object').apply(pd.Series.nunique, axis = 0)"
      ],
      "execution_count": 0,
      "outputs": [
        {
          "output_type": "execute_result",
          "data": {
            "text/plain": [
              "session_id                     7937\n",
              "country_by_ip_address            51\n",
              "region_by_ip_address            165\n",
              "url_without_parameters         9325\n",
              "referrer_without_parameters    1839\n",
              "visitor_recognition_type          3\n",
              "ua_agent_class                    8\n",
              "dtype: int64"
            ]
          },
          "metadata": {
            "tags": []
          },
          "execution_count": 26
        }
      ]
    },
    {
      "cell_type": "markdown",
      "metadata": {
        "colab_type": "text",
        "id": "Po8D3C09v2Ka"
      },
      "source": [
        "Our feature of interests are \"ua_agent\" being our independant feature, country_by_ip_address, region_by_ip_address and visitor_recognition_type."
      ]
    },
    {
      "cell_type": "code",
      "metadata": {
        "colab_type": "code",
        "id": "nF5ZqECHvyH1",
        "outputId": "491d24b2-b8e9-40bd-8b06-913aeebdf8c6",
        "colab": {
          "base_uri": "https://localhost:8080/",
          "height": 34
        }
      },
      "source": [
        "# checking how many unique labels are in each feature\n",
        "df_bol['visitor_recognition_type'].unique()"
      ],
      "execution_count": 0,
      "outputs": [
        {
          "output_type": "execute_result",
          "data": {
            "text/plain": [
              "array(['ANONYMOUS', 'LOGGEDIN', 'RECOGNIZED', nan], dtype=object)"
            ]
          },
          "metadata": {
            "tags": []
          },
          "execution_count": 27
        }
      ]
    },
    {
      "cell_type": "code",
      "metadata": {
        "colab_type": "code",
        "id": "7iqjaK1ywVQX",
        "outputId": "bad184ca-0b2d-4113-f6d5-f7e25b91e6df",
        "colab": {
          "base_uri": "https://localhost:8080/",
          "height": 87
        }
      },
      "source": [
        "# how many times those labels classes occur\n",
        "df_bol['visitor_recognition_type'].value_counts()"
      ],
      "execution_count": 0,
      "outputs": [
        {
          "output_type": "execute_result",
          "data": {
            "text/plain": [
              "ANONYMOUS     9147\n",
              "RECOGNIZED    2617\n",
              "LOGGEDIN       701\n",
              "Name: visitor_recognition_type, dtype: int64"
            ]
          },
          "metadata": {
            "tags": []
          },
          "execution_count": 28
        }
      ]
    },
    {
      "cell_type": "code",
      "metadata": {
        "colab_type": "code",
        "id": "f8zFQqQXwmiu",
        "outputId": "3e5e2274-0609-493f-98ce-0e8d584dd013",
        "colab": {
          "base_uri": "https://localhost:8080/",
          "height": 467
        }
      },
      "source": [
        "df_bol['visitor_recognition_type'].value_counts().plot.bar()"
      ],
      "execution_count": 0,
      "outputs": [
        {
          "output_type": "execute_result",
          "data": {
            "text/plain": [
              "<matplotlib.axes._subplots.AxesSubplot at 0x7f3f3cdfcc88>"
            ]
          },
          "metadata": {
            "tags": []
          },
          "execution_count": 29
        },
        {
          "output_type": "display_data",
          "data": {
            "text/plain": [
              "<Figure size 432x288 with 1 Axes>"
            ],
            "image/svg+xml": "<?xml version=\"1.0\" encoding=\"utf-8\" standalone=\"no\"?>\n<!DOCTYPE svg PUBLIC \"-//W3C//DTD SVG 1.1//EN\"\n  \"http://www.w3.org/Graphics/SVG/1.1/DTD/svg11.dtd\">\n<!-- Created with matplotlib (https://matplotlib.org/) -->\n<svg height=\"321.227344pt\" version=\"1.1\" viewBox=\"0 0 392.695 321.227344\" width=\"392.695pt\" xmlns=\"http://www.w3.org/2000/svg\" xmlns:xlink=\"http://www.w3.org/1999/xlink\">\n <defs>\n  <style type=\"text/css\">\n*{stroke-linecap:butt;stroke-linejoin:round;}\n  </style>\n </defs>\n <g id=\"figure_1\">\n  <g id=\"patch_1\">\n   <path d=\"M 0 321.227344 \nL 392.695 321.227344 \nL 392.695 0 \nL 0 0 \nz\n\" style=\"fill:none;\"/>\n  </g>\n  <g id=\"axes_1\">\n   <g id=\"patch_2\">\n    <path d=\"M 44.695 230.64 \nL 379.495 230.64 \nL 379.495 13.2 \nL 44.695 13.2 \nz\n\" style=\"fill:#eaeaf2;\"/>\n   </g>\n   <g id=\"matplotlib.axis_1\">\n    <g id=\"xtick_1\">\n     <g id=\"line2d_1\">\n      <path clip-path=\"url(#p23a1e42534)\" d=\"M 100.495 230.64 \nL 100.495 13.2 \n\" style=\"fill:none;stroke:#ffffff;stroke-linecap:round;\"/>\n     </g>\n     <g id=\"text_1\">\n      <!-- ANONYMOUS -->\n      <defs>\n       <path d=\"M 34.1875 63.1875 \nL 20.796875 26.90625 \nL 47.609375 26.90625 \nz\nM 28.609375 72.90625 \nL 39.796875 72.90625 \nL 67.578125 0 \nL 57.328125 0 \nL 50.6875 18.703125 \nL 17.828125 18.703125 \nL 11.1875 0 \nL 0.78125 0 \nz\n\" id=\"DejaVuSans-65\"/>\n       <path d=\"M 9.8125 72.90625 \nL 23.09375 72.90625 \nL 55.421875 11.921875 \nL 55.421875 72.90625 \nL 64.984375 72.90625 \nL 64.984375 0 \nL 51.703125 0 \nL 19.390625 60.984375 \nL 19.390625 0 \nL 9.8125 0 \nz\n\" id=\"DejaVuSans-78\"/>\n       <path d=\"M 39.40625 66.21875 \nQ 28.65625 66.21875 22.328125 58.203125 \nQ 16.015625 50.203125 16.015625 36.375 \nQ 16.015625 22.609375 22.328125 14.59375 \nQ 28.65625 6.59375 39.40625 6.59375 \nQ 50.140625 6.59375 56.421875 14.59375 \nQ 62.703125 22.609375 62.703125 36.375 \nQ 62.703125 50.203125 56.421875 58.203125 \nQ 50.140625 66.21875 39.40625 66.21875 \nz\nM 39.40625 74.21875 \nQ 54.734375 74.21875 63.90625 63.9375 \nQ 73.09375 53.65625 73.09375 36.375 \nQ 73.09375 19.140625 63.90625 8.859375 \nQ 54.734375 -1.421875 39.40625 -1.421875 \nQ 24.03125 -1.421875 14.8125 8.828125 \nQ 5.609375 19.09375 5.609375 36.375 \nQ 5.609375 53.65625 14.8125 63.9375 \nQ 24.03125 74.21875 39.40625 74.21875 \nz\n\" id=\"DejaVuSans-79\"/>\n       <path d=\"M -0.203125 72.90625 \nL 10.40625 72.90625 \nL 30.609375 42.921875 \nL 50.6875 72.90625 \nL 61.28125 72.90625 \nL 35.5 34.71875 \nL 35.5 0 \nL 25.59375 0 \nL 25.59375 34.71875 \nz\n\" id=\"DejaVuSans-89\"/>\n       <path d=\"M 9.8125 72.90625 \nL 24.515625 72.90625 \nL 43.109375 23.296875 \nL 61.8125 72.90625 \nL 76.515625 72.90625 \nL 76.515625 0 \nL 66.890625 0 \nL 66.890625 64.015625 \nL 48.09375 14.015625 \nL 38.1875 14.015625 \nL 19.390625 64.015625 \nL 19.390625 0 \nL 9.8125 0 \nz\n\" id=\"DejaVuSans-77\"/>\n       <path d=\"M 8.6875 72.90625 \nL 18.609375 72.90625 \nL 18.609375 28.609375 \nQ 18.609375 16.890625 22.84375 11.734375 \nQ 27.09375 6.59375 36.625 6.59375 \nQ 46.09375 6.59375 50.34375 11.734375 \nQ 54.59375 16.890625 54.59375 28.609375 \nL 54.59375 72.90625 \nL 64.5 72.90625 \nL 64.5 27.390625 \nQ 64.5 13.140625 57.4375 5.859375 \nQ 50.390625 -1.421875 36.625 -1.421875 \nQ 22.796875 -1.421875 15.734375 5.859375 \nQ 8.6875 13.140625 8.6875 27.390625 \nz\n\" id=\"DejaVuSans-85\"/>\n       <path d=\"M 53.515625 70.515625 \nL 53.515625 60.890625 \nQ 47.90625 63.578125 42.921875 64.890625 \nQ 37.9375 66.21875 33.296875 66.21875 \nQ 25.25 66.21875 20.875 63.09375 \nQ 16.5 59.96875 16.5 54.203125 \nQ 16.5 49.359375 19.40625 46.890625 \nQ 22.3125 44.4375 30.421875 42.921875 \nL 36.375 41.703125 \nQ 47.40625 39.59375 52.65625 34.296875 \nQ 57.90625 29 57.90625 20.125 \nQ 57.90625 9.515625 50.796875 4.046875 \nQ 43.703125 -1.421875 29.984375 -1.421875 \nQ 24.8125 -1.421875 18.96875 -0.25 \nQ 13.140625 0.921875 6.890625 3.21875 \nL 6.890625 13.375 \nQ 12.890625 10.015625 18.65625 8.296875 \nQ 24.421875 6.59375 29.984375 6.59375 \nQ 38.421875 6.59375 43.015625 9.90625 \nQ 47.609375 13.234375 47.609375 19.390625 \nQ 47.609375 24.75 44.3125 27.78125 \nQ 41.015625 30.8125 33.5 32.328125 \nL 27.484375 33.5 \nQ 16.453125 35.6875 11.515625 40.375 \nQ 6.59375 45.0625 6.59375 53.421875 \nQ 6.59375 63.09375 13.40625 68.65625 \nQ 20.21875 74.21875 32.171875 74.21875 \nQ 37.3125 74.21875 42.625 73.28125 \nQ 47.953125 72.359375 53.515625 70.515625 \nz\n\" id=\"DejaVuSans-83\"/>\n      </defs>\n      <g style=\"fill:#262626;\" transform=\"translate(103.530313 312.685)rotate(-90)scale(0.11 -0.11)\">\n       <use xlink:href=\"#DejaVuSans-65\"/>\n       <use x=\"68.408203\" xlink:href=\"#DejaVuSans-78\"/>\n       <use x=\"143.212891\" xlink:href=\"#DejaVuSans-79\"/>\n       <use x=\"221.923828\" xlink:href=\"#DejaVuSans-78\"/>\n       <use x=\"296.728516\" xlink:href=\"#DejaVuSans-89\"/>\n       <use x=\"357.8125\" xlink:href=\"#DejaVuSans-77\"/>\n       <use x=\"444.091797\" xlink:href=\"#DejaVuSans-79\"/>\n       <use x=\"522.802734\" xlink:href=\"#DejaVuSans-85\"/>\n       <use x=\"595.996094\" xlink:href=\"#DejaVuSans-83\"/>\n      </g>\n     </g>\n    </g>\n    <g id=\"xtick_2\">\n     <g id=\"line2d_2\">\n      <path clip-path=\"url(#p23a1e42534)\" d=\"M 212.095 230.64 \nL 212.095 13.2 \n\" style=\"fill:none;stroke:#ffffff;stroke-linecap:round;\"/>\n     </g>\n     <g id=\"text_2\">\n      <!-- RECOGNIZED -->\n      <defs>\n       <path d=\"M 44.390625 34.1875 \nQ 47.5625 33.109375 50.5625 29.59375 \nQ 53.5625 26.078125 56.59375 19.921875 \nL 66.609375 0 \nL 56 0 \nL 46.6875 18.703125 \nQ 43.0625 26.03125 39.671875 28.421875 \nQ 36.28125 30.8125 30.421875 30.8125 \nL 19.671875 30.8125 \nL 19.671875 0 \nL 9.8125 0 \nL 9.8125 72.90625 \nL 32.078125 72.90625 \nQ 44.578125 72.90625 50.734375 67.671875 \nQ 56.890625 62.453125 56.890625 51.90625 \nQ 56.890625 45.015625 53.6875 40.46875 \nQ 50.484375 35.9375 44.390625 34.1875 \nz\nM 19.671875 64.796875 \nL 19.671875 38.921875 \nL 32.078125 38.921875 \nQ 39.203125 38.921875 42.84375 42.21875 \nQ 46.484375 45.515625 46.484375 51.90625 \nQ 46.484375 58.296875 42.84375 61.546875 \nQ 39.203125 64.796875 32.078125 64.796875 \nz\n\" id=\"DejaVuSans-82\"/>\n       <path d=\"M 9.8125 72.90625 \nL 55.90625 72.90625 \nL 55.90625 64.59375 \nL 19.671875 64.59375 \nL 19.671875 43.015625 \nL 54.390625 43.015625 \nL 54.390625 34.71875 \nL 19.671875 34.71875 \nL 19.671875 8.296875 \nL 56.78125 8.296875 \nL 56.78125 0 \nL 9.8125 0 \nz\n\" id=\"DejaVuSans-69\"/>\n       <path d=\"M 64.40625 67.28125 \nL 64.40625 56.890625 \nQ 59.421875 61.53125 53.78125 63.8125 \nQ 48.140625 66.109375 41.796875 66.109375 \nQ 29.296875 66.109375 22.65625 58.46875 \nQ 16.015625 50.828125 16.015625 36.375 \nQ 16.015625 21.96875 22.65625 14.328125 \nQ 29.296875 6.6875 41.796875 6.6875 \nQ 48.140625 6.6875 53.78125 8.984375 \nQ 59.421875 11.28125 64.40625 15.921875 \nL 64.40625 5.609375 \nQ 59.234375 2.09375 53.4375 0.328125 \nQ 47.65625 -1.421875 41.21875 -1.421875 \nQ 24.65625 -1.421875 15.125 8.703125 \nQ 5.609375 18.84375 5.609375 36.375 \nQ 5.609375 53.953125 15.125 64.078125 \nQ 24.65625 74.21875 41.21875 74.21875 \nQ 47.75 74.21875 53.53125 72.484375 \nQ 59.328125 70.75 64.40625 67.28125 \nz\n\" id=\"DejaVuSans-67\"/>\n       <path d=\"M 59.515625 10.40625 \nL 59.515625 29.984375 \nL 43.40625 29.984375 \nL 43.40625 38.09375 \nL 69.28125 38.09375 \nL 69.28125 6.78125 \nQ 63.578125 2.734375 56.6875 0.65625 \nQ 49.8125 -1.421875 42 -1.421875 \nQ 24.90625 -1.421875 15.25 8.5625 \nQ 5.609375 18.5625 5.609375 36.375 \nQ 5.609375 54.25 15.25 64.234375 \nQ 24.90625 74.21875 42 74.21875 \nQ 49.125 74.21875 55.546875 72.453125 \nQ 61.96875 70.703125 67.390625 67.28125 \nL 67.390625 56.78125 \nQ 61.921875 61.421875 55.765625 63.765625 \nQ 49.609375 66.109375 42.828125 66.109375 \nQ 29.4375 66.109375 22.71875 58.640625 \nQ 16.015625 51.171875 16.015625 36.375 \nQ 16.015625 21.625 22.71875 14.15625 \nQ 29.4375 6.6875 42.828125 6.6875 \nQ 48.046875 6.6875 52.140625 7.59375 \nQ 56.25 8.5 59.515625 10.40625 \nz\n\" id=\"DejaVuSans-71\"/>\n       <path d=\"M 9.8125 72.90625 \nL 19.671875 72.90625 \nL 19.671875 0 \nL 9.8125 0 \nz\n\" id=\"DejaVuSans-73\"/>\n       <path d=\"M 5.609375 72.90625 \nL 62.890625 72.90625 \nL 62.890625 65.375 \nL 16.796875 8.296875 \nL 64.015625 8.296875 \nL 64.015625 0 \nL 4.5 0 \nL 4.5 7.515625 \nL 50.59375 64.59375 \nL 5.609375 64.59375 \nz\n\" id=\"DejaVuSans-90\"/>\n       <path d=\"M 19.671875 64.796875 \nL 19.671875 8.109375 \nL 31.59375 8.109375 \nQ 46.6875 8.109375 53.6875 14.9375 \nQ 60.6875 21.78125 60.6875 36.53125 \nQ 60.6875 51.171875 53.6875 57.984375 \nQ 46.6875 64.796875 31.59375 64.796875 \nz\nM 9.8125 72.90625 \nL 30.078125 72.90625 \nQ 51.265625 72.90625 61.171875 64.09375 \nQ 71.09375 55.28125 71.09375 36.53125 \nQ 71.09375 17.671875 61.125 8.828125 \nQ 51.171875 0 30.078125 0 \nL 9.8125 0 \nz\n\" id=\"DejaVuSans-68\"/>\n      </defs>\n      <g style=\"fill:#262626;\" transform=\"translate(215.130313 314.027344)rotate(-90)scale(0.11 -0.11)\">\n       <use xlink:href=\"#DejaVuSans-82\"/>\n       <use x=\"69.482422\" xlink:href=\"#DejaVuSans-69\"/>\n       <use x=\"132.666016\" xlink:href=\"#DejaVuSans-67\"/>\n       <use x=\"202.490234\" xlink:href=\"#DejaVuSans-79\"/>\n       <use x=\"281.201172\" xlink:href=\"#DejaVuSans-71\"/>\n       <use x=\"358.691406\" xlink:href=\"#DejaVuSans-78\"/>\n       <use x=\"433.496094\" xlink:href=\"#DejaVuSans-73\"/>\n       <use x=\"462.988281\" xlink:href=\"#DejaVuSans-90\"/>\n       <use x=\"531.494141\" xlink:href=\"#DejaVuSans-69\"/>\n       <use x=\"594.677734\" xlink:href=\"#DejaVuSans-68\"/>\n      </g>\n     </g>\n    </g>\n    <g id=\"xtick_3\">\n     <g id=\"line2d_3\">\n      <path clip-path=\"url(#p23a1e42534)\" d=\"M 323.695 230.64 \nL 323.695 13.2 \n\" style=\"fill:none;stroke:#ffffff;stroke-linecap:round;\"/>\n     </g>\n     <g id=\"text_3\">\n      <!-- LOGGEDIN -->\n      <defs>\n       <path d=\"M 9.8125 72.90625 \nL 19.671875 72.90625 \nL 19.671875 8.296875 \nL 55.171875 8.296875 \nL 55.171875 0 \nL 9.8125 0 \nz\n\" id=\"DejaVuSans-76\"/>\n      </defs>\n      <g style=\"fill:#262626;\" transform=\"translate(326.730312 298.864531)rotate(-90)scale(0.11 -0.11)\">\n       <use xlink:href=\"#DejaVuSans-76\"/>\n       <use x=\"55.666016\" xlink:href=\"#DejaVuSans-79\"/>\n       <use x=\"134.376953\" xlink:href=\"#DejaVuSans-71\"/>\n       <use x=\"211.867188\" xlink:href=\"#DejaVuSans-71\"/>\n       <use x=\"289.357422\" xlink:href=\"#DejaVuSans-69\"/>\n       <use x=\"352.541016\" xlink:href=\"#DejaVuSans-68\"/>\n       <use x=\"429.542969\" xlink:href=\"#DejaVuSans-73\"/>\n       <use x=\"459.035156\" xlink:href=\"#DejaVuSans-78\"/>\n      </g>\n     </g>\n    </g>\n   </g>\n   <g id=\"matplotlib.axis_2\">\n    <g id=\"ytick_1\">\n     <g id=\"line2d_4\">\n      <path clip-path=\"url(#p23a1e42534)\" d=\"M 44.695 230.64 \nL 379.495 230.64 \n\" style=\"fill:none;stroke:#ffffff;stroke-linecap:round;\"/>\n     </g>\n     <g id=\"text_4\">\n      <!-- 0 -->\n      <defs>\n       <path d=\"M 31.78125 66.40625 \nQ 24.171875 66.40625 20.328125 58.90625 \nQ 16.5 51.421875 16.5 36.375 \nQ 16.5 21.390625 20.328125 13.890625 \nQ 24.171875 6.390625 31.78125 6.390625 \nQ 39.453125 6.390625 43.28125 13.890625 \nQ 47.125 21.390625 47.125 36.375 \nQ 47.125 51.421875 43.28125 58.90625 \nQ 39.453125 66.40625 31.78125 66.40625 \nz\nM 31.78125 74.21875 \nQ 44.046875 74.21875 50.515625 64.515625 \nQ 56.984375 54.828125 56.984375 36.375 \nQ 56.984375 17.96875 50.515625 8.265625 \nQ 44.046875 -1.421875 31.78125 -1.421875 \nQ 19.53125 -1.421875 13.0625 8.265625 \nQ 6.59375 17.96875 6.59375 36.375 \nQ 6.59375 54.828125 13.0625 64.515625 \nQ 19.53125 74.21875 31.78125 74.21875 \nz\n\" id=\"DejaVuSans-48\"/>\n      </defs>\n      <g style=\"fill:#262626;\" transform=\"translate(28.19625 234.819141)scale(0.11 -0.11)\">\n       <use xlink:href=\"#DejaVuSans-48\"/>\n      </g>\n     </g>\n    </g>\n    <g id=\"ytick_2\">\n     <g id=\"line2d_5\">\n      <path clip-path=\"url(#p23a1e42534)\" d=\"M 44.695 185.360517 \nL 379.495 185.360517 \n\" style=\"fill:none;stroke:#ffffff;stroke-linecap:round;\"/>\n     </g>\n     <g id=\"text_5\">\n      <!-- 2000 -->\n      <defs>\n       <path d=\"M 19.1875 8.296875 \nL 53.609375 8.296875 \nL 53.609375 0 \nL 7.328125 0 \nL 7.328125 8.296875 \nQ 12.9375 14.109375 22.625 23.890625 \nQ 32.328125 33.6875 34.8125 36.53125 \nQ 39.546875 41.84375 41.421875 45.53125 \nQ 43.3125 49.21875 43.3125 52.78125 \nQ 43.3125 58.59375 39.234375 62.25 \nQ 35.15625 65.921875 28.609375 65.921875 \nQ 23.96875 65.921875 18.8125 64.3125 \nQ 13.671875 62.703125 7.8125 59.421875 \nL 7.8125 69.390625 \nQ 13.765625 71.78125 18.9375 73 \nQ 24.125 74.21875 28.421875 74.21875 \nQ 39.75 74.21875 46.484375 68.546875 \nQ 53.21875 62.890625 53.21875 53.421875 \nQ 53.21875 48.921875 51.53125 44.890625 \nQ 49.859375 40.875 45.40625 35.40625 \nQ 44.1875 33.984375 37.640625 27.21875 \nQ 31.109375 20.453125 19.1875 8.296875 \nz\n\" id=\"DejaVuSans-50\"/>\n      </defs>\n      <g style=\"fill:#262626;\" transform=\"translate(7.2 189.539658)scale(0.11 -0.11)\">\n       <use xlink:href=\"#DejaVuSans-50\"/>\n       <use x=\"63.623047\" xlink:href=\"#DejaVuSans-48\"/>\n       <use x=\"127.246094\" xlink:href=\"#DejaVuSans-48\"/>\n       <use x=\"190.869141\" xlink:href=\"#DejaVuSans-48\"/>\n      </g>\n     </g>\n    </g>\n    <g id=\"ytick_3\">\n     <g id=\"line2d_6\">\n      <path clip-path=\"url(#p23a1e42534)\" d=\"M 44.695 140.081035 \nL 379.495 140.081035 \n\" style=\"fill:none;stroke:#ffffff;stroke-linecap:round;\"/>\n     </g>\n     <g id=\"text_6\">\n      <!-- 4000 -->\n      <defs>\n       <path d=\"M 37.796875 64.3125 \nL 12.890625 25.390625 \nL 37.796875 25.390625 \nz\nM 35.203125 72.90625 \nL 47.609375 72.90625 \nL 47.609375 25.390625 \nL 58.015625 25.390625 \nL 58.015625 17.1875 \nL 47.609375 17.1875 \nL 47.609375 0 \nL 37.796875 0 \nL 37.796875 17.1875 \nL 4.890625 17.1875 \nL 4.890625 26.703125 \nz\n\" id=\"DejaVuSans-52\"/>\n      </defs>\n      <g style=\"fill:#262626;\" transform=\"translate(7.2 144.260175)scale(0.11 -0.11)\">\n       <use xlink:href=\"#DejaVuSans-52\"/>\n       <use x=\"63.623047\" xlink:href=\"#DejaVuSans-48\"/>\n       <use x=\"127.246094\" xlink:href=\"#DejaVuSans-48\"/>\n       <use x=\"190.869141\" xlink:href=\"#DejaVuSans-48\"/>\n      </g>\n     </g>\n    </g>\n    <g id=\"ytick_4\">\n     <g id=\"line2d_7\">\n      <path clip-path=\"url(#p23a1e42534)\" d=\"M 44.695 94.801552 \nL 379.495 94.801552 \n\" style=\"fill:none;stroke:#ffffff;stroke-linecap:round;\"/>\n     </g>\n     <g id=\"text_7\">\n      <!-- 6000 -->\n      <defs>\n       <path d=\"M 33.015625 40.375 \nQ 26.375 40.375 22.484375 35.828125 \nQ 18.609375 31.296875 18.609375 23.390625 \nQ 18.609375 15.53125 22.484375 10.953125 \nQ 26.375 6.390625 33.015625 6.390625 \nQ 39.65625 6.390625 43.53125 10.953125 \nQ 47.40625 15.53125 47.40625 23.390625 \nQ 47.40625 31.296875 43.53125 35.828125 \nQ 39.65625 40.375 33.015625 40.375 \nz\nM 52.59375 71.296875 \nL 52.59375 62.3125 \nQ 48.875 64.0625 45.09375 64.984375 \nQ 41.3125 65.921875 37.59375 65.921875 \nQ 27.828125 65.921875 22.671875 59.328125 \nQ 17.53125 52.734375 16.796875 39.40625 \nQ 19.671875 43.65625 24.015625 45.921875 \nQ 28.375 48.1875 33.59375 48.1875 \nQ 44.578125 48.1875 50.953125 41.515625 \nQ 57.328125 34.859375 57.328125 23.390625 \nQ 57.328125 12.15625 50.6875 5.359375 \nQ 44.046875 -1.421875 33.015625 -1.421875 \nQ 20.359375 -1.421875 13.671875 8.265625 \nQ 6.984375 17.96875 6.984375 36.375 \nQ 6.984375 53.65625 15.1875 63.9375 \nQ 23.390625 74.21875 37.203125 74.21875 \nQ 40.921875 74.21875 44.703125 73.484375 \nQ 48.484375 72.75 52.59375 71.296875 \nz\n\" id=\"DejaVuSans-54\"/>\n      </defs>\n      <g style=\"fill:#262626;\" transform=\"translate(7.2 98.980692)scale(0.11 -0.11)\">\n       <use xlink:href=\"#DejaVuSans-54\"/>\n       <use x=\"63.623047\" xlink:href=\"#DejaVuSans-48\"/>\n       <use x=\"127.246094\" xlink:href=\"#DejaVuSans-48\"/>\n       <use x=\"190.869141\" xlink:href=\"#DejaVuSans-48\"/>\n      </g>\n     </g>\n    </g>\n    <g id=\"ytick_5\">\n     <g id=\"line2d_8\">\n      <path clip-path=\"url(#p23a1e42534)\" d=\"M 44.695 49.522069 \nL 379.495 49.522069 \n\" style=\"fill:none;stroke:#ffffff;stroke-linecap:round;\"/>\n     </g>\n     <g id=\"text_8\">\n      <!-- 8000 -->\n      <defs>\n       <path d=\"M 31.78125 34.625 \nQ 24.75 34.625 20.71875 30.859375 \nQ 16.703125 27.09375 16.703125 20.515625 \nQ 16.703125 13.921875 20.71875 10.15625 \nQ 24.75 6.390625 31.78125 6.390625 \nQ 38.8125 6.390625 42.859375 10.171875 \nQ 46.921875 13.96875 46.921875 20.515625 \nQ 46.921875 27.09375 42.890625 30.859375 \nQ 38.875 34.625 31.78125 34.625 \nz\nM 21.921875 38.8125 \nQ 15.578125 40.375 12.03125 44.71875 \nQ 8.5 49.078125 8.5 55.328125 \nQ 8.5 64.0625 14.71875 69.140625 \nQ 20.953125 74.21875 31.78125 74.21875 \nQ 42.671875 74.21875 48.875 69.140625 \nQ 55.078125 64.0625 55.078125 55.328125 \nQ 55.078125 49.078125 51.53125 44.71875 \nQ 48 40.375 41.703125 38.8125 \nQ 48.828125 37.15625 52.796875 32.3125 \nQ 56.78125 27.484375 56.78125 20.515625 \nQ 56.78125 9.90625 50.3125 4.234375 \nQ 43.84375 -1.421875 31.78125 -1.421875 \nQ 19.734375 -1.421875 13.25 4.234375 \nQ 6.78125 9.90625 6.78125 20.515625 \nQ 6.78125 27.484375 10.78125 32.3125 \nQ 14.796875 37.15625 21.921875 38.8125 \nz\nM 18.3125 54.390625 \nQ 18.3125 48.734375 21.84375 45.5625 \nQ 25.390625 42.390625 31.78125 42.390625 \nQ 38.140625 42.390625 41.71875 45.5625 \nQ 45.3125 48.734375 45.3125 54.390625 \nQ 45.3125 60.0625 41.71875 63.234375 \nQ 38.140625 66.40625 31.78125 66.40625 \nQ 25.390625 66.40625 21.84375 63.234375 \nQ 18.3125 60.0625 18.3125 54.390625 \nz\n\" id=\"DejaVuSans-56\"/>\n      </defs>\n      <g style=\"fill:#262626;\" transform=\"translate(7.2 53.70121)scale(0.11 -0.11)\">\n       <use xlink:href=\"#DejaVuSans-56\"/>\n       <use x=\"63.623047\" xlink:href=\"#DejaVuSans-48\"/>\n       <use x=\"127.246094\" xlink:href=\"#DejaVuSans-48\"/>\n       <use x=\"190.869141\" xlink:href=\"#DejaVuSans-48\"/>\n      </g>\n     </g>\n    </g>\n   </g>\n   <g id=\"patch_3\">\n    <path clip-path=\"url(#p23a1e42534)\" d=\"M 72.595 230.64 \nL 128.395 230.64 \nL 128.395 23.554286 \nL 72.595 23.554286 \nz\n\" style=\"fill:#4c72b0;stroke:#ffffff;stroke-linejoin:miter;\"/>\n   </g>\n   <g id=\"patch_4\">\n    <path clip-path=\"url(#p23a1e42534)\" d=\"M 184.195 230.64 \nL 239.995 230.64 \nL 239.995 171.391797 \nL 184.195 171.391797 \nz\n\" style=\"fill:#4c72b0;stroke:#ffffff;stroke-linejoin:miter;\"/>\n   </g>\n   <g id=\"patch_5\">\n    <path clip-path=\"url(#p23a1e42534)\" d=\"M 295.795 230.64 \nL 351.595 230.64 \nL 351.595 214.769541 \nL 295.795 214.769541 \nz\n\" style=\"fill:#4c72b0;stroke:#ffffff;stroke-linejoin:miter;\"/>\n   </g>\n   <g id=\"patch_6\">\n    <path d=\"M 44.695 230.64 \nL 44.695 13.2 \n\" style=\"fill:none;stroke:#ffffff;stroke-linecap:square;stroke-linejoin:miter;stroke-width:1.25;\"/>\n   </g>\n   <g id=\"patch_7\">\n    <path d=\"M 379.495 230.64 \nL 379.495 13.2 \n\" style=\"fill:none;stroke:#ffffff;stroke-linecap:square;stroke-linejoin:miter;stroke-width:1.25;\"/>\n   </g>\n   <g id=\"patch_8\">\n    <path d=\"M 44.695 230.64 \nL 379.495 230.64 \n\" style=\"fill:none;stroke:#ffffff;stroke-linecap:square;stroke-linejoin:miter;stroke-width:1.25;\"/>\n   </g>\n   <g id=\"patch_9\">\n    <path d=\"M 44.695 13.2 \nL 379.495 13.2 \n\" style=\"fill:none;stroke:#ffffff;stroke-linecap:square;stroke-linejoin:miter;stroke-width:1.25;\"/>\n   </g>\n  </g>\n </g>\n <defs>\n  <clipPath id=\"p23a1e42534\">\n   <rect height=\"217.44\" width=\"334.8\" x=\"44.695\" y=\"13.2\"/>\n  </clipPath>\n </defs>\n</svg>\n"
          },
          "metadata": {
            "tags": []
          }
        }
      ]
    },
    {
      "cell_type": "code",
      "metadata": {
        "colab_type": "code",
        "id": "fzMiSMIXxVig",
        "outputId": "72cbd58a-edcc-4a1f-a69e-41f4018f7138",
        "colab": {
          "base_uri": "https://localhost:8080/",
          "height": 105
        }
      },
      "source": [
        "# Let's check other categorical variables such as country_by_ip_address\n",
        "\n",
        "df_bol['country_by_ip_address'].unique()"
      ],
      "execution_count": 0,
      "outputs": [
        {
          "output_type": "execute_result",
          "data": {
            "text/plain": [
              "array(['US', 'IT', 'NL', 'BE', 'VARIOUS', 'UA', 'FR', 'DE', 'PL', 'CN',\n",
              "       'IE', 'RU', 'GB', 'AT', 'HU', 'JP', 'CA', 'PT', 'ES', 'CH', 'LT',\n",
              "       'ID', 'IN', 'TR', 'IR', 'MY', 'NZ', 'AU', 'TH', 'BD', 'QA', 'CZ',\n",
              "       'VN', 'MN', 'IL', 'FI', 'AM', 'DK', 'SR', 'GR', 'SE', 'LV', 'PK',\n",
              "       'LU', 'MA', 'MD', 'BG', 'BR', 'HR', 'AR', 'AL'], dtype=object)"
            ]
          },
          "metadata": {
            "tags": []
          },
          "execution_count": 30
        }
      ]
    },
    {
      "cell_type": "code",
      "metadata": {
        "colab_type": "code",
        "id": "wwhe93fiRFrk",
        "outputId": "027eb216-a5bd-45ad-a811-0e0e7ffe7ce0",
        "colab": {
          "base_uri": "https://localhost:8080/",
          "height": 212
        }
      },
      "source": [
        "df_bol['country_by_ip_address'].value_counts()[:10]"
      ],
      "execution_count": 0,
      "outputs": [
        {
          "output_type": "execute_result",
          "data": {
            "text/plain": [
              "NL         5386\n",
              "US         4652\n",
              "BE         1622\n",
              "GB          241\n",
              "DE          138\n",
              "CN           62\n",
              "FR           55\n",
              "VARIOUS      47\n",
              "UA           33\n",
              "RU           22\n",
              "Name: country_by_ip_address, dtype: int64"
            ]
          },
          "metadata": {
            "tags": []
          },
          "execution_count": 31
        }
      ]
    },
    {
      "cell_type": "code",
      "metadata": {
        "colab_type": "code",
        "id": "r57rjF3TRK11",
        "outputId": "2c39d4d7-37e2-4895-d493-afc939dd55bd",
        "colab": {
          "base_uri": "https://localhost:8080/",
          "height": 301
        }
      },
      "source": [
        "df_bol['region_by_ip_address'].unique()"
      ],
      "execution_count": 0,
      "outputs": [
        {
          "output_type": "execute_result",
          "data": {
            "text/plain": [
              "array(['CA', 'LI', 'NB', 'UT', 'ZH', 'VARIOUS', 'GE', 'DR', 'GR', 'FL',\n",
              "       'BRU', 'VAN', 'NH', 'OV', 'SO', 'VLI', 'FR', 'OK', '30', 'VWV',\n",
              "       'BW', 'MZ', 'BJ', 'ZE', 'VOV', 'VBR', 'L', 'VLA', 'BOL', 'WA', '7',\n",
              "       '5', 'AZ', 'NY', 'PA', 'VA', 'BU', 'ENG', 'WHT', 'TN', '13', 'IL',\n",
              "       'NV', '69', 'WNA', 'AL', 'IN', 'ON', 'WLG', 'NJ', 'MN', '11', 'ND',\n",
              "       'AR', 'DA', 'RM', 'QC', 'SD', 'TOM', 'ZG', '05', 'JI', 'HE', 'AP',\n",
              "       '59', 'CO', '08', '67', '03', '35', 'WBR', '14', 'AUK', 'NSW',\n",
              "       '64', 'MOS', '23', 'MD', 'ZP', '10', 'IA', 'LU', 'LA', '29', 'KP',\n",
              "       'HN', '1', 'NYK', 'TA', '18', 'BA', 'ER', '27', '07', '81', 'TX',\n",
              "       'NW', 'IRK', 'CM', 'MI', '40', 'I', 'JK', 'SI', 'GA', '26', 'OR',\n",
              "       'MS', '24', '71', 'WKO', '9', 'NC', 'VGG', 'AB', 'LK', 'MOW',\n",
              "       'RIX', 'PB', 'M', 'ME', 'SL', 'KHE', 'OH', 'ID', 'CT', 'MO', 'MA',\n",
              "       '6', 'NI', '12', 'GRE', 'BY', '92', 'CU', 'CAS', '20', 'A', 'GI',\n",
              "       'SH', 'FI', 'SRY', 'BE', 'WI', 'NFK', 'ULY', '51', '21', '16',\n",
              "       'AM', '83', 'GJ', 'UP', 'S', 'B', 'SA', '22', 'PK', '77', 'DL',\n",
              "       '91', '45', 'KS', '04', '75'], dtype=object)"
            ]
          },
          "metadata": {
            "tags": []
          },
          "execution_count": 32
        }
      ]
    },
    {
      "cell_type": "code",
      "metadata": {
        "colab_type": "code",
        "id": "GSBDxX9SRl7f",
        "outputId": "1d9ad3e3-c485-46fc-8bba-095cdfcbce7f",
        "colab": {
          "base_uri": "https://localhost:8080/",
          "height": 212
        }
      },
      "source": [
        "df_bol['region_by_ip_address'].value_counts()[:10]"
      ],
      "execution_count": 0,
      "outputs": [
        {
          "output_type": "execute_result",
          "data": {
            "text/plain": [
              "CA         4232\n",
              "VARIOUS    2090\n",
              "ZH          907\n",
              "NH          876\n",
              "VAN         489\n",
              "NB          463\n",
              "GE          408\n",
              "UT          322\n",
              "VOV         316\n",
              "OV          204\n",
              "Name: region_by_ip_address, dtype: int64"
            ]
          },
          "metadata": {
            "tags": []
          },
          "execution_count": 33
        }
      ]
    },
    {
      "cell_type": "markdown",
      "metadata": {
        "colab_type": "text",
        "id": "OacKjp25SXkj"
      },
      "source": [
        "### 3.5)- Dependant Feature"
      ]
    },
    {
      "cell_type": "code",
      "metadata": {
        "colab_type": "code",
        "id": "nObPSl8USbYP",
        "outputId": "0aebf896-4249-408e-b89b-75eae7f69005",
        "colab": {
          "base_uri": "https://localhost:8080/",
          "height": 52
        }
      },
      "source": [
        "df_bol['ua_agent_class'].unique()"
      ],
      "execution_count": 0,
      "outputs": [
        {
          "output_type": "execute_result",
          "data": {
            "text/plain": [
              "array(['Robot', 'Browser', 'Robot Mobile', 'Browser Webview', 'Hacker',\n",
              "       'Special', 'Mobile App', 'Cloud Application', nan], dtype=object)"
            ]
          },
          "metadata": {
            "tags": []
          },
          "execution_count": 48
        }
      ]
    },
    {
      "cell_type": "code",
      "metadata": {
        "colab_type": "code",
        "id": "hIcTDkjhb_rQ",
        "outputId": "65b21498-2c25-4562-f725-28ea33e6f984",
        "colab": {
          "base_uri": "https://localhost:8080/",
          "height": 34
        }
      },
      "source": [
        "df_bol.shape"
      ],
      "execution_count": 0,
      "outputs": [
        {
          "output_type": "execute_result",
          "data": {
            "text/plain": [
              "(12466, 8)"
            ]
          },
          "metadata": {
            "tags": []
          },
          "execution_count": 49
        }
      ]
    },
    {
      "cell_type": "markdown",
      "metadata": {
        "colab_type": "text",
        "id": "tG5glY8ySjKC"
      },
      "source": [
        "I will choose to divide into only two categories according to our problem statement.Our categories are bot traffic coming  from search engines (NHT-search), other bot traffic (NHT-other) and human traffic (HT). \n",
        "\n",
        "- I will choose first a binary problem where we have only Non-human traffice and Human traffice.\n",
        "\n",
        "- Second case will be for three classes where traffic coming  from search engines (NHT-search), other bot traffic (NHT-other) and human traffic (HT) will be considered"
      ]
    },
    {
      "cell_type": "markdown",
      "metadata": {
        "colab_type": "text",
        "id": "86S8q9P6b7Pq"
      },
      "source": [
        "**I am not sure about what special is. So, I ll remove it from our category**"
      ]
    },
    {
      "cell_type": "code",
      "metadata": {
        "colab_type": "code",
        "id": "Uc7W7iGfb8no",
        "outputId": "62a82ff5-ead7-46ed-8b66-76384f440f0c",
        "colab": {
          "base_uri": "https://localhost:8080/",
          "height": 34
        }
      },
      "source": [
        "df_bol = df_bol[~df_bol['ua_agent_class'].isin(['Special'])]\n",
        "df_bol.shape"
      ],
      "execution_count": 0,
      "outputs": [
        {
          "output_type": "execute_result",
          "data": {
            "text/plain": [
              "(12438, 8)"
            ]
          },
          "metadata": {
            "tags": []
          },
          "execution_count": 50
        }
      ]
    },
    {
      "cell_type": "code",
      "metadata": {
        "colab_type": "code",
        "id": "bC4cJhIMcYeb",
        "outputId": "b6568037-3461-4681-8f88-c7b3d77545bf",
        "colab": {
          "base_uri": "https://localhost:8080/",
          "height": 158
        }
      },
      "source": [
        "df_bol.ua_agent_class.value_counts()"
      ],
      "execution_count": 0,
      "outputs": [
        {
          "output_type": "execute_result",
          "data": {
            "text/plain": [
              "Browser              7461\n",
              "Robot                3309\n",
              "Robot Mobile         1029\n",
              "Browser Webview       391\n",
              "Hacker                241\n",
              "Mobile App              4\n",
              "Cloud Application       2\n",
              "Name: ua_agent_class, dtype: int64"
            ]
          },
          "metadata": {
            "tags": []
          },
          "execution_count": 51
        }
      ]
    },
    {
      "cell_type": "code",
      "metadata": {
        "colab_type": "code",
        "id": "rHTxaJ0wcsdx",
        "colab": {}
      },
      "source": [
        "df_bol['labels'] = df_bol.ua_agent_class.map({'Robot':'NHT', 'Robot Mobile':'NHT','Browser':'HT', 'Browser Webview':'HT','Hacker':'HT','Mobile App':'HT','Cloud Application':'HT'})"
      ],
      "execution_count": 0,
      "outputs": []
    },
    {
      "cell_type": "code",
      "metadata": {
        "colab_type": "code",
        "id": "JnTfm4zvdfra",
        "outputId": "293f6839-87e3-42b5-fd01-8318f947498e",
        "colab": {
          "base_uri": "https://localhost:8080/",
          "height": 70
        }
      },
      "source": [
        "df_bol.labels.value_counts()"
      ],
      "execution_count": 0,
      "outputs": [
        {
          "output_type": "execute_result",
          "data": {
            "text/plain": [
              "HT     8099\n",
              "NHT    4338\n",
              "Name: labels, dtype: int64"
            ]
          },
          "metadata": {
            "tags": []
          },
          "execution_count": 53
        }
      ]
    },
    {
      "cell_type": "code",
      "metadata": {
        "colab_type": "code",
        "id": "RZ9OYDNkeawO",
        "outputId": "514b2cb3-70a0-4027-865e-1e8ac824d56e",
        "colab": {
          "base_uri": "https://localhost:8080/",
          "height": 400
        }
      },
      "source": [
        "df_bol.labels.value_counts().plot(kind='bar')"
      ],
      "execution_count": 0,
      "outputs": [
        {
          "output_type": "execute_result",
          "data": {
            "text/plain": [
              "<matplotlib.axes._subplots.AxesSubplot at 0x7f3f3ada4ac8>"
            ]
          },
          "metadata": {
            "tags": []
          },
          "execution_count": 54
        },
        {
          "output_type": "display_data",
          "data": {
            "text/plain": [
              "<Figure size 432x288 with 1 Axes>"
            ],
            "image/svg+xml": "<?xml version=\"1.0\" encoding=\"utf-8\" standalone=\"no\"?>\n<!DOCTYPE svg PUBLIC \"-//W3C//DTD SVG 1.1//EN\"\n  \"http://www.w3.org/Graphics/SVG/1.1/DTD/svg11.dtd\">\n<!-- Created with matplotlib (https://matplotlib.org/) -->\n<svg height=\"270.560313pt\" version=\"1.1\" viewBox=\"0 0 392.695 270.560313\" width=\"392.695pt\" xmlns=\"http://www.w3.org/2000/svg\" xmlns:xlink=\"http://www.w3.org/1999/xlink\">\n <defs>\n  <style type=\"text/css\">\n*{stroke-linecap:butt;stroke-linejoin:round;}\n  </style>\n </defs>\n <g id=\"figure_1\">\n  <g id=\"patch_1\">\n   <path d=\"M 0 270.560313 \nL 392.695 270.560313 \nL 392.695 0 \nL 0 0 \nz\n\" style=\"fill:none;\"/>\n  </g>\n  <g id=\"axes_1\">\n   <g id=\"patch_2\">\n    <path d=\"M 44.695 230.64 \nL 379.495 230.64 \nL 379.495 13.2 \nL 44.695 13.2 \nz\n\" style=\"fill:#eaeaf2;\"/>\n   </g>\n   <g id=\"matplotlib.axis_1\">\n    <g id=\"xtick_1\">\n     <g id=\"line2d_1\">\n      <path clip-path=\"url(#pbc3961885b)\" d=\"M 128.395 230.64 \nL 128.395 13.2 \n\" style=\"fill:none;stroke:#ffffff;stroke-linecap:round;\"/>\n     </g>\n     <g id=\"text_1\">\n      <!-- HT -->\n      <defs>\n       <path d=\"M 9.8125 72.90625 \nL 19.671875 72.90625 \nL 19.671875 43.015625 \nL 55.515625 43.015625 \nL 55.515625 72.90625 \nL 65.375 72.90625 \nL 65.375 0 \nL 55.515625 0 \nL 55.515625 34.71875 \nL 19.671875 34.71875 \nL 19.671875 0 \nL 9.8125 0 \nz\n\" id=\"DejaVuSans-72\"/>\n       <path d=\"M -0.296875 72.90625 \nL 61.375 72.90625 \nL 61.375 64.59375 \nL 35.5 64.59375 \nL 35.5 0 \nL 25.59375 0 \nL 25.59375 64.59375 \nL -0.296875 64.59375 \nz\n\" id=\"DejaVuSans-84\"/>\n      </defs>\n      <g style=\"fill:#262626;\" transform=\"translate(131.430313 255.130938)rotate(-90)scale(0.11 -0.11)\">\n       <use xlink:href=\"#DejaVuSans-72\"/>\n       <use x=\"75.195312\" xlink:href=\"#DejaVuSans-84\"/>\n      </g>\n     </g>\n    </g>\n    <g id=\"xtick_2\">\n     <g id=\"line2d_2\">\n      <path clip-path=\"url(#pbc3961885b)\" d=\"M 295.795 230.64 \nL 295.795 13.2 \n\" style=\"fill:none;stroke:#ffffff;stroke-linecap:round;\"/>\n     </g>\n     <g id=\"text_2\">\n      <!-- NHT -->\n      <defs>\n       <path d=\"M 9.8125 72.90625 \nL 23.09375 72.90625 \nL 55.421875 11.921875 \nL 55.421875 72.90625 \nL 64.984375 72.90625 \nL 64.984375 0 \nL 51.703125 0 \nL 19.390625 60.984375 \nL 19.390625 0 \nL 9.8125 0 \nz\n\" id=\"DejaVuSans-78\"/>\n      </defs>\n      <g style=\"fill:#262626;\" transform=\"translate(298.830312 263.360313)rotate(-90)scale(0.11 -0.11)\">\n       <use xlink:href=\"#DejaVuSans-78\"/>\n       <use x=\"74.804688\" xlink:href=\"#DejaVuSans-72\"/>\n       <use x=\"150\" xlink:href=\"#DejaVuSans-84\"/>\n      </g>\n     </g>\n    </g>\n   </g>\n   <g id=\"matplotlib.axis_2\">\n    <g id=\"ytick_1\">\n     <g id=\"line2d_3\">\n      <path clip-path=\"url(#pbc3961885b)\" d=\"M 44.695 230.64 \nL 379.495 230.64 \n\" style=\"fill:none;stroke:#ffffff;stroke-linecap:round;\"/>\n     </g>\n     <g id=\"text_3\">\n      <!-- 0 -->\n      <defs>\n       <path d=\"M 31.78125 66.40625 \nQ 24.171875 66.40625 20.328125 58.90625 \nQ 16.5 51.421875 16.5 36.375 \nQ 16.5 21.390625 20.328125 13.890625 \nQ 24.171875 6.390625 31.78125 6.390625 \nQ 39.453125 6.390625 43.28125 13.890625 \nQ 47.125 21.390625 47.125 36.375 \nQ 47.125 51.421875 43.28125 58.90625 \nQ 39.453125 66.40625 31.78125 66.40625 \nz\nM 31.78125 74.21875 \nQ 44.046875 74.21875 50.515625 64.515625 \nQ 56.984375 54.828125 56.984375 36.375 \nQ 56.984375 17.96875 50.515625 8.265625 \nQ 44.046875 -1.421875 31.78125 -1.421875 \nQ 19.53125 -1.421875 13.0625 8.265625 \nQ 6.59375 17.96875 6.59375 36.375 \nQ 6.59375 54.828125 13.0625 64.515625 \nQ 19.53125 74.21875 31.78125 74.21875 \nz\n\" id=\"DejaVuSans-48\"/>\n      </defs>\n      <g style=\"fill:#262626;\" transform=\"translate(28.19625 234.819141)scale(0.11 -0.11)\">\n       <use xlink:href=\"#DejaVuSans-48\"/>\n      </g>\n     </g>\n    </g>\n    <g id=\"ytick_2\">\n     <g id=\"line2d_4\">\n      <path clip-path=\"url(#pbc3961885b)\" d=\"M 44.695 205.070706 \nL 379.495 205.070706 \n\" style=\"fill:none;stroke:#ffffff;stroke-linecap:round;\"/>\n     </g>\n     <g id=\"text_4\">\n      <!-- 1000 -->\n      <defs>\n       <path d=\"M 12.40625 8.296875 \nL 28.515625 8.296875 \nL 28.515625 63.921875 \nL 10.984375 60.40625 \nL 10.984375 69.390625 \nL 28.421875 72.90625 \nL 38.28125 72.90625 \nL 38.28125 8.296875 \nL 54.390625 8.296875 \nL 54.390625 0 \nL 12.40625 0 \nz\n\" id=\"DejaVuSans-49\"/>\n      </defs>\n      <g style=\"fill:#262626;\" transform=\"translate(7.2 209.249846)scale(0.11 -0.11)\">\n       <use xlink:href=\"#DejaVuSans-49\"/>\n       <use x=\"63.623047\" xlink:href=\"#DejaVuSans-48\"/>\n       <use x=\"127.246094\" xlink:href=\"#DejaVuSans-48\"/>\n       <use x=\"190.869141\" xlink:href=\"#DejaVuSans-48\"/>\n      </g>\n     </g>\n    </g>\n    <g id=\"ytick_3\">\n     <g id=\"line2d_5\">\n      <path clip-path=\"url(#pbc3961885b)\" d=\"M 44.695 179.501411 \nL 379.495 179.501411 \n\" style=\"fill:none;stroke:#ffffff;stroke-linecap:round;\"/>\n     </g>\n     <g id=\"text_5\">\n      <!-- 2000 -->\n      <defs>\n       <path d=\"M 19.1875 8.296875 \nL 53.609375 8.296875 \nL 53.609375 0 \nL 7.328125 0 \nL 7.328125 8.296875 \nQ 12.9375 14.109375 22.625 23.890625 \nQ 32.328125 33.6875 34.8125 36.53125 \nQ 39.546875 41.84375 41.421875 45.53125 \nQ 43.3125 49.21875 43.3125 52.78125 \nQ 43.3125 58.59375 39.234375 62.25 \nQ 35.15625 65.921875 28.609375 65.921875 \nQ 23.96875 65.921875 18.8125 64.3125 \nQ 13.671875 62.703125 7.8125 59.421875 \nL 7.8125 69.390625 \nQ 13.765625 71.78125 18.9375 73 \nQ 24.125 74.21875 28.421875 74.21875 \nQ 39.75 74.21875 46.484375 68.546875 \nQ 53.21875 62.890625 53.21875 53.421875 \nQ 53.21875 48.921875 51.53125 44.890625 \nQ 49.859375 40.875 45.40625 35.40625 \nQ 44.1875 33.984375 37.640625 27.21875 \nQ 31.109375 20.453125 19.1875 8.296875 \nz\n\" id=\"DejaVuSans-50\"/>\n      </defs>\n      <g style=\"fill:#262626;\" transform=\"translate(7.2 183.680552)scale(0.11 -0.11)\">\n       <use xlink:href=\"#DejaVuSans-50\"/>\n       <use x=\"63.623047\" xlink:href=\"#DejaVuSans-48\"/>\n       <use x=\"127.246094\" xlink:href=\"#DejaVuSans-48\"/>\n       <use x=\"190.869141\" xlink:href=\"#DejaVuSans-48\"/>\n      </g>\n     </g>\n    </g>\n    <g id=\"ytick_4\">\n     <g id=\"line2d_6\">\n      <path clip-path=\"url(#pbc3961885b)\" d=\"M 44.695 153.932117 \nL 379.495 153.932117 \n\" style=\"fill:none;stroke:#ffffff;stroke-linecap:round;\"/>\n     </g>\n     <g id=\"text_6\">\n      <!-- 3000 -->\n      <defs>\n       <path d=\"M 40.578125 39.3125 \nQ 47.65625 37.796875 51.625 33 \nQ 55.609375 28.21875 55.609375 21.1875 \nQ 55.609375 10.40625 48.1875 4.484375 \nQ 40.765625 -1.421875 27.09375 -1.421875 \nQ 22.515625 -1.421875 17.65625 -0.515625 \nQ 12.796875 0.390625 7.625 2.203125 \nL 7.625 11.71875 \nQ 11.71875 9.328125 16.59375 8.109375 \nQ 21.484375 6.890625 26.8125 6.890625 \nQ 36.078125 6.890625 40.9375 10.546875 \nQ 45.796875 14.203125 45.796875 21.1875 \nQ 45.796875 27.640625 41.28125 31.265625 \nQ 36.765625 34.90625 28.71875 34.90625 \nL 20.21875 34.90625 \nL 20.21875 43.015625 \nL 29.109375 43.015625 \nQ 36.375 43.015625 40.234375 45.921875 \nQ 44.09375 48.828125 44.09375 54.296875 \nQ 44.09375 59.90625 40.109375 62.90625 \nQ 36.140625 65.921875 28.71875 65.921875 \nQ 24.65625 65.921875 20.015625 65.03125 \nQ 15.375 64.15625 9.8125 62.3125 \nL 9.8125 71.09375 \nQ 15.4375 72.65625 20.34375 73.4375 \nQ 25.25 74.21875 29.59375 74.21875 \nQ 40.828125 74.21875 47.359375 69.109375 \nQ 53.90625 64.015625 53.90625 55.328125 \nQ 53.90625 49.265625 50.4375 45.09375 \nQ 46.96875 40.921875 40.578125 39.3125 \nz\n\" id=\"DejaVuSans-51\"/>\n      </defs>\n      <g style=\"fill:#262626;\" transform=\"translate(7.2 158.111258)scale(0.11 -0.11)\">\n       <use xlink:href=\"#DejaVuSans-51\"/>\n       <use x=\"63.623047\" xlink:href=\"#DejaVuSans-48\"/>\n       <use x=\"127.246094\" xlink:href=\"#DejaVuSans-48\"/>\n       <use x=\"190.869141\" xlink:href=\"#DejaVuSans-48\"/>\n      </g>\n     </g>\n    </g>\n    <g id=\"ytick_5\">\n     <g id=\"line2d_7\">\n      <path clip-path=\"url(#pbc3961885b)\" d=\"M 44.695 128.362823 \nL 379.495 128.362823 \n\" style=\"fill:none;stroke:#ffffff;stroke-linecap:round;\"/>\n     </g>\n     <g id=\"text_7\">\n      <!-- 4000 -->\n      <defs>\n       <path d=\"M 37.796875 64.3125 \nL 12.890625 25.390625 \nL 37.796875 25.390625 \nz\nM 35.203125 72.90625 \nL 47.609375 72.90625 \nL 47.609375 25.390625 \nL 58.015625 25.390625 \nL 58.015625 17.1875 \nL 47.609375 17.1875 \nL 47.609375 0 \nL 37.796875 0 \nL 37.796875 17.1875 \nL 4.890625 17.1875 \nL 4.890625 26.703125 \nz\n\" id=\"DejaVuSans-52\"/>\n      </defs>\n      <g style=\"fill:#262626;\" transform=\"translate(7.2 132.541964)scale(0.11 -0.11)\">\n       <use xlink:href=\"#DejaVuSans-52\"/>\n       <use x=\"63.623047\" xlink:href=\"#DejaVuSans-48\"/>\n       <use x=\"127.246094\" xlink:href=\"#DejaVuSans-48\"/>\n       <use x=\"190.869141\" xlink:href=\"#DejaVuSans-48\"/>\n      </g>\n     </g>\n    </g>\n    <g id=\"ytick_6\">\n     <g id=\"line2d_8\">\n      <path clip-path=\"url(#pbc3961885b)\" d=\"M 44.695 102.793529 \nL 379.495 102.793529 \n\" style=\"fill:none;stroke:#ffffff;stroke-linecap:round;\"/>\n     </g>\n     <g id=\"text_8\">\n      <!-- 5000 -->\n      <defs>\n       <path d=\"M 10.796875 72.90625 \nL 49.515625 72.90625 \nL 49.515625 64.59375 \nL 19.828125 64.59375 \nL 19.828125 46.734375 \nQ 21.96875 47.46875 24.109375 47.828125 \nQ 26.265625 48.1875 28.421875 48.1875 \nQ 40.625 48.1875 47.75 41.5 \nQ 54.890625 34.8125 54.890625 23.390625 \nQ 54.890625 11.625 47.5625 5.09375 \nQ 40.234375 -1.421875 26.90625 -1.421875 \nQ 22.3125 -1.421875 17.546875 -0.640625 \nQ 12.796875 0.140625 7.71875 1.703125 \nL 7.71875 11.625 \nQ 12.109375 9.234375 16.796875 8.0625 \nQ 21.484375 6.890625 26.703125 6.890625 \nQ 35.15625 6.890625 40.078125 11.328125 \nQ 45.015625 15.765625 45.015625 23.390625 \nQ 45.015625 31 40.078125 35.4375 \nQ 35.15625 39.890625 26.703125 39.890625 \nQ 22.75 39.890625 18.8125 39.015625 \nQ 14.890625 38.140625 10.796875 36.28125 \nz\n\" id=\"DejaVuSans-53\"/>\n      </defs>\n      <g style=\"fill:#262626;\" transform=\"translate(7.2 106.972669)scale(0.11 -0.11)\">\n       <use xlink:href=\"#DejaVuSans-53\"/>\n       <use x=\"63.623047\" xlink:href=\"#DejaVuSans-48\"/>\n       <use x=\"127.246094\" xlink:href=\"#DejaVuSans-48\"/>\n       <use x=\"190.869141\" xlink:href=\"#DejaVuSans-48\"/>\n      </g>\n     </g>\n    </g>\n    <g id=\"ytick_7\">\n     <g id=\"line2d_9\">\n      <path clip-path=\"url(#pbc3961885b)\" d=\"M 44.695 77.224234 \nL 379.495 77.224234 \n\" style=\"fill:none;stroke:#ffffff;stroke-linecap:round;\"/>\n     </g>\n     <g id=\"text_9\">\n      <!-- 6000 -->\n      <defs>\n       <path d=\"M 33.015625 40.375 \nQ 26.375 40.375 22.484375 35.828125 \nQ 18.609375 31.296875 18.609375 23.390625 \nQ 18.609375 15.53125 22.484375 10.953125 \nQ 26.375 6.390625 33.015625 6.390625 \nQ 39.65625 6.390625 43.53125 10.953125 \nQ 47.40625 15.53125 47.40625 23.390625 \nQ 47.40625 31.296875 43.53125 35.828125 \nQ 39.65625 40.375 33.015625 40.375 \nz\nM 52.59375 71.296875 \nL 52.59375 62.3125 \nQ 48.875 64.0625 45.09375 64.984375 \nQ 41.3125 65.921875 37.59375 65.921875 \nQ 27.828125 65.921875 22.671875 59.328125 \nQ 17.53125 52.734375 16.796875 39.40625 \nQ 19.671875 43.65625 24.015625 45.921875 \nQ 28.375 48.1875 33.59375 48.1875 \nQ 44.578125 48.1875 50.953125 41.515625 \nQ 57.328125 34.859375 57.328125 23.390625 \nQ 57.328125 12.15625 50.6875 5.359375 \nQ 44.046875 -1.421875 33.015625 -1.421875 \nQ 20.359375 -1.421875 13.671875 8.265625 \nQ 6.984375 17.96875 6.984375 36.375 \nQ 6.984375 53.65625 15.1875 63.9375 \nQ 23.390625 74.21875 37.203125 74.21875 \nQ 40.921875 74.21875 44.703125 73.484375 \nQ 48.484375 72.75 52.59375 71.296875 \nz\n\" id=\"DejaVuSans-54\"/>\n      </defs>\n      <g style=\"fill:#262626;\" transform=\"translate(7.2 81.403375)scale(0.11 -0.11)\">\n       <use xlink:href=\"#DejaVuSans-54\"/>\n       <use x=\"63.623047\" xlink:href=\"#DejaVuSans-48\"/>\n       <use x=\"127.246094\" xlink:href=\"#DejaVuSans-48\"/>\n       <use x=\"190.869141\" xlink:href=\"#DejaVuSans-48\"/>\n      </g>\n     </g>\n    </g>\n    <g id=\"ytick_8\">\n     <g id=\"line2d_10\">\n      <path clip-path=\"url(#pbc3961885b)\" d=\"M 44.695 51.65494 \nL 379.495 51.65494 \n\" style=\"fill:none;stroke:#ffffff;stroke-linecap:round;\"/>\n     </g>\n     <g id=\"text_10\">\n      <!-- 7000 -->\n      <defs>\n       <path d=\"M 8.203125 72.90625 \nL 55.078125 72.90625 \nL 55.078125 68.703125 \nL 28.609375 0 \nL 18.3125 0 \nL 43.21875 64.59375 \nL 8.203125 64.59375 \nz\n\" id=\"DejaVuSans-55\"/>\n      </defs>\n      <g style=\"fill:#262626;\" transform=\"translate(7.2 55.834081)scale(0.11 -0.11)\">\n       <use xlink:href=\"#DejaVuSans-55\"/>\n       <use x=\"63.623047\" xlink:href=\"#DejaVuSans-48\"/>\n       <use x=\"127.246094\" xlink:href=\"#DejaVuSans-48\"/>\n       <use x=\"190.869141\" xlink:href=\"#DejaVuSans-48\"/>\n      </g>\n     </g>\n    </g>\n    <g id=\"ytick_9\">\n     <g id=\"line2d_11\">\n      <path clip-path=\"url(#pbc3961885b)\" d=\"M 44.695 26.085646 \nL 379.495 26.085646 \n\" style=\"fill:none;stroke:#ffffff;stroke-linecap:round;\"/>\n     </g>\n     <g id=\"text_11\">\n      <!-- 8000 -->\n      <defs>\n       <path d=\"M 31.78125 34.625 \nQ 24.75 34.625 20.71875 30.859375 \nQ 16.703125 27.09375 16.703125 20.515625 \nQ 16.703125 13.921875 20.71875 10.15625 \nQ 24.75 6.390625 31.78125 6.390625 \nQ 38.8125 6.390625 42.859375 10.171875 \nQ 46.921875 13.96875 46.921875 20.515625 \nQ 46.921875 27.09375 42.890625 30.859375 \nQ 38.875 34.625 31.78125 34.625 \nz\nM 21.921875 38.8125 \nQ 15.578125 40.375 12.03125 44.71875 \nQ 8.5 49.078125 8.5 55.328125 \nQ 8.5 64.0625 14.71875 69.140625 \nQ 20.953125 74.21875 31.78125 74.21875 \nQ 42.671875 74.21875 48.875 69.140625 \nQ 55.078125 64.0625 55.078125 55.328125 \nQ 55.078125 49.078125 51.53125 44.71875 \nQ 48 40.375 41.703125 38.8125 \nQ 48.828125 37.15625 52.796875 32.3125 \nQ 56.78125 27.484375 56.78125 20.515625 \nQ 56.78125 9.90625 50.3125 4.234375 \nQ 43.84375 -1.421875 31.78125 -1.421875 \nQ 19.734375 -1.421875 13.25 4.234375 \nQ 6.78125 9.90625 6.78125 20.515625 \nQ 6.78125 27.484375 10.78125 32.3125 \nQ 14.796875 37.15625 21.921875 38.8125 \nz\nM 18.3125 54.390625 \nQ 18.3125 48.734375 21.84375 45.5625 \nQ 25.390625 42.390625 31.78125 42.390625 \nQ 38.140625 42.390625 41.71875 45.5625 \nQ 45.3125 48.734375 45.3125 54.390625 \nQ 45.3125 60.0625 41.71875 63.234375 \nQ 38.140625 66.40625 31.78125 66.40625 \nQ 25.390625 66.40625 21.84375 63.234375 \nQ 18.3125 60.0625 18.3125 54.390625 \nz\n\" id=\"DejaVuSans-56\"/>\n      </defs>\n      <g style=\"fill:#262626;\" transform=\"translate(7.2 30.264786)scale(0.11 -0.11)\">\n       <use xlink:href=\"#DejaVuSans-56\"/>\n       <use x=\"63.623047\" xlink:href=\"#DejaVuSans-48\"/>\n       <use x=\"127.246094\" xlink:href=\"#DejaVuSans-48\"/>\n       <use x=\"190.869141\" xlink:href=\"#DejaVuSans-48\"/>\n      </g>\n     </g>\n    </g>\n   </g>\n   <g id=\"patch_3\">\n    <path clip-path=\"url(#pbc3961885b)\" d=\"M 86.545 230.64 \nL 170.245 230.64 \nL 170.245 23.554286 \nL 86.545 23.554286 \nz\n\" style=\"fill:#4c72b0;stroke:#ffffff;stroke-linejoin:miter;\"/>\n   </g>\n   <g id=\"patch_4\">\n    <path clip-path=\"url(#pbc3961885b)\" d=\"M 253.945 230.64 \nL 337.645 230.64 \nL 337.645 119.720401 \nL 253.945 119.720401 \nz\n\" style=\"fill:#4c72b0;stroke:#ffffff;stroke-linejoin:miter;\"/>\n   </g>\n   <g id=\"patch_5\">\n    <path d=\"M 44.695 230.64 \nL 44.695 13.2 \n\" style=\"fill:none;stroke:#ffffff;stroke-linecap:square;stroke-linejoin:miter;stroke-width:1.25;\"/>\n   </g>\n   <g id=\"patch_6\">\n    <path d=\"M 379.495 230.64 \nL 379.495 13.2 \n\" style=\"fill:none;stroke:#ffffff;stroke-linecap:square;stroke-linejoin:miter;stroke-width:1.25;\"/>\n   </g>\n   <g id=\"patch_7\">\n    <path d=\"M 44.695 230.64 \nL 379.495 230.64 \n\" style=\"fill:none;stroke:#ffffff;stroke-linecap:square;stroke-linejoin:miter;stroke-width:1.25;\"/>\n   </g>\n   <g id=\"patch_8\">\n    <path d=\"M 44.695 13.2 \nL 379.495 13.2 \n\" style=\"fill:none;stroke:#ffffff;stroke-linecap:square;stroke-linejoin:miter;stroke-width:1.25;\"/>\n   </g>\n  </g>\n </g>\n <defs>\n  <clipPath id=\"pbc3961885b\">\n   <rect height=\"217.44\" width=\"334.8\" x=\"44.695\" y=\"13.2\"/>\n  </clipPath>\n </defs>\n</svg>\n"
          },
          "metadata": {
            "tags": []
          }
        }
      ]
    },
    {
      "cell_type": "markdown",
      "metadata": {
        "id": "zUff75B-exxb",
        "colab_type": "text"
      },
      "source": [
        "### 3.6)-Checking relation with only one numerical variable\n",
        "\n",
        "- epoch_ms: epoch in milliseconds"
      ]
    },
    {
      "cell_type": "code",
      "metadata": {
        "id": "85toRhyMf050",
        "colab_type": "code",
        "outputId": "0bdd9337-d542-4c33-ac02-31736314c068",
        "colab": {
          "base_uri": "https://localhost:8080/",
          "height": 287
        }
      },
      "source": [
        "df_bol.describe()"
      ],
      "execution_count": 0,
      "outputs": [
        {
          "output_type": "execute_result",
          "data": {
            "text/html": [
              "<div>\n",
              "<style scoped>\n",
              "    .dataframe tbody tr th:only-of-type {\n",
              "        vertical-align: middle;\n",
              "    }\n",
              "\n",
              "    .dataframe tbody tr th {\n",
              "        vertical-align: top;\n",
              "    }\n",
              "\n",
              "    .dataframe thead th {\n",
              "        text-align: right;\n",
              "    }\n",
              "</style>\n",
              "<table border=\"1\" class=\"dataframe\">\n",
              "  <thead>\n",
              "    <tr style=\"text-align: right;\">\n",
              "      <th></th>\n",
              "      <th>epoch_ms</th>\n",
              "    </tr>\n",
              "  </thead>\n",
              "  <tbody>\n",
              "    <tr>\n",
              "      <th>count</th>\n",
              "      <td>1.243800e+04</td>\n",
              "    </tr>\n",
              "    <tr>\n",
              "      <th>mean</th>\n",
              "      <td>1.520283e+12</td>\n",
              "    </tr>\n",
              "    <tr>\n",
              "      <th>std</th>\n",
              "      <td>1.903252e+06</td>\n",
              "    </tr>\n",
              "    <tr>\n",
              "      <th>min</th>\n",
              "      <td>1.520280e+12</td>\n",
              "    </tr>\n",
              "    <tr>\n",
              "      <th>25%</th>\n",
              "      <td>1.520281e+12</td>\n",
              "    </tr>\n",
              "    <tr>\n",
              "      <th>50%</th>\n",
              "      <td>1.520282e+12</td>\n",
              "    </tr>\n",
              "    <tr>\n",
              "      <th>75%</th>\n",
              "      <td>1.520284e+12</td>\n",
              "    </tr>\n",
              "    <tr>\n",
              "      <th>max</th>\n",
              "      <td>1.520287e+12</td>\n",
              "    </tr>\n",
              "  </tbody>\n",
              "</table>\n",
              "</div>"
            ],
            "text/plain": [
              "           epoch_ms\n",
              "count  1.243800e+04\n",
              "mean   1.520283e+12\n",
              "std    1.903252e+06\n",
              "min    1.520280e+12\n",
              "25%    1.520281e+12\n",
              "50%    1.520282e+12\n",
              "75%    1.520284e+12\n",
              "max    1.520287e+12"
            ]
          },
          "metadata": {
            "tags": []
          },
          "execution_count": 61
        }
      ]
    },
    {
      "cell_type": "code",
      "metadata": {
        "id": "Y-IoFsl9exGW",
        "colab_type": "code",
        "outputId": "9fb672f6-b7e4-4827-9a34-abf00abb1409",
        "colab": {
          "base_uri": "https://localhost:8080/",
          "height": 411
        }
      },
      "source": [
        "sns.boxenplot(x='labels',y='epoch_ms', data=df_bol)"
      ],
      "execution_count": 0,
      "outputs": [
        {
          "output_type": "execute_result",
          "data": {
            "text/plain": [
              "<matplotlib.axes._subplots.AxesSubplot at 0x7f3f3ae3db00>"
            ]
          },
          "metadata": {
            "tags": []
          },
          "execution_count": 57
        },
        {
          "output_type": "display_data",
          "data": {
            "text/plain": [
              "<Figure size 432x288 with 1 Axes>"
            ],
            "image/svg+xml": "<?xml version=\"1.0\" encoding=\"utf-8\" standalone=\"no\"?>\n<!DOCTYPE svg PUBLIC \"-//W3C//DTD SVG 1.1//EN\"\n  \"http://www.w3.org/Graphics/SVG/1.1/DTD/svg11.dtd\">\n<!-- Created with matplotlib (https://matplotlib.org/) -->\n<svg height=\"278.957969pt\" version=\"1.1\" viewBox=\"0 0 412.138438 278.957969\" width=\"412.138438pt\" xmlns=\"http://www.w3.org/2000/svg\" xmlns:xlink=\"http://www.w3.org/1999/xlink\">\n <defs>\n  <style type=\"text/css\">\n*{stroke-linecap:butt;stroke-linejoin:round;}\n  </style>\n </defs>\n <g id=\"figure_1\">\n  <g id=\"patch_1\">\n   <path d=\"M 0 278.957969 \nL 412.138438 278.957969 \nL 412.138438 0 \nL 0 0 \nz\n\" style=\"fill:none;\"/>\n  </g>\n  <g id=\"axes_1\">\n   <g id=\"patch_2\">\n    <path d=\"M 64.138438 235.998281 \nL 398.938438 235.998281 \nL 398.938438 18.558281 \nL 64.138438 18.558281 \nz\n\" style=\"fill:#eaeaf2;\"/>\n   </g>\n   <g id=\"matplotlib.axis_1\">\n    <g id=\"xtick_1\">\n     <g id=\"text_1\">\n      <!-- NHT -->\n      <defs>\n       <path d=\"M 9.8125 72.90625 \nL 23.09375 72.90625 \nL 55.421875 11.921875 \nL 55.421875 72.90625 \nL 64.984375 72.90625 \nL 64.984375 0 \nL 51.703125 0 \nL 19.390625 60.984375 \nL 19.390625 0 \nL 9.8125 0 \nz\n\" id=\"DejaVuSans-78\"/>\n       <path d=\"M 9.8125 72.90625 \nL 19.671875 72.90625 \nL 19.671875 43.015625 \nL 55.515625 43.015625 \nL 55.515625 72.90625 \nL 65.375 72.90625 \nL 65.375 0 \nL 55.515625 0 \nL 55.515625 34.71875 \nL 19.671875 34.71875 \nL 19.671875 0 \nL 9.8125 0 \nz\n\" id=\"DejaVuSans-72\"/>\n       <path d=\"M -0.296875 72.90625 \nL 61.375 72.90625 \nL 61.375 64.59375 \nL 35.5 64.59375 \nL 35.5 0 \nL 25.59375 0 \nL 25.59375 64.59375 \nL -0.296875 64.59375 \nz\n\" id=\"DejaVuSans-84\"/>\n      </defs>\n      <g style=\"fill:#262626;\" transform=\"translate(136.228281 253.856563)scale(0.11 -0.11)\">\n       <use xlink:href=\"#DejaVuSans-78\"/>\n       <use x=\"74.804688\" xlink:href=\"#DejaVuSans-72\"/>\n       <use x=\"150\" xlink:href=\"#DejaVuSans-84\"/>\n      </g>\n     </g>\n    </g>\n    <g id=\"xtick_2\">\n     <g id=\"text_2\">\n      <!-- HT -->\n      <g style=\"fill:#262626;\" transform=\"translate(307.742969 253.856563)scale(0.11 -0.11)\">\n       <use xlink:href=\"#DejaVuSans-72\"/>\n       <use x=\"75.195312\" xlink:href=\"#DejaVuSans-84\"/>\n      </g>\n     </g>\n    </g>\n    <g id=\"text_3\">\n     <!-- labels -->\n     <defs>\n      <path d=\"M 9.421875 75.984375 \nL 18.40625 75.984375 \nL 18.40625 0 \nL 9.421875 0 \nz\n\" id=\"DejaVuSans-108\"/>\n      <path d=\"M 34.28125 27.484375 \nQ 23.390625 27.484375 19.1875 25 \nQ 14.984375 22.515625 14.984375 16.5 \nQ 14.984375 11.71875 18.140625 8.90625 \nQ 21.296875 6.109375 26.703125 6.109375 \nQ 34.1875 6.109375 38.703125 11.40625 \nQ 43.21875 16.703125 43.21875 25.484375 \nL 43.21875 27.484375 \nz\nM 52.203125 31.203125 \nL 52.203125 0 \nL 43.21875 0 \nL 43.21875 8.296875 \nQ 40.140625 3.328125 35.546875 0.953125 \nQ 30.953125 -1.421875 24.3125 -1.421875 \nQ 15.921875 -1.421875 10.953125 3.296875 \nQ 6 8.015625 6 15.921875 \nQ 6 25.140625 12.171875 29.828125 \nQ 18.359375 34.515625 30.609375 34.515625 \nL 43.21875 34.515625 \nL 43.21875 35.40625 \nQ 43.21875 41.609375 39.140625 45 \nQ 35.0625 48.390625 27.6875 48.390625 \nQ 23 48.390625 18.546875 47.265625 \nQ 14.109375 46.140625 10.015625 43.890625 \nL 10.015625 52.203125 \nQ 14.9375 54.109375 19.578125 55.046875 \nQ 24.21875 56 28.609375 56 \nQ 40.484375 56 46.34375 49.84375 \nQ 52.203125 43.703125 52.203125 31.203125 \nz\n\" id=\"DejaVuSans-97\"/>\n      <path d=\"M 48.6875 27.296875 \nQ 48.6875 37.203125 44.609375 42.84375 \nQ 40.53125 48.484375 33.40625 48.484375 \nQ 26.265625 48.484375 22.1875 42.84375 \nQ 18.109375 37.203125 18.109375 27.296875 \nQ 18.109375 17.390625 22.1875 11.75 \nQ 26.265625 6.109375 33.40625 6.109375 \nQ 40.53125 6.109375 44.609375 11.75 \nQ 48.6875 17.390625 48.6875 27.296875 \nz\nM 18.109375 46.390625 \nQ 20.953125 51.265625 25.265625 53.625 \nQ 29.59375 56 35.59375 56 \nQ 45.5625 56 51.78125 48.09375 \nQ 58.015625 40.1875 58.015625 27.296875 \nQ 58.015625 14.40625 51.78125 6.484375 \nQ 45.5625 -1.421875 35.59375 -1.421875 \nQ 29.59375 -1.421875 25.265625 0.953125 \nQ 20.953125 3.328125 18.109375 8.203125 \nL 18.109375 0 \nL 9.078125 0 \nL 9.078125 75.984375 \nL 18.109375 75.984375 \nz\n\" id=\"DejaVuSans-98\"/>\n      <path d=\"M 56.203125 29.59375 \nL 56.203125 25.203125 \nL 14.890625 25.203125 \nQ 15.484375 15.921875 20.484375 11.0625 \nQ 25.484375 6.203125 34.421875 6.203125 \nQ 39.59375 6.203125 44.453125 7.46875 \nQ 49.3125 8.734375 54.109375 11.28125 \nL 54.109375 2.78125 \nQ 49.265625 0.734375 44.1875 -0.34375 \nQ 39.109375 -1.421875 33.890625 -1.421875 \nQ 20.796875 -1.421875 13.15625 6.1875 \nQ 5.515625 13.8125 5.515625 26.8125 \nQ 5.515625 40.234375 12.765625 48.109375 \nQ 20.015625 56 32.328125 56 \nQ 43.359375 56 49.78125 48.890625 \nQ 56.203125 41.796875 56.203125 29.59375 \nz\nM 47.21875 32.234375 \nQ 47.125 39.59375 43.09375 43.984375 \nQ 39.0625 48.390625 32.421875 48.390625 \nQ 24.90625 48.390625 20.390625 44.140625 \nQ 15.875 39.890625 15.1875 32.171875 \nz\n\" id=\"DejaVuSans-101\"/>\n      <path d=\"M 44.28125 53.078125 \nL 44.28125 44.578125 \nQ 40.484375 46.53125 36.375 47.5 \nQ 32.28125 48.484375 27.875 48.484375 \nQ 21.1875 48.484375 17.84375 46.4375 \nQ 14.5 44.390625 14.5 40.28125 \nQ 14.5 37.15625 16.890625 35.375 \nQ 19.28125 33.59375 26.515625 31.984375 \nL 29.59375 31.296875 \nQ 39.15625 29.25 43.1875 25.515625 \nQ 47.21875 21.78125 47.21875 15.09375 \nQ 47.21875 7.46875 41.1875 3.015625 \nQ 35.15625 -1.421875 24.609375 -1.421875 \nQ 20.21875 -1.421875 15.453125 -0.5625 \nQ 10.6875 0.296875 5.421875 2 \nL 5.421875 11.28125 \nQ 10.40625 8.6875 15.234375 7.390625 \nQ 20.0625 6.109375 24.8125 6.109375 \nQ 31.15625 6.109375 34.5625 8.28125 \nQ 37.984375 10.453125 37.984375 14.40625 \nQ 37.984375 18.0625 35.515625 20.015625 \nQ 33.0625 21.96875 24.703125 23.78125 \nL 21.578125 24.515625 \nQ 13.234375 26.265625 9.515625 29.90625 \nQ 5.8125 33.546875 5.8125 39.890625 \nQ 5.8125 47.609375 11.28125 51.796875 \nQ 16.75 56 26.8125 56 \nQ 31.78125 56 36.171875 55.265625 \nQ 40.578125 54.546875 44.28125 53.078125 \nz\n\" id=\"DejaVuSans-115\"/>\n     </defs>\n     <g style=\"fill:#262626;\" transform=\"translate(213.90125 269.262344)scale(0.12 -0.12)\">\n      <use xlink:href=\"#DejaVuSans-108\"/>\n      <use x=\"27.783203\" xlink:href=\"#DejaVuSans-97\"/>\n      <use x=\"89.0625\" xlink:href=\"#DejaVuSans-98\"/>\n      <use x=\"152.539062\" xlink:href=\"#DejaVuSans-101\"/>\n      <use x=\"214.0625\" xlink:href=\"#DejaVuSans-108\"/>\n      <use x=\"241.845703\" xlink:href=\"#DejaVuSans-115\"/>\n     </g>\n    </g>\n   </g>\n   <g id=\"matplotlib.axis_2\">\n    <g id=\"ytick_1\">\n     <g id=\"line2d_1\">\n      <path clip-path=\"url(#pe3c3139d21)\" d=\"M 64.138438 226.629807 \nL 398.938438 226.629807 \n\" style=\"fill:none;stroke:#ffffff;stroke-linecap:round;\"/>\n     </g>\n     <g id=\"text_4\">\n      <!-- 1.517 -->\n      <defs>\n       <path d=\"M 12.40625 8.296875 \nL 28.515625 8.296875 \nL 28.515625 63.921875 \nL 10.984375 60.40625 \nL 10.984375 69.390625 \nL 28.421875 72.90625 \nL 38.28125 72.90625 \nL 38.28125 8.296875 \nL 54.390625 8.296875 \nL 54.390625 0 \nL 12.40625 0 \nz\n\" id=\"DejaVuSans-49\"/>\n       <path d=\"M 10.6875 12.40625 \nL 21 12.40625 \nL 21 0 \nL 10.6875 0 \nz\n\" id=\"DejaVuSans-46\"/>\n       <path d=\"M 10.796875 72.90625 \nL 49.515625 72.90625 \nL 49.515625 64.59375 \nL 19.828125 64.59375 \nL 19.828125 46.734375 \nQ 21.96875 47.46875 24.109375 47.828125 \nQ 26.265625 48.1875 28.421875 48.1875 \nQ 40.625 48.1875 47.75 41.5 \nQ 54.890625 34.8125 54.890625 23.390625 \nQ 54.890625 11.625 47.5625 5.09375 \nQ 40.234375 -1.421875 26.90625 -1.421875 \nQ 22.3125 -1.421875 17.546875 -0.640625 \nQ 12.796875 0.140625 7.71875 1.703125 \nL 7.71875 11.625 \nQ 12.109375 9.234375 16.796875 8.0625 \nQ 21.484375 6.890625 26.703125 6.890625 \nQ 35.15625 6.890625 40.078125 11.328125 \nQ 45.015625 15.765625 45.015625 23.390625 \nQ 45.015625 31 40.078125 35.4375 \nQ 35.15625 39.890625 26.703125 39.890625 \nQ 22.75 39.890625 18.8125 39.015625 \nQ 14.890625 38.140625 10.796875 36.28125 \nz\n\" id=\"DejaVuSans-53\"/>\n       <path d=\"M 8.203125 72.90625 \nL 55.078125 72.90625 \nL 55.078125 68.703125 \nL 28.609375 0 \nL 18.3125 0 \nL 43.21875 64.59375 \nL 8.203125 64.59375 \nz\n\" id=\"DejaVuSans-55\"/>\n      </defs>\n      <g style=\"fill:#262626;\" transform=\"translate(23.1475 230.808948)scale(0.11 -0.11)\">\n       <use xlink:href=\"#DejaVuSans-49\"/>\n       <use x=\"63.623047\" xlink:href=\"#DejaVuSans-46\"/>\n       <use x=\"95.410156\" xlink:href=\"#DejaVuSans-53\"/>\n       <use x=\"159.033203\" xlink:href=\"#DejaVuSans-49\"/>\n       <use x=\"222.65625\" xlink:href=\"#DejaVuSans-55\"/>\n      </g>\n     </g>\n    </g>\n    <g id=\"ytick_2\">\n     <g id=\"line2d_2\">\n      <path clip-path=\"url(#pe3c3139d21)\" d=\"M 64.138438 196.372914 \nL 398.938438 196.372914 \n\" style=\"fill:none;stroke:#ffffff;stroke-linecap:round;\"/>\n     </g>\n     <g id=\"text_5\">\n      <!-- 1.518 -->\n      <defs>\n       <path d=\"M 31.78125 34.625 \nQ 24.75 34.625 20.71875 30.859375 \nQ 16.703125 27.09375 16.703125 20.515625 \nQ 16.703125 13.921875 20.71875 10.15625 \nQ 24.75 6.390625 31.78125 6.390625 \nQ 38.8125 6.390625 42.859375 10.171875 \nQ 46.921875 13.96875 46.921875 20.515625 \nQ 46.921875 27.09375 42.890625 30.859375 \nQ 38.875 34.625 31.78125 34.625 \nz\nM 21.921875 38.8125 \nQ 15.578125 40.375 12.03125 44.71875 \nQ 8.5 49.078125 8.5 55.328125 \nQ 8.5 64.0625 14.71875 69.140625 \nQ 20.953125 74.21875 31.78125 74.21875 \nQ 42.671875 74.21875 48.875 69.140625 \nQ 55.078125 64.0625 55.078125 55.328125 \nQ 55.078125 49.078125 51.53125 44.71875 \nQ 48 40.375 41.703125 38.8125 \nQ 48.828125 37.15625 52.796875 32.3125 \nQ 56.78125 27.484375 56.78125 20.515625 \nQ 56.78125 9.90625 50.3125 4.234375 \nQ 43.84375 -1.421875 31.78125 -1.421875 \nQ 19.734375 -1.421875 13.25 4.234375 \nQ 6.78125 9.90625 6.78125 20.515625 \nQ 6.78125 27.484375 10.78125 32.3125 \nQ 14.796875 37.15625 21.921875 38.8125 \nz\nM 18.3125 54.390625 \nQ 18.3125 48.734375 21.84375 45.5625 \nQ 25.390625 42.390625 31.78125 42.390625 \nQ 38.140625 42.390625 41.71875 45.5625 \nQ 45.3125 48.734375 45.3125 54.390625 \nQ 45.3125 60.0625 41.71875 63.234375 \nQ 38.140625 66.40625 31.78125 66.40625 \nQ 25.390625 66.40625 21.84375 63.234375 \nQ 18.3125 60.0625 18.3125 54.390625 \nz\n\" id=\"DejaVuSans-56\"/>\n      </defs>\n      <g style=\"fill:#262626;\" transform=\"translate(23.1475 200.552055)scale(0.11 -0.11)\">\n       <use xlink:href=\"#DejaVuSans-49\"/>\n       <use x=\"63.623047\" xlink:href=\"#DejaVuSans-46\"/>\n       <use x=\"95.410156\" xlink:href=\"#DejaVuSans-53\"/>\n       <use x=\"159.033203\" xlink:href=\"#DejaVuSans-49\"/>\n       <use x=\"222.65625\" xlink:href=\"#DejaVuSans-56\"/>\n      </g>\n     </g>\n    </g>\n    <g id=\"ytick_3\">\n     <g id=\"line2d_3\">\n      <path clip-path=\"url(#pe3c3139d21)\" d=\"M 64.138438 166.116021 \nL 398.938438 166.116021 \n\" style=\"fill:none;stroke:#ffffff;stroke-linecap:round;\"/>\n     </g>\n     <g id=\"text_6\">\n      <!-- 1.519 -->\n      <defs>\n       <path d=\"M 10.984375 1.515625 \nL 10.984375 10.5 \nQ 14.703125 8.734375 18.5 7.8125 \nQ 22.3125 6.890625 25.984375 6.890625 \nQ 35.75 6.890625 40.890625 13.453125 \nQ 46.046875 20.015625 46.78125 33.40625 \nQ 43.953125 29.203125 39.59375 26.953125 \nQ 35.25 24.703125 29.984375 24.703125 \nQ 19.046875 24.703125 12.671875 31.3125 \nQ 6.296875 37.9375 6.296875 49.421875 \nQ 6.296875 60.640625 12.9375 67.421875 \nQ 19.578125 74.21875 30.609375 74.21875 \nQ 43.265625 74.21875 49.921875 64.515625 \nQ 56.59375 54.828125 56.59375 36.375 \nQ 56.59375 19.140625 48.40625 8.859375 \nQ 40.234375 -1.421875 26.421875 -1.421875 \nQ 22.703125 -1.421875 18.890625 -0.6875 \nQ 15.09375 0.046875 10.984375 1.515625 \nz\nM 30.609375 32.421875 \nQ 37.25 32.421875 41.125 36.953125 \nQ 45.015625 41.5 45.015625 49.421875 \nQ 45.015625 57.28125 41.125 61.84375 \nQ 37.25 66.40625 30.609375 66.40625 \nQ 23.96875 66.40625 20.09375 61.84375 \nQ 16.21875 57.28125 16.21875 49.421875 \nQ 16.21875 41.5 20.09375 36.953125 \nQ 23.96875 32.421875 30.609375 32.421875 \nz\n\" id=\"DejaVuSans-57\"/>\n      </defs>\n      <g style=\"fill:#262626;\" transform=\"translate(23.1475 170.295162)scale(0.11 -0.11)\">\n       <use xlink:href=\"#DejaVuSans-49\"/>\n       <use x=\"63.623047\" xlink:href=\"#DejaVuSans-46\"/>\n       <use x=\"95.410156\" xlink:href=\"#DejaVuSans-53\"/>\n       <use x=\"159.033203\" xlink:href=\"#DejaVuSans-49\"/>\n       <use x=\"222.65625\" xlink:href=\"#DejaVuSans-57\"/>\n      </g>\n     </g>\n    </g>\n    <g id=\"ytick_4\">\n     <g id=\"line2d_4\">\n      <path clip-path=\"url(#pe3c3139d21)\" d=\"M 64.138438 135.859128 \nL 398.938438 135.859128 \n\" style=\"fill:none;stroke:#ffffff;stroke-linecap:round;\"/>\n     </g>\n     <g id=\"text_7\">\n      <!-- 1.520 -->\n      <defs>\n       <path d=\"M 19.1875 8.296875 \nL 53.609375 8.296875 \nL 53.609375 0 \nL 7.328125 0 \nL 7.328125 8.296875 \nQ 12.9375 14.109375 22.625 23.890625 \nQ 32.328125 33.6875 34.8125 36.53125 \nQ 39.546875 41.84375 41.421875 45.53125 \nQ 43.3125 49.21875 43.3125 52.78125 \nQ 43.3125 58.59375 39.234375 62.25 \nQ 35.15625 65.921875 28.609375 65.921875 \nQ 23.96875 65.921875 18.8125 64.3125 \nQ 13.671875 62.703125 7.8125 59.421875 \nL 7.8125 69.390625 \nQ 13.765625 71.78125 18.9375 73 \nQ 24.125 74.21875 28.421875 74.21875 \nQ 39.75 74.21875 46.484375 68.546875 \nQ 53.21875 62.890625 53.21875 53.421875 \nQ 53.21875 48.921875 51.53125 44.890625 \nQ 49.859375 40.875 45.40625 35.40625 \nQ 44.1875 33.984375 37.640625 27.21875 \nQ 31.109375 20.453125 19.1875 8.296875 \nz\n\" id=\"DejaVuSans-50\"/>\n       <path d=\"M 31.78125 66.40625 \nQ 24.171875 66.40625 20.328125 58.90625 \nQ 16.5 51.421875 16.5 36.375 \nQ 16.5 21.390625 20.328125 13.890625 \nQ 24.171875 6.390625 31.78125 6.390625 \nQ 39.453125 6.390625 43.28125 13.890625 \nQ 47.125 21.390625 47.125 36.375 \nQ 47.125 51.421875 43.28125 58.90625 \nQ 39.453125 66.40625 31.78125 66.40625 \nz\nM 31.78125 74.21875 \nQ 44.046875 74.21875 50.515625 64.515625 \nQ 56.984375 54.828125 56.984375 36.375 \nQ 56.984375 17.96875 50.515625 8.265625 \nQ 44.046875 -1.421875 31.78125 -1.421875 \nQ 19.53125 -1.421875 13.0625 8.265625 \nQ 6.59375 17.96875 6.59375 36.375 \nQ 6.59375 54.828125 13.0625 64.515625 \nQ 19.53125 74.21875 31.78125 74.21875 \nz\n\" id=\"DejaVuSans-48\"/>\n      </defs>\n      <g style=\"fill:#262626;\" transform=\"translate(23.1475 140.038269)scale(0.11 -0.11)\">\n       <use xlink:href=\"#DejaVuSans-49\"/>\n       <use x=\"63.623047\" xlink:href=\"#DejaVuSans-46\"/>\n       <use x=\"95.410156\" xlink:href=\"#DejaVuSans-53\"/>\n       <use x=\"159.033203\" xlink:href=\"#DejaVuSans-50\"/>\n       <use x=\"222.65625\" xlink:href=\"#DejaVuSans-48\"/>\n      </g>\n     </g>\n    </g>\n    <g id=\"ytick_5\">\n     <g id=\"line2d_5\">\n      <path clip-path=\"url(#pe3c3139d21)\" d=\"M 64.138438 105.602235 \nL 398.938438 105.602235 \n\" style=\"fill:none;stroke:#ffffff;stroke-linecap:round;\"/>\n     </g>\n     <g id=\"text_8\">\n      <!-- 1.521 -->\n      <g style=\"fill:#262626;\" transform=\"translate(23.1475 109.781376)scale(0.11 -0.11)\">\n       <use xlink:href=\"#DejaVuSans-49\"/>\n       <use x=\"63.623047\" xlink:href=\"#DejaVuSans-46\"/>\n       <use x=\"95.410156\" xlink:href=\"#DejaVuSans-53\"/>\n       <use x=\"159.033203\" xlink:href=\"#DejaVuSans-50\"/>\n       <use x=\"222.65625\" xlink:href=\"#DejaVuSans-49\"/>\n      </g>\n     </g>\n    </g>\n    <g id=\"ytick_6\">\n     <g id=\"line2d_6\">\n      <path clip-path=\"url(#pe3c3139d21)\" d=\"M 64.138438 75.345342 \nL 398.938438 75.345342 \n\" style=\"fill:none;stroke:#ffffff;stroke-linecap:round;\"/>\n     </g>\n     <g id=\"text_9\">\n      <!-- 1.522 -->\n      <g style=\"fill:#262626;\" transform=\"translate(23.1475 79.524483)scale(0.11 -0.11)\">\n       <use xlink:href=\"#DejaVuSans-49\"/>\n       <use x=\"63.623047\" xlink:href=\"#DejaVuSans-46\"/>\n       <use x=\"95.410156\" xlink:href=\"#DejaVuSans-53\"/>\n       <use x=\"159.033203\" xlink:href=\"#DejaVuSans-50\"/>\n       <use x=\"222.65625\" xlink:href=\"#DejaVuSans-50\"/>\n      </g>\n     </g>\n    </g>\n    <g id=\"ytick_7\">\n     <g id=\"line2d_7\">\n      <path clip-path=\"url(#pe3c3139d21)\" d=\"M 64.138438 45.088449 \nL 398.938438 45.088449 \n\" style=\"fill:none;stroke:#ffffff;stroke-linecap:round;\"/>\n     </g>\n     <g id=\"text_10\">\n      <!-- 1.523 -->\n      <defs>\n       <path d=\"M 40.578125 39.3125 \nQ 47.65625 37.796875 51.625 33 \nQ 55.609375 28.21875 55.609375 21.1875 \nQ 55.609375 10.40625 48.1875 4.484375 \nQ 40.765625 -1.421875 27.09375 -1.421875 \nQ 22.515625 -1.421875 17.65625 -0.515625 \nQ 12.796875 0.390625 7.625 2.203125 \nL 7.625 11.71875 \nQ 11.71875 9.328125 16.59375 8.109375 \nQ 21.484375 6.890625 26.8125 6.890625 \nQ 36.078125 6.890625 40.9375 10.546875 \nQ 45.796875 14.203125 45.796875 21.1875 \nQ 45.796875 27.640625 41.28125 31.265625 \nQ 36.765625 34.90625 28.71875 34.90625 \nL 20.21875 34.90625 \nL 20.21875 43.015625 \nL 29.109375 43.015625 \nQ 36.375 43.015625 40.234375 45.921875 \nQ 44.09375 48.828125 44.09375 54.296875 \nQ 44.09375 59.90625 40.109375 62.90625 \nQ 36.140625 65.921875 28.71875 65.921875 \nQ 24.65625 65.921875 20.015625 65.03125 \nQ 15.375 64.15625 9.8125 62.3125 \nL 9.8125 71.09375 \nQ 15.4375 72.65625 20.34375 73.4375 \nQ 25.25 74.21875 29.59375 74.21875 \nQ 40.828125 74.21875 47.359375 69.109375 \nQ 53.90625 64.015625 53.90625 55.328125 \nQ 53.90625 49.265625 50.4375 45.09375 \nQ 46.96875 40.921875 40.578125 39.3125 \nz\n\" id=\"DejaVuSans-51\"/>\n      </defs>\n      <g style=\"fill:#262626;\" transform=\"translate(23.1475 49.267589)scale(0.11 -0.11)\">\n       <use xlink:href=\"#DejaVuSans-49\"/>\n       <use x=\"63.623047\" xlink:href=\"#DejaVuSans-46\"/>\n       <use x=\"95.410156\" xlink:href=\"#DejaVuSans-53\"/>\n       <use x=\"159.033203\" xlink:href=\"#DejaVuSans-50\"/>\n       <use x=\"222.65625\" xlink:href=\"#DejaVuSans-51\"/>\n      </g>\n     </g>\n    </g>\n    <g id=\"text_11\">\n     <!-- epoch_ms -->\n     <defs>\n      <path d=\"M 18.109375 8.203125 \nL 18.109375 -20.796875 \nL 9.078125 -20.796875 \nL 9.078125 54.6875 \nL 18.109375 54.6875 \nL 18.109375 46.390625 \nQ 20.953125 51.265625 25.265625 53.625 \nQ 29.59375 56 35.59375 56 \nQ 45.5625 56 51.78125 48.09375 \nQ 58.015625 40.1875 58.015625 27.296875 \nQ 58.015625 14.40625 51.78125 6.484375 \nQ 45.5625 -1.421875 35.59375 -1.421875 \nQ 29.59375 -1.421875 25.265625 0.953125 \nQ 20.953125 3.328125 18.109375 8.203125 \nz\nM 48.6875 27.296875 \nQ 48.6875 37.203125 44.609375 42.84375 \nQ 40.53125 48.484375 33.40625 48.484375 \nQ 26.265625 48.484375 22.1875 42.84375 \nQ 18.109375 37.203125 18.109375 27.296875 \nQ 18.109375 17.390625 22.1875 11.75 \nQ 26.265625 6.109375 33.40625 6.109375 \nQ 40.53125 6.109375 44.609375 11.75 \nQ 48.6875 17.390625 48.6875 27.296875 \nz\n\" id=\"DejaVuSans-112\"/>\n      <path d=\"M 30.609375 48.390625 \nQ 23.390625 48.390625 19.1875 42.75 \nQ 14.984375 37.109375 14.984375 27.296875 \nQ 14.984375 17.484375 19.15625 11.84375 \nQ 23.34375 6.203125 30.609375 6.203125 \nQ 37.796875 6.203125 41.984375 11.859375 \nQ 46.1875 17.53125 46.1875 27.296875 \nQ 46.1875 37.015625 41.984375 42.703125 \nQ 37.796875 48.390625 30.609375 48.390625 \nz\nM 30.609375 56 \nQ 42.328125 56 49.015625 48.375 \nQ 55.71875 40.765625 55.71875 27.296875 \nQ 55.71875 13.875 49.015625 6.21875 \nQ 42.328125 -1.421875 30.609375 -1.421875 \nQ 18.84375 -1.421875 12.171875 6.21875 \nQ 5.515625 13.875 5.515625 27.296875 \nQ 5.515625 40.765625 12.171875 48.375 \nQ 18.84375 56 30.609375 56 \nz\n\" id=\"DejaVuSans-111\"/>\n      <path d=\"M 48.78125 52.59375 \nL 48.78125 44.1875 \nQ 44.96875 46.296875 41.140625 47.34375 \nQ 37.3125 48.390625 33.40625 48.390625 \nQ 24.65625 48.390625 19.8125 42.84375 \nQ 14.984375 37.3125 14.984375 27.296875 \nQ 14.984375 17.28125 19.8125 11.734375 \nQ 24.65625 6.203125 33.40625 6.203125 \nQ 37.3125 6.203125 41.140625 7.25 \nQ 44.96875 8.296875 48.78125 10.40625 \nL 48.78125 2.09375 \nQ 45.015625 0.34375 40.984375 -0.53125 \nQ 36.96875 -1.421875 32.421875 -1.421875 \nQ 20.0625 -1.421875 12.78125 6.34375 \nQ 5.515625 14.109375 5.515625 27.296875 \nQ 5.515625 40.671875 12.859375 48.328125 \nQ 20.21875 56 33.015625 56 \nQ 37.15625 56 41.109375 55.140625 \nQ 45.0625 54.296875 48.78125 52.59375 \nz\n\" id=\"DejaVuSans-99\"/>\n      <path d=\"M 54.890625 33.015625 \nL 54.890625 0 \nL 45.90625 0 \nL 45.90625 32.71875 \nQ 45.90625 40.484375 42.875 44.328125 \nQ 39.84375 48.1875 33.796875 48.1875 \nQ 26.515625 48.1875 22.3125 43.546875 \nQ 18.109375 38.921875 18.109375 30.90625 \nL 18.109375 0 \nL 9.078125 0 \nL 9.078125 75.984375 \nL 18.109375 75.984375 \nL 18.109375 46.1875 \nQ 21.34375 51.125 25.703125 53.5625 \nQ 30.078125 56 35.796875 56 \nQ 45.21875 56 50.046875 50.171875 \nQ 54.890625 44.34375 54.890625 33.015625 \nz\n\" id=\"DejaVuSans-104\"/>\n      <path d=\"M 50.984375 -16.609375 \nL 50.984375 -23.578125 \nL -0.984375 -23.578125 \nL -0.984375 -16.609375 \nz\n\" id=\"DejaVuSans-95\"/>\n      <path d=\"M 52 44.1875 \nQ 55.375 50.25 60.0625 53.125 \nQ 64.75 56 71.09375 56 \nQ 79.640625 56 84.28125 50.015625 \nQ 88.921875 44.046875 88.921875 33.015625 \nL 88.921875 0 \nL 79.890625 0 \nL 79.890625 32.71875 \nQ 79.890625 40.578125 77.09375 44.375 \nQ 74.3125 48.1875 68.609375 48.1875 \nQ 61.625 48.1875 57.5625 43.546875 \nQ 53.515625 38.921875 53.515625 30.90625 \nL 53.515625 0 \nL 44.484375 0 \nL 44.484375 32.71875 \nQ 44.484375 40.625 41.703125 44.40625 \nQ 38.921875 48.1875 33.109375 48.1875 \nQ 26.21875 48.1875 22.15625 43.53125 \nQ 18.109375 38.875 18.109375 30.90625 \nL 18.109375 0 \nL 9.078125 0 \nL 9.078125 54.6875 \nL 18.109375 54.6875 \nL 18.109375 46.1875 \nQ 21.1875 51.21875 25.484375 53.609375 \nQ 29.78125 56 35.6875 56 \nQ 41.65625 56 45.828125 52.96875 \nQ 50 49.953125 52 44.1875 \nz\n\" id=\"DejaVuSans-109\"/>\n     </defs>\n     <g style=\"fill:#262626;\" transform=\"translate(16.318125 157.522031)rotate(-90)scale(0.12 -0.12)\">\n      <use xlink:href=\"#DejaVuSans-101\"/>\n      <use x=\"61.523438\" xlink:href=\"#DejaVuSans-112\"/>\n      <use x=\"125\" xlink:href=\"#DejaVuSans-111\"/>\n      <use x=\"186.181641\" xlink:href=\"#DejaVuSans-99\"/>\n      <use x=\"241.162109\" xlink:href=\"#DejaVuSans-104\"/>\n      <use x=\"304.541016\" xlink:href=\"#DejaVuSans-95\"/>\n      <use x=\"354.541016\" xlink:href=\"#DejaVuSans-109\"/>\n      <use x=\"451.953125\" xlink:href=\"#DejaVuSans-115\"/>\n     </g>\n    </g>\n    <g id=\"text_12\">\n     <!-- 1e12 -->\n     <g style=\"fill:#262626;\" transform=\"translate(64.138438 15.558281)scale(0.11 -0.11)\">\n      <use xlink:href=\"#DejaVuSans-49\"/>\n      <use x=\"63.623047\" xlink:href=\"#DejaVuSans-101\"/>\n      <use x=\"125.146484\" xlink:href=\"#DejaVuSans-49\"/>\n      <use x=\"188.769531\" xlink:href=\"#DejaVuSans-50\"/>\n     </g>\n    </g>\n   </g>\n   <g id=\"PathCollection_1\">\n    <defs>\n     <path d=\"M -0 4.242641 \nL 2.545584 0 \nL 0 -4.242641 \nL -2.545584 -0 \nz\n\" id=\"m79754f4761\" style=\"stroke:#5875a4;\"/>\n    </defs>\n    <g clip-path=\"url(#pe3c3139d21)\">\n     <use style=\"fill:#5875a4;stroke:#5875a4;\" x=\"147.838437\" xlink:href=\"#m79754f4761\" y=\"127.387167\"/>\n     <use style=\"fill:#5875a4;stroke:#5875a4;\" x=\"147.838437\" xlink:href=\"#m79754f4761\" y=\"127.38715\"/>\n     <use style=\"fill:#5875a4;stroke:#5875a4;\" x=\"147.838437\" xlink:href=\"#m79754f4761\" y=\"127.387149\"/>\n     <use style=\"fill:#5875a4;stroke:#5875a4;\" x=\"147.838437\" xlink:href=\"#m79754f4761\" y=\"127.169491\"/>\n     <use style=\"fill:#5875a4;stroke:#5875a4;\" x=\"147.838437\" xlink:href=\"#m79754f4761\" y=\"127.169407\"/>\n     <use style=\"fill:#5875a4;stroke:#5875a4;\" x=\"147.838437\" xlink:href=\"#m79754f4761\" y=\"127.169396\"/>\n    </g>\n   </g>\n   <g id=\"PatchCollection_1\">\n    <path clip-path=\"url(#pe3c3139d21)\" d=\"M 147.707656 127.387146 \nL 147.969219 127.387146 \nL 147.969219 127.169492 \nL 147.707656 127.169492 \nz\n\" style=\"fill:#ffffff;stroke:#ffffff;\"/>\n    <path clip-path=\"url(#pe3c3139d21)\" d=\"M 147.576875 127.387061 \nL 148.1 127.387061 \nL 148.1 127.16958 \nL 147.576875 127.16958 \nz\n\" style=\"fill:#edf0f5;stroke:#ffffff;\"/>\n    <path clip-path=\"url(#pe3c3139d21)\" d=\"M 147.315313 127.38681 \nL 148.361562 127.38681 \nL 148.361562 127.170149 \nL 147.315313 127.170149 \nz\n\" style=\"fill:#dae1eb;stroke:#ffffff;\"/>\n    <path clip-path=\"url(#pe3c3139d21)\" d=\"M 146.792188 127.38656 \nL 148.884687 127.38656 \nL 148.884687 127.170985 \nL 146.792188 127.170985 \nz\n\" style=\"fill:#c8d1e0;stroke:#ffffff;\"/>\n    <path clip-path=\"url(#pe3c3139d21)\" d=\"M 145.745937 127.38606 \nL 149.930937 127.38606 \nL 149.930937 127.171975 \nL 145.745937 127.171975 \nz\n\" style=\"fill:#b5c2d6;stroke:#ffffff;\"/>\n    <path clip-path=\"url(#pe3c3139d21)\" d=\"M 143.653437 127.384932 \nL 152.023438 127.384932 \nL 152.023438 127.174788 \nL 143.653437 127.174788 \nz\n\" style=\"fill:#a2b2cc;stroke:#ffffff;\"/>\n    <path clip-path=\"url(#pe3c3139d21)\" d=\"M 139.468437 127.383203 \nL 156.208438 127.383203 \nL 156.208438 127.179304 \nL 139.468437 127.179304 \nz\n\" style=\"fill:#90a3c2;stroke:#ffffff;\"/>\n    <path clip-path=\"url(#pe3c3139d21)\" d=\"M 131.098437 127.380136 \nL 164.578438 127.380136 \nL 164.578438 127.205004 \nL 131.098437 127.205004 \nz\n\" style=\"fill:#7d93b8;stroke:#ffffff;\"/>\n    <path clip-path=\"url(#pe3c3139d21)\" d=\"M 114.358437 127.373826 \nL 181.318438 127.373826 \nL 181.318438 127.227237 \nL 114.358437 127.227237 \nz\n\" style=\"fill:#6b84ae;stroke:#ffffff;\"/>\n    <path clip-path=\"url(#pe3c3139d21)\" d=\"M 80.878437 127.356875 \nL 214.798438 127.356875 \nL 214.798438 127.26482 \nL 80.878437 127.26482 \nz\n\" style=\"fill:#5875a4;stroke:#ffffff;\"/>\n   </g>\n   <g id=\"PathCollection_2\">\n    <defs>\n     <path d=\"M -0 4.242641 \nL 2.545584 0 \nL 0 -4.242641 \nL -2.545584 -0 \nz\n\" id=\"mce384bfa8b\" style=\"stroke:#cc8963;\"/>\n    </defs>\n    <g clip-path=\"url(#pe3c3139d21)\">\n     <use style=\"fill:#cc8963;stroke:#cc8963;\" x=\"315.238438\" xlink:href=\"#mce384bfa8b\" y=\"127.387125\"/>\n     <use style=\"fill:#cc8963;stroke:#cc8963;\" x=\"315.238438\" xlink:href=\"#mce384bfa8b\" y=\"127.387198\"/>\n     <use style=\"fill:#cc8963;stroke:#cc8963;\" x=\"315.238438\" xlink:href=\"#mce384bfa8b\" y=\"127.387197\"/>\n     <use style=\"fill:#cc8963;stroke:#cc8963;\" x=\"315.238438\" xlink:href=\"#mce384bfa8b\" y=\"127.387193\"/>\n     <use style=\"fill:#cc8963;stroke:#cc8963;\" x=\"315.238438\" xlink:href=\"#mce384bfa8b\" y=\"127.387179\"/>\n     <use style=\"fill:#cc8963;stroke:#cc8963;\" x=\"315.238438\" xlink:href=\"#mce384bfa8b\" y=\"127.387129\"/>\n     <use style=\"fill:#cc8963;stroke:#cc8963;\" x=\"315.238438\" xlink:href=\"#mce384bfa8b\" y=\"127.387114\"/>\n     <use style=\"fill:#cc8963;stroke:#cc8963;\" x=\"315.238438\" xlink:href=\"#mce384bfa8b\" y=\"127.387041\"/>\n     <use style=\"fill:#cc8963;stroke:#cc8963;\" x=\"315.238438\" xlink:href=\"#mce384bfa8b\" y=\"127.169795\"/>\n     <use style=\"fill:#cc8963;stroke:#cc8963;\" x=\"315.238438\" xlink:href=\"#mce384bfa8b\" y=\"127.169741\"/>\n     <use style=\"fill:#cc8963;stroke:#cc8963;\" x=\"315.238438\" xlink:href=\"#mce384bfa8b\" y=\"127.169655\"/>\n     <use style=\"fill:#cc8963;stroke:#cc8963;\" x=\"315.238438\" xlink:href=\"#mce384bfa8b\" y=\"127.169649\"/>\n     <use style=\"fill:#cc8963;stroke:#cc8963;\" x=\"315.238438\" xlink:href=\"#mce384bfa8b\" y=\"127.169567\"/>\n     <use style=\"fill:#cc8963;stroke:#cc8963;\" x=\"315.238438\" xlink:href=\"#mce384bfa8b\" y=\"127.169551\"/>\n     <use style=\"fill:#cc8963;stroke:#cc8963;\" x=\"315.238438\" xlink:href=\"#mce384bfa8b\" y=\"127.169523\"/>\n     <use style=\"fill:#cc8963;stroke:#cc8963;\" x=\"315.238438\" xlink:href=\"#mce384bfa8b\" y=\"127.16937\"/>\n    </g>\n   </g>\n   <g id=\"PatchCollection_2\">\n    <path clip-path=\"url(#pe3c3139d21)\" d=\"M 314.976875 127.387036 \nL 315.5 127.387036 \nL 315.5 127.169853 \nL 314.976875 127.169853 \nz\n\" style=\"fill:#ffffff;stroke:#ffffff;\"/>\n    <path clip-path=\"url(#pe3c3139d21)\" d=\"M 314.715312 127.386844 \nL 315.761563 127.386844 \nL 315.761563 127.170331 \nL 314.715312 127.170331 \nz\n\" style=\"fill:#f9f0eb;stroke:#ffffff;\"/>\n    <path clip-path=\"url(#pe3c3139d21)\" d=\"M 314.192188 127.386622 \nL 316.284688 127.386622 \nL 316.284688 127.171338 \nL 314.192188 127.171338 \nz\n\" style=\"fill:#f2e1d8;stroke:#ffffff;\"/>\n    <path clip-path=\"url(#pe3c3139d21)\" d=\"M 313.145938 127.386042 \nL 317.330938 127.386042 \nL 317.330938 127.173998 \nL 313.145938 127.173998 \nz\n\" style=\"fill:#ecd3c4;stroke:#ffffff;\"/>\n    <path clip-path=\"url(#pe3c3139d21)\" d=\"M 311.053437 127.384912 \nL 319.423437 127.384912 \nL 319.423437 127.177358 \nL 311.053437 127.177358 \nz\n\" style=\"fill:#e5c4b1;stroke:#ffffff;\"/>\n    <path clip-path=\"url(#pe3c3139d21)\" d=\"M 306.868438 127.382873 \nL 323.608438 127.382873 \nL 323.608438 127.184503 \nL 306.868438 127.184503 \nz\n\" style=\"fill:#dfb59d;stroke:#ffffff;\"/>\n    <path clip-path=\"url(#pe3c3139d21)\" d=\"M 298.498438 127.378396 \nL 331.978438 127.378396 \nL 331.978438 127.199407 \nL 298.498438 127.199407 \nz\n\" style=\"fill:#d8a68a;stroke:#ffffff;\"/>\n    <path clip-path=\"url(#pe3c3139d21)\" d=\"M 281.758438 127.369587 \nL 348.718438 127.369587 \nL 348.718438 127.227139 \nL 281.758438 127.227139 \nz\n\" style=\"fill:#d29776;stroke:#ffffff;\"/>\n    <path clip-path=\"url(#pe3c3139d21)\" d=\"M 248.278437 127.35476 \nL 382.198437 127.35476 \nL 382.198437 127.271995 \nL 248.278437 127.271995 \nz\n\" style=\"fill:#cc8963;stroke:#ffffff;\"/>\n   </g>\n   <g id=\"line2d_8\">\n    <path clip-path=\"url(#pe3c3139d21)\" d=\"M 80.878437 127.320157 \nL 214.798438 127.320157 \n\" style=\"fill:none;stroke:#262626;stroke-linecap:round;stroke-opacity:0.45;stroke-width:1.5;\"/>\n   </g>\n   <g id=\"line2d_9\">\n    <path clip-path=\"url(#pe3c3139d21)\" d=\"M 248.278437 127.32246 \nL 382.198437 127.32246 \n\" style=\"fill:none;stroke:#262626;stroke-linecap:round;stroke-opacity:0.45;stroke-width:1.5;\"/>\n   </g>\n   <g id=\"patch_3\">\n    <path d=\"M 64.138438 235.998281 \nL 64.138438 18.558281 \n\" style=\"fill:none;stroke:#ffffff;stroke-linecap:square;stroke-linejoin:miter;stroke-width:1.25;\"/>\n   </g>\n   <g id=\"patch_4\">\n    <path d=\"M 398.938438 235.998281 \nL 398.938438 18.558281 \n\" style=\"fill:none;stroke:#ffffff;stroke-linecap:square;stroke-linejoin:miter;stroke-width:1.25;\"/>\n   </g>\n   <g id=\"patch_5\">\n    <path d=\"M 64.138437 235.998281 \nL 398.938438 235.998281 \n\" style=\"fill:none;stroke:#ffffff;stroke-linecap:square;stroke-linejoin:miter;stroke-width:1.25;\"/>\n   </g>\n   <g id=\"patch_6\">\n    <path d=\"M 64.138437 18.558281 \nL 398.938438 18.558281 \n\" style=\"fill:none;stroke:#ffffff;stroke-linecap:square;stroke-linejoin:miter;stroke-width:1.25;\"/>\n   </g>\n  </g>\n </g>\n <defs>\n  <clipPath id=\"pe3c3139d21\">\n   <rect height=\"217.44\" width=\"334.8\" x=\"64.138438\" y=\"18.558281\"/>\n  </clipPath>\n </defs>\n</svg>\n"
          },
          "metadata": {
            "tags": []
          }
        }
      ]
    },
    {
      "cell_type": "code",
      "metadata": {
        "id": "ewJifhx6exI-",
        "colab_type": "code",
        "outputId": "a6f2cec9-7ca4-469c-aae3-daea102af841",
        "colab": {
          "base_uri": "https://localhost:8080/",
          "height": 411
        }
      },
      "source": [
        "sns.boxenplot(x='visitor_recognition_type',y='epoch_ms', data=df_bol, hue='labels', palette='husl')"
      ],
      "execution_count": 0,
      "outputs": [
        {
          "output_type": "execute_result",
          "data": {
            "text/plain": [
              "<matplotlib.axes._subplots.AxesSubplot at 0x7f3f3ae220b8>"
            ]
          },
          "metadata": {
            "tags": []
          },
          "execution_count": 59
        },
        {
          "output_type": "display_data",
          "data": {
            "text/plain": [
              "<Figure size 432x288 with 1 Axes>"
            ],
            "image/svg+xml": "<?xml version=\"1.0\" encoding=\"utf-8\" standalone=\"no\"?>\n<!DOCTYPE svg PUBLIC \"-//W3C//DTD SVG 1.1//EN\"\n  \"http://www.w3.org/Graphics/SVG/1.1/DTD/svg11.dtd\">\n<!-- Created with matplotlib (https://matplotlib.org/) -->\n<svg height=\"279.291719pt\" version=\"1.1\" viewBox=\"0 0 412.138438 279.291719\" width=\"412.138438pt\" xmlns=\"http://www.w3.org/2000/svg\" xmlns:xlink=\"http://www.w3.org/1999/xlink\">\n <defs>\n  <style type=\"text/css\">\n*{stroke-linecap:butt;stroke-linejoin:round;}\n  </style>\n </defs>\n <g id=\"figure_1\">\n  <g id=\"patch_1\">\n   <path d=\"M 0 279.291719 \nL 412.138438 279.291719 \nL 412.138438 0 \nL 0 0 \nz\n\" style=\"fill:none;\"/>\n  </g>\n  <g id=\"axes_1\">\n   <g id=\"patch_2\">\n    <path d=\"M 64.138438 235.998281 \nL 398.938438 235.998281 \nL 398.938438 18.558281 \nL 64.138438 18.558281 \nz\n\" style=\"fill:#eaeaf2;\"/>\n   </g>\n   <g id=\"matplotlib.axis_1\">\n    <g id=\"xtick_1\">\n     <g id=\"text_1\">\n      <!-- ANONYMOUS -->\n      <defs>\n       <path d=\"M 34.1875 63.1875 \nL 20.796875 26.90625 \nL 47.609375 26.90625 \nz\nM 28.609375 72.90625 \nL 39.796875 72.90625 \nL 67.578125 0 \nL 57.328125 0 \nL 50.6875 18.703125 \nL 17.828125 18.703125 \nL 11.1875 0 \nL 0.78125 0 \nz\n\" id=\"DejaVuSans-65\"/>\n       <path d=\"M 9.8125 72.90625 \nL 23.09375 72.90625 \nL 55.421875 11.921875 \nL 55.421875 72.90625 \nL 64.984375 72.90625 \nL 64.984375 0 \nL 51.703125 0 \nL 19.390625 60.984375 \nL 19.390625 0 \nL 9.8125 0 \nz\n\" id=\"DejaVuSans-78\"/>\n       <path d=\"M 39.40625 66.21875 \nQ 28.65625 66.21875 22.328125 58.203125 \nQ 16.015625 50.203125 16.015625 36.375 \nQ 16.015625 22.609375 22.328125 14.59375 \nQ 28.65625 6.59375 39.40625 6.59375 \nQ 50.140625 6.59375 56.421875 14.59375 \nQ 62.703125 22.609375 62.703125 36.375 \nQ 62.703125 50.203125 56.421875 58.203125 \nQ 50.140625 66.21875 39.40625 66.21875 \nz\nM 39.40625 74.21875 \nQ 54.734375 74.21875 63.90625 63.9375 \nQ 73.09375 53.65625 73.09375 36.375 \nQ 73.09375 19.140625 63.90625 8.859375 \nQ 54.734375 -1.421875 39.40625 -1.421875 \nQ 24.03125 -1.421875 14.8125 8.828125 \nQ 5.609375 19.09375 5.609375 36.375 \nQ 5.609375 53.65625 14.8125 63.9375 \nQ 24.03125 74.21875 39.40625 74.21875 \nz\n\" id=\"DejaVuSans-79\"/>\n       <path d=\"M -0.203125 72.90625 \nL 10.40625 72.90625 \nL 30.609375 42.921875 \nL 50.6875 72.90625 \nL 61.28125 72.90625 \nL 35.5 34.71875 \nL 35.5 0 \nL 25.59375 0 \nL 25.59375 34.71875 \nz\n\" id=\"DejaVuSans-89\"/>\n       <path d=\"M 9.8125 72.90625 \nL 24.515625 72.90625 \nL 43.109375 23.296875 \nL 61.8125 72.90625 \nL 76.515625 72.90625 \nL 76.515625 0 \nL 66.890625 0 \nL 66.890625 64.015625 \nL 48.09375 14.015625 \nL 38.1875 14.015625 \nL 19.390625 64.015625 \nL 19.390625 0 \nL 9.8125 0 \nz\n\" id=\"DejaVuSans-77\"/>\n       <path d=\"M 8.6875 72.90625 \nL 18.609375 72.90625 \nL 18.609375 28.609375 \nQ 18.609375 16.890625 22.84375 11.734375 \nQ 27.09375 6.59375 36.625 6.59375 \nQ 46.09375 6.59375 50.34375 11.734375 \nQ 54.59375 16.890625 54.59375 28.609375 \nL 54.59375 72.90625 \nL 64.5 72.90625 \nL 64.5 27.390625 \nQ 64.5 13.140625 57.4375 5.859375 \nQ 50.390625 -1.421875 36.625 -1.421875 \nQ 22.796875 -1.421875 15.734375 5.859375 \nQ 8.6875 13.140625 8.6875 27.390625 \nz\n\" id=\"DejaVuSans-85\"/>\n       <path d=\"M 53.515625 70.515625 \nL 53.515625 60.890625 \nQ 47.90625 63.578125 42.921875 64.890625 \nQ 37.9375 66.21875 33.296875 66.21875 \nQ 25.25 66.21875 20.875 63.09375 \nQ 16.5 59.96875 16.5 54.203125 \nQ 16.5 49.359375 19.40625 46.890625 \nQ 22.3125 44.4375 30.421875 42.921875 \nL 36.375 41.703125 \nQ 47.40625 39.59375 52.65625 34.296875 \nQ 57.90625 29 57.90625 20.125 \nQ 57.90625 9.515625 50.796875 4.046875 \nQ 43.703125 -1.421875 29.984375 -1.421875 \nQ 24.8125 -1.421875 18.96875 -0.25 \nQ 13.140625 0.921875 6.890625 3.21875 \nL 6.890625 13.375 \nQ 12.890625 10.015625 18.65625 8.296875 \nQ 24.421875 6.59375 29.984375 6.59375 \nQ 38.421875 6.59375 43.015625 9.90625 \nQ 47.609375 13.234375 47.609375 19.390625 \nQ 47.609375 24.75 44.3125 27.78125 \nQ 41.015625 30.8125 33.5 32.328125 \nL 27.484375 33.5 \nQ 16.453125 35.6875 11.515625 40.375 \nQ 6.59375 45.0625 6.59375 53.421875 \nQ 6.59375 63.09375 13.40625 68.65625 \nQ 20.21875 74.21875 32.171875 74.21875 \nQ 37.3125 74.21875 42.625 73.28125 \nQ 47.953125 72.359375 53.515625 70.515625 \nz\n\" id=\"DejaVuSans-83\"/>\n      </defs>\n      <g style=\"fill:#262626;\" transform=\"translate(83.665938 253.856562)scale(0.11 -0.11)\">\n       <use xlink:href=\"#DejaVuSans-65\"/>\n       <use x=\"68.408203\" xlink:href=\"#DejaVuSans-78\"/>\n       <use x=\"143.212891\" xlink:href=\"#DejaVuSans-79\"/>\n       <use x=\"221.923828\" xlink:href=\"#DejaVuSans-78\"/>\n       <use x=\"296.728516\" xlink:href=\"#DejaVuSans-89\"/>\n       <use x=\"357.8125\" xlink:href=\"#DejaVuSans-77\"/>\n       <use x=\"444.091797\" xlink:href=\"#DejaVuSans-79\"/>\n       <use x=\"522.802734\" xlink:href=\"#DejaVuSans-85\"/>\n       <use x=\"595.996094\" xlink:href=\"#DejaVuSans-83\"/>\n      </g>\n     </g>\n    </g>\n    <g id=\"xtick_2\">\n     <g id=\"text_2\">\n      <!-- LOGGEDIN -->\n      <defs>\n       <path d=\"M 9.8125 72.90625 \nL 19.671875 72.90625 \nL 19.671875 8.296875 \nL 55.171875 8.296875 \nL 55.171875 0 \nL 9.8125 0 \nz\n\" id=\"DejaVuSans-76\"/>\n       <path d=\"M 59.515625 10.40625 \nL 59.515625 29.984375 \nL 43.40625 29.984375 \nL 43.40625 38.09375 \nL 69.28125 38.09375 \nL 69.28125 6.78125 \nQ 63.578125 2.734375 56.6875 0.65625 \nQ 49.8125 -1.421875 42 -1.421875 \nQ 24.90625 -1.421875 15.25 8.5625 \nQ 5.609375 18.5625 5.609375 36.375 \nQ 5.609375 54.25 15.25 64.234375 \nQ 24.90625 74.21875 42 74.21875 \nQ 49.125 74.21875 55.546875 72.453125 \nQ 61.96875 70.703125 67.390625 67.28125 \nL 67.390625 56.78125 \nQ 61.921875 61.421875 55.765625 63.765625 \nQ 49.609375 66.109375 42.828125 66.109375 \nQ 29.4375 66.109375 22.71875 58.640625 \nQ 16.015625 51.171875 16.015625 36.375 \nQ 16.015625 21.625 22.71875 14.15625 \nQ 29.4375 6.6875 42.828125 6.6875 \nQ 48.046875 6.6875 52.140625 7.59375 \nQ 56.25 8.5 59.515625 10.40625 \nz\n\" id=\"DejaVuSans-71\"/>\n       <path d=\"M 9.8125 72.90625 \nL 55.90625 72.90625 \nL 55.90625 64.59375 \nL 19.671875 64.59375 \nL 19.671875 43.015625 \nL 54.390625 43.015625 \nL 54.390625 34.71875 \nL 19.671875 34.71875 \nL 19.671875 8.296875 \nL 56.78125 8.296875 \nL 56.78125 0 \nL 9.8125 0 \nz\n\" id=\"DejaVuSans-69\"/>\n       <path d=\"M 19.671875 64.796875 \nL 19.671875 8.109375 \nL 31.59375 8.109375 \nQ 46.6875 8.109375 53.6875 14.9375 \nQ 60.6875 21.78125 60.6875 36.53125 \nQ 60.6875 51.171875 53.6875 57.984375 \nQ 46.6875 64.796875 31.59375 64.796875 \nz\nM 9.8125 72.90625 \nL 30.078125 72.90625 \nQ 51.265625 72.90625 61.171875 64.09375 \nQ 71.09375 55.28125 71.09375 36.53125 \nQ 71.09375 17.671875 61.125 8.828125 \nQ 51.171875 0 30.078125 0 \nL 9.8125 0 \nz\n\" id=\"DejaVuSans-68\"/>\n       <path d=\"M 9.8125 72.90625 \nL 19.671875 72.90625 \nL 19.671875 0 \nL 9.8125 0 \nz\n\" id=\"DejaVuSans-73\"/>\n      </defs>\n      <g style=\"fill:#262626;\" transform=\"translate(202.176172 253.856562)scale(0.11 -0.11)\">\n       <use xlink:href=\"#DejaVuSans-76\"/>\n       <use x=\"55.666016\" xlink:href=\"#DejaVuSans-79\"/>\n       <use x=\"134.376953\" xlink:href=\"#DejaVuSans-71\"/>\n       <use x=\"211.867188\" xlink:href=\"#DejaVuSans-71\"/>\n       <use x=\"289.357422\" xlink:href=\"#DejaVuSans-69\"/>\n       <use x=\"352.541016\" xlink:href=\"#DejaVuSans-68\"/>\n       <use x=\"429.542969\" xlink:href=\"#DejaVuSans-73\"/>\n       <use x=\"459.035156\" xlink:href=\"#DejaVuSans-78\"/>\n      </g>\n     </g>\n    </g>\n    <g id=\"xtick_3\">\n     <g id=\"text_3\">\n      <!-- RECOGNIZED -->\n      <defs>\n       <path d=\"M 44.390625 34.1875 \nQ 47.5625 33.109375 50.5625 29.59375 \nQ 53.5625 26.078125 56.59375 19.921875 \nL 66.609375 0 \nL 56 0 \nL 46.6875 18.703125 \nQ 43.0625 26.03125 39.671875 28.421875 \nQ 36.28125 30.8125 30.421875 30.8125 \nL 19.671875 30.8125 \nL 19.671875 0 \nL 9.8125 0 \nL 9.8125 72.90625 \nL 32.078125 72.90625 \nQ 44.578125 72.90625 50.734375 67.671875 \nQ 56.890625 62.453125 56.890625 51.90625 \nQ 56.890625 45.015625 53.6875 40.46875 \nQ 50.484375 35.9375 44.390625 34.1875 \nz\nM 19.671875 64.796875 \nL 19.671875 38.921875 \nL 32.078125 38.921875 \nQ 39.203125 38.921875 42.84375 42.21875 \nQ 46.484375 45.515625 46.484375 51.90625 \nQ 46.484375 58.296875 42.84375 61.546875 \nQ 39.203125 64.796875 32.078125 64.796875 \nz\n\" id=\"DejaVuSans-82\"/>\n       <path d=\"M 64.40625 67.28125 \nL 64.40625 56.890625 \nQ 59.421875 61.53125 53.78125 63.8125 \nQ 48.140625 66.109375 41.796875 66.109375 \nQ 29.296875 66.109375 22.65625 58.46875 \nQ 16.015625 50.828125 16.015625 36.375 \nQ 16.015625 21.96875 22.65625 14.328125 \nQ 29.296875 6.6875 41.796875 6.6875 \nQ 48.140625 6.6875 53.78125 8.984375 \nQ 59.421875 11.28125 64.40625 15.921875 \nL 64.40625 5.609375 \nQ 59.234375 2.09375 53.4375 0.328125 \nQ 47.65625 -1.421875 41.21875 -1.421875 \nQ 24.65625 -1.421875 15.125 8.703125 \nQ 5.609375 18.84375 5.609375 36.375 \nQ 5.609375 53.953125 15.125 64.078125 \nQ 24.65625 74.21875 41.21875 74.21875 \nQ 47.75 74.21875 53.53125 72.484375 \nQ 59.328125 70.75 64.40625 67.28125 \nz\n\" id=\"DejaVuSans-67\"/>\n       <path d=\"M 5.609375 72.90625 \nL 62.890625 72.90625 \nL 62.890625 65.375 \nL 16.796875 8.296875 \nL 64.015625 8.296875 \nL 64.015625 0 \nL 4.5 0 \nL 4.5 7.515625 \nL 50.59375 64.59375 \nL 5.609375 64.59375 \nz\n\" id=\"DejaVuSans-90\"/>\n      </defs>\n      <g style=\"fill:#262626;\" transform=\"translate(306.194766 253.856562)scale(0.11 -0.11)\">\n       <use xlink:href=\"#DejaVuSans-82\"/>\n       <use x=\"69.482422\" xlink:href=\"#DejaVuSans-69\"/>\n       <use x=\"132.666016\" xlink:href=\"#DejaVuSans-67\"/>\n       <use x=\"202.490234\" xlink:href=\"#DejaVuSans-79\"/>\n       <use x=\"281.201172\" xlink:href=\"#DejaVuSans-71\"/>\n       <use x=\"358.691406\" xlink:href=\"#DejaVuSans-78\"/>\n       <use x=\"433.496094\" xlink:href=\"#DejaVuSans-73\"/>\n       <use x=\"462.988281\" xlink:href=\"#DejaVuSans-90\"/>\n       <use x=\"531.494141\" xlink:href=\"#DejaVuSans-69\"/>\n       <use x=\"594.677734\" xlink:href=\"#DejaVuSans-68\"/>\n      </g>\n     </g>\n    </g>\n    <g id=\"text_4\">\n     <!-- visitor_recognition_type -->\n     <defs>\n      <path d=\"M 2.984375 54.6875 \nL 12.5 54.6875 \nL 29.59375 8.796875 \nL 46.6875 54.6875 \nL 56.203125 54.6875 \nL 35.6875 0 \nL 23.484375 0 \nz\n\" id=\"DejaVuSans-118\"/>\n      <path d=\"M 9.421875 54.6875 \nL 18.40625 54.6875 \nL 18.40625 0 \nL 9.421875 0 \nz\nM 9.421875 75.984375 \nL 18.40625 75.984375 \nL 18.40625 64.59375 \nL 9.421875 64.59375 \nz\n\" id=\"DejaVuSans-105\"/>\n      <path d=\"M 44.28125 53.078125 \nL 44.28125 44.578125 \nQ 40.484375 46.53125 36.375 47.5 \nQ 32.28125 48.484375 27.875 48.484375 \nQ 21.1875 48.484375 17.84375 46.4375 \nQ 14.5 44.390625 14.5 40.28125 \nQ 14.5 37.15625 16.890625 35.375 \nQ 19.28125 33.59375 26.515625 31.984375 \nL 29.59375 31.296875 \nQ 39.15625 29.25 43.1875 25.515625 \nQ 47.21875 21.78125 47.21875 15.09375 \nQ 47.21875 7.46875 41.1875 3.015625 \nQ 35.15625 -1.421875 24.609375 -1.421875 \nQ 20.21875 -1.421875 15.453125 -0.5625 \nQ 10.6875 0.296875 5.421875 2 \nL 5.421875 11.28125 \nQ 10.40625 8.6875 15.234375 7.390625 \nQ 20.0625 6.109375 24.8125 6.109375 \nQ 31.15625 6.109375 34.5625 8.28125 \nQ 37.984375 10.453125 37.984375 14.40625 \nQ 37.984375 18.0625 35.515625 20.015625 \nQ 33.0625 21.96875 24.703125 23.78125 \nL 21.578125 24.515625 \nQ 13.234375 26.265625 9.515625 29.90625 \nQ 5.8125 33.546875 5.8125 39.890625 \nQ 5.8125 47.609375 11.28125 51.796875 \nQ 16.75 56 26.8125 56 \nQ 31.78125 56 36.171875 55.265625 \nQ 40.578125 54.546875 44.28125 53.078125 \nz\n\" id=\"DejaVuSans-115\"/>\n      <path d=\"M 18.3125 70.21875 \nL 18.3125 54.6875 \nL 36.8125 54.6875 \nL 36.8125 47.703125 \nL 18.3125 47.703125 \nL 18.3125 18.015625 \nQ 18.3125 11.328125 20.140625 9.421875 \nQ 21.96875 7.515625 27.59375 7.515625 \nL 36.8125 7.515625 \nL 36.8125 0 \nL 27.59375 0 \nQ 17.1875 0 13.234375 3.875 \nQ 9.28125 7.765625 9.28125 18.015625 \nL 9.28125 47.703125 \nL 2.6875 47.703125 \nL 2.6875 54.6875 \nL 9.28125 54.6875 \nL 9.28125 70.21875 \nz\n\" id=\"DejaVuSans-116\"/>\n      <path d=\"M 30.609375 48.390625 \nQ 23.390625 48.390625 19.1875 42.75 \nQ 14.984375 37.109375 14.984375 27.296875 \nQ 14.984375 17.484375 19.15625 11.84375 \nQ 23.34375 6.203125 30.609375 6.203125 \nQ 37.796875 6.203125 41.984375 11.859375 \nQ 46.1875 17.53125 46.1875 27.296875 \nQ 46.1875 37.015625 41.984375 42.703125 \nQ 37.796875 48.390625 30.609375 48.390625 \nz\nM 30.609375 56 \nQ 42.328125 56 49.015625 48.375 \nQ 55.71875 40.765625 55.71875 27.296875 \nQ 55.71875 13.875 49.015625 6.21875 \nQ 42.328125 -1.421875 30.609375 -1.421875 \nQ 18.84375 -1.421875 12.171875 6.21875 \nQ 5.515625 13.875 5.515625 27.296875 \nQ 5.515625 40.765625 12.171875 48.375 \nQ 18.84375 56 30.609375 56 \nz\n\" id=\"DejaVuSans-111\"/>\n      <path d=\"M 41.109375 46.296875 \nQ 39.59375 47.171875 37.8125 47.578125 \nQ 36.03125 48 33.890625 48 \nQ 26.265625 48 22.1875 43.046875 \nQ 18.109375 38.09375 18.109375 28.8125 \nL 18.109375 0 \nL 9.078125 0 \nL 9.078125 54.6875 \nL 18.109375 54.6875 \nL 18.109375 46.1875 \nQ 20.953125 51.171875 25.484375 53.578125 \nQ 30.03125 56 36.53125 56 \nQ 37.453125 56 38.578125 55.875 \nQ 39.703125 55.765625 41.0625 55.515625 \nz\n\" id=\"DejaVuSans-114\"/>\n      <path d=\"M 50.984375 -16.609375 \nL 50.984375 -23.578125 \nL -0.984375 -23.578125 \nL -0.984375 -16.609375 \nz\n\" id=\"DejaVuSans-95\"/>\n      <path d=\"M 56.203125 29.59375 \nL 56.203125 25.203125 \nL 14.890625 25.203125 \nQ 15.484375 15.921875 20.484375 11.0625 \nQ 25.484375 6.203125 34.421875 6.203125 \nQ 39.59375 6.203125 44.453125 7.46875 \nQ 49.3125 8.734375 54.109375 11.28125 \nL 54.109375 2.78125 \nQ 49.265625 0.734375 44.1875 -0.34375 \nQ 39.109375 -1.421875 33.890625 -1.421875 \nQ 20.796875 -1.421875 13.15625 6.1875 \nQ 5.515625 13.8125 5.515625 26.8125 \nQ 5.515625 40.234375 12.765625 48.109375 \nQ 20.015625 56 32.328125 56 \nQ 43.359375 56 49.78125 48.890625 \nQ 56.203125 41.796875 56.203125 29.59375 \nz\nM 47.21875 32.234375 \nQ 47.125 39.59375 43.09375 43.984375 \nQ 39.0625 48.390625 32.421875 48.390625 \nQ 24.90625 48.390625 20.390625 44.140625 \nQ 15.875 39.890625 15.1875 32.171875 \nz\n\" id=\"DejaVuSans-101\"/>\n      <path d=\"M 48.78125 52.59375 \nL 48.78125 44.1875 \nQ 44.96875 46.296875 41.140625 47.34375 \nQ 37.3125 48.390625 33.40625 48.390625 \nQ 24.65625 48.390625 19.8125 42.84375 \nQ 14.984375 37.3125 14.984375 27.296875 \nQ 14.984375 17.28125 19.8125 11.734375 \nQ 24.65625 6.203125 33.40625 6.203125 \nQ 37.3125 6.203125 41.140625 7.25 \nQ 44.96875 8.296875 48.78125 10.40625 \nL 48.78125 2.09375 \nQ 45.015625 0.34375 40.984375 -0.53125 \nQ 36.96875 -1.421875 32.421875 -1.421875 \nQ 20.0625 -1.421875 12.78125 6.34375 \nQ 5.515625 14.109375 5.515625 27.296875 \nQ 5.515625 40.671875 12.859375 48.328125 \nQ 20.21875 56 33.015625 56 \nQ 37.15625 56 41.109375 55.140625 \nQ 45.0625 54.296875 48.78125 52.59375 \nz\n\" id=\"DejaVuSans-99\"/>\n      <path d=\"M 45.40625 27.984375 \nQ 45.40625 37.75 41.375 43.109375 \nQ 37.359375 48.484375 30.078125 48.484375 \nQ 22.859375 48.484375 18.828125 43.109375 \nQ 14.796875 37.75 14.796875 27.984375 \nQ 14.796875 18.265625 18.828125 12.890625 \nQ 22.859375 7.515625 30.078125 7.515625 \nQ 37.359375 7.515625 41.375 12.890625 \nQ 45.40625 18.265625 45.40625 27.984375 \nz\nM 54.390625 6.78125 \nQ 54.390625 -7.171875 48.1875 -13.984375 \nQ 42 -20.796875 29.203125 -20.796875 \nQ 24.46875 -20.796875 20.265625 -20.09375 \nQ 16.0625 -19.390625 12.109375 -17.921875 \nL 12.109375 -9.1875 \nQ 16.0625 -11.328125 19.921875 -12.34375 \nQ 23.78125 -13.375 27.78125 -13.375 \nQ 36.625 -13.375 41.015625 -8.765625 \nQ 45.40625 -4.15625 45.40625 5.171875 \nL 45.40625 9.625 \nQ 42.625 4.78125 38.28125 2.390625 \nQ 33.9375 0 27.875 0 \nQ 17.828125 0 11.671875 7.65625 \nQ 5.515625 15.328125 5.515625 27.984375 \nQ 5.515625 40.671875 11.671875 48.328125 \nQ 17.828125 56 27.875 56 \nQ 33.9375 56 38.28125 53.609375 \nQ 42.625 51.21875 45.40625 46.390625 \nL 45.40625 54.6875 \nL 54.390625 54.6875 \nz\n\" id=\"DejaVuSans-103\"/>\n      <path d=\"M 54.890625 33.015625 \nL 54.890625 0 \nL 45.90625 0 \nL 45.90625 32.71875 \nQ 45.90625 40.484375 42.875 44.328125 \nQ 39.84375 48.1875 33.796875 48.1875 \nQ 26.515625 48.1875 22.3125 43.546875 \nQ 18.109375 38.921875 18.109375 30.90625 \nL 18.109375 0 \nL 9.078125 0 \nL 9.078125 54.6875 \nL 18.109375 54.6875 \nL 18.109375 46.1875 \nQ 21.34375 51.125 25.703125 53.5625 \nQ 30.078125 56 35.796875 56 \nQ 45.21875 56 50.046875 50.171875 \nQ 54.890625 44.34375 54.890625 33.015625 \nz\n\" id=\"DejaVuSans-110\"/>\n      <path d=\"M 32.171875 -5.078125 \nQ 28.375 -14.84375 24.75 -17.8125 \nQ 21.140625 -20.796875 15.09375 -20.796875 \nL 7.90625 -20.796875 \nL 7.90625 -13.28125 \nL 13.1875 -13.28125 \nQ 16.890625 -13.28125 18.9375 -11.515625 \nQ 21 -9.765625 23.484375 -3.21875 \nL 25.09375 0.875 \nL 2.984375 54.6875 \nL 12.5 54.6875 \nL 29.59375 11.921875 \nL 46.6875 54.6875 \nL 56.203125 54.6875 \nz\n\" id=\"DejaVuSans-121\"/>\n      <path d=\"M 18.109375 8.203125 \nL 18.109375 -20.796875 \nL 9.078125 -20.796875 \nL 9.078125 54.6875 \nL 18.109375 54.6875 \nL 18.109375 46.390625 \nQ 20.953125 51.265625 25.265625 53.625 \nQ 29.59375 56 35.59375 56 \nQ 45.5625 56 51.78125 48.09375 \nQ 58.015625 40.1875 58.015625 27.296875 \nQ 58.015625 14.40625 51.78125 6.484375 \nQ 45.5625 -1.421875 35.59375 -1.421875 \nQ 29.59375 -1.421875 25.265625 0.953125 \nQ 20.953125 3.328125 18.109375 8.203125 \nz\nM 48.6875 27.296875 \nQ 48.6875 37.203125 44.609375 42.84375 \nQ 40.53125 48.484375 33.40625 48.484375 \nQ 26.265625 48.484375 22.1875 42.84375 \nQ 18.109375 37.203125 18.109375 27.296875 \nQ 18.109375 17.390625 22.1875 11.75 \nQ 26.265625 6.109375 33.40625 6.109375 \nQ 40.53125 6.109375 44.609375 11.75 \nQ 48.6875 17.390625 48.6875 27.296875 \nz\n\" id=\"DejaVuSans-112\"/>\n     </defs>\n     <g style=\"fill:#262626;\" transform=\"translate(159.735313 269.262344)scale(0.12 -0.12)\">\n      <use xlink:href=\"#DejaVuSans-118\"/>\n      <use x=\"59.179688\" xlink:href=\"#DejaVuSans-105\"/>\n      <use x=\"86.962891\" xlink:href=\"#DejaVuSans-115\"/>\n      <use x=\"139.0625\" xlink:href=\"#DejaVuSans-105\"/>\n      <use x=\"166.845703\" xlink:href=\"#DejaVuSans-116\"/>\n      <use x=\"206.054688\" xlink:href=\"#DejaVuSans-111\"/>\n      <use x=\"267.236328\" xlink:href=\"#DejaVuSans-114\"/>\n      <use x=\"308.349609\" xlink:href=\"#DejaVuSans-95\"/>\n      <use x=\"358.349609\" xlink:href=\"#DejaVuSans-114\"/>\n      <use x=\"399.431641\" xlink:href=\"#DejaVuSans-101\"/>\n      <use x=\"460.955078\" xlink:href=\"#DejaVuSans-99\"/>\n      <use x=\"515.935547\" xlink:href=\"#DejaVuSans-111\"/>\n      <use x=\"577.117188\" xlink:href=\"#DejaVuSans-103\"/>\n      <use x=\"640.59375\" xlink:href=\"#DejaVuSans-110\"/>\n      <use x=\"703.972656\" xlink:href=\"#DejaVuSans-105\"/>\n      <use x=\"731.755859\" xlink:href=\"#DejaVuSans-116\"/>\n      <use x=\"770.964844\" xlink:href=\"#DejaVuSans-105\"/>\n      <use x=\"798.748047\" xlink:href=\"#DejaVuSans-111\"/>\n      <use x=\"859.929688\" xlink:href=\"#DejaVuSans-110\"/>\n      <use x=\"923.308594\" xlink:href=\"#DejaVuSans-95\"/>\n      <use x=\"973.308594\" xlink:href=\"#DejaVuSans-116\"/>\n      <use x=\"1012.517578\" xlink:href=\"#DejaVuSans-121\"/>\n      <use x=\"1071.697266\" xlink:href=\"#DejaVuSans-112\"/>\n      <use x=\"1135.173828\" xlink:href=\"#DejaVuSans-101\"/>\n     </g>\n    </g>\n   </g>\n   <g id=\"matplotlib.axis_2\">\n    <g id=\"ytick_1\">\n     <g id=\"line2d_1\">\n      <path clip-path=\"url(#pc42ee56842)\" d=\"M 64.138438 226.629777 \nL 398.938438 226.629777 \n\" style=\"fill:none;stroke:#ffffff;stroke-linecap:round;\"/>\n     </g>\n     <g id=\"text_5\">\n      <!-- 1.517 -->\n      <defs>\n       <path d=\"M 12.40625 8.296875 \nL 28.515625 8.296875 \nL 28.515625 63.921875 \nL 10.984375 60.40625 \nL 10.984375 69.390625 \nL 28.421875 72.90625 \nL 38.28125 72.90625 \nL 38.28125 8.296875 \nL 54.390625 8.296875 \nL 54.390625 0 \nL 12.40625 0 \nz\n\" id=\"DejaVuSans-49\"/>\n       <path d=\"M 10.6875 12.40625 \nL 21 12.40625 \nL 21 0 \nL 10.6875 0 \nz\n\" id=\"DejaVuSans-46\"/>\n       <path d=\"M 10.796875 72.90625 \nL 49.515625 72.90625 \nL 49.515625 64.59375 \nL 19.828125 64.59375 \nL 19.828125 46.734375 \nQ 21.96875 47.46875 24.109375 47.828125 \nQ 26.265625 48.1875 28.421875 48.1875 \nQ 40.625 48.1875 47.75 41.5 \nQ 54.890625 34.8125 54.890625 23.390625 \nQ 54.890625 11.625 47.5625 5.09375 \nQ 40.234375 -1.421875 26.90625 -1.421875 \nQ 22.3125 -1.421875 17.546875 -0.640625 \nQ 12.796875 0.140625 7.71875 1.703125 \nL 7.71875 11.625 \nQ 12.109375 9.234375 16.796875 8.0625 \nQ 21.484375 6.890625 26.703125 6.890625 \nQ 35.15625 6.890625 40.078125 11.328125 \nQ 45.015625 15.765625 45.015625 23.390625 \nQ 45.015625 31 40.078125 35.4375 \nQ 35.15625 39.890625 26.703125 39.890625 \nQ 22.75 39.890625 18.8125 39.015625 \nQ 14.890625 38.140625 10.796875 36.28125 \nz\n\" id=\"DejaVuSans-53\"/>\n       <path d=\"M 8.203125 72.90625 \nL 55.078125 72.90625 \nL 55.078125 68.703125 \nL 28.609375 0 \nL 18.3125 0 \nL 43.21875 64.59375 \nL 8.203125 64.59375 \nz\n\" id=\"DejaVuSans-55\"/>\n      </defs>\n      <g style=\"fill:#262626;\" transform=\"translate(23.1475 230.808918)scale(0.11 -0.11)\">\n       <use xlink:href=\"#DejaVuSans-49\"/>\n       <use x=\"63.623047\" xlink:href=\"#DejaVuSans-46\"/>\n       <use x=\"95.410156\" xlink:href=\"#DejaVuSans-53\"/>\n       <use x=\"159.033203\" xlink:href=\"#DejaVuSans-49\"/>\n       <use x=\"222.65625\" xlink:href=\"#DejaVuSans-55\"/>\n      </g>\n     </g>\n    </g>\n    <g id=\"ytick_2\">\n     <g id=\"line2d_2\">\n      <path clip-path=\"url(#pc42ee56842)\" d=\"M 64.138438 196.372892 \nL 398.938438 196.372892 \n\" style=\"fill:none;stroke:#ffffff;stroke-linecap:round;\"/>\n     </g>\n     <g id=\"text_6\">\n      <!-- 1.518 -->\n      <defs>\n       <path d=\"M 31.78125 34.625 \nQ 24.75 34.625 20.71875 30.859375 \nQ 16.703125 27.09375 16.703125 20.515625 \nQ 16.703125 13.921875 20.71875 10.15625 \nQ 24.75 6.390625 31.78125 6.390625 \nQ 38.8125 6.390625 42.859375 10.171875 \nQ 46.921875 13.96875 46.921875 20.515625 \nQ 46.921875 27.09375 42.890625 30.859375 \nQ 38.875 34.625 31.78125 34.625 \nz\nM 21.921875 38.8125 \nQ 15.578125 40.375 12.03125 44.71875 \nQ 8.5 49.078125 8.5 55.328125 \nQ 8.5 64.0625 14.71875 69.140625 \nQ 20.953125 74.21875 31.78125 74.21875 \nQ 42.671875 74.21875 48.875 69.140625 \nQ 55.078125 64.0625 55.078125 55.328125 \nQ 55.078125 49.078125 51.53125 44.71875 \nQ 48 40.375 41.703125 38.8125 \nQ 48.828125 37.15625 52.796875 32.3125 \nQ 56.78125 27.484375 56.78125 20.515625 \nQ 56.78125 9.90625 50.3125 4.234375 \nQ 43.84375 -1.421875 31.78125 -1.421875 \nQ 19.734375 -1.421875 13.25 4.234375 \nQ 6.78125 9.90625 6.78125 20.515625 \nQ 6.78125 27.484375 10.78125 32.3125 \nQ 14.796875 37.15625 21.921875 38.8125 \nz\nM 18.3125 54.390625 \nQ 18.3125 48.734375 21.84375 45.5625 \nQ 25.390625 42.390625 31.78125 42.390625 \nQ 38.140625 42.390625 41.71875 45.5625 \nQ 45.3125 48.734375 45.3125 54.390625 \nQ 45.3125 60.0625 41.71875 63.234375 \nQ 38.140625 66.40625 31.78125 66.40625 \nQ 25.390625 66.40625 21.84375 63.234375 \nQ 18.3125 60.0625 18.3125 54.390625 \nz\n\" id=\"DejaVuSans-56\"/>\n      </defs>\n      <g style=\"fill:#262626;\" transform=\"translate(23.1475 200.552033)scale(0.11 -0.11)\">\n       <use xlink:href=\"#DejaVuSans-49\"/>\n       <use x=\"63.623047\" xlink:href=\"#DejaVuSans-46\"/>\n       <use x=\"95.410156\" xlink:href=\"#DejaVuSans-53\"/>\n       <use x=\"159.033203\" xlink:href=\"#DejaVuSans-49\"/>\n       <use x=\"222.65625\" xlink:href=\"#DejaVuSans-56\"/>\n      </g>\n     </g>\n    </g>\n    <g id=\"ytick_3\">\n     <g id=\"line2d_3\">\n      <path clip-path=\"url(#pc42ee56842)\" d=\"M 64.138438 166.116008 \nL 398.938438 166.116008 \n\" style=\"fill:none;stroke:#ffffff;stroke-linecap:round;\"/>\n     </g>\n     <g id=\"text_7\">\n      <!-- 1.519 -->\n      <defs>\n       <path d=\"M 10.984375 1.515625 \nL 10.984375 10.5 \nQ 14.703125 8.734375 18.5 7.8125 \nQ 22.3125 6.890625 25.984375 6.890625 \nQ 35.75 6.890625 40.890625 13.453125 \nQ 46.046875 20.015625 46.78125 33.40625 \nQ 43.953125 29.203125 39.59375 26.953125 \nQ 35.25 24.703125 29.984375 24.703125 \nQ 19.046875 24.703125 12.671875 31.3125 \nQ 6.296875 37.9375 6.296875 49.421875 \nQ 6.296875 60.640625 12.9375 67.421875 \nQ 19.578125 74.21875 30.609375 74.21875 \nQ 43.265625 74.21875 49.921875 64.515625 \nQ 56.59375 54.828125 56.59375 36.375 \nQ 56.59375 19.140625 48.40625 8.859375 \nQ 40.234375 -1.421875 26.421875 -1.421875 \nQ 22.703125 -1.421875 18.890625 -0.6875 \nQ 15.09375 0.046875 10.984375 1.515625 \nz\nM 30.609375 32.421875 \nQ 37.25 32.421875 41.125 36.953125 \nQ 45.015625 41.5 45.015625 49.421875 \nQ 45.015625 57.28125 41.125 61.84375 \nQ 37.25 66.40625 30.609375 66.40625 \nQ 23.96875 66.40625 20.09375 61.84375 \nQ 16.21875 57.28125 16.21875 49.421875 \nQ 16.21875 41.5 20.09375 36.953125 \nQ 23.96875 32.421875 30.609375 32.421875 \nz\n\" id=\"DejaVuSans-57\"/>\n      </defs>\n      <g style=\"fill:#262626;\" transform=\"translate(23.1475 170.295148)scale(0.11 -0.11)\">\n       <use xlink:href=\"#DejaVuSans-49\"/>\n       <use x=\"63.623047\" xlink:href=\"#DejaVuSans-46\"/>\n       <use x=\"95.410156\" xlink:href=\"#DejaVuSans-53\"/>\n       <use x=\"159.033203\" xlink:href=\"#DejaVuSans-49\"/>\n       <use x=\"222.65625\" xlink:href=\"#DejaVuSans-57\"/>\n      </g>\n     </g>\n    </g>\n    <g id=\"ytick_4\">\n     <g id=\"line2d_4\">\n      <path clip-path=\"url(#pc42ee56842)\" d=\"M 64.138438 135.859123 \nL 398.938438 135.859123 \n\" style=\"fill:none;stroke:#ffffff;stroke-linecap:round;\"/>\n     </g>\n     <g id=\"text_8\">\n      <!-- 1.520 -->\n      <defs>\n       <path d=\"M 19.1875 8.296875 \nL 53.609375 8.296875 \nL 53.609375 0 \nL 7.328125 0 \nL 7.328125 8.296875 \nQ 12.9375 14.109375 22.625 23.890625 \nQ 32.328125 33.6875 34.8125 36.53125 \nQ 39.546875 41.84375 41.421875 45.53125 \nQ 43.3125 49.21875 43.3125 52.78125 \nQ 43.3125 58.59375 39.234375 62.25 \nQ 35.15625 65.921875 28.609375 65.921875 \nQ 23.96875 65.921875 18.8125 64.3125 \nQ 13.671875 62.703125 7.8125 59.421875 \nL 7.8125 69.390625 \nQ 13.765625 71.78125 18.9375 73 \nQ 24.125 74.21875 28.421875 74.21875 \nQ 39.75 74.21875 46.484375 68.546875 \nQ 53.21875 62.890625 53.21875 53.421875 \nQ 53.21875 48.921875 51.53125 44.890625 \nQ 49.859375 40.875 45.40625 35.40625 \nQ 44.1875 33.984375 37.640625 27.21875 \nQ 31.109375 20.453125 19.1875 8.296875 \nz\n\" id=\"DejaVuSans-50\"/>\n       <path d=\"M 31.78125 66.40625 \nQ 24.171875 66.40625 20.328125 58.90625 \nQ 16.5 51.421875 16.5 36.375 \nQ 16.5 21.390625 20.328125 13.890625 \nQ 24.171875 6.390625 31.78125 6.390625 \nQ 39.453125 6.390625 43.28125 13.890625 \nQ 47.125 21.390625 47.125 36.375 \nQ 47.125 51.421875 43.28125 58.90625 \nQ 39.453125 66.40625 31.78125 66.40625 \nz\nM 31.78125 74.21875 \nQ 44.046875 74.21875 50.515625 64.515625 \nQ 56.984375 54.828125 56.984375 36.375 \nQ 56.984375 17.96875 50.515625 8.265625 \nQ 44.046875 -1.421875 31.78125 -1.421875 \nQ 19.53125 -1.421875 13.0625 8.265625 \nQ 6.59375 17.96875 6.59375 36.375 \nQ 6.59375 54.828125 13.0625 64.515625 \nQ 19.53125 74.21875 31.78125 74.21875 \nz\n\" id=\"DejaVuSans-48\"/>\n      </defs>\n      <g style=\"fill:#262626;\" transform=\"translate(23.1475 140.038264)scale(0.11 -0.11)\">\n       <use xlink:href=\"#DejaVuSans-49\"/>\n       <use x=\"63.623047\" xlink:href=\"#DejaVuSans-46\"/>\n       <use x=\"95.410156\" xlink:href=\"#DejaVuSans-53\"/>\n       <use x=\"159.033203\" xlink:href=\"#DejaVuSans-50\"/>\n       <use x=\"222.65625\" xlink:href=\"#DejaVuSans-48\"/>\n      </g>\n     </g>\n    </g>\n    <g id=\"ytick_5\">\n     <g id=\"line2d_5\">\n      <path clip-path=\"url(#pc42ee56842)\" d=\"M 64.138438 105.602238 \nL 398.938438 105.602238 \n\" style=\"fill:none;stroke:#ffffff;stroke-linecap:round;\"/>\n     </g>\n     <g id=\"text_9\">\n      <!-- 1.521 -->\n      <g style=\"fill:#262626;\" transform=\"translate(23.1475 109.781379)scale(0.11 -0.11)\">\n       <use xlink:href=\"#DejaVuSans-49\"/>\n       <use x=\"63.623047\" xlink:href=\"#DejaVuSans-46\"/>\n       <use x=\"95.410156\" xlink:href=\"#DejaVuSans-53\"/>\n       <use x=\"159.033203\" xlink:href=\"#DejaVuSans-50\"/>\n       <use x=\"222.65625\" xlink:href=\"#DejaVuSans-49\"/>\n      </g>\n     </g>\n    </g>\n    <g id=\"ytick_6\">\n     <g id=\"line2d_6\">\n      <path clip-path=\"url(#pc42ee56842)\" d=\"M 64.138438 75.345353 \nL 398.938438 75.345353 \n\" style=\"fill:none;stroke:#ffffff;stroke-linecap:round;\"/>\n     </g>\n     <g id=\"text_10\">\n      <!-- 1.522 -->\n      <g style=\"fill:#262626;\" transform=\"translate(23.1475 79.524494)scale(0.11 -0.11)\">\n       <use xlink:href=\"#DejaVuSans-49\"/>\n       <use x=\"63.623047\" xlink:href=\"#DejaVuSans-46\"/>\n       <use x=\"95.410156\" xlink:href=\"#DejaVuSans-53\"/>\n       <use x=\"159.033203\" xlink:href=\"#DejaVuSans-50\"/>\n       <use x=\"222.65625\" xlink:href=\"#DejaVuSans-50\"/>\n      </g>\n     </g>\n    </g>\n    <g id=\"ytick_7\">\n     <g id=\"line2d_7\">\n      <path clip-path=\"url(#pc42ee56842)\" d=\"M 64.138438 45.088469 \nL 398.938438 45.088469 \n\" style=\"fill:none;stroke:#ffffff;stroke-linecap:round;\"/>\n     </g>\n     <g id=\"text_11\">\n      <!-- 1.523 -->\n      <defs>\n       <path d=\"M 40.578125 39.3125 \nQ 47.65625 37.796875 51.625 33 \nQ 55.609375 28.21875 55.609375 21.1875 \nQ 55.609375 10.40625 48.1875 4.484375 \nQ 40.765625 -1.421875 27.09375 -1.421875 \nQ 22.515625 -1.421875 17.65625 -0.515625 \nQ 12.796875 0.390625 7.625 2.203125 \nL 7.625 11.71875 \nQ 11.71875 9.328125 16.59375 8.109375 \nQ 21.484375 6.890625 26.8125 6.890625 \nQ 36.078125 6.890625 40.9375 10.546875 \nQ 45.796875 14.203125 45.796875 21.1875 \nQ 45.796875 27.640625 41.28125 31.265625 \nQ 36.765625 34.90625 28.71875 34.90625 \nL 20.21875 34.90625 \nL 20.21875 43.015625 \nL 29.109375 43.015625 \nQ 36.375 43.015625 40.234375 45.921875 \nQ 44.09375 48.828125 44.09375 54.296875 \nQ 44.09375 59.90625 40.109375 62.90625 \nQ 36.140625 65.921875 28.71875 65.921875 \nQ 24.65625 65.921875 20.015625 65.03125 \nQ 15.375 64.15625 9.8125 62.3125 \nL 9.8125 71.09375 \nQ 15.4375 72.65625 20.34375 73.4375 \nQ 25.25 74.21875 29.59375 74.21875 \nQ 40.828125 74.21875 47.359375 69.109375 \nQ 53.90625 64.015625 53.90625 55.328125 \nQ 53.90625 49.265625 50.4375 45.09375 \nQ 46.96875 40.921875 40.578125 39.3125 \nz\n\" id=\"DejaVuSans-51\"/>\n      </defs>\n      <g style=\"fill:#262626;\" transform=\"translate(23.1475 49.267609)scale(0.11 -0.11)\">\n       <use xlink:href=\"#DejaVuSans-49\"/>\n       <use x=\"63.623047\" xlink:href=\"#DejaVuSans-46\"/>\n       <use x=\"95.410156\" xlink:href=\"#DejaVuSans-53\"/>\n       <use x=\"159.033203\" xlink:href=\"#DejaVuSans-50\"/>\n       <use x=\"222.65625\" xlink:href=\"#DejaVuSans-51\"/>\n      </g>\n     </g>\n    </g>\n    <g id=\"text_12\">\n     <!-- epoch_ms -->\n     <defs>\n      <path d=\"M 54.890625 33.015625 \nL 54.890625 0 \nL 45.90625 0 \nL 45.90625 32.71875 \nQ 45.90625 40.484375 42.875 44.328125 \nQ 39.84375 48.1875 33.796875 48.1875 \nQ 26.515625 48.1875 22.3125 43.546875 \nQ 18.109375 38.921875 18.109375 30.90625 \nL 18.109375 0 \nL 9.078125 0 \nL 9.078125 75.984375 \nL 18.109375 75.984375 \nL 18.109375 46.1875 \nQ 21.34375 51.125 25.703125 53.5625 \nQ 30.078125 56 35.796875 56 \nQ 45.21875 56 50.046875 50.171875 \nQ 54.890625 44.34375 54.890625 33.015625 \nz\n\" id=\"DejaVuSans-104\"/>\n      <path d=\"M 52 44.1875 \nQ 55.375 50.25 60.0625 53.125 \nQ 64.75 56 71.09375 56 \nQ 79.640625 56 84.28125 50.015625 \nQ 88.921875 44.046875 88.921875 33.015625 \nL 88.921875 0 \nL 79.890625 0 \nL 79.890625 32.71875 \nQ 79.890625 40.578125 77.09375 44.375 \nQ 74.3125 48.1875 68.609375 48.1875 \nQ 61.625 48.1875 57.5625 43.546875 \nQ 53.515625 38.921875 53.515625 30.90625 \nL 53.515625 0 \nL 44.484375 0 \nL 44.484375 32.71875 \nQ 44.484375 40.625 41.703125 44.40625 \nQ 38.921875 48.1875 33.109375 48.1875 \nQ 26.21875 48.1875 22.15625 43.53125 \nQ 18.109375 38.875 18.109375 30.90625 \nL 18.109375 0 \nL 9.078125 0 \nL 9.078125 54.6875 \nL 18.109375 54.6875 \nL 18.109375 46.1875 \nQ 21.1875 51.21875 25.484375 53.609375 \nQ 29.78125 56 35.6875 56 \nQ 41.65625 56 45.828125 52.96875 \nQ 50 49.953125 52 44.1875 \nz\n\" id=\"DejaVuSans-109\"/>\n     </defs>\n     <g style=\"fill:#262626;\" transform=\"translate(16.318125 157.522031)rotate(-90)scale(0.12 -0.12)\">\n      <use xlink:href=\"#DejaVuSans-101\"/>\n      <use x=\"61.523438\" xlink:href=\"#DejaVuSans-112\"/>\n      <use x=\"125\" xlink:href=\"#DejaVuSans-111\"/>\n      <use x=\"186.181641\" xlink:href=\"#DejaVuSans-99\"/>\n      <use x=\"241.162109\" xlink:href=\"#DejaVuSans-104\"/>\n      <use x=\"304.541016\" xlink:href=\"#DejaVuSans-95\"/>\n      <use x=\"354.541016\" xlink:href=\"#DejaVuSans-109\"/>\n      <use x=\"451.953125\" xlink:href=\"#DejaVuSans-115\"/>\n     </g>\n    </g>\n    <g id=\"text_13\">\n     <!-- 1e12 -->\n     <g style=\"fill:#262626;\" transform=\"translate(64.138438 15.558281)scale(0.11 -0.11)\">\n      <use xlink:href=\"#DejaVuSans-49\"/>\n      <use x=\"63.623047\" xlink:href=\"#DejaVuSans-101\"/>\n      <use x=\"125.146484\" xlink:href=\"#DejaVuSans-49\"/>\n      <use x=\"188.769531\" xlink:href=\"#DejaVuSans-50\"/>\n     </g>\n    </g>\n   </g>\n   <g id=\"PathCollection_1\">\n    <defs>\n     <path d=\"M -0 4.242641 \nL 2.545584 0 \nL 0 -4.242641 \nL -2.545584 -0 \nz\n\" id=\"mbeea6a9a48\" style=\"stroke:#5875a4;\"/>\n    </defs>\n    <g clip-path=\"url(#pc42ee56842)\">\n     <use style=\"fill:#5875a4;stroke:#5875a4;\" x=\"119.938438\" xlink:href=\"#mbeea6a9a48\" y=\"127.387164\"/>\n     <use style=\"fill:#5875a4;stroke:#5875a4;\" x=\"119.938438\" xlink:href=\"#mbeea6a9a48\" y=\"127.387147\"/>\n     <use style=\"fill:#5875a4;stroke:#5875a4;\" x=\"119.938438\" xlink:href=\"#mbeea6a9a48\" y=\"127.387195\"/>\n     <use style=\"fill:#5875a4;stroke:#5875a4;\" x=\"119.938438\" xlink:href=\"#mbeea6a9a48\" y=\"127.387194\"/>\n     <use style=\"fill:#5875a4;stroke:#5875a4;\" x=\"119.938438\" xlink:href=\"#mbeea6a9a48\" y=\"127.38719\"/>\n     <use style=\"fill:#5875a4;stroke:#5875a4;\" x=\"119.938438\" xlink:href=\"#mbeea6a9a48\" y=\"127.169498\"/>\n     <use style=\"fill:#5875a4;stroke:#5875a4;\" x=\"119.938438\" xlink:href=\"#mbeea6a9a48\" y=\"127.169488\"/>\n     <use style=\"fill:#5875a4;stroke:#5875a4;\" x=\"119.938438\" xlink:href=\"#mbeea6a9a48\" y=\"127.169404\"/>\n     <use style=\"fill:#5875a4;stroke:#5875a4;\" x=\"119.938438\" xlink:href=\"#mbeea6a9a48\" y=\"127.169393\"/>\n     <use style=\"fill:#5875a4;stroke:#5875a4;\" x=\"119.938438\" xlink:href=\"#mbeea6a9a48\" y=\"127.169368\"/>\n    </g>\n   </g>\n   <g id=\"PatchCollection_1\">\n    <path clip-path=\"url(#pc42ee56842)\" d=\"M 119.85125 127.387147 \nL 120.025625 127.387147 \nL 120.025625 127.169509 \nL 119.85125 127.169509 \nz\n\" style=\"fill:#ffffff;stroke:#ffffff;\"/>\n    <path clip-path=\"url(#pc42ee56842)\" d=\"M 119.764063 127.387066 \nL 120.112813 127.387066 \nL 120.112813 127.169651 \nL 119.764063 127.169651 \nz\n\" style=\"fill:#edf0f5;stroke:#ffffff;\"/>\n    <path clip-path=\"url(#pc42ee56842)\" d=\"M 119.589688 127.386836 \nL 120.287188 127.386836 \nL 120.287188 127.170097 \nL 119.589688 127.170097 \nz\n\" style=\"fill:#dae1eb;stroke:#ffffff;\"/>\n    <path clip-path=\"url(#pc42ee56842)\" d=\"M 119.240938 127.386514 \nL 120.635938 127.386514 \nL 120.635938 127.171009 \nL 119.240938 127.171009 \nz\n\" style=\"fill:#c8d1e0;stroke:#ffffff;\"/>\n    <path clip-path=\"url(#pc42ee56842)\" d=\"M 118.543438 127.385992 \nL 121.333438 127.385992 \nL 121.333438 127.172387 \nL 118.543438 127.172387 \nz\n\" style=\"fill:#b5c2d6;stroke:#ffffff;\"/>\n    <path clip-path=\"url(#pc42ee56842)\" d=\"M 117.148438 127.384851 \nL 122.728438 127.384851 \nL 122.728438 127.175507 \nL 117.148438 127.175507 \nz\n\" style=\"fill:#a2b2cc;stroke:#ffffff;\"/>\n    <path clip-path=\"url(#pc42ee56842)\" d=\"M 114.358438 127.38293 \nL 125.518438 127.38293 \nL 125.518438 127.180942 \nL 114.358438 127.180942 \nz\n\" style=\"fill:#90a3c2;stroke:#ffffff;\"/>\n    <path clip-path=\"url(#pc42ee56842)\" d=\"M 108.778438 127.379175 \nL 131.098438 127.379175 \nL 131.098438 127.201216 \nL 108.778438 127.201216 \nz\n\" style=\"fill:#7d93b8;stroke:#ffffff;\"/>\n    <path clip-path=\"url(#pc42ee56842)\" d=\"M 97.618437 127.370911 \nL 142.258438 127.370911 \nL 142.258438 127.225683 \nL 97.618437 127.225683 \nz\n\" style=\"fill:#6b84ae;stroke:#ffffff;\"/>\n    <path clip-path=\"url(#pc42ee56842)\" d=\"M 75.298438 127.355498 \nL 164.578438 127.355498 \nL 164.578438 127.265524 \nL 75.298438 127.265524 \nz\n\" style=\"fill:#5875a4;stroke:#ffffff;\"/>\n   </g>\n   <g id=\"PathCollection_2\">\n    <defs>\n     <path d=\"M -0 4.242641 \nL 2.545584 0 \nL 0 -4.242641 \nL -2.545584 -0 \nz\n\" id=\"mab35355ab8\" style=\"stroke:#cc8963;\"/>\n    </defs>\n    <g clip-path=\"url(#pc42ee56842)\">\n     <use style=\"fill:#cc8963;stroke:#cc8963;\" x=\"231.538437\" xlink:href=\"#mab35355ab8\" y=\"127.387112\"/>\n     <use style=\"fill:#cc8963;stroke:#cc8963;\" x=\"231.538437\" xlink:href=\"#mab35355ab8\" y=\"127.170101\"/>\n    </g>\n   </g>\n   <g id=\"PatchCollection_2\">\n    <path clip-path=\"url(#pc42ee56842)\" d=\"M 231.364062 127.387045 \nL 231.712812 127.387045 \nL 231.712812 127.170201 \nL 231.364062 127.170201 \nz\n\" style=\"fill:#ffffff;stroke:#ffffff;\"/>\n    <path clip-path=\"url(#pc42ee56842)\" d=\"M 231.189687 127.386964 \nL 231.887188 127.386964 \nL 231.887188 127.170361 \nL 231.189687 127.170361 \nz\n\" style=\"fill:#f9f0eb;stroke:#ffffff;\"/>\n    <path clip-path=\"url(#pc42ee56842)\" d=\"M 230.840937 127.386809 \nL 232.235938 127.386809 \nL 232.235938 127.170685 \nL 230.840937 127.170685 \nz\n\" style=\"fill:#f2e1d8;stroke:#ffffff;\"/>\n    <path clip-path=\"url(#pc42ee56842)\" d=\"M 230.143438 127.386389 \nL 232.933437 127.386389 \nL 232.933437 127.173004 \nL 230.143438 127.173004 \nz\n\" style=\"fill:#ecd3c4;stroke:#ffffff;\"/>\n    <path clip-path=\"url(#pc42ee56842)\" d=\"M 228.748437 127.38579 \nL 234.328438 127.38579 \nL 234.328438 127.176561 \nL 228.748437 127.176561 \nz\n\" style=\"fill:#e5c4b1;stroke:#ffffff;\"/>\n    <path clip-path=\"url(#pc42ee56842)\" d=\"M 225.958438 127.382254 \nL 237.118437 127.382254 \nL 237.118437 127.184957 \nL 225.958438 127.184957 \nz\n\" style=\"fill:#dfb59d;stroke:#ffffff;\"/>\n    <path clip-path=\"url(#pc42ee56842)\" d=\"M 220.378438 127.378292 \nL 242.698438 127.378292 \nL 242.698438 127.200929 \nL 220.378438 127.200929 \nz\n\" style=\"fill:#d8a68a;stroke:#ffffff;\"/>\n    <path clip-path=\"url(#pc42ee56842)\" d=\"M 209.218437 127.370938 \nL 253.858438 127.370938 \nL 253.858438 127.224158 \nL 209.218437 127.224158 \nz\n\" style=\"fill:#d29776;stroke:#ffffff;\"/>\n    <path clip-path=\"url(#pc42ee56842)\" d=\"M 186.898438 127.356386 \nL 276.178437 127.356386 \nL 276.178437 127.267054 \nL 186.898438 127.267054 \nz\n\" style=\"fill:#cc8963;stroke:#ffffff;\"/>\n   </g>\n   <g id=\"PathCollection_3\">\n    <defs>\n     <path d=\"M -0 4.242641 \nL 2.545584 0 \nL 0 -4.242641 \nL -2.545584 -0 \nz\n\" id=\"m7fd41d3f59\" style=\"stroke:#5f9e6e;\"/>\n    </defs>\n    <g clip-path=\"url(#pc42ee56842)\">\n     <use style=\"fill:#5f9e6e;stroke:#5f9e6e;\" x=\"343.138438\" xlink:href=\"#m7fd41d3f59\" y=\"127.387176\"/>\n     <use style=\"fill:#5f9e6e;stroke:#5f9e6e;\" x=\"343.138438\" xlink:href=\"#m7fd41d3f59\" y=\"127.387002\"/>\n     <use style=\"fill:#5f9e6e;stroke:#5f9e6e;\" x=\"343.138438\" xlink:href=\"#m7fd41d3f59\" y=\"127.386942\"/>\n     <use style=\"fill:#5f9e6e;stroke:#5f9e6e;\" x=\"343.138438\" xlink:href=\"#m7fd41d3f59\" y=\"127.170347\"/>\n     <use style=\"fill:#5f9e6e;stroke:#5f9e6e;\" x=\"343.138438\" xlink:href=\"#m7fd41d3f59\" y=\"127.170116\"/>\n     <use style=\"fill:#5f9e6e;stroke:#5f9e6e;\" x=\"343.138438\" xlink:href=\"#m7fd41d3f59\" y=\"127.16952\"/>\n    </g>\n   </g>\n   <g id=\"PatchCollection_3\">\n    <path clip-path=\"url(#pc42ee56842)\" d=\"M 342.964063 127.386866 \nL 343.312813 127.386866 \nL 343.312813 127.170417 \nL 342.964063 127.170417 \nz\n\" style=\"fill:#ffffff;stroke:#ffffff;\"/>\n    <path clip-path=\"url(#pc42ee56842)\" d=\"M 342.789688 127.386792 \nL 343.487187 127.386792 \nL 343.487187 127.170687 \nL 342.789688 127.170687 \nz\n\" style=\"fill:#ebf3ed;stroke:#ffffff;\"/>\n    <path clip-path=\"url(#pc42ee56842)\" d=\"M 342.440937 127.386655 \nL 343.835938 127.386655 \nL 343.835938 127.173923 \nL 342.440937 127.173923 \nz\n\" style=\"fill:#d7e7db;stroke:#ffffff;\"/>\n    <path clip-path=\"url(#pc42ee56842)\" d=\"M 341.743438 127.386028 \nL 344.533437 127.386028 \nL 344.533437 127.175726 \nL 341.743438 127.175726 \nz\n\" style=\"fill:#c3dac8;stroke:#ffffff;\"/>\n    <path clip-path=\"url(#pc42ee56842)\" d=\"M 340.348437 127.384916 \nL 345.928437 127.384916 \nL 345.928437 127.179765 \nL 340.348437 127.179765 \nz\n\" style=\"fill:#afceb6;stroke:#ffffff;\"/>\n    <path clip-path=\"url(#pc42ee56842)\" d=\"M 337.558437 127.383046 \nL 348.718437 127.383046 \nL 348.718437 127.187542 \nL 337.558437 127.187542 \nz\n\" style=\"fill:#9bc2a4;stroke:#ffffff;\"/>\n    <path clip-path=\"url(#pc42ee56842)\" d=\"M 331.978437 127.378948 \nL 354.298437 127.378948 \nL 354.298437 127.201342 \nL 331.978437 127.201342 \nz\n\" style=\"fill:#87b692;stroke:#ffffff;\"/>\n    <path clip-path=\"url(#pc42ee56842)\" d=\"M 320.818438 127.370438 \nL 365.458438 127.370438 \nL 365.458438 127.233188 \nL 320.818438 127.233188 \nz\n\" style=\"fill:#73a97f;stroke:#ffffff;\"/>\n    <path clip-path=\"url(#pc42ee56842)\" d=\"M 298.498438 127.355383 \nL 387.778438 127.355383 \nL 387.778438 127.279623 \nL 298.498438 127.279623 \nz\n\" style=\"fill:#5f9e6e;stroke:#ffffff;\"/>\n   </g>\n   <g id=\"line2d_8\">\n    <path clip-path=\"url(#pc42ee56842)\" d=\"M 75.298438 127.320661 \nL 164.578438 127.320661 \n\" style=\"fill:none;stroke:#262626;stroke-linecap:round;stroke-opacity:0.45;stroke-width:1.5;\"/>\n   </g>\n   <g id=\"line2d_9\">\n    <path clip-path=\"url(#pc42ee56842)\" d=\"M 186.898438 127.321838 \nL 276.178437 127.321838 \n\" style=\"fill:none;stroke:#262626;stroke-linecap:round;stroke-opacity:0.45;stroke-width:1.5;\"/>\n   </g>\n   <g id=\"line2d_10\">\n    <path clip-path=\"url(#pc42ee56842)\" d=\"M 298.498438 127.3246 \nL 387.778437 127.3246 \n\" style=\"fill:none;stroke:#262626;stroke-linecap:round;stroke-opacity:0.45;stroke-width:1.5;\"/>\n   </g>\n   <g id=\"patch_3\">\n    <path d=\"M 64.138438 235.998281 \nL 64.138438 18.558281 \n\" style=\"fill:none;stroke:#ffffff;stroke-linecap:square;stroke-linejoin:miter;stroke-width:1.25;\"/>\n   </g>\n   <g id=\"patch_4\">\n    <path d=\"M 398.938438 235.998281 \nL 398.938438 18.558281 \n\" style=\"fill:none;stroke:#ffffff;stroke-linecap:square;stroke-linejoin:miter;stroke-width:1.25;\"/>\n   </g>\n   <g id=\"patch_5\">\n    <path d=\"M 64.138438 235.998281 \nL 398.938438 235.998281 \n\" style=\"fill:none;stroke:#ffffff;stroke-linecap:square;stroke-linejoin:miter;stroke-width:1.25;\"/>\n   </g>\n   <g id=\"patch_6\">\n    <path d=\"M 64.138438 18.558281 \nL 398.938438 18.558281 \n\" style=\"fill:none;stroke:#ffffff;stroke-linecap:square;stroke-linejoin:miter;stroke-width:1.25;\"/>\n   </g>\n  </g>\n </g>\n <defs>\n  <clipPath id=\"pc42ee56842\">\n   <rect height=\"217.44\" width=\"334.8\" x=\"64.138438\" y=\"18.558281\"/>\n  </clipPath>\n </defs>\n</svg>\n"
          },
          "metadata": {
            "tags": []
          }
        }
      ]
    },
    {
      "cell_type": "code",
      "metadata": {
        "id": "pUV_tx6lfqSm",
        "colab_type": "code",
        "outputId": "505dd44a-6a7b-4ba7-d392-66a3997b3244",
        "colab": {
          "base_uri": "https://localhost:8080/",
          "height": 411
        }
      },
      "source": [
        "sns.boxenplot(x='visitor_recognition_type',y='epoch_ms', data=df_bol)"
      ],
      "execution_count": 0,
      "outputs": [
        {
          "output_type": "execute_result",
          "data": {
            "text/plain": [
              "<matplotlib.axes._subplots.AxesSubplot at 0x7f3f3af15438>"
            ]
          },
          "metadata": {
            "tags": []
          },
          "execution_count": 60
        },
        {
          "output_type": "display_data",
          "data": {
            "text/plain": [
              "<Figure size 432x288 with 1 Axes>"
            ],
            "image/svg+xml": "<?xml version=\"1.0\" encoding=\"utf-8\" standalone=\"no\"?>\n<!DOCTYPE svg PUBLIC \"-//W3C//DTD SVG 1.1//EN\"\n  \"http://www.w3.org/Graphics/SVG/1.1/DTD/svg11.dtd\">\n<!-- Created with matplotlib (https://matplotlib.org/) -->\n<svg height=\"279.291719pt\" version=\"1.1\" viewBox=\"0 0 412.138438 279.291719\" width=\"412.138438pt\" xmlns=\"http://www.w3.org/2000/svg\" xmlns:xlink=\"http://www.w3.org/1999/xlink\">\n <defs>\n  <style type=\"text/css\">\n*{stroke-linecap:butt;stroke-linejoin:round;}\n  </style>\n </defs>\n <g id=\"figure_1\">\n  <g id=\"patch_1\">\n   <path d=\"M 0 279.291719 \nL 412.138438 279.291719 \nL 412.138438 0 \nL 0 0 \nz\n\" style=\"fill:none;\"/>\n  </g>\n  <g id=\"axes_1\">\n   <g id=\"patch_2\">\n    <path d=\"M 64.138438 235.998281 \nL 398.938438 235.998281 \nL 398.938438 18.558281 \nL 64.138438 18.558281 \nz\n\" style=\"fill:#eaeaf2;\"/>\n   </g>\n   <g id=\"matplotlib.axis_1\">\n    <g id=\"xtick_1\">\n     <g id=\"text_1\">\n      <!-- ANONYMOUS -->\n      <defs>\n       <path d=\"M 34.1875 63.1875 \nL 20.796875 26.90625 \nL 47.609375 26.90625 \nz\nM 28.609375 72.90625 \nL 39.796875 72.90625 \nL 67.578125 0 \nL 57.328125 0 \nL 50.6875 18.703125 \nL 17.828125 18.703125 \nL 11.1875 0 \nL 0.78125 0 \nz\n\" id=\"DejaVuSans-65\"/>\n       <path d=\"M 9.8125 72.90625 \nL 23.09375 72.90625 \nL 55.421875 11.921875 \nL 55.421875 72.90625 \nL 64.984375 72.90625 \nL 64.984375 0 \nL 51.703125 0 \nL 19.390625 60.984375 \nL 19.390625 0 \nL 9.8125 0 \nz\n\" id=\"DejaVuSans-78\"/>\n       <path d=\"M 39.40625 66.21875 \nQ 28.65625 66.21875 22.328125 58.203125 \nQ 16.015625 50.203125 16.015625 36.375 \nQ 16.015625 22.609375 22.328125 14.59375 \nQ 28.65625 6.59375 39.40625 6.59375 \nQ 50.140625 6.59375 56.421875 14.59375 \nQ 62.703125 22.609375 62.703125 36.375 \nQ 62.703125 50.203125 56.421875 58.203125 \nQ 50.140625 66.21875 39.40625 66.21875 \nz\nM 39.40625 74.21875 \nQ 54.734375 74.21875 63.90625 63.9375 \nQ 73.09375 53.65625 73.09375 36.375 \nQ 73.09375 19.140625 63.90625 8.859375 \nQ 54.734375 -1.421875 39.40625 -1.421875 \nQ 24.03125 -1.421875 14.8125 8.828125 \nQ 5.609375 19.09375 5.609375 36.375 \nQ 5.609375 53.65625 14.8125 63.9375 \nQ 24.03125 74.21875 39.40625 74.21875 \nz\n\" id=\"DejaVuSans-79\"/>\n       <path d=\"M -0.203125 72.90625 \nL 10.40625 72.90625 \nL 30.609375 42.921875 \nL 50.6875 72.90625 \nL 61.28125 72.90625 \nL 35.5 34.71875 \nL 35.5 0 \nL 25.59375 0 \nL 25.59375 34.71875 \nz\n\" id=\"DejaVuSans-89\"/>\n       <path d=\"M 9.8125 72.90625 \nL 24.515625 72.90625 \nL 43.109375 23.296875 \nL 61.8125 72.90625 \nL 76.515625 72.90625 \nL 76.515625 0 \nL 66.890625 0 \nL 66.890625 64.015625 \nL 48.09375 14.015625 \nL 38.1875 14.015625 \nL 19.390625 64.015625 \nL 19.390625 0 \nL 9.8125 0 \nz\n\" id=\"DejaVuSans-77\"/>\n       <path d=\"M 8.6875 72.90625 \nL 18.609375 72.90625 \nL 18.609375 28.609375 \nQ 18.609375 16.890625 22.84375 11.734375 \nQ 27.09375 6.59375 36.625 6.59375 \nQ 46.09375 6.59375 50.34375 11.734375 \nQ 54.59375 16.890625 54.59375 28.609375 \nL 54.59375 72.90625 \nL 64.5 72.90625 \nL 64.5 27.390625 \nQ 64.5 13.140625 57.4375 5.859375 \nQ 50.390625 -1.421875 36.625 -1.421875 \nQ 22.796875 -1.421875 15.734375 5.859375 \nQ 8.6875 13.140625 8.6875 27.390625 \nz\n\" id=\"DejaVuSans-85\"/>\n       <path d=\"M 53.515625 70.515625 \nL 53.515625 60.890625 \nQ 47.90625 63.578125 42.921875 64.890625 \nQ 37.9375 66.21875 33.296875 66.21875 \nQ 25.25 66.21875 20.875 63.09375 \nQ 16.5 59.96875 16.5 54.203125 \nQ 16.5 49.359375 19.40625 46.890625 \nQ 22.3125 44.4375 30.421875 42.921875 \nL 36.375 41.703125 \nQ 47.40625 39.59375 52.65625 34.296875 \nQ 57.90625 29 57.90625 20.125 \nQ 57.90625 9.515625 50.796875 4.046875 \nQ 43.703125 -1.421875 29.984375 -1.421875 \nQ 24.8125 -1.421875 18.96875 -0.25 \nQ 13.140625 0.921875 6.890625 3.21875 \nL 6.890625 13.375 \nQ 12.890625 10.015625 18.65625 8.296875 \nQ 24.421875 6.59375 29.984375 6.59375 \nQ 38.421875 6.59375 43.015625 9.90625 \nQ 47.609375 13.234375 47.609375 19.390625 \nQ 47.609375 24.75 44.3125 27.78125 \nQ 41.015625 30.8125 33.5 32.328125 \nL 27.484375 33.5 \nQ 16.453125 35.6875 11.515625 40.375 \nQ 6.59375 45.0625 6.59375 53.421875 \nQ 6.59375 63.09375 13.40625 68.65625 \nQ 20.21875 74.21875 32.171875 74.21875 \nQ 37.3125 74.21875 42.625 73.28125 \nQ 47.953125 72.359375 53.515625 70.515625 \nz\n\" id=\"DejaVuSans-83\"/>\n      </defs>\n      <g style=\"fill:#262626;\" transform=\"translate(83.665938 253.856562)scale(0.11 -0.11)\">\n       <use xlink:href=\"#DejaVuSans-65\"/>\n       <use x=\"68.408203\" xlink:href=\"#DejaVuSans-78\"/>\n       <use x=\"143.212891\" xlink:href=\"#DejaVuSans-79\"/>\n       <use x=\"221.923828\" xlink:href=\"#DejaVuSans-78\"/>\n       <use x=\"296.728516\" xlink:href=\"#DejaVuSans-89\"/>\n       <use x=\"357.8125\" xlink:href=\"#DejaVuSans-77\"/>\n       <use x=\"444.091797\" xlink:href=\"#DejaVuSans-79\"/>\n       <use x=\"522.802734\" xlink:href=\"#DejaVuSans-85\"/>\n       <use x=\"595.996094\" xlink:href=\"#DejaVuSans-83\"/>\n      </g>\n     </g>\n    </g>\n    <g id=\"xtick_2\">\n     <g id=\"text_2\">\n      <!-- LOGGEDIN -->\n      <defs>\n       <path d=\"M 9.8125 72.90625 \nL 19.671875 72.90625 \nL 19.671875 8.296875 \nL 55.171875 8.296875 \nL 55.171875 0 \nL 9.8125 0 \nz\n\" id=\"DejaVuSans-76\"/>\n       <path d=\"M 59.515625 10.40625 \nL 59.515625 29.984375 \nL 43.40625 29.984375 \nL 43.40625 38.09375 \nL 69.28125 38.09375 \nL 69.28125 6.78125 \nQ 63.578125 2.734375 56.6875 0.65625 \nQ 49.8125 -1.421875 42 -1.421875 \nQ 24.90625 -1.421875 15.25 8.5625 \nQ 5.609375 18.5625 5.609375 36.375 \nQ 5.609375 54.25 15.25 64.234375 \nQ 24.90625 74.21875 42 74.21875 \nQ 49.125 74.21875 55.546875 72.453125 \nQ 61.96875 70.703125 67.390625 67.28125 \nL 67.390625 56.78125 \nQ 61.921875 61.421875 55.765625 63.765625 \nQ 49.609375 66.109375 42.828125 66.109375 \nQ 29.4375 66.109375 22.71875 58.640625 \nQ 16.015625 51.171875 16.015625 36.375 \nQ 16.015625 21.625 22.71875 14.15625 \nQ 29.4375 6.6875 42.828125 6.6875 \nQ 48.046875 6.6875 52.140625 7.59375 \nQ 56.25 8.5 59.515625 10.40625 \nz\n\" id=\"DejaVuSans-71\"/>\n       <path d=\"M 9.8125 72.90625 \nL 55.90625 72.90625 \nL 55.90625 64.59375 \nL 19.671875 64.59375 \nL 19.671875 43.015625 \nL 54.390625 43.015625 \nL 54.390625 34.71875 \nL 19.671875 34.71875 \nL 19.671875 8.296875 \nL 56.78125 8.296875 \nL 56.78125 0 \nL 9.8125 0 \nz\n\" id=\"DejaVuSans-69\"/>\n       <path d=\"M 19.671875 64.796875 \nL 19.671875 8.109375 \nL 31.59375 8.109375 \nQ 46.6875 8.109375 53.6875 14.9375 \nQ 60.6875 21.78125 60.6875 36.53125 \nQ 60.6875 51.171875 53.6875 57.984375 \nQ 46.6875 64.796875 31.59375 64.796875 \nz\nM 9.8125 72.90625 \nL 30.078125 72.90625 \nQ 51.265625 72.90625 61.171875 64.09375 \nQ 71.09375 55.28125 71.09375 36.53125 \nQ 71.09375 17.671875 61.125 8.828125 \nQ 51.171875 0 30.078125 0 \nL 9.8125 0 \nz\n\" id=\"DejaVuSans-68\"/>\n       <path d=\"M 9.8125 72.90625 \nL 19.671875 72.90625 \nL 19.671875 0 \nL 9.8125 0 \nz\n\" id=\"DejaVuSans-73\"/>\n      </defs>\n      <g style=\"fill:#262626;\" transform=\"translate(202.176172 253.856562)scale(0.11 -0.11)\">\n       <use xlink:href=\"#DejaVuSans-76\"/>\n       <use x=\"55.666016\" xlink:href=\"#DejaVuSans-79\"/>\n       <use x=\"134.376953\" xlink:href=\"#DejaVuSans-71\"/>\n       <use x=\"211.867188\" xlink:href=\"#DejaVuSans-71\"/>\n       <use x=\"289.357422\" xlink:href=\"#DejaVuSans-69\"/>\n       <use x=\"352.541016\" xlink:href=\"#DejaVuSans-68\"/>\n       <use x=\"429.542969\" xlink:href=\"#DejaVuSans-73\"/>\n       <use x=\"459.035156\" xlink:href=\"#DejaVuSans-78\"/>\n      </g>\n     </g>\n    </g>\n    <g id=\"xtick_3\">\n     <g id=\"text_3\">\n      <!-- RECOGNIZED -->\n      <defs>\n       <path d=\"M 44.390625 34.1875 \nQ 47.5625 33.109375 50.5625 29.59375 \nQ 53.5625 26.078125 56.59375 19.921875 \nL 66.609375 0 \nL 56 0 \nL 46.6875 18.703125 \nQ 43.0625 26.03125 39.671875 28.421875 \nQ 36.28125 30.8125 30.421875 30.8125 \nL 19.671875 30.8125 \nL 19.671875 0 \nL 9.8125 0 \nL 9.8125 72.90625 \nL 32.078125 72.90625 \nQ 44.578125 72.90625 50.734375 67.671875 \nQ 56.890625 62.453125 56.890625 51.90625 \nQ 56.890625 45.015625 53.6875 40.46875 \nQ 50.484375 35.9375 44.390625 34.1875 \nz\nM 19.671875 64.796875 \nL 19.671875 38.921875 \nL 32.078125 38.921875 \nQ 39.203125 38.921875 42.84375 42.21875 \nQ 46.484375 45.515625 46.484375 51.90625 \nQ 46.484375 58.296875 42.84375 61.546875 \nQ 39.203125 64.796875 32.078125 64.796875 \nz\n\" id=\"DejaVuSans-82\"/>\n       <path d=\"M 64.40625 67.28125 \nL 64.40625 56.890625 \nQ 59.421875 61.53125 53.78125 63.8125 \nQ 48.140625 66.109375 41.796875 66.109375 \nQ 29.296875 66.109375 22.65625 58.46875 \nQ 16.015625 50.828125 16.015625 36.375 \nQ 16.015625 21.96875 22.65625 14.328125 \nQ 29.296875 6.6875 41.796875 6.6875 \nQ 48.140625 6.6875 53.78125 8.984375 \nQ 59.421875 11.28125 64.40625 15.921875 \nL 64.40625 5.609375 \nQ 59.234375 2.09375 53.4375 0.328125 \nQ 47.65625 -1.421875 41.21875 -1.421875 \nQ 24.65625 -1.421875 15.125 8.703125 \nQ 5.609375 18.84375 5.609375 36.375 \nQ 5.609375 53.953125 15.125 64.078125 \nQ 24.65625 74.21875 41.21875 74.21875 \nQ 47.75 74.21875 53.53125 72.484375 \nQ 59.328125 70.75 64.40625 67.28125 \nz\n\" id=\"DejaVuSans-67\"/>\n       <path d=\"M 5.609375 72.90625 \nL 62.890625 72.90625 \nL 62.890625 65.375 \nL 16.796875 8.296875 \nL 64.015625 8.296875 \nL 64.015625 0 \nL 4.5 0 \nL 4.5 7.515625 \nL 50.59375 64.59375 \nL 5.609375 64.59375 \nz\n\" id=\"DejaVuSans-90\"/>\n      </defs>\n      <g style=\"fill:#262626;\" transform=\"translate(306.194766 253.856562)scale(0.11 -0.11)\">\n       <use xlink:href=\"#DejaVuSans-82\"/>\n       <use x=\"69.482422\" xlink:href=\"#DejaVuSans-69\"/>\n       <use x=\"132.666016\" xlink:href=\"#DejaVuSans-67\"/>\n       <use x=\"202.490234\" xlink:href=\"#DejaVuSans-79\"/>\n       <use x=\"281.201172\" xlink:href=\"#DejaVuSans-71\"/>\n       <use x=\"358.691406\" xlink:href=\"#DejaVuSans-78\"/>\n       <use x=\"433.496094\" xlink:href=\"#DejaVuSans-73\"/>\n       <use x=\"462.988281\" xlink:href=\"#DejaVuSans-90\"/>\n       <use x=\"531.494141\" xlink:href=\"#DejaVuSans-69\"/>\n       <use x=\"594.677734\" xlink:href=\"#DejaVuSans-68\"/>\n      </g>\n     </g>\n    </g>\n    <g id=\"text_4\">\n     <!-- visitor_recognition_type -->\n     <defs>\n      <path d=\"M 2.984375 54.6875 \nL 12.5 54.6875 \nL 29.59375 8.796875 \nL 46.6875 54.6875 \nL 56.203125 54.6875 \nL 35.6875 0 \nL 23.484375 0 \nz\n\" id=\"DejaVuSans-118\"/>\n      <path d=\"M 9.421875 54.6875 \nL 18.40625 54.6875 \nL 18.40625 0 \nL 9.421875 0 \nz\nM 9.421875 75.984375 \nL 18.40625 75.984375 \nL 18.40625 64.59375 \nL 9.421875 64.59375 \nz\n\" id=\"DejaVuSans-105\"/>\n      <path d=\"M 44.28125 53.078125 \nL 44.28125 44.578125 \nQ 40.484375 46.53125 36.375 47.5 \nQ 32.28125 48.484375 27.875 48.484375 \nQ 21.1875 48.484375 17.84375 46.4375 \nQ 14.5 44.390625 14.5 40.28125 \nQ 14.5 37.15625 16.890625 35.375 \nQ 19.28125 33.59375 26.515625 31.984375 \nL 29.59375 31.296875 \nQ 39.15625 29.25 43.1875 25.515625 \nQ 47.21875 21.78125 47.21875 15.09375 \nQ 47.21875 7.46875 41.1875 3.015625 \nQ 35.15625 -1.421875 24.609375 -1.421875 \nQ 20.21875 -1.421875 15.453125 -0.5625 \nQ 10.6875 0.296875 5.421875 2 \nL 5.421875 11.28125 \nQ 10.40625 8.6875 15.234375 7.390625 \nQ 20.0625 6.109375 24.8125 6.109375 \nQ 31.15625 6.109375 34.5625 8.28125 \nQ 37.984375 10.453125 37.984375 14.40625 \nQ 37.984375 18.0625 35.515625 20.015625 \nQ 33.0625 21.96875 24.703125 23.78125 \nL 21.578125 24.515625 \nQ 13.234375 26.265625 9.515625 29.90625 \nQ 5.8125 33.546875 5.8125 39.890625 \nQ 5.8125 47.609375 11.28125 51.796875 \nQ 16.75 56 26.8125 56 \nQ 31.78125 56 36.171875 55.265625 \nQ 40.578125 54.546875 44.28125 53.078125 \nz\n\" id=\"DejaVuSans-115\"/>\n      <path d=\"M 18.3125 70.21875 \nL 18.3125 54.6875 \nL 36.8125 54.6875 \nL 36.8125 47.703125 \nL 18.3125 47.703125 \nL 18.3125 18.015625 \nQ 18.3125 11.328125 20.140625 9.421875 \nQ 21.96875 7.515625 27.59375 7.515625 \nL 36.8125 7.515625 \nL 36.8125 0 \nL 27.59375 0 \nQ 17.1875 0 13.234375 3.875 \nQ 9.28125 7.765625 9.28125 18.015625 \nL 9.28125 47.703125 \nL 2.6875 47.703125 \nL 2.6875 54.6875 \nL 9.28125 54.6875 \nL 9.28125 70.21875 \nz\n\" id=\"DejaVuSans-116\"/>\n      <path d=\"M 30.609375 48.390625 \nQ 23.390625 48.390625 19.1875 42.75 \nQ 14.984375 37.109375 14.984375 27.296875 \nQ 14.984375 17.484375 19.15625 11.84375 \nQ 23.34375 6.203125 30.609375 6.203125 \nQ 37.796875 6.203125 41.984375 11.859375 \nQ 46.1875 17.53125 46.1875 27.296875 \nQ 46.1875 37.015625 41.984375 42.703125 \nQ 37.796875 48.390625 30.609375 48.390625 \nz\nM 30.609375 56 \nQ 42.328125 56 49.015625 48.375 \nQ 55.71875 40.765625 55.71875 27.296875 \nQ 55.71875 13.875 49.015625 6.21875 \nQ 42.328125 -1.421875 30.609375 -1.421875 \nQ 18.84375 -1.421875 12.171875 6.21875 \nQ 5.515625 13.875 5.515625 27.296875 \nQ 5.515625 40.765625 12.171875 48.375 \nQ 18.84375 56 30.609375 56 \nz\n\" id=\"DejaVuSans-111\"/>\n      <path d=\"M 41.109375 46.296875 \nQ 39.59375 47.171875 37.8125 47.578125 \nQ 36.03125 48 33.890625 48 \nQ 26.265625 48 22.1875 43.046875 \nQ 18.109375 38.09375 18.109375 28.8125 \nL 18.109375 0 \nL 9.078125 0 \nL 9.078125 54.6875 \nL 18.109375 54.6875 \nL 18.109375 46.1875 \nQ 20.953125 51.171875 25.484375 53.578125 \nQ 30.03125 56 36.53125 56 \nQ 37.453125 56 38.578125 55.875 \nQ 39.703125 55.765625 41.0625 55.515625 \nz\n\" id=\"DejaVuSans-114\"/>\n      <path d=\"M 50.984375 -16.609375 \nL 50.984375 -23.578125 \nL -0.984375 -23.578125 \nL -0.984375 -16.609375 \nz\n\" id=\"DejaVuSans-95\"/>\n      <path d=\"M 56.203125 29.59375 \nL 56.203125 25.203125 \nL 14.890625 25.203125 \nQ 15.484375 15.921875 20.484375 11.0625 \nQ 25.484375 6.203125 34.421875 6.203125 \nQ 39.59375 6.203125 44.453125 7.46875 \nQ 49.3125 8.734375 54.109375 11.28125 \nL 54.109375 2.78125 \nQ 49.265625 0.734375 44.1875 -0.34375 \nQ 39.109375 -1.421875 33.890625 -1.421875 \nQ 20.796875 -1.421875 13.15625 6.1875 \nQ 5.515625 13.8125 5.515625 26.8125 \nQ 5.515625 40.234375 12.765625 48.109375 \nQ 20.015625 56 32.328125 56 \nQ 43.359375 56 49.78125 48.890625 \nQ 56.203125 41.796875 56.203125 29.59375 \nz\nM 47.21875 32.234375 \nQ 47.125 39.59375 43.09375 43.984375 \nQ 39.0625 48.390625 32.421875 48.390625 \nQ 24.90625 48.390625 20.390625 44.140625 \nQ 15.875 39.890625 15.1875 32.171875 \nz\n\" id=\"DejaVuSans-101\"/>\n      <path d=\"M 48.78125 52.59375 \nL 48.78125 44.1875 \nQ 44.96875 46.296875 41.140625 47.34375 \nQ 37.3125 48.390625 33.40625 48.390625 \nQ 24.65625 48.390625 19.8125 42.84375 \nQ 14.984375 37.3125 14.984375 27.296875 \nQ 14.984375 17.28125 19.8125 11.734375 \nQ 24.65625 6.203125 33.40625 6.203125 \nQ 37.3125 6.203125 41.140625 7.25 \nQ 44.96875 8.296875 48.78125 10.40625 \nL 48.78125 2.09375 \nQ 45.015625 0.34375 40.984375 -0.53125 \nQ 36.96875 -1.421875 32.421875 -1.421875 \nQ 20.0625 -1.421875 12.78125 6.34375 \nQ 5.515625 14.109375 5.515625 27.296875 \nQ 5.515625 40.671875 12.859375 48.328125 \nQ 20.21875 56 33.015625 56 \nQ 37.15625 56 41.109375 55.140625 \nQ 45.0625 54.296875 48.78125 52.59375 \nz\n\" id=\"DejaVuSans-99\"/>\n      <path d=\"M 45.40625 27.984375 \nQ 45.40625 37.75 41.375 43.109375 \nQ 37.359375 48.484375 30.078125 48.484375 \nQ 22.859375 48.484375 18.828125 43.109375 \nQ 14.796875 37.75 14.796875 27.984375 \nQ 14.796875 18.265625 18.828125 12.890625 \nQ 22.859375 7.515625 30.078125 7.515625 \nQ 37.359375 7.515625 41.375 12.890625 \nQ 45.40625 18.265625 45.40625 27.984375 \nz\nM 54.390625 6.78125 \nQ 54.390625 -7.171875 48.1875 -13.984375 \nQ 42 -20.796875 29.203125 -20.796875 \nQ 24.46875 -20.796875 20.265625 -20.09375 \nQ 16.0625 -19.390625 12.109375 -17.921875 \nL 12.109375 -9.1875 \nQ 16.0625 -11.328125 19.921875 -12.34375 \nQ 23.78125 -13.375 27.78125 -13.375 \nQ 36.625 -13.375 41.015625 -8.765625 \nQ 45.40625 -4.15625 45.40625 5.171875 \nL 45.40625 9.625 \nQ 42.625 4.78125 38.28125 2.390625 \nQ 33.9375 0 27.875 0 \nQ 17.828125 0 11.671875 7.65625 \nQ 5.515625 15.328125 5.515625 27.984375 \nQ 5.515625 40.671875 11.671875 48.328125 \nQ 17.828125 56 27.875 56 \nQ 33.9375 56 38.28125 53.609375 \nQ 42.625 51.21875 45.40625 46.390625 \nL 45.40625 54.6875 \nL 54.390625 54.6875 \nz\n\" id=\"DejaVuSans-103\"/>\n      <path d=\"M 54.890625 33.015625 \nL 54.890625 0 \nL 45.90625 0 \nL 45.90625 32.71875 \nQ 45.90625 40.484375 42.875 44.328125 \nQ 39.84375 48.1875 33.796875 48.1875 \nQ 26.515625 48.1875 22.3125 43.546875 \nQ 18.109375 38.921875 18.109375 30.90625 \nL 18.109375 0 \nL 9.078125 0 \nL 9.078125 54.6875 \nL 18.109375 54.6875 \nL 18.109375 46.1875 \nQ 21.34375 51.125 25.703125 53.5625 \nQ 30.078125 56 35.796875 56 \nQ 45.21875 56 50.046875 50.171875 \nQ 54.890625 44.34375 54.890625 33.015625 \nz\n\" id=\"DejaVuSans-110\"/>\n      <path d=\"M 32.171875 -5.078125 \nQ 28.375 -14.84375 24.75 -17.8125 \nQ 21.140625 -20.796875 15.09375 -20.796875 \nL 7.90625 -20.796875 \nL 7.90625 -13.28125 \nL 13.1875 -13.28125 \nQ 16.890625 -13.28125 18.9375 -11.515625 \nQ 21 -9.765625 23.484375 -3.21875 \nL 25.09375 0.875 \nL 2.984375 54.6875 \nL 12.5 54.6875 \nL 29.59375 11.921875 \nL 46.6875 54.6875 \nL 56.203125 54.6875 \nz\n\" id=\"DejaVuSans-121\"/>\n      <path d=\"M 18.109375 8.203125 \nL 18.109375 -20.796875 \nL 9.078125 -20.796875 \nL 9.078125 54.6875 \nL 18.109375 54.6875 \nL 18.109375 46.390625 \nQ 20.953125 51.265625 25.265625 53.625 \nQ 29.59375 56 35.59375 56 \nQ 45.5625 56 51.78125 48.09375 \nQ 58.015625 40.1875 58.015625 27.296875 \nQ 58.015625 14.40625 51.78125 6.484375 \nQ 45.5625 -1.421875 35.59375 -1.421875 \nQ 29.59375 -1.421875 25.265625 0.953125 \nQ 20.953125 3.328125 18.109375 8.203125 \nz\nM 48.6875 27.296875 \nQ 48.6875 37.203125 44.609375 42.84375 \nQ 40.53125 48.484375 33.40625 48.484375 \nQ 26.265625 48.484375 22.1875 42.84375 \nQ 18.109375 37.203125 18.109375 27.296875 \nQ 18.109375 17.390625 22.1875 11.75 \nQ 26.265625 6.109375 33.40625 6.109375 \nQ 40.53125 6.109375 44.609375 11.75 \nQ 48.6875 17.390625 48.6875 27.296875 \nz\n\" id=\"DejaVuSans-112\"/>\n     </defs>\n     <g style=\"fill:#262626;\" transform=\"translate(159.735313 269.262344)scale(0.12 -0.12)\">\n      <use xlink:href=\"#DejaVuSans-118\"/>\n      <use x=\"59.179688\" xlink:href=\"#DejaVuSans-105\"/>\n      <use x=\"86.962891\" xlink:href=\"#DejaVuSans-115\"/>\n      <use x=\"139.0625\" xlink:href=\"#DejaVuSans-105\"/>\n      <use x=\"166.845703\" xlink:href=\"#DejaVuSans-116\"/>\n      <use x=\"206.054688\" xlink:href=\"#DejaVuSans-111\"/>\n      <use x=\"267.236328\" xlink:href=\"#DejaVuSans-114\"/>\n      <use x=\"308.349609\" xlink:href=\"#DejaVuSans-95\"/>\n      <use x=\"358.349609\" xlink:href=\"#DejaVuSans-114\"/>\n      <use x=\"399.431641\" xlink:href=\"#DejaVuSans-101\"/>\n      <use x=\"460.955078\" xlink:href=\"#DejaVuSans-99\"/>\n      <use x=\"515.935547\" xlink:href=\"#DejaVuSans-111\"/>\n      <use x=\"577.117188\" xlink:href=\"#DejaVuSans-103\"/>\n      <use x=\"640.59375\" xlink:href=\"#DejaVuSans-110\"/>\n      <use x=\"703.972656\" xlink:href=\"#DejaVuSans-105\"/>\n      <use x=\"731.755859\" xlink:href=\"#DejaVuSans-116\"/>\n      <use x=\"770.964844\" xlink:href=\"#DejaVuSans-105\"/>\n      <use x=\"798.748047\" xlink:href=\"#DejaVuSans-111\"/>\n      <use x=\"859.929688\" xlink:href=\"#DejaVuSans-110\"/>\n      <use x=\"923.308594\" xlink:href=\"#DejaVuSans-95\"/>\n      <use x=\"973.308594\" xlink:href=\"#DejaVuSans-116\"/>\n      <use x=\"1012.517578\" xlink:href=\"#DejaVuSans-121\"/>\n      <use x=\"1071.697266\" xlink:href=\"#DejaVuSans-112\"/>\n      <use x=\"1135.173828\" xlink:href=\"#DejaVuSans-101\"/>\n     </g>\n    </g>\n   </g>\n   <g id=\"matplotlib.axis_2\">\n    <g id=\"ytick_1\">\n     <g id=\"line2d_1\">\n      <path clip-path=\"url(#p2d13beab06)\" d=\"M 64.138438 226.629807 \nL 398.938438 226.629807 \n\" style=\"fill:none;stroke:#ffffff;stroke-linecap:round;\"/>\n     </g>\n     <g id=\"text_5\">\n      <!-- 1.517 -->\n      <defs>\n       <path d=\"M 12.40625 8.296875 \nL 28.515625 8.296875 \nL 28.515625 63.921875 \nL 10.984375 60.40625 \nL 10.984375 69.390625 \nL 28.421875 72.90625 \nL 38.28125 72.90625 \nL 38.28125 8.296875 \nL 54.390625 8.296875 \nL 54.390625 0 \nL 12.40625 0 \nz\n\" id=\"DejaVuSans-49\"/>\n       <path d=\"M 10.6875 12.40625 \nL 21 12.40625 \nL 21 0 \nL 10.6875 0 \nz\n\" id=\"DejaVuSans-46\"/>\n       <path d=\"M 10.796875 72.90625 \nL 49.515625 72.90625 \nL 49.515625 64.59375 \nL 19.828125 64.59375 \nL 19.828125 46.734375 \nQ 21.96875 47.46875 24.109375 47.828125 \nQ 26.265625 48.1875 28.421875 48.1875 \nQ 40.625 48.1875 47.75 41.5 \nQ 54.890625 34.8125 54.890625 23.390625 \nQ 54.890625 11.625 47.5625 5.09375 \nQ 40.234375 -1.421875 26.90625 -1.421875 \nQ 22.3125 -1.421875 17.546875 -0.640625 \nQ 12.796875 0.140625 7.71875 1.703125 \nL 7.71875 11.625 \nQ 12.109375 9.234375 16.796875 8.0625 \nQ 21.484375 6.890625 26.703125 6.890625 \nQ 35.15625 6.890625 40.078125 11.328125 \nQ 45.015625 15.765625 45.015625 23.390625 \nQ 45.015625 31 40.078125 35.4375 \nQ 35.15625 39.890625 26.703125 39.890625 \nQ 22.75 39.890625 18.8125 39.015625 \nQ 14.890625 38.140625 10.796875 36.28125 \nz\n\" id=\"DejaVuSans-53\"/>\n       <path d=\"M 8.203125 72.90625 \nL 55.078125 72.90625 \nL 55.078125 68.703125 \nL 28.609375 0 \nL 18.3125 0 \nL 43.21875 64.59375 \nL 8.203125 64.59375 \nz\n\" id=\"DejaVuSans-55\"/>\n      </defs>\n      <g style=\"fill:#262626;\" transform=\"translate(23.1475 230.808948)scale(0.11 -0.11)\">\n       <use xlink:href=\"#DejaVuSans-49\"/>\n       <use x=\"63.623047\" xlink:href=\"#DejaVuSans-46\"/>\n       <use x=\"95.410156\" xlink:href=\"#DejaVuSans-53\"/>\n       <use x=\"159.033203\" xlink:href=\"#DejaVuSans-49\"/>\n       <use x=\"222.65625\" xlink:href=\"#DejaVuSans-55\"/>\n      </g>\n     </g>\n    </g>\n    <g id=\"ytick_2\">\n     <g id=\"line2d_2\">\n      <path clip-path=\"url(#p2d13beab06)\" d=\"M 64.138438 196.372914 \nL 398.938438 196.372914 \n\" style=\"fill:none;stroke:#ffffff;stroke-linecap:round;\"/>\n     </g>\n     <g id=\"text_6\">\n      <!-- 1.518 -->\n      <defs>\n       <path d=\"M 31.78125 34.625 \nQ 24.75 34.625 20.71875 30.859375 \nQ 16.703125 27.09375 16.703125 20.515625 \nQ 16.703125 13.921875 20.71875 10.15625 \nQ 24.75 6.390625 31.78125 6.390625 \nQ 38.8125 6.390625 42.859375 10.171875 \nQ 46.921875 13.96875 46.921875 20.515625 \nQ 46.921875 27.09375 42.890625 30.859375 \nQ 38.875 34.625 31.78125 34.625 \nz\nM 21.921875 38.8125 \nQ 15.578125 40.375 12.03125 44.71875 \nQ 8.5 49.078125 8.5 55.328125 \nQ 8.5 64.0625 14.71875 69.140625 \nQ 20.953125 74.21875 31.78125 74.21875 \nQ 42.671875 74.21875 48.875 69.140625 \nQ 55.078125 64.0625 55.078125 55.328125 \nQ 55.078125 49.078125 51.53125 44.71875 \nQ 48 40.375 41.703125 38.8125 \nQ 48.828125 37.15625 52.796875 32.3125 \nQ 56.78125 27.484375 56.78125 20.515625 \nQ 56.78125 9.90625 50.3125 4.234375 \nQ 43.84375 -1.421875 31.78125 -1.421875 \nQ 19.734375 -1.421875 13.25 4.234375 \nQ 6.78125 9.90625 6.78125 20.515625 \nQ 6.78125 27.484375 10.78125 32.3125 \nQ 14.796875 37.15625 21.921875 38.8125 \nz\nM 18.3125 54.390625 \nQ 18.3125 48.734375 21.84375 45.5625 \nQ 25.390625 42.390625 31.78125 42.390625 \nQ 38.140625 42.390625 41.71875 45.5625 \nQ 45.3125 48.734375 45.3125 54.390625 \nQ 45.3125 60.0625 41.71875 63.234375 \nQ 38.140625 66.40625 31.78125 66.40625 \nQ 25.390625 66.40625 21.84375 63.234375 \nQ 18.3125 60.0625 18.3125 54.390625 \nz\n\" id=\"DejaVuSans-56\"/>\n      </defs>\n      <g style=\"fill:#262626;\" transform=\"translate(23.1475 200.552055)scale(0.11 -0.11)\">\n       <use xlink:href=\"#DejaVuSans-49\"/>\n       <use x=\"63.623047\" xlink:href=\"#DejaVuSans-46\"/>\n       <use x=\"95.410156\" xlink:href=\"#DejaVuSans-53\"/>\n       <use x=\"159.033203\" xlink:href=\"#DejaVuSans-49\"/>\n       <use x=\"222.65625\" xlink:href=\"#DejaVuSans-56\"/>\n      </g>\n     </g>\n    </g>\n    <g id=\"ytick_3\">\n     <g id=\"line2d_3\">\n      <path clip-path=\"url(#p2d13beab06)\" d=\"M 64.138438 166.116021 \nL 398.938438 166.116021 \n\" style=\"fill:none;stroke:#ffffff;stroke-linecap:round;\"/>\n     </g>\n     <g id=\"text_7\">\n      <!-- 1.519 -->\n      <defs>\n       <path d=\"M 10.984375 1.515625 \nL 10.984375 10.5 \nQ 14.703125 8.734375 18.5 7.8125 \nQ 22.3125 6.890625 25.984375 6.890625 \nQ 35.75 6.890625 40.890625 13.453125 \nQ 46.046875 20.015625 46.78125 33.40625 \nQ 43.953125 29.203125 39.59375 26.953125 \nQ 35.25 24.703125 29.984375 24.703125 \nQ 19.046875 24.703125 12.671875 31.3125 \nQ 6.296875 37.9375 6.296875 49.421875 \nQ 6.296875 60.640625 12.9375 67.421875 \nQ 19.578125 74.21875 30.609375 74.21875 \nQ 43.265625 74.21875 49.921875 64.515625 \nQ 56.59375 54.828125 56.59375 36.375 \nQ 56.59375 19.140625 48.40625 8.859375 \nQ 40.234375 -1.421875 26.421875 -1.421875 \nQ 22.703125 -1.421875 18.890625 -0.6875 \nQ 15.09375 0.046875 10.984375 1.515625 \nz\nM 30.609375 32.421875 \nQ 37.25 32.421875 41.125 36.953125 \nQ 45.015625 41.5 45.015625 49.421875 \nQ 45.015625 57.28125 41.125 61.84375 \nQ 37.25 66.40625 30.609375 66.40625 \nQ 23.96875 66.40625 20.09375 61.84375 \nQ 16.21875 57.28125 16.21875 49.421875 \nQ 16.21875 41.5 20.09375 36.953125 \nQ 23.96875 32.421875 30.609375 32.421875 \nz\n\" id=\"DejaVuSans-57\"/>\n      </defs>\n      <g style=\"fill:#262626;\" transform=\"translate(23.1475 170.295162)scale(0.11 -0.11)\">\n       <use xlink:href=\"#DejaVuSans-49\"/>\n       <use x=\"63.623047\" xlink:href=\"#DejaVuSans-46\"/>\n       <use x=\"95.410156\" xlink:href=\"#DejaVuSans-53\"/>\n       <use x=\"159.033203\" xlink:href=\"#DejaVuSans-49\"/>\n       <use x=\"222.65625\" xlink:href=\"#DejaVuSans-57\"/>\n      </g>\n     </g>\n    </g>\n    <g id=\"ytick_4\">\n     <g id=\"line2d_4\">\n      <path clip-path=\"url(#p2d13beab06)\" d=\"M 64.138438 135.859128 \nL 398.938438 135.859128 \n\" style=\"fill:none;stroke:#ffffff;stroke-linecap:round;\"/>\n     </g>\n     <g id=\"text_8\">\n      <!-- 1.520 -->\n      <defs>\n       <path d=\"M 19.1875 8.296875 \nL 53.609375 8.296875 \nL 53.609375 0 \nL 7.328125 0 \nL 7.328125 8.296875 \nQ 12.9375 14.109375 22.625 23.890625 \nQ 32.328125 33.6875 34.8125 36.53125 \nQ 39.546875 41.84375 41.421875 45.53125 \nQ 43.3125 49.21875 43.3125 52.78125 \nQ 43.3125 58.59375 39.234375 62.25 \nQ 35.15625 65.921875 28.609375 65.921875 \nQ 23.96875 65.921875 18.8125 64.3125 \nQ 13.671875 62.703125 7.8125 59.421875 \nL 7.8125 69.390625 \nQ 13.765625 71.78125 18.9375 73 \nQ 24.125 74.21875 28.421875 74.21875 \nQ 39.75 74.21875 46.484375 68.546875 \nQ 53.21875 62.890625 53.21875 53.421875 \nQ 53.21875 48.921875 51.53125 44.890625 \nQ 49.859375 40.875 45.40625 35.40625 \nQ 44.1875 33.984375 37.640625 27.21875 \nQ 31.109375 20.453125 19.1875 8.296875 \nz\n\" id=\"DejaVuSans-50\"/>\n       <path d=\"M 31.78125 66.40625 \nQ 24.171875 66.40625 20.328125 58.90625 \nQ 16.5 51.421875 16.5 36.375 \nQ 16.5 21.390625 20.328125 13.890625 \nQ 24.171875 6.390625 31.78125 6.390625 \nQ 39.453125 6.390625 43.28125 13.890625 \nQ 47.125 21.390625 47.125 36.375 \nQ 47.125 51.421875 43.28125 58.90625 \nQ 39.453125 66.40625 31.78125 66.40625 \nz\nM 31.78125 74.21875 \nQ 44.046875 74.21875 50.515625 64.515625 \nQ 56.984375 54.828125 56.984375 36.375 \nQ 56.984375 17.96875 50.515625 8.265625 \nQ 44.046875 -1.421875 31.78125 -1.421875 \nQ 19.53125 -1.421875 13.0625 8.265625 \nQ 6.59375 17.96875 6.59375 36.375 \nQ 6.59375 54.828125 13.0625 64.515625 \nQ 19.53125 74.21875 31.78125 74.21875 \nz\n\" id=\"DejaVuSans-48\"/>\n      </defs>\n      <g style=\"fill:#262626;\" transform=\"translate(23.1475 140.038269)scale(0.11 -0.11)\">\n       <use xlink:href=\"#DejaVuSans-49\"/>\n       <use x=\"63.623047\" xlink:href=\"#DejaVuSans-46\"/>\n       <use x=\"95.410156\" xlink:href=\"#DejaVuSans-53\"/>\n       <use x=\"159.033203\" xlink:href=\"#DejaVuSans-50\"/>\n       <use x=\"222.65625\" xlink:href=\"#DejaVuSans-48\"/>\n      </g>\n     </g>\n    </g>\n    <g id=\"ytick_5\">\n     <g id=\"line2d_5\">\n      <path clip-path=\"url(#p2d13beab06)\" d=\"M 64.138438 105.602235 \nL 398.938438 105.602235 \n\" style=\"fill:none;stroke:#ffffff;stroke-linecap:round;\"/>\n     </g>\n     <g id=\"text_9\">\n      <!-- 1.521 -->\n      <g style=\"fill:#262626;\" transform=\"translate(23.1475 109.781376)scale(0.11 -0.11)\">\n       <use xlink:href=\"#DejaVuSans-49\"/>\n       <use x=\"63.623047\" xlink:href=\"#DejaVuSans-46\"/>\n       <use x=\"95.410156\" xlink:href=\"#DejaVuSans-53\"/>\n       <use x=\"159.033203\" xlink:href=\"#DejaVuSans-50\"/>\n       <use x=\"222.65625\" xlink:href=\"#DejaVuSans-49\"/>\n      </g>\n     </g>\n    </g>\n    <g id=\"ytick_6\">\n     <g id=\"line2d_6\">\n      <path clip-path=\"url(#p2d13beab06)\" d=\"M 64.138438 75.345342 \nL 398.938438 75.345342 \n\" style=\"fill:none;stroke:#ffffff;stroke-linecap:round;\"/>\n     </g>\n     <g id=\"text_10\">\n      <!-- 1.522 -->\n      <g style=\"fill:#262626;\" transform=\"translate(23.1475 79.524483)scale(0.11 -0.11)\">\n       <use xlink:href=\"#DejaVuSans-49\"/>\n       <use x=\"63.623047\" xlink:href=\"#DejaVuSans-46\"/>\n       <use x=\"95.410156\" xlink:href=\"#DejaVuSans-53\"/>\n       <use x=\"159.033203\" xlink:href=\"#DejaVuSans-50\"/>\n       <use x=\"222.65625\" xlink:href=\"#DejaVuSans-50\"/>\n      </g>\n     </g>\n    </g>\n    <g id=\"ytick_7\">\n     <g id=\"line2d_7\">\n      <path clip-path=\"url(#p2d13beab06)\" d=\"M 64.138438 45.088449 \nL 398.938438 45.088449 \n\" style=\"fill:none;stroke:#ffffff;stroke-linecap:round;\"/>\n     </g>\n     <g id=\"text_11\">\n      <!-- 1.523 -->\n      <defs>\n       <path d=\"M 40.578125 39.3125 \nQ 47.65625 37.796875 51.625 33 \nQ 55.609375 28.21875 55.609375 21.1875 \nQ 55.609375 10.40625 48.1875 4.484375 \nQ 40.765625 -1.421875 27.09375 -1.421875 \nQ 22.515625 -1.421875 17.65625 -0.515625 \nQ 12.796875 0.390625 7.625 2.203125 \nL 7.625 11.71875 \nQ 11.71875 9.328125 16.59375 8.109375 \nQ 21.484375 6.890625 26.8125 6.890625 \nQ 36.078125 6.890625 40.9375 10.546875 \nQ 45.796875 14.203125 45.796875 21.1875 \nQ 45.796875 27.640625 41.28125 31.265625 \nQ 36.765625 34.90625 28.71875 34.90625 \nL 20.21875 34.90625 \nL 20.21875 43.015625 \nL 29.109375 43.015625 \nQ 36.375 43.015625 40.234375 45.921875 \nQ 44.09375 48.828125 44.09375 54.296875 \nQ 44.09375 59.90625 40.109375 62.90625 \nQ 36.140625 65.921875 28.71875 65.921875 \nQ 24.65625 65.921875 20.015625 65.03125 \nQ 15.375 64.15625 9.8125 62.3125 \nL 9.8125 71.09375 \nQ 15.4375 72.65625 20.34375 73.4375 \nQ 25.25 74.21875 29.59375 74.21875 \nQ 40.828125 74.21875 47.359375 69.109375 \nQ 53.90625 64.015625 53.90625 55.328125 \nQ 53.90625 49.265625 50.4375 45.09375 \nQ 46.96875 40.921875 40.578125 39.3125 \nz\n\" id=\"DejaVuSans-51\"/>\n      </defs>\n      <g style=\"fill:#262626;\" transform=\"translate(23.1475 49.267589)scale(0.11 -0.11)\">\n       <use xlink:href=\"#DejaVuSans-49\"/>\n       <use x=\"63.623047\" xlink:href=\"#DejaVuSans-46\"/>\n       <use x=\"95.410156\" xlink:href=\"#DejaVuSans-53\"/>\n       <use x=\"159.033203\" xlink:href=\"#DejaVuSans-50\"/>\n       <use x=\"222.65625\" xlink:href=\"#DejaVuSans-51\"/>\n      </g>\n     </g>\n    </g>\n    <g id=\"text_12\">\n     <!-- epoch_ms -->\n     <defs>\n      <path d=\"M 54.890625 33.015625 \nL 54.890625 0 \nL 45.90625 0 \nL 45.90625 32.71875 \nQ 45.90625 40.484375 42.875 44.328125 \nQ 39.84375 48.1875 33.796875 48.1875 \nQ 26.515625 48.1875 22.3125 43.546875 \nQ 18.109375 38.921875 18.109375 30.90625 \nL 18.109375 0 \nL 9.078125 0 \nL 9.078125 75.984375 \nL 18.109375 75.984375 \nL 18.109375 46.1875 \nQ 21.34375 51.125 25.703125 53.5625 \nQ 30.078125 56 35.796875 56 \nQ 45.21875 56 50.046875 50.171875 \nQ 54.890625 44.34375 54.890625 33.015625 \nz\n\" id=\"DejaVuSans-104\"/>\n      <path d=\"M 52 44.1875 \nQ 55.375 50.25 60.0625 53.125 \nQ 64.75 56 71.09375 56 \nQ 79.640625 56 84.28125 50.015625 \nQ 88.921875 44.046875 88.921875 33.015625 \nL 88.921875 0 \nL 79.890625 0 \nL 79.890625 32.71875 \nQ 79.890625 40.578125 77.09375 44.375 \nQ 74.3125 48.1875 68.609375 48.1875 \nQ 61.625 48.1875 57.5625 43.546875 \nQ 53.515625 38.921875 53.515625 30.90625 \nL 53.515625 0 \nL 44.484375 0 \nL 44.484375 32.71875 \nQ 44.484375 40.625 41.703125 44.40625 \nQ 38.921875 48.1875 33.109375 48.1875 \nQ 26.21875 48.1875 22.15625 43.53125 \nQ 18.109375 38.875 18.109375 30.90625 \nL 18.109375 0 \nL 9.078125 0 \nL 9.078125 54.6875 \nL 18.109375 54.6875 \nL 18.109375 46.1875 \nQ 21.1875 51.21875 25.484375 53.609375 \nQ 29.78125 56 35.6875 56 \nQ 41.65625 56 45.828125 52.96875 \nQ 50 49.953125 52 44.1875 \nz\n\" id=\"DejaVuSans-109\"/>\n     </defs>\n     <g style=\"fill:#262626;\" transform=\"translate(16.318125 157.522031)rotate(-90)scale(0.12 -0.12)\">\n      <use xlink:href=\"#DejaVuSans-101\"/>\n      <use x=\"61.523438\" xlink:href=\"#DejaVuSans-112\"/>\n      <use x=\"125\" xlink:href=\"#DejaVuSans-111\"/>\n      <use x=\"186.181641\" xlink:href=\"#DejaVuSans-99\"/>\n      <use x=\"241.162109\" xlink:href=\"#DejaVuSans-104\"/>\n      <use x=\"304.541016\" xlink:href=\"#DejaVuSans-95\"/>\n      <use x=\"354.541016\" xlink:href=\"#DejaVuSans-109\"/>\n      <use x=\"451.953125\" xlink:href=\"#DejaVuSans-115\"/>\n     </g>\n    </g>\n    <g id=\"text_13\">\n     <!-- 1e12 -->\n     <g style=\"fill:#262626;\" transform=\"translate(64.138438 15.558281)scale(0.11 -0.11)\">\n      <use xlink:href=\"#DejaVuSans-49\"/>\n      <use x=\"63.623047\" xlink:href=\"#DejaVuSans-101\"/>\n      <use x=\"125.146484\" xlink:href=\"#DejaVuSans-49\"/>\n      <use x=\"188.769531\" xlink:href=\"#DejaVuSans-50\"/>\n     </g>\n    </g>\n   </g>\n   <g id=\"PathCollection_1\">\n    <defs>\n     <path d=\"M -0 4.242641 \nL 2.545584 0 \nL 0 -4.242641 \nL -2.545584 -0 \nz\n\" id=\"mce1eda868f\" style=\"stroke:#e68193;\"/>\n    </defs>\n    <g clip-path=\"url(#p2d13beab06)\">\n     <use style=\"fill:#e68193;stroke:#e68193;\" x=\"97.618437\" xlink:href=\"#mce1eda868f\" y=\"127.387167\"/>\n     <use style=\"fill:#e68193;stroke:#e68193;\" x=\"97.618437\" xlink:href=\"#mce1eda868f\" y=\"127.38715\"/>\n     <use style=\"fill:#e68193;stroke:#e68193;\" x=\"97.618437\" xlink:href=\"#mce1eda868f\" y=\"127.387149\"/>\n     <use style=\"fill:#e68193;stroke:#e68193;\" x=\"97.618437\" xlink:href=\"#mce1eda868f\" y=\"127.169491\"/>\n     <use style=\"fill:#e68193;stroke:#e68193;\" x=\"97.618437\" xlink:href=\"#mce1eda868f\" y=\"127.169407\"/>\n     <use style=\"fill:#e68193;stroke:#e68193;\" x=\"97.618437\" xlink:href=\"#mce1eda868f\" y=\"127.169396\"/>\n    </g>\n   </g>\n   <g id=\"PatchCollection_1\">\n    <path clip-path=\"url(#p2d13beab06)\" d=\"M 97.575716 127.387146 \nL 97.661159 127.387146 \nL 97.661159 127.169492 \nL 97.575716 127.169492 \nz\n\" style=\"fill:#ffffff;stroke:#ffffff;\"/>\n    <path clip-path=\"url(#p2d13beab06)\" d=\"M 97.532994 127.387061 \nL 97.703881 127.387061 \nL 97.703881 127.16958 \nL 97.532994 127.16958 \nz\n\" style=\"fill:#fcf1f3;stroke:#ffffff;\"/>\n    <path clip-path=\"url(#p2d13beab06)\" d=\"M 97.44755 127.38681 \nL 97.789325 127.38681 \nL 97.789325 127.170149 \nL 97.44755 127.170149 \nz\n\" style=\"fill:#fae3e7;stroke:#ffffff;\"/>\n    <path clip-path=\"url(#p2d13beab06)\" d=\"M 97.276663 127.38656 \nL 97.960213 127.38656 \nL 97.960213 127.170985 \nL 97.276663 127.170985 \nz\n\" style=\"fill:#f7d5db;stroke:#ffffff;\"/>\n    <path clip-path=\"url(#p2d13beab06)\" d=\"M 96.934888 127.38606 \nL 98.301988 127.38606 \nL 98.301988 127.171975 \nL 96.934888 127.171975 \nz\n\" style=\"fill:#f4c7cf;stroke:#ffffff;\"/>\n    <path clip-path=\"url(#p2d13beab06)\" d=\"M 96.251338 127.384932 \nL 98.985538 127.384932 \nL 98.985538 127.174788 \nL 96.251338 127.174788 \nz\n\" style=\"fill:#f1b9c3;stroke:#ffffff;\"/>\n    <path clip-path=\"url(#p2d13beab06)\" d=\"M 94.884238 127.383203 \nL 100.352638 127.383203 \nL 100.352638 127.179304 \nL 94.884238 127.179304 \nz\n\" style=\"fill:#eeabb7;stroke:#ffffff;\"/>\n    <path clip-path=\"url(#p2d13beab06)\" d=\"M 92.150038 127.380136 \nL 103.086838 127.380136 \nL 103.086838 127.205004 \nL 92.150038 127.205004 \nz\n\" style=\"fill:#eb9dab;stroke:#ffffff;\"/>\n    <path clip-path=\"url(#p2d13beab06)\" d=\"M 86.681637 127.373826 \nL 108.555238 127.373826 \nL 108.555238 127.227237 \nL 86.681637 127.227237 \nz\n\" style=\"fill:#e98f9f;stroke:#ffffff;\"/>\n    <path clip-path=\"url(#p2d13beab06)\" d=\"M 75.744838 127.356875 \nL 119.492038 127.356875 \nL 119.492038 127.26482 \nL 75.744838 127.26482 \nz\n\" style=\"fill:#e68193;stroke:#ffffff;\"/>\n   </g>\n   <g id=\"PathCollection_2\">\n    <defs>\n     <path d=\"M -0 4.242641 \nL 2.545584 0 \nL 0 -4.242641 \nL -2.545584 -0 \nz\n\" id=\"mdf066df8ab\" style=\"stroke:#459e97;\"/>\n    </defs>\n    <g clip-path=\"url(#p2d13beab06)\">\n     <use style=\"fill:#459e97;stroke:#459e97;\" x=\"142.258438\" xlink:href=\"#mdf066df8ab\" y=\"127.387125\"/>\n     <use style=\"fill:#459e97;stroke:#459e97;\" x=\"142.258438\" xlink:href=\"#mdf066df8ab\" y=\"127.387198\"/>\n     <use style=\"fill:#459e97;stroke:#459e97;\" x=\"142.258438\" xlink:href=\"#mdf066df8ab\" y=\"127.387197\"/>\n     <use style=\"fill:#459e97;stroke:#459e97;\" x=\"142.258438\" xlink:href=\"#mdf066df8ab\" y=\"127.387193\"/>\n     <use style=\"fill:#459e97;stroke:#459e97;\" x=\"142.258438\" xlink:href=\"#mdf066df8ab\" y=\"127.387129\"/>\n     <use style=\"fill:#459e97;stroke:#459e97;\" x=\"142.258438\" xlink:href=\"#mdf066df8ab\" y=\"127.169655\"/>\n     <use style=\"fill:#459e97;stroke:#459e97;\" x=\"142.258438\" xlink:href=\"#mdf066df8ab\" y=\"127.169649\"/>\n     <use style=\"fill:#459e97;stroke:#459e97;\" x=\"142.258438\" xlink:href=\"#mdf066df8ab\" y=\"127.169567\"/>\n     <use style=\"fill:#459e97;stroke:#459e97;\" x=\"142.258438\" xlink:href=\"#mdf066df8ab\" y=\"127.169551\"/>\n     <use style=\"fill:#459e97;stroke:#459e97;\" x=\"142.258438\" xlink:href=\"#mdf066df8ab\" y=\"127.16937\"/>\n    </g>\n   </g>\n   <g id=\"PatchCollection_2\">\n    <path clip-path=\"url(#p2d13beab06)\" d=\"M 142.172994 127.387069 \nL 142.343881 127.387069 \nL 142.343881 127.169712 \nL 142.172994 127.169712 \nz\n\" style=\"fill:#ffffff;stroke:#ffffff;\"/>\n    <path clip-path=\"url(#p2d13beab06)\" d=\"M 142.08755 127.386869 \nL 142.429325 127.386869 \nL 142.429325 127.169969 \nL 142.08755 127.169969 \nz\n\" style=\"fill:#e8f3f2;stroke:#ffffff;\"/>\n    <path clip-path=\"url(#p2d13beab06)\" d=\"M 141.916663 127.386466 \nL 142.600212 127.386466 \nL 142.600212 127.171041 \nL 141.916663 127.171041 \nz\n\" style=\"fill:#d0e7e5;stroke:#ffffff;\"/>\n    <path clip-path=\"url(#p2d13beab06)\" d=\"M 141.574888 127.385954 \nL 142.941988 127.385954 \nL 142.941988 127.173234 \nL 141.574888 127.173234 \nz\n\" style=\"fill:#b9dad8;stroke:#ffffff;\"/>\n    <path clip-path=\"url(#p2d13beab06)\" d=\"M 140.891338 127.384736 \nL 143.625538 127.384736 \nL 143.625538 127.176528 \nL 140.891338 127.176528 \nz\n\" style=\"fill:#a1cecb;stroke:#ffffff;\"/>\n    <path clip-path=\"url(#p2d13beab06)\" d=\"M 139.524237 127.38277 \nL 144.992638 127.38277 \nL 144.992638 127.183156 \nL 139.524237 127.183156 \nz\n\" style=\"fill:#8ac2be;stroke:#ffffff;\"/>\n    <path clip-path=\"url(#p2d13beab06)\" d=\"M 136.790038 127.377981 \nL 147.726838 127.377981 \nL 147.726838 127.197149 \nL 136.790038 127.197149 \nz\n\" style=\"fill:#73b6b1;stroke:#ffffff;\"/>\n    <path clip-path=\"url(#p2d13beab06)\" d=\"M 131.321638 127.368958 \nL 153.195238 127.368958 \nL 153.195238 127.223781 \nL 131.321638 127.223781 \nz\n\" style=\"fill:#5baaa4;stroke:#ffffff;\"/>\n    <path clip-path=\"url(#p2d13beab06)\" d=\"M 120.384838 127.354189 \nL 164.132037 127.354189 \nL 164.132037 127.266296 \nL 120.384838 127.266296 \nz\n\" style=\"fill:#459e97;stroke:#ffffff;\"/>\n   </g>\n   <g id=\"PathCollection_3\">\n    <g clip-path=\"url(#p2d13beab06)\">\n     <use style=\"fill:#459e97;stroke:#459e97;\" x=\"253.858437\" xlink:href=\"#mdf066df8ab\" y=\"127.387114\"/>\n     <use style=\"fill:#459e97;stroke:#459e97;\" x=\"253.858437\" xlink:href=\"#mdf066df8ab\" y=\"127.170104\"/>\n    </g>\n   </g>\n   <g id=\"PatchCollection_3\">\n    <path clip-path=\"url(#p2d13beab06)\" d=\"M 253.772994 127.387048 \nL 253.943881 127.387048 \nL 253.943881 127.170204 \nL 253.772994 127.170204 \nz\n\" style=\"fill:#ffffff;stroke:#ffffff;\"/>\n    <path clip-path=\"url(#p2d13beab06)\" d=\"M 253.68755 127.386967 \nL 254.029325 127.386967 \nL 254.029325 127.170364 \nL 253.68755 127.170364 \nz\n\" style=\"fill:#e8f3f2;stroke:#ffffff;\"/>\n    <path clip-path=\"url(#p2d13beab06)\" d=\"M 253.516662 127.386812 \nL 254.200212 127.386812 \nL 254.200212 127.170688 \nL 253.516662 127.170688 \nz\n\" style=\"fill:#d0e7e5;stroke:#ffffff;\"/>\n    <path clip-path=\"url(#p2d13beab06)\" d=\"M 253.174888 127.386392 \nL 254.541988 127.386392 \nL 254.541988 127.173007 \nL 253.174888 127.173007 \nz\n\" style=\"fill:#b9dad8;stroke:#ffffff;\"/>\n    <path clip-path=\"url(#p2d13beab06)\" d=\"M 252.491337 127.385792 \nL 255.225537 127.385792 \nL 255.225537 127.176564 \nL 252.491337 127.176564 \nz\n\" style=\"fill:#a1cecb;stroke:#ffffff;\"/>\n    <path clip-path=\"url(#p2d13beab06)\" d=\"M 251.124237 127.382257 \nL 256.592637 127.382257 \nL 256.592637 127.18496 \nL 251.124237 127.18496 \nz\n\" style=\"fill:#8ac2be;stroke:#ffffff;\"/>\n    <path clip-path=\"url(#p2d13beab06)\" d=\"M 248.390038 127.378295 \nL 259.326838 127.378295 \nL 259.326838 127.200932 \nL 248.390038 127.200932 \nz\n\" style=\"fill:#73b6b1;stroke:#ffffff;\"/>\n    <path clip-path=\"url(#p2d13beab06)\" d=\"M 242.921637 127.37094 \nL 264.795237 127.37094 \nL 264.795237 127.224161 \nL 242.921637 127.224161 \nz\n\" style=\"fill:#5baaa4;stroke:#ffffff;\"/>\n    <path clip-path=\"url(#p2d13beab06)\" d=\"M 231.984837 127.356389 \nL 275.732037 127.356389 \nL 275.732037 127.267057 \nL 231.984837 127.267057 \nz\n\" style=\"fill:#459e97;stroke:#ffffff;\"/>\n   </g>\n   <g id=\"PathCollection_4\">\n    <g clip-path=\"url(#p2d13beab06)\">\n     <use style=\"fill:#459e97;stroke:#459e97;\" x=\"365.458438\" xlink:href=\"#mdf066df8ab\" y=\"127.387179\"/>\n     <use style=\"fill:#459e97;stroke:#459e97;\" x=\"365.458438\" xlink:href=\"#mdf066df8ab\" y=\"127.387005\"/>\n     <use style=\"fill:#459e97;stroke:#459e97;\" x=\"365.458438\" xlink:href=\"#mdf066df8ab\" y=\"127.386945\"/>\n     <use style=\"fill:#459e97;stroke:#459e97;\" x=\"365.458438\" xlink:href=\"#mdf066df8ab\" y=\"127.170349\"/>\n     <use style=\"fill:#459e97;stroke:#459e97;\" x=\"365.458438\" xlink:href=\"#mdf066df8ab\" y=\"127.170119\"/>\n     <use style=\"fill:#459e97;stroke:#459e97;\" x=\"365.458438\" xlink:href=\"#mdf066df8ab\" y=\"127.169523\"/>\n    </g>\n   </g>\n   <g id=\"PatchCollection_4\">\n    <path clip-path=\"url(#p2d13beab06)\" d=\"M 365.372994 127.386869 \nL 365.543881 127.386869 \nL 365.543881 127.17042 \nL 365.372994 127.17042 \nz\n\" style=\"fill:#ffffff;stroke:#ffffff;\"/>\n    <path clip-path=\"url(#p2d13beab06)\" d=\"M 365.28755 127.386795 \nL 365.629325 127.386795 \nL 365.629325 127.17069 \nL 365.28755 127.17069 \nz\n\" style=\"fill:#e8f3f2;stroke:#ffffff;\"/>\n    <path clip-path=\"url(#p2d13beab06)\" d=\"M 365.116663 127.386657 \nL 365.800212 127.386657 \nL 365.800212 127.173926 \nL 365.116663 127.173926 \nz\n\" style=\"fill:#d0e7e5;stroke:#ffffff;\"/>\n    <path clip-path=\"url(#p2d13beab06)\" d=\"M 364.774888 127.386031 \nL 366.141988 127.386031 \nL 366.141988 127.175729 \nL 364.774888 127.175729 \nz\n\" style=\"fill:#b9dad8;stroke:#ffffff;\"/>\n    <path clip-path=\"url(#p2d13beab06)\" d=\"M 364.091338 127.384919 \nL 366.825538 127.384919 \nL 366.825538 127.179768 \nL 364.091338 127.179768 \nz\n\" style=\"fill:#a1cecb;stroke:#ffffff;\"/>\n    <path clip-path=\"url(#p2d13beab06)\" d=\"M 362.724238 127.383048 \nL 368.192637 127.383048 \nL 368.192637 127.187545 \nL 362.724238 127.187545 \nz\n\" style=\"fill:#8ac2be;stroke:#ffffff;\"/>\n    <path clip-path=\"url(#p2d13beab06)\" d=\"M 359.990038 127.378951 \nL 370.926838 127.378951 \nL 370.926838 127.201345 \nL 359.990038 127.201345 \nz\n\" style=\"fill:#73b6b1;stroke:#ffffff;\"/>\n    <path clip-path=\"url(#p2d13beab06)\" d=\"M 354.521638 127.370441 \nL 376.395238 127.370441 \nL 376.395238 127.233191 \nL 354.521638 127.233191 \nz\n\" style=\"fill:#5baaa4;stroke:#ffffff;\"/>\n    <path clip-path=\"url(#p2d13beab06)\" d=\"M 343.584837 127.355386 \nL 387.332038 127.355386 \nL 387.332038 127.279625 \nL 343.584837 127.279625 \nz\n\" style=\"fill:#459e97;stroke:#ffffff;\"/>\n   </g>\n   <g id=\"patch_3\">\n    <path clip-path=\"url(#p2d13beab06)\" d=\"M 119.938438 46126.336593 \nL 119.938438 46126.336593 \nL 119.938438 46126.336593 \nL 119.938438 46126.336593 \nz\n\" style=\"fill:#e68193;stroke:#444444;stroke-linejoin:miter;stroke-width:0.75;\"/>\n   </g>\n   <g id=\"patch_4\">\n    <path clip-path=\"url(#p2d13beab06)\" d=\"M 119.938438 46126.336593 \nL 119.938438 46126.336593 \nL 119.938438 46126.336593 \nL 119.938438 46126.336593 \nz\n\" style=\"fill:#459e97;stroke:#444444;stroke-linejoin:miter;stroke-width:0.75;\"/>\n   </g>\n   <g id=\"line2d_8\">\n    <path clip-path=\"url(#p2d13beab06)\" d=\"M 75.744838 127.320157 \nL 119.492038 127.320157 \n\" style=\"fill:none;stroke:#262626;stroke-linecap:round;stroke-opacity:0.45;stroke-width:1.5;\"/>\n   </g>\n   <g id=\"line2d_9\">\n    <path clip-path=\"url(#p2d13beab06)\" d=\"M 120.384838 127.321061 \nL 164.132037 127.321061 \n\" style=\"fill:none;stroke:#262626;stroke-linecap:round;stroke-opacity:0.45;stroke-width:1.5;\"/>\n   </g>\n   <g id=\"line2d_10\">\n    <path clip-path=\"url(#p2d13beab06)\" d=\"M 231.984837 127.321841 \nL 275.732037 127.321841 \n\" style=\"fill:none;stroke:#262626;stroke-linecap:round;stroke-opacity:0.45;stroke-width:1.5;\"/>\n   </g>\n   <g id=\"line2d_11\">\n    <path clip-path=\"url(#p2d13beab06)\" d=\"M 343.584837 127.324603 \nL 387.332038 127.324603 \n\" style=\"fill:none;stroke:#262626;stroke-linecap:round;stroke-opacity:0.45;stroke-width:1.5;\"/>\n   </g>\n   <g id=\"patch_5\">\n    <path d=\"M 64.138438 235.998281 \nL 64.138438 18.558281 \n\" style=\"fill:none;stroke:#ffffff;stroke-linecap:square;stroke-linejoin:miter;stroke-width:1.25;\"/>\n   </g>\n   <g id=\"patch_6\">\n    <path d=\"M 398.938438 235.998281 \nL 398.938438 18.558281 \n\" style=\"fill:none;stroke:#ffffff;stroke-linecap:square;stroke-linejoin:miter;stroke-width:1.25;\"/>\n   </g>\n   <g id=\"patch_7\">\n    <path d=\"M 64.138438 235.998281 \nL 398.938438 235.998281 \n\" style=\"fill:none;stroke:#ffffff;stroke-linecap:square;stroke-linejoin:miter;stroke-width:1.25;\"/>\n   </g>\n   <g id=\"patch_8\">\n    <path d=\"M 64.138438 18.558281 \nL 398.938438 18.558281 \n\" style=\"fill:none;stroke:#ffffff;stroke-linecap:square;stroke-linejoin:miter;stroke-width:1.25;\"/>\n   </g>\n   <g id=\"legend_1\">\n    <g id=\"patch_9\">\n     <path d=\"M 332.818125 75.021844 \nL 391.238438 75.021844 \nQ 393.438438 75.021844 393.438438 72.821844 \nL 393.438438 26.258281 \nQ 393.438438 24.058281 391.238438 24.058281 \nL 332.818125 24.058281 \nQ 330.618125 24.058281 330.618125 26.258281 \nL 330.618125 72.821844 \nQ 330.618125 75.021844 332.818125 75.021844 \nz\n\" style=\"fill:#eaeaf2;opacity:0.8;stroke:#cccccc;stroke-linejoin:miter;\"/>\n    </g>\n    <g id=\"text_14\">\n     <!-- labels -->\n     <defs>\n      <path d=\"M 9.421875 75.984375 \nL 18.40625 75.984375 \nL 18.40625 0 \nL 9.421875 0 \nz\n\" id=\"DejaVuSans-108\"/>\n      <path d=\"M 34.28125 27.484375 \nQ 23.390625 27.484375 19.1875 25 \nQ 14.984375 22.515625 14.984375 16.5 \nQ 14.984375 11.71875 18.140625 8.90625 \nQ 21.296875 6.109375 26.703125 6.109375 \nQ 34.1875 6.109375 38.703125 11.40625 \nQ 43.21875 16.703125 43.21875 25.484375 \nL 43.21875 27.484375 \nz\nM 52.203125 31.203125 \nL 52.203125 0 \nL 43.21875 0 \nL 43.21875 8.296875 \nQ 40.140625 3.328125 35.546875 0.953125 \nQ 30.953125 -1.421875 24.3125 -1.421875 \nQ 15.921875 -1.421875 10.953125 3.296875 \nQ 6 8.015625 6 15.921875 \nQ 6 25.140625 12.171875 29.828125 \nQ 18.359375 34.515625 30.609375 34.515625 \nL 43.21875 34.515625 \nL 43.21875 35.40625 \nQ 43.21875 41.609375 39.140625 45 \nQ 35.0625 48.390625 27.6875 48.390625 \nQ 23 48.390625 18.546875 47.265625 \nQ 14.109375 46.140625 10.015625 43.890625 \nL 10.015625 52.203125 \nQ 14.9375 54.109375 19.578125 55.046875 \nQ 24.21875 56 28.609375 56 \nQ 40.484375 56 46.34375 49.84375 \nQ 52.203125 43.703125 52.203125 31.203125 \nz\n\" id=\"DejaVuSans-97\"/>\n      <path d=\"M 48.6875 27.296875 \nQ 48.6875 37.203125 44.609375 42.84375 \nQ 40.53125 48.484375 33.40625 48.484375 \nQ 26.265625 48.484375 22.1875 42.84375 \nQ 18.109375 37.203125 18.109375 27.296875 \nQ 18.109375 17.390625 22.1875 11.75 \nQ 26.265625 6.109375 33.40625 6.109375 \nQ 40.53125 6.109375 44.609375 11.75 \nQ 48.6875 17.390625 48.6875 27.296875 \nz\nM 18.109375 46.390625 \nQ 20.953125 51.265625 25.265625 53.625 \nQ 29.59375 56 35.59375 56 \nQ 45.5625 56 51.78125 48.09375 \nQ 58.015625 40.1875 58.015625 27.296875 \nQ 58.015625 14.40625 51.78125 6.484375 \nQ 45.5625 -1.421875 35.59375 -1.421875 \nQ 29.59375 -1.421875 25.265625 0.953125 \nQ 20.953125 3.328125 18.109375 8.203125 \nL 18.109375 0 \nL 9.078125 0 \nL 9.078125 75.984375 \nL 18.109375 75.984375 \nz\n\" id=\"DejaVuSans-98\"/>\n     </defs>\n     <g style=\"fill:#262626;\" transform=\"translate(347.036672 36.208687)scale(0.102 -0.102)\">\n      <use xlink:href=\"#DejaVuSans-108\"/>\n      <use x=\"27.783203\" xlink:href=\"#DejaVuSans-97\"/>\n      <use x=\"89.0625\" xlink:href=\"#DejaVuSans-98\"/>\n      <use x=\"152.539062\" xlink:href=\"#DejaVuSans-101\"/>\n      <use x=\"214.0625\" xlink:href=\"#DejaVuSans-108\"/>\n      <use x=\"241.845703\" xlink:href=\"#DejaVuSans-115\"/>\n     </g>\n    </g>\n    <g id=\"patch_10\">\n     <path d=\"M 335.018125 52.18825 \nL 357.018125 52.18825 \nL 357.018125 44.48825 \nL 335.018125 44.48825 \nz\n\" style=\"fill:#e68193;stroke:#444444;stroke-linejoin:miter;stroke-width:0.75;\"/>\n    </g>\n    <g id=\"text_15\">\n     <!-- NHT -->\n     <defs>\n      <path d=\"M 9.8125 72.90625 \nL 19.671875 72.90625 \nL 19.671875 43.015625 \nL 55.515625 43.015625 \nL 55.515625 72.90625 \nL 65.375 72.90625 \nL 65.375 0 \nL 55.515625 0 \nL 55.515625 34.71875 \nL 19.671875 34.71875 \nL 19.671875 0 \nL 9.8125 0 \nz\n\" id=\"DejaVuSans-72\"/>\n      <path d=\"M -0.296875 72.90625 \nL 61.375 72.90625 \nL 61.375 64.59375 \nL 35.5 64.59375 \nL 35.5 0 \nL 25.59375 0 \nL 25.59375 64.59375 \nL -0.296875 64.59375 \nz\n\" id=\"DejaVuSans-84\"/>\n     </defs>\n     <g style=\"fill:#262626;\" transform=\"translate(365.818125 52.18825)scale(0.11 -0.11)\">\n      <use xlink:href=\"#DejaVuSans-78\"/>\n      <use x=\"74.804688\" xlink:href=\"#DejaVuSans-72\"/>\n      <use x=\"150\" xlink:href=\"#DejaVuSans-84\"/>\n     </g>\n    </g>\n    <g id=\"patch_11\">\n     <path d=\"M 335.018125 68.334188 \nL 357.018125 68.334188 \nL 357.018125 60.634188 \nL 335.018125 60.634188 \nz\n\" style=\"fill:#459e97;stroke:#444444;stroke-linejoin:miter;stroke-width:0.75;\"/>\n    </g>\n    <g id=\"text_16\">\n     <!-- HT -->\n     <g style=\"fill:#262626;\" transform=\"translate(365.818125 68.334188)scale(0.11 -0.11)\">\n      <use xlink:href=\"#DejaVuSans-72\"/>\n      <use x=\"75.195312\" xlink:href=\"#DejaVuSans-84\"/>\n     </g>\n    </g>\n   </g>\n  </g>\n </g>\n <defs>\n  <clipPath id=\"p2d13beab06\">\n   <rect height=\"217.44\" width=\"334.8\" x=\"64.138438\" y=\"18.558281\"/>\n  </clipPath>\n </defs>\n</svg>\n"
          },
          "metadata": {
            "tags": []
          }
        }
      ]
    },
    {
      "cell_type": "markdown",
      "metadata": {
        "id": "oxO6GTUIhqsM",
        "colab_type": "text"
      },
      "source": [
        "epoch_ms does not make much relation with other variables. So, we shall drop it in our analysis part."
      ]
    },
    {
      "cell_type": "markdown",
      "metadata": {
        "id": "OyZbR4KugqTu",
        "colab_type": "text"
      },
      "source": [
        "# 4)- Creating dataframe with Feature of Importance"
      ]
    },
    {
      "cell_type": "code",
      "metadata": {
        "id": "dRwrrsrqg2oq",
        "colab_type": "code",
        "colab": {}
      },
      "source": [
        "df_foi=df_bol[['labels','visitor_recognition_type','country_by_ip_address','region_by_ip_address']]"
      ],
      "execution_count": 0,
      "outputs": []
    },
    {
      "cell_type": "code",
      "metadata": {
        "colab_type": "code",
        "id": "U2zX00LQgRLU",
        "outputId": "3d03eb42-3de6-426e-f068-114b7d2a9be7",
        "colab": {
          "base_uri": "https://localhost:8080/",
          "height": 197
        }
      },
      "source": [
        "df_foi.head()"
      ],
      "execution_count": 0,
      "outputs": [
        {
          "output_type": "execute_result",
          "data": {
            "text/html": [
              "<div>\n",
              "<style scoped>\n",
              "    .dataframe tbody tr th:only-of-type {\n",
              "        vertical-align: middle;\n",
              "    }\n",
              "\n",
              "    .dataframe tbody tr th {\n",
              "        vertical-align: top;\n",
              "    }\n",
              "\n",
              "    .dataframe thead th {\n",
              "        text-align: right;\n",
              "    }\n",
              "</style>\n",
              "<table border=\"1\" class=\"dataframe\">\n",
              "  <thead>\n",
              "    <tr style=\"text-align: right;\">\n",
              "      <th></th>\n",
              "      <th>labels</th>\n",
              "      <th>visitor_recognition_type</th>\n",
              "      <th>country_by_ip_address</th>\n",
              "      <th>region_by_ip_address</th>\n",
              "    </tr>\n",
              "  </thead>\n",
              "  <tbody>\n",
              "    <tr>\n",
              "      <th>0</th>\n",
              "      <td>NHT</td>\n",
              "      <td>ANONYMOUS</td>\n",
              "      <td>US</td>\n",
              "      <td>CA</td>\n",
              "    </tr>\n",
              "    <tr>\n",
              "      <th>1</th>\n",
              "      <td>NHT</td>\n",
              "      <td>ANONYMOUS</td>\n",
              "      <td>US</td>\n",
              "      <td>CA</td>\n",
              "    </tr>\n",
              "    <tr>\n",
              "      <th>2</th>\n",
              "      <td>HT</td>\n",
              "      <td>ANONYMOUS</td>\n",
              "      <td>IT</td>\n",
              "      <td>LI</td>\n",
              "    </tr>\n",
              "    <tr>\n",
              "      <th>3</th>\n",
              "      <td>NHT</td>\n",
              "      <td>ANONYMOUS</td>\n",
              "      <td>US</td>\n",
              "      <td>CA</td>\n",
              "    </tr>\n",
              "    <tr>\n",
              "      <th>4</th>\n",
              "      <td>NHT</td>\n",
              "      <td>ANONYMOUS</td>\n",
              "      <td>US</td>\n",
              "      <td>CA</td>\n",
              "    </tr>\n",
              "  </tbody>\n",
              "</table>\n",
              "</div>"
            ],
            "text/plain": [
              "  labels visitor_recognition_type country_by_ip_address region_by_ip_address\n",
              "0    NHT                ANONYMOUS                    US                   CA\n",
              "1    NHT                ANONYMOUS                    US                   CA\n",
              "2     HT                ANONYMOUS                    IT                   LI\n",
              "3    NHT                ANONYMOUS                    US                   CA\n",
              "4    NHT                ANONYMOUS                    US                   CA"
            ]
          },
          "metadata": {
            "tags": []
          },
          "execution_count": 63
        }
      ]
    },
    {
      "cell_type": "markdown",
      "metadata": {
        "colab_type": "text",
        "id": "2uSEnU4Pr1kc"
      },
      "source": [
        "### 4a)-Checking ANONYMOUS traffice role in data\n",
        "As we have now more concise data classification so, we might want to check again "
      ]
    },
    {
      "cell_type": "markdown",
      "metadata": {
        "id": "rNASX73OZ0qD",
        "colab_type": "text"
      },
      "source": [
        "**This \"ANONYMOUS\" class in visitor_recognition_type feature is interesting. It could be that bot searches are mostly ANONYMOUS. It is only an assumption. Let's see if data supports it**"
      ]
    },
    {
      "cell_type": "code",
      "metadata": {
        "id": "XcEf9V_AZ0qE",
        "colab_type": "code",
        "colab": {}
      },
      "source": [
        "c=df_foi"
      ],
      "execution_count": 0,
      "outputs": []
    },
    {
      "cell_type": "code",
      "metadata": {
        "id": "DNx6aXZeZ0qF",
        "colab_type": "code",
        "colab": {}
      },
      "source": [
        "c=c[(c.visitor_recognition_type == 'ANONYMOUS')]\n",
        "c=c.groupby(['labels','visitor_recognition_type']).size()"
      ],
      "execution_count": 0,
      "outputs": []
    },
    {
      "cell_type": "code",
      "metadata": {
        "id": "1cTD5sfCZ0qG",
        "colab_type": "code",
        "outputId": "54395e33-0e2a-4132-8626-517012fab319",
        "colab": {
          "base_uri": "https://localhost:8080/",
          "height": 87
        }
      },
      "source": [
        "c"
      ],
      "execution_count": 0,
      "outputs": [
        {
          "output_type": "execute_result",
          "data": {
            "text/plain": [
              "labels  visitor_recognition_type\n",
              "HT      ANONYMOUS                   4781\n",
              "NHT     ANONYMOUS                   4338\n",
              "dtype: int64"
            ]
          },
          "metadata": {
            "tags": []
          },
          "execution_count": 66
        }
      ]
    },
    {
      "cell_type": "markdown",
      "metadata": {
        "id": "T8kqyn27Z0qH",
        "colab_type": "text"
      },
      "source": [
        "**There is not much difference. So, my assumption that \"ANONYMOUS\" is related to Non-human traffic does not hold ground.**\n"
      ]
    },
    {
      "cell_type": "code",
      "metadata": {
        "id": "j_pxa1dtZ0qI",
        "colab_type": "code",
        "outputId": "a8831282-2cb5-479d-cb9f-395aa4c3db59",
        "colab": {
          "base_uri": "https://localhost:8080/",
          "height": 197
        }
      },
      "source": [
        "df_foi.groupby(['labels', 'visitor_recognition_type']).count()"
      ],
      "execution_count": 0,
      "outputs": [
        {
          "output_type": "execute_result",
          "data": {
            "text/html": [
              "<div>\n",
              "<style scoped>\n",
              "    .dataframe tbody tr th:only-of-type {\n",
              "        vertical-align: middle;\n",
              "    }\n",
              "\n",
              "    .dataframe tbody tr th {\n",
              "        vertical-align: top;\n",
              "    }\n",
              "\n",
              "    .dataframe thead th {\n",
              "        text-align: right;\n",
              "    }\n",
              "</style>\n",
              "<table border=\"1\" class=\"dataframe\">\n",
              "  <thead>\n",
              "    <tr style=\"text-align: right;\">\n",
              "      <th></th>\n",
              "      <th></th>\n",
              "      <th>country_by_ip_address</th>\n",
              "      <th>region_by_ip_address</th>\n",
              "    </tr>\n",
              "    <tr>\n",
              "      <th>labels</th>\n",
              "      <th>visitor_recognition_type</th>\n",
              "      <th></th>\n",
              "      <th></th>\n",
              "    </tr>\n",
              "  </thead>\n",
              "  <tbody>\n",
              "    <tr>\n",
              "      <th rowspan=\"3\" valign=\"top\">HT</th>\n",
              "      <th>ANONYMOUS</th>\n",
              "      <td>4781</td>\n",
              "      <td>4781</td>\n",
              "    </tr>\n",
              "    <tr>\n",
              "      <th>LOGGEDIN</th>\n",
              "      <td>701</td>\n",
              "      <td>701</td>\n",
              "    </tr>\n",
              "    <tr>\n",
              "      <th>RECOGNIZED</th>\n",
              "      <td>2617</td>\n",
              "      <td>2617</td>\n",
              "    </tr>\n",
              "    <tr>\n",
              "      <th>NHT</th>\n",
              "      <th>ANONYMOUS</th>\n",
              "      <td>4338</td>\n",
              "      <td>4338</td>\n",
              "    </tr>\n",
              "  </tbody>\n",
              "</table>\n",
              "</div>"
            ],
            "text/plain": [
              "                                 country_by_ip_address  region_by_ip_address\n",
              "labels visitor_recognition_type                                             \n",
              "HT     ANONYMOUS                                  4781                  4781\n",
              "       LOGGEDIN                                    701                   701\n",
              "       RECOGNIZED                                 2617                  2617\n",
              "NHT    ANONYMOUS                                  4338                  4338"
            ]
          },
          "metadata": {
            "tags": []
          },
          "execution_count": 67
        }
      ]
    },
    {
      "cell_type": "markdown",
      "metadata": {
        "id": "qZgyIADOZ0qJ",
        "colab_type": "text"
      },
      "source": [
        "\n",
        "one thing is for sure that all NHT is in ANONYMOUS category as seen above."
      ]
    },
    {
      "cell_type": "code",
      "metadata": {
        "id": "8oC1cgqEZ0qK",
        "colab_type": "code",
        "colab": {}
      },
      "source": [
        "#df_foi.groupby(['labels', 'country_by_ip_address']).count()"
      ],
      "execution_count": 0,
      "outputs": []
    },
    {
      "cell_type": "markdown",
      "metadata": {
        "id": "2hJFzs2UZ0qL",
        "colab_type": "text"
      },
      "source": [
        "# 4)- Saving file for future use\n"
      ]
    },
    {
      "cell_type": "markdown",
      "metadata": {
        "id": "Wl86DerhZ0qM",
        "colab_type": "text"
      },
      "source": [
        "**Save file as pickle for binary classification**"
      ]
    },
    {
      "cell_type": "code",
      "metadata": {
        "colab_type": "code",
        "id": "PceEFXwks298",
        "colab": {}
      },
      "source": [
        "df_foi.to_pickle('clickdata.pkl')"
      ],
      "execution_count": 0,
      "outputs": []
    }
  ]
}