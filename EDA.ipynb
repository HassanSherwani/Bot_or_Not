{
  "nbformat": 4,
  "nbformat_minor": 0,
  "metadata": {
    "colab": {
      "name": "EDA.ipynb",
      "version": "0.3.2",
      "provenance": [],
      "collapsed_sections": []
    },
    "kernelspec": {
      "name": "python3",
      "display_name": "Python 3"
    },
    "accelerator": "GPU"
  },
  "cells": [
    {
      "cell_type": "markdown",
      "metadata": {
        "id": "zfSWyFCgeA12",
        "colab_type": "text"
      },
      "source": [
        "# Problem Statement\n",
        "\n",
        "Build an optimal model that can help us identify bot traffic coming  from search engines (NHT-search), other bot traffic (NHT-other) and human traffic (HT)."
      ]
    },
    {
      "cell_type": "markdown",
      "metadata": {
        "id": "znXnOA8IeGF3",
        "colab_type": "text"
      },
      "source": [
        "# Importing key modules"
      ]
    },
    {
      "cell_type": "code",
      "metadata": {
        "id": "qlTOkyBUeFQ6",
        "colab_type": "code",
        "colab": {}
      },
      "source": [
        "#support both Python 2 and Python 3 with minimal overhead.\n",
        "from __future__ import absolute_import, division, print_function"
      ],
      "execution_count": 0,
      "outputs": []
    },
    {
      "cell_type": "code",
      "metadata": {
        "id": "_wT3rQyQeISZ",
        "colab_type": "code",
        "colab": {}
      },
      "source": [
        "# I am an engineer. I care only about error not warning. So, let's be maverick and ignore warnings.\n",
        "import warnings\n",
        "warnings.filterwarnings('ignore')"
      ],
      "execution_count": 0,
      "outputs": []
    },
    {
      "cell_type": "code",
      "metadata": {
        "id": "PmaYA_4deKGL",
        "colab_type": "code",
        "colab": {}
      },
      "source": [
        "# For processing and maths\n",
        "import numpy as np\n",
        "import pandas as pd\n",
        "import re\n",
        "import requests\n",
        "import pickle"
      ],
      "execution_count": 0,
      "outputs": []
    },
    {
      "cell_type": "code",
      "metadata": {
        "id": "RJOw_xPQeL9X",
        "colab_type": "code",
        "colab": {
          "base_uri": "https://localhost:8080/",
          "height": 34
        },
        "outputId": "fb7df19f-7a75-4b3f-e72b-c97d940f55cd"
      },
      "source": [
        "#For Visuals\n",
        "import matplotlib.pyplot as plt\n",
        "import seaborn as sns\n",
        "sns.set()\n",
        "from matplotlib import rcParams\n",
        "rcParams['figure.figsize'] = 11, 8\n",
        "%config InlineBackend.figure_format = 'svg'\n",
        "%matplotlib inline\n",
        "%pylab inline"
      ],
      "execution_count": 4,
      "outputs": [
        {
          "output_type": "stream",
          "text": [
            "Populating the interactive namespace from numpy and matplotlib\n"
          ],
          "name": "stdout"
        }
      ]
    },
    {
      "cell_type": "markdown",
      "metadata": {
        "id": "mA9aE7ZGeYbb",
        "colab_type": "text"
      },
      "source": [
        "# 2)-Loading datasets "
      ]
    },
    {
      "cell_type": "code",
      "metadata": {
        "id": "nptwi6qpeX4-",
        "colab_type": "code",
        "colab": {
          "base_uri": "https://localhost:8080/",
          "height": 34
        },
        "outputId": "6eca7ceb-4c60-46ec-83b5-c7f55b0b838d"
      },
      "source": [
        "df_bol =pd.read_csv('clickdata.csv')\n",
        "df_bol.shape"
      ],
      "execution_count": 5,
      "outputs": [
        {
          "output_type": "execute_result",
          "data": {
            "text/plain": [
              "(59782, 8)"
            ]
          },
          "metadata": {
            "tags": []
          },
          "execution_count": 5
        }
      ]
    },
    {
      "cell_type": "code",
      "metadata": {
        "id": "6nz1p0HNebKz",
        "colab_type": "code",
        "colab": {
          "base_uri": "https://localhost:8080/",
          "height": 101
        },
        "outputId": "801059eb-3c09-4df8-a549-042ae7bd66a0"
      },
      "source": [
        "df_bol.columns"
      ],
      "execution_count": 6,
      "outputs": [
        {
          "output_type": "execute_result",
          "data": {
            "text/plain": [
              "Index(['epoch_ms', 'session_id', 'country_by_ip_address',\n",
              "       'region_by_ip_address', 'url_without_parameters',\n",
              "       'referrer_without_parameters', 'visitor_recognition_type',\n",
              "       'ua_agent_class'],\n",
              "      dtype='object')"
            ]
          },
          "metadata": {
            "tags": []
          },
          "execution_count": 6
        }
      ]
    },
    {
      "cell_type": "code",
      "metadata": {
        "id": "jD1utT_xebQy",
        "colab_type": "code",
        "colab": {
          "base_uri": "https://localhost:8080/",
          "height": 299
        },
        "outputId": "65968eae-5ac6-452f-822f-29b7a203a9a7"
      },
      "source": [
        "df_bol.head()"
      ],
      "execution_count": 7,
      "outputs": [
        {
          "output_type": "execute_result",
          "data": {
            "text/html": [
              "<div>\n",
              "<style scoped>\n",
              "    .dataframe tbody tr th:only-of-type {\n",
              "        vertical-align: middle;\n",
              "    }\n",
              "\n",
              "    .dataframe tbody tr th {\n",
              "        vertical-align: top;\n",
              "    }\n",
              "\n",
              "    .dataframe thead th {\n",
              "        text-align: right;\n",
              "    }\n",
              "</style>\n",
              "<table border=\"1\" class=\"dataframe\">\n",
              "  <thead>\n",
              "    <tr style=\"text-align: right;\">\n",
              "      <th></th>\n",
              "      <th>epoch_ms</th>\n",
              "      <th>session_id</th>\n",
              "      <th>country_by_ip_address</th>\n",
              "      <th>region_by_ip_address</th>\n",
              "      <th>url_without_parameters</th>\n",
              "      <th>referrer_without_parameters</th>\n",
              "      <th>visitor_recognition_type</th>\n",
              "      <th>ua_agent_class</th>\n",
              "    </tr>\n",
              "  </thead>\n",
              "  <tbody>\n",
              "    <tr>\n",
              "      <th>0</th>\n",
              "      <td>1520280001034</td>\n",
              "      <td>be73c8d1b836170a21529a1b23140f8e</td>\n",
              "      <td>US</td>\n",
              "      <td>CA</td>\n",
              "      <td>https://www.bol.com/nl/l/nederlandstalige-kuns...</td>\n",
              "      <td>NaN</td>\n",
              "      <td>ANONYMOUS</td>\n",
              "      <td>Robot</td>\n",
              "    </tr>\n",
              "    <tr>\n",
              "      <th>1</th>\n",
              "      <td>1520280001590</td>\n",
              "      <td>c24c6637ed7dcbe19ad64056184212a7</td>\n",
              "      <td>US</td>\n",
              "      <td>CA</td>\n",
              "      <td>https://www.bol.com/nl/l/italiaans-natuur-wete...</td>\n",
              "      <td>NaN</td>\n",
              "      <td>ANONYMOUS</td>\n",
              "      <td>Robot</td>\n",
              "    </tr>\n",
              "    <tr>\n",
              "      <th>2</th>\n",
              "      <td>1520280002397</td>\n",
              "      <td>ee391655f5680a7bfae0019450aed396</td>\n",
              "      <td>IT</td>\n",
              "      <td>LI</td>\n",
              "      <td>https://www.bol.com/nl/p/nespresso-magimix-ini...</td>\n",
              "      <td>https://www.bol.com/nl/p/nespresso-magimix-ini...</td>\n",
              "      <td>ANONYMOUS</td>\n",
              "      <td>Browser</td>\n",
              "    </tr>\n",
              "    <tr>\n",
              "      <th>3</th>\n",
              "      <td>1520280002598</td>\n",
              "      <td>f8c8a696dd37ca88233b2df096afa97f</td>\n",
              "      <td>US</td>\n",
              "      <td>CA</td>\n",
              "      <td>https://www.bol.com/nl/l/nieuwe-engelstalige-o...</td>\n",
              "      <td>NaN</td>\n",
              "      <td>ANONYMOUS</td>\n",
              "      <td>Robot</td>\n",
              "    </tr>\n",
              "    <tr>\n",
              "      <th>4</th>\n",
              "      <td>1520280004428</td>\n",
              "      <td>f8b0c06747b7dd1d53c0932306bd04d6</td>\n",
              "      <td>US</td>\n",
              "      <td>CA</td>\n",
              "      <td>https://www.bol.com/nl/l/nieuwe-actie-avontuur...</td>\n",
              "      <td>NaN</td>\n",
              "      <td>ANONYMOUS</td>\n",
              "      <td>Robot Mobile</td>\n",
              "    </tr>\n",
              "  </tbody>\n",
              "</table>\n",
              "</div>"
            ],
            "text/plain": [
              "        epoch_ms  ... ua_agent_class\n",
              "0  1520280001034  ...          Robot\n",
              "1  1520280001590  ...          Robot\n",
              "2  1520280002397  ...        Browser\n",
              "3  1520280002598  ...          Robot\n",
              "4  1520280004428  ...   Robot Mobile\n",
              "\n",
              "[5 rows x 8 columns]"
            ]
          },
          "metadata": {
            "tags": []
          },
          "execution_count": 7
        }
      ]
    },
    {
      "cell_type": "code",
      "metadata": {
        "id": "oIgmJhYEebUK",
        "colab_type": "code",
        "colab": {
          "base_uri": "https://localhost:8080/",
          "height": 299
        },
        "outputId": "34b8695c-8883-446c-cac3-603b8824c650"
      },
      "source": [
        "df_bol.tail()"
      ],
      "execution_count": 8,
      "outputs": [
        {
          "output_type": "execute_result",
          "data": {
            "text/html": [
              "<div>\n",
              "<style scoped>\n",
              "    .dataframe tbody tr th:only-of-type {\n",
              "        vertical-align: middle;\n",
              "    }\n",
              "\n",
              "    .dataframe tbody tr th {\n",
              "        vertical-align: top;\n",
              "    }\n",
              "\n",
              "    .dataframe thead th {\n",
              "        text-align: right;\n",
              "    }\n",
              "</style>\n",
              "<table border=\"1\" class=\"dataframe\">\n",
              "  <thead>\n",
              "    <tr style=\"text-align: right;\">\n",
              "      <th></th>\n",
              "      <th>epoch_ms</th>\n",
              "      <th>session_id</th>\n",
              "      <th>country_by_ip_address</th>\n",
              "      <th>region_by_ip_address</th>\n",
              "      <th>url_without_parameters</th>\n",
              "      <th>referrer_without_parameters</th>\n",
              "      <th>visitor_recognition_type</th>\n",
              "      <th>ua_agent_class</th>\n",
              "    </tr>\n",
              "  </thead>\n",
              "  <tbody>\n",
              "    <tr>\n",
              "      <th>59777</th>\n",
              "      <td>1520287193332</td>\n",
              "      <td>6a98ec825aa0ccdc2aefb0d02f291cde</td>\n",
              "      <td>NL</td>\n",
              "      <td>NH</td>\n",
              "      <td>https://www.bol.com/nl/p/gladskin-rosacea-gel-...</td>\n",
              "      <td>NaN</td>\n",
              "      <td>RECOGNIZED</td>\n",
              "      <td>Browser</td>\n",
              "    </tr>\n",
              "    <tr>\n",
              "      <th>59778</th>\n",
              "      <td>1520287193930</td>\n",
              "      <td>70664825c07eeb2af81c77e7ef6f7493</td>\n",
              "      <td>US</td>\n",
              "      <td>CA</td>\n",
              "      <td>https://www.bol.com/nl/p/homedecoration-toront...</td>\n",
              "      <td>NaN</td>\n",
              "      <td>ANONYMOUS</td>\n",
              "      <td>Robot</td>\n",
              "    </tr>\n",
              "    <tr>\n",
              "      <th>59779</th>\n",
              "      <td>1520287196302</td>\n",
              "      <td>99935d53a2f5d6e95adaecba3ec288e6</td>\n",
              "      <td>US</td>\n",
              "      <td>CA</td>\n",
              "      <td>https://www.bol.com/nl/l/witte-nike-sportshirt...</td>\n",
              "      <td>NaN</td>\n",
              "      <td>ANONYMOUS</td>\n",
              "      <td>Robot</td>\n",
              "    </tr>\n",
              "    <tr>\n",
              "      <th>59780</th>\n",
              "      <td>1520287197700</td>\n",
              "      <td>0bff91927029f6402eff065680b0d8d8</td>\n",
              "      <td>US</td>\n",
              "      <td>CA</td>\n",
              "      <td>https://www.bol.com/nl/l/gadgetbay-randapparat...</td>\n",
              "      <td>NaN</td>\n",
              "      <td>ANONYMOUS</td>\n",
              "      <td>Robot</td>\n",
              "    </tr>\n",
              "    <tr>\n",
              "      <th>59781</th>\n",
              "      <td>1520287199048</td>\n",
              "      <td>01201ebb918c64ea4dabdabdfbcbd1b0</td>\n",
              "      <td>NL</td>\n",
              "      <td>NaN</td>\n",
              "      <td>https://www.bol.com/nl/p/hp-z3700-draadloze-mu...</td>\n",
              "      <td>NaN</td>\n",
              "      <td>ANONYMOUS</td>\n",
              "      <td>Browser</td>\n",
              "    </tr>\n",
              "  </tbody>\n",
              "</table>\n",
              "</div>"
            ],
            "text/plain": [
              "            epoch_ms  ... ua_agent_class\n",
              "59777  1520287193332  ...        Browser\n",
              "59778  1520287193930  ...          Robot\n",
              "59779  1520287196302  ...          Robot\n",
              "59780  1520287197700  ...          Robot\n",
              "59781  1520287199048  ...        Browser\n",
              "\n",
              "[5 rows x 8 columns]"
            ]
          },
          "metadata": {
            "tags": []
          },
          "execution_count": 8
        }
      ]
    },
    {
      "cell_type": "markdown",
      "metadata": {
        "id": "XQHFnIwEmegJ",
        "colab_type": "text"
      },
      "source": [
        "# 3)-Data Exploring"
      ]
    },
    {
      "cell_type": "markdown",
      "metadata": {
        "id": "jw8r6BQLmp6p",
        "colab_type": "text"
      },
      "source": [
        "### 3.1)- Checking data-type"
      ]
    },
    {
      "cell_type": "code",
      "metadata": {
        "id": "Yg5ct34KmqSv",
        "colab_type": "code",
        "colab": {
          "base_uri": "https://localhost:8080/",
          "height": 284
        },
        "outputId": "e963937e-c643-4afe-ad45-e82fc6c8215d"
      },
      "source": [
        "# Checking all variables with their data-type\n",
        "def _tbl_dtype(dataset):\n",
        "    sum_dtype = pd.DataFrame(dataset.dtypes).sort_values(0).rename(columns = {0:'Data Type'})\n",
        "    return sum_dtype\n",
        "\n",
        "table_dtype = _tbl_dtype(df_bol)\n",
        "table_dtype"
      ],
      "execution_count": 9,
      "outputs": [
        {
          "output_type": "execute_result",
          "data": {
            "text/html": [
              "<div>\n",
              "<style scoped>\n",
              "    .dataframe tbody tr th:only-of-type {\n",
              "        vertical-align: middle;\n",
              "    }\n",
              "\n",
              "    .dataframe tbody tr th {\n",
              "        vertical-align: top;\n",
              "    }\n",
              "\n",
              "    .dataframe thead th {\n",
              "        text-align: right;\n",
              "    }\n",
              "</style>\n",
              "<table border=\"1\" class=\"dataframe\">\n",
              "  <thead>\n",
              "    <tr style=\"text-align: right;\">\n",
              "      <th></th>\n",
              "      <th>Data Type</th>\n",
              "    </tr>\n",
              "  </thead>\n",
              "  <tbody>\n",
              "    <tr>\n",
              "      <th>epoch_ms</th>\n",
              "      <td>int64</td>\n",
              "    </tr>\n",
              "    <tr>\n",
              "      <th>session_id</th>\n",
              "      <td>object</td>\n",
              "    </tr>\n",
              "    <tr>\n",
              "      <th>country_by_ip_address</th>\n",
              "      <td>object</td>\n",
              "    </tr>\n",
              "    <tr>\n",
              "      <th>region_by_ip_address</th>\n",
              "      <td>object</td>\n",
              "    </tr>\n",
              "    <tr>\n",
              "      <th>url_without_parameters</th>\n",
              "      <td>object</td>\n",
              "    </tr>\n",
              "    <tr>\n",
              "      <th>referrer_without_parameters</th>\n",
              "      <td>object</td>\n",
              "    </tr>\n",
              "    <tr>\n",
              "      <th>visitor_recognition_type</th>\n",
              "      <td>object</td>\n",
              "    </tr>\n",
              "    <tr>\n",
              "      <th>ua_agent_class</th>\n",
              "      <td>object</td>\n",
              "    </tr>\n",
              "  </tbody>\n",
              "</table>\n",
              "</div>"
            ],
            "text/plain": [
              "                            Data Type\n",
              "epoch_ms                        int64\n",
              "session_id                     object\n",
              "country_by_ip_address          object\n",
              "region_by_ip_address           object\n",
              "url_without_parameters         object\n",
              "referrer_without_parameters    object\n",
              "visitor_recognition_type       object\n",
              "ua_agent_class                 object"
            ]
          },
          "metadata": {
            "tags": []
          },
          "execution_count": 9
        }
      ]
    },
    {
      "cell_type": "markdown",
      "metadata": {
        "id": "ihuSrOWymi3q",
        "colab_type": "text"
      },
      "source": [
        "### 3.2)- Checking missing values"
      ]
    },
    {
      "cell_type": "code",
      "metadata": {
        "id": "3BIaAHLgmSKC",
        "colab_type": "code",
        "colab": {}
      },
      "source": [
        "def summary_missing(dataset):\n",
        "    n_miss = dataset.isnull().sum()\n",
        "    n_obs = dataset.shape[0]\n",
        "    n_miss_per = n_miss/n_obs*100\n",
        "    n_miss_tbl = pd.concat([n_miss, n_miss_per], axis = 1).sort_values(1, ascending = False).round(1)\n",
        "    n_miss_tbl = n_miss_tbl[n_miss_tbl[1] != 0]\n",
        "    print('No. of fields: ', dataset.shape[0])\n",
        "    print('No. of missing fields: ', n_miss_tbl.shape[0])\n",
        "    n_miss_tbl = n_miss_tbl.rename(columns = {0:'No. of mising Value', 1:'%age of missing Value'})\n",
        "    return n_miss_tbl"
      ],
      "execution_count": 0,
      "outputs": []
    },
    {
      "cell_type": "code",
      "metadata": {
        "id": "c9FpjOeamSM3",
        "colab_type": "code",
        "colab": {
          "base_uri": "https://localhost:8080/",
          "height": 170
        },
        "outputId": "2ec4fb91-6389-4091-8d79-0bc7329496ba"
      },
      "source": [
        "summary_missing(df_bol)"
      ],
      "execution_count": 11,
      "outputs": [
        {
          "output_type": "stream",
          "text": [
            "No. of fields:  59782\n",
            "No. of missing fields:  3\n"
          ],
          "name": "stdout"
        },
        {
          "output_type": "execute_result",
          "data": {
            "text/html": [
              "<div>\n",
              "<style scoped>\n",
              "    .dataframe tbody tr th:only-of-type {\n",
              "        vertical-align: middle;\n",
              "    }\n",
              "\n",
              "    .dataframe tbody tr th {\n",
              "        vertical-align: top;\n",
              "    }\n",
              "\n",
              "    .dataframe thead th {\n",
              "        text-align: right;\n",
              "    }\n",
              "</style>\n",
              "<table border=\"1\" class=\"dataframe\">\n",
              "  <thead>\n",
              "    <tr style=\"text-align: right;\">\n",
              "      <th></th>\n",
              "      <th>No. of mising Value</th>\n",
              "      <th>%age of missing Value</th>\n",
              "    </tr>\n",
              "  </thead>\n",
              "  <tbody>\n",
              "    <tr>\n",
              "      <th>referrer_without_parameters</th>\n",
              "      <td>44778</td>\n",
              "      <td>74.9</td>\n",
              "    </tr>\n",
              "    <tr>\n",
              "      <th>region_by_ip_address</th>\n",
              "      <td>9896</td>\n",
              "      <td>16.6</td>\n",
              "    </tr>\n",
              "    <tr>\n",
              "      <th>country_by_ip_address</th>\n",
              "      <td>248</td>\n",
              "      <td>0.4</td>\n",
              "    </tr>\n",
              "  </tbody>\n",
              "</table>\n",
              "</div>"
            ],
            "text/plain": [
              "                             No. of mising Value  %age of missing Value\n",
              "referrer_without_parameters                44778                   74.9\n",
              "region_by_ip_address                        9896                   16.6\n",
              "country_by_ip_address                        248                    0.4"
            ]
          },
          "metadata": {
            "tags": []
          },
          "execution_count": 11
        }
      ]
    },
    {
      "cell_type": "code",
      "metadata": {
        "id": "VrNrLAyJmSPf",
        "colab_type": "code",
        "colab": {
          "base_uri": "https://localhost:8080/",
          "height": 1000
        },
        "outputId": "bd5cd05d-eaa0-4bbe-c897-edfebdba9c4b"
      },
      "source": [
        "# checking each feature one by one starting with \"referrer_without_parameters\"\n",
        "\n",
        "df_bol['referrer_without_parameters'].value_counts(dropna=False)"
      ],
      "execution_count": 12,
      "outputs": [
        {
          "output_type": "execute_result",
          "data": {
            "text/plain": [
              "NaN                                                                                                                                                                   44778\n",
              "https://www.bol.com/nl/s/algemeen/zoekresultaten/sc/media_all/index.html                                                                                                693\n",
              "https://www.bol.com/nl/chckout/checkout.html                                                                                                                            396\n",
              "https://www.bol.com/nl/m/voordeel/sale-solden/index.html                                                                                                                215\n",
              "https://www.bol.com/nl/s/algemeen/zoekresultaten/index.html                                                                                                             173\n",
              "https://www.bol.com/nl/s/elektronica/zoekresultaten/N/3136/sc/s_elec_all/index.html                                                                                     159\n",
              "https://www.bol.com/nl/s/wonen/zoekresultaten/N/14035/sc/las_all/index.html                                                                                              89\n",
              "https://www.bol.com/nl/l/rugzakken/N/20701/                                                                                                                              89\n",
              "https://www.bol.com/nl/s/boeken/zoekresultaten/N/8299/sc/books_all/index.html                                                                                            67\n",
              "https://www.bol.com/nl/s/speelgoed/zoekresultaten/N/7934/sc/toys_all/index.html                                                                                          66\n",
              "https://www.bol.com/nl/s/dvd/zoekresultaten/N/3133/sc/dvd_all/index.html                                                                                                 66\n",
              "https://www.bol.com/nl/checkout/paid.html                                                                                                                                63\n",
              "https://www.bol.com/nl/ra/algemeen/topdeals/23708/N/22560+11211+10655/index.html                                                                                         59\n",
              "https://www.bol.com/nl/account/login.html                                                                                                                                59\n",
              "https://www.bol.com/nl/ra/boeken/tot-70-korting-op-ebooks/38499/N/8299+22561+10655/index.html                                                                            58\n",
              "https://www.bol.com/nl/l/plantenbakken/N/13140/                                                                                                                          57\n",
              "https://www.bol.com/nl/catalog/product-recommendations.html                                                                                                              51\n",
              "https://www.bol.com/nl/s/elektronica/zoekresultaten/N/4034/index.html                                                                                                    51\n",
              "https://www.bol.com/nl/s/mooi-gezond/zoekresultaten/N/12382/sc/bph_all/index.html                                                                                        50\n",
              "https://www.bol.com/nl/l/portemonnees-heren/N/16813+4280405483/                                                                                                          48\n",
              "https://www.bol.com/nl/l/vogelwinkel/N/22258/                                                                                                                            48\n",
              "https://www.bol.com/nl/                                                                                                                                                  44\n",
              "https://www.bol.com/nl/ra/sport-vrije-tijd/korting-op-sportartikelen/38336/N/14648+22562+10655/index.html                                                                44\n",
              "https://www.bol.com/nl/ra/dvd/3-voor-25-op-diverse-dvd-s-en-blu-rays/28040/N/3133+22560+10655/filter_N/7929+30290/index.html                                             41\n",
              "https://www.bol.com/nl/l/badspeelgoed/N/10486/                                                                                                                           40\n",
              "https://www.bol.com/nl/s/muziek/zoekresultaten/N/3132/sc/music_all/index.html                                                                                            40\n",
              "https://www.bol.com/nl/m/sale-solden/index.html                                                                                                                          39\n",
              "https://www.bol.com/nl/s/elektronica/zoekresultaten/N/4034/sc/media_all/index.html                                                                                       35\n",
              "https://www.bol.com/nl/l/babykameraccessoires/N/11305/                                                                                                                   34\n",
              "https://www.bol.com/nl/l/strandtassen/N/32054/                                                                                                                           34\n",
              "                                                                                                                                                                      ...  \n",
              "https://www.bol.com/nl/ra/hoge-korting-op-tuin-en-klus-artikelen/38369/                                                                                                   1\n",
              "https://www.bol.com/nl/p/flying-balloon-print-wallet-case-hoesje-samsung-galaxy-j5-2015/9200000050668248/                                                                 1\n",
              "https://www.bol.com/nl/p/puur-zoet/9200000085089948/                                                                                                                      1\n",
              "https://www.bol.com/nl/l/feelgoodromans-beschikbaar-in-kobo-plus/N/24412+27989/                                                                                           1\n",
              "https://www.bol.com/nl/l/overzetzonnebrillen-heren-zonnebril/N/16822/filter_N/4282733744+4280428929+4280405483/                                                           1\n",
              "https://www.bol.com/nl/p/peltor-gehoorbescherming-kid-groen/9200000011114386/                                                                                             1\n",
              "https://www.bol.com/nl/p/symmetry-samsung-galaxy-s8-pear-pink/9200000074216717/                                                                                           1\n",
              "https://www.bol.com/nl/l/boeken/gezondheid-psychologie-dieet-voeding/N/1976/filter_N/26735/index.html                                                                     1\n",
              "https://www.bol.com/nl/l/tv-beugels/N/7296/                                                                                                                               1\n",
              "https://www.bol.com/nl/p/beaphar-egelvoer-1-kg/9200000010933038/                                                                                                          1\n",
              "https://www.bol.com/nl/l/dubbele-fietstas-achter/N/17987/filter_N/4284177715+4284177647+4277361620/                                                                       1\n",
              "https://www.bol.com/nl/p/the-ashley-book-of-knots/1001004001071163/                                                                                                       1\n",
              "https://www.bol.com/nl/p/amt-gastroguss-vispan-41-cm/9200000065917652/                                                                                                    1\n",
              "https://www.bol.com/nl/p/vidaxl-staande-speelgoedkaptafel-met-3-spiegels-licht-geluid-voor-kinderen-kinderkamer/9200000072867825/                                         1\n",
              "https://www.bol.com/nl/p/sony-wi-1000x-draadloze-oordopjes-met-nekband-noise-cancelling-goud/9200000081284262/                                                            1\n",
              "https://www.bol.com/nl/p/nivea-sun-bronze-after-sun-lotion-200-ml/9200000040096492/                                                                                       1\n",
              "https://www.bol.com/nl/l/mooi-gezond/bondage/N/20541/suggestionType/category/suggestedFor/bond/originalSearchContext/bph_all/originalSection/bph/index.html               1\n",
              "https://www.bol.com/nl/p/basil-tour-xl-dubbele-fietstas-40-l-zwart/9200000017121100/                                                                                      1\n",
              "https://www.bol.com/nl/ra/sport-vrije-tijd/korting-op-sportartikelen/38336/N/17540+22562+10655/filter_N/17305+4280405477/index.html                                       1\n",
              "https://www.bol.com/nl/l/fritel-friteuses-5-tot-10-liter-dubbele-frituurpan-2-binnenpannen/N/10789+4288883768+4274765674+10932/                                           1\n",
              "https://www.bol.com/nl/p/msi-gp62m-7rdx-1264be-gaming-laptop-15-6-inch-azerty/9200000079608108/                                                                           1\n",
              "https://www.bol.com/nl/p/fault-in-our-stars/9200000004735901/                                                                                                             1\n",
              "https://www.bol.com/nl/s/algemeen/zoekresultaten/filter_N/8105+4277744850+4275981109+4278737617/sc/media_all/index.html                                                   1\n",
              "https://www.bol.com/nl/s/boeken/zoekresultaten/N/8299/filter_N/1426/sc/books_all/index.html                                                                               1\n",
              "https://www.bol.com/nl/p/mt-deals-in-ear-oordopjes-voor-iphone/9200000072743201/                                                                                          1\n",
              "https://www.bol.com/nl/l/dier/kattenbakvulling/N/12871/suggestionType/category/suggestedFor/katten/originalSearchContext/media_all/originalSection/main/index.html        1\n",
              "https://www.bol.com/nl/p/vidaxl-dubbelstaafmat-2008-x-1830-mm-20-m-grijs-10-stuks/9200000073988108/                                                                       1\n",
              "https://www.bol.com/nl/s/baby/zoekresultaten-pampers/N/11306/filter_N/4287867400/sc/baby_all/index.html                                                                   1\n",
              "https://www.kieskeurig.nl/fietskar/hondenfietskar                                                                                                                         1\n",
              "https://www.bol.com/nl/l/badjassen/N/21141/filter_N/17305/                                                                                                                1\n",
              "Name: referrer_without_parameters, Length: 6203, dtype: int64"
            ]
          },
          "metadata": {
            "tags": []
          },
          "execution_count": 12
        }
      ]
    },
    {
      "cell_type": "code",
      "metadata": {
        "id": "LKnqhd_Wo7w6",
        "colab_type": "code",
        "colab": {
          "base_uri": "https://localhost:8080/",
          "height": 1000
        },
        "outputId": "6dc65803-00dc-4984-f36a-dbd550b2f548"
      },
      "source": [
        "df_bol['country_by_ip_address'].value_counts(dropna=False)"
      ],
      "execution_count": 13,
      "outputs": [
        {
          "output_type": "execute_result",
          "data": {
            "text/plain": [
              "NL     25673\n",
              "US     22780\n",
              "BE      7409\n",
              "GB      1185\n",
              "DE       616\n",
              "FR       348\n",
              "NaN      248\n",
              "CN       236\n",
              "UA       192\n",
              "RU       105\n",
              "ES        90\n",
              "IE        89\n",
              "PL        81\n",
              "JP        80\n",
              "IT        74\n",
              "CA        65\n",
              "PT        62\n",
              "CH        42\n",
              "NZ        35\n",
              "GR        30\n",
              "QA        29\n",
              "SE        26\n",
              "BR        23\n",
              "BD        21\n",
              "ID        16\n",
              "TR        16\n",
              "AU        15\n",
              "HU        14\n",
              "IR        14\n",
              "AT        13\n",
              "       ...  \n",
              "CZ         8\n",
              "TH         8\n",
              "BG         7\n",
              "DK         7\n",
              "SR         6\n",
              "MK         5\n",
              "PK         5\n",
              "MD         4\n",
              "VN         4\n",
              "GH         4\n",
              "LV         4\n",
              "AL         3\n",
              "LT         3\n",
              "KR         3\n",
              "ZA         3\n",
              "PY         2\n",
              "SO         2\n",
              "AM         2\n",
              "MA         2\n",
              "KG         1\n",
              "DO         1\n",
              "MX         1\n",
              "LU         1\n",
              "AR         1\n",
              "BO         1\n",
              "IL         1\n",
              "MN         1\n",
              "MC         1\n",
              "CW         1\n",
              "SK         1\n",
              "Name: country_by_ip_address, Length: 66, dtype: int64"
            ]
          },
          "metadata": {
            "tags": []
          },
          "execution_count": 13
        }
      ]
    },
    {
      "cell_type": "code",
      "metadata": {
        "id": "o7iVont1mSSC",
        "colab_type": "code",
        "colab": {
          "base_uri": "https://localhost:8080/",
          "height": 1000
        },
        "outputId": "b539b379-4c30-4181-d9ca-bcb6ce4cedb3"
      },
      "source": [
        "df_bol['region_by_ip_address'].value_counts(dropna=False)"
      ],
      "execution_count": 14,
      "outputs": [
        {
          "output_type": "execute_result",
          "data": {
            "text/plain": [
              "CA     20662\n",
              "NaN     9896\n",
              "NH      4320\n",
              "ZH      4160\n",
              "VAN     2239\n",
              "NB      2112\n",
              "GE      1950\n",
              "UT      1586\n",
              "VOV     1333\n",
              "OV      1055\n",
              "VWV      821\n",
              "ENG      736\n",
              "VLI      730\n",
              "LI       707\n",
              "BRU      699\n",
              "OK       682\n",
              "GR       571\n",
              "FL       533\n",
              "VBR      528\n",
              "FR       480\n",
              "DR       436\n",
              "ZE       356\n",
              "BJ       234\n",
              "NY       229\n",
              "VA       203\n",
              "WA       137\n",
              "BOL      122\n",
              "30       104\n",
              "NJ        90\n",
              "11        74\n",
              "       ...  \n",
              "GI         1\n",
              "WLX        1\n",
              "20         1\n",
              "CE         1\n",
              "VD         1\n",
              "29         1\n",
              "CMX        1\n",
              "CAS        1\n",
              "1          1\n",
              "AM         1\n",
              "ME         1\n",
              "ENF        1\n",
              "GB         1\n",
              "15         1\n",
              "UP         1\n",
              "33         1\n",
              "ID         1\n",
              "VI         1\n",
              "TO         1\n",
              "06         1\n",
              "202        1\n",
              "86         1\n",
              "46         1\n",
              "531        1\n",
              "KHE        1\n",
              "50         1\n",
              "SLG        1\n",
              "209        1\n",
              "LEN        1\n",
              "O          1\n",
              "Name: region_by_ip_address, Length: 229, dtype: int64"
            ]
          },
          "metadata": {
            "tags": []
          },
          "execution_count": 14
        }
      ]
    },
    {
      "cell_type": "markdown",
      "metadata": {
        "id": "v7wFXFGkq-g7",
        "colab_type": "text"
      },
      "source": [
        "We could either remove these missing values or we might fill them with an \"entity\". If it were numerical data then I would add 0. As it is categorical data , we might add\"various\" or as training model suggests , we may also add ''. I will use same code as given"
      ]
    },
    {
      "cell_type": "code",
      "metadata": {
        "id": "5tRmQ-WeooAj",
        "colab_type": "code",
        "colab": {}
      },
      "source": [
        "df_bol.replace(np.nan, '', regex=True, inplace=True)\n",
        "df_bol.replace('Unknown', '', regex=True, inplace=True)"
      ],
      "execution_count": 0,
      "outputs": []
    },
    {
      "cell_type": "code",
      "metadata": {
        "id": "W1vhA5HrrxUZ",
        "colab_type": "code",
        "colab": {
          "base_uri": "https://localhost:8080/",
          "height": 81
        },
        "outputId": "a9b82515-c70f-48ab-e6d7-75f97fd2c2e4"
      },
      "source": [
        "summary_missing(df_bol)"
      ],
      "execution_count": 16,
      "outputs": [
        {
          "output_type": "stream",
          "text": [
            "No. of fields:  59782\n",
            "No. of missing fields:  0\n"
          ],
          "name": "stdout"
        },
        {
          "output_type": "execute_result",
          "data": {
            "text/html": [
              "<div>\n",
              "<style scoped>\n",
              "    .dataframe tbody tr th:only-of-type {\n",
              "        vertical-align: middle;\n",
              "    }\n",
              "\n",
              "    .dataframe tbody tr th {\n",
              "        vertical-align: top;\n",
              "    }\n",
              "\n",
              "    .dataframe thead th {\n",
              "        text-align: right;\n",
              "    }\n",
              "</style>\n",
              "<table border=\"1\" class=\"dataframe\">\n",
              "  <thead>\n",
              "    <tr style=\"text-align: right;\">\n",
              "      <th></th>\n",
              "      <th>No. of mising Value</th>\n",
              "      <th>%age of missing Value</th>\n",
              "    </tr>\n",
              "  </thead>\n",
              "  <tbody>\n",
              "  </tbody>\n",
              "</table>\n",
              "</div>"
            ],
            "text/plain": [
              "Empty DataFrame\n",
              "Columns: [No. of mising Value, %age of missing Value]\n",
              "Index: []"
            ]
          },
          "metadata": {
            "tags": []
          },
          "execution_count": 16
        }
      ]
    },
    {
      "cell_type": "markdown",
      "metadata": {
        "id": "pUercXsJvHXc",
        "colab_type": "text"
      },
      "source": [
        "Seems fine now"
      ]
    },
    {
      "cell_type": "markdown",
      "metadata": {
        "id": "ckyMNwRKbG4u",
        "colab_type": "text"
      },
      "source": [
        "### 3.3)-checking duplicate values"
      ]
    },
    {
      "cell_type": "code",
      "metadata": {
        "id": "erep1L9ybK5z",
        "colab_type": "code",
        "colab": {
          "base_uri": "https://localhost:8080/",
          "height": 34
        },
        "outputId": "2c07f429-ff00-4947-d9ec-029f416fe62f"
      },
      "source": [
        "print(df_bol.duplicated().sum())"
      ],
      "execution_count": 17,
      "outputs": [
        {
          "output_type": "stream",
          "text": [
            "0\n"
          ],
          "name": "stdout"
        }
      ]
    },
    {
      "cell_type": "markdown",
      "metadata": {
        "id": "_CAmQCSVvmM1",
        "colab_type": "text"
      },
      "source": [
        "### 3.4)- Checking categorical features"
      ]
    },
    {
      "cell_type": "code",
      "metadata": {
        "id": "-GS3DiT_vDie",
        "colab_type": "code",
        "colab": {
          "base_uri": "https://localhost:8080/",
          "height": 151
        },
        "outputId": "ee0714b1-6e2b-463b-b489-387d43fa1310"
      },
      "source": [
        "# Checking unique categorical variables\n",
        "df_bol.select_dtypes('object').apply(pd.Series.nunique, axis = 0)"
      ],
      "execution_count": 18,
      "outputs": [
        {
          "output_type": "execute_result",
          "data": {
            "text/plain": [
              "session_id                     30816\n",
              "country_by_ip_address             66\n",
              "region_by_ip_address             229\n",
              "url_without_parameters         40696\n",
              "referrer_without_parameters     6203\n",
              "visitor_recognition_type           3\n",
              "ua_agent_class                     8\n",
              "dtype: int64"
            ]
          },
          "metadata": {
            "tags": []
          },
          "execution_count": 18
        }
      ]
    },
    {
      "cell_type": "markdown",
      "metadata": {
        "id": "Po8D3C09v2Ka",
        "colab_type": "text"
      },
      "source": [
        "Our feature of interests are \"ua_agent\" being our independant feature, country_by_ip_address, region_by_ip_address and visitor_recognition_type."
      ]
    },
    {
      "cell_type": "code",
      "metadata": {
        "id": "nF5ZqECHvyH1",
        "colab_type": "code",
        "colab": {
          "base_uri": "https://localhost:8080/",
          "height": 34
        },
        "outputId": "57a2a3e9-3565-434f-a758-6dd7df2ea05c"
      },
      "source": [
        "# checking how many unique labels are in each feature\n",
        "df_bol['visitor_recognition_type'].unique()"
      ],
      "execution_count": 19,
      "outputs": [
        {
          "output_type": "execute_result",
          "data": {
            "text/plain": [
              "array(['ANONYMOUS', 'LOGGEDIN', 'RECOGNIZED'], dtype=object)"
            ]
          },
          "metadata": {
            "tags": []
          },
          "execution_count": 19
        }
      ]
    },
    {
      "cell_type": "code",
      "metadata": {
        "id": "7iqjaK1ywVQX",
        "colab_type": "code",
        "colab": {
          "base_uri": "https://localhost:8080/",
          "height": 84
        },
        "outputId": "43d4b39f-fd92-4d17-8175-0c112fbe3221"
      },
      "source": [
        "# how many times those labels classes occur\n",
        "df_bol['visitor_recognition_type'].value_counts()"
      ],
      "execution_count": 20,
      "outputs": [
        {
          "output_type": "execute_result",
          "data": {
            "text/plain": [
              "ANONYMOUS     43711\n",
              "RECOGNIZED    12589\n",
              "LOGGEDIN       3482\n",
              "Name: visitor_recognition_type, dtype: int64"
            ]
          },
          "metadata": {
            "tags": []
          },
          "execution_count": 20
        }
      ]
    },
    {
      "cell_type": "code",
      "metadata": {
        "id": "f8zFQqQXwmiu",
        "colab_type": "code",
        "colab": {
          "base_uri": "https://localhost:8080/",
          "height": 466
        },
        "outputId": "670be7e6-3e5f-41cb-e43b-a9df521e730d"
      },
      "source": [
        "df_bol['visitor_recognition_type'].value_counts().plot.bar()"
      ],
      "execution_count": 21,
      "outputs": [
        {
          "output_type": "execute_result",
          "data": {
            "text/plain": [
              "<matplotlib.axes._subplots.AxesSubplot at 0x7f27ac90fa90>"
            ]
          },
          "metadata": {
            "tags": []
          },
          "execution_count": 21
        },
        {
          "output_type": "display_data",
          "data": {
            "text/plain": [
              "<Figure size 432x288 with 1 Axes>"
            ],
            "image/svg+xml": "<?xml version=\"1.0\" encoding=\"utf-8\" standalone=\"no\"?>\n<!DOCTYPE svg PUBLIC \"-//W3C//DTD SVG 1.1//EN\"\n  \"http://www.w3.org/Graphics/SVG/1.1/DTD/svg11.dtd\">\n<!-- Created with matplotlib (https://matplotlib.org/) -->\n<svg height=\"321.227344pt\" version=\"1.1\" viewBox=\"0 0 399.69375 321.227344\" width=\"399.69375pt\" xmlns=\"http://www.w3.org/2000/svg\" xmlns:xlink=\"http://www.w3.org/1999/xlink\">\n <defs>\n  <style type=\"text/css\">\n*{stroke-linecap:butt;stroke-linejoin:round;}\n  </style>\n </defs>\n <g id=\"figure_1\">\n  <g id=\"patch_1\">\n   <path d=\"M 0 321.227344 \nL 399.69375 321.227344 \nL 399.69375 0 \nL 0 0 \nz\n\" style=\"fill:none;\"/>\n  </g>\n  <g id=\"axes_1\">\n   <g id=\"patch_2\">\n    <path d=\"M 51.69375 230.64 \nL 386.49375 230.64 \nL 386.49375 13.2 \nL 51.69375 13.2 \nz\n\" style=\"fill:#eaeaf2;\"/>\n   </g>\n   <g id=\"matplotlib.axis_1\">\n    <g id=\"xtick_1\">\n     <g id=\"line2d_1\">\n      <path clip-path=\"url(#p4b607e1be5)\" d=\"M 107.49375 230.64 \nL 107.49375 13.2 \n\" style=\"fill:none;stroke:#ffffff;stroke-linecap:round;\"/>\n     </g>\n     <g id=\"text_1\">\n      <!-- ANONYMOUS -->\n      <defs>\n       <path d=\"M 34.1875 63.1875 \nL 20.796875 26.90625 \nL 47.609375 26.90625 \nz\nM 28.609375 72.90625 \nL 39.796875 72.90625 \nL 67.578125 0 \nL 57.328125 0 \nL 50.6875 18.703125 \nL 17.828125 18.703125 \nL 11.1875 0 \nL 0.78125 0 \nz\n\" id=\"DejaVuSans-65\"/>\n       <path d=\"M 9.8125 72.90625 \nL 23.09375 72.90625 \nL 55.421875 11.921875 \nL 55.421875 72.90625 \nL 64.984375 72.90625 \nL 64.984375 0 \nL 51.703125 0 \nL 19.390625 60.984375 \nL 19.390625 0 \nL 9.8125 0 \nz\n\" id=\"DejaVuSans-78\"/>\n       <path d=\"M 39.40625 66.21875 \nQ 28.65625 66.21875 22.328125 58.203125 \nQ 16.015625 50.203125 16.015625 36.375 \nQ 16.015625 22.609375 22.328125 14.59375 \nQ 28.65625 6.59375 39.40625 6.59375 \nQ 50.140625 6.59375 56.421875 14.59375 \nQ 62.703125 22.609375 62.703125 36.375 \nQ 62.703125 50.203125 56.421875 58.203125 \nQ 50.140625 66.21875 39.40625 66.21875 \nz\nM 39.40625 74.21875 \nQ 54.734375 74.21875 63.90625 63.9375 \nQ 73.09375 53.65625 73.09375 36.375 \nQ 73.09375 19.140625 63.90625 8.859375 \nQ 54.734375 -1.421875 39.40625 -1.421875 \nQ 24.03125 -1.421875 14.8125 8.828125 \nQ 5.609375 19.09375 5.609375 36.375 \nQ 5.609375 53.65625 14.8125 63.9375 \nQ 24.03125 74.21875 39.40625 74.21875 \nz\n\" id=\"DejaVuSans-79\"/>\n       <path d=\"M -0.203125 72.90625 \nL 10.40625 72.90625 \nL 30.609375 42.921875 \nL 50.6875 72.90625 \nL 61.28125 72.90625 \nL 35.5 34.71875 \nL 35.5 0 \nL 25.59375 0 \nL 25.59375 34.71875 \nz\n\" id=\"DejaVuSans-89\"/>\n       <path d=\"M 9.8125 72.90625 \nL 24.515625 72.90625 \nL 43.109375 23.296875 \nL 61.8125 72.90625 \nL 76.515625 72.90625 \nL 76.515625 0 \nL 66.890625 0 \nL 66.890625 64.015625 \nL 48.09375 14.015625 \nL 38.1875 14.015625 \nL 19.390625 64.015625 \nL 19.390625 0 \nL 9.8125 0 \nz\n\" id=\"DejaVuSans-77\"/>\n       <path d=\"M 8.6875 72.90625 \nL 18.609375 72.90625 \nL 18.609375 28.609375 \nQ 18.609375 16.890625 22.84375 11.734375 \nQ 27.09375 6.59375 36.625 6.59375 \nQ 46.09375 6.59375 50.34375 11.734375 \nQ 54.59375 16.890625 54.59375 28.609375 \nL 54.59375 72.90625 \nL 64.5 72.90625 \nL 64.5 27.390625 \nQ 64.5 13.140625 57.4375 5.859375 \nQ 50.390625 -1.421875 36.625 -1.421875 \nQ 22.796875 -1.421875 15.734375 5.859375 \nQ 8.6875 13.140625 8.6875 27.390625 \nz\n\" id=\"DejaVuSans-85\"/>\n       <path d=\"M 53.515625 70.515625 \nL 53.515625 60.890625 \nQ 47.90625 63.578125 42.921875 64.890625 \nQ 37.9375 66.21875 33.296875 66.21875 \nQ 25.25 66.21875 20.875 63.09375 \nQ 16.5 59.96875 16.5 54.203125 \nQ 16.5 49.359375 19.40625 46.890625 \nQ 22.3125 44.4375 30.421875 42.921875 \nL 36.375 41.703125 \nQ 47.40625 39.59375 52.65625 34.296875 \nQ 57.90625 29 57.90625 20.125 \nQ 57.90625 9.515625 50.796875 4.046875 \nQ 43.703125 -1.421875 29.984375 -1.421875 \nQ 24.8125 -1.421875 18.96875 -0.25 \nQ 13.140625 0.921875 6.890625 3.21875 \nL 6.890625 13.375 \nQ 12.890625 10.015625 18.65625 8.296875 \nQ 24.421875 6.59375 29.984375 6.59375 \nQ 38.421875 6.59375 43.015625 9.90625 \nQ 47.609375 13.234375 47.609375 19.390625 \nQ 47.609375 24.75 44.3125 27.78125 \nQ 41.015625 30.8125 33.5 32.328125 \nL 27.484375 33.5 \nQ 16.453125 35.6875 11.515625 40.375 \nQ 6.59375 45.0625 6.59375 53.421875 \nQ 6.59375 63.09375 13.40625 68.65625 \nQ 20.21875 74.21875 32.171875 74.21875 \nQ 37.3125 74.21875 42.625 73.28125 \nQ 47.953125 72.359375 53.515625 70.515625 \nz\n\" id=\"DejaVuSans-83\"/>\n      </defs>\n      <g style=\"fill:#262626;\" transform=\"translate(110.529063 312.685)rotate(-90)scale(0.11 -0.11)\">\n       <use xlink:href=\"#DejaVuSans-65\"/>\n       <use x=\"68.408203\" xlink:href=\"#DejaVuSans-78\"/>\n       <use x=\"143.212891\" xlink:href=\"#DejaVuSans-79\"/>\n       <use x=\"221.923828\" xlink:href=\"#DejaVuSans-78\"/>\n       <use x=\"296.728516\" xlink:href=\"#DejaVuSans-89\"/>\n       <use x=\"357.8125\" xlink:href=\"#DejaVuSans-77\"/>\n       <use x=\"444.091797\" xlink:href=\"#DejaVuSans-79\"/>\n       <use x=\"522.802734\" xlink:href=\"#DejaVuSans-85\"/>\n       <use x=\"595.996094\" xlink:href=\"#DejaVuSans-83\"/>\n      </g>\n     </g>\n    </g>\n    <g id=\"xtick_2\">\n     <g id=\"line2d_2\">\n      <path clip-path=\"url(#p4b607e1be5)\" d=\"M 219.09375 230.64 \nL 219.09375 13.2 \n\" style=\"fill:none;stroke:#ffffff;stroke-linecap:round;\"/>\n     </g>\n     <g id=\"text_2\">\n      <!-- RECOGNIZED -->\n      <defs>\n       <path d=\"M 44.390625 34.1875 \nQ 47.5625 33.109375 50.5625 29.59375 \nQ 53.5625 26.078125 56.59375 19.921875 \nL 66.609375 0 \nL 56 0 \nL 46.6875 18.703125 \nQ 43.0625 26.03125 39.671875 28.421875 \nQ 36.28125 30.8125 30.421875 30.8125 \nL 19.671875 30.8125 \nL 19.671875 0 \nL 9.8125 0 \nL 9.8125 72.90625 \nL 32.078125 72.90625 \nQ 44.578125 72.90625 50.734375 67.671875 \nQ 56.890625 62.453125 56.890625 51.90625 \nQ 56.890625 45.015625 53.6875 40.46875 \nQ 50.484375 35.9375 44.390625 34.1875 \nz\nM 19.671875 64.796875 \nL 19.671875 38.921875 \nL 32.078125 38.921875 \nQ 39.203125 38.921875 42.84375 42.21875 \nQ 46.484375 45.515625 46.484375 51.90625 \nQ 46.484375 58.296875 42.84375 61.546875 \nQ 39.203125 64.796875 32.078125 64.796875 \nz\n\" id=\"DejaVuSans-82\"/>\n       <path d=\"M 9.8125 72.90625 \nL 55.90625 72.90625 \nL 55.90625 64.59375 \nL 19.671875 64.59375 \nL 19.671875 43.015625 \nL 54.390625 43.015625 \nL 54.390625 34.71875 \nL 19.671875 34.71875 \nL 19.671875 8.296875 \nL 56.78125 8.296875 \nL 56.78125 0 \nL 9.8125 0 \nz\n\" id=\"DejaVuSans-69\"/>\n       <path d=\"M 64.40625 67.28125 \nL 64.40625 56.890625 \nQ 59.421875 61.53125 53.78125 63.8125 \nQ 48.140625 66.109375 41.796875 66.109375 \nQ 29.296875 66.109375 22.65625 58.46875 \nQ 16.015625 50.828125 16.015625 36.375 \nQ 16.015625 21.96875 22.65625 14.328125 \nQ 29.296875 6.6875 41.796875 6.6875 \nQ 48.140625 6.6875 53.78125 8.984375 \nQ 59.421875 11.28125 64.40625 15.921875 \nL 64.40625 5.609375 \nQ 59.234375 2.09375 53.4375 0.328125 \nQ 47.65625 -1.421875 41.21875 -1.421875 \nQ 24.65625 -1.421875 15.125 8.703125 \nQ 5.609375 18.84375 5.609375 36.375 \nQ 5.609375 53.953125 15.125 64.078125 \nQ 24.65625 74.21875 41.21875 74.21875 \nQ 47.75 74.21875 53.53125 72.484375 \nQ 59.328125 70.75 64.40625 67.28125 \nz\n\" id=\"DejaVuSans-67\"/>\n       <path d=\"M 59.515625 10.40625 \nL 59.515625 29.984375 \nL 43.40625 29.984375 \nL 43.40625 38.09375 \nL 69.28125 38.09375 \nL 69.28125 6.78125 \nQ 63.578125 2.734375 56.6875 0.65625 \nQ 49.8125 -1.421875 42 -1.421875 \nQ 24.90625 -1.421875 15.25 8.5625 \nQ 5.609375 18.5625 5.609375 36.375 \nQ 5.609375 54.25 15.25 64.234375 \nQ 24.90625 74.21875 42 74.21875 \nQ 49.125 74.21875 55.546875 72.453125 \nQ 61.96875 70.703125 67.390625 67.28125 \nL 67.390625 56.78125 \nQ 61.921875 61.421875 55.765625 63.765625 \nQ 49.609375 66.109375 42.828125 66.109375 \nQ 29.4375 66.109375 22.71875 58.640625 \nQ 16.015625 51.171875 16.015625 36.375 \nQ 16.015625 21.625 22.71875 14.15625 \nQ 29.4375 6.6875 42.828125 6.6875 \nQ 48.046875 6.6875 52.140625 7.59375 \nQ 56.25 8.5 59.515625 10.40625 \nz\n\" id=\"DejaVuSans-71\"/>\n       <path d=\"M 9.8125 72.90625 \nL 19.671875 72.90625 \nL 19.671875 0 \nL 9.8125 0 \nz\n\" id=\"DejaVuSans-73\"/>\n       <path d=\"M 5.609375 72.90625 \nL 62.890625 72.90625 \nL 62.890625 65.375 \nL 16.796875 8.296875 \nL 64.015625 8.296875 \nL 64.015625 0 \nL 4.5 0 \nL 4.5 7.515625 \nL 50.59375 64.59375 \nL 5.609375 64.59375 \nz\n\" id=\"DejaVuSans-90\"/>\n       <path d=\"M 19.671875 64.796875 \nL 19.671875 8.109375 \nL 31.59375 8.109375 \nQ 46.6875 8.109375 53.6875 14.9375 \nQ 60.6875 21.78125 60.6875 36.53125 \nQ 60.6875 51.171875 53.6875 57.984375 \nQ 46.6875 64.796875 31.59375 64.796875 \nz\nM 9.8125 72.90625 \nL 30.078125 72.90625 \nQ 51.265625 72.90625 61.171875 64.09375 \nQ 71.09375 55.28125 71.09375 36.53125 \nQ 71.09375 17.671875 61.125 8.828125 \nQ 51.171875 0 30.078125 0 \nL 9.8125 0 \nz\n\" id=\"DejaVuSans-68\"/>\n      </defs>\n      <g style=\"fill:#262626;\" transform=\"translate(222.129063 314.027344)rotate(-90)scale(0.11 -0.11)\">\n       <use xlink:href=\"#DejaVuSans-82\"/>\n       <use x=\"69.482422\" xlink:href=\"#DejaVuSans-69\"/>\n       <use x=\"132.666016\" xlink:href=\"#DejaVuSans-67\"/>\n       <use x=\"202.490234\" xlink:href=\"#DejaVuSans-79\"/>\n       <use x=\"281.201172\" xlink:href=\"#DejaVuSans-71\"/>\n       <use x=\"358.691406\" xlink:href=\"#DejaVuSans-78\"/>\n       <use x=\"433.496094\" xlink:href=\"#DejaVuSans-73\"/>\n       <use x=\"462.988281\" xlink:href=\"#DejaVuSans-90\"/>\n       <use x=\"531.494141\" xlink:href=\"#DejaVuSans-69\"/>\n       <use x=\"594.677734\" xlink:href=\"#DejaVuSans-68\"/>\n      </g>\n     </g>\n    </g>\n    <g id=\"xtick_3\">\n     <g id=\"line2d_3\">\n      <path clip-path=\"url(#p4b607e1be5)\" d=\"M 330.69375 230.64 \nL 330.69375 13.2 \n\" style=\"fill:none;stroke:#ffffff;stroke-linecap:round;\"/>\n     </g>\n     <g id=\"text_3\">\n      <!-- LOGGEDIN -->\n      <defs>\n       <path d=\"M 9.8125 72.90625 \nL 19.671875 72.90625 \nL 19.671875 8.296875 \nL 55.171875 8.296875 \nL 55.171875 0 \nL 9.8125 0 \nz\n\" id=\"DejaVuSans-76\"/>\n      </defs>\n      <g style=\"fill:#262626;\" transform=\"translate(333.729062 298.864531)rotate(-90)scale(0.11 -0.11)\">\n       <use xlink:href=\"#DejaVuSans-76\"/>\n       <use x=\"55.666016\" xlink:href=\"#DejaVuSans-79\"/>\n       <use x=\"134.376953\" xlink:href=\"#DejaVuSans-71\"/>\n       <use x=\"211.867188\" xlink:href=\"#DejaVuSans-71\"/>\n       <use x=\"289.357422\" xlink:href=\"#DejaVuSans-69\"/>\n       <use x=\"352.541016\" xlink:href=\"#DejaVuSans-68\"/>\n       <use x=\"429.542969\" xlink:href=\"#DejaVuSans-73\"/>\n       <use x=\"459.035156\" xlink:href=\"#DejaVuSans-78\"/>\n      </g>\n     </g>\n    </g>\n   </g>\n   <g id=\"matplotlib.axis_2\">\n    <g id=\"ytick_1\">\n     <g id=\"line2d_4\">\n      <path clip-path=\"url(#p4b607e1be5)\" d=\"M 51.69375 230.64 \nL 386.49375 230.64 \n\" style=\"fill:none;stroke:#ffffff;stroke-linecap:round;\"/>\n     </g>\n     <g id=\"text_4\">\n      <!-- 0 -->\n      <defs>\n       <path d=\"M 31.78125 66.40625 \nQ 24.171875 66.40625 20.328125 58.90625 \nQ 16.5 51.421875 16.5 36.375 \nQ 16.5 21.390625 20.328125 13.890625 \nQ 24.171875 6.390625 31.78125 6.390625 \nQ 39.453125 6.390625 43.28125 13.890625 \nQ 47.125 21.390625 47.125 36.375 \nQ 47.125 51.421875 43.28125 58.90625 \nQ 39.453125 66.40625 31.78125 66.40625 \nz\nM 31.78125 74.21875 \nQ 44.046875 74.21875 50.515625 64.515625 \nQ 56.984375 54.828125 56.984375 36.375 \nQ 56.984375 17.96875 50.515625 8.265625 \nQ 44.046875 -1.421875 31.78125 -1.421875 \nQ 19.53125 -1.421875 13.0625 8.265625 \nQ 6.59375 17.96875 6.59375 36.375 \nQ 6.59375 54.828125 13.0625 64.515625 \nQ 19.53125 74.21875 31.78125 74.21875 \nz\n\" id=\"DejaVuSans-48\"/>\n      </defs>\n      <g style=\"fill:#262626;\" transform=\"translate(35.195 234.819141)scale(0.11 -0.11)\">\n       <use xlink:href=\"#DejaVuSans-48\"/>\n      </g>\n     </g>\n    </g>\n    <g id=\"ytick_2\">\n     <g id=\"line2d_5\">\n      <path clip-path=\"url(#p4b607e1be5)\" d=\"M 51.69375 183.26389 \nL 386.49375 183.26389 \n\" style=\"fill:none;stroke:#ffffff;stroke-linecap:round;\"/>\n     </g>\n     <g id=\"text_5\">\n      <!-- 10000 -->\n      <defs>\n       <path d=\"M 12.40625 8.296875 \nL 28.515625 8.296875 \nL 28.515625 63.921875 \nL 10.984375 60.40625 \nL 10.984375 69.390625 \nL 28.421875 72.90625 \nL 38.28125 72.90625 \nL 38.28125 8.296875 \nL 54.390625 8.296875 \nL 54.390625 0 \nL 12.40625 0 \nz\n\" id=\"DejaVuSans-49\"/>\n      </defs>\n      <g style=\"fill:#262626;\" transform=\"translate(7.2 187.443031)scale(0.11 -0.11)\">\n       <use xlink:href=\"#DejaVuSans-49\"/>\n       <use x=\"63.623047\" xlink:href=\"#DejaVuSans-48\"/>\n       <use x=\"127.246094\" xlink:href=\"#DejaVuSans-48\"/>\n       <use x=\"190.869141\" xlink:href=\"#DejaVuSans-48\"/>\n       <use x=\"254.492188\" xlink:href=\"#DejaVuSans-48\"/>\n      </g>\n     </g>\n    </g>\n    <g id=\"ytick_3\">\n     <g id=\"line2d_6\">\n      <path clip-path=\"url(#p4b607e1be5)\" d=\"M 51.69375 135.88778 \nL 386.49375 135.88778 \n\" style=\"fill:none;stroke:#ffffff;stroke-linecap:round;\"/>\n     </g>\n     <g id=\"text_6\">\n      <!-- 20000 -->\n      <defs>\n       <path d=\"M 19.1875 8.296875 \nL 53.609375 8.296875 \nL 53.609375 0 \nL 7.328125 0 \nL 7.328125 8.296875 \nQ 12.9375 14.109375 22.625 23.890625 \nQ 32.328125 33.6875 34.8125 36.53125 \nQ 39.546875 41.84375 41.421875 45.53125 \nQ 43.3125 49.21875 43.3125 52.78125 \nQ 43.3125 58.59375 39.234375 62.25 \nQ 35.15625 65.921875 28.609375 65.921875 \nQ 23.96875 65.921875 18.8125 64.3125 \nQ 13.671875 62.703125 7.8125 59.421875 \nL 7.8125 69.390625 \nQ 13.765625 71.78125 18.9375 73 \nQ 24.125 74.21875 28.421875 74.21875 \nQ 39.75 74.21875 46.484375 68.546875 \nQ 53.21875 62.890625 53.21875 53.421875 \nQ 53.21875 48.921875 51.53125 44.890625 \nQ 49.859375 40.875 45.40625 35.40625 \nQ 44.1875 33.984375 37.640625 27.21875 \nQ 31.109375 20.453125 19.1875 8.296875 \nz\n\" id=\"DejaVuSans-50\"/>\n      </defs>\n      <g style=\"fill:#262626;\" transform=\"translate(7.2 140.066921)scale(0.11 -0.11)\">\n       <use xlink:href=\"#DejaVuSans-50\"/>\n       <use x=\"63.623047\" xlink:href=\"#DejaVuSans-48\"/>\n       <use x=\"127.246094\" xlink:href=\"#DejaVuSans-48\"/>\n       <use x=\"190.869141\" xlink:href=\"#DejaVuSans-48\"/>\n       <use x=\"254.492188\" xlink:href=\"#DejaVuSans-48\"/>\n      </g>\n     </g>\n    </g>\n    <g id=\"ytick_4\">\n     <g id=\"line2d_7\">\n      <path clip-path=\"url(#p4b607e1be5)\" d=\"M 51.69375 88.51167 \nL 386.49375 88.51167 \n\" style=\"fill:none;stroke:#ffffff;stroke-linecap:round;\"/>\n     </g>\n     <g id=\"text_7\">\n      <!-- 30000 -->\n      <defs>\n       <path d=\"M 40.578125 39.3125 \nQ 47.65625 37.796875 51.625 33 \nQ 55.609375 28.21875 55.609375 21.1875 \nQ 55.609375 10.40625 48.1875 4.484375 \nQ 40.765625 -1.421875 27.09375 -1.421875 \nQ 22.515625 -1.421875 17.65625 -0.515625 \nQ 12.796875 0.390625 7.625 2.203125 \nL 7.625 11.71875 \nQ 11.71875 9.328125 16.59375 8.109375 \nQ 21.484375 6.890625 26.8125 6.890625 \nQ 36.078125 6.890625 40.9375 10.546875 \nQ 45.796875 14.203125 45.796875 21.1875 \nQ 45.796875 27.640625 41.28125 31.265625 \nQ 36.765625 34.90625 28.71875 34.90625 \nL 20.21875 34.90625 \nL 20.21875 43.015625 \nL 29.109375 43.015625 \nQ 36.375 43.015625 40.234375 45.921875 \nQ 44.09375 48.828125 44.09375 54.296875 \nQ 44.09375 59.90625 40.109375 62.90625 \nQ 36.140625 65.921875 28.71875 65.921875 \nQ 24.65625 65.921875 20.015625 65.03125 \nQ 15.375 64.15625 9.8125 62.3125 \nL 9.8125 71.09375 \nQ 15.4375 72.65625 20.34375 73.4375 \nQ 25.25 74.21875 29.59375 74.21875 \nQ 40.828125 74.21875 47.359375 69.109375 \nQ 53.90625 64.015625 53.90625 55.328125 \nQ 53.90625 49.265625 50.4375 45.09375 \nQ 46.96875 40.921875 40.578125 39.3125 \nz\n\" id=\"DejaVuSans-51\"/>\n      </defs>\n      <g style=\"fill:#262626;\" transform=\"translate(7.2 92.690811)scale(0.11 -0.11)\">\n       <use xlink:href=\"#DejaVuSans-51\"/>\n       <use x=\"63.623047\" xlink:href=\"#DejaVuSans-48\"/>\n       <use x=\"127.246094\" xlink:href=\"#DejaVuSans-48\"/>\n       <use x=\"190.869141\" xlink:href=\"#DejaVuSans-48\"/>\n       <use x=\"254.492188\" xlink:href=\"#DejaVuSans-48\"/>\n      </g>\n     </g>\n    </g>\n    <g id=\"ytick_5\">\n     <g id=\"line2d_8\">\n      <path clip-path=\"url(#p4b607e1be5)\" d=\"M 51.69375 41.13556 \nL 386.49375 41.13556 \n\" style=\"fill:none;stroke:#ffffff;stroke-linecap:round;\"/>\n     </g>\n     <g id=\"text_8\">\n      <!-- 40000 -->\n      <defs>\n       <path d=\"M 37.796875 64.3125 \nL 12.890625 25.390625 \nL 37.796875 25.390625 \nz\nM 35.203125 72.90625 \nL 47.609375 72.90625 \nL 47.609375 25.390625 \nL 58.015625 25.390625 \nL 58.015625 17.1875 \nL 47.609375 17.1875 \nL 47.609375 0 \nL 37.796875 0 \nL 37.796875 17.1875 \nL 4.890625 17.1875 \nL 4.890625 26.703125 \nz\n\" id=\"DejaVuSans-52\"/>\n      </defs>\n      <g style=\"fill:#262626;\" transform=\"translate(7.2 45.314701)scale(0.11 -0.11)\">\n       <use xlink:href=\"#DejaVuSans-52\"/>\n       <use x=\"63.623047\" xlink:href=\"#DejaVuSans-48\"/>\n       <use x=\"127.246094\" xlink:href=\"#DejaVuSans-48\"/>\n       <use x=\"190.869141\" xlink:href=\"#DejaVuSans-48\"/>\n       <use x=\"254.492188\" xlink:href=\"#DejaVuSans-48\"/>\n      </g>\n     </g>\n    </g>\n   </g>\n   <g id=\"patch_3\">\n    <path clip-path=\"url(#p4b607e1be5)\" d=\"M 79.59375 230.64 \nL 135.39375 230.64 \nL 135.39375 23.554286 \nL 79.59375 23.554286 \nz\n\" style=\"fill:#4c72b0;stroke:#ffffff;stroke-linejoin:miter;\"/>\n   </g>\n   <g id=\"patch_4\">\n    <path clip-path=\"url(#p4b607e1be5)\" d=\"M 191.19375 230.64 \nL 246.99375 230.64 \nL 246.99375 170.998215 \nL 191.19375 170.998215 \nz\n\" style=\"fill:#4c72b0;stroke:#ffffff;stroke-linejoin:miter;\"/>\n   </g>\n   <g id=\"patch_5\">\n    <path clip-path=\"url(#p4b607e1be5)\" d=\"M 302.79375 230.64 \nL 358.59375 230.64 \nL 358.59375 214.143639 \nL 302.79375 214.143639 \nz\n\" style=\"fill:#4c72b0;stroke:#ffffff;stroke-linejoin:miter;\"/>\n   </g>\n   <g id=\"patch_6\">\n    <path d=\"M 51.69375 230.64 \nL 51.69375 13.2 \n\" style=\"fill:none;stroke:#ffffff;stroke-linecap:square;stroke-linejoin:miter;stroke-width:1.25;\"/>\n   </g>\n   <g id=\"patch_7\">\n    <path d=\"M 386.49375 230.64 \nL 386.49375 13.2 \n\" style=\"fill:none;stroke:#ffffff;stroke-linecap:square;stroke-linejoin:miter;stroke-width:1.25;\"/>\n   </g>\n   <g id=\"patch_8\">\n    <path d=\"M 51.69375 230.64 \nL 386.49375 230.64 \n\" style=\"fill:none;stroke:#ffffff;stroke-linecap:square;stroke-linejoin:miter;stroke-width:1.25;\"/>\n   </g>\n   <g id=\"patch_9\">\n    <path d=\"M 51.69375 13.2 \nL 386.49375 13.2 \n\" style=\"fill:none;stroke:#ffffff;stroke-linecap:square;stroke-linejoin:miter;stroke-width:1.25;\"/>\n   </g>\n  </g>\n </g>\n <defs>\n  <clipPath id=\"p4b607e1be5\">\n   <rect height=\"217.44\" width=\"334.8\" x=\"51.69375\" y=\"13.2\"/>\n  </clipPath>\n </defs>\n</svg>\n"
          },
          "metadata": {
            "tags": []
          }
        }
      ]
    },
    {
      "cell_type": "code",
      "metadata": {
        "id": "fzMiSMIXxVig",
        "colab_type": "code",
        "colab": {
          "base_uri": "https://localhost:8080/",
          "height": 134
        },
        "outputId": "e5469478-3ccc-4e5d-b613-5ffd3468e45c"
      },
      "source": [
        "# Let's check other categorical variables such as country_by_ip_address\n",
        "\n",
        "df_bol['country_by_ip_address'].unique()"
      ],
      "execution_count": 22,
      "outputs": [
        {
          "output_type": "execute_result",
          "data": {
            "text/plain": [
              "array(['US', 'IT', 'NL', 'BE', '', 'UA', 'FR', 'DE', 'PL', 'CN', 'IE',\n",
              "       'RU', 'GB', 'AT', 'HU', 'JP', 'CA', 'PT', 'ES', 'CH', 'LT', 'ID',\n",
              "       'IN', 'TR', 'IR', 'MY', 'NZ', 'AU', 'TH', 'BD', 'QA', 'CZ', 'VN',\n",
              "       'MN', 'IL', 'FI', 'AM', 'DK', 'SR', 'GR', 'SE', 'LV', 'PK', 'LU',\n",
              "       'MA', 'MD', 'BG', 'BR', 'HR', 'AR', 'AL', 'MK', 'GH', 'PY', 'NO',\n",
              "       'RO', 'BO', 'ZA', 'SO', 'MC', 'MX', 'KR', 'DO', 'CW', 'SK', 'KG'],\n",
              "      dtype=object)"
            ]
          },
          "metadata": {
            "tags": []
          },
          "execution_count": 22
        }
      ]
    },
    {
      "cell_type": "code",
      "metadata": {
        "id": "wwhe93fiRFrk",
        "colab_type": "code",
        "colab": {
          "base_uri": "https://localhost:8080/",
          "height": 202
        },
        "outputId": "3f6685c4-0f11-441a-c3a1-f09d9b783f1e"
      },
      "source": [
        "df_bol['country_by_ip_address'].value_counts()[:10]"
      ],
      "execution_count": 23,
      "outputs": [
        {
          "output_type": "execute_result",
          "data": {
            "text/plain": [
              "NL    25673\n",
              "US    22780\n",
              "BE     7409\n",
              "GB     1185\n",
              "DE      616\n",
              "FR      348\n",
              "        248\n",
              "CN      236\n",
              "UA      192\n",
              "RU      105\n",
              "Name: country_by_ip_address, dtype: int64"
            ]
          },
          "metadata": {
            "tags": []
          },
          "execution_count": 23
        }
      ]
    },
    {
      "cell_type": "code",
      "metadata": {
        "id": "r57rjF3TRK11",
        "colab_type": "code",
        "colab": {
          "base_uri": "https://localhost:8080/",
          "height": 386
        },
        "outputId": "2f5356d6-1dac-409e-eee7-fbe5391463ef"
      },
      "source": [
        "df_bol['region_by_ip_address'].unique()"
      ],
      "execution_count": 24,
      "outputs": [
        {
          "output_type": "execute_result",
          "data": {
            "text/plain": [
              "array(['CA', 'LI', 'NB', 'UT', 'ZH', '', 'GE', 'DR', 'GR', 'FL', 'BRU',\n",
              "       'VAN', 'NH', 'OV', 'SO', 'VLI', 'FR', 'OK', '30', 'VWV', 'BW',\n",
              "       'MZ', 'BJ', 'ZE', 'VOV', 'VBR', 'L', 'VLA', 'BOL', 'WA', '7', '5',\n",
              "       'AZ', 'NY', 'PA', 'VA', 'BU', 'ENG', 'WHT', 'TN', '13', 'IL', 'NV',\n",
              "       '69', 'WNA', 'AL', 'IN', 'ON', 'WLG', 'NJ', 'MN', '11', 'ND', 'AR',\n",
              "       'DA', 'RM', 'QC', 'SD', 'TOM', 'ZG', '05', 'JI', 'HE', 'AP', '59',\n",
              "       'CO', '08', '67', '03', '35', 'WBR', '14', 'AUK', 'NSW', '64',\n",
              "       'MOS', '23', 'MD', 'ZP', '10', 'IA', 'LU', 'LA', '29', 'KP', 'HN',\n",
              "       '1', 'NYK', 'TA', '18', 'BA', 'ER', '27', '07', '81', 'TX', 'NW',\n",
              "       'IRK', 'CM', 'MI', '40', 'I', 'JK', 'SI', 'GA', '26', 'OR', 'MS',\n",
              "       '24', '71', 'WKO', '9', 'NC', 'VGG', 'AB', 'LK', 'MOW', 'RIX',\n",
              "       'PB', 'M', 'ME', 'SL', 'KHE', 'OH', 'ID', 'CT', 'MO', 'MA', '6',\n",
              "       'NI', '12', 'GRE', 'BY', '92', 'CU', 'CAS', '20', 'A', 'GI', 'SH',\n",
              "       'FI', 'SRY', 'BE', 'WI', 'NFK', 'ULY', '51', '21', '16', 'AM',\n",
              "       '83', 'GJ', 'UP', 'S', 'B', 'SA', '22', 'PK', '77', 'DL', '91',\n",
              "       '45', 'KS', '04', '75', 'RJ', '38', 'ENF', 'AA', 'T', 'V', '61',\n",
              "       'ASU', '63', '422', '34', 'PO', '56', '209', 'VR', 'VD', 'MDW',\n",
              "       'VT', 'SC', '31', 'DJ', '86', 'GC', '33', 'NE', 'SE', 'CS', 'BI',\n",
              "       'TG', 'KEN', '46', 'GT', '15', '28', 'TO', 'IVA', 'MG', 'CMX',\n",
              "       'LEN', 'PM', 'WP', 'AQ', 'SOM', 'WLX', 'CE', 'AN', 'SP', 'WIL',\n",
              "       '01', '202', 'SLG', '531', 'TWH', '644', 'O', 'LT', '50', 'KY',\n",
              "       '41', 'BL', 'BEN', 'GB', 'VI', '06'], dtype=object)"
            ]
          },
          "metadata": {
            "tags": []
          },
          "execution_count": 24
        }
      ]
    },
    {
      "cell_type": "code",
      "metadata": {
        "id": "GSBDxX9SRl7f",
        "colab_type": "code",
        "colab": {
          "base_uri": "https://localhost:8080/",
          "height": 202
        },
        "outputId": "30a66606-63eb-43bb-9866-6ddd2b3277f3"
      },
      "source": [
        "df_bol['region_by_ip_address'].value_counts()[:10]"
      ],
      "execution_count": 25,
      "outputs": [
        {
          "output_type": "execute_result",
          "data": {
            "text/plain": [
              "CA     20662\n",
              "        9896\n",
              "NH      4320\n",
              "ZH      4160\n",
              "VAN     2239\n",
              "NB      2112\n",
              "GE      1950\n",
              "UT      1586\n",
              "VOV     1333\n",
              "OV      1055\n",
              "Name: region_by_ip_address, dtype: int64"
            ]
          },
          "metadata": {
            "tags": []
          },
          "execution_count": 25
        }
      ]
    },
    {
      "cell_type": "markdown",
      "metadata": {
        "id": "OacKjp25SXkj",
        "colab_type": "text"
      },
      "source": [
        "### 3.5)- Dependant Feature"
      ]
    },
    {
      "cell_type": "code",
      "metadata": {
        "id": "nObPSl8USbYP",
        "colab_type": "code",
        "colab": {
          "base_uri": "https://localhost:8080/",
          "height": 50
        },
        "outputId": "ecb44c38-1b1a-47a8-85e7-735ca870a5c2"
      },
      "source": [
        "df_bol['ua_agent_class'].unique()"
      ],
      "execution_count": 26,
      "outputs": [
        {
          "output_type": "execute_result",
          "data": {
            "text/plain": [
              "array(['Robot', 'Browser', 'Robot Mobile', 'Browser Webview', 'Hacker',\n",
              "       'Special', 'Mobile App', 'Cloud Application'], dtype=object)"
            ]
          },
          "metadata": {
            "tags": []
          },
          "execution_count": 26
        }
      ]
    },
    {
      "cell_type": "code",
      "metadata": {
        "id": "hIcTDkjhb_rQ",
        "colab_type": "code",
        "colab": {
          "base_uri": "https://localhost:8080/",
          "height": 34
        },
        "outputId": "1d747f17-909b-45d9-e517-d33fba2c95cd"
      },
      "source": [
        "df_bol.shape"
      ],
      "execution_count": 29,
      "outputs": [
        {
          "output_type": "execute_result",
          "data": {
            "text/plain": [
              "(59782, 8)"
            ]
          },
          "metadata": {
            "tags": []
          },
          "execution_count": 29
        }
      ]
    },
    {
      "cell_type": "markdown",
      "metadata": {
        "id": "tG5glY8ySjKC",
        "colab_type": "text"
      },
      "source": [
        "I will choose to divide into only two categories according to our problem statement.Our categories are bot traffic coming  from search engines (NHT-search), other bot traffic (NHT-other) and human traffic (HT). \n",
        "\n",
        "- I will choose first a binary problem where we have only Non-human traffice and Human traffice.\n",
        "\n",
        "- Second case will be for three classes where traffic coming  from search engines (NHT-search), other bot traffic (NHT-other) and human traffic (HT) will be considered"
      ]
    },
    {
      "cell_type": "markdown",
      "metadata": {
        "id": "86S8q9P6b7Pq",
        "colab_type": "text"
      },
      "source": [
        "**I am not sure about what special is. So, I ll remove it from our category**"
      ]
    },
    {
      "cell_type": "code",
      "metadata": {
        "id": "Uc7W7iGfb8no",
        "colab_type": "code",
        "colab": {
          "base_uri": "https://localhost:8080/",
          "height": 34
        },
        "outputId": "8d746fed-0177-43db-c0f6-5ad49e2028bc"
      },
      "source": [
        "df_bol = df_bol[~df_bol['ua_agent_class'].isin(['Special'])]\n",
        "df_bol.shape"
      ],
      "execution_count": 30,
      "outputs": [
        {
          "output_type": "execute_result",
          "data": {
            "text/plain": [
              "(59638, 8)"
            ]
          },
          "metadata": {
            "tags": []
          },
          "execution_count": 30
        }
      ]
    },
    {
      "cell_type": "code",
      "metadata": {
        "id": "bC4cJhIMcYeb",
        "colab_type": "code",
        "colab": {
          "base_uri": "https://localhost:8080/",
          "height": 151
        },
        "outputId": "d124e718-02d0-47f2-eef0-20808c0a21ee"
      },
      "source": [
        "df_bol.ua_agent_class.value_counts()"
      ],
      "execution_count": 31,
      "outputs": [
        {
          "output_type": "execute_result",
          "data": {
            "text/plain": [
              "Browser              35509\n",
              "Robot                16026\n",
              "Robot Mobile          5115\n",
              "Browser Webview       1800\n",
              "Hacker                1177\n",
              "Mobile App               9\n",
              "Cloud Application        2\n",
              "Name: ua_agent_class, dtype: int64"
            ]
          },
          "metadata": {
            "tags": []
          },
          "execution_count": 31
        }
      ]
    },
    {
      "cell_type": "code",
      "metadata": {
        "id": "rHTxaJ0wcsdx",
        "colab_type": "code",
        "colab": {}
      },
      "source": [
        "df_bol['labels'] = df_bol.ua_agent_class.map({'Robot':'NHT', 'Robot Mobile':'NHT','Browser':'HT', 'Browser Webview':'HT','Hacker':'HT','Mobile App':'HT','Cloud Application':'HT'})"
      ],
      "execution_count": 0,
      "outputs": []
    },
    {
      "cell_type": "code",
      "metadata": {
        "id": "JnTfm4zvdfra",
        "colab_type": "code",
        "colab": {
          "base_uri": "https://localhost:8080/",
          "height": 67
        },
        "outputId": "688ece4c-1156-4a8b-fa65-2f9baf5b693c"
      },
      "source": [
        "df_bol.labels.value_counts()"
      ],
      "execution_count": 33,
      "outputs": [
        {
          "output_type": "execute_result",
          "data": {
            "text/plain": [
              "HT     38497\n",
              "NHT    21141\n",
              "Name: labels, dtype: int64"
            ]
          },
          "metadata": {
            "tags": []
          },
          "execution_count": 33
        }
      ]
    },
    {
      "cell_type": "code",
      "metadata": {
        "id": "RZ9OYDNkeawO",
        "colab_type": "code",
        "colab": {
          "base_uri": "https://localhost:8080/",
          "height": 398
        },
        "outputId": "4f8f8a6e-d37c-48a0-a200-41677ab8bd03"
      },
      "source": [
        "df_bol.labels.value_counts().plot(kind='bar')"
      ],
      "execution_count": 34,
      "outputs": [
        {
          "output_type": "execute_result",
          "data": {
            "text/plain": [
              "<matplotlib.axes._subplots.AxesSubplot at 0x7f27a9d25978>"
            ]
          },
          "metadata": {
            "tags": []
          },
          "execution_count": 34
        },
        {
          "output_type": "display_data",
          "data": {
            "text/plain": [
              "<Figure size 432x288 with 1 Axes>"
            ],
            "image/svg+xml": "<?xml version=\"1.0\" encoding=\"utf-8\" standalone=\"no\"?>\n<!DOCTYPE svg PUBLIC \"-//W3C//DTD SVG 1.1//EN\"\n  \"http://www.w3.org/Graphics/SVG/1.1/DTD/svg11.dtd\">\n<!-- Created with matplotlib (https://matplotlib.org/) -->\n<svg height=\"270.560313pt\" version=\"1.1\" viewBox=\"0 0 399.69375 270.560313\" width=\"399.69375pt\" xmlns=\"http://www.w3.org/2000/svg\" xmlns:xlink=\"http://www.w3.org/1999/xlink\">\n <defs>\n  <style type=\"text/css\">\n*{stroke-linecap:butt;stroke-linejoin:round;}\n  </style>\n </defs>\n <g id=\"figure_1\">\n  <g id=\"patch_1\">\n   <path d=\"M 0 270.560313 \nL 399.69375 270.560313 \nL 399.69375 0 \nL 0 0 \nz\n\" style=\"fill:none;\"/>\n  </g>\n  <g id=\"axes_1\">\n   <g id=\"patch_2\">\n    <path d=\"M 51.69375 230.64 \nL 386.49375 230.64 \nL 386.49375 13.2 \nL 51.69375 13.2 \nz\n\" style=\"fill:#eaeaf2;\"/>\n   </g>\n   <g id=\"matplotlib.axis_1\">\n    <g id=\"xtick_1\">\n     <g id=\"line2d_1\">\n      <path clip-path=\"url(#pfe9e003e6f)\" d=\"M 135.39375 230.64 \nL 135.39375 13.2 \n\" style=\"fill:none;stroke:#ffffff;stroke-linecap:round;\"/>\n     </g>\n     <g id=\"text_1\">\n      <!-- HT -->\n      <defs>\n       <path d=\"M 9.8125 72.90625 \nL 19.671875 72.90625 \nL 19.671875 43.015625 \nL 55.515625 43.015625 \nL 55.515625 72.90625 \nL 65.375 72.90625 \nL 65.375 0 \nL 55.515625 0 \nL 55.515625 34.71875 \nL 19.671875 34.71875 \nL 19.671875 0 \nL 9.8125 0 \nz\n\" id=\"DejaVuSans-72\"/>\n       <path d=\"M -0.296875 72.90625 \nL 61.375 72.90625 \nL 61.375 64.59375 \nL 35.5 64.59375 \nL 35.5 0 \nL 25.59375 0 \nL 25.59375 64.59375 \nL -0.296875 64.59375 \nz\n\" id=\"DejaVuSans-84\"/>\n      </defs>\n      <g style=\"fill:#262626;\" transform=\"translate(138.429063 255.130938)rotate(-90)scale(0.11 -0.11)\">\n       <use xlink:href=\"#DejaVuSans-72\"/>\n       <use x=\"75.195312\" xlink:href=\"#DejaVuSans-84\"/>\n      </g>\n     </g>\n    </g>\n    <g id=\"xtick_2\">\n     <g id=\"line2d_2\">\n      <path clip-path=\"url(#pfe9e003e6f)\" d=\"M 302.79375 230.64 \nL 302.79375 13.2 \n\" style=\"fill:none;stroke:#ffffff;stroke-linecap:round;\"/>\n     </g>\n     <g id=\"text_2\">\n      <!-- NHT -->\n      <defs>\n       <path d=\"M 9.8125 72.90625 \nL 23.09375 72.90625 \nL 55.421875 11.921875 \nL 55.421875 72.90625 \nL 64.984375 72.90625 \nL 64.984375 0 \nL 51.703125 0 \nL 19.390625 60.984375 \nL 19.390625 0 \nL 9.8125 0 \nz\n\" id=\"DejaVuSans-78\"/>\n      </defs>\n      <g style=\"fill:#262626;\" transform=\"translate(305.829063 263.360313)rotate(-90)scale(0.11 -0.11)\">\n       <use xlink:href=\"#DejaVuSans-78\"/>\n       <use x=\"74.804688\" xlink:href=\"#DejaVuSans-72\"/>\n       <use x=\"150\" xlink:href=\"#DejaVuSans-84\"/>\n      </g>\n     </g>\n    </g>\n   </g>\n   <g id=\"matplotlib.axis_2\">\n    <g id=\"ytick_1\">\n     <g id=\"line2d_3\">\n      <path clip-path=\"url(#pfe9e003e6f)\" d=\"M 51.69375 230.64 \nL 386.49375 230.64 \n\" style=\"fill:none;stroke:#ffffff;stroke-linecap:round;\"/>\n     </g>\n     <g id=\"text_3\">\n      <!-- 0 -->\n      <defs>\n       <path d=\"M 31.78125 66.40625 \nQ 24.171875 66.40625 20.328125 58.90625 \nQ 16.5 51.421875 16.5 36.375 \nQ 16.5 21.390625 20.328125 13.890625 \nQ 24.171875 6.390625 31.78125 6.390625 \nQ 39.453125 6.390625 43.28125 13.890625 \nQ 47.125 21.390625 47.125 36.375 \nQ 47.125 51.421875 43.28125 58.90625 \nQ 39.453125 66.40625 31.78125 66.40625 \nz\nM 31.78125 74.21875 \nQ 44.046875 74.21875 50.515625 64.515625 \nQ 56.984375 54.828125 56.984375 36.375 \nQ 56.984375 17.96875 50.515625 8.265625 \nQ 44.046875 -1.421875 31.78125 -1.421875 \nQ 19.53125 -1.421875 13.0625 8.265625 \nQ 6.59375 17.96875 6.59375 36.375 \nQ 6.59375 54.828125 13.0625 64.515625 \nQ 19.53125 74.21875 31.78125 74.21875 \nz\n\" id=\"DejaVuSans-48\"/>\n      </defs>\n      <g style=\"fill:#262626;\" transform=\"translate(35.195 234.819141)scale(0.11 -0.11)\">\n       <use xlink:href=\"#DejaVuSans-48\"/>\n      </g>\n     </g>\n    </g>\n    <g id=\"ytick_2\">\n     <g id=\"line2d_4\">\n      <path clip-path=\"url(#pfe9e003e6f)\" d=\"M 51.69375 203.743656 \nL 386.49375 203.743656 \n\" style=\"fill:none;stroke:#ffffff;stroke-linecap:round;\"/>\n     </g>\n     <g id=\"text_4\">\n      <!-- 5000 -->\n      <defs>\n       <path d=\"M 10.796875 72.90625 \nL 49.515625 72.90625 \nL 49.515625 64.59375 \nL 19.828125 64.59375 \nL 19.828125 46.734375 \nQ 21.96875 47.46875 24.109375 47.828125 \nQ 26.265625 48.1875 28.421875 48.1875 \nQ 40.625 48.1875 47.75 41.5 \nQ 54.890625 34.8125 54.890625 23.390625 \nQ 54.890625 11.625 47.5625 5.09375 \nQ 40.234375 -1.421875 26.90625 -1.421875 \nQ 22.3125 -1.421875 17.546875 -0.640625 \nQ 12.796875 0.140625 7.71875 1.703125 \nL 7.71875 11.625 \nQ 12.109375 9.234375 16.796875 8.0625 \nQ 21.484375 6.890625 26.703125 6.890625 \nQ 35.15625 6.890625 40.078125 11.328125 \nQ 45.015625 15.765625 45.015625 23.390625 \nQ 45.015625 31 40.078125 35.4375 \nQ 35.15625 39.890625 26.703125 39.890625 \nQ 22.75 39.890625 18.8125 39.015625 \nQ 14.890625 38.140625 10.796875 36.28125 \nz\n\" id=\"DejaVuSans-53\"/>\n      </defs>\n      <g style=\"fill:#262626;\" transform=\"translate(14.19875 207.922796)scale(0.11 -0.11)\">\n       <use xlink:href=\"#DejaVuSans-53\"/>\n       <use x=\"63.623047\" xlink:href=\"#DejaVuSans-48\"/>\n       <use x=\"127.246094\" xlink:href=\"#DejaVuSans-48\"/>\n       <use x=\"190.869141\" xlink:href=\"#DejaVuSans-48\"/>\n      </g>\n     </g>\n    </g>\n    <g id=\"ytick_3\">\n     <g id=\"line2d_5\">\n      <path clip-path=\"url(#pfe9e003e6f)\" d=\"M 51.69375 176.847311 \nL 386.49375 176.847311 \n\" style=\"fill:none;stroke:#ffffff;stroke-linecap:round;\"/>\n     </g>\n     <g id=\"text_5\">\n      <!-- 10000 -->\n      <defs>\n       <path d=\"M 12.40625 8.296875 \nL 28.515625 8.296875 \nL 28.515625 63.921875 \nL 10.984375 60.40625 \nL 10.984375 69.390625 \nL 28.421875 72.90625 \nL 38.28125 72.90625 \nL 38.28125 8.296875 \nL 54.390625 8.296875 \nL 54.390625 0 \nL 12.40625 0 \nz\n\" id=\"DejaVuSans-49\"/>\n      </defs>\n      <g style=\"fill:#262626;\" transform=\"translate(7.2 181.026452)scale(0.11 -0.11)\">\n       <use xlink:href=\"#DejaVuSans-49\"/>\n       <use x=\"63.623047\" xlink:href=\"#DejaVuSans-48\"/>\n       <use x=\"127.246094\" xlink:href=\"#DejaVuSans-48\"/>\n       <use x=\"190.869141\" xlink:href=\"#DejaVuSans-48\"/>\n       <use x=\"254.492188\" xlink:href=\"#DejaVuSans-48\"/>\n      </g>\n     </g>\n    </g>\n    <g id=\"ytick_4\">\n     <g id=\"line2d_6\">\n      <path clip-path=\"url(#pfe9e003e6f)\" d=\"M 51.69375 149.950967 \nL 386.49375 149.950967 \n\" style=\"fill:none;stroke:#ffffff;stroke-linecap:round;\"/>\n     </g>\n     <g id=\"text_6\">\n      <!-- 15000 -->\n      <g style=\"fill:#262626;\" transform=\"translate(7.2 154.130107)scale(0.11 -0.11)\">\n       <use xlink:href=\"#DejaVuSans-49\"/>\n       <use x=\"63.623047\" xlink:href=\"#DejaVuSans-53\"/>\n       <use x=\"127.246094\" xlink:href=\"#DejaVuSans-48\"/>\n       <use x=\"190.869141\" xlink:href=\"#DejaVuSans-48\"/>\n       <use x=\"254.492188\" xlink:href=\"#DejaVuSans-48\"/>\n      </g>\n     </g>\n    </g>\n    <g id=\"ytick_5\">\n     <g id=\"line2d_7\">\n      <path clip-path=\"url(#pfe9e003e6f)\" d=\"M 51.69375 123.054622 \nL 386.49375 123.054622 \n\" style=\"fill:none;stroke:#ffffff;stroke-linecap:round;\"/>\n     </g>\n     <g id=\"text_7\">\n      <!-- 20000 -->\n      <defs>\n       <path d=\"M 19.1875 8.296875 \nL 53.609375 8.296875 \nL 53.609375 0 \nL 7.328125 0 \nL 7.328125 8.296875 \nQ 12.9375 14.109375 22.625 23.890625 \nQ 32.328125 33.6875 34.8125 36.53125 \nQ 39.546875 41.84375 41.421875 45.53125 \nQ 43.3125 49.21875 43.3125 52.78125 \nQ 43.3125 58.59375 39.234375 62.25 \nQ 35.15625 65.921875 28.609375 65.921875 \nQ 23.96875 65.921875 18.8125 64.3125 \nQ 13.671875 62.703125 7.8125 59.421875 \nL 7.8125 69.390625 \nQ 13.765625 71.78125 18.9375 73 \nQ 24.125 74.21875 28.421875 74.21875 \nQ 39.75 74.21875 46.484375 68.546875 \nQ 53.21875 62.890625 53.21875 53.421875 \nQ 53.21875 48.921875 51.53125 44.890625 \nQ 49.859375 40.875 45.40625 35.40625 \nQ 44.1875 33.984375 37.640625 27.21875 \nQ 31.109375 20.453125 19.1875 8.296875 \nz\n\" id=\"DejaVuSans-50\"/>\n      </defs>\n      <g style=\"fill:#262626;\" transform=\"translate(7.2 127.233763)scale(0.11 -0.11)\">\n       <use xlink:href=\"#DejaVuSans-50\"/>\n       <use x=\"63.623047\" xlink:href=\"#DejaVuSans-48\"/>\n       <use x=\"127.246094\" xlink:href=\"#DejaVuSans-48\"/>\n       <use x=\"190.869141\" xlink:href=\"#DejaVuSans-48\"/>\n       <use x=\"254.492188\" xlink:href=\"#DejaVuSans-48\"/>\n      </g>\n     </g>\n    </g>\n    <g id=\"ytick_6\">\n     <g id=\"line2d_8\">\n      <path clip-path=\"url(#pfe9e003e6f)\" d=\"M 51.69375 96.158278 \nL 386.49375 96.158278 \n\" style=\"fill:none;stroke:#ffffff;stroke-linecap:round;\"/>\n     </g>\n     <g id=\"text_8\">\n      <!-- 25000 -->\n      <g style=\"fill:#262626;\" transform=\"translate(7.2 100.337418)scale(0.11 -0.11)\">\n       <use xlink:href=\"#DejaVuSans-50\"/>\n       <use x=\"63.623047\" xlink:href=\"#DejaVuSans-53\"/>\n       <use x=\"127.246094\" xlink:href=\"#DejaVuSans-48\"/>\n       <use x=\"190.869141\" xlink:href=\"#DejaVuSans-48\"/>\n       <use x=\"254.492188\" xlink:href=\"#DejaVuSans-48\"/>\n      </g>\n     </g>\n    </g>\n    <g id=\"ytick_7\">\n     <g id=\"line2d_9\">\n      <path clip-path=\"url(#pfe9e003e6f)\" d=\"M 51.69375 69.261933 \nL 386.49375 69.261933 \n\" style=\"fill:none;stroke:#ffffff;stroke-linecap:round;\"/>\n     </g>\n     <g id=\"text_9\">\n      <!-- 30000 -->\n      <defs>\n       <path d=\"M 40.578125 39.3125 \nQ 47.65625 37.796875 51.625 33 \nQ 55.609375 28.21875 55.609375 21.1875 \nQ 55.609375 10.40625 48.1875 4.484375 \nQ 40.765625 -1.421875 27.09375 -1.421875 \nQ 22.515625 -1.421875 17.65625 -0.515625 \nQ 12.796875 0.390625 7.625 2.203125 \nL 7.625 11.71875 \nQ 11.71875 9.328125 16.59375 8.109375 \nQ 21.484375 6.890625 26.8125 6.890625 \nQ 36.078125 6.890625 40.9375 10.546875 \nQ 45.796875 14.203125 45.796875 21.1875 \nQ 45.796875 27.640625 41.28125 31.265625 \nQ 36.765625 34.90625 28.71875 34.90625 \nL 20.21875 34.90625 \nL 20.21875 43.015625 \nL 29.109375 43.015625 \nQ 36.375 43.015625 40.234375 45.921875 \nQ 44.09375 48.828125 44.09375 54.296875 \nQ 44.09375 59.90625 40.109375 62.90625 \nQ 36.140625 65.921875 28.71875 65.921875 \nQ 24.65625 65.921875 20.015625 65.03125 \nQ 15.375 64.15625 9.8125 62.3125 \nL 9.8125 71.09375 \nQ 15.4375 72.65625 20.34375 73.4375 \nQ 25.25 74.21875 29.59375 74.21875 \nQ 40.828125 74.21875 47.359375 69.109375 \nQ 53.90625 64.015625 53.90625 55.328125 \nQ 53.90625 49.265625 50.4375 45.09375 \nQ 46.96875 40.921875 40.578125 39.3125 \nz\n\" id=\"DejaVuSans-51\"/>\n      </defs>\n      <g style=\"fill:#262626;\" transform=\"translate(7.2 73.441074)scale(0.11 -0.11)\">\n       <use xlink:href=\"#DejaVuSans-51\"/>\n       <use x=\"63.623047\" xlink:href=\"#DejaVuSans-48\"/>\n       <use x=\"127.246094\" xlink:href=\"#DejaVuSans-48\"/>\n       <use x=\"190.869141\" xlink:href=\"#DejaVuSans-48\"/>\n       <use x=\"254.492188\" xlink:href=\"#DejaVuSans-48\"/>\n      </g>\n     </g>\n    </g>\n    <g id=\"ytick_8\">\n     <g id=\"line2d_10\">\n      <path clip-path=\"url(#pfe9e003e6f)\" d=\"M 51.69375 42.365589 \nL 386.49375 42.365589 \n\" style=\"fill:none;stroke:#ffffff;stroke-linecap:round;\"/>\n     </g>\n     <g id=\"text_10\">\n      <!-- 35000 -->\n      <g style=\"fill:#262626;\" transform=\"translate(7.2 46.54473)scale(0.11 -0.11)\">\n       <use xlink:href=\"#DejaVuSans-51\"/>\n       <use x=\"63.623047\" xlink:href=\"#DejaVuSans-53\"/>\n       <use x=\"127.246094\" xlink:href=\"#DejaVuSans-48\"/>\n       <use x=\"190.869141\" xlink:href=\"#DejaVuSans-48\"/>\n       <use x=\"254.492188\" xlink:href=\"#DejaVuSans-48\"/>\n      </g>\n     </g>\n    </g>\n    <g id=\"ytick_9\">\n     <g id=\"line2d_11\">\n      <path clip-path=\"url(#pfe9e003e6f)\" d=\"M 51.69375 15.469245 \nL 386.49375 15.469245 \n\" style=\"fill:none;stroke:#ffffff;stroke-linecap:round;\"/>\n     </g>\n     <g id=\"text_11\">\n      <!-- 40000 -->\n      <defs>\n       <path d=\"M 37.796875 64.3125 \nL 12.890625 25.390625 \nL 37.796875 25.390625 \nz\nM 35.203125 72.90625 \nL 47.609375 72.90625 \nL 47.609375 25.390625 \nL 58.015625 25.390625 \nL 58.015625 17.1875 \nL 47.609375 17.1875 \nL 47.609375 0 \nL 37.796875 0 \nL 37.796875 17.1875 \nL 4.890625 17.1875 \nL 4.890625 26.703125 \nz\n\" id=\"DejaVuSans-52\"/>\n      </defs>\n      <g style=\"fill:#262626;\" transform=\"translate(7.2 19.648385)scale(0.11 -0.11)\">\n       <use xlink:href=\"#DejaVuSans-52\"/>\n       <use x=\"63.623047\" xlink:href=\"#DejaVuSans-48\"/>\n       <use x=\"127.246094\" xlink:href=\"#DejaVuSans-48\"/>\n       <use x=\"190.869141\" xlink:href=\"#DejaVuSans-48\"/>\n       <use x=\"254.492188\" xlink:href=\"#DejaVuSans-48\"/>\n      </g>\n     </g>\n    </g>\n   </g>\n   <g id=\"patch_3\">\n    <path clip-path=\"url(#pfe9e003e6f)\" d=\"M 93.54375 230.64 \nL 177.24375 230.64 \nL 177.24375 23.554286 \nL 93.54375 23.554286 \nz\n\" style=\"fill:#4c72b0;stroke:#ffffff;stroke-linejoin:miter;\"/>\n   </g>\n   <g id=\"patch_4\">\n    <path clip-path=\"url(#pfe9e003e6f)\" d=\"M 260.94375 230.64 \nL 344.64375 230.64 \nL 344.64375 116.916876 \nL 260.94375 116.916876 \nz\n\" style=\"fill:#4c72b0;stroke:#ffffff;stroke-linejoin:miter;\"/>\n   </g>\n   <g id=\"patch_5\">\n    <path d=\"M 51.69375 230.64 \nL 51.69375 13.2 \n\" style=\"fill:none;stroke:#ffffff;stroke-linecap:square;stroke-linejoin:miter;stroke-width:1.25;\"/>\n   </g>\n   <g id=\"patch_6\">\n    <path d=\"M 386.49375 230.64 \nL 386.49375 13.2 \n\" style=\"fill:none;stroke:#ffffff;stroke-linecap:square;stroke-linejoin:miter;stroke-width:1.25;\"/>\n   </g>\n   <g id=\"patch_7\">\n    <path d=\"M 51.69375 230.64 \nL 386.49375 230.64 \n\" style=\"fill:none;stroke:#ffffff;stroke-linecap:square;stroke-linejoin:miter;stroke-width:1.25;\"/>\n   </g>\n   <g id=\"patch_8\">\n    <path d=\"M 51.69375 13.2 \nL 386.49375 13.2 \n\" style=\"fill:none;stroke:#ffffff;stroke-linecap:square;stroke-linejoin:miter;stroke-width:1.25;\"/>\n   </g>\n  </g>\n </g>\n <defs>\n  <clipPath id=\"pfe9e003e6f\">\n   <rect height=\"217.44\" width=\"334.8\" x=\"51.69375\" y=\"13.2\"/>\n  </clipPath>\n </defs>\n</svg>\n"
          },
          "metadata": {
            "tags": []
          }
        }
      ]
    },
    {
      "cell_type": "code",
      "metadata": {
        "id": "fO_bxVEzRyoX",
        "colab_type": "code",
        "colab": {}
      },
      "source": [
        "# create dataframe for feature of interest\n",
        "df_foi=df_bol[['labels','visitor_recognition_type','country_by_ip_address','region_by_ip_address']]"
      ],
      "execution_count": 0,
      "outputs": []
    },
    {
      "cell_type": "code",
      "metadata": {
        "id": "U2zX00LQgRLU",
        "colab_type": "code",
        "colab": {
          "base_uri": "https://localhost:8080/",
          "height": 195
        },
        "outputId": "5156642e-d62c-4f0e-b981-22fd4675682a"
      },
      "source": [
        "df_foi.head()"
      ],
      "execution_count": 36,
      "outputs": [
        {
          "output_type": "execute_result",
          "data": {
            "text/html": [
              "<div>\n",
              "<style scoped>\n",
              "    .dataframe tbody tr th:only-of-type {\n",
              "        vertical-align: middle;\n",
              "    }\n",
              "\n",
              "    .dataframe tbody tr th {\n",
              "        vertical-align: top;\n",
              "    }\n",
              "\n",
              "    .dataframe thead th {\n",
              "        text-align: right;\n",
              "    }\n",
              "</style>\n",
              "<table border=\"1\" class=\"dataframe\">\n",
              "  <thead>\n",
              "    <tr style=\"text-align: right;\">\n",
              "      <th></th>\n",
              "      <th>labels</th>\n",
              "      <th>visitor_recognition_type</th>\n",
              "      <th>country_by_ip_address</th>\n",
              "      <th>region_by_ip_address</th>\n",
              "    </tr>\n",
              "  </thead>\n",
              "  <tbody>\n",
              "    <tr>\n",
              "      <th>0</th>\n",
              "      <td>NHT</td>\n",
              "      <td>ANONYMOUS</td>\n",
              "      <td>US</td>\n",
              "      <td>CA</td>\n",
              "    </tr>\n",
              "    <tr>\n",
              "      <th>1</th>\n",
              "      <td>NHT</td>\n",
              "      <td>ANONYMOUS</td>\n",
              "      <td>US</td>\n",
              "      <td>CA</td>\n",
              "    </tr>\n",
              "    <tr>\n",
              "      <th>2</th>\n",
              "      <td>HT</td>\n",
              "      <td>ANONYMOUS</td>\n",
              "      <td>IT</td>\n",
              "      <td>LI</td>\n",
              "    </tr>\n",
              "    <tr>\n",
              "      <th>3</th>\n",
              "      <td>NHT</td>\n",
              "      <td>ANONYMOUS</td>\n",
              "      <td>US</td>\n",
              "      <td>CA</td>\n",
              "    </tr>\n",
              "    <tr>\n",
              "      <th>4</th>\n",
              "      <td>NHT</td>\n",
              "      <td>ANONYMOUS</td>\n",
              "      <td>US</td>\n",
              "      <td>CA</td>\n",
              "    </tr>\n",
              "  </tbody>\n",
              "</table>\n",
              "</div>"
            ],
            "text/plain": [
              "  labels visitor_recognition_type country_by_ip_address region_by_ip_address\n",
              "0    NHT                ANONYMOUS                    US                   CA\n",
              "1    NHT                ANONYMOUS                    US                   CA\n",
              "2     HT                ANONYMOUS                    IT                   LI\n",
              "3    NHT                ANONYMOUS                    US                   CA\n",
              "4    NHT                ANONYMOUS                    US                   CA"
            ]
          },
          "metadata": {
            "tags": []
          },
          "execution_count": 36
        }
      ]
    },
    {
      "cell_type": "code",
      "metadata": {
        "id": "m02ua7xTflW-",
        "colab_type": "code",
        "colab": {}
      },
      "source": [
        ""
      ],
      "execution_count": 0,
      "outputs": []
    },
    {
      "cell_type": "code",
      "metadata": {
        "id": "85_BWr1uhg5z",
        "colab_type": "code",
        "colab": {}
      },
      "source": [
        ""
      ],
      "execution_count": 0,
      "outputs": []
    }
  ]
}