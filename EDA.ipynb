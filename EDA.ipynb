{
  "nbformat": 4,
  "nbformat_minor": 0,
  "metadata": {
    "accelerator": "GPU",
    "colab": {
      "name": "EDA.ipynb",
      "provenance": [],
      "collapsed_sections": []
    },
    "kernelspec": {
      "display_name": "Python 3",
      "language": "python",
      "name": "python3"
    },
    "language_info": {
      "codemirror_mode": {
        "name": "ipython",
        "version": 3
      },
      "file_extension": ".py",
      "mimetype": "text/x-python",
      "name": "python",
      "nbconvert_exporter": "python",
      "pygments_lexer": "ipython3",
      "version": "3.6.3"
    }
  },
  "cells": [
    {
      "cell_type": "markdown",
      "metadata": {
        "colab_type": "text",
        "id": "zfSWyFCgeA12"
      },
      "source": [
        "# Problem Statement\n",
        "\n",
        "Build an optimal model that can help us to identify bot traffic(Not-human traffic) and human traffic (HT)."
      ]
    },
    {
      "cell_type": "markdown",
      "metadata": {
        "colab_type": "text",
        "id": "znXnOA8IeGF3"
      },
      "source": [
        "# Importing key modules"
      ]
    },
    {
      "cell_type": "code",
      "metadata": {
        "colab_type": "code",
        "id": "qlTOkyBUeFQ6",
        "colab": {}
      },
      "source": [
        "#support both Python 2 and Python 3 with minimal overhead.\n",
        "from __future__ import absolute_import, division, print_function\n",
        "# I am an engineer. I care only about error not warning. So, let's be maverick and ignore warnings.\n",
        "import warnings\n",
        "warnings.filterwarnings('ignore')"
      ],
      "execution_count": 0,
      "outputs": []
    },
    {
      "cell_type": "code",
      "metadata": {
        "colab_type": "code",
        "id": "PmaYA_4deKGL",
        "colab": {}
      },
      "source": [
        "# For processing and maths\n",
        "import numpy as np\n",
        "import pandas as pd\n",
        "import re\n",
        "import requests\n",
        "import pickle"
      ],
      "execution_count": 0,
      "outputs": []
    },
    {
      "cell_type": "code",
      "metadata": {
        "colab_type": "code",
        "id": "RJOw_xPQeL9X",
        "outputId": "7fc5318e-45ef-4f67-e81c-78aa7d2a3fdf",
        "colab": {
          "base_uri": "https://localhost:8080/",
          "height": 34
        }
      },
      "source": [
        "#For Visuals\n",
        "import matplotlib.pyplot as plt\n",
        "import seaborn as sns\n",
        "sns.set()\n",
        "from matplotlib import rcParams\n",
        "rcParams['figure.figsize'] = 11, 8\n",
        "%config InlineBackend.figure_format = 'svg'\n",
        "%matplotlib inline\n",
        "%pylab inline"
      ],
      "execution_count": 3,
      "outputs": [
        {
          "output_type": "stream",
          "text": [
            "Populating the interactive namespace from numpy and matplotlib\n"
          ],
          "name": "stdout"
        }
      ]
    },
    {
      "cell_type": "markdown",
      "metadata": {
        "colab_type": "text",
        "id": "mA9aE7ZGeYbb"
      },
      "source": [
        "# 2)-Loading datasets "
      ]
    },
    {
      "cell_type": "code",
      "metadata": {
        "colab_type": "code",
        "id": "nptwi6qpeX4-",
        "outputId": "ed0fdacc-8c0f-49c7-86b2-57cd67a5317f",
        "colab": {
          "base_uri": "https://localhost:8080/",
          "height": 34
        }
      },
      "source": [
        "df_bol =pd.read_csv('clickdata.csv')\n",
        "df_bol.shape"
      ],
      "execution_count": 4,
      "outputs": [
        {
          "output_type": "execute_result",
          "data": {
            "text/plain": [
              "(59782, 8)"
            ]
          },
          "metadata": {
            "tags": []
          },
          "execution_count": 4
        }
      ]
    },
    {
      "cell_type": "code",
      "metadata": {
        "colab_type": "code",
        "id": "6nz1p0HNebKz",
        "outputId": "ac31b0ac-f13d-4fcd-d795-84ae5908d1cc",
        "colab": {
          "base_uri": "https://localhost:8080/",
          "height": 102
        }
      },
      "source": [
        "df_bol.columns"
      ],
      "execution_count": 5,
      "outputs": [
        {
          "output_type": "execute_result",
          "data": {
            "text/plain": [
              "Index(['epoch_ms', 'session_id', 'country_by_ip_address',\n",
              "       'region_by_ip_address', 'url_without_parameters',\n",
              "       'referrer_without_parameters', 'visitor_recognition_type',\n",
              "       'ua_agent_class'],\n",
              "      dtype='object')"
            ]
          },
          "metadata": {
            "tags": []
          },
          "execution_count": 5
        }
      ]
    },
    {
      "cell_type": "code",
      "metadata": {
        "colab_type": "code",
        "id": "jD1utT_xebQy",
        "outputId": "4cf74c6e-ba8f-476f-9318-c7b9a07cc686",
        "colab": {
          "base_uri": "https://localhost:8080/",
          "height": 309
        }
      },
      "source": [
        "df_bol.head()"
      ],
      "execution_count": 6,
      "outputs": [
        {
          "output_type": "execute_result",
          "data": {
            "text/html": [
              "<div>\n",
              "<style scoped>\n",
              "    .dataframe tbody tr th:only-of-type {\n",
              "        vertical-align: middle;\n",
              "    }\n",
              "\n",
              "    .dataframe tbody tr th {\n",
              "        vertical-align: top;\n",
              "    }\n",
              "\n",
              "    .dataframe thead th {\n",
              "        text-align: right;\n",
              "    }\n",
              "</style>\n",
              "<table border=\"1\" class=\"dataframe\">\n",
              "  <thead>\n",
              "    <tr style=\"text-align: right;\">\n",
              "      <th></th>\n",
              "      <th>epoch_ms</th>\n",
              "      <th>session_id</th>\n",
              "      <th>country_by_ip_address</th>\n",
              "      <th>region_by_ip_address</th>\n",
              "      <th>url_without_parameters</th>\n",
              "      <th>referrer_without_parameters</th>\n",
              "      <th>visitor_recognition_type</th>\n",
              "      <th>ua_agent_class</th>\n",
              "    </tr>\n",
              "  </thead>\n",
              "  <tbody>\n",
              "    <tr>\n",
              "      <th>0</th>\n",
              "      <td>1520280001034</td>\n",
              "      <td>be73c8d1b836170a21529a1b23140f8e</td>\n",
              "      <td>US</td>\n",
              "      <td>CA</td>\n",
              "      <td>https://www.bol.com/nl/l/nederlandstalige-kuns...</td>\n",
              "      <td>NaN</td>\n",
              "      <td>ANONYMOUS</td>\n",
              "      <td>Robot</td>\n",
              "    </tr>\n",
              "    <tr>\n",
              "      <th>1</th>\n",
              "      <td>1520280001590</td>\n",
              "      <td>c24c6637ed7dcbe19ad64056184212a7</td>\n",
              "      <td>US</td>\n",
              "      <td>CA</td>\n",
              "      <td>https://www.bol.com/nl/l/italiaans-natuur-wete...</td>\n",
              "      <td>NaN</td>\n",
              "      <td>ANONYMOUS</td>\n",
              "      <td>Robot</td>\n",
              "    </tr>\n",
              "    <tr>\n",
              "      <th>2</th>\n",
              "      <td>1520280002397</td>\n",
              "      <td>ee391655f5680a7bfae0019450aed396</td>\n",
              "      <td>IT</td>\n",
              "      <td>LI</td>\n",
              "      <td>https://www.bol.com/nl/p/nespresso-magimix-ini...</td>\n",
              "      <td>https://www.bol.com/nl/p/nespresso-magimix-ini...</td>\n",
              "      <td>ANONYMOUS</td>\n",
              "      <td>Browser</td>\n",
              "    </tr>\n",
              "    <tr>\n",
              "      <th>3</th>\n",
              "      <td>1520280002598</td>\n",
              "      <td>f8c8a696dd37ca88233b2df096afa97f</td>\n",
              "      <td>US</td>\n",
              "      <td>CA</td>\n",
              "      <td>https://www.bol.com/nl/l/nieuwe-engelstalige-o...</td>\n",
              "      <td>NaN</td>\n",
              "      <td>ANONYMOUS</td>\n",
              "      <td>Robot</td>\n",
              "    </tr>\n",
              "    <tr>\n",
              "      <th>4</th>\n",
              "      <td>1520280004428</td>\n",
              "      <td>f8b0c06747b7dd1d53c0932306bd04d6</td>\n",
              "      <td>US</td>\n",
              "      <td>CA</td>\n",
              "      <td>https://www.bol.com/nl/l/nieuwe-actie-avontuur...</td>\n",
              "      <td>NaN</td>\n",
              "      <td>ANONYMOUS</td>\n",
              "      <td>Robot Mobile</td>\n",
              "    </tr>\n",
              "  </tbody>\n",
              "</table>\n",
              "</div>"
            ],
            "text/plain": [
              "        epoch_ms  ... ua_agent_class\n",
              "0  1520280001034  ...          Robot\n",
              "1  1520280001590  ...          Robot\n",
              "2  1520280002397  ...        Browser\n",
              "3  1520280002598  ...          Robot\n",
              "4  1520280004428  ...   Robot Mobile\n",
              "\n",
              "[5 rows x 8 columns]"
            ]
          },
          "metadata": {
            "tags": []
          },
          "execution_count": 6
        }
      ]
    },
    {
      "cell_type": "code",
      "metadata": {
        "colab_type": "code",
        "id": "oIgmJhYEebUK",
        "outputId": "9d6137be-633f-400f-bb3c-41cfa25f2891",
        "colab": {
          "base_uri": "https://localhost:8080/",
          "height": 309
        }
      },
      "source": [
        "df_bol.tail()"
      ],
      "execution_count": 7,
      "outputs": [
        {
          "output_type": "execute_result",
          "data": {
            "text/html": [
              "<div>\n",
              "<style scoped>\n",
              "    .dataframe tbody tr th:only-of-type {\n",
              "        vertical-align: middle;\n",
              "    }\n",
              "\n",
              "    .dataframe tbody tr th {\n",
              "        vertical-align: top;\n",
              "    }\n",
              "\n",
              "    .dataframe thead th {\n",
              "        text-align: right;\n",
              "    }\n",
              "</style>\n",
              "<table border=\"1\" class=\"dataframe\">\n",
              "  <thead>\n",
              "    <tr style=\"text-align: right;\">\n",
              "      <th></th>\n",
              "      <th>epoch_ms</th>\n",
              "      <th>session_id</th>\n",
              "      <th>country_by_ip_address</th>\n",
              "      <th>region_by_ip_address</th>\n",
              "      <th>url_without_parameters</th>\n",
              "      <th>referrer_without_parameters</th>\n",
              "      <th>visitor_recognition_type</th>\n",
              "      <th>ua_agent_class</th>\n",
              "    </tr>\n",
              "  </thead>\n",
              "  <tbody>\n",
              "    <tr>\n",
              "      <th>59777</th>\n",
              "      <td>1520287193332</td>\n",
              "      <td>6a98ec825aa0ccdc2aefb0d02f291cde</td>\n",
              "      <td>NL</td>\n",
              "      <td>NH</td>\n",
              "      <td>https://www.bol.com/nl/p/gladskin-rosacea-gel-...</td>\n",
              "      <td>NaN</td>\n",
              "      <td>RECOGNIZED</td>\n",
              "      <td>Browser</td>\n",
              "    </tr>\n",
              "    <tr>\n",
              "      <th>59778</th>\n",
              "      <td>1520287193930</td>\n",
              "      <td>70664825c07eeb2af81c77e7ef6f7493</td>\n",
              "      <td>US</td>\n",
              "      <td>CA</td>\n",
              "      <td>https://www.bol.com/nl/p/homedecoration-toront...</td>\n",
              "      <td>NaN</td>\n",
              "      <td>ANONYMOUS</td>\n",
              "      <td>Robot</td>\n",
              "    </tr>\n",
              "    <tr>\n",
              "      <th>59779</th>\n",
              "      <td>1520287196302</td>\n",
              "      <td>99935d53a2f5d6e95adaecba3ec288e6</td>\n",
              "      <td>US</td>\n",
              "      <td>CA</td>\n",
              "      <td>https://www.bol.com/nl/l/witte-nike-sportshirt...</td>\n",
              "      <td>NaN</td>\n",
              "      <td>ANONYMOUS</td>\n",
              "      <td>Robot</td>\n",
              "    </tr>\n",
              "    <tr>\n",
              "      <th>59780</th>\n",
              "      <td>1520287197700</td>\n",
              "      <td>0bff91927029f6402eff065680b0d8d8</td>\n",
              "      <td>US</td>\n",
              "      <td>CA</td>\n",
              "      <td>https://www.bol.com/nl/l/gadgetbay-randapparat...</td>\n",
              "      <td>NaN</td>\n",
              "      <td>ANONYMOUS</td>\n",
              "      <td>Robot</td>\n",
              "    </tr>\n",
              "    <tr>\n",
              "      <th>59781</th>\n",
              "      <td>1520287199048</td>\n",
              "      <td>01201ebb918c64ea4dabdabdfbcbd1b0</td>\n",
              "      <td>NL</td>\n",
              "      <td>NaN</td>\n",
              "      <td>https://www.bol.com/nl/p/hp-z3700-draadloze-mu...</td>\n",
              "      <td>NaN</td>\n",
              "      <td>ANONYMOUS</td>\n",
              "      <td>Browser</td>\n",
              "    </tr>\n",
              "  </tbody>\n",
              "</table>\n",
              "</div>"
            ],
            "text/plain": [
              "            epoch_ms  ... ua_agent_class\n",
              "59777  1520287193332  ...        Browser\n",
              "59778  1520287193930  ...          Robot\n",
              "59779  1520287196302  ...          Robot\n",
              "59780  1520287197700  ...          Robot\n",
              "59781  1520287199048  ...        Browser\n",
              "\n",
              "[5 rows x 8 columns]"
            ]
          },
          "metadata": {
            "tags": []
          },
          "execution_count": 7
        }
      ]
    },
    {
      "cell_type": "markdown",
      "metadata": {
        "colab_type": "text",
        "id": "XQHFnIwEmegJ"
      },
      "source": [
        "# 3)-Data Exploring"
      ]
    },
    {
      "cell_type": "markdown",
      "metadata": {
        "colab_type": "text",
        "id": "jw8r6BQLmp6p"
      },
      "source": [
        "### 3.1)- Checking data-type"
      ]
    },
    {
      "cell_type": "code",
      "metadata": {
        "colab_type": "code",
        "id": "Yg5ct34KmqSv",
        "outputId": "f718ccd0-db67-409d-f5a0-cbebfe88499a",
        "colab": {
          "base_uri": "https://localhost:8080/",
          "height": 297
        }
      },
      "source": [
        "# Checking all variables with their data-type\n",
        "def _tbl_dtype(dataset):\n",
        "    sum_dtype = pd.DataFrame(dataset.dtypes).sort_values(0).rename(columns = {0:'Data Type'})\n",
        "    return sum_dtype\n",
        "\n",
        "table_dtype = _tbl_dtype(df_bol)\n",
        "table_dtype"
      ],
      "execution_count": 8,
      "outputs": [
        {
          "output_type": "execute_result",
          "data": {
            "text/html": [
              "<div>\n",
              "<style scoped>\n",
              "    .dataframe tbody tr th:only-of-type {\n",
              "        vertical-align: middle;\n",
              "    }\n",
              "\n",
              "    .dataframe tbody tr th {\n",
              "        vertical-align: top;\n",
              "    }\n",
              "\n",
              "    .dataframe thead th {\n",
              "        text-align: right;\n",
              "    }\n",
              "</style>\n",
              "<table border=\"1\" class=\"dataframe\">\n",
              "  <thead>\n",
              "    <tr style=\"text-align: right;\">\n",
              "      <th></th>\n",
              "      <th>Data Type</th>\n",
              "    </tr>\n",
              "  </thead>\n",
              "  <tbody>\n",
              "    <tr>\n",
              "      <th>epoch_ms</th>\n",
              "      <td>int64</td>\n",
              "    </tr>\n",
              "    <tr>\n",
              "      <th>session_id</th>\n",
              "      <td>object</td>\n",
              "    </tr>\n",
              "    <tr>\n",
              "      <th>country_by_ip_address</th>\n",
              "      <td>object</td>\n",
              "    </tr>\n",
              "    <tr>\n",
              "      <th>region_by_ip_address</th>\n",
              "      <td>object</td>\n",
              "    </tr>\n",
              "    <tr>\n",
              "      <th>url_without_parameters</th>\n",
              "      <td>object</td>\n",
              "    </tr>\n",
              "    <tr>\n",
              "      <th>referrer_without_parameters</th>\n",
              "      <td>object</td>\n",
              "    </tr>\n",
              "    <tr>\n",
              "      <th>visitor_recognition_type</th>\n",
              "      <td>object</td>\n",
              "    </tr>\n",
              "    <tr>\n",
              "      <th>ua_agent_class</th>\n",
              "      <td>object</td>\n",
              "    </tr>\n",
              "  </tbody>\n",
              "</table>\n",
              "</div>"
            ],
            "text/plain": [
              "                            Data Type\n",
              "epoch_ms                        int64\n",
              "session_id                     object\n",
              "country_by_ip_address          object\n",
              "region_by_ip_address           object\n",
              "url_without_parameters         object\n",
              "referrer_without_parameters    object\n",
              "visitor_recognition_type       object\n",
              "ua_agent_class                 object"
            ]
          },
          "metadata": {
            "tags": []
          },
          "execution_count": 8
        }
      ]
    },
    {
      "cell_type": "markdown",
      "metadata": {
        "colab_type": "text",
        "id": "ihuSrOWymi3q"
      },
      "source": [
        "### 3.2)- Checking missing values"
      ]
    },
    {
      "cell_type": "code",
      "metadata": {
        "id": "t0eWDwB5Z0pC",
        "colab_type": "code",
        "outputId": "498c688f-a3f5-4b3c-c0e9-f8c794625692",
        "colab": {
          "base_uri": "https://localhost:8080/",
          "height": 680
        }
      },
      "source": [
        "import missingno as msno\n",
        "\n",
        "msno.matrix(df_bol.sample(500),\n",
        "            figsize=(10, 5),\n",
        "            width_ratios=(15, 1))"
      ],
      "execution_count": 9,
      "outputs": [
        {
          "output_type": "execute_result",
          "data": {
            "text/plain": [
              "<matplotlib.axes._subplots.AxesSubplot at 0x7f807d2add68>"
            ]
          },
          "metadata": {
            "tags": []
          },
          "execution_count": 9
        },
        {
          "output_type": "display_data",
          "data": {
            "text/plain": [
              "<Figure size 720x360 with 2 Axes>"
            ],
            "image/svg+xml": "<?xml version=\"1.0\" encoding=\"utf-8\" standalone=\"no\"?>\n<!DOCTYPE svg PUBLIC \"-//W3C//DTD SVG 1.1//EN\"\n  \"http://www.w3.org/Graphics/SVG/1.1/DTD/svg11.dtd\">\n<!-- Created with matplotlib (https://matplotlib.org/) -->\n<svg height=\"481.378233pt\" version=\"1.1\" viewBox=\"0 0 631.09016 481.378233\" width=\"631.09016pt\" xmlns=\"http://www.w3.org/2000/svg\" xmlns:xlink=\"http://www.w3.org/1999/xlink\">\n <defs>\n  <style type=\"text/css\">\n*{stroke-linecap:butt;stroke-linejoin:round;}\n  </style>\n </defs>\n <g id=\"figure_1\">\n  <g id=\"patch_1\">\n   <path d=\"M 0 481.378233 \nL 631.09016 481.378233 \nL 631.09016 0 \nL 0 0 \nz\n\" style=\"fill:none;\"/>\n  </g>\n  <g id=\"axes_1\">\n   <g id=\"patch_2\">\n    <path d=\"M 579.341346 462.69222 \nL 612.875 462.69222 \nL 612.875 190.89222 \nL 579.341346 190.89222 \nz\n\" style=\"fill:#ffffff;\"/>\n   </g>\n   <g id=\"matplotlib.axis_1\"/>\n   <g id=\"matplotlib.axis_2\"/>\n   <g id=\"line2d_1\">\n    <path clip-path=\"url(#p4310c335d4)\" d=\"M 596.108173 462.69222 \nL 596.108173 461.602841 \nL 590.519231 461.058152 \nL 601.697115 459.968773 \nL 596.108173 459.424084 \nL 596.108173 458.879394 \nL 590.519231 458.334705 \nL 601.697115 457.790016 \nL 596.108173 457.245326 \nL 596.108173 455.611258 \nL 590.519231 455.066569 \nL 596.108173 454.521879 \nL 596.108173 453.97719 \nL 590.519231 453.432501 \nL 601.697115 452.343122 \nL 590.519231 451.798432 \nL 596.108173 451.253743 \nL 596.108173 449.619675 \nL 590.519231 449.074986 \nL 596.108173 448.530296 \nL 596.108173 447.440917 \nL 590.519231 446.896228 \nL 596.108173 446.351539 \nL 590.519231 445.806849 \nL 590.519231 445.26216 \nL 601.697115 444.172781 \nL 601.697115 443.628092 \nL 596.108173 443.083402 \nL 601.697115 442.538713 \nL 601.697115 441.994024 \nL 596.108173 441.449334 \nL 596.108173 439.815266 \nL 601.697115 439.270577 \nL 596.108173 438.725887 \nL 596.108173 437.091819 \nL 590.519231 436.54713 \nL 601.697115 436.00244 \nL 590.519231 434.913062 \nL 590.519231 434.368372 \nL 596.108173 433.823683 \nL 596.108173 433.278994 \nL 590.519231 432.734304 \nL 590.519231 432.189615 \nL 601.697115 431.644925 \nL 601.697115 431.100236 \nL 596.108173 430.555547 \nL 601.697115 430.010857 \nL 596.108173 429.466168 \nL 601.697115 428.921479 \nL 596.108173 428.376789 \nL 596.108173 426.742721 \nL 590.519231 426.198032 \nL 596.108173 425.653342 \nL 596.108173 423.474585 \nL 590.519231 422.929895 \nL 596.108173 422.385206 \nL 596.108173 420.751138 \nL 601.697115 420.206448 \nL 596.108173 419.661759 \nL 596.108173 418.027691 \nL 590.519231 417.483002 \nL 601.697115 416.393623 \nL 596.108173 415.848933 \nL 596.108173 415.304244 \nL 601.697115 414.759555 \nL 596.108173 414.214865 \nL 596.108173 412.580797 \nL 590.519231 412.036108 \nL 596.108173 411.491418 \nL 596.108173 410.946729 \nL 590.519231 410.40204 \nL 596.108173 409.85735 \nL 596.108173 408.767972 \nL 590.519231 408.223282 \nL 590.519231 407.678593 \nL 596.108173 407.133903 \nL 596.108173 406.589214 \nL 601.697115 406.044525 \nL 601.697115 403.321078 \nL 596.108173 402.776388 \nL 596.108173 401.14232 \nL 590.519231 400.597631 \nL 596.108173 400.052941 \nL 590.519231 399.508252 \nL 596.108173 398.963563 \nL 590.519231 398.418873 \nL 596.108173 397.874184 \nL 596.108173 395.150737 \nL 601.697115 394.606048 \nL 601.697115 394.061358 \nL 596.108173 393.516669 \nL 596.108173 391.882601 \nL 601.697115 391.337911 \nL 596.108173 390.793222 \nL 596.108173 388.614465 \nL 590.519231 388.069775 \nL 601.697115 386.980396 \nL 590.519231 385.891018 \nL 601.697115 385.346328 \nL 596.108173 384.801639 \nL 596.108173 383.71226 \nL 590.519231 383.167571 \nL 601.697115 382.078192 \nL 601.697115 381.533503 \nL 596.108173 380.988813 \nL 596.108173 378.265366 \nL 601.697115 377.720677 \nL 596.108173 377.175988 \nL 596.108173 376.631298 \nL 590.519231 376.086609 \nL 596.108173 375.541919 \nL 590.519231 374.99723 \nL 596.108173 374.452541 \nL 596.108173 367.916268 \nL 601.697115 367.371579 \nL 596.108173 366.826889 \nL 596.108173 366.2822 \nL 601.697115 365.737511 \nL 590.519231 364.648132 \nL 601.697115 363.558753 \nL 596.108173 363.014064 \nL 596.108173 362.469374 \nL 590.519231 361.924685 \nL 596.108173 361.379996 \nL 596.108173 360.290617 \nL 590.519231 359.745927 \nL 596.108173 359.201238 \nL 596.108173 357.022481 \nL 601.697115 356.477791 \nL 590.519231 355.933102 \nL 596.108173 355.388412 \nL 596.108173 354.843723 \nL 590.519231 354.299034 \nL 596.108173 353.754344 \nL 596.108173 353.209655 \nL 601.697115 352.664966 \nL 596.108173 352.120276 \nL 596.108173 350.486208 \nL 601.697115 349.941519 \nL 590.519231 348.85214 \nL 596.108173 348.30745 \nL 596.108173 347.218072 \nL 590.519231 346.673382 \nL 596.108173 346.128693 \nL 596.108173 344.494625 \nL 590.519231 343.949935 \nL 596.108173 343.405246 \nL 596.108173 342.860557 \nL 601.697115 342.315867 \nL 596.108173 341.771178 \nL 596.108173 341.226489 \nL 601.697115 340.681799 \nL 596.108173 340.13711 \nL 596.108173 339.59242 \nL 590.519231 339.047731 \nL 601.697115 337.958352 \nL 601.697115 337.413663 \nL 596.108173 336.868974 \nL 601.697115 336.324284 \nL 596.108173 335.779595 \nL 596.108173 335.234905 \nL 601.697115 334.690216 \nL 596.108173 334.145527 \nL 596.108173 331.42208 \nL 601.697115 330.87739 \nL 596.108173 330.332701 \nL 596.108173 327.064565 \nL 601.697115 326.519875 \nL 596.108173 325.975186 \nL 596.108173 323.796428 \nL 601.697115 323.251739 \nL 596.108173 322.70705 \nL 601.697115 322.16236 \nL 596.108173 321.617671 \nL 596.108173 320.528292 \nL 601.697115 319.983603 \nL 590.519231 318.894224 \nL 601.697115 318.349535 \nL 596.108173 317.804845 \nL 596.108173 316.170777 \nL 601.697115 315.626088 \nL 590.519231 314.536709 \nL 601.697115 313.99202 \nL 590.519231 312.902641 \nL 590.519231 312.357951 \nL 596.108173 311.813262 \nL 596.108173 311.268573 \nL 601.697115 310.723883 \nL 596.108173 310.179194 \nL 601.697115 309.634505 \nL 596.108173 309.089815 \nL 596.108173 305.821679 \nL 590.519231 305.27699 \nL 601.697115 304.7323 \nL 601.697115 304.187611 \nL 596.108173 303.642921 \nL 596.108173 302.008853 \nL 601.697115 301.464164 \nL 596.108173 300.919475 \nL 596.108173 299.830096 \nL 601.697115 299.285406 \nL 601.697115 298.740717 \nL 596.108173 298.196028 \nL 601.697115 297.651338 \nL 590.519231 296.561959 \nL 601.697115 296.01727 \nL 596.108173 295.472581 \nL 601.697115 294.927891 \nL 590.519231 294.383202 \nL 596.108173 293.838513 \nL 596.108173 290.570376 \nL 601.697115 290.025687 \nL 596.108173 289.480998 \nL 596.108173 288.936308 \nL 590.519231 288.391619 \nL 596.108173 287.846929 \nL 596.108173 281.310657 \nL 590.519231 280.765968 \nL 596.108173 280.221278 \nL 596.108173 277.497831 \nL 590.519231 276.953142 \nL 601.697115 276.408452 \nL 590.519231 275.319074 \nL 596.108173 274.774384 \nL 596.108173 273.685006 \nL 601.697115 273.140316 \nL 590.519231 272.050937 \nL 601.697115 270.961559 \nL 590.519231 270.416869 \nL 596.108173 269.87218 \nL 596.108173 268.782801 \nL 590.519231 268.238112 \nL 596.108173 267.693422 \nL 596.108173 267.148733 \nL 601.697115 266.604044 \nL 596.108173 266.059354 \nL 596.108173 264.969976 \nL 601.697115 264.425286 \nL 596.108173 263.880597 \nL 596.108173 260.067771 \nL 601.697115 259.523082 \nL 596.108173 258.978392 \nL 601.697115 258.433703 \nL 596.108173 257.889014 \nL 596.108173 257.344324 \nL 601.697115 256.799635 \nL 590.519231 255.710256 \nL 596.108173 255.165567 \nL 596.108173 254.620877 \nL 601.697115 254.076188 \nL 601.697115 253.531499 \nL 596.108173 252.986809 \nL 596.108173 252.44212 \nL 601.697115 251.89743 \nL 596.108173 251.352741 \nL 596.108173 250.808052 \nL 601.697115 250.263362 \nL 590.519231 249.173984 \nL 596.108173 248.629294 \nL 596.108173 247.539915 \nL 590.519231 246.995226 \nL 596.108173 246.450537 \nL 596.108173 243.72709 \nL 601.697115 243.1824 \nL 596.108173 242.637711 \nL 596.108173 238.824885 \nL 601.697115 238.280196 \nL 596.108173 237.735507 \nL 596.108173 237.190817 \nL 601.697115 236.646128 \nL 601.697115 236.101438 \nL 590.519231 235.556749 \nL 601.697115 235.01206 \nL 596.108173 234.46737 \nL 596.108173 233.377992 \nL 601.697115 232.833302 \nL 596.108173 232.288613 \nL 596.108173 231.743923 \nL 590.519231 231.199234 \nL 596.108173 230.654545 \nL 596.108173 229.020477 \nL 601.697115 228.475787 \nL 596.108173 227.931098 \nL 601.697115 227.386408 \nL 596.108173 226.841719 \nL 601.697115 226.29703 \nL 596.108173 225.75234 \nL 596.108173 225.207651 \nL 590.519231 224.662961 \nL 601.697115 223.573583 \nL 590.519231 222.484204 \nL 596.108173 221.939515 \nL 590.519231 221.394825 \nL 601.697115 220.305446 \nL 601.697115 219.216068 \nL 596.108173 218.671378 \nL 596.108173 217.582 \nL 590.519231 217.03731 \nL 596.108173 216.492621 \nL 596.108173 215.403242 \nL 601.697115 214.858553 \nL 596.108173 214.313863 \nL 596.108173 212.679795 \nL 601.697115 212.135106 \nL 590.519231 211.590416 \nL 596.108173 211.045727 \nL 596.108173 209.956348 \nL 590.519231 209.411659 \nL 590.519231 208.86697 \nL 601.697115 207.777591 \nL 601.697115 207.232901 \nL 596.108173 206.688212 \nL 596.108173 202.875386 \nL 590.519231 202.330697 \nL 601.697115 201.786008 \nL 596.108173 201.241318 \nL 596.108173 197.973182 \nL 590.519231 197.428493 \nL 596.108173 196.883803 \nL 596.108173 194.160356 \nL 601.697115 193.615667 \nL 590.519231 193.070978 \nL 596.108173 192.526288 \nL 596.108173 191.436909 \nL 601.697115 190.89222 \nL 601.697115 190.89222 \n\" style=\"fill:none;stroke:#404040;stroke-linecap:round;stroke-width:1.5;\"/>\n   </g>\n   <g id=\"line2d_2\">\n    <defs>\n     <path d=\"M 0 2.5 \nC 0.663008 2.5 1.29895 2.236584 1.767767 1.767767 \nC 2.236584 1.29895 2.5 0.663008 2.5 0 \nC 2.5 -0.663008 2.236584 -1.29895 1.767767 -1.767767 \nC 1.29895 -2.236584 0.663008 -2.5 0 -2.5 \nC -0.663008 -2.5 -1.29895 -2.236584 -1.767767 -1.767767 \nC -2.236584 -1.29895 -2.5 -0.663008 -2.5 0 \nC -2.5 0.663008 -2.236584 1.29895 -1.767767 1.767767 \nC -1.29895 2.236584 -0.663008 2.5 0 2.5 \nz\n\" id=\"mcc1ba8e3fb\" style=\"stroke:#404040;\"/>\n    </defs>\n    <g clip-path=\"url(#p4310c335d4)\">\n     <use style=\"fill:#404040;stroke:#404040;\" x=\"590.519231\" xlink:href=\"#mcc1ba8e3fb\" y=\"461.058152\"/>\n    </g>\n   </g>\n   <g id=\"line2d_3\">\n    <g clip-path=\"url(#p4310c335d4)\">\n     <use style=\"fill:#404040;stroke:#404040;\" x=\"601.697115\" xlink:href=\"#mcc1ba8e3fb\" y=\"459.968773\"/>\n    </g>\n   </g>\n   <g id=\"text_1\">\n    <!-- 8 -->\n    <defs>\n     <path d=\"M 31.78125 34.625 \nQ 24.75 34.625 20.71875 30.859375 \nQ 16.703125 27.09375 16.703125 20.515625 \nQ 16.703125 13.921875 20.71875 10.15625 \nQ 24.75 6.390625 31.78125 6.390625 \nQ 38.8125 6.390625 42.859375 10.171875 \nQ 46.921875 13.96875 46.921875 20.515625 \nQ 46.921875 27.09375 42.890625 30.859375 \nQ 38.875 34.625 31.78125 34.625 \nz\nM 21.921875 38.8125 \nQ 15.578125 40.375 12.03125 44.71875 \nQ 8.5 49.078125 8.5 55.328125 \nQ 8.5 64.0625 14.71875 69.140625 \nQ 20.953125 74.21875 31.78125 74.21875 \nQ 42.671875 74.21875 48.875 69.140625 \nQ 55.078125 64.0625 55.078125 55.328125 \nQ 55.078125 49.078125 51.53125 44.71875 \nQ 48 40.375 41.703125 38.8125 \nQ 48.828125 37.15625 52.796875 32.3125 \nQ 56.78125 27.484375 56.78125 20.515625 \nQ 56.78125 9.90625 50.3125 4.234375 \nQ 43.84375 -1.421875 31.78125 -1.421875 \nQ 19.734375 -1.421875 13.25 4.234375 \nQ 6.78125 9.90625 6.78125 20.515625 \nQ 6.78125 27.484375 10.78125 32.3125 \nQ 14.796875 37.15625 21.921875 38.8125 \nz\nM 18.3125 54.390625 \nQ 18.3125 48.734375 21.84375 45.5625 \nQ 25.390625 42.390625 31.78125 42.390625 \nQ 38.140625 42.390625 41.71875 45.5625 \nQ 45.3125 48.734375 45.3125 54.390625 \nQ 45.3125 60.0625 41.71875 63.234375 \nQ 38.140625 66.40625 31.78125 66.40625 \nQ 25.390625 66.40625 21.84375 63.234375 \nQ 18.3125 60.0625 18.3125 54.390625 \nz\n\" id=\"DejaVuSans-56\"/>\n    </defs>\n    <g style=\"fill:#262626;\" transform=\"translate(612.875 463.831898)scale(0.14 -0.14)\">\n     <use xlink:href=\"#DejaVuSans-56\"/>\n    </g>\n   </g>\n   <g id=\"text_2\">\n    <!-- 6 -->\n    <defs>\n     <path d=\"M 33.015625 40.375 \nQ 26.375 40.375 22.484375 35.828125 \nQ 18.609375 31.296875 18.609375 23.390625 \nQ 18.609375 15.53125 22.484375 10.953125 \nQ 26.375 6.390625 33.015625 6.390625 \nQ 39.65625 6.390625 43.53125 10.953125 \nQ 47.40625 15.53125 47.40625 23.390625 \nQ 47.40625 31.296875 43.53125 35.828125 \nQ 39.65625 40.375 33.015625 40.375 \nz\nM 52.59375 71.296875 \nL 52.59375 62.3125 \nQ 48.875 64.0625 45.09375 64.984375 \nQ 41.3125 65.921875 37.59375 65.921875 \nQ 27.828125 65.921875 22.671875 59.328125 \nQ 17.53125 52.734375 16.796875 39.40625 \nQ 19.671875 43.65625 24.015625 45.921875 \nQ 28.375 48.1875 33.59375 48.1875 \nQ 44.578125 48.1875 50.953125 41.515625 \nQ 57.328125 34.859375 57.328125 23.390625 \nQ 57.328125 12.15625 50.6875 5.359375 \nQ 44.046875 -1.421875 33.015625 -1.421875 \nQ 20.359375 -1.421875 13.671875 8.265625 \nQ 6.984375 17.96875 6.984375 36.375 \nQ 6.984375 53.65625 15.1875 63.9375 \nQ 23.390625 74.21875 37.203125 74.21875 \nQ 40.921875 74.21875 44.703125 73.484375 \nQ 48.484375 72.75 52.59375 71.296875 \nz\n\" id=\"DejaVuSans-54\"/>\n    </defs>\n    <g style=\"fill:#262626;\" transform=\"translate(570.433846 464.921277)scale(0.14 -0.14)\">\n     <use xlink:href=\"#DejaVuSans-54\"/>\n    </g>\n   </g>\n  </g>\n  <g id=\"axes_2\">\n   <g id=\"patch_3\">\n    <path d=\"M 54.875 462.69222 \nL 557.879808 462.69222 \nL 557.879808 190.89222 \nL 54.875 190.89222 \nz\n\" style=\"fill:#eaeaf2;\"/>\n   </g>\n   <g clip-path=\"url(#p8dc5a68940)\">\n    <image height=\"500\" id=\"image5bd09ea8b7\" transform=\"matrix(63 0 0 0.544 54.875 190.69222)\" width=\"8\" xlink:href=\"data:image/png;base64,\niVBORw0KGgoAAAANSUhEUgAAAAgAAAH0CAYAAAAAKGxdAAAABHNCSVQICAgIfAhkiAAAAb5JREFUeJztWksWgyAMrL2YHt2btSvfcxFMDDDMiFm285Iw5Ae4rOv6+1zI1/px3/drgKuhCDirPmRhcxIAsHgwNWzbZgOOP+R4uLfdx/KKyzwTdKlhdibDgCIP4aAtAtzNcjW4ANkKk8uLIqA+qsMmigDXhCWdotoF5MM+XIJuaWgcDxawfjfrM4tBA133H7QXDM0d3dQsYWBSAjAjUQyjO6ChWKYY4oGhPkyyFzNmdwrAQBTah0GnA/RZjzW76WpU/UVN2MTImxyGsH8BrQDPPYjRAfrUakCNGjVH3TKhNz+kAI2ZBPQsACDVFvVOB31eHyQKCGAK0uMhrKGtDwyrYOCBYRUvD0EA3XVTu2nQBbQ92utRnTKhd+ZlcPJZl0VnZ+lC7pD8FAS4PAxrKALqhz3ZvECXQdbkpfsuqB7QLqq1P+qrzwuJzApr6Aho19RcE64G8HWT3tGeoWelABKJgw574KvcyDGJQYMldAHDBGC7jqYbMBhMpAB0k7lrYmImdcOe7SNPwCoY3lDQD8GuBkAhTflA9xFXCiBRggDvF3RPJK4JhqHXrXKWLwxh7xKlN4E8Y8jpUyf1dtOSP40lN1BLsqiRAAAAAElFTkSuQmCC\"/>\n   </g>\n   <g id=\"matplotlib.axis_3\">\n    <g id=\"xtick_1\">\n     <g id=\"text_3\">\n      <!-- epoch_ms -->\n      <defs>\n       <path d=\"M 56.203125 29.59375 \nL 56.203125 25.203125 \nL 14.890625 25.203125 \nQ 15.484375 15.921875 20.484375 11.0625 \nQ 25.484375 6.203125 34.421875 6.203125 \nQ 39.59375 6.203125 44.453125 7.46875 \nQ 49.3125 8.734375 54.109375 11.28125 \nL 54.109375 2.78125 \nQ 49.265625 0.734375 44.1875 -0.34375 \nQ 39.109375 -1.421875 33.890625 -1.421875 \nQ 20.796875 -1.421875 13.15625 6.1875 \nQ 5.515625 13.8125 5.515625 26.8125 \nQ 5.515625 40.234375 12.765625 48.109375 \nQ 20.015625 56 32.328125 56 \nQ 43.359375 56 49.78125 48.890625 \nQ 56.203125 41.796875 56.203125 29.59375 \nz\nM 47.21875 32.234375 \nQ 47.125 39.59375 43.09375 43.984375 \nQ 39.0625 48.390625 32.421875 48.390625 \nQ 24.90625 48.390625 20.390625 44.140625 \nQ 15.875 39.890625 15.1875 32.171875 \nz\n\" id=\"DejaVuSans-101\"/>\n       <path d=\"M 18.109375 8.203125 \nL 18.109375 -20.796875 \nL 9.078125 -20.796875 \nL 9.078125 54.6875 \nL 18.109375 54.6875 \nL 18.109375 46.390625 \nQ 20.953125 51.265625 25.265625 53.625 \nQ 29.59375 56 35.59375 56 \nQ 45.5625 56 51.78125 48.09375 \nQ 58.015625 40.1875 58.015625 27.296875 \nQ 58.015625 14.40625 51.78125 6.484375 \nQ 45.5625 -1.421875 35.59375 -1.421875 \nQ 29.59375 -1.421875 25.265625 0.953125 \nQ 20.953125 3.328125 18.109375 8.203125 \nz\nM 48.6875 27.296875 \nQ 48.6875 37.203125 44.609375 42.84375 \nQ 40.53125 48.484375 33.40625 48.484375 \nQ 26.265625 48.484375 22.1875 42.84375 \nQ 18.109375 37.203125 18.109375 27.296875 \nQ 18.109375 17.390625 22.1875 11.75 \nQ 26.265625 6.109375 33.40625 6.109375 \nQ 40.53125 6.109375 44.609375 11.75 \nQ 48.6875 17.390625 48.6875 27.296875 \nz\n\" id=\"DejaVuSans-112\"/>\n       <path d=\"M 30.609375 48.390625 \nQ 23.390625 48.390625 19.1875 42.75 \nQ 14.984375 37.109375 14.984375 27.296875 \nQ 14.984375 17.484375 19.15625 11.84375 \nQ 23.34375 6.203125 30.609375 6.203125 \nQ 37.796875 6.203125 41.984375 11.859375 \nQ 46.1875 17.53125 46.1875 27.296875 \nQ 46.1875 37.015625 41.984375 42.703125 \nQ 37.796875 48.390625 30.609375 48.390625 \nz\nM 30.609375 56 \nQ 42.328125 56 49.015625 48.375 \nQ 55.71875 40.765625 55.71875 27.296875 \nQ 55.71875 13.875 49.015625 6.21875 \nQ 42.328125 -1.421875 30.609375 -1.421875 \nQ 18.84375 -1.421875 12.171875 6.21875 \nQ 5.515625 13.875 5.515625 27.296875 \nQ 5.515625 40.765625 12.171875 48.375 \nQ 18.84375 56 30.609375 56 \nz\n\" id=\"DejaVuSans-111\"/>\n       <path d=\"M 48.78125 52.59375 \nL 48.78125 44.1875 \nQ 44.96875 46.296875 41.140625 47.34375 \nQ 37.3125 48.390625 33.40625 48.390625 \nQ 24.65625 48.390625 19.8125 42.84375 \nQ 14.984375 37.3125 14.984375 27.296875 \nQ 14.984375 17.28125 19.8125 11.734375 \nQ 24.65625 6.203125 33.40625 6.203125 \nQ 37.3125 6.203125 41.140625 7.25 \nQ 44.96875 8.296875 48.78125 10.40625 \nL 48.78125 2.09375 \nQ 45.015625 0.34375 40.984375 -0.53125 \nQ 36.96875 -1.421875 32.421875 -1.421875 \nQ 20.0625 -1.421875 12.78125 6.34375 \nQ 5.515625 14.109375 5.515625 27.296875 \nQ 5.515625 40.671875 12.859375 48.328125 \nQ 20.21875 56 33.015625 56 \nQ 37.15625 56 41.109375 55.140625 \nQ 45.0625 54.296875 48.78125 52.59375 \nz\n\" id=\"DejaVuSans-99\"/>\n       <path d=\"M 54.890625 33.015625 \nL 54.890625 0 \nL 45.90625 0 \nL 45.90625 32.71875 \nQ 45.90625 40.484375 42.875 44.328125 \nQ 39.84375 48.1875 33.796875 48.1875 \nQ 26.515625 48.1875 22.3125 43.546875 \nQ 18.109375 38.921875 18.109375 30.90625 \nL 18.109375 0 \nL 9.078125 0 \nL 9.078125 75.984375 \nL 18.109375 75.984375 \nL 18.109375 46.1875 \nQ 21.34375 51.125 25.703125 53.5625 \nQ 30.078125 56 35.796875 56 \nQ 45.21875 56 50.046875 50.171875 \nQ 54.890625 44.34375 54.890625 33.015625 \nz\n\" id=\"DejaVuSans-104\"/>\n       <path d=\"M 50.984375 -16.609375 \nL 50.984375 -23.578125 \nL -0.984375 -23.578125 \nL -0.984375 -16.609375 \nz\n\" id=\"DejaVuSans-95\"/>\n       <path d=\"M 52 44.1875 \nQ 55.375 50.25 60.0625 53.125 \nQ 64.75 56 71.09375 56 \nQ 79.640625 56 84.28125 50.015625 \nQ 88.921875 44.046875 88.921875 33.015625 \nL 88.921875 0 \nL 79.890625 0 \nL 79.890625 32.71875 \nQ 79.890625 40.578125 77.09375 44.375 \nQ 74.3125 48.1875 68.609375 48.1875 \nQ 61.625 48.1875 57.5625 43.546875 \nQ 53.515625 38.921875 53.515625 30.90625 \nL 53.515625 0 \nL 44.484375 0 \nL 44.484375 32.71875 \nQ 44.484375 40.625 41.703125 44.40625 \nQ 38.921875 48.1875 33.109375 48.1875 \nQ 26.21875 48.1875 22.15625 43.53125 \nQ 18.109375 38.875 18.109375 30.90625 \nL 18.109375 0 \nL 9.078125 0 \nL 9.078125 54.6875 \nL 18.109375 54.6875 \nL 18.109375 46.1875 \nQ 21.1875 51.21875 25.484375 53.609375 \nQ 29.78125 56 35.6875 56 \nQ 41.65625 56 45.828125 52.96875 \nQ 50 49.953125 52 44.1875 \nz\n\" id=\"DejaVuSans-109\"/>\n       <path d=\"M 44.28125 53.078125 \nL 44.28125 44.578125 \nQ 40.484375 46.53125 36.375 47.5 \nQ 32.28125 48.484375 27.875 48.484375 \nQ 21.1875 48.484375 17.84375 46.4375 \nQ 14.5 44.390625 14.5 40.28125 \nQ 14.5 37.15625 16.890625 35.375 \nQ 19.28125 33.59375 26.515625 31.984375 \nL 29.59375 31.296875 \nQ 39.15625 29.25 43.1875 25.515625 \nQ 47.21875 21.78125 47.21875 15.09375 \nQ 47.21875 7.46875 41.1875 3.015625 \nQ 35.15625 -1.421875 24.609375 -1.421875 \nQ 20.21875 -1.421875 15.453125 -0.5625 \nQ 10.6875 0.296875 5.421875 2 \nL 5.421875 11.28125 \nQ 10.40625 8.6875 15.234375 7.390625 \nQ 20.0625 6.109375 24.8125 6.109375 \nQ 31.15625 6.109375 34.5625 8.28125 \nQ 37.984375 10.453125 37.984375 14.40625 \nQ 37.984375 18.0625 35.515625 20.015625 \nQ 33.0625 21.96875 24.703125 23.78125 \nL 21.578125 24.515625 \nQ 13.234375 26.265625 9.515625 29.90625 \nQ 5.8125 33.546875 5.8125 39.890625 \nQ 5.8125 47.609375 11.28125 51.796875 \nQ 16.75 56 26.8125 56 \nQ 31.78125 56 36.171875 55.265625 \nQ 40.578125 54.546875 44.28125 53.078125 \nz\n\" id=\"DejaVuSans-115\"/>\n      </defs>\n      <g style=\"fill:#262626;\" transform=\"translate(94.909451 178.72466)rotate(-45)scale(0.16 -0.16)\">\n       <use xlink:href=\"#DejaVuSans-101\"/>\n       <use x=\"61.523438\" xlink:href=\"#DejaVuSans-112\"/>\n       <use x=\"125\" xlink:href=\"#DejaVuSans-111\"/>\n       <use x=\"186.181641\" xlink:href=\"#DejaVuSans-99\"/>\n       <use x=\"241.162109\" xlink:href=\"#DejaVuSans-104\"/>\n       <use x=\"304.541016\" xlink:href=\"#DejaVuSans-95\"/>\n       <use x=\"354.541016\" xlink:href=\"#DejaVuSans-109\"/>\n       <use x=\"451.953125\" xlink:href=\"#DejaVuSans-115\"/>\n      </g>\n     </g>\n    </g>\n    <g id=\"xtick_2\">\n     <g id=\"text_4\">\n      <!-- session_id -->\n      <defs>\n       <path d=\"M 9.421875 54.6875 \nL 18.40625 54.6875 \nL 18.40625 0 \nL 9.421875 0 \nz\nM 9.421875 75.984375 \nL 18.40625 75.984375 \nL 18.40625 64.59375 \nL 9.421875 64.59375 \nz\n\" id=\"DejaVuSans-105\"/>\n       <path d=\"M 54.890625 33.015625 \nL 54.890625 0 \nL 45.90625 0 \nL 45.90625 32.71875 \nQ 45.90625 40.484375 42.875 44.328125 \nQ 39.84375 48.1875 33.796875 48.1875 \nQ 26.515625 48.1875 22.3125 43.546875 \nQ 18.109375 38.921875 18.109375 30.90625 \nL 18.109375 0 \nL 9.078125 0 \nL 9.078125 54.6875 \nL 18.109375 54.6875 \nL 18.109375 46.1875 \nQ 21.34375 51.125 25.703125 53.5625 \nQ 30.078125 56 35.796875 56 \nQ 45.21875 56 50.046875 50.171875 \nQ 54.890625 44.34375 54.890625 33.015625 \nz\n\" id=\"DejaVuSans-110\"/>\n       <path d=\"M 45.40625 46.390625 \nL 45.40625 75.984375 \nL 54.390625 75.984375 \nL 54.390625 0 \nL 45.40625 0 \nL 45.40625 8.203125 \nQ 42.578125 3.328125 38.25 0.953125 \nQ 33.9375 -1.421875 27.875 -1.421875 \nQ 17.96875 -1.421875 11.734375 6.484375 \nQ 5.515625 14.40625 5.515625 27.296875 \nQ 5.515625 40.1875 11.734375 48.09375 \nQ 17.96875 56 27.875 56 \nQ 33.9375 56 38.25 53.625 \nQ 42.578125 51.265625 45.40625 46.390625 \nz\nM 14.796875 27.296875 \nQ 14.796875 17.390625 18.875 11.75 \nQ 22.953125 6.109375 30.078125 6.109375 \nQ 37.203125 6.109375 41.296875 11.75 \nQ 45.40625 17.390625 45.40625 27.296875 \nQ 45.40625 37.203125 41.296875 42.84375 \nQ 37.203125 48.484375 30.078125 48.484375 \nQ 22.953125 48.484375 18.875 42.84375 \nQ 14.796875 37.203125 14.796875 27.296875 \nz\n\" id=\"DejaVuSans-100\"/>\n      </defs>\n      <g style=\"fill:#262626;\" transform=\"translate(157.785052 178.72466)rotate(-45)scale(0.16 -0.16)\">\n       <use xlink:href=\"#DejaVuSans-115\"/>\n       <use x=\"52.099609\" xlink:href=\"#DejaVuSans-101\"/>\n       <use x=\"113.623047\" xlink:href=\"#DejaVuSans-115\"/>\n       <use x=\"165.722656\" xlink:href=\"#DejaVuSans-115\"/>\n       <use x=\"217.822266\" xlink:href=\"#DejaVuSans-105\"/>\n       <use x=\"245.605469\" xlink:href=\"#DejaVuSans-111\"/>\n       <use x=\"306.787109\" xlink:href=\"#DejaVuSans-110\"/>\n       <use x=\"370.166016\" xlink:href=\"#DejaVuSans-95\"/>\n       <use x=\"420.166016\" xlink:href=\"#DejaVuSans-105\"/>\n       <use x=\"447.949219\" xlink:href=\"#DejaVuSans-100\"/>\n      </g>\n     </g>\n    </g>\n    <g id=\"xtick_3\">\n     <g id=\"text_5\">\n      <!-- country_by_ip_address -->\n      <defs>\n       <path d=\"M 8.5 21.578125 \nL 8.5 54.6875 \nL 17.484375 54.6875 \nL 17.484375 21.921875 \nQ 17.484375 14.15625 20.5 10.265625 \nQ 23.53125 6.390625 29.59375 6.390625 \nQ 36.859375 6.390625 41.078125 11.03125 \nQ 45.3125 15.671875 45.3125 23.6875 \nL 45.3125 54.6875 \nL 54.296875 54.6875 \nL 54.296875 0 \nL 45.3125 0 \nL 45.3125 8.40625 \nQ 42.046875 3.421875 37.71875 1 \nQ 33.40625 -1.421875 27.6875 -1.421875 \nQ 18.265625 -1.421875 13.375 4.4375 \nQ 8.5 10.296875 8.5 21.578125 \nz\nM 31.109375 56 \nz\n\" id=\"DejaVuSans-117\"/>\n       <path d=\"M 18.3125 70.21875 \nL 18.3125 54.6875 \nL 36.8125 54.6875 \nL 36.8125 47.703125 \nL 18.3125 47.703125 \nL 18.3125 18.015625 \nQ 18.3125 11.328125 20.140625 9.421875 \nQ 21.96875 7.515625 27.59375 7.515625 \nL 36.8125 7.515625 \nL 36.8125 0 \nL 27.59375 0 \nQ 17.1875 0 13.234375 3.875 \nQ 9.28125 7.765625 9.28125 18.015625 \nL 9.28125 47.703125 \nL 2.6875 47.703125 \nL 2.6875 54.6875 \nL 9.28125 54.6875 \nL 9.28125 70.21875 \nz\n\" id=\"DejaVuSans-116\"/>\n       <path d=\"M 41.109375 46.296875 \nQ 39.59375 47.171875 37.8125 47.578125 \nQ 36.03125 48 33.890625 48 \nQ 26.265625 48 22.1875 43.046875 \nQ 18.109375 38.09375 18.109375 28.8125 \nL 18.109375 0 \nL 9.078125 0 \nL 9.078125 54.6875 \nL 18.109375 54.6875 \nL 18.109375 46.1875 \nQ 20.953125 51.171875 25.484375 53.578125 \nQ 30.03125 56 36.53125 56 \nQ 37.453125 56 38.578125 55.875 \nQ 39.703125 55.765625 41.0625 55.515625 \nz\n\" id=\"DejaVuSans-114\"/>\n       <path d=\"M 32.171875 -5.078125 \nQ 28.375 -14.84375 24.75 -17.8125 \nQ 21.140625 -20.796875 15.09375 -20.796875 \nL 7.90625 -20.796875 \nL 7.90625 -13.28125 \nL 13.1875 -13.28125 \nQ 16.890625 -13.28125 18.9375 -11.515625 \nQ 21 -9.765625 23.484375 -3.21875 \nL 25.09375 0.875 \nL 2.984375 54.6875 \nL 12.5 54.6875 \nL 29.59375 11.921875 \nL 46.6875 54.6875 \nL 56.203125 54.6875 \nz\n\" id=\"DejaVuSans-121\"/>\n       <path d=\"M 48.6875 27.296875 \nQ 48.6875 37.203125 44.609375 42.84375 \nQ 40.53125 48.484375 33.40625 48.484375 \nQ 26.265625 48.484375 22.1875 42.84375 \nQ 18.109375 37.203125 18.109375 27.296875 \nQ 18.109375 17.390625 22.1875 11.75 \nQ 26.265625 6.109375 33.40625 6.109375 \nQ 40.53125 6.109375 44.609375 11.75 \nQ 48.6875 17.390625 48.6875 27.296875 \nz\nM 18.109375 46.390625 \nQ 20.953125 51.265625 25.265625 53.625 \nQ 29.59375 56 35.59375 56 \nQ 45.5625 56 51.78125 48.09375 \nQ 58.015625 40.1875 58.015625 27.296875 \nQ 58.015625 14.40625 51.78125 6.484375 \nQ 45.5625 -1.421875 35.59375 -1.421875 \nQ 29.59375 -1.421875 25.265625 0.953125 \nQ 20.953125 3.328125 18.109375 8.203125 \nL 18.109375 0 \nL 9.078125 0 \nL 9.078125 75.984375 \nL 18.109375 75.984375 \nz\n\" id=\"DejaVuSans-98\"/>\n       <path d=\"M 34.28125 27.484375 \nQ 23.390625 27.484375 19.1875 25 \nQ 14.984375 22.515625 14.984375 16.5 \nQ 14.984375 11.71875 18.140625 8.90625 \nQ 21.296875 6.109375 26.703125 6.109375 \nQ 34.1875 6.109375 38.703125 11.40625 \nQ 43.21875 16.703125 43.21875 25.484375 \nL 43.21875 27.484375 \nz\nM 52.203125 31.203125 \nL 52.203125 0 \nL 43.21875 0 \nL 43.21875 8.296875 \nQ 40.140625 3.328125 35.546875 0.953125 \nQ 30.953125 -1.421875 24.3125 -1.421875 \nQ 15.921875 -1.421875 10.953125 3.296875 \nQ 6 8.015625 6 15.921875 \nQ 6 25.140625 12.171875 29.828125 \nQ 18.359375 34.515625 30.609375 34.515625 \nL 43.21875 34.515625 \nL 43.21875 35.40625 \nQ 43.21875 41.609375 39.140625 45 \nQ 35.0625 48.390625 27.6875 48.390625 \nQ 23 48.390625 18.546875 47.265625 \nQ 14.109375 46.140625 10.015625 43.890625 \nL 10.015625 52.203125 \nQ 14.9375 54.109375 19.578125 55.046875 \nQ 24.21875 56 28.609375 56 \nQ 40.484375 56 46.34375 49.84375 \nQ 52.203125 43.703125 52.203125 31.203125 \nz\n\" id=\"DejaVuSans-97\"/>\n      </defs>\n      <g style=\"fill:#262626;\" transform=\"translate(220.660653 178.72466)rotate(-45)scale(0.16 -0.16)\">\n       <use xlink:href=\"#DejaVuSans-99\"/>\n       <use x=\"54.980469\" xlink:href=\"#DejaVuSans-111\"/>\n       <use x=\"116.162109\" xlink:href=\"#DejaVuSans-117\"/>\n       <use x=\"179.541016\" xlink:href=\"#DejaVuSans-110\"/>\n       <use x=\"242.919922\" xlink:href=\"#DejaVuSans-116\"/>\n       <use x=\"282.128906\" xlink:href=\"#DejaVuSans-114\"/>\n       <use x=\"323.242188\" xlink:href=\"#DejaVuSans-121\"/>\n       <use x=\"382.421875\" xlink:href=\"#DejaVuSans-95\"/>\n       <use x=\"432.421875\" xlink:href=\"#DejaVuSans-98\"/>\n       <use x=\"495.898438\" xlink:href=\"#DejaVuSans-121\"/>\n       <use x=\"555.078125\" xlink:href=\"#DejaVuSans-95\"/>\n       <use x=\"605.078125\" xlink:href=\"#DejaVuSans-105\"/>\n       <use x=\"632.861328\" xlink:href=\"#DejaVuSans-112\"/>\n       <use x=\"696.337891\" xlink:href=\"#DejaVuSans-95\"/>\n       <use x=\"746.337891\" xlink:href=\"#DejaVuSans-97\"/>\n       <use x=\"807.617188\" xlink:href=\"#DejaVuSans-100\"/>\n       <use x=\"871.09375\" xlink:href=\"#DejaVuSans-100\"/>\n       <use x=\"934.570312\" xlink:href=\"#DejaVuSans-114\"/>\n       <use x=\"975.652344\" xlink:href=\"#DejaVuSans-101\"/>\n       <use x=\"1037.175781\" xlink:href=\"#DejaVuSans-115\"/>\n       <use x=\"1089.275391\" xlink:href=\"#DejaVuSans-115\"/>\n      </g>\n     </g>\n    </g>\n    <g id=\"xtick_4\">\n     <g id=\"text_6\">\n      <!-- region_by_ip_address -->\n      <defs>\n       <path d=\"M 45.40625 27.984375 \nQ 45.40625 37.75 41.375 43.109375 \nQ 37.359375 48.484375 30.078125 48.484375 \nQ 22.859375 48.484375 18.828125 43.109375 \nQ 14.796875 37.75 14.796875 27.984375 \nQ 14.796875 18.265625 18.828125 12.890625 \nQ 22.859375 7.515625 30.078125 7.515625 \nQ 37.359375 7.515625 41.375 12.890625 \nQ 45.40625 18.265625 45.40625 27.984375 \nz\nM 54.390625 6.78125 \nQ 54.390625 -7.171875 48.1875 -13.984375 \nQ 42 -20.796875 29.203125 -20.796875 \nQ 24.46875 -20.796875 20.265625 -20.09375 \nQ 16.0625 -19.390625 12.109375 -17.921875 \nL 12.109375 -9.1875 \nQ 16.0625 -11.328125 19.921875 -12.34375 \nQ 23.78125 -13.375 27.78125 -13.375 \nQ 36.625 -13.375 41.015625 -8.765625 \nQ 45.40625 -4.15625 45.40625 5.171875 \nL 45.40625 9.625 \nQ 42.625 4.78125 38.28125 2.390625 \nQ 33.9375 0 27.875 0 \nQ 17.828125 0 11.671875 7.65625 \nQ 5.515625 15.328125 5.515625 27.984375 \nQ 5.515625 40.671875 11.671875 48.328125 \nQ 17.828125 56 27.875 56 \nQ 33.9375 56 38.28125 53.609375 \nQ 42.625 51.21875 45.40625 46.390625 \nL 45.40625 54.6875 \nL 54.390625 54.6875 \nz\n\" id=\"DejaVuSans-103\"/>\n      </defs>\n      <g style=\"fill:#262626;\" transform=\"translate(283.536254 178.72466)rotate(-45)scale(0.16 -0.16)\">\n       <use xlink:href=\"#DejaVuSans-114\"/>\n       <use x=\"41.082031\" xlink:href=\"#DejaVuSans-101\"/>\n       <use x=\"102.605469\" xlink:href=\"#DejaVuSans-103\"/>\n       <use x=\"166.082031\" xlink:href=\"#DejaVuSans-105\"/>\n       <use x=\"193.865234\" xlink:href=\"#DejaVuSans-111\"/>\n       <use x=\"255.046875\" xlink:href=\"#DejaVuSans-110\"/>\n       <use x=\"318.425781\" xlink:href=\"#DejaVuSans-95\"/>\n       <use x=\"368.425781\" xlink:href=\"#DejaVuSans-98\"/>\n       <use x=\"431.902344\" xlink:href=\"#DejaVuSans-121\"/>\n       <use x=\"491.082031\" xlink:href=\"#DejaVuSans-95\"/>\n       <use x=\"541.082031\" xlink:href=\"#DejaVuSans-105\"/>\n       <use x=\"568.865234\" xlink:href=\"#DejaVuSans-112\"/>\n       <use x=\"632.341797\" xlink:href=\"#DejaVuSans-95\"/>\n       <use x=\"682.341797\" xlink:href=\"#DejaVuSans-97\"/>\n       <use x=\"743.621094\" xlink:href=\"#DejaVuSans-100\"/>\n       <use x=\"807.097656\" xlink:href=\"#DejaVuSans-100\"/>\n       <use x=\"870.574219\" xlink:href=\"#DejaVuSans-114\"/>\n       <use x=\"911.65625\" xlink:href=\"#DejaVuSans-101\"/>\n       <use x=\"973.179688\" xlink:href=\"#DejaVuSans-115\"/>\n       <use x=\"1025.279297\" xlink:href=\"#DejaVuSans-115\"/>\n      </g>\n     </g>\n    </g>\n    <g id=\"xtick_5\">\n     <g id=\"text_7\">\n      <!-- url_without_parameters -->\n      <defs>\n       <path d=\"M 9.421875 75.984375 \nL 18.40625 75.984375 \nL 18.40625 0 \nL 9.421875 0 \nz\n\" id=\"DejaVuSans-108\"/>\n       <path d=\"M 4.203125 54.6875 \nL 13.1875 54.6875 \nL 24.421875 12.015625 \nL 35.59375 54.6875 \nL 46.1875 54.6875 \nL 57.421875 12.015625 \nL 68.609375 54.6875 \nL 77.59375 54.6875 \nL 63.28125 0 \nL 52.6875 0 \nL 40.921875 44.828125 \nL 29.109375 0 \nL 18.5 0 \nz\n\" id=\"DejaVuSans-119\"/>\n      </defs>\n      <g style=\"fill:#262626;\" transform=\"translate(346.411855 178.72466)rotate(-45)scale(0.16 -0.16)\">\n       <use xlink:href=\"#DejaVuSans-117\"/>\n       <use x=\"63.378906\" xlink:href=\"#DejaVuSans-114\"/>\n       <use x=\"104.492188\" xlink:href=\"#DejaVuSans-108\"/>\n       <use x=\"132.275391\" xlink:href=\"#DejaVuSans-95\"/>\n       <use x=\"182.275391\" xlink:href=\"#DejaVuSans-119\"/>\n       <use x=\"264.0625\" xlink:href=\"#DejaVuSans-105\"/>\n       <use x=\"291.845703\" xlink:href=\"#DejaVuSans-116\"/>\n       <use x=\"331.054688\" xlink:href=\"#DejaVuSans-104\"/>\n       <use x=\"394.433594\" xlink:href=\"#DejaVuSans-111\"/>\n       <use x=\"455.615234\" xlink:href=\"#DejaVuSans-117\"/>\n       <use x=\"518.994141\" xlink:href=\"#DejaVuSans-116\"/>\n       <use x=\"558.203125\" xlink:href=\"#DejaVuSans-95\"/>\n       <use x=\"608.203125\" xlink:href=\"#DejaVuSans-112\"/>\n       <use x=\"671.679688\" xlink:href=\"#DejaVuSans-97\"/>\n       <use x=\"732.958984\" xlink:href=\"#DejaVuSans-114\"/>\n       <use x=\"774.072266\" xlink:href=\"#DejaVuSans-97\"/>\n       <use x=\"835.351562\" xlink:href=\"#DejaVuSans-109\"/>\n       <use x=\"932.763672\" xlink:href=\"#DejaVuSans-101\"/>\n       <use x=\"994.287109\" xlink:href=\"#DejaVuSans-116\"/>\n       <use x=\"1033.496094\" xlink:href=\"#DejaVuSans-101\"/>\n       <use x=\"1095.019531\" xlink:href=\"#DejaVuSans-114\"/>\n       <use x=\"1136.132812\" xlink:href=\"#DejaVuSans-115\"/>\n      </g>\n     </g>\n    </g>\n    <g id=\"xtick_6\">\n     <g id=\"text_8\">\n      <!-- referrer_without_parameters -->\n      <defs>\n       <path d=\"M 37.109375 75.984375 \nL 37.109375 68.5 \nL 28.515625 68.5 \nQ 23.6875 68.5 21.796875 66.546875 \nQ 19.921875 64.59375 19.921875 59.515625 \nL 19.921875 54.6875 \nL 34.71875 54.6875 \nL 34.71875 47.703125 \nL 19.921875 47.703125 \nL 19.921875 0 \nL 10.890625 0 \nL 10.890625 47.703125 \nL 2.296875 47.703125 \nL 2.296875 54.6875 \nL 10.890625 54.6875 \nL 10.890625 58.5 \nQ 10.890625 67.625 15.140625 71.796875 \nQ 19.390625 75.984375 28.609375 75.984375 \nz\n\" id=\"DejaVuSans-102\"/>\n      </defs>\n      <g style=\"fill:#262626;\" transform=\"translate(409.287456 178.72466)rotate(-45)scale(0.16 -0.16)\">\n       <use xlink:href=\"#DejaVuSans-114\"/>\n       <use x=\"41.082031\" xlink:href=\"#DejaVuSans-101\"/>\n       <use x=\"102.605469\" xlink:href=\"#DejaVuSans-102\"/>\n       <use x=\"137.810547\" xlink:href=\"#DejaVuSans-101\"/>\n       <use x=\"199.333984\" xlink:href=\"#DejaVuSans-114\"/>\n       <use x=\"240.431641\" xlink:href=\"#DejaVuSans-114\"/>\n       <use x=\"281.513672\" xlink:href=\"#DejaVuSans-101\"/>\n       <use x=\"343.037109\" xlink:href=\"#DejaVuSans-114\"/>\n       <use x=\"384.150391\" xlink:href=\"#DejaVuSans-95\"/>\n       <use x=\"434.150391\" xlink:href=\"#DejaVuSans-119\"/>\n       <use x=\"515.9375\" xlink:href=\"#DejaVuSans-105\"/>\n       <use x=\"543.720703\" xlink:href=\"#DejaVuSans-116\"/>\n       <use x=\"582.929688\" xlink:href=\"#DejaVuSans-104\"/>\n       <use x=\"646.308594\" xlink:href=\"#DejaVuSans-111\"/>\n       <use x=\"707.490234\" xlink:href=\"#DejaVuSans-117\"/>\n       <use x=\"770.869141\" xlink:href=\"#DejaVuSans-116\"/>\n       <use x=\"810.078125\" xlink:href=\"#DejaVuSans-95\"/>\n       <use x=\"860.078125\" xlink:href=\"#DejaVuSans-112\"/>\n       <use x=\"923.554688\" xlink:href=\"#DejaVuSans-97\"/>\n       <use x=\"984.833984\" xlink:href=\"#DejaVuSans-114\"/>\n       <use x=\"1025.947266\" xlink:href=\"#DejaVuSans-97\"/>\n       <use x=\"1087.226562\" xlink:href=\"#DejaVuSans-109\"/>\n       <use x=\"1184.638672\" xlink:href=\"#DejaVuSans-101\"/>\n       <use x=\"1246.162109\" xlink:href=\"#DejaVuSans-116\"/>\n       <use x=\"1285.371094\" xlink:href=\"#DejaVuSans-101\"/>\n       <use x=\"1346.894531\" xlink:href=\"#DejaVuSans-114\"/>\n       <use x=\"1388.007812\" xlink:href=\"#DejaVuSans-115\"/>\n      </g>\n     </g>\n    </g>\n    <g id=\"xtick_7\">\n     <g id=\"text_9\">\n      <!-- visitor_recognition_type -->\n      <defs>\n       <path d=\"M 2.984375 54.6875 \nL 12.5 54.6875 \nL 29.59375 8.796875 \nL 46.6875 54.6875 \nL 56.203125 54.6875 \nL 35.6875 0 \nL 23.484375 0 \nz\n\" id=\"DejaVuSans-118\"/>\n      </defs>\n      <g style=\"fill:#262626;\" transform=\"translate(472.163057 178.72466)rotate(-45)scale(0.16 -0.16)\">\n       <use xlink:href=\"#DejaVuSans-118\"/>\n       <use x=\"59.179688\" xlink:href=\"#DejaVuSans-105\"/>\n       <use x=\"86.962891\" xlink:href=\"#DejaVuSans-115\"/>\n       <use x=\"139.0625\" xlink:href=\"#DejaVuSans-105\"/>\n       <use x=\"166.845703\" xlink:href=\"#DejaVuSans-116\"/>\n       <use x=\"206.054688\" xlink:href=\"#DejaVuSans-111\"/>\n       <use x=\"267.236328\" xlink:href=\"#DejaVuSans-114\"/>\n       <use x=\"308.349609\" xlink:href=\"#DejaVuSans-95\"/>\n       <use x=\"358.349609\" xlink:href=\"#DejaVuSans-114\"/>\n       <use x=\"399.431641\" xlink:href=\"#DejaVuSans-101\"/>\n       <use x=\"460.955078\" xlink:href=\"#DejaVuSans-99\"/>\n       <use x=\"515.935547\" xlink:href=\"#DejaVuSans-111\"/>\n       <use x=\"577.117188\" xlink:href=\"#DejaVuSans-103\"/>\n       <use x=\"640.59375\" xlink:href=\"#DejaVuSans-110\"/>\n       <use x=\"703.972656\" xlink:href=\"#DejaVuSans-105\"/>\n       <use x=\"731.755859\" xlink:href=\"#DejaVuSans-116\"/>\n       <use x=\"770.964844\" xlink:href=\"#DejaVuSans-105\"/>\n       <use x=\"798.748047\" xlink:href=\"#DejaVuSans-111\"/>\n       <use x=\"859.929688\" xlink:href=\"#DejaVuSans-110\"/>\n       <use x=\"923.308594\" xlink:href=\"#DejaVuSans-95\"/>\n       <use x=\"973.308594\" xlink:href=\"#DejaVuSans-116\"/>\n       <use x=\"1012.517578\" xlink:href=\"#DejaVuSans-121\"/>\n       <use x=\"1071.697266\" xlink:href=\"#DejaVuSans-112\"/>\n       <use x=\"1135.173828\" xlink:href=\"#DejaVuSans-101\"/>\n      </g>\n     </g>\n    </g>\n    <g id=\"xtick_8\">\n     <g id=\"text_10\">\n      <!-- ua_agent_class -->\n      <g style=\"fill:#262626;\" transform=\"translate(535.038658 178.72466)rotate(-45)scale(0.16 -0.16)\">\n       <use xlink:href=\"#DejaVuSans-117\"/>\n       <use x=\"63.378906\" xlink:href=\"#DejaVuSans-97\"/>\n       <use x=\"124.658203\" xlink:href=\"#DejaVuSans-95\"/>\n       <use x=\"174.658203\" xlink:href=\"#DejaVuSans-97\"/>\n       <use x=\"235.9375\" xlink:href=\"#DejaVuSans-103\"/>\n       <use x=\"299.414062\" xlink:href=\"#DejaVuSans-101\"/>\n       <use x=\"360.9375\" xlink:href=\"#DejaVuSans-110\"/>\n       <use x=\"424.316406\" xlink:href=\"#DejaVuSans-116\"/>\n       <use x=\"463.525391\" xlink:href=\"#DejaVuSans-95\"/>\n       <use x=\"513.525391\" xlink:href=\"#DejaVuSans-99\"/>\n       <use x=\"568.505859\" xlink:href=\"#DejaVuSans-108\"/>\n       <use x=\"596.289062\" xlink:href=\"#DejaVuSans-97\"/>\n       <use x=\"657.568359\" xlink:href=\"#DejaVuSans-115\"/>\n       <use x=\"709.667969\" xlink:href=\"#DejaVuSans-115\"/>\n      </g>\n     </g>\n    </g>\n   </g>\n   <g id=\"matplotlib.axis_4\">\n    <g id=\"ytick_1\">\n     <g id=\"text_11\">\n      <!-- 1 -->\n      <defs>\n       <path d=\"M 12.40625 8.296875 \nL 28.515625 8.296875 \nL 28.515625 63.921875 \nL 10.984375 60.40625 \nL 10.984375 69.390625 \nL 28.421875 72.90625 \nL 38.28125 72.90625 \nL 38.28125 8.296875 \nL 54.390625 8.296875 \nL 54.390625 0 \nL 12.40625 0 \nz\n\" id=\"DejaVuSans-49\"/>\n      </defs>\n      <g style=\"fill:#262626;\" transform=\"translate(32.65 198.762458)scale(0.2 -0.2)\">\n       <use xlink:href=\"#DejaVuSans-49\"/>\n      </g>\n     </g>\n    </g>\n    <g id=\"ytick_2\">\n     <g id=\"text_12\">\n      <!-- 500 -->\n      <defs>\n       <path d=\"M 10.796875 72.90625 \nL 49.515625 72.90625 \nL 49.515625 64.59375 \nL 19.828125 64.59375 \nL 19.828125 46.734375 \nQ 21.96875 47.46875 24.109375 47.828125 \nQ 26.265625 48.1875 28.421875 48.1875 \nQ 40.625 48.1875 47.75 41.5 \nQ 54.890625 34.8125 54.890625 23.390625 \nQ 54.890625 11.625 47.5625 5.09375 \nQ 40.234375 -1.421875 26.90625 -1.421875 \nQ 22.3125 -1.421875 17.546875 -0.640625 \nQ 12.796875 0.140625 7.71875 1.703125 \nL 7.71875 11.625 \nQ 12.109375 9.234375 16.796875 8.0625 \nQ 21.484375 6.890625 26.703125 6.890625 \nQ 35.15625 6.890625 40.078125 11.328125 \nQ 45.015625 15.765625 45.015625 23.390625 \nQ 45.015625 31 40.078125 35.4375 \nQ 35.15625 39.890625 26.703125 39.890625 \nQ 22.75 39.890625 18.8125 39.015625 \nQ 14.890625 38.140625 10.796875 36.28125 \nz\n\" id=\"DejaVuSans-53\"/>\n       <path d=\"M 31.78125 66.40625 \nQ 24.171875 66.40625 20.328125 58.90625 \nQ 16.5 51.421875 16.5 36.375 \nQ 16.5 21.390625 20.328125 13.890625 \nQ 24.171875 6.390625 31.78125 6.390625 \nQ 39.453125 6.390625 43.28125 13.890625 \nQ 47.125 21.390625 47.125 36.375 \nQ 47.125 51.421875 43.28125 58.90625 \nQ 39.453125 66.40625 31.78125 66.40625 \nz\nM 31.78125 74.21875 \nQ 44.046875 74.21875 50.515625 64.515625 \nQ 56.984375 54.828125 56.984375 36.375 \nQ 56.984375 17.96875 50.515625 8.265625 \nQ 44.046875 -1.421875 31.78125 -1.421875 \nQ 19.53125 -1.421875 13.0625 8.265625 \nQ 6.59375 17.96875 6.59375 36.375 \nQ 6.59375 54.828125 13.0625 64.515625 \nQ 19.53125 74.21875 31.78125 74.21875 \nz\n\" id=\"DejaVuSans-48\"/>\n      </defs>\n      <g style=\"fill:#262626;\" transform=\"translate(7.2 470.018858)scale(0.2 -0.2)\">\n       <use xlink:href=\"#DejaVuSans-53\"/>\n       <use x=\"63.623047\" xlink:href=\"#DejaVuSans-48\"/>\n       <use x=\"127.246094\" xlink:href=\"#DejaVuSans-48\"/>\n      </g>\n     </g>\n    </g>\n   </g>\n   <g id=\"line2d_4\">\n    <path clip-path=\"url(#p8dc5a68940)\" d=\"M 117.750601 462.69222 \nL 117.750601 190.89222 \n\" style=\"fill:none;stroke:#ffffff;stroke-linecap:round;stroke-width:1.5;\"/>\n   </g>\n   <g id=\"line2d_5\">\n    <path clip-path=\"url(#p8dc5a68940)\" d=\"M 180.626202 462.69222 \nL 180.626202 190.89222 \n\" style=\"fill:none;stroke:#ffffff;stroke-linecap:round;stroke-width:1.5;\"/>\n   </g>\n   <g id=\"line2d_6\">\n    <path clip-path=\"url(#p8dc5a68940)\" d=\"M 243.501803 462.69222 \nL 243.501803 190.89222 \n\" style=\"fill:none;stroke:#ffffff;stroke-linecap:round;stroke-width:1.5;\"/>\n   </g>\n   <g id=\"line2d_7\">\n    <path clip-path=\"url(#p8dc5a68940)\" d=\"M 306.377404 462.69222 \nL 306.377404 190.89222 \n\" style=\"fill:none;stroke:#ffffff;stroke-linecap:round;stroke-width:1.5;\"/>\n   </g>\n   <g id=\"line2d_8\">\n    <path clip-path=\"url(#p8dc5a68940)\" d=\"M 369.253005 462.69222 \nL 369.253005 190.89222 \n\" style=\"fill:none;stroke:#ffffff;stroke-linecap:round;stroke-width:1.5;\"/>\n   </g>\n   <g id=\"line2d_9\">\n    <path clip-path=\"url(#p8dc5a68940)\" d=\"M 432.128606 462.69222 \nL 432.128606 190.89222 \n\" style=\"fill:none;stroke:#ffffff;stroke-linecap:round;stroke-width:1.5;\"/>\n   </g>\n   <g id=\"line2d_10\">\n    <path clip-path=\"url(#p8dc5a68940)\" d=\"M 495.004207 462.69222 \nL 495.004207 190.89222 \n\" style=\"fill:none;stroke:#ffffff;stroke-linecap:round;stroke-width:1.5;\"/>\n   </g>\n  </g>\n </g>\n <defs>\n  <clipPath id=\"p4310c335d4\">\n   <rect height=\"271.8\" width=\"33.533654\" x=\"579.341346\" y=\"190.89222\"/>\n  </clipPath>\n  <clipPath id=\"p8dc5a68940\">\n   <rect height=\"271.8\" width=\"503.004808\" x=\"54.875\" y=\"190.89222\"/>\n  </clipPath>\n </defs>\n</svg>\n"
          },
          "metadata": {
            "tags": []
          }
        }
      ]
    },
    {
      "cell_type": "code",
      "metadata": {
        "id": "rkFSS0rpZ0pE",
        "colab_type": "code",
        "outputId": "c95937a8-f17d-413a-abbc-022fb39ef699",
        "colab": {
          "base_uri": "https://localhost:8080/",
          "height": 721
        }
      },
      "source": [
        "msno.bar(df_bol.sample(500),\n",
        "            figsize=(12, 5),)"
      ],
      "execution_count": 10,
      "outputs": [
        {
          "output_type": "execute_result",
          "data": {
            "text/plain": [
              "<matplotlib.axes._subplots.AxesSubplot at 0x7f807a2a4080>"
            ]
          },
          "metadata": {
            "tags": []
          },
          "execution_count": 10
        },
        {
          "output_type": "display_data",
          "data": {
            "text/plain": [
              "<Figure size 864x360 with 3 Axes>"
            ],
            "image/svg+xml": "<?xml version=\"1.0\" encoding=\"utf-8\" standalone=\"no\"?>\n<!DOCTYPE svg PUBLIC \"-//W3C//DTD SVG 1.1//EN\"\n  \"http://www.w3.org/Graphics/SVG/1.1/DTD/svg11.dtd\">\n<!-- Created with matplotlib (https://matplotlib.org/) -->\n<svg height=\"511.93681pt\" version=\"1.1\" viewBox=\"0 0 758.985 511.93681\" width=\"758.985pt\" xmlns=\"http://www.w3.org/2000/svg\" xmlns:xlink=\"http://www.w3.org/1999/xlink\">\n <defs>\n  <style type=\"text/css\">\n*{stroke-linecap:butt;stroke-linejoin:round;}\n  </style>\n </defs>\n <g id=\"figure_1\">\n  <g id=\"patch_1\">\n   <path d=\"M 0 511.93681 \nL 758.985 511.93681 \nL 758.985 0 \nL 0 0 \nz\n\" style=\"fill:none;\"/>\n  </g>\n  <g id=\"axes_1\">\n   <g id=\"patch_2\">\n    <path d=\"M 42.145 321.04459 \nL 711.745 321.04459 \nL 711.745 49.24459 \nL 42.145 49.24459 \nz\n\" style=\"fill:#eaeaf2;\"/>\n   </g>\n   <g id=\"matplotlib.axis_1\">\n    <g id=\"xtick_1\">\n     <g id=\"line2d_1\">\n      <path clip-path=\"url(#p4d413f5c99)\" d=\"M 83.995 321.04459 \nL 83.995 49.24459 \n\" style=\"fill:none;stroke:#ffffff;stroke-linecap:round;\"/>\n     </g>\n     <g id=\"text_1\">\n      <!-- epoch_ms -->\n      <defs>\n       <path d=\"M 56.203125 29.59375 \nL 56.203125 25.203125 \nL 14.890625 25.203125 \nQ 15.484375 15.921875 20.484375 11.0625 \nQ 25.484375 6.203125 34.421875 6.203125 \nQ 39.59375 6.203125 44.453125 7.46875 \nQ 49.3125 8.734375 54.109375 11.28125 \nL 54.109375 2.78125 \nQ 49.265625 0.734375 44.1875 -0.34375 \nQ 39.109375 -1.421875 33.890625 -1.421875 \nQ 20.796875 -1.421875 13.15625 6.1875 \nQ 5.515625 13.8125 5.515625 26.8125 \nQ 5.515625 40.234375 12.765625 48.109375 \nQ 20.015625 56 32.328125 56 \nQ 43.359375 56 49.78125 48.890625 \nQ 56.203125 41.796875 56.203125 29.59375 \nz\nM 47.21875 32.234375 \nQ 47.125 39.59375 43.09375 43.984375 \nQ 39.0625 48.390625 32.421875 48.390625 \nQ 24.90625 48.390625 20.390625 44.140625 \nQ 15.875 39.890625 15.1875 32.171875 \nz\n\" id=\"DejaVuSans-101\"/>\n       <path d=\"M 18.109375 8.203125 \nL 18.109375 -20.796875 \nL 9.078125 -20.796875 \nL 9.078125 54.6875 \nL 18.109375 54.6875 \nL 18.109375 46.390625 \nQ 20.953125 51.265625 25.265625 53.625 \nQ 29.59375 56 35.59375 56 \nQ 45.5625 56 51.78125 48.09375 \nQ 58.015625 40.1875 58.015625 27.296875 \nQ 58.015625 14.40625 51.78125 6.484375 \nQ 45.5625 -1.421875 35.59375 -1.421875 \nQ 29.59375 -1.421875 25.265625 0.953125 \nQ 20.953125 3.328125 18.109375 8.203125 \nz\nM 48.6875 27.296875 \nQ 48.6875 37.203125 44.609375 42.84375 \nQ 40.53125 48.484375 33.40625 48.484375 \nQ 26.265625 48.484375 22.1875 42.84375 \nQ 18.109375 37.203125 18.109375 27.296875 \nQ 18.109375 17.390625 22.1875 11.75 \nQ 26.265625 6.109375 33.40625 6.109375 \nQ 40.53125 6.109375 44.609375 11.75 \nQ 48.6875 17.390625 48.6875 27.296875 \nz\n\" id=\"DejaVuSans-112\"/>\n       <path d=\"M 30.609375 48.390625 \nQ 23.390625 48.390625 19.1875 42.75 \nQ 14.984375 37.109375 14.984375 27.296875 \nQ 14.984375 17.484375 19.15625 11.84375 \nQ 23.34375 6.203125 30.609375 6.203125 \nQ 37.796875 6.203125 41.984375 11.859375 \nQ 46.1875 17.53125 46.1875 27.296875 \nQ 46.1875 37.015625 41.984375 42.703125 \nQ 37.796875 48.390625 30.609375 48.390625 \nz\nM 30.609375 56 \nQ 42.328125 56 49.015625 48.375 \nQ 55.71875 40.765625 55.71875 27.296875 \nQ 55.71875 13.875 49.015625 6.21875 \nQ 42.328125 -1.421875 30.609375 -1.421875 \nQ 18.84375 -1.421875 12.171875 6.21875 \nQ 5.515625 13.875 5.515625 27.296875 \nQ 5.515625 40.765625 12.171875 48.375 \nQ 18.84375 56 30.609375 56 \nz\n\" id=\"DejaVuSans-111\"/>\n       <path d=\"M 48.78125 52.59375 \nL 48.78125 44.1875 \nQ 44.96875 46.296875 41.140625 47.34375 \nQ 37.3125 48.390625 33.40625 48.390625 \nQ 24.65625 48.390625 19.8125 42.84375 \nQ 14.984375 37.3125 14.984375 27.296875 \nQ 14.984375 17.28125 19.8125 11.734375 \nQ 24.65625 6.203125 33.40625 6.203125 \nQ 37.3125 6.203125 41.140625 7.25 \nQ 44.96875 8.296875 48.78125 10.40625 \nL 48.78125 2.09375 \nQ 45.015625 0.34375 40.984375 -0.53125 \nQ 36.96875 -1.421875 32.421875 -1.421875 \nQ 20.0625 -1.421875 12.78125 6.34375 \nQ 5.515625 14.109375 5.515625 27.296875 \nQ 5.515625 40.671875 12.859375 48.328125 \nQ 20.21875 56 33.015625 56 \nQ 37.15625 56 41.109375 55.140625 \nQ 45.0625 54.296875 48.78125 52.59375 \nz\n\" id=\"DejaVuSans-99\"/>\n       <path d=\"M 54.890625 33.015625 \nL 54.890625 0 \nL 45.90625 0 \nL 45.90625 32.71875 \nQ 45.90625 40.484375 42.875 44.328125 \nQ 39.84375 48.1875 33.796875 48.1875 \nQ 26.515625 48.1875 22.3125 43.546875 \nQ 18.109375 38.921875 18.109375 30.90625 \nL 18.109375 0 \nL 9.078125 0 \nL 9.078125 75.984375 \nL 18.109375 75.984375 \nL 18.109375 46.1875 \nQ 21.34375 51.125 25.703125 53.5625 \nQ 30.078125 56 35.796875 56 \nQ 45.21875 56 50.046875 50.171875 \nQ 54.890625 44.34375 54.890625 33.015625 \nz\n\" id=\"DejaVuSans-104\"/>\n       <path d=\"M 50.984375 -16.609375 \nL 50.984375 -23.578125 \nL -0.984375 -23.578125 \nL -0.984375 -16.609375 \nz\n\" id=\"DejaVuSans-95\"/>\n       <path d=\"M 52 44.1875 \nQ 55.375 50.25 60.0625 53.125 \nQ 64.75 56 71.09375 56 \nQ 79.640625 56 84.28125 50.015625 \nQ 88.921875 44.046875 88.921875 33.015625 \nL 88.921875 0 \nL 79.890625 0 \nL 79.890625 32.71875 \nQ 79.890625 40.578125 77.09375 44.375 \nQ 74.3125 48.1875 68.609375 48.1875 \nQ 61.625 48.1875 57.5625 43.546875 \nQ 53.515625 38.921875 53.515625 30.90625 \nL 53.515625 0 \nL 44.484375 0 \nL 44.484375 32.71875 \nQ 44.484375 40.625 41.703125 44.40625 \nQ 38.921875 48.1875 33.109375 48.1875 \nQ 26.21875 48.1875 22.15625 43.53125 \nQ 18.109375 38.875 18.109375 30.90625 \nL 18.109375 0 \nL 9.078125 0 \nL 9.078125 54.6875 \nL 18.109375 54.6875 \nL 18.109375 46.1875 \nQ 21.1875 51.21875 25.484375 53.609375 \nQ 29.78125 56 35.6875 56 \nQ 41.65625 56 45.828125 52.96875 \nQ 50 49.953125 52 44.1875 \nz\n\" id=\"DejaVuSans-109\"/>\n       <path d=\"M 44.28125 53.078125 \nL 44.28125 44.578125 \nQ 40.484375 46.53125 36.375 47.5 \nQ 32.28125 48.484375 27.875 48.484375 \nQ 21.1875 48.484375 17.84375 46.4375 \nQ 14.5 44.390625 14.5 40.28125 \nQ 14.5 37.15625 16.890625 35.375 \nQ 19.28125 33.59375 26.515625 31.984375 \nL 29.59375 31.296875 \nQ 39.15625 29.25 43.1875 25.515625 \nQ 47.21875 21.78125 47.21875 15.09375 \nQ 47.21875 7.46875 41.1875 3.015625 \nQ 35.15625 -1.421875 24.609375 -1.421875 \nQ 20.21875 -1.421875 15.453125 -0.5625 \nQ 10.6875 0.296875 5.421875 2 \nL 5.421875 11.28125 \nQ 10.40625 8.6875 15.234375 7.390625 \nQ 20.0625 6.109375 24.8125 6.109375 \nQ 31.15625 6.109375 34.5625 8.28125 \nQ 37.984375 10.453125 37.984375 14.40625 \nQ 37.984375 18.0625 35.515625 20.015625 \nQ 33.0625 21.96875 24.703125 23.78125 \nL 21.578125 24.515625 \nQ 13.234375 26.265625 9.515625 29.90625 \nQ 5.8125 33.546875 5.8125 39.890625 \nQ 5.8125 47.609375 11.28125 51.796875 \nQ 16.75 56 26.8125 56 \nQ 31.78125 56 36.171875 55.265625 \nQ 40.578125 54.546875 44.28125 53.078125 \nz\n\" id=\"DejaVuSans-115\"/>\n      </defs>\n      <g style=\"fill:#262626;\" transform=\"translate(24.299278 396.169402)rotate(-45)scale(0.16 -0.16)\">\n       <use xlink:href=\"#DejaVuSans-101\"/>\n       <use x=\"61.523438\" xlink:href=\"#DejaVuSans-112\"/>\n       <use x=\"125\" xlink:href=\"#DejaVuSans-111\"/>\n       <use x=\"186.181641\" xlink:href=\"#DejaVuSans-99\"/>\n       <use x=\"241.162109\" xlink:href=\"#DejaVuSans-104\"/>\n       <use x=\"304.541016\" xlink:href=\"#DejaVuSans-95\"/>\n       <use x=\"354.541016\" xlink:href=\"#DejaVuSans-109\"/>\n       <use x=\"451.953125\" xlink:href=\"#DejaVuSans-115\"/>\n      </g>\n     </g>\n    </g>\n    <g id=\"xtick_2\">\n     <g id=\"line2d_2\">\n      <path clip-path=\"url(#p4d413f5c99)\" d=\"M 167.695 321.04459 \nL 167.695 49.24459 \n\" style=\"fill:none;stroke:#ffffff;stroke-linecap:round;\"/>\n     </g>\n     <g id=\"text_2\">\n      <!-- session_id -->\n      <defs>\n       <path d=\"M 9.421875 54.6875 \nL 18.40625 54.6875 \nL 18.40625 0 \nL 9.421875 0 \nz\nM 9.421875 75.984375 \nL 18.40625 75.984375 \nL 18.40625 64.59375 \nL 9.421875 64.59375 \nz\n\" id=\"DejaVuSans-105\"/>\n       <path d=\"M 54.890625 33.015625 \nL 54.890625 0 \nL 45.90625 0 \nL 45.90625 32.71875 \nQ 45.90625 40.484375 42.875 44.328125 \nQ 39.84375 48.1875 33.796875 48.1875 \nQ 26.515625 48.1875 22.3125 43.546875 \nQ 18.109375 38.921875 18.109375 30.90625 \nL 18.109375 0 \nL 9.078125 0 \nL 9.078125 54.6875 \nL 18.109375 54.6875 \nL 18.109375 46.1875 \nQ 21.34375 51.125 25.703125 53.5625 \nQ 30.078125 56 35.796875 56 \nQ 45.21875 56 50.046875 50.171875 \nQ 54.890625 44.34375 54.890625 33.015625 \nz\n\" id=\"DejaVuSans-110\"/>\n       <path d=\"M 45.40625 46.390625 \nL 45.40625 75.984375 \nL 54.390625 75.984375 \nL 54.390625 0 \nL 45.40625 0 \nL 45.40625 8.203125 \nQ 42.578125 3.328125 38.25 0.953125 \nQ 33.9375 -1.421875 27.875 -1.421875 \nQ 17.96875 -1.421875 11.734375 6.484375 \nQ 5.515625 14.40625 5.515625 27.296875 \nQ 5.515625 40.1875 11.734375 48.09375 \nQ 17.96875 56 27.875 56 \nQ 33.9375 56 38.25 53.625 \nQ 42.578125 51.265625 45.40625 46.390625 \nz\nM 14.796875 27.296875 \nQ 14.796875 17.390625 18.875 11.75 \nQ 22.953125 6.109375 30.078125 6.109375 \nQ 37.203125 6.109375 41.296875 11.75 \nQ 45.40625 17.390625 45.40625 27.296875 \nQ 45.40625 37.203125 41.296875 42.84375 \nQ 37.203125 48.484375 30.078125 48.484375 \nQ 22.953125 48.484375 18.875 42.84375 \nQ 14.796875 37.203125 14.796875 27.296875 \nz\n\" id=\"DejaVuSans-100\"/>\n      </defs>\n      <g style=\"fill:#262626;\" transform=\"translate(107.16666 397.00202)rotate(-45)scale(0.16 -0.16)\">\n       <use xlink:href=\"#DejaVuSans-115\"/>\n       <use x=\"52.099609\" xlink:href=\"#DejaVuSans-101\"/>\n       <use x=\"113.623047\" xlink:href=\"#DejaVuSans-115\"/>\n       <use x=\"165.722656\" xlink:href=\"#DejaVuSans-115\"/>\n       <use x=\"217.822266\" xlink:href=\"#DejaVuSans-105\"/>\n       <use x=\"245.605469\" xlink:href=\"#DejaVuSans-111\"/>\n       <use x=\"306.787109\" xlink:href=\"#DejaVuSans-110\"/>\n       <use x=\"370.166016\" xlink:href=\"#DejaVuSans-95\"/>\n       <use x=\"420.166016\" xlink:href=\"#DejaVuSans-105\"/>\n       <use x=\"447.949219\" xlink:href=\"#DejaVuSans-100\"/>\n      </g>\n     </g>\n    </g>\n    <g id=\"xtick_3\">\n     <g id=\"line2d_3\">\n      <path clip-path=\"url(#p4d413f5c99)\" d=\"M 251.395 321.04459 \nL 251.395 49.24459 \n\" style=\"fill:none;stroke:#ffffff;stroke-linecap:round;\"/>\n     </g>\n     <g id=\"text_3\">\n      <!-- country_by_ip_address -->\n      <defs>\n       <path d=\"M 8.5 21.578125 \nL 8.5 54.6875 \nL 17.484375 54.6875 \nL 17.484375 21.921875 \nQ 17.484375 14.15625 20.5 10.265625 \nQ 23.53125 6.390625 29.59375 6.390625 \nQ 36.859375 6.390625 41.078125 11.03125 \nQ 45.3125 15.671875 45.3125 23.6875 \nL 45.3125 54.6875 \nL 54.296875 54.6875 \nL 54.296875 0 \nL 45.3125 0 \nL 45.3125 8.40625 \nQ 42.046875 3.421875 37.71875 1 \nQ 33.40625 -1.421875 27.6875 -1.421875 \nQ 18.265625 -1.421875 13.375 4.4375 \nQ 8.5 10.296875 8.5 21.578125 \nz\nM 31.109375 56 \nz\n\" id=\"DejaVuSans-117\"/>\n       <path d=\"M 18.3125 70.21875 \nL 18.3125 54.6875 \nL 36.8125 54.6875 \nL 36.8125 47.703125 \nL 18.3125 47.703125 \nL 18.3125 18.015625 \nQ 18.3125 11.328125 20.140625 9.421875 \nQ 21.96875 7.515625 27.59375 7.515625 \nL 36.8125 7.515625 \nL 36.8125 0 \nL 27.59375 0 \nQ 17.1875 0 13.234375 3.875 \nQ 9.28125 7.765625 9.28125 18.015625 \nL 9.28125 47.703125 \nL 2.6875 47.703125 \nL 2.6875 54.6875 \nL 9.28125 54.6875 \nL 9.28125 70.21875 \nz\n\" id=\"DejaVuSans-116\"/>\n       <path d=\"M 41.109375 46.296875 \nQ 39.59375 47.171875 37.8125 47.578125 \nQ 36.03125 48 33.890625 48 \nQ 26.265625 48 22.1875 43.046875 \nQ 18.109375 38.09375 18.109375 28.8125 \nL 18.109375 0 \nL 9.078125 0 \nL 9.078125 54.6875 \nL 18.109375 54.6875 \nL 18.109375 46.1875 \nQ 20.953125 51.171875 25.484375 53.578125 \nQ 30.03125 56 36.53125 56 \nQ 37.453125 56 38.578125 55.875 \nQ 39.703125 55.765625 41.0625 55.515625 \nz\n\" id=\"DejaVuSans-114\"/>\n       <path d=\"M 32.171875 -5.078125 \nQ 28.375 -14.84375 24.75 -17.8125 \nQ 21.140625 -20.796875 15.09375 -20.796875 \nL 7.90625 -20.796875 \nL 7.90625 -13.28125 \nL 13.1875 -13.28125 \nQ 16.890625 -13.28125 18.9375 -11.515625 \nQ 21 -9.765625 23.484375 -3.21875 \nL 25.09375 0.875 \nL 2.984375 54.6875 \nL 12.5 54.6875 \nL 29.59375 11.921875 \nL 46.6875 54.6875 \nL 56.203125 54.6875 \nz\n\" id=\"DejaVuSans-121\"/>\n       <path d=\"M 48.6875 27.296875 \nQ 48.6875 37.203125 44.609375 42.84375 \nQ 40.53125 48.484375 33.40625 48.484375 \nQ 26.265625 48.484375 22.1875 42.84375 \nQ 18.109375 37.203125 18.109375 27.296875 \nQ 18.109375 17.390625 22.1875 11.75 \nQ 26.265625 6.109375 33.40625 6.109375 \nQ 40.53125 6.109375 44.609375 11.75 \nQ 48.6875 17.390625 48.6875 27.296875 \nz\nM 18.109375 46.390625 \nQ 20.953125 51.265625 25.265625 53.625 \nQ 29.59375 56 35.59375 56 \nQ 45.5625 56 51.78125 48.09375 \nQ 58.015625 40.1875 58.015625 27.296875 \nQ 58.015625 14.40625 51.78125 6.484375 \nQ 45.5625 -1.421875 35.59375 -1.421875 \nQ 29.59375 -1.421875 25.265625 0.953125 \nQ 20.953125 3.328125 18.109375 8.203125 \nL 18.109375 0 \nL 9.078125 0 \nL 9.078125 75.984375 \nL 18.109375 75.984375 \nz\n\" id=\"DejaVuSans-98\"/>\n       <path d=\"M 34.28125 27.484375 \nQ 23.390625 27.484375 19.1875 25 \nQ 14.984375 22.515625 14.984375 16.5 \nQ 14.984375 11.71875 18.140625 8.90625 \nQ 21.296875 6.109375 26.703125 6.109375 \nQ 34.1875 6.109375 38.703125 11.40625 \nQ 43.21875 16.703125 43.21875 25.484375 \nL 43.21875 27.484375 \nz\nM 52.203125 31.203125 \nL 52.203125 0 \nL 43.21875 0 \nL 43.21875 8.296875 \nQ 40.140625 3.328125 35.546875 0.953125 \nQ 30.953125 -1.421875 24.3125 -1.421875 \nQ 15.921875 -1.421875 10.953125 3.296875 \nQ 6 8.015625 6 15.921875 \nQ 6 25.140625 12.171875 29.828125 \nQ 18.359375 34.515625 30.609375 34.515625 \nL 43.21875 34.515625 \nL 43.21875 35.40625 \nQ 43.21875 41.609375 39.140625 45 \nQ 35.0625 48.390625 27.6875 48.390625 \nQ 23 48.390625 18.546875 47.265625 \nQ 14.109375 46.140625 10.015625 43.890625 \nL 10.015625 52.203125 \nQ 14.9375 54.109375 19.578125 55.046875 \nQ 24.21875 56 28.609375 56 \nQ 40.484375 56 46.34375 49.84375 \nQ 52.203125 43.703125 52.203125 31.203125 \nz\n\" id=\"DejaVuSans-97\"/>\n      </defs>\n      <g style=\"fill:#262626;\" transform=\"translate(119.592064 468.276616)rotate(-45)scale(0.16 -0.16)\">\n       <use xlink:href=\"#DejaVuSans-99\"/>\n       <use x=\"54.980469\" xlink:href=\"#DejaVuSans-111\"/>\n       <use x=\"116.162109\" xlink:href=\"#DejaVuSans-117\"/>\n       <use x=\"179.541016\" xlink:href=\"#DejaVuSans-110\"/>\n       <use x=\"242.919922\" xlink:href=\"#DejaVuSans-116\"/>\n       <use x=\"282.128906\" xlink:href=\"#DejaVuSans-114\"/>\n       <use x=\"323.242188\" xlink:href=\"#DejaVuSans-121\"/>\n       <use x=\"382.421875\" xlink:href=\"#DejaVuSans-95\"/>\n       <use x=\"432.421875\" xlink:href=\"#DejaVuSans-98\"/>\n       <use x=\"495.898438\" xlink:href=\"#DejaVuSans-121\"/>\n       <use x=\"555.078125\" xlink:href=\"#DejaVuSans-95\"/>\n       <use x=\"605.078125\" xlink:href=\"#DejaVuSans-105\"/>\n       <use x=\"632.861328\" xlink:href=\"#DejaVuSans-112\"/>\n       <use x=\"696.337891\" xlink:href=\"#DejaVuSans-95\"/>\n       <use x=\"746.337891\" xlink:href=\"#DejaVuSans-97\"/>\n       <use x=\"807.617188\" xlink:href=\"#DejaVuSans-100\"/>\n       <use x=\"871.09375\" xlink:href=\"#DejaVuSans-100\"/>\n       <use x=\"934.570312\" xlink:href=\"#DejaVuSans-114\"/>\n       <use x=\"975.652344\" xlink:href=\"#DejaVuSans-101\"/>\n       <use x=\"1037.175781\" xlink:href=\"#DejaVuSans-115\"/>\n       <use x=\"1089.275391\" xlink:href=\"#DejaVuSans-115\"/>\n      </g>\n     </g>\n    </g>\n    <g id=\"xtick_4\">\n     <g id=\"line2d_4\">\n      <path clip-path=\"url(#p4d413f5c99)\" d=\"M 335.095 321.04459 \nL 335.095 49.24459 \n\" style=\"fill:none;stroke:#ffffff;stroke-linecap:round;\"/>\n     </g>\n     <g id=\"text_4\">\n      <!-- region_by_ip_address -->\n      <defs>\n       <path d=\"M 45.40625 27.984375 \nQ 45.40625 37.75 41.375 43.109375 \nQ 37.359375 48.484375 30.078125 48.484375 \nQ 22.859375 48.484375 18.828125 43.109375 \nQ 14.796875 37.75 14.796875 27.984375 \nQ 14.796875 18.265625 18.828125 12.890625 \nQ 22.859375 7.515625 30.078125 7.515625 \nQ 37.359375 7.515625 41.375 12.890625 \nQ 45.40625 18.265625 45.40625 27.984375 \nz\nM 54.390625 6.78125 \nQ 54.390625 -7.171875 48.1875 -13.984375 \nQ 42 -20.796875 29.203125 -20.796875 \nQ 24.46875 -20.796875 20.265625 -20.09375 \nQ 16.0625 -19.390625 12.109375 -17.921875 \nL 12.109375 -9.1875 \nQ 16.0625 -11.328125 19.921875 -12.34375 \nQ 23.78125 -13.375 27.78125 -13.375 \nQ 36.625 -13.375 41.015625 -8.765625 \nQ 45.40625 -4.15625 45.40625 5.171875 \nL 45.40625 9.625 \nQ 42.625 4.78125 38.28125 2.390625 \nQ 33.9375 0 27.875 0 \nQ 17.828125 0 11.671875 7.65625 \nQ 5.515625 15.328125 5.515625 27.984375 \nQ 5.515625 40.671875 11.671875 48.328125 \nQ 17.828125 56 27.875 56 \nQ 33.9375 56 38.28125 53.609375 \nQ 42.625 51.21875 45.40625 46.390625 \nL 45.40625 54.6875 \nL 54.390625 54.6875 \nz\n\" id=\"DejaVuSans-103\"/>\n      </defs>\n      <g style=\"fill:#262626;\" transform=\"translate(210.531069 461.037611)rotate(-45)scale(0.16 -0.16)\">\n       <use xlink:href=\"#DejaVuSans-114\"/>\n       <use x=\"41.082031\" xlink:href=\"#DejaVuSans-101\"/>\n       <use x=\"102.605469\" xlink:href=\"#DejaVuSans-103\"/>\n       <use x=\"166.082031\" xlink:href=\"#DejaVuSans-105\"/>\n       <use x=\"193.865234\" xlink:href=\"#DejaVuSans-111\"/>\n       <use x=\"255.046875\" xlink:href=\"#DejaVuSans-110\"/>\n       <use x=\"318.425781\" xlink:href=\"#DejaVuSans-95\"/>\n       <use x=\"368.425781\" xlink:href=\"#DejaVuSans-98\"/>\n       <use x=\"431.902344\" xlink:href=\"#DejaVuSans-121\"/>\n       <use x=\"491.082031\" xlink:href=\"#DejaVuSans-95\"/>\n       <use x=\"541.082031\" xlink:href=\"#DejaVuSans-105\"/>\n       <use x=\"568.865234\" xlink:href=\"#DejaVuSans-112\"/>\n       <use x=\"632.341797\" xlink:href=\"#DejaVuSans-95\"/>\n       <use x=\"682.341797\" xlink:href=\"#DejaVuSans-97\"/>\n       <use x=\"743.621094\" xlink:href=\"#DejaVuSans-100\"/>\n       <use x=\"807.097656\" xlink:href=\"#DejaVuSans-100\"/>\n       <use x=\"870.574219\" xlink:href=\"#DejaVuSans-114\"/>\n       <use x=\"911.65625\" xlink:href=\"#DejaVuSans-101\"/>\n       <use x=\"973.179688\" xlink:href=\"#DejaVuSans-115\"/>\n       <use x=\"1025.279297\" xlink:href=\"#DejaVuSans-115\"/>\n      </g>\n     </g>\n    </g>\n    <g id=\"xtick_5\">\n     <g id=\"line2d_5\">\n      <path clip-path=\"url(#p4d413f5c99)\" d=\"M 418.795 321.04459 \nL 418.795 49.24459 \n\" style=\"fill:none;stroke:#ffffff;stroke-linecap:round;\"/>\n     </g>\n     <g id=\"text_5\">\n      <!-- url_without_parameters -->\n      <defs>\n       <path d=\"M 9.421875 75.984375 \nL 18.40625 75.984375 \nL 18.40625 0 \nL 9.421875 0 \nz\n\" id=\"DejaVuSans-108\"/>\n       <path d=\"M 4.203125 54.6875 \nL 13.1875 54.6875 \nL 24.421875 12.015625 \nL 35.59375 54.6875 \nL 46.1875 54.6875 \nL 57.421875 12.015625 \nL 68.609375 54.6875 \nL 77.59375 54.6875 \nL 63.28125 0 \nL 52.6875 0 \nL 40.921875 44.828125 \nL 29.109375 0 \nL 18.5 0 \nz\n\" id=\"DejaVuSans-119\"/>\n      </defs>\n      <g style=\"fill:#262626;\" transform=\"translate(281.697602 473.571078)rotate(-45)scale(0.16 -0.16)\">\n       <use xlink:href=\"#DejaVuSans-117\"/>\n       <use x=\"63.378906\" xlink:href=\"#DejaVuSans-114\"/>\n       <use x=\"104.492188\" xlink:href=\"#DejaVuSans-108\"/>\n       <use x=\"132.275391\" xlink:href=\"#DejaVuSans-95\"/>\n       <use x=\"182.275391\" xlink:href=\"#DejaVuSans-119\"/>\n       <use x=\"264.0625\" xlink:href=\"#DejaVuSans-105\"/>\n       <use x=\"291.845703\" xlink:href=\"#DejaVuSans-116\"/>\n       <use x=\"331.054688\" xlink:href=\"#DejaVuSans-104\"/>\n       <use x=\"394.433594\" xlink:href=\"#DejaVuSans-111\"/>\n       <use x=\"455.615234\" xlink:href=\"#DejaVuSans-117\"/>\n       <use x=\"518.994141\" xlink:href=\"#DejaVuSans-116\"/>\n       <use x=\"558.203125\" xlink:href=\"#DejaVuSans-95\"/>\n       <use x=\"608.203125\" xlink:href=\"#DejaVuSans-112\"/>\n       <use x=\"671.679688\" xlink:href=\"#DejaVuSans-97\"/>\n       <use x=\"732.958984\" xlink:href=\"#DejaVuSans-114\"/>\n       <use x=\"774.072266\" xlink:href=\"#DejaVuSans-97\"/>\n       <use x=\"835.351562\" xlink:href=\"#DejaVuSans-109\"/>\n       <use x=\"932.763672\" xlink:href=\"#DejaVuSans-101\"/>\n       <use x=\"994.287109\" xlink:href=\"#DejaVuSans-116\"/>\n       <use x=\"1033.496094\" xlink:href=\"#DejaVuSans-101\"/>\n       <use x=\"1095.019531\" xlink:href=\"#DejaVuSans-114\"/>\n       <use x=\"1136.132812\" xlink:href=\"#DejaVuSans-115\"/>\n      </g>\n     </g>\n    </g>\n    <g id=\"xtick_6\">\n     <g id=\"line2d_6\">\n      <path clip-path=\"url(#p4d413f5c99)\" d=\"M 502.495 321.04459 \nL 502.495 49.24459 \n\" style=\"fill:none;stroke:#ffffff;stroke-linecap:round;\"/>\n     </g>\n     <g id=\"text_6\">\n      <!-- referrer_without_parameters -->\n      <defs>\n       <path d=\"M 37.109375 75.984375 \nL 37.109375 68.5 \nL 28.515625 68.5 \nQ 23.6875 68.5 21.796875 66.546875 \nQ 19.921875 64.59375 19.921875 59.515625 \nL 19.921875 54.6875 \nL 34.71875 54.6875 \nL 34.71875 47.703125 \nL 19.921875 47.703125 \nL 19.921875 0 \nL 10.890625 0 \nL 10.890625 47.703125 \nL 2.296875 47.703125 \nL 2.296875 54.6875 \nL 10.890625 54.6875 \nL 10.890625 58.5 \nQ 10.890625 67.625 15.140625 71.796875 \nQ 19.390625 75.984375 28.609375 75.984375 \nz\n\" id=\"DejaVuSans-102\"/>\n      </defs>\n      <g style=\"fill:#262626;\" transform=\"translate(336.899431 502.069249)rotate(-45)scale(0.16 -0.16)\">\n       <use xlink:href=\"#DejaVuSans-114\"/>\n       <use x=\"41.082031\" xlink:href=\"#DejaVuSans-101\"/>\n       <use x=\"102.605469\" xlink:href=\"#DejaVuSans-102\"/>\n       <use x=\"137.810547\" xlink:href=\"#DejaVuSans-101\"/>\n       <use x=\"199.333984\" xlink:href=\"#DejaVuSans-114\"/>\n       <use x=\"240.431641\" xlink:href=\"#DejaVuSans-114\"/>\n       <use x=\"281.513672\" xlink:href=\"#DejaVuSans-101\"/>\n       <use x=\"343.037109\" xlink:href=\"#DejaVuSans-114\"/>\n       <use x=\"384.150391\" xlink:href=\"#DejaVuSans-95\"/>\n       <use x=\"434.150391\" xlink:href=\"#DejaVuSans-119\"/>\n       <use x=\"515.9375\" xlink:href=\"#DejaVuSans-105\"/>\n       <use x=\"543.720703\" xlink:href=\"#DejaVuSans-116\"/>\n       <use x=\"582.929688\" xlink:href=\"#DejaVuSans-104\"/>\n       <use x=\"646.308594\" xlink:href=\"#DejaVuSans-111\"/>\n       <use x=\"707.490234\" xlink:href=\"#DejaVuSans-117\"/>\n       <use x=\"770.869141\" xlink:href=\"#DejaVuSans-116\"/>\n       <use x=\"810.078125\" xlink:href=\"#DejaVuSans-95\"/>\n       <use x=\"860.078125\" xlink:href=\"#DejaVuSans-112\"/>\n       <use x=\"923.554688\" xlink:href=\"#DejaVuSans-97\"/>\n       <use x=\"984.833984\" xlink:href=\"#DejaVuSans-114\"/>\n       <use x=\"1025.947266\" xlink:href=\"#DejaVuSans-97\"/>\n       <use x=\"1087.226562\" xlink:href=\"#DejaVuSans-109\"/>\n       <use x=\"1184.638672\" xlink:href=\"#DejaVuSans-101\"/>\n       <use x=\"1246.162109\" xlink:href=\"#DejaVuSans-116\"/>\n       <use x=\"1285.371094\" xlink:href=\"#DejaVuSans-101\"/>\n       <use x=\"1346.894531\" xlink:href=\"#DejaVuSans-114\"/>\n       <use x=\"1388.007812\" xlink:href=\"#DejaVuSans-115\"/>\n      </g>\n     </g>\n    </g>\n    <g id=\"xtick_7\">\n     <g id=\"line2d_7\">\n      <path clip-path=\"url(#p4d413f5c99)\" d=\"M 586.195 321.04459 \nL 586.195 49.24459 \n\" style=\"fill:none;stroke:#ffffff;stroke-linecap:round;\"/>\n     </g>\n     <g id=\"text_7\">\n      <!-- visitor_recognition_type -->\n      <defs>\n       <path d=\"M 2.984375 54.6875 \nL 12.5 54.6875 \nL 29.59375 8.796875 \nL 46.6875 54.6875 \nL 56.203125 54.6875 \nL 35.6875 0 \nL 23.484375 0 \nz\n\" id=\"DejaVuSans-118\"/>\n      </defs>\n      <g style=\"fill:#262626;\" transform=\"translate(448.134169 474.534511)rotate(-45)scale(0.16 -0.16)\">\n       <use xlink:href=\"#DejaVuSans-118\"/>\n       <use x=\"59.179688\" xlink:href=\"#DejaVuSans-105\"/>\n       <use x=\"86.962891\" xlink:href=\"#DejaVuSans-115\"/>\n       <use x=\"139.0625\" xlink:href=\"#DejaVuSans-105\"/>\n       <use x=\"166.845703\" xlink:href=\"#DejaVuSans-116\"/>\n       <use x=\"206.054688\" xlink:href=\"#DejaVuSans-111\"/>\n       <use x=\"267.236328\" xlink:href=\"#DejaVuSans-114\"/>\n       <use x=\"308.349609\" xlink:href=\"#DejaVuSans-95\"/>\n       <use x=\"358.349609\" xlink:href=\"#DejaVuSans-114\"/>\n       <use x=\"399.431641\" xlink:href=\"#DejaVuSans-101\"/>\n       <use x=\"460.955078\" xlink:href=\"#DejaVuSans-99\"/>\n       <use x=\"515.935547\" xlink:href=\"#DejaVuSans-111\"/>\n       <use x=\"577.117188\" xlink:href=\"#DejaVuSans-103\"/>\n       <use x=\"640.59375\" xlink:href=\"#DejaVuSans-110\"/>\n       <use x=\"703.972656\" xlink:href=\"#DejaVuSans-105\"/>\n       <use x=\"731.755859\" xlink:href=\"#DejaVuSans-116\"/>\n       <use x=\"770.964844\" xlink:href=\"#DejaVuSans-105\"/>\n       <use x=\"798.748047\" xlink:href=\"#DejaVuSans-111\"/>\n       <use x=\"859.929688\" xlink:href=\"#DejaVuSans-110\"/>\n       <use x=\"923.308594\" xlink:href=\"#DejaVuSans-95\"/>\n       <use x=\"973.308594\" xlink:href=\"#DejaVuSans-116\"/>\n       <use x=\"1012.517578\" xlink:href=\"#DejaVuSans-121\"/>\n       <use x=\"1071.697266\" xlink:href=\"#DejaVuSans-112\"/>\n       <use x=\"1135.173828\" xlink:href=\"#DejaVuSans-101\"/>\n      </g>\n     </g>\n    </g>\n    <g id=\"xtick_8\">\n     <g id=\"line2d_8\">\n      <path clip-path=\"url(#p4d413f5c99)\" d=\"M 669.895 321.04459 \nL 669.895 49.24459 \n\" style=\"fill:none;stroke:#ffffff;stroke-linecap:round;\"/>\n     </g>\n     <g id=\"text_8\">\n      <!-- ua_agent_class -->\n      <g style=\"fill:#262626;\" transform=\"translate(581.043497 425.325183)rotate(-45)scale(0.16 -0.16)\">\n       <use xlink:href=\"#DejaVuSans-117\"/>\n       <use x=\"63.378906\" xlink:href=\"#DejaVuSans-97\"/>\n       <use x=\"124.658203\" xlink:href=\"#DejaVuSans-95\"/>\n       <use x=\"174.658203\" xlink:href=\"#DejaVuSans-97\"/>\n       <use x=\"235.9375\" xlink:href=\"#DejaVuSans-103\"/>\n       <use x=\"299.414062\" xlink:href=\"#DejaVuSans-101\"/>\n       <use x=\"360.9375\" xlink:href=\"#DejaVuSans-110\"/>\n       <use x=\"424.316406\" xlink:href=\"#DejaVuSans-116\"/>\n       <use x=\"463.525391\" xlink:href=\"#DejaVuSans-95\"/>\n       <use x=\"513.525391\" xlink:href=\"#DejaVuSans-99\"/>\n       <use x=\"568.505859\" xlink:href=\"#DejaVuSans-108\"/>\n       <use x=\"596.289062\" xlink:href=\"#DejaVuSans-97\"/>\n       <use x=\"657.568359\" xlink:href=\"#DejaVuSans-115\"/>\n       <use x=\"709.667969\" xlink:href=\"#DejaVuSans-115\"/>\n      </g>\n     </g>\n    </g>\n   </g>\n   <g id=\"matplotlib.axis_2\">\n    <g id=\"ytick_1\">\n     <g id=\"line2d_9\">\n      <path clip-path=\"url(#p4d413f5c99)\" d=\"M 42.145 321.04459 \nL 711.745 321.04459 \n\" style=\"fill:none;stroke:#ffffff;stroke-linecap:round;\"/>\n     </g>\n     <g id=\"text_9\">\n      <!-- 0.0 -->\n      <defs>\n       <path d=\"M 31.78125 66.40625 \nQ 24.171875 66.40625 20.328125 58.90625 \nQ 16.5 51.421875 16.5 36.375 \nQ 16.5 21.390625 20.328125 13.890625 \nQ 24.171875 6.390625 31.78125 6.390625 \nQ 39.453125 6.390625 43.28125 13.890625 \nQ 47.125 21.390625 47.125 36.375 \nQ 47.125 51.421875 43.28125 58.90625 \nQ 39.453125 66.40625 31.78125 66.40625 \nz\nM 31.78125 74.21875 \nQ 44.046875 74.21875 50.515625 64.515625 \nQ 56.984375 54.828125 56.984375 36.375 \nQ 56.984375 17.96875 50.515625 8.265625 \nQ 44.046875 -1.421875 31.78125 -1.421875 \nQ 19.53125 -1.421875 13.0625 8.265625 \nQ 6.59375 17.96875 6.59375 36.375 \nQ 6.59375 54.828125 13.0625 64.515625 \nQ 19.53125 74.21875 31.78125 74.21875 \nz\n\" id=\"DejaVuSans-48\"/>\n       <path d=\"M 10.6875 12.40625 \nL 21 12.40625 \nL 21 0 \nL 10.6875 0 \nz\n\" id=\"DejaVuSans-46\"/>\n      </defs>\n      <g style=\"fill:#262626;\" transform=\"translate(7.2 327.12334)scale(0.16 -0.16)\">\n       <use xlink:href=\"#DejaVuSans-48\"/>\n       <use x=\"63.623047\" xlink:href=\"#DejaVuSans-46\"/>\n       <use x=\"95.410156\" xlink:href=\"#DejaVuSans-48\"/>\n      </g>\n     </g>\n    </g>\n    <g id=\"ytick_2\">\n     <g id=\"line2d_10\">\n      <path clip-path=\"url(#p4d413f5c99)\" d=\"M 42.145 266.68459 \nL 711.745 266.68459 \n\" style=\"fill:none;stroke:#ffffff;stroke-linecap:round;\"/>\n     </g>\n     <g id=\"text_10\">\n      <!-- 0.2 -->\n      <defs>\n       <path d=\"M 19.1875 8.296875 \nL 53.609375 8.296875 \nL 53.609375 0 \nL 7.328125 0 \nL 7.328125 8.296875 \nQ 12.9375 14.109375 22.625 23.890625 \nQ 32.328125 33.6875 34.8125 36.53125 \nQ 39.546875 41.84375 41.421875 45.53125 \nQ 43.3125 49.21875 43.3125 52.78125 \nQ 43.3125 58.59375 39.234375 62.25 \nQ 35.15625 65.921875 28.609375 65.921875 \nQ 23.96875 65.921875 18.8125 64.3125 \nQ 13.671875 62.703125 7.8125 59.421875 \nL 7.8125 69.390625 \nQ 13.765625 71.78125 18.9375 73 \nQ 24.125 74.21875 28.421875 74.21875 \nQ 39.75 74.21875 46.484375 68.546875 \nQ 53.21875 62.890625 53.21875 53.421875 \nQ 53.21875 48.921875 51.53125 44.890625 \nQ 49.859375 40.875 45.40625 35.40625 \nQ 44.1875 33.984375 37.640625 27.21875 \nQ 31.109375 20.453125 19.1875 8.296875 \nz\n\" id=\"DejaVuSans-50\"/>\n      </defs>\n      <g style=\"fill:#262626;\" transform=\"translate(7.2 272.76334)scale(0.16 -0.16)\">\n       <use xlink:href=\"#DejaVuSans-48\"/>\n       <use x=\"63.623047\" xlink:href=\"#DejaVuSans-46\"/>\n       <use x=\"95.410156\" xlink:href=\"#DejaVuSans-50\"/>\n      </g>\n     </g>\n    </g>\n    <g id=\"ytick_3\">\n     <g id=\"line2d_11\">\n      <path clip-path=\"url(#p4d413f5c99)\" d=\"M 42.145 212.32459 \nL 711.745 212.32459 \n\" style=\"fill:none;stroke:#ffffff;stroke-linecap:round;\"/>\n     </g>\n     <g id=\"text_11\">\n      <!-- 0.4 -->\n      <defs>\n       <path d=\"M 37.796875 64.3125 \nL 12.890625 25.390625 \nL 37.796875 25.390625 \nz\nM 35.203125 72.90625 \nL 47.609375 72.90625 \nL 47.609375 25.390625 \nL 58.015625 25.390625 \nL 58.015625 17.1875 \nL 47.609375 17.1875 \nL 47.609375 0 \nL 37.796875 0 \nL 37.796875 17.1875 \nL 4.890625 17.1875 \nL 4.890625 26.703125 \nz\n\" id=\"DejaVuSans-52\"/>\n      </defs>\n      <g style=\"fill:#262626;\" transform=\"translate(7.2 218.40334)scale(0.16 -0.16)\">\n       <use xlink:href=\"#DejaVuSans-48\"/>\n       <use x=\"63.623047\" xlink:href=\"#DejaVuSans-46\"/>\n       <use x=\"95.410156\" xlink:href=\"#DejaVuSans-52\"/>\n      </g>\n     </g>\n    </g>\n    <g id=\"ytick_4\">\n     <g id=\"line2d_12\">\n      <path clip-path=\"url(#p4d413f5c99)\" d=\"M 42.145 157.96459 \nL 711.745 157.96459 \n\" style=\"fill:none;stroke:#ffffff;stroke-linecap:round;\"/>\n     </g>\n     <g id=\"text_12\">\n      <!-- 0.6 -->\n      <defs>\n       <path d=\"M 33.015625 40.375 \nQ 26.375 40.375 22.484375 35.828125 \nQ 18.609375 31.296875 18.609375 23.390625 \nQ 18.609375 15.53125 22.484375 10.953125 \nQ 26.375 6.390625 33.015625 6.390625 \nQ 39.65625 6.390625 43.53125 10.953125 \nQ 47.40625 15.53125 47.40625 23.390625 \nQ 47.40625 31.296875 43.53125 35.828125 \nQ 39.65625 40.375 33.015625 40.375 \nz\nM 52.59375 71.296875 \nL 52.59375 62.3125 \nQ 48.875 64.0625 45.09375 64.984375 \nQ 41.3125 65.921875 37.59375 65.921875 \nQ 27.828125 65.921875 22.671875 59.328125 \nQ 17.53125 52.734375 16.796875 39.40625 \nQ 19.671875 43.65625 24.015625 45.921875 \nQ 28.375 48.1875 33.59375 48.1875 \nQ 44.578125 48.1875 50.953125 41.515625 \nQ 57.328125 34.859375 57.328125 23.390625 \nQ 57.328125 12.15625 50.6875 5.359375 \nQ 44.046875 -1.421875 33.015625 -1.421875 \nQ 20.359375 -1.421875 13.671875 8.265625 \nQ 6.984375 17.96875 6.984375 36.375 \nQ 6.984375 53.65625 15.1875 63.9375 \nQ 23.390625 74.21875 37.203125 74.21875 \nQ 40.921875 74.21875 44.703125 73.484375 \nQ 48.484375 72.75 52.59375 71.296875 \nz\n\" id=\"DejaVuSans-54\"/>\n      </defs>\n      <g style=\"fill:#262626;\" transform=\"translate(7.2 164.04334)scale(0.16 -0.16)\">\n       <use xlink:href=\"#DejaVuSans-48\"/>\n       <use x=\"63.623047\" xlink:href=\"#DejaVuSans-46\"/>\n       <use x=\"95.410156\" xlink:href=\"#DejaVuSans-54\"/>\n      </g>\n     </g>\n    </g>\n    <g id=\"ytick_5\">\n     <g id=\"line2d_13\">\n      <path clip-path=\"url(#p4d413f5c99)\" d=\"M 42.145 103.60459 \nL 711.745 103.60459 \n\" style=\"fill:none;stroke:#ffffff;stroke-linecap:round;\"/>\n     </g>\n     <g id=\"text_13\">\n      <!-- 0.8 -->\n      <defs>\n       <path d=\"M 31.78125 34.625 \nQ 24.75 34.625 20.71875 30.859375 \nQ 16.703125 27.09375 16.703125 20.515625 \nQ 16.703125 13.921875 20.71875 10.15625 \nQ 24.75 6.390625 31.78125 6.390625 \nQ 38.8125 6.390625 42.859375 10.171875 \nQ 46.921875 13.96875 46.921875 20.515625 \nQ 46.921875 27.09375 42.890625 30.859375 \nQ 38.875 34.625 31.78125 34.625 \nz\nM 21.921875 38.8125 \nQ 15.578125 40.375 12.03125 44.71875 \nQ 8.5 49.078125 8.5 55.328125 \nQ 8.5 64.0625 14.71875 69.140625 \nQ 20.953125 74.21875 31.78125 74.21875 \nQ 42.671875 74.21875 48.875 69.140625 \nQ 55.078125 64.0625 55.078125 55.328125 \nQ 55.078125 49.078125 51.53125 44.71875 \nQ 48 40.375 41.703125 38.8125 \nQ 48.828125 37.15625 52.796875 32.3125 \nQ 56.78125 27.484375 56.78125 20.515625 \nQ 56.78125 9.90625 50.3125 4.234375 \nQ 43.84375 -1.421875 31.78125 -1.421875 \nQ 19.734375 -1.421875 13.25 4.234375 \nQ 6.78125 9.90625 6.78125 20.515625 \nQ 6.78125 27.484375 10.78125 32.3125 \nQ 14.796875 37.15625 21.921875 38.8125 \nz\nM 18.3125 54.390625 \nQ 18.3125 48.734375 21.84375 45.5625 \nQ 25.390625 42.390625 31.78125 42.390625 \nQ 38.140625 42.390625 41.71875 45.5625 \nQ 45.3125 48.734375 45.3125 54.390625 \nQ 45.3125 60.0625 41.71875 63.234375 \nQ 38.140625 66.40625 31.78125 66.40625 \nQ 25.390625 66.40625 21.84375 63.234375 \nQ 18.3125 60.0625 18.3125 54.390625 \nz\n\" id=\"DejaVuSans-56\"/>\n      </defs>\n      <g style=\"fill:#262626;\" transform=\"translate(7.2 109.68334)scale(0.16 -0.16)\">\n       <use xlink:href=\"#DejaVuSans-48\"/>\n       <use x=\"63.623047\" xlink:href=\"#DejaVuSans-46\"/>\n       <use x=\"95.410156\" xlink:href=\"#DejaVuSans-56\"/>\n      </g>\n     </g>\n    </g>\n    <g id=\"ytick_6\">\n     <g id=\"line2d_14\">\n      <path clip-path=\"url(#p4d413f5c99)\" d=\"M 42.145 49.24459 \nL 711.745 49.24459 \n\" style=\"fill:none;stroke:#ffffff;stroke-linecap:round;\"/>\n     </g>\n     <g id=\"text_14\">\n      <!-- 1.0 -->\n      <defs>\n       <path d=\"M 12.40625 8.296875 \nL 28.515625 8.296875 \nL 28.515625 63.921875 \nL 10.984375 60.40625 \nL 10.984375 69.390625 \nL 28.421875 72.90625 \nL 38.28125 72.90625 \nL 38.28125 8.296875 \nL 54.390625 8.296875 \nL 54.390625 0 \nL 12.40625 0 \nz\n\" id=\"DejaVuSans-49\"/>\n      </defs>\n      <g style=\"fill:#262626;\" transform=\"translate(7.2 55.32334)scale(0.16 -0.16)\">\n       <use xlink:href=\"#DejaVuSans-49\"/>\n       <use x=\"63.623047\" xlink:href=\"#DejaVuSans-46\"/>\n       <use x=\"95.410156\" xlink:href=\"#DejaVuSans-48\"/>\n      </g>\n     </g>\n    </g>\n   </g>\n   <g id=\"patch_3\">\n    <path clip-path=\"url(#p4d413f5c99)\" d=\"M 63.07 321.04459 \nL 104.92 321.04459 \nL 104.92 49.24459 \nL 63.07 49.24459 \nz\n\" style=\"fill:#696969;stroke:#ffffff;stroke-linejoin:miter;\"/>\n   </g>\n   <g id=\"patch_4\">\n    <path clip-path=\"url(#p4d413f5c99)\" d=\"M 146.77 321.04459 \nL 188.62 321.04459 \nL 188.62 49.24459 \nL 146.77 49.24459 \nz\n\" style=\"fill:#696969;stroke:#ffffff;stroke-linejoin:miter;\"/>\n   </g>\n   <g id=\"patch_5\">\n    <path clip-path=\"url(#p4d413f5c99)\" d=\"M 230.47 321.04459 \nL 272.32 321.04459 \nL 272.32 49.78819 \nL 230.47 49.78819 \nz\n\" style=\"fill:#696969;stroke:#ffffff;stroke-linejoin:miter;\"/>\n   </g>\n   <g id=\"patch_6\">\n    <path clip-path=\"url(#p4d413f5c99)\" d=\"M 314.17 321.04459 \nL 356.02 321.04459 \nL 356.02 86.75299 \nL 314.17 86.75299 \nz\n\" style=\"fill:#696969;stroke:#ffffff;stroke-linejoin:miter;\"/>\n   </g>\n   <g id=\"patch_7\">\n    <path clip-path=\"url(#p4d413f5c99)\" d=\"M 397.87 321.04459 \nL 439.72 321.04459 \nL 439.72 49.24459 \nL 397.87 49.24459 \nz\n\" style=\"fill:#696969;stroke:#ffffff;stroke-linejoin:miter;\"/>\n   </g>\n   <g id=\"patch_8\">\n    <path clip-path=\"url(#p4d413f5c99)\" d=\"M 481.57 321.04459 \nL 523.42 321.04459 \nL 523.42 245.48419 \nL 481.57 245.48419 \nz\n\" style=\"fill:#696969;stroke:#ffffff;stroke-linejoin:miter;\"/>\n   </g>\n   <g id=\"patch_9\">\n    <path clip-path=\"url(#p4d413f5c99)\" d=\"M 565.27 321.04459 \nL 607.12 321.04459 \nL 607.12 49.24459 \nL 565.27 49.24459 \nz\n\" style=\"fill:#696969;stroke:#ffffff;stroke-linejoin:miter;\"/>\n   </g>\n   <g id=\"patch_10\">\n    <path clip-path=\"url(#p4d413f5c99)\" d=\"M 648.97 321.04459 \nL 690.82 321.04459 \nL 690.82 49.24459 \nL 648.97 49.24459 \nz\n\" style=\"fill:#696969;stroke:#ffffff;stroke-linejoin:miter;\"/>\n   </g>\n  </g>\n  <g id=\"axes_2\">\n   <g id=\"matplotlib.axis_3\">\n    <g id=\"ytick_7\">\n     <g id=\"line2d_15\">\n      <path clip-path=\"url(#p4d413f5c99)\" d=\"M 42.145 321.04459 \nL 711.745 321.04459 \n\" style=\"fill:none;stroke:#ffffff;stroke-linecap:round;\"/>\n     </g>\n     <g id=\"text_15\">\n      <!-- 0 -->\n      <g style=\"fill:#262626;\" transform=\"translate(721.245 327.12334)scale(0.16 -0.16)\">\n       <use xlink:href=\"#DejaVuSans-48\"/>\n      </g>\n     </g>\n    </g>\n    <g id=\"ytick_8\">\n     <g id=\"line2d_16\">\n      <path clip-path=\"url(#p4d413f5c99)\" d=\"M 42.145 266.68459 \nL 711.745 266.68459 \n\" style=\"fill:none;stroke:#ffffff;stroke-linecap:round;\"/>\n     </g>\n     <g id=\"text_16\">\n      <!-- 100 -->\n      <g style=\"fill:#262626;\" transform=\"translate(721.245 272.76334)scale(0.16 -0.16)\">\n       <use xlink:href=\"#DejaVuSans-49\"/>\n       <use x=\"63.623047\" xlink:href=\"#DejaVuSans-48\"/>\n       <use x=\"127.246094\" xlink:href=\"#DejaVuSans-48\"/>\n      </g>\n     </g>\n    </g>\n    <g id=\"ytick_9\">\n     <g id=\"line2d_17\">\n      <path clip-path=\"url(#p4d413f5c99)\" d=\"M 42.145 212.32459 \nL 711.745 212.32459 \n\" style=\"fill:none;stroke:#ffffff;stroke-linecap:round;\"/>\n     </g>\n     <g id=\"text_17\">\n      <!-- 200 -->\n      <g style=\"fill:#262626;\" transform=\"translate(721.245 218.40334)scale(0.16 -0.16)\">\n       <use xlink:href=\"#DejaVuSans-50\"/>\n       <use x=\"63.623047\" xlink:href=\"#DejaVuSans-48\"/>\n       <use x=\"127.246094\" xlink:href=\"#DejaVuSans-48\"/>\n      </g>\n     </g>\n    </g>\n    <g id=\"ytick_10\">\n     <g id=\"line2d_18\">\n      <path clip-path=\"url(#p4d413f5c99)\" d=\"M 42.145 157.96459 \nL 711.745 157.96459 \n\" style=\"fill:none;stroke:#ffffff;stroke-linecap:round;\"/>\n     </g>\n     <g id=\"text_18\">\n      <!-- 300 -->\n      <defs>\n       <path d=\"M 40.578125 39.3125 \nQ 47.65625 37.796875 51.625 33 \nQ 55.609375 28.21875 55.609375 21.1875 \nQ 55.609375 10.40625 48.1875 4.484375 \nQ 40.765625 -1.421875 27.09375 -1.421875 \nQ 22.515625 -1.421875 17.65625 -0.515625 \nQ 12.796875 0.390625 7.625 2.203125 \nL 7.625 11.71875 \nQ 11.71875 9.328125 16.59375 8.109375 \nQ 21.484375 6.890625 26.8125 6.890625 \nQ 36.078125 6.890625 40.9375 10.546875 \nQ 45.796875 14.203125 45.796875 21.1875 \nQ 45.796875 27.640625 41.28125 31.265625 \nQ 36.765625 34.90625 28.71875 34.90625 \nL 20.21875 34.90625 \nL 20.21875 43.015625 \nL 29.109375 43.015625 \nQ 36.375 43.015625 40.234375 45.921875 \nQ 44.09375 48.828125 44.09375 54.296875 \nQ 44.09375 59.90625 40.109375 62.90625 \nQ 36.140625 65.921875 28.71875 65.921875 \nQ 24.65625 65.921875 20.015625 65.03125 \nQ 15.375 64.15625 9.8125 62.3125 \nL 9.8125 71.09375 \nQ 15.4375 72.65625 20.34375 73.4375 \nQ 25.25 74.21875 29.59375 74.21875 \nQ 40.828125 74.21875 47.359375 69.109375 \nQ 53.90625 64.015625 53.90625 55.328125 \nQ 53.90625 49.265625 50.4375 45.09375 \nQ 46.96875 40.921875 40.578125 39.3125 \nz\n\" id=\"DejaVuSans-51\"/>\n      </defs>\n      <g style=\"fill:#262626;\" transform=\"translate(721.245 164.04334)scale(0.16 -0.16)\">\n       <use xlink:href=\"#DejaVuSans-51\"/>\n       <use x=\"63.623047\" xlink:href=\"#DejaVuSans-48\"/>\n       <use x=\"127.246094\" xlink:href=\"#DejaVuSans-48\"/>\n      </g>\n     </g>\n    </g>\n    <g id=\"ytick_11\">\n     <g id=\"line2d_19\">\n      <path clip-path=\"url(#p4d413f5c99)\" d=\"M 42.145 103.60459 \nL 711.745 103.60459 \n\" style=\"fill:none;stroke:#ffffff;stroke-linecap:round;\"/>\n     </g>\n     <g id=\"text_19\">\n      <!-- 400 -->\n      <g style=\"fill:#262626;\" transform=\"translate(721.245 109.68334)scale(0.16 -0.16)\">\n       <use xlink:href=\"#DejaVuSans-52\"/>\n       <use x=\"63.623047\" xlink:href=\"#DejaVuSans-48\"/>\n       <use x=\"127.246094\" xlink:href=\"#DejaVuSans-48\"/>\n      </g>\n     </g>\n    </g>\n    <g id=\"ytick_12\">\n     <g id=\"line2d_20\">\n      <path clip-path=\"url(#p4d413f5c99)\" d=\"M 42.145 49.24459 \nL 711.745 49.24459 \n\" style=\"fill:none;stroke:#ffffff;stroke-linecap:round;\"/>\n     </g>\n     <g id=\"text_20\">\n      <!-- 500 -->\n      <defs>\n       <path d=\"M 10.796875 72.90625 \nL 49.515625 72.90625 \nL 49.515625 64.59375 \nL 19.828125 64.59375 \nL 19.828125 46.734375 \nQ 21.96875 47.46875 24.109375 47.828125 \nQ 26.265625 48.1875 28.421875 48.1875 \nQ 40.625 48.1875 47.75 41.5 \nQ 54.890625 34.8125 54.890625 23.390625 \nQ 54.890625 11.625 47.5625 5.09375 \nQ 40.234375 -1.421875 26.90625 -1.421875 \nQ 22.3125 -1.421875 17.546875 -0.640625 \nQ 12.796875 0.140625 7.71875 1.703125 \nL 7.71875 11.625 \nQ 12.109375 9.234375 16.796875 8.0625 \nQ 21.484375 6.890625 26.703125 6.890625 \nQ 35.15625 6.890625 40.078125 11.328125 \nQ 45.015625 15.765625 45.015625 23.390625 \nQ 45.015625 31 40.078125 35.4375 \nQ 35.15625 39.890625 26.703125 39.890625 \nQ 22.75 39.890625 18.8125 39.015625 \nQ 14.890625 38.140625 10.796875 36.28125 \nz\n\" id=\"DejaVuSans-53\"/>\n      </defs>\n      <g style=\"fill:#262626;\" transform=\"translate(721.245 55.32334)scale(0.16 -0.16)\">\n       <use xlink:href=\"#DejaVuSans-53\"/>\n       <use x=\"63.623047\" xlink:href=\"#DejaVuSans-48\"/>\n       <use x=\"127.246094\" xlink:href=\"#DejaVuSans-48\"/>\n      </g>\n     </g>\n    </g>\n   </g>\n  </g>\n  <g id=\"axes_3\">\n   <g id=\"matplotlib.axis_4\">\n    <g id=\"xtick_9\">\n     <g id=\"text_21\">\n      <!-- 500 -->\n      <g style=\"fill:#262626;\" transform=\"translate(92.591651 37.391692)rotate(-45)scale(0.16 -0.16)\">\n       <use xlink:href=\"#DejaVuSans-53\"/>\n       <use x=\"63.623047\" xlink:href=\"#DejaVuSans-48\"/>\n       <use x=\"127.246094\" xlink:href=\"#DejaVuSans-48\"/>\n      </g>\n     </g>\n    </g>\n    <g id=\"xtick_10\">\n     <g id=\"text_22\">\n      <!-- 500 -->\n      <g style=\"fill:#262626;\" transform=\"translate(176.291651 37.391692)rotate(-45)scale(0.16 -0.16)\">\n       <use xlink:href=\"#DejaVuSans-53\"/>\n       <use x=\"63.623047\" xlink:href=\"#DejaVuSans-48\"/>\n       <use x=\"127.246094\" xlink:href=\"#DejaVuSans-48\"/>\n      </g>\n     </g>\n    </g>\n    <g id=\"xtick_11\">\n     <g id=\"text_23\">\n      <!-- 499 -->\n      <defs>\n       <path d=\"M 10.984375 1.515625 \nL 10.984375 10.5 \nQ 14.703125 8.734375 18.5 7.8125 \nQ 22.3125 6.890625 25.984375 6.890625 \nQ 35.75 6.890625 40.890625 13.453125 \nQ 46.046875 20.015625 46.78125 33.40625 \nQ 43.953125 29.203125 39.59375 26.953125 \nQ 35.25 24.703125 29.984375 24.703125 \nQ 19.046875 24.703125 12.671875 31.3125 \nQ 6.296875 37.9375 6.296875 49.421875 \nQ 6.296875 60.640625 12.9375 67.421875 \nQ 19.578125 74.21875 30.609375 74.21875 \nQ 43.265625 74.21875 49.921875 64.515625 \nQ 56.59375 54.828125 56.59375 36.375 \nQ 56.59375 19.140625 48.40625 8.859375 \nQ 40.234375 -1.421875 26.421875 -1.421875 \nQ 22.703125 -1.421875 18.890625 -0.6875 \nQ 15.09375 0.046875 10.984375 1.515625 \nz\nM 30.609375 32.421875 \nQ 37.25 32.421875 41.125 36.953125 \nQ 45.015625 41.5 45.015625 49.421875 \nQ 45.015625 57.28125 41.125 61.84375 \nQ 37.25 66.40625 30.609375 66.40625 \nQ 23.96875 66.40625 20.09375 61.84375 \nQ 16.21875 57.28125 16.21875 49.421875 \nQ 16.21875 41.5 20.09375 36.953125 \nQ 23.96875 32.421875 30.609375 32.421875 \nz\n\" id=\"DejaVuSans-57\"/>\n      </defs>\n      <g style=\"fill:#262626;\" transform=\"translate(259.991651 37.391692)rotate(-45)scale(0.16 -0.16)\">\n       <use xlink:href=\"#DejaVuSans-52\"/>\n       <use x=\"63.623047\" xlink:href=\"#DejaVuSans-57\"/>\n       <use x=\"127.246094\" xlink:href=\"#DejaVuSans-57\"/>\n      </g>\n     </g>\n    </g>\n    <g id=\"xtick_12\">\n     <g id=\"text_24\">\n      <!-- 431 -->\n      <g style=\"fill:#262626;\" transform=\"translate(343.691651 37.391692)rotate(-45)scale(0.16 -0.16)\">\n       <use xlink:href=\"#DejaVuSans-52\"/>\n       <use x=\"63.623047\" xlink:href=\"#DejaVuSans-51\"/>\n       <use x=\"127.246094\" xlink:href=\"#DejaVuSans-49\"/>\n      </g>\n     </g>\n    </g>\n    <g id=\"xtick_13\">\n     <g id=\"text_25\">\n      <!-- 500 -->\n      <g style=\"fill:#262626;\" transform=\"translate(427.391651 37.391692)rotate(-45)scale(0.16 -0.16)\">\n       <use xlink:href=\"#DejaVuSans-53\"/>\n       <use x=\"63.623047\" xlink:href=\"#DejaVuSans-48\"/>\n       <use x=\"127.246094\" xlink:href=\"#DejaVuSans-48\"/>\n      </g>\n     </g>\n    </g>\n    <g id=\"xtick_14\">\n     <g id=\"text_26\">\n      <!-- 139 -->\n      <g style=\"fill:#262626;\" transform=\"translate(511.091651 37.391692)rotate(-45)scale(0.16 -0.16)\">\n       <use xlink:href=\"#DejaVuSans-49\"/>\n       <use x=\"63.623047\" xlink:href=\"#DejaVuSans-51\"/>\n       <use x=\"127.246094\" xlink:href=\"#DejaVuSans-57\"/>\n      </g>\n     </g>\n    </g>\n    <g id=\"xtick_15\">\n     <g id=\"text_27\">\n      <!-- 500 -->\n      <g style=\"fill:#262626;\" transform=\"translate(594.791651 37.391692)rotate(-45)scale(0.16 -0.16)\">\n       <use xlink:href=\"#DejaVuSans-53\"/>\n       <use x=\"63.623047\" xlink:href=\"#DejaVuSans-48\"/>\n       <use x=\"127.246094\" xlink:href=\"#DejaVuSans-48\"/>\n      </g>\n     </g>\n    </g>\n    <g id=\"xtick_16\">\n     <g id=\"text_28\">\n      <!-- 500 -->\n      <g style=\"fill:#262626;\" transform=\"translate(678.491651 37.391692)rotate(-45)scale(0.16 -0.16)\">\n       <use xlink:href=\"#DejaVuSans-53\"/>\n       <use x=\"63.623047\" xlink:href=\"#DejaVuSans-48\"/>\n       <use x=\"127.246094\" xlink:href=\"#DejaVuSans-48\"/>\n      </g>\n     </g>\n    </g>\n   </g>\n  </g>\n </g>\n <defs>\n  <clipPath id=\"p4d413f5c99\">\n   <rect height=\"271.8\" width=\"669.6\" x=\"42.145\" y=\"49.24459\"/>\n  </clipPath>\n </defs>\n</svg>\n"
          },
          "metadata": {
            "tags": []
          }
        }
      ]
    },
    {
      "cell_type": "code",
      "metadata": {
        "colab_type": "code",
        "id": "3BIaAHLgmSKC",
        "colab": {}
      },
      "source": [
        "def summary_missing(dataset):\n",
        "    n_miss = dataset.isnull().sum()\n",
        "    n_obs = dataset.shape[0]\n",
        "    n_miss_per = n_miss/n_obs*100\n",
        "    n_miss_tbl = pd.concat([n_miss, n_miss_per], axis = 1).sort_values(1, ascending = False).round(1)\n",
        "    n_miss_tbl = n_miss_tbl[n_miss_tbl[1] != 0]\n",
        "    print('No. of fields: ', dataset.shape[0])\n",
        "    print('No. of missing fields: ', n_miss_tbl.shape[0])\n",
        "    n_miss_tbl = n_miss_tbl.rename(columns = {0:'No. of mising Value', 1:'%age of missing Value'})\n",
        "    return n_miss_tbl"
      ],
      "execution_count": 0,
      "outputs": []
    },
    {
      "cell_type": "code",
      "metadata": {
        "colab_type": "code",
        "id": "c9FpjOeamSM3",
        "outputId": "ac0bf552-9efd-489a-a28f-9d9a70bd147c",
        "colab": {
          "base_uri": "https://localhost:8080/",
          "height": 176
        }
      },
      "source": [
        "summary_missing(df_bol)"
      ],
      "execution_count": 12,
      "outputs": [
        {
          "output_type": "stream",
          "text": [
            "No. of fields:  59782\n",
            "No. of missing fields:  3\n"
          ],
          "name": "stdout"
        },
        {
          "output_type": "execute_result",
          "data": {
            "text/html": [
              "<div>\n",
              "<style scoped>\n",
              "    .dataframe tbody tr th:only-of-type {\n",
              "        vertical-align: middle;\n",
              "    }\n",
              "\n",
              "    .dataframe tbody tr th {\n",
              "        vertical-align: top;\n",
              "    }\n",
              "\n",
              "    .dataframe thead th {\n",
              "        text-align: right;\n",
              "    }\n",
              "</style>\n",
              "<table border=\"1\" class=\"dataframe\">\n",
              "  <thead>\n",
              "    <tr style=\"text-align: right;\">\n",
              "      <th></th>\n",
              "      <th>No. of mising Value</th>\n",
              "      <th>%age of missing Value</th>\n",
              "    </tr>\n",
              "  </thead>\n",
              "  <tbody>\n",
              "    <tr>\n",
              "      <th>referrer_without_parameters</th>\n",
              "      <td>44778</td>\n",
              "      <td>74.9</td>\n",
              "    </tr>\n",
              "    <tr>\n",
              "      <th>region_by_ip_address</th>\n",
              "      <td>9896</td>\n",
              "      <td>16.6</td>\n",
              "    </tr>\n",
              "    <tr>\n",
              "      <th>country_by_ip_address</th>\n",
              "      <td>248</td>\n",
              "      <td>0.4</td>\n",
              "    </tr>\n",
              "  </tbody>\n",
              "</table>\n",
              "</div>"
            ],
            "text/plain": [
              "                             No. of mising Value  %age of missing Value\n",
              "referrer_without_parameters                44778                   74.9\n",
              "region_by_ip_address                        9896                   16.6\n",
              "country_by_ip_address                        248                    0.4"
            ]
          },
          "metadata": {
            "tags": []
          },
          "execution_count": 12
        }
      ]
    },
    {
      "cell_type": "code",
      "metadata": {
        "colab_type": "code",
        "id": "VrNrLAyJmSPf",
        "outputId": "2254614d-90a4-487d-d42c-d1a07a99d311",
        "colab": {
          "base_uri": "https://localhost:8080/",
          "height": 119
        }
      },
      "source": [
        "# checking each feature one by one starting with \"referrer_without_parameters\"\n",
        "\n",
        "df_bol['referrer_without_parameters'].value_counts(dropna=False).head()"
      ],
      "execution_count": 13,
      "outputs": [
        {
          "output_type": "execute_result",
          "data": {
            "text/plain": [
              "NaN                                                                         44778\n",
              "https://www.bol.com/nl/s/algemeen/zoekresultaten/sc/media_all/index.html      693\n",
              "https://www.bol.com/nl/chckout/checkout.html                                  396\n",
              "https://www.bol.com/nl/m/voordeel/sale-solden/index.html                      215\n",
              "https://www.bol.com/nl/s/algemeen/zoekresultaten/index.html                   173\n",
              "Name: referrer_without_parameters, dtype: int64"
            ]
          },
          "metadata": {
            "tags": []
          },
          "execution_count": 13
        }
      ]
    },
    {
      "cell_type": "markdown",
      "metadata": {
        "id": "R56ceDchZ0pL",
        "colab_type": "text"
      },
      "source": [
        "NaN                                                                         44778"
      ]
    },
    {
      "cell_type": "code",
      "metadata": {
        "colab_type": "code",
        "id": "LKnqhd_Wo7w6",
        "outputId": "543340dc-432d-4442-99d0-4286b8b9b964",
        "colab": {
          "base_uri": "https://localhost:8080/",
          "height": 170
        }
      },
      "source": [
        "df_bol['country_by_ip_address'].value_counts(dropna=False).head(8)"
      ],
      "execution_count": 14,
      "outputs": [
        {
          "output_type": "execute_result",
          "data": {
            "text/plain": [
              "NL     25673\n",
              "US     22780\n",
              "BE      7409\n",
              "GB      1185\n",
              "DE       616\n",
              "FR       348\n",
              "NaN      248\n",
              "CN       236\n",
              "Name: country_by_ip_address, dtype: int64"
            ]
          },
          "metadata": {
            "tags": []
          },
          "execution_count": 14
        }
      ]
    },
    {
      "cell_type": "markdown",
      "metadata": {
        "id": "wwPvXAJIZ0pN",
        "colab_type": "text"
      },
      "source": [
        "NaN      248"
      ]
    },
    {
      "cell_type": "code",
      "metadata": {
        "colab_type": "code",
        "id": "o7iVont1mSSC",
        "outputId": "8ddbcc1b-b6ad-4c27-f24d-343c7dc83bb4",
        "colab": {
          "base_uri": "https://localhost:8080/",
          "height": 119
        }
      },
      "source": [
        "df_bol['region_by_ip_address'].value_counts(dropna=False).head()"
      ],
      "execution_count": 15,
      "outputs": [
        {
          "output_type": "execute_result",
          "data": {
            "text/plain": [
              "CA     20662\n",
              "NaN     9896\n",
              "NH      4320\n",
              "ZH      4160\n",
              "VAN     2239\n",
              "Name: region_by_ip_address, dtype: int64"
            ]
          },
          "metadata": {
            "tags": []
          },
          "execution_count": 15
        }
      ]
    },
    {
      "cell_type": "markdown",
      "metadata": {
        "id": "H_VQjdqCZ0pP",
        "colab_type": "text"
      },
      "source": [
        "NaN     9896"
      ]
    },
    {
      "cell_type": "code",
      "metadata": {
        "id": "EDdX7fAnZ0pQ",
        "colab_type": "code",
        "outputId": "d2c8b0cd-f71f-4c46-d1be-dfdf909d7606",
        "colab": {
          "base_uri": "https://localhost:8080/",
          "height": 241
        }
      },
      "source": [
        "# use the 'isnull' Series method to filter the DataFrame rows. \n",
        "df_bol[df_bol.country_by_ip_address.isnull()].head()"
      ],
      "execution_count": 16,
      "outputs": [
        {
          "output_type": "execute_result",
          "data": {
            "text/html": [
              "<div>\n",
              "<style scoped>\n",
              "    .dataframe tbody tr th:only-of-type {\n",
              "        vertical-align: middle;\n",
              "    }\n",
              "\n",
              "    .dataframe tbody tr th {\n",
              "        vertical-align: top;\n",
              "    }\n",
              "\n",
              "    .dataframe thead th {\n",
              "        text-align: right;\n",
              "    }\n",
              "</style>\n",
              "<table border=\"1\" class=\"dataframe\">\n",
              "  <thead>\n",
              "    <tr style=\"text-align: right;\">\n",
              "      <th></th>\n",
              "      <th>epoch_ms</th>\n",
              "      <th>session_id</th>\n",
              "      <th>country_by_ip_address</th>\n",
              "      <th>region_by_ip_address</th>\n",
              "      <th>url_without_parameters</th>\n",
              "      <th>referrer_without_parameters</th>\n",
              "      <th>visitor_recognition_type</th>\n",
              "      <th>ua_agent_class</th>\n",
              "    </tr>\n",
              "  </thead>\n",
              "  <tbody>\n",
              "    <tr>\n",
              "      <th>44</th>\n",
              "      <td>1520280042769</td>\n",
              "      <td>ead0de034f327f2d65b1d3b6e1ccf3bd</td>\n",
              "      <td>NaN</td>\n",
              "      <td>NaN</td>\n",
              "      <td>https://www.bol.com/nl/p/stahlex-o10mm-140cm-a...</td>\n",
              "      <td>https://www.bol.com/nl/p/stahlex-o10mm-120cm-a...</td>\n",
              "      <td>ANONYMOUS</td>\n",
              "      <td>Browser</td>\n",
              "    </tr>\n",
              "    <tr>\n",
              "      <th>149</th>\n",
              "      <td>1520280121568</td>\n",
              "      <td>ead0de034f327f2d65b1d3b6e1ccf3bd</td>\n",
              "      <td>NaN</td>\n",
              "      <td>NaN</td>\n",
              "      <td>https://www.bol.com/nl/p/kettingslot-top-lock-...</td>\n",
              "      <td>NaN</td>\n",
              "      <td>ANONYMOUS</td>\n",
              "      <td>Browser</td>\n",
              "    </tr>\n",
              "    <tr>\n",
              "      <th>415</th>\n",
              "      <td>1520280294514</td>\n",
              "      <td>4a462ddfb4a61788864dd2db9d07a8df</td>\n",
              "      <td>NaN</td>\n",
              "      <td>NaN</td>\n",
              "      <td>https://www.bol.com/nl/l/mediaplayers/N/7114/</td>\n",
              "      <td>NaN</td>\n",
              "      <td>ANONYMOUS</td>\n",
              "      <td>Browser</td>\n",
              "    </tr>\n",
              "    <tr>\n",
              "      <th>961</th>\n",
              "      <td>1520280658423</td>\n",
              "      <td>465b8921f35bfb2dbbc4764c7fbe0572</td>\n",
              "      <td>NaN</td>\n",
              "      <td>NaN</td>\n",
              "      <td>https://www.bol.com/nl/l/alle-laptops/N/4770/</td>\n",
              "      <td>NaN</td>\n",
              "      <td>ANONYMOUS</td>\n",
              "      <td>Browser</td>\n",
              "    </tr>\n",
              "    <tr>\n",
              "      <th>987</th>\n",
              "      <td>1520280671831</td>\n",
              "      <td>1910b1489132245e4cd481260cc20362</td>\n",
              "      <td>NaN</td>\n",
              "      <td>NaN</td>\n",
              "      <td>https://www.bol.com/nl/l/kinderwagens/N/11274/</td>\n",
              "      <td>NaN</td>\n",
              "      <td>ANONYMOUS</td>\n",
              "      <td>Browser</td>\n",
              "    </tr>\n",
              "  </tbody>\n",
              "</table>\n",
              "</div>"
            ],
            "text/plain": [
              "          epoch_ms  ... ua_agent_class\n",
              "44   1520280042769  ...        Browser\n",
              "149  1520280121568  ...        Browser\n",
              "415  1520280294514  ...        Browser\n",
              "961  1520280658423  ...        Browser\n",
              "987  1520280671831  ...        Browser\n",
              "\n",
              "[5 rows x 8 columns]"
            ]
          },
          "metadata": {
            "tags": []
          },
          "execution_count": 16
        }
      ]
    },
    {
      "cell_type": "markdown",
      "metadata": {
        "id": "v2f03pBEZ0pR",
        "colab_type": "text"
      },
      "source": [
        "**Filling missing value with \"VARIOUS\"**"
      ]
    },
    {
      "cell_type": "markdown",
      "metadata": {
        "colab_type": "text",
        "id": "v7wFXFGkq-g7"
      },
      "source": [
        "We could either remove these missing values or we might fill them with an \"entity\". If it were numerical data then I would use impute option. As it is categorical data , we might add\"various\" or as training model suggests , we may also add ''."
      ]
    },
    {
      "cell_type": "code",
      "metadata": {
        "colab_type": "code",
        "id": "5tRmQ-WeooAj",
        "colab": {}
      },
      "source": [
        "df_bol['referrer_without_parameters'].fillna(value='VARIOUS', inplace=True)\n",
        "df_bol['country_by_ip_address'].fillna(value='VARIOUS', inplace=True)\n",
        "df_bol['region_by_ip_address'].fillna(value='VARIOUS', inplace=True)"
      ],
      "execution_count": 0,
      "outputs": []
    },
    {
      "cell_type": "code",
      "metadata": {
        "colab_type": "code",
        "id": "W1vhA5HrrxUZ",
        "outputId": "2eb018fe-cf9b-4c43-90f9-7469c03c93d4",
        "colab": {
          "base_uri": "https://localhost:8080/",
          "height": 83
        }
      },
      "source": [
        "summary_missing(df_bol)"
      ],
      "execution_count": 18,
      "outputs": [
        {
          "output_type": "stream",
          "text": [
            "No. of fields:  59782\n",
            "No. of missing fields:  0\n"
          ],
          "name": "stdout"
        },
        {
          "output_type": "execute_result",
          "data": {
            "text/html": [
              "<div>\n",
              "<style scoped>\n",
              "    .dataframe tbody tr th:only-of-type {\n",
              "        vertical-align: middle;\n",
              "    }\n",
              "\n",
              "    .dataframe tbody tr th {\n",
              "        vertical-align: top;\n",
              "    }\n",
              "\n",
              "    .dataframe thead th {\n",
              "        text-align: right;\n",
              "    }\n",
              "</style>\n",
              "<table border=\"1\" class=\"dataframe\">\n",
              "  <thead>\n",
              "    <tr style=\"text-align: right;\">\n",
              "      <th></th>\n",
              "      <th>No. of mising Value</th>\n",
              "      <th>%age of missing Value</th>\n",
              "    </tr>\n",
              "  </thead>\n",
              "  <tbody>\n",
              "  </tbody>\n",
              "</table>\n",
              "</div>"
            ],
            "text/plain": [
              "Empty DataFrame\n",
              "Columns: [No. of mising Value, %age of missing Value]\n",
              "Index: []"
            ]
          },
          "metadata": {
            "tags": []
          },
          "execution_count": 18
        }
      ]
    },
    {
      "cell_type": "markdown",
      "metadata": {
        "colab_type": "text",
        "id": "pUercXsJvHXc"
      },
      "source": [
        "Seems fine now"
      ]
    },
    {
      "cell_type": "code",
      "metadata": {
        "id": "ukBcN8MRZ0pa",
        "colab_type": "code",
        "outputId": "56930599-5dd8-40b8-a287-2a1c8e2a4256",
        "colab": {
          "base_uri": "https://localhost:8080/",
          "height": 119
        }
      },
      "source": [
        "df_bol['referrer_without_parameters'].value_counts(dropna=False).head()"
      ],
      "execution_count": 19,
      "outputs": [
        {
          "output_type": "execute_result",
          "data": {
            "text/plain": [
              "VARIOUS                                                                     44778\n",
              "https://www.bol.com/nl/s/algemeen/zoekresultaten/sc/media_all/index.html      693\n",
              "https://www.bol.com/nl/chckout/checkout.html                                  396\n",
              "https://www.bol.com/nl/m/voordeel/sale-solden/index.html                      215\n",
              "https://www.bol.com/nl/s/algemeen/zoekresultaten/index.html                   173\n",
              "Name: referrer_without_parameters, dtype: int64"
            ]
          },
          "metadata": {
            "tags": []
          },
          "execution_count": 19
        }
      ]
    },
    {
      "cell_type": "code",
      "metadata": {
        "id": "HKYj5HGjZ0pc",
        "colab_type": "code",
        "outputId": "c0702e10-6196-4b4e-9ae1-afa100c200d2",
        "colab": {
          "base_uri": "https://localhost:8080/",
          "height": 34
        }
      },
      "source": [
        "df_bol.shape"
      ],
      "execution_count": 20,
      "outputs": [
        {
          "output_type": "execute_result",
          "data": {
            "text/plain": [
              "(59782, 8)"
            ]
          },
          "metadata": {
            "tags": []
          },
          "execution_count": 20
        }
      ]
    },
    {
      "cell_type": "markdown",
      "metadata": {
        "id": "GQrtNt41Z0pe",
        "colab_type": "text"
      },
      "source": [
        "And we didnt lose any values"
      ]
    },
    {
      "cell_type": "markdown",
      "metadata": {
        "colab_type": "text",
        "id": "ckyMNwRKbG4u"
      },
      "source": [
        "### 3.3)-checking duplicate values"
      ]
    },
    {
      "cell_type": "code",
      "metadata": {
        "colab_type": "code",
        "id": "erep1L9ybK5z",
        "outputId": "16078fb2-d8f7-4e2e-b33f-8964b87bfcab",
        "colab": {
          "base_uri": "https://localhost:8080/",
          "height": 34
        }
      },
      "source": [
        "print(df_bol.duplicated().sum())"
      ],
      "execution_count": 21,
      "outputs": [
        {
          "output_type": "stream",
          "text": [
            "0\n"
          ],
          "name": "stdout"
        }
      ]
    },
    {
      "cell_type": "markdown",
      "metadata": {
        "colab_type": "text",
        "id": "7DqbCRQDmxDv"
      },
      "source": [
        "### 3.4)-Sorting"
      ]
    },
    {
      "cell_type": "code",
      "metadata": {
        "colab_type": "code",
        "id": "4pv5_xNbmzWU",
        "outputId": "b1913127-a2c4-4537-abf0-5d381afeccfb",
        "colab": {
          "base_uri": "https://localhost:8080/",
          "height": 275
        }
      },
      "source": [
        "df_bol.sort_values(by='visitor_recognition_type', ascending=False).head()"
      ],
      "execution_count": 22,
      "outputs": [
        {
          "output_type": "execute_result",
          "data": {
            "text/html": [
              "<div>\n",
              "<style scoped>\n",
              "    .dataframe tbody tr th:only-of-type {\n",
              "        vertical-align: middle;\n",
              "    }\n",
              "\n",
              "    .dataframe tbody tr th {\n",
              "        vertical-align: top;\n",
              "    }\n",
              "\n",
              "    .dataframe thead th {\n",
              "        text-align: right;\n",
              "    }\n",
              "</style>\n",
              "<table border=\"1\" class=\"dataframe\">\n",
              "  <thead>\n",
              "    <tr style=\"text-align: right;\">\n",
              "      <th></th>\n",
              "      <th>epoch_ms</th>\n",
              "      <th>session_id</th>\n",
              "      <th>country_by_ip_address</th>\n",
              "      <th>region_by_ip_address</th>\n",
              "      <th>url_without_parameters</th>\n",
              "      <th>referrer_without_parameters</th>\n",
              "      <th>visitor_recognition_type</th>\n",
              "      <th>ua_agent_class</th>\n",
              "    </tr>\n",
              "  </thead>\n",
              "  <tbody>\n",
              "    <tr>\n",
              "      <th>34496</th>\n",
              "      <td>1520280202558</td>\n",
              "      <td>da3b7564f35e8f28451ae65a9a9b66d1</td>\n",
              "      <td>NL</td>\n",
              "      <td>VARIOUS</td>\n",
              "      <td>https://www.bol.com/nl/b/ajax/index.html</td>\n",
              "      <td>https://www.bol.com/nl/b/baby-kinderkleding-jo...</td>\n",
              "      <td>RECOGNIZED</td>\n",
              "      <td>Browser</td>\n",
              "    </tr>\n",
              "    <tr>\n",
              "      <th>27702</th>\n",
              "      <td>1520281427095</td>\n",
              "      <td>b394bfb124a91cd9ebbedd4f14d5e4b0</td>\n",
              "      <td>BE</td>\n",
              "      <td>VAN</td>\n",
              "      <td>https://www.bol.com/nl/p/swampworld-dionaea-mu...</td>\n",
              "      <td>https://www.bol.com/nl/s/tuin/zoekresultaten/N...</td>\n",
              "      <td>RECOGNIZED</td>\n",
              "      <td>Browser</td>\n",
              "    </tr>\n",
              "    <tr>\n",
              "      <th>27721</th>\n",
              "      <td>1520281441407</td>\n",
              "      <td>e3d49b10074a12986d8868dd85835fb6</td>\n",
              "      <td>BE</td>\n",
              "      <td>VARIOUS</td>\n",
              "      <td>https://www.bol.com/nl/p/sistema-bake-it-versh...</td>\n",
              "      <td>https://www.bol.com/nl/s/algemeen/zoekresultat...</td>\n",
              "      <td>RECOGNIZED</td>\n",
              "      <td>Browser</td>\n",
              "    </tr>\n",
              "    <tr>\n",
              "      <th>12747</th>\n",
              "      <td>1520283062812</td>\n",
              "      <td>03988ce8b205597d44bc571d8a04162a</td>\n",
              "      <td>NL</td>\n",
              "      <td>GE</td>\n",
              "      <td>https://www.bol.com/nl/s/ajax/index.html</td>\n",
              "      <td>https://www.bol.com/nl/s/algemeen/zoekresultat...</td>\n",
              "      <td>RECOGNIZED</td>\n",
              "      <td>Browser</td>\n",
              "    </tr>\n",
              "    <tr>\n",
              "      <th>27716</th>\n",
              "      <td>1520281439193</td>\n",
              "      <td>01302b8ffd4ccc060e926d01171651c7</td>\n",
              "      <td>NL</td>\n",
              "      <td>VARIOUS</td>\n",
              "      <td>https://www.bol.com/nl/p/wereldbol-met-verlich...</td>\n",
              "      <td>VARIOUS</td>\n",
              "      <td>RECOGNIZED</td>\n",
              "      <td>Browser</td>\n",
              "    </tr>\n",
              "  </tbody>\n",
              "</table>\n",
              "</div>"
            ],
            "text/plain": [
              "            epoch_ms  ... ua_agent_class\n",
              "34496  1520280202558  ...        Browser\n",
              "27702  1520281427095  ...        Browser\n",
              "27721  1520281441407  ...        Browser\n",
              "12747  1520283062812  ...        Browser\n",
              "27716  1520281439193  ...        Browser\n",
              "\n",
              "[5 rows x 8 columns]"
            ]
          },
          "metadata": {
            "tags": []
          },
          "execution_count": 22
        }
      ]
    },
    {
      "cell_type": "code",
      "metadata": {
        "colab_type": "code",
        "id": "6Y-wDJHNmzZc",
        "outputId": "76fb2aaf-04ba-4edb-aeec-2b9fc8d28bf2",
        "colab": {
          "base_uri": "https://localhost:8080/",
          "height": 275
        }
      },
      "source": [
        "df_bol.sort_values(by=['ua_agent_class', 'visitor_recognition_type'], ascending=[True, False]).head()"
      ],
      "execution_count": 23,
      "outputs": [
        {
          "output_type": "execute_result",
          "data": {
            "text/html": [
              "<div>\n",
              "<style scoped>\n",
              "    .dataframe tbody tr th:only-of-type {\n",
              "        vertical-align: middle;\n",
              "    }\n",
              "\n",
              "    .dataframe tbody tr th {\n",
              "        vertical-align: top;\n",
              "    }\n",
              "\n",
              "    .dataframe thead th {\n",
              "        text-align: right;\n",
              "    }\n",
              "</style>\n",
              "<table border=\"1\" class=\"dataframe\">\n",
              "  <thead>\n",
              "    <tr style=\"text-align: right;\">\n",
              "      <th></th>\n",
              "      <th>epoch_ms</th>\n",
              "      <th>session_id</th>\n",
              "      <th>country_by_ip_address</th>\n",
              "      <th>region_by_ip_address</th>\n",
              "      <th>url_without_parameters</th>\n",
              "      <th>referrer_without_parameters</th>\n",
              "      <th>visitor_recognition_type</th>\n",
              "      <th>ua_agent_class</th>\n",
              "    </tr>\n",
              "  </thead>\n",
              "  <tbody>\n",
              "    <tr>\n",
              "      <th>9</th>\n",
              "      <td>1520280013619</td>\n",
              "      <td>d3828e7e2638881c9b0f3bed0221f815</td>\n",
              "      <td>NL</td>\n",
              "      <td>ZH</td>\n",
              "      <td>https://www.bol.com/nl/t/elektronica/audio-hif...</td>\n",
              "      <td>VARIOUS</td>\n",
              "      <td>RECOGNIZED</td>\n",
              "      <td>Browser</td>\n",
              "    </tr>\n",
              "    <tr>\n",
              "      <th>19</th>\n",
              "      <td>1520280023995</td>\n",
              "      <td>6c3d7350dee7687fe8a550951ae2ad4a</td>\n",
              "      <td>NL</td>\n",
              "      <td>ZH</td>\n",
              "      <td>https://www.bol.com/nl/checkout/login.html</td>\n",
              "      <td>VARIOUS</td>\n",
              "      <td>RECOGNIZED</td>\n",
              "      <td>Browser</td>\n",
              "    </tr>\n",
              "    <tr>\n",
              "      <th>26</th>\n",
              "      <td>1520280033070</td>\n",
              "      <td>160fdd31c0a5ecfb6e27d0c9e99eceaa</td>\n",
              "      <td>NL</td>\n",
              "      <td>UT</td>\n",
              "      <td>https://www.bol.com/nl/p/ducksday-zomer-poncho...</td>\n",
              "      <td>https://www.bol.com/nl/s/algemeen/zoekresultat...</td>\n",
              "      <td>RECOGNIZED</td>\n",
              "      <td>Browser</td>\n",
              "    </tr>\n",
              "    <tr>\n",
              "      <th>37</th>\n",
              "      <td>1520280038110</td>\n",
              "      <td>13f24291bd85342a43c4afbdad7c6e9c</td>\n",
              "      <td>NL</td>\n",
              "      <td>GR</td>\n",
              "      <td>https://www.bol.com/nl/ra/boeken/gratis-verzen...</td>\n",
              "      <td>VARIOUS</td>\n",
              "      <td>RECOGNIZED</td>\n",
              "      <td>Browser</td>\n",
              "    </tr>\n",
              "    <tr>\n",
              "      <th>39</th>\n",
              "      <td>1520280039188</td>\n",
              "      <td>8e2499565ca2b5a8a1ece6080e09af5d</td>\n",
              "      <td>NL</td>\n",
              "      <td>NB</td>\n",
              "      <td>https://www.bol.com/nl/c/ajax/index.html</td>\n",
              "      <td>VARIOUS</td>\n",
              "      <td>RECOGNIZED</td>\n",
              "      <td>Browser</td>\n",
              "    </tr>\n",
              "  </tbody>\n",
              "</table>\n",
              "</div>"
            ],
            "text/plain": [
              "         epoch_ms  ... ua_agent_class\n",
              "9   1520280013619  ...        Browser\n",
              "19  1520280023995  ...        Browser\n",
              "26  1520280033070  ...        Browser\n",
              "37  1520280038110  ...        Browser\n",
              "39  1520280039188  ...        Browser\n",
              "\n",
              "[5 rows x 8 columns]"
            ]
          },
          "metadata": {
            "tags": []
          },
          "execution_count": 23
        }
      ]
    },
    {
      "cell_type": "markdown",
      "metadata": {
        "colab_type": "text",
        "id": "PoPAZgN3sB1M"
      },
      "source": [
        "### groupby"
      ]
    },
    {
      "cell_type": "code",
      "metadata": {
        "colab_type": "code",
        "id": "3ixu_q2ZtrB-",
        "outputId": "17cec6d3-5031-4a4e-9623-0112e38dbc0c",
        "colab": {
          "base_uri": "https://localhost:8080/",
          "height": 328
        }
      },
      "source": [
        "df_bol.groupby(['ua_agent_class']).count()"
      ],
      "execution_count": 24,
      "outputs": [
        {
          "output_type": "execute_result",
          "data": {
            "text/html": [
              "<div>\n",
              "<style scoped>\n",
              "    .dataframe tbody tr th:only-of-type {\n",
              "        vertical-align: middle;\n",
              "    }\n",
              "\n",
              "    .dataframe tbody tr th {\n",
              "        vertical-align: top;\n",
              "    }\n",
              "\n",
              "    .dataframe thead th {\n",
              "        text-align: right;\n",
              "    }\n",
              "</style>\n",
              "<table border=\"1\" class=\"dataframe\">\n",
              "  <thead>\n",
              "    <tr style=\"text-align: right;\">\n",
              "      <th></th>\n",
              "      <th>epoch_ms</th>\n",
              "      <th>session_id</th>\n",
              "      <th>country_by_ip_address</th>\n",
              "      <th>region_by_ip_address</th>\n",
              "      <th>url_without_parameters</th>\n",
              "      <th>referrer_without_parameters</th>\n",
              "      <th>visitor_recognition_type</th>\n",
              "    </tr>\n",
              "    <tr>\n",
              "      <th>ua_agent_class</th>\n",
              "      <th></th>\n",
              "      <th></th>\n",
              "      <th></th>\n",
              "      <th></th>\n",
              "      <th></th>\n",
              "      <th></th>\n",
              "      <th></th>\n",
              "    </tr>\n",
              "  </thead>\n",
              "  <tbody>\n",
              "    <tr>\n",
              "      <th>Browser</th>\n",
              "      <td>35509</td>\n",
              "      <td>35509</td>\n",
              "      <td>35509</td>\n",
              "      <td>35509</td>\n",
              "      <td>35509</td>\n",
              "      <td>35509</td>\n",
              "      <td>35509</td>\n",
              "    </tr>\n",
              "    <tr>\n",
              "      <th>Browser Webview</th>\n",
              "      <td>1800</td>\n",
              "      <td>1800</td>\n",
              "      <td>1800</td>\n",
              "      <td>1800</td>\n",
              "      <td>1800</td>\n",
              "      <td>1800</td>\n",
              "      <td>1800</td>\n",
              "    </tr>\n",
              "    <tr>\n",
              "      <th>Cloud Application</th>\n",
              "      <td>2</td>\n",
              "      <td>2</td>\n",
              "      <td>2</td>\n",
              "      <td>2</td>\n",
              "      <td>2</td>\n",
              "      <td>2</td>\n",
              "      <td>2</td>\n",
              "    </tr>\n",
              "    <tr>\n",
              "      <th>Hacker</th>\n",
              "      <td>1177</td>\n",
              "      <td>1177</td>\n",
              "      <td>1177</td>\n",
              "      <td>1177</td>\n",
              "      <td>1177</td>\n",
              "      <td>1177</td>\n",
              "      <td>1177</td>\n",
              "    </tr>\n",
              "    <tr>\n",
              "      <th>Mobile App</th>\n",
              "      <td>9</td>\n",
              "      <td>9</td>\n",
              "      <td>9</td>\n",
              "      <td>9</td>\n",
              "      <td>9</td>\n",
              "      <td>9</td>\n",
              "      <td>9</td>\n",
              "    </tr>\n",
              "    <tr>\n",
              "      <th>Robot</th>\n",
              "      <td>16026</td>\n",
              "      <td>16026</td>\n",
              "      <td>16026</td>\n",
              "      <td>16026</td>\n",
              "      <td>16026</td>\n",
              "      <td>16026</td>\n",
              "      <td>16026</td>\n",
              "    </tr>\n",
              "    <tr>\n",
              "      <th>Robot Mobile</th>\n",
              "      <td>5115</td>\n",
              "      <td>5115</td>\n",
              "      <td>5115</td>\n",
              "      <td>5115</td>\n",
              "      <td>5115</td>\n",
              "      <td>5115</td>\n",
              "      <td>5115</td>\n",
              "    </tr>\n",
              "    <tr>\n",
              "      <th>Special</th>\n",
              "      <td>144</td>\n",
              "      <td>144</td>\n",
              "      <td>144</td>\n",
              "      <td>144</td>\n",
              "      <td>144</td>\n",
              "      <td>144</td>\n",
              "      <td>144</td>\n",
              "    </tr>\n",
              "  </tbody>\n",
              "</table>\n",
              "</div>"
            ],
            "text/plain": [
              "                   epoch_ms  ...  visitor_recognition_type\n",
              "ua_agent_class               ...                          \n",
              "Browser               35509  ...                     35509\n",
              "Browser Webview        1800  ...                      1800\n",
              "Cloud Application         2  ...                         2\n",
              "Hacker                 1177  ...                      1177\n",
              "Mobile App                9  ...                         9\n",
              "Robot                 16026  ...                     16026\n",
              "Robot Mobile           5115  ...                      5115\n",
              "Special                 144  ...                       144\n",
              "\n",
              "[8 rows x 7 columns]"
            ]
          },
          "metadata": {
            "tags": []
          },
          "execution_count": 24
        }
      ]
    },
    {
      "cell_type": "code",
      "metadata": {
        "colab_type": "code",
        "id": "YOJDQmykri3E",
        "outputId": "71f92ea2-d996-4808-dbc9-510957216afd",
        "colab": {
          "base_uri": "https://localhost:8080/",
          "height": 483
        }
      },
      "source": [
        "df_bol.groupby(['ua_agent_class', 'visitor_recognition_type']).count()"
      ],
      "execution_count": 25,
      "outputs": [
        {
          "output_type": "execute_result",
          "data": {
            "text/html": [
              "<div>\n",
              "<style scoped>\n",
              "    .dataframe tbody tr th:only-of-type {\n",
              "        vertical-align: middle;\n",
              "    }\n",
              "\n",
              "    .dataframe tbody tr th {\n",
              "        vertical-align: top;\n",
              "    }\n",
              "\n",
              "    .dataframe thead th {\n",
              "        text-align: right;\n",
              "    }\n",
              "</style>\n",
              "<table border=\"1\" class=\"dataframe\">\n",
              "  <thead>\n",
              "    <tr style=\"text-align: right;\">\n",
              "      <th></th>\n",
              "      <th></th>\n",
              "      <th>epoch_ms</th>\n",
              "      <th>session_id</th>\n",
              "      <th>country_by_ip_address</th>\n",
              "      <th>region_by_ip_address</th>\n",
              "      <th>url_without_parameters</th>\n",
              "      <th>referrer_without_parameters</th>\n",
              "    </tr>\n",
              "    <tr>\n",
              "      <th>ua_agent_class</th>\n",
              "      <th>visitor_recognition_type</th>\n",
              "      <th></th>\n",
              "      <th></th>\n",
              "      <th></th>\n",
              "      <th></th>\n",
              "      <th></th>\n",
              "      <th></th>\n",
              "    </tr>\n",
              "  </thead>\n",
              "  <tbody>\n",
              "    <tr>\n",
              "      <th rowspan=\"3\" valign=\"top\">Browser</th>\n",
              "      <th>ANONYMOUS</th>\n",
              "      <td>20390</td>\n",
              "      <td>20390</td>\n",
              "      <td>20390</td>\n",
              "      <td>20390</td>\n",
              "      <td>20390</td>\n",
              "      <td>20390</td>\n",
              "    </tr>\n",
              "    <tr>\n",
              "      <th>LOGGEDIN</th>\n",
              "      <td>3076</td>\n",
              "      <td>3076</td>\n",
              "      <td>3076</td>\n",
              "      <td>3076</td>\n",
              "      <td>3076</td>\n",
              "      <td>3076</td>\n",
              "    </tr>\n",
              "    <tr>\n",
              "      <th>RECOGNIZED</th>\n",
              "      <td>12043</td>\n",
              "      <td>12043</td>\n",
              "      <td>12043</td>\n",
              "      <td>12043</td>\n",
              "      <td>12043</td>\n",
              "      <td>12043</td>\n",
              "    </tr>\n",
              "    <tr>\n",
              "      <th rowspan=\"3\" valign=\"top\">Browser Webview</th>\n",
              "      <th>ANONYMOUS</th>\n",
              "      <td>849</td>\n",
              "      <td>849</td>\n",
              "      <td>849</td>\n",
              "      <td>849</td>\n",
              "      <td>849</td>\n",
              "      <td>849</td>\n",
              "    </tr>\n",
              "    <tr>\n",
              "      <th>LOGGEDIN</th>\n",
              "      <td>406</td>\n",
              "      <td>406</td>\n",
              "      <td>406</td>\n",
              "      <td>406</td>\n",
              "      <td>406</td>\n",
              "      <td>406</td>\n",
              "    </tr>\n",
              "    <tr>\n",
              "      <th>RECOGNIZED</th>\n",
              "      <td>545</td>\n",
              "      <td>545</td>\n",
              "      <td>545</td>\n",
              "      <td>545</td>\n",
              "      <td>545</td>\n",
              "      <td>545</td>\n",
              "    </tr>\n",
              "    <tr>\n",
              "      <th>Cloud Application</th>\n",
              "      <th>ANONYMOUS</th>\n",
              "      <td>2</td>\n",
              "      <td>2</td>\n",
              "      <td>2</td>\n",
              "      <td>2</td>\n",
              "      <td>2</td>\n",
              "      <td>2</td>\n",
              "    </tr>\n",
              "    <tr>\n",
              "      <th rowspan=\"2\" valign=\"top\">Hacker</th>\n",
              "      <th>ANONYMOUS</th>\n",
              "      <td>1176</td>\n",
              "      <td>1176</td>\n",
              "      <td>1176</td>\n",
              "      <td>1176</td>\n",
              "      <td>1176</td>\n",
              "      <td>1176</td>\n",
              "    </tr>\n",
              "    <tr>\n",
              "      <th>RECOGNIZED</th>\n",
              "      <td>1</td>\n",
              "      <td>1</td>\n",
              "      <td>1</td>\n",
              "      <td>1</td>\n",
              "      <td>1</td>\n",
              "      <td>1</td>\n",
              "    </tr>\n",
              "    <tr>\n",
              "      <th>Mobile App</th>\n",
              "      <th>ANONYMOUS</th>\n",
              "      <td>9</td>\n",
              "      <td>9</td>\n",
              "      <td>9</td>\n",
              "      <td>9</td>\n",
              "      <td>9</td>\n",
              "      <td>9</td>\n",
              "    </tr>\n",
              "    <tr>\n",
              "      <th>Robot</th>\n",
              "      <th>ANONYMOUS</th>\n",
              "      <td>16026</td>\n",
              "      <td>16026</td>\n",
              "      <td>16026</td>\n",
              "      <td>16026</td>\n",
              "      <td>16026</td>\n",
              "      <td>16026</td>\n",
              "    </tr>\n",
              "    <tr>\n",
              "      <th>Robot Mobile</th>\n",
              "      <th>ANONYMOUS</th>\n",
              "      <td>5115</td>\n",
              "      <td>5115</td>\n",
              "      <td>5115</td>\n",
              "      <td>5115</td>\n",
              "      <td>5115</td>\n",
              "      <td>5115</td>\n",
              "    </tr>\n",
              "    <tr>\n",
              "      <th>Special</th>\n",
              "      <th>ANONYMOUS</th>\n",
              "      <td>144</td>\n",
              "      <td>144</td>\n",
              "      <td>144</td>\n",
              "      <td>144</td>\n",
              "      <td>144</td>\n",
              "      <td>144</td>\n",
              "    </tr>\n",
              "  </tbody>\n",
              "</table>\n",
              "</div>"
            ],
            "text/plain": [
              "                                            epoch_ms  ...  referrer_without_parameters\n",
              "ua_agent_class    visitor_recognition_type            ...                             \n",
              "Browser           ANONYMOUS                    20390  ...                        20390\n",
              "                  LOGGEDIN                      3076  ...                         3076\n",
              "                  RECOGNIZED                   12043  ...                        12043\n",
              "Browser Webview   ANONYMOUS                      849  ...                          849\n",
              "                  LOGGEDIN                       406  ...                          406\n",
              "                  RECOGNIZED                     545  ...                          545\n",
              "Cloud Application ANONYMOUS                        2  ...                            2\n",
              "Hacker            ANONYMOUS                     1176  ...                         1176\n",
              "                  RECOGNIZED                       1  ...                            1\n",
              "Mobile App        ANONYMOUS                        9  ...                            9\n",
              "Robot             ANONYMOUS                    16026  ...                        16026\n",
              "Robot Mobile      ANONYMOUS                     5115  ...                         5115\n",
              "Special           ANONYMOUS                      144  ...                          144\n",
              "\n",
              "[13 rows x 6 columns]"
            ]
          },
          "metadata": {
            "tags": []
          },
          "execution_count": 25
        }
      ]
    },
    {
      "cell_type": "markdown",
      "metadata": {
        "colab_type": "text",
        "id": "_CAmQCSVvmM1"
      },
      "source": [
        "### 3.4)- Checking categorical features"
      ]
    },
    {
      "cell_type": "code",
      "metadata": {
        "colab_type": "code",
        "id": "-GS3DiT_vDie",
        "outputId": "025cee6b-8075-40d3-b072-861e002215a3",
        "colab": {
          "base_uri": "https://localhost:8080/",
          "height": 153
        }
      },
      "source": [
        "# Checking unique categorical variables\n",
        "df_bol.select_dtypes('object').apply(pd.Series.nunique, axis = 0)"
      ],
      "execution_count": 26,
      "outputs": [
        {
          "output_type": "execute_result",
          "data": {
            "text/plain": [
              "session_id                     30816\n",
              "country_by_ip_address             66\n",
              "region_by_ip_address             229\n",
              "url_without_parameters         40696\n",
              "referrer_without_parameters     6203\n",
              "visitor_recognition_type           3\n",
              "ua_agent_class                     8\n",
              "dtype: int64"
            ]
          },
          "metadata": {
            "tags": []
          },
          "execution_count": 26
        }
      ]
    },
    {
      "cell_type": "markdown",
      "metadata": {
        "colab_type": "text",
        "id": "Po8D3C09v2Ka"
      },
      "source": [
        "Our feature of interests are \"ua_agent\" being our independant feature, country_by_ip_address, region_by_ip_address and visitor_recognition_type."
      ]
    },
    {
      "cell_type": "code",
      "metadata": {
        "colab_type": "code",
        "id": "nF5ZqECHvyH1",
        "outputId": "5f5e506d-0588-44fa-a836-0a41ee70fef0",
        "colab": {
          "base_uri": "https://localhost:8080/",
          "height": 34
        }
      },
      "source": [
        "# checking how many unique labels are in each feature\n",
        "df_bol['visitor_recognition_type'].unique()"
      ],
      "execution_count": 27,
      "outputs": [
        {
          "output_type": "execute_result",
          "data": {
            "text/plain": [
              "array(['ANONYMOUS', 'LOGGEDIN', 'RECOGNIZED'], dtype=object)"
            ]
          },
          "metadata": {
            "tags": []
          },
          "execution_count": 27
        }
      ]
    },
    {
      "cell_type": "code",
      "metadata": {
        "colab_type": "code",
        "id": "7iqjaK1ywVQX",
        "outputId": "e6d936da-72ec-471e-d5ca-2c4ba002f6c8",
        "colab": {
          "base_uri": "https://localhost:8080/",
          "height": 85
        }
      },
      "source": [
        "# how many times those labels classes occur\n",
        "df_bol['visitor_recognition_type'].value_counts()"
      ],
      "execution_count": 28,
      "outputs": [
        {
          "output_type": "execute_result",
          "data": {
            "text/plain": [
              "ANONYMOUS     43711\n",
              "RECOGNIZED    12589\n",
              "LOGGEDIN       3482\n",
              "Name: visitor_recognition_type, dtype: int64"
            ]
          },
          "metadata": {
            "tags": []
          },
          "execution_count": 28
        }
      ]
    },
    {
      "cell_type": "code",
      "metadata": {
        "colab_type": "code",
        "id": "f8zFQqQXwmiu",
        "outputId": "91642120-889a-4259-ea3c-96ac3e89ad05",
        "colab": {
          "base_uri": "https://localhost:8080/",
          "height": 458
        }
      },
      "source": [
        "df_bol['visitor_recognition_type'].value_counts().plot.bar()"
      ],
      "execution_count": 29,
      "outputs": [
        {
          "output_type": "execute_result",
          "data": {
            "text/plain": [
              "<matplotlib.axes._subplots.AxesSubplot at 0x7f8079178a58>"
            ]
          },
          "metadata": {
            "tags": []
          },
          "execution_count": 29
        },
        {
          "output_type": "display_data",
          "data": {
            "text/plain": [
              "<Figure size 432x288 with 1 Axes>"
            ],
            "image/svg+xml": "<?xml version=\"1.0\" encoding=\"utf-8\" standalone=\"no\"?>\n<!DOCTYPE svg PUBLIC \"-//W3C//DTD SVG 1.1//EN\"\n  \"http://www.w3.org/Graphics/SVG/1.1/DTD/svg11.dtd\">\n<!-- Created with matplotlib (https://matplotlib.org/) -->\n<svg height=\"315.227344pt\" version=\"1.1\" viewBox=\"0 0 393.69375 315.227344\" width=\"393.69375pt\" xmlns=\"http://www.w3.org/2000/svg\" xmlns:xlink=\"http://www.w3.org/1999/xlink\">\n <defs>\n  <style type=\"text/css\">\n*{stroke-linecap:butt;stroke-linejoin:round;}\n  </style>\n </defs>\n <g id=\"figure_1\">\n  <g id=\"patch_1\">\n   <path d=\"M 0 315.227344 \nL 393.69375 315.227344 \nL 393.69375 0 \nL 0 0 \nz\n\" style=\"fill:none;\"/>\n  </g>\n  <g id=\"axes_1\">\n   <g id=\"patch_2\">\n    <path d=\"M 51.69375 224.64 \nL 386.49375 224.64 \nL 386.49375 7.2 \nL 51.69375 7.2 \nz\n\" style=\"fill:#eaeaf2;\"/>\n   </g>\n   <g id=\"matplotlib.axis_1\">\n    <g id=\"xtick_1\">\n     <g id=\"line2d_1\">\n      <path clip-path=\"url(#p1284361b5b)\" d=\"M 107.49375 224.64 \nL 107.49375 7.2 \n\" style=\"fill:none;stroke:#ffffff;stroke-linecap:round;\"/>\n     </g>\n     <g id=\"text_1\">\n      <!-- ANONYMOUS -->\n      <defs>\n       <path d=\"M 34.1875 63.1875 \nL 20.796875 26.90625 \nL 47.609375 26.90625 \nz\nM 28.609375 72.90625 \nL 39.796875 72.90625 \nL 67.578125 0 \nL 57.328125 0 \nL 50.6875 18.703125 \nL 17.828125 18.703125 \nL 11.1875 0 \nL 0.78125 0 \nz\n\" id=\"DejaVuSans-65\"/>\n       <path d=\"M 9.8125 72.90625 \nL 23.09375 72.90625 \nL 55.421875 11.921875 \nL 55.421875 72.90625 \nL 64.984375 72.90625 \nL 64.984375 0 \nL 51.703125 0 \nL 19.390625 60.984375 \nL 19.390625 0 \nL 9.8125 0 \nz\n\" id=\"DejaVuSans-78\"/>\n       <path d=\"M 39.40625 66.21875 \nQ 28.65625 66.21875 22.328125 58.203125 \nQ 16.015625 50.203125 16.015625 36.375 \nQ 16.015625 22.609375 22.328125 14.59375 \nQ 28.65625 6.59375 39.40625 6.59375 \nQ 50.140625 6.59375 56.421875 14.59375 \nQ 62.703125 22.609375 62.703125 36.375 \nQ 62.703125 50.203125 56.421875 58.203125 \nQ 50.140625 66.21875 39.40625 66.21875 \nz\nM 39.40625 74.21875 \nQ 54.734375 74.21875 63.90625 63.9375 \nQ 73.09375 53.65625 73.09375 36.375 \nQ 73.09375 19.140625 63.90625 8.859375 \nQ 54.734375 -1.421875 39.40625 -1.421875 \nQ 24.03125 -1.421875 14.8125 8.828125 \nQ 5.609375 19.09375 5.609375 36.375 \nQ 5.609375 53.65625 14.8125 63.9375 \nQ 24.03125 74.21875 39.40625 74.21875 \nz\n\" id=\"DejaVuSans-79\"/>\n       <path d=\"M -0.203125 72.90625 \nL 10.40625 72.90625 \nL 30.609375 42.921875 \nL 50.6875 72.90625 \nL 61.28125 72.90625 \nL 35.5 34.71875 \nL 35.5 0 \nL 25.59375 0 \nL 25.59375 34.71875 \nz\n\" id=\"DejaVuSans-89\"/>\n       <path d=\"M 9.8125 72.90625 \nL 24.515625 72.90625 \nL 43.109375 23.296875 \nL 61.8125 72.90625 \nL 76.515625 72.90625 \nL 76.515625 0 \nL 66.890625 0 \nL 66.890625 64.015625 \nL 48.09375 14.015625 \nL 38.1875 14.015625 \nL 19.390625 64.015625 \nL 19.390625 0 \nL 9.8125 0 \nz\n\" id=\"DejaVuSans-77\"/>\n       <path d=\"M 8.6875 72.90625 \nL 18.609375 72.90625 \nL 18.609375 28.609375 \nQ 18.609375 16.890625 22.84375 11.734375 \nQ 27.09375 6.59375 36.625 6.59375 \nQ 46.09375 6.59375 50.34375 11.734375 \nQ 54.59375 16.890625 54.59375 28.609375 \nL 54.59375 72.90625 \nL 64.5 72.90625 \nL 64.5 27.390625 \nQ 64.5 13.140625 57.4375 5.859375 \nQ 50.390625 -1.421875 36.625 -1.421875 \nQ 22.796875 -1.421875 15.734375 5.859375 \nQ 8.6875 13.140625 8.6875 27.390625 \nz\n\" id=\"DejaVuSans-85\"/>\n       <path d=\"M 53.515625 70.515625 \nL 53.515625 60.890625 \nQ 47.90625 63.578125 42.921875 64.890625 \nQ 37.9375 66.21875 33.296875 66.21875 \nQ 25.25 66.21875 20.875 63.09375 \nQ 16.5 59.96875 16.5 54.203125 \nQ 16.5 49.359375 19.40625 46.890625 \nQ 22.3125 44.4375 30.421875 42.921875 \nL 36.375 41.703125 \nQ 47.40625 39.59375 52.65625 34.296875 \nQ 57.90625 29 57.90625 20.125 \nQ 57.90625 9.515625 50.796875 4.046875 \nQ 43.703125 -1.421875 29.984375 -1.421875 \nQ 24.8125 -1.421875 18.96875 -0.25 \nQ 13.140625 0.921875 6.890625 3.21875 \nL 6.890625 13.375 \nQ 12.890625 10.015625 18.65625 8.296875 \nQ 24.421875 6.59375 29.984375 6.59375 \nQ 38.421875 6.59375 43.015625 9.90625 \nQ 47.609375 13.234375 47.609375 19.390625 \nQ 47.609375 24.75 44.3125 27.78125 \nQ 41.015625 30.8125 33.5 32.328125 \nL 27.484375 33.5 \nQ 16.453125 35.6875 11.515625 40.375 \nQ 6.59375 45.0625 6.59375 53.421875 \nQ 6.59375 63.09375 13.40625 68.65625 \nQ 20.21875 74.21875 32.171875 74.21875 \nQ 37.3125 74.21875 42.625 73.28125 \nQ 47.953125 72.359375 53.515625 70.515625 \nz\n\" id=\"DejaVuSans-83\"/>\n      </defs>\n      <g style=\"fill:#262626;\" transform=\"translate(110.529063 306.685)rotate(-90)scale(0.11 -0.11)\">\n       <use xlink:href=\"#DejaVuSans-65\"/>\n       <use x=\"68.408203\" xlink:href=\"#DejaVuSans-78\"/>\n       <use x=\"143.212891\" xlink:href=\"#DejaVuSans-79\"/>\n       <use x=\"221.923828\" xlink:href=\"#DejaVuSans-78\"/>\n       <use x=\"296.728516\" xlink:href=\"#DejaVuSans-89\"/>\n       <use x=\"357.8125\" xlink:href=\"#DejaVuSans-77\"/>\n       <use x=\"444.091797\" xlink:href=\"#DejaVuSans-79\"/>\n       <use x=\"522.802734\" xlink:href=\"#DejaVuSans-85\"/>\n       <use x=\"595.996094\" xlink:href=\"#DejaVuSans-83\"/>\n      </g>\n     </g>\n    </g>\n    <g id=\"xtick_2\">\n     <g id=\"line2d_2\">\n      <path clip-path=\"url(#p1284361b5b)\" d=\"M 219.09375 224.64 \nL 219.09375 7.2 \n\" style=\"fill:none;stroke:#ffffff;stroke-linecap:round;\"/>\n     </g>\n     <g id=\"text_2\">\n      <!-- RECOGNIZED -->\n      <defs>\n       <path d=\"M 44.390625 34.1875 \nQ 47.5625 33.109375 50.5625 29.59375 \nQ 53.5625 26.078125 56.59375 19.921875 \nL 66.609375 0 \nL 56 0 \nL 46.6875 18.703125 \nQ 43.0625 26.03125 39.671875 28.421875 \nQ 36.28125 30.8125 30.421875 30.8125 \nL 19.671875 30.8125 \nL 19.671875 0 \nL 9.8125 0 \nL 9.8125 72.90625 \nL 32.078125 72.90625 \nQ 44.578125 72.90625 50.734375 67.671875 \nQ 56.890625 62.453125 56.890625 51.90625 \nQ 56.890625 45.015625 53.6875 40.46875 \nQ 50.484375 35.9375 44.390625 34.1875 \nz\nM 19.671875 64.796875 \nL 19.671875 38.921875 \nL 32.078125 38.921875 \nQ 39.203125 38.921875 42.84375 42.21875 \nQ 46.484375 45.515625 46.484375 51.90625 \nQ 46.484375 58.296875 42.84375 61.546875 \nQ 39.203125 64.796875 32.078125 64.796875 \nz\n\" id=\"DejaVuSans-82\"/>\n       <path d=\"M 9.8125 72.90625 \nL 55.90625 72.90625 \nL 55.90625 64.59375 \nL 19.671875 64.59375 \nL 19.671875 43.015625 \nL 54.390625 43.015625 \nL 54.390625 34.71875 \nL 19.671875 34.71875 \nL 19.671875 8.296875 \nL 56.78125 8.296875 \nL 56.78125 0 \nL 9.8125 0 \nz\n\" id=\"DejaVuSans-69\"/>\n       <path d=\"M 64.40625 67.28125 \nL 64.40625 56.890625 \nQ 59.421875 61.53125 53.78125 63.8125 \nQ 48.140625 66.109375 41.796875 66.109375 \nQ 29.296875 66.109375 22.65625 58.46875 \nQ 16.015625 50.828125 16.015625 36.375 \nQ 16.015625 21.96875 22.65625 14.328125 \nQ 29.296875 6.6875 41.796875 6.6875 \nQ 48.140625 6.6875 53.78125 8.984375 \nQ 59.421875 11.28125 64.40625 15.921875 \nL 64.40625 5.609375 \nQ 59.234375 2.09375 53.4375 0.328125 \nQ 47.65625 -1.421875 41.21875 -1.421875 \nQ 24.65625 -1.421875 15.125 8.703125 \nQ 5.609375 18.84375 5.609375 36.375 \nQ 5.609375 53.953125 15.125 64.078125 \nQ 24.65625 74.21875 41.21875 74.21875 \nQ 47.75 74.21875 53.53125 72.484375 \nQ 59.328125 70.75 64.40625 67.28125 \nz\n\" id=\"DejaVuSans-67\"/>\n       <path d=\"M 59.515625 10.40625 \nL 59.515625 29.984375 \nL 43.40625 29.984375 \nL 43.40625 38.09375 \nL 69.28125 38.09375 \nL 69.28125 6.78125 \nQ 63.578125 2.734375 56.6875 0.65625 \nQ 49.8125 -1.421875 42 -1.421875 \nQ 24.90625 -1.421875 15.25 8.5625 \nQ 5.609375 18.5625 5.609375 36.375 \nQ 5.609375 54.25 15.25 64.234375 \nQ 24.90625 74.21875 42 74.21875 \nQ 49.125 74.21875 55.546875 72.453125 \nQ 61.96875 70.703125 67.390625 67.28125 \nL 67.390625 56.78125 \nQ 61.921875 61.421875 55.765625 63.765625 \nQ 49.609375 66.109375 42.828125 66.109375 \nQ 29.4375 66.109375 22.71875 58.640625 \nQ 16.015625 51.171875 16.015625 36.375 \nQ 16.015625 21.625 22.71875 14.15625 \nQ 29.4375 6.6875 42.828125 6.6875 \nQ 48.046875 6.6875 52.140625 7.59375 \nQ 56.25 8.5 59.515625 10.40625 \nz\n\" id=\"DejaVuSans-71\"/>\n       <path d=\"M 9.8125 72.90625 \nL 19.671875 72.90625 \nL 19.671875 0 \nL 9.8125 0 \nz\n\" id=\"DejaVuSans-73\"/>\n       <path d=\"M 5.609375 72.90625 \nL 62.890625 72.90625 \nL 62.890625 65.375 \nL 16.796875 8.296875 \nL 64.015625 8.296875 \nL 64.015625 0 \nL 4.5 0 \nL 4.5 7.515625 \nL 50.59375 64.59375 \nL 5.609375 64.59375 \nz\n\" id=\"DejaVuSans-90\"/>\n       <path d=\"M 19.671875 64.796875 \nL 19.671875 8.109375 \nL 31.59375 8.109375 \nQ 46.6875 8.109375 53.6875 14.9375 \nQ 60.6875 21.78125 60.6875 36.53125 \nQ 60.6875 51.171875 53.6875 57.984375 \nQ 46.6875 64.796875 31.59375 64.796875 \nz\nM 9.8125 72.90625 \nL 30.078125 72.90625 \nQ 51.265625 72.90625 61.171875 64.09375 \nQ 71.09375 55.28125 71.09375 36.53125 \nQ 71.09375 17.671875 61.125 8.828125 \nQ 51.171875 0 30.078125 0 \nL 9.8125 0 \nz\n\" id=\"DejaVuSans-68\"/>\n      </defs>\n      <g style=\"fill:#262626;\" transform=\"translate(222.129063 308.027344)rotate(-90)scale(0.11 -0.11)\">\n       <use xlink:href=\"#DejaVuSans-82\"/>\n       <use x=\"69.482422\" xlink:href=\"#DejaVuSans-69\"/>\n       <use x=\"132.666016\" xlink:href=\"#DejaVuSans-67\"/>\n       <use x=\"202.490234\" xlink:href=\"#DejaVuSans-79\"/>\n       <use x=\"281.201172\" xlink:href=\"#DejaVuSans-71\"/>\n       <use x=\"358.691406\" xlink:href=\"#DejaVuSans-78\"/>\n       <use x=\"433.496094\" xlink:href=\"#DejaVuSans-73\"/>\n       <use x=\"462.988281\" xlink:href=\"#DejaVuSans-90\"/>\n       <use x=\"531.494141\" xlink:href=\"#DejaVuSans-69\"/>\n       <use x=\"594.677734\" xlink:href=\"#DejaVuSans-68\"/>\n      </g>\n     </g>\n    </g>\n    <g id=\"xtick_3\">\n     <g id=\"line2d_3\">\n      <path clip-path=\"url(#p1284361b5b)\" d=\"M 330.69375 224.64 \nL 330.69375 7.2 \n\" style=\"fill:none;stroke:#ffffff;stroke-linecap:round;\"/>\n     </g>\n     <g id=\"text_3\">\n      <!-- LOGGEDIN -->\n      <defs>\n       <path d=\"M 9.8125 72.90625 \nL 19.671875 72.90625 \nL 19.671875 8.296875 \nL 55.171875 8.296875 \nL 55.171875 0 \nL 9.8125 0 \nz\n\" id=\"DejaVuSans-76\"/>\n      </defs>\n      <g style=\"fill:#262626;\" transform=\"translate(333.729062 292.864531)rotate(-90)scale(0.11 -0.11)\">\n       <use xlink:href=\"#DejaVuSans-76\"/>\n       <use x=\"55.666016\" xlink:href=\"#DejaVuSans-79\"/>\n       <use x=\"134.376953\" xlink:href=\"#DejaVuSans-71\"/>\n       <use x=\"211.867188\" xlink:href=\"#DejaVuSans-71\"/>\n       <use x=\"289.357422\" xlink:href=\"#DejaVuSans-69\"/>\n       <use x=\"352.541016\" xlink:href=\"#DejaVuSans-68\"/>\n       <use x=\"429.542969\" xlink:href=\"#DejaVuSans-73\"/>\n       <use x=\"459.035156\" xlink:href=\"#DejaVuSans-78\"/>\n      </g>\n     </g>\n    </g>\n   </g>\n   <g id=\"matplotlib.axis_2\">\n    <g id=\"ytick_1\">\n     <g id=\"line2d_4\">\n      <path clip-path=\"url(#p1284361b5b)\" d=\"M 51.69375 224.64 \nL 386.49375 224.64 \n\" style=\"fill:none;stroke:#ffffff;stroke-linecap:round;\"/>\n     </g>\n     <g id=\"text_4\">\n      <!-- 0 -->\n      <defs>\n       <path d=\"M 31.78125 66.40625 \nQ 24.171875 66.40625 20.328125 58.90625 \nQ 16.5 51.421875 16.5 36.375 \nQ 16.5 21.390625 20.328125 13.890625 \nQ 24.171875 6.390625 31.78125 6.390625 \nQ 39.453125 6.390625 43.28125 13.890625 \nQ 47.125 21.390625 47.125 36.375 \nQ 47.125 51.421875 43.28125 58.90625 \nQ 39.453125 66.40625 31.78125 66.40625 \nz\nM 31.78125 74.21875 \nQ 44.046875 74.21875 50.515625 64.515625 \nQ 56.984375 54.828125 56.984375 36.375 \nQ 56.984375 17.96875 50.515625 8.265625 \nQ 44.046875 -1.421875 31.78125 -1.421875 \nQ 19.53125 -1.421875 13.0625 8.265625 \nQ 6.59375 17.96875 6.59375 36.375 \nQ 6.59375 54.828125 13.0625 64.515625 \nQ 19.53125 74.21875 31.78125 74.21875 \nz\n\" id=\"DejaVuSans-48\"/>\n      </defs>\n      <g style=\"fill:#262626;\" transform=\"translate(35.195 228.819141)scale(0.11 -0.11)\">\n       <use xlink:href=\"#DejaVuSans-48\"/>\n      </g>\n     </g>\n    </g>\n    <g id=\"ytick_2\">\n     <g id=\"line2d_5\">\n      <path clip-path=\"url(#p1284361b5b)\" d=\"M 51.69375 177.26389 \nL 386.49375 177.26389 \n\" style=\"fill:none;stroke:#ffffff;stroke-linecap:round;\"/>\n     </g>\n     <g id=\"text_5\">\n      <!-- 10000 -->\n      <defs>\n       <path d=\"M 12.40625 8.296875 \nL 28.515625 8.296875 \nL 28.515625 63.921875 \nL 10.984375 60.40625 \nL 10.984375 69.390625 \nL 28.421875 72.90625 \nL 38.28125 72.90625 \nL 38.28125 8.296875 \nL 54.390625 8.296875 \nL 54.390625 0 \nL 12.40625 0 \nz\n\" id=\"DejaVuSans-49\"/>\n      </defs>\n      <g style=\"fill:#262626;\" transform=\"translate(7.2 181.443031)scale(0.11 -0.11)\">\n       <use xlink:href=\"#DejaVuSans-49\"/>\n       <use x=\"63.623047\" xlink:href=\"#DejaVuSans-48\"/>\n       <use x=\"127.246094\" xlink:href=\"#DejaVuSans-48\"/>\n       <use x=\"190.869141\" xlink:href=\"#DejaVuSans-48\"/>\n       <use x=\"254.492188\" xlink:href=\"#DejaVuSans-48\"/>\n      </g>\n     </g>\n    </g>\n    <g id=\"ytick_3\">\n     <g id=\"line2d_6\">\n      <path clip-path=\"url(#p1284361b5b)\" d=\"M 51.69375 129.88778 \nL 386.49375 129.88778 \n\" style=\"fill:none;stroke:#ffffff;stroke-linecap:round;\"/>\n     </g>\n     <g id=\"text_6\">\n      <!-- 20000 -->\n      <defs>\n       <path d=\"M 19.1875 8.296875 \nL 53.609375 8.296875 \nL 53.609375 0 \nL 7.328125 0 \nL 7.328125 8.296875 \nQ 12.9375 14.109375 22.625 23.890625 \nQ 32.328125 33.6875 34.8125 36.53125 \nQ 39.546875 41.84375 41.421875 45.53125 \nQ 43.3125 49.21875 43.3125 52.78125 \nQ 43.3125 58.59375 39.234375 62.25 \nQ 35.15625 65.921875 28.609375 65.921875 \nQ 23.96875 65.921875 18.8125 64.3125 \nQ 13.671875 62.703125 7.8125 59.421875 \nL 7.8125 69.390625 \nQ 13.765625 71.78125 18.9375 73 \nQ 24.125 74.21875 28.421875 74.21875 \nQ 39.75 74.21875 46.484375 68.546875 \nQ 53.21875 62.890625 53.21875 53.421875 \nQ 53.21875 48.921875 51.53125 44.890625 \nQ 49.859375 40.875 45.40625 35.40625 \nQ 44.1875 33.984375 37.640625 27.21875 \nQ 31.109375 20.453125 19.1875 8.296875 \nz\n\" id=\"DejaVuSans-50\"/>\n      </defs>\n      <g style=\"fill:#262626;\" transform=\"translate(7.2 134.066921)scale(0.11 -0.11)\">\n       <use xlink:href=\"#DejaVuSans-50\"/>\n       <use x=\"63.623047\" xlink:href=\"#DejaVuSans-48\"/>\n       <use x=\"127.246094\" xlink:href=\"#DejaVuSans-48\"/>\n       <use x=\"190.869141\" xlink:href=\"#DejaVuSans-48\"/>\n       <use x=\"254.492188\" xlink:href=\"#DejaVuSans-48\"/>\n      </g>\n     </g>\n    </g>\n    <g id=\"ytick_4\">\n     <g id=\"line2d_7\">\n      <path clip-path=\"url(#p1284361b5b)\" d=\"M 51.69375 82.51167 \nL 386.49375 82.51167 \n\" style=\"fill:none;stroke:#ffffff;stroke-linecap:round;\"/>\n     </g>\n     <g id=\"text_7\">\n      <!-- 30000 -->\n      <defs>\n       <path d=\"M 40.578125 39.3125 \nQ 47.65625 37.796875 51.625 33 \nQ 55.609375 28.21875 55.609375 21.1875 \nQ 55.609375 10.40625 48.1875 4.484375 \nQ 40.765625 -1.421875 27.09375 -1.421875 \nQ 22.515625 -1.421875 17.65625 -0.515625 \nQ 12.796875 0.390625 7.625 2.203125 \nL 7.625 11.71875 \nQ 11.71875 9.328125 16.59375 8.109375 \nQ 21.484375 6.890625 26.8125 6.890625 \nQ 36.078125 6.890625 40.9375 10.546875 \nQ 45.796875 14.203125 45.796875 21.1875 \nQ 45.796875 27.640625 41.28125 31.265625 \nQ 36.765625 34.90625 28.71875 34.90625 \nL 20.21875 34.90625 \nL 20.21875 43.015625 \nL 29.109375 43.015625 \nQ 36.375 43.015625 40.234375 45.921875 \nQ 44.09375 48.828125 44.09375 54.296875 \nQ 44.09375 59.90625 40.109375 62.90625 \nQ 36.140625 65.921875 28.71875 65.921875 \nQ 24.65625 65.921875 20.015625 65.03125 \nQ 15.375 64.15625 9.8125 62.3125 \nL 9.8125 71.09375 \nQ 15.4375 72.65625 20.34375 73.4375 \nQ 25.25 74.21875 29.59375 74.21875 \nQ 40.828125 74.21875 47.359375 69.109375 \nQ 53.90625 64.015625 53.90625 55.328125 \nQ 53.90625 49.265625 50.4375 45.09375 \nQ 46.96875 40.921875 40.578125 39.3125 \nz\n\" id=\"DejaVuSans-51\"/>\n      </defs>\n      <g style=\"fill:#262626;\" transform=\"translate(7.2 86.690811)scale(0.11 -0.11)\">\n       <use xlink:href=\"#DejaVuSans-51\"/>\n       <use x=\"63.623047\" xlink:href=\"#DejaVuSans-48\"/>\n       <use x=\"127.246094\" xlink:href=\"#DejaVuSans-48\"/>\n       <use x=\"190.869141\" xlink:href=\"#DejaVuSans-48\"/>\n       <use x=\"254.492188\" xlink:href=\"#DejaVuSans-48\"/>\n      </g>\n     </g>\n    </g>\n    <g id=\"ytick_5\">\n     <g id=\"line2d_8\">\n      <path clip-path=\"url(#p1284361b5b)\" d=\"M 51.69375 35.13556 \nL 386.49375 35.13556 \n\" style=\"fill:none;stroke:#ffffff;stroke-linecap:round;\"/>\n     </g>\n     <g id=\"text_8\">\n      <!-- 40000 -->\n      <defs>\n       <path d=\"M 37.796875 64.3125 \nL 12.890625 25.390625 \nL 37.796875 25.390625 \nz\nM 35.203125 72.90625 \nL 47.609375 72.90625 \nL 47.609375 25.390625 \nL 58.015625 25.390625 \nL 58.015625 17.1875 \nL 47.609375 17.1875 \nL 47.609375 0 \nL 37.796875 0 \nL 37.796875 17.1875 \nL 4.890625 17.1875 \nL 4.890625 26.703125 \nz\n\" id=\"DejaVuSans-52\"/>\n      </defs>\n      <g style=\"fill:#262626;\" transform=\"translate(7.2 39.314701)scale(0.11 -0.11)\">\n       <use xlink:href=\"#DejaVuSans-52\"/>\n       <use x=\"63.623047\" xlink:href=\"#DejaVuSans-48\"/>\n       <use x=\"127.246094\" xlink:href=\"#DejaVuSans-48\"/>\n       <use x=\"190.869141\" xlink:href=\"#DejaVuSans-48\"/>\n       <use x=\"254.492188\" xlink:href=\"#DejaVuSans-48\"/>\n      </g>\n     </g>\n    </g>\n   </g>\n   <g id=\"patch_3\">\n    <path clip-path=\"url(#p1284361b5b)\" d=\"M 79.59375 224.64 \nL 135.39375 224.64 \nL 135.39375 17.554286 \nL 79.59375 17.554286 \nz\n\" style=\"fill:#4c72b0;stroke:#ffffff;stroke-linejoin:miter;\"/>\n   </g>\n   <g id=\"patch_4\">\n    <path clip-path=\"url(#p1284361b5b)\" d=\"M 191.19375 224.64 \nL 246.99375 224.64 \nL 246.99375 164.998215 \nL 191.19375 164.998215 \nz\n\" style=\"fill:#4c72b0;stroke:#ffffff;stroke-linejoin:miter;\"/>\n   </g>\n   <g id=\"patch_5\">\n    <path clip-path=\"url(#p1284361b5b)\" d=\"M 302.79375 224.64 \nL 358.59375 224.64 \nL 358.59375 208.143639 \nL 302.79375 208.143639 \nz\n\" style=\"fill:#4c72b0;stroke:#ffffff;stroke-linejoin:miter;\"/>\n   </g>\n   <g id=\"patch_6\">\n    <path d=\"M 51.69375 224.64 \nL 51.69375 7.2 \n\" style=\"fill:none;stroke:#ffffff;stroke-linecap:square;stroke-linejoin:miter;stroke-width:1.25;\"/>\n   </g>\n   <g id=\"patch_7\">\n    <path d=\"M 386.49375 224.64 \nL 386.49375 7.2 \n\" style=\"fill:none;stroke:#ffffff;stroke-linecap:square;stroke-linejoin:miter;stroke-width:1.25;\"/>\n   </g>\n   <g id=\"patch_8\">\n    <path d=\"M 51.69375 224.64 \nL 386.49375 224.64 \n\" style=\"fill:none;stroke:#ffffff;stroke-linecap:square;stroke-linejoin:miter;stroke-width:1.25;\"/>\n   </g>\n   <g id=\"patch_9\">\n    <path d=\"M 51.69375 7.2 \nL 386.49375 7.2 \n\" style=\"fill:none;stroke:#ffffff;stroke-linecap:square;stroke-linejoin:miter;stroke-width:1.25;\"/>\n   </g>\n  </g>\n </g>\n <defs>\n  <clipPath id=\"p1284361b5b\">\n   <rect height=\"217.44\" width=\"334.8\" x=\"51.69375\" y=\"7.2\"/>\n  </clipPath>\n </defs>\n</svg>\n"
          },
          "metadata": {
            "tags": []
          }
        }
      ]
    },
    {
      "cell_type": "code",
      "metadata": {
        "colab_type": "code",
        "id": "fzMiSMIXxVig",
        "outputId": "2287292a-ec78-4564-aae3-1643368f3bc8",
        "colab": {
          "base_uri": "https://localhost:8080/",
          "height": 136
        }
      },
      "source": [
        "# Let's check other categorical variables such as country_by_ip_address\n",
        "\n",
        "df_bol['country_by_ip_address'].unique()"
      ],
      "execution_count": 30,
      "outputs": [
        {
          "output_type": "execute_result",
          "data": {
            "text/plain": [
              "array(['US', 'IT', 'NL', 'BE', 'VARIOUS', 'UA', 'FR', 'DE', 'PL', 'CN',\n",
              "       'IE', 'RU', 'GB', 'AT', 'HU', 'JP', 'CA', 'PT', 'ES', 'CH', 'LT',\n",
              "       'ID', 'IN', 'TR', 'IR', 'MY', 'NZ', 'AU', 'TH', 'BD', 'QA', 'CZ',\n",
              "       'VN', 'MN', 'IL', 'FI', 'AM', 'DK', 'SR', 'GR', 'SE', 'LV', 'PK',\n",
              "       'LU', 'MA', 'MD', 'BG', 'BR', 'HR', 'AR', 'AL', 'MK', 'GH', 'PY',\n",
              "       'NO', 'RO', 'BO', 'ZA', 'SO', 'MC', 'MX', 'KR', 'DO', 'CW', 'SK',\n",
              "       'KG'], dtype=object)"
            ]
          },
          "metadata": {
            "tags": []
          },
          "execution_count": 30
        }
      ]
    },
    {
      "cell_type": "code",
      "metadata": {
        "colab_type": "code",
        "id": "wwhe93fiRFrk",
        "outputId": "4475c6c1-8df3-4d82-ca6a-6be20a5a2443",
        "colab": {
          "base_uri": "https://localhost:8080/",
          "height": 204
        }
      },
      "source": [
        "df_bol['country_by_ip_address'].value_counts()[:10]"
      ],
      "execution_count": 31,
      "outputs": [
        {
          "output_type": "execute_result",
          "data": {
            "text/plain": [
              "NL         25673\n",
              "US         22780\n",
              "BE          7409\n",
              "GB          1185\n",
              "DE           616\n",
              "FR           348\n",
              "VARIOUS      248\n",
              "CN           236\n",
              "UA           192\n",
              "RU           105\n",
              "Name: country_by_ip_address, dtype: int64"
            ]
          },
          "metadata": {
            "tags": []
          },
          "execution_count": 31
        }
      ]
    },
    {
      "cell_type": "code",
      "metadata": {
        "colab_type": "code",
        "id": "r57rjF3TRK11",
        "outputId": "ae3dc073-7987-4cb8-ba2b-22746bafa8f3",
        "colab": {
          "base_uri": "https://localhost:8080/",
          "height": 391
        }
      },
      "source": [
        "df_bol['region_by_ip_address'].unique()"
      ],
      "execution_count": 32,
      "outputs": [
        {
          "output_type": "execute_result",
          "data": {
            "text/plain": [
              "array(['CA', 'LI', 'NB', 'UT', 'ZH', 'VARIOUS', 'GE', 'DR', 'GR', 'FL',\n",
              "       'BRU', 'VAN', 'NH', 'OV', 'SO', 'VLI', 'FR', 'OK', '30', 'VWV',\n",
              "       'BW', 'MZ', 'BJ', 'ZE', 'VOV', 'VBR', 'L', 'VLA', 'BOL', 'WA', '7',\n",
              "       '5', 'AZ', 'NY', 'PA', 'VA', 'BU', 'ENG', 'WHT', 'TN', '13', 'IL',\n",
              "       'NV', '69', 'WNA', 'AL', 'IN', 'ON', 'WLG', 'NJ', 'MN', '11', 'ND',\n",
              "       'AR', 'DA', 'RM', 'QC', 'SD', 'TOM', 'ZG', '05', 'JI', 'HE', 'AP',\n",
              "       '59', 'CO', '08', '67', '03', '35', 'WBR', '14', 'AUK', 'NSW',\n",
              "       '64', 'MOS', '23', 'MD', 'ZP', '10', 'IA', 'LU', 'LA', '29', 'KP',\n",
              "       'HN', '1', 'NYK', 'TA', '18', 'BA', 'ER', '27', '07', '81', 'TX',\n",
              "       'NW', 'IRK', 'CM', 'MI', '40', 'I', 'JK', 'SI', 'GA', '26', 'OR',\n",
              "       'MS', '24', '71', 'WKO', '9', 'NC', 'VGG', 'AB', 'LK', 'MOW',\n",
              "       'RIX', 'PB', 'M', 'ME', 'SL', 'KHE', 'OH', 'ID', 'CT', 'MO', 'MA',\n",
              "       '6', 'NI', '12', 'GRE', 'BY', '92', 'CU', 'CAS', '20', 'A', 'GI',\n",
              "       'SH', 'FI', 'SRY', 'BE', 'WI', 'NFK', 'ULY', '51', '21', '16',\n",
              "       'AM', '83', 'GJ', 'UP', 'S', 'B', 'SA', '22', 'PK', '77', 'DL',\n",
              "       '91', '45', 'KS', '04', '75', 'RJ', '38', 'ENF', 'AA', 'T', 'V',\n",
              "       '61', 'ASU', '63', '422', '34', 'PO', '56', '209', 'VR', 'VD',\n",
              "       'MDW', 'VT', 'SC', '31', 'DJ', '86', 'GC', '33', 'NE', 'SE', 'CS',\n",
              "       'BI', 'TG', 'KEN', '46', 'GT', '15', '28', 'TO', 'IVA', 'MG',\n",
              "       'CMX', 'LEN', 'PM', 'WP', 'AQ', 'SOM', 'WLX', 'CE', 'AN', 'SP',\n",
              "       'WIL', '01', '202', 'SLG', '531', 'TWH', '644', 'O', 'LT', '50',\n",
              "       'KY', '41', 'BL', 'BEN', 'GB', 'VI', '06'], dtype=object)"
            ]
          },
          "metadata": {
            "tags": []
          },
          "execution_count": 32
        }
      ]
    },
    {
      "cell_type": "code",
      "metadata": {
        "colab_type": "code",
        "id": "GSBDxX9SRl7f",
        "outputId": "13b370e1-09e4-4810-a66b-39eb585bd090",
        "colab": {
          "base_uri": "https://localhost:8080/",
          "height": 204
        }
      },
      "source": [
        "df_bol['region_by_ip_address'].value_counts()[:10]"
      ],
      "execution_count": 33,
      "outputs": [
        {
          "output_type": "execute_result",
          "data": {
            "text/plain": [
              "CA         20662\n",
              "VARIOUS     9896\n",
              "NH          4320\n",
              "ZH          4160\n",
              "VAN         2239\n",
              "NB          2112\n",
              "GE          1950\n",
              "UT          1586\n",
              "VOV         1333\n",
              "OV          1055\n",
              "Name: region_by_ip_address, dtype: int64"
            ]
          },
          "metadata": {
            "tags": []
          },
          "execution_count": 33
        }
      ]
    },
    {
      "cell_type": "markdown",
      "metadata": {
        "colab_type": "text",
        "id": "OacKjp25SXkj"
      },
      "source": [
        "### 3.5)- Dependant Feature"
      ]
    },
    {
      "cell_type": "code",
      "metadata": {
        "colab_type": "code",
        "id": "nObPSl8USbYP",
        "outputId": "31c384b9-0051-4050-eabf-7e1bc6bd2997",
        "colab": {
          "base_uri": "https://localhost:8080/",
          "height": 51
        }
      },
      "source": [
        "df_bol['ua_agent_class'].unique()"
      ],
      "execution_count": 34,
      "outputs": [
        {
          "output_type": "execute_result",
          "data": {
            "text/plain": [
              "array(['Robot', 'Browser', 'Robot Mobile', 'Browser Webview', 'Hacker',\n",
              "       'Special', 'Mobile App', 'Cloud Application'], dtype=object)"
            ]
          },
          "metadata": {
            "tags": []
          },
          "execution_count": 34
        }
      ]
    },
    {
      "cell_type": "code",
      "metadata": {
        "colab_type": "code",
        "id": "hIcTDkjhb_rQ",
        "outputId": "1bf5b6fb-6ac1-4484-d5a9-598f3629afe4",
        "colab": {
          "base_uri": "https://localhost:8080/",
          "height": 34
        }
      },
      "source": [
        "df_bol.shape"
      ],
      "execution_count": 35,
      "outputs": [
        {
          "output_type": "execute_result",
          "data": {
            "text/plain": [
              "(59782, 8)"
            ]
          },
          "metadata": {
            "tags": []
          },
          "execution_count": 35
        }
      ]
    },
    {
      "cell_type": "markdown",
      "metadata": {
        "colab_type": "text",
        "id": "tG5glY8ySjKC"
      },
      "source": [
        "I will choose to divide into only two categories according to our problem statement.Our categories are bot traffic coming  from search engines (NHT-search), other bot traffic (NHT-other) and human traffic (HT). \n",
        "\n",
        "- I will choose first a binary problem where we have only Non-human traffice and Human traffice.\n",
        "\n",
        "- Second case will be for three classes where traffic coming  from search engines (NHT-search), other bot traffic (NHT-other) and human traffic (HT) will be considered"
      ]
    },
    {
      "cell_type": "markdown",
      "metadata": {
        "colab_type": "text",
        "id": "86S8q9P6b7Pq"
      },
      "source": [
        "**I am not sure about what special is. So, I ll remove it from our category**"
      ]
    },
    {
      "cell_type": "code",
      "metadata": {
        "colab_type": "code",
        "id": "Uc7W7iGfb8no",
        "outputId": "1e06a478-48a2-4c39-8d69-497e7b98e263",
        "colab": {
          "base_uri": "https://localhost:8080/",
          "height": 34
        }
      },
      "source": [
        "df_bol = df_bol[~df_bol['ua_agent_class'].isin(['Special'])]\n",
        "df_bol.shape"
      ],
      "execution_count": 36,
      "outputs": [
        {
          "output_type": "execute_result",
          "data": {
            "text/plain": [
              "(59638, 8)"
            ]
          },
          "metadata": {
            "tags": []
          },
          "execution_count": 36
        }
      ]
    },
    {
      "cell_type": "code",
      "metadata": {
        "colab_type": "code",
        "id": "bC4cJhIMcYeb",
        "outputId": "6e6c1ead-c73e-4a73-82ac-6db4c89b7aaf",
        "colab": {
          "base_uri": "https://localhost:8080/",
          "height": 153
        }
      },
      "source": [
        "df_bol.ua_agent_class.value_counts()"
      ],
      "execution_count": 37,
      "outputs": [
        {
          "output_type": "execute_result",
          "data": {
            "text/plain": [
              "Browser              35509\n",
              "Robot                16026\n",
              "Robot Mobile          5115\n",
              "Browser Webview       1800\n",
              "Hacker                1177\n",
              "Mobile App               9\n",
              "Cloud Application        2\n",
              "Name: ua_agent_class, dtype: int64"
            ]
          },
          "metadata": {
            "tags": []
          },
          "execution_count": 37
        }
      ]
    },
    {
      "cell_type": "code",
      "metadata": {
        "colab_type": "code",
        "id": "rHTxaJ0wcsdx",
        "colab": {}
      },
      "source": [
        "df_bol['labels'] = df_bol.ua_agent_class.map({'Robot':'NHT', 'Robot Mobile':'NHT','Browser':'HT', 'Browser Webview':'HT','Hacker':'HT','Mobile App':'HT','Cloud Application':'HT'})"
      ],
      "execution_count": 0,
      "outputs": []
    },
    {
      "cell_type": "code",
      "metadata": {
        "colab_type": "code",
        "id": "JnTfm4zvdfra",
        "outputId": "3d79b2a0-bff3-444c-f16a-bd8a7b526fe2",
        "colab": {
          "base_uri": "https://localhost:8080/",
          "height": 68
        }
      },
      "source": [
        "df_bol.labels.value_counts()"
      ],
      "execution_count": 39,
      "outputs": [
        {
          "output_type": "execute_result",
          "data": {
            "text/plain": [
              "HT     38497\n",
              "NHT    21141\n",
              "Name: labels, dtype: int64"
            ]
          },
          "metadata": {
            "tags": []
          },
          "execution_count": 39
        }
      ]
    },
    {
      "cell_type": "code",
      "metadata": {
        "colab_type": "code",
        "id": "RZ9OYDNkeawO",
        "outputId": "2f50d014-07da-4d3d-ca7f-40b59ce9f6c8",
        "colab": {
          "base_uri": "https://localhost:8080/",
          "height": 393
        }
      },
      "source": [
        "df_bol.labels.value_counts().plot(kind='bar')"
      ],
      "execution_count": 40,
      "outputs": [
        {
          "output_type": "execute_result",
          "data": {
            "text/plain": [
              "<matplotlib.axes._subplots.AxesSubplot at 0x7f8079152208>"
            ]
          },
          "metadata": {
            "tags": []
          },
          "execution_count": 40
        },
        {
          "output_type": "display_data",
          "data": {
            "text/plain": [
              "<Figure size 432x288 with 1 Axes>"
            ],
            "image/svg+xml": "<?xml version=\"1.0\" encoding=\"utf-8\" standalone=\"no\"?>\n<!DOCTYPE svg PUBLIC \"-//W3C//DTD SVG 1.1//EN\"\n  \"http://www.w3.org/Graphics/SVG/1.1/DTD/svg11.dtd\">\n<!-- Created with matplotlib (https://matplotlib.org/) -->\n<svg height=\"266.470209pt\" version=\"1.1\" viewBox=\"0 0 393.69375 266.470209\" width=\"393.69375pt\" xmlns=\"http://www.w3.org/2000/svg\" xmlns:xlink=\"http://www.w3.org/1999/xlink\">\n <defs>\n  <style type=\"text/css\">\n*{stroke-linecap:butt;stroke-linejoin:round;}\n  </style>\n </defs>\n <g id=\"figure_1\">\n  <g id=\"patch_1\">\n   <path d=\"M 0 266.470209 \nL 393.69375 266.470209 \nL 393.69375 0 \nL 0 0 \nz\n\" style=\"fill:none;\"/>\n  </g>\n  <g id=\"axes_1\">\n   <g id=\"patch_2\">\n    <path d=\"M 51.69375 226.549896 \nL 386.49375 226.549896 \nL 386.49375 9.109896 \nL 51.69375 9.109896 \nz\n\" style=\"fill:#eaeaf2;\"/>\n   </g>\n   <g id=\"matplotlib.axis_1\">\n    <g id=\"xtick_1\">\n     <g id=\"line2d_1\">\n      <path clip-path=\"url(#p2ea78a8d92)\" d=\"M 135.39375 226.549896 \nL 135.39375 9.109896 \n\" style=\"fill:none;stroke:#ffffff;stroke-linecap:round;\"/>\n     </g>\n     <g id=\"text_1\">\n      <!-- HT -->\n      <defs>\n       <path d=\"M 9.8125 72.90625 \nL 19.671875 72.90625 \nL 19.671875 43.015625 \nL 55.515625 43.015625 \nL 55.515625 72.90625 \nL 65.375 72.90625 \nL 65.375 0 \nL 55.515625 0 \nL 55.515625 34.71875 \nL 19.671875 34.71875 \nL 19.671875 0 \nL 9.8125 0 \nz\n\" id=\"DejaVuSans-72\"/>\n       <path d=\"M -0.296875 72.90625 \nL 61.375 72.90625 \nL 61.375 64.59375 \nL 35.5 64.59375 \nL 35.5 0 \nL 25.59375 0 \nL 25.59375 64.59375 \nL -0.296875 64.59375 \nz\n\" id=\"DejaVuSans-84\"/>\n      </defs>\n      <g style=\"fill:#262626;\" transform=\"translate(138.429063 251.040834)rotate(-90)scale(0.11 -0.11)\">\n       <use xlink:href=\"#DejaVuSans-72\"/>\n       <use x=\"75.195312\" xlink:href=\"#DejaVuSans-84\"/>\n      </g>\n     </g>\n    </g>\n    <g id=\"xtick_2\">\n     <g id=\"line2d_2\">\n      <path clip-path=\"url(#p2ea78a8d92)\" d=\"M 302.79375 226.549896 \nL 302.79375 9.109896 \n\" style=\"fill:none;stroke:#ffffff;stroke-linecap:round;\"/>\n     </g>\n     <g id=\"text_2\">\n      <!-- NHT -->\n      <defs>\n       <path d=\"M 9.8125 72.90625 \nL 23.09375 72.90625 \nL 55.421875 11.921875 \nL 55.421875 72.90625 \nL 64.984375 72.90625 \nL 64.984375 0 \nL 51.703125 0 \nL 19.390625 60.984375 \nL 19.390625 0 \nL 9.8125 0 \nz\n\" id=\"DejaVuSans-78\"/>\n      </defs>\n      <g style=\"fill:#262626;\" transform=\"translate(305.829063 259.270209)rotate(-90)scale(0.11 -0.11)\">\n       <use xlink:href=\"#DejaVuSans-78\"/>\n       <use x=\"74.804688\" xlink:href=\"#DejaVuSans-72\"/>\n       <use x=\"150\" xlink:href=\"#DejaVuSans-84\"/>\n      </g>\n     </g>\n    </g>\n   </g>\n   <g id=\"matplotlib.axis_2\">\n    <g id=\"ytick_1\">\n     <g id=\"line2d_3\">\n      <path clip-path=\"url(#p2ea78a8d92)\" d=\"M 51.69375 226.549896 \nL 386.49375 226.549896 \n\" style=\"fill:none;stroke:#ffffff;stroke-linecap:round;\"/>\n     </g>\n     <g id=\"text_3\">\n      <!-- 0 -->\n      <defs>\n       <path d=\"M 31.78125 66.40625 \nQ 24.171875 66.40625 20.328125 58.90625 \nQ 16.5 51.421875 16.5 36.375 \nQ 16.5 21.390625 20.328125 13.890625 \nQ 24.171875 6.390625 31.78125 6.390625 \nQ 39.453125 6.390625 43.28125 13.890625 \nQ 47.125 21.390625 47.125 36.375 \nQ 47.125 51.421875 43.28125 58.90625 \nQ 39.453125 66.40625 31.78125 66.40625 \nz\nM 31.78125 74.21875 \nQ 44.046875 74.21875 50.515625 64.515625 \nQ 56.984375 54.828125 56.984375 36.375 \nQ 56.984375 17.96875 50.515625 8.265625 \nQ 44.046875 -1.421875 31.78125 -1.421875 \nQ 19.53125 -1.421875 13.0625 8.265625 \nQ 6.59375 17.96875 6.59375 36.375 \nQ 6.59375 54.828125 13.0625 64.515625 \nQ 19.53125 74.21875 31.78125 74.21875 \nz\n\" id=\"DejaVuSans-48\"/>\n      </defs>\n      <g style=\"fill:#262626;\" transform=\"translate(35.195 230.729037)scale(0.11 -0.11)\">\n       <use xlink:href=\"#DejaVuSans-48\"/>\n      </g>\n     </g>\n    </g>\n    <g id=\"ytick_2\">\n     <g id=\"line2d_4\">\n      <path clip-path=\"url(#p2ea78a8d92)\" d=\"M 51.69375 199.653552 \nL 386.49375 199.653552 \n\" style=\"fill:none;stroke:#ffffff;stroke-linecap:round;\"/>\n     </g>\n     <g id=\"text_4\">\n      <!-- 5000 -->\n      <defs>\n       <path d=\"M 10.796875 72.90625 \nL 49.515625 72.90625 \nL 49.515625 64.59375 \nL 19.828125 64.59375 \nL 19.828125 46.734375 \nQ 21.96875 47.46875 24.109375 47.828125 \nQ 26.265625 48.1875 28.421875 48.1875 \nQ 40.625 48.1875 47.75 41.5 \nQ 54.890625 34.8125 54.890625 23.390625 \nQ 54.890625 11.625 47.5625 5.09375 \nQ 40.234375 -1.421875 26.90625 -1.421875 \nQ 22.3125 -1.421875 17.546875 -0.640625 \nQ 12.796875 0.140625 7.71875 1.703125 \nL 7.71875 11.625 \nQ 12.109375 9.234375 16.796875 8.0625 \nQ 21.484375 6.890625 26.703125 6.890625 \nQ 35.15625 6.890625 40.078125 11.328125 \nQ 45.015625 15.765625 45.015625 23.390625 \nQ 45.015625 31 40.078125 35.4375 \nQ 35.15625 39.890625 26.703125 39.890625 \nQ 22.75 39.890625 18.8125 39.015625 \nQ 14.890625 38.140625 10.796875 36.28125 \nz\n\" id=\"DejaVuSans-53\"/>\n      </defs>\n      <g style=\"fill:#262626;\" transform=\"translate(14.19875 203.832692)scale(0.11 -0.11)\">\n       <use xlink:href=\"#DejaVuSans-53\"/>\n       <use x=\"63.623047\" xlink:href=\"#DejaVuSans-48\"/>\n       <use x=\"127.246094\" xlink:href=\"#DejaVuSans-48\"/>\n       <use x=\"190.869141\" xlink:href=\"#DejaVuSans-48\"/>\n      </g>\n     </g>\n    </g>\n    <g id=\"ytick_3\">\n     <g id=\"line2d_5\">\n      <path clip-path=\"url(#p2ea78a8d92)\" d=\"M 51.69375 172.757207 \nL 386.49375 172.757207 \n\" style=\"fill:none;stroke:#ffffff;stroke-linecap:round;\"/>\n     </g>\n     <g id=\"text_5\">\n      <!-- 10000 -->\n      <defs>\n       <path d=\"M 12.40625 8.296875 \nL 28.515625 8.296875 \nL 28.515625 63.921875 \nL 10.984375 60.40625 \nL 10.984375 69.390625 \nL 28.421875 72.90625 \nL 38.28125 72.90625 \nL 38.28125 8.296875 \nL 54.390625 8.296875 \nL 54.390625 0 \nL 12.40625 0 \nz\n\" id=\"DejaVuSans-49\"/>\n      </defs>\n      <g style=\"fill:#262626;\" transform=\"translate(7.2 176.936348)scale(0.11 -0.11)\">\n       <use xlink:href=\"#DejaVuSans-49\"/>\n       <use x=\"63.623047\" xlink:href=\"#DejaVuSans-48\"/>\n       <use x=\"127.246094\" xlink:href=\"#DejaVuSans-48\"/>\n       <use x=\"190.869141\" xlink:href=\"#DejaVuSans-48\"/>\n       <use x=\"254.492188\" xlink:href=\"#DejaVuSans-48\"/>\n      </g>\n     </g>\n    </g>\n    <g id=\"ytick_4\">\n     <g id=\"line2d_6\">\n      <path clip-path=\"url(#p2ea78a8d92)\" d=\"M 51.69375 145.860863 \nL 386.49375 145.860863 \n\" style=\"fill:none;stroke:#ffffff;stroke-linecap:round;\"/>\n     </g>\n     <g id=\"text_6\">\n      <!-- 15000 -->\n      <g style=\"fill:#262626;\" transform=\"translate(7.2 150.040003)scale(0.11 -0.11)\">\n       <use xlink:href=\"#DejaVuSans-49\"/>\n       <use x=\"63.623047\" xlink:href=\"#DejaVuSans-53\"/>\n       <use x=\"127.246094\" xlink:href=\"#DejaVuSans-48\"/>\n       <use x=\"190.869141\" xlink:href=\"#DejaVuSans-48\"/>\n       <use x=\"254.492188\" xlink:href=\"#DejaVuSans-48\"/>\n      </g>\n     </g>\n    </g>\n    <g id=\"ytick_5\">\n     <g id=\"line2d_7\">\n      <path clip-path=\"url(#p2ea78a8d92)\" d=\"M 51.69375 118.964518 \nL 386.49375 118.964518 \n\" style=\"fill:none;stroke:#ffffff;stroke-linecap:round;\"/>\n     </g>\n     <g id=\"text_7\">\n      <!-- 20000 -->\n      <defs>\n       <path d=\"M 19.1875 8.296875 \nL 53.609375 8.296875 \nL 53.609375 0 \nL 7.328125 0 \nL 7.328125 8.296875 \nQ 12.9375 14.109375 22.625 23.890625 \nQ 32.328125 33.6875 34.8125 36.53125 \nQ 39.546875 41.84375 41.421875 45.53125 \nQ 43.3125 49.21875 43.3125 52.78125 \nQ 43.3125 58.59375 39.234375 62.25 \nQ 35.15625 65.921875 28.609375 65.921875 \nQ 23.96875 65.921875 18.8125 64.3125 \nQ 13.671875 62.703125 7.8125 59.421875 \nL 7.8125 69.390625 \nQ 13.765625 71.78125 18.9375 73 \nQ 24.125 74.21875 28.421875 74.21875 \nQ 39.75 74.21875 46.484375 68.546875 \nQ 53.21875 62.890625 53.21875 53.421875 \nQ 53.21875 48.921875 51.53125 44.890625 \nQ 49.859375 40.875 45.40625 35.40625 \nQ 44.1875 33.984375 37.640625 27.21875 \nQ 31.109375 20.453125 19.1875 8.296875 \nz\n\" id=\"DejaVuSans-50\"/>\n      </defs>\n      <g style=\"fill:#262626;\" transform=\"translate(7.2 123.143659)scale(0.11 -0.11)\">\n       <use xlink:href=\"#DejaVuSans-50\"/>\n       <use x=\"63.623047\" xlink:href=\"#DejaVuSans-48\"/>\n       <use x=\"127.246094\" xlink:href=\"#DejaVuSans-48\"/>\n       <use x=\"190.869141\" xlink:href=\"#DejaVuSans-48\"/>\n       <use x=\"254.492188\" xlink:href=\"#DejaVuSans-48\"/>\n      </g>\n     </g>\n    </g>\n    <g id=\"ytick_6\">\n     <g id=\"line2d_8\">\n      <path clip-path=\"url(#p2ea78a8d92)\" d=\"M 51.69375 92.068174 \nL 386.49375 92.068174 \n\" style=\"fill:none;stroke:#ffffff;stroke-linecap:round;\"/>\n     </g>\n     <g id=\"text_8\">\n      <!-- 25000 -->\n      <g style=\"fill:#262626;\" transform=\"translate(7.2 96.247315)scale(0.11 -0.11)\">\n       <use xlink:href=\"#DejaVuSans-50\"/>\n       <use x=\"63.623047\" xlink:href=\"#DejaVuSans-53\"/>\n       <use x=\"127.246094\" xlink:href=\"#DejaVuSans-48\"/>\n       <use x=\"190.869141\" xlink:href=\"#DejaVuSans-48\"/>\n       <use x=\"254.492188\" xlink:href=\"#DejaVuSans-48\"/>\n      </g>\n     </g>\n    </g>\n    <g id=\"ytick_7\">\n     <g id=\"line2d_9\">\n      <path clip-path=\"url(#p2ea78a8d92)\" d=\"M 51.69375 65.171829 \nL 386.49375 65.171829 \n\" style=\"fill:none;stroke:#ffffff;stroke-linecap:round;\"/>\n     </g>\n     <g id=\"text_9\">\n      <!-- 30000 -->\n      <defs>\n       <path d=\"M 40.578125 39.3125 \nQ 47.65625 37.796875 51.625 33 \nQ 55.609375 28.21875 55.609375 21.1875 \nQ 55.609375 10.40625 48.1875 4.484375 \nQ 40.765625 -1.421875 27.09375 -1.421875 \nQ 22.515625 -1.421875 17.65625 -0.515625 \nQ 12.796875 0.390625 7.625 2.203125 \nL 7.625 11.71875 \nQ 11.71875 9.328125 16.59375 8.109375 \nQ 21.484375 6.890625 26.8125 6.890625 \nQ 36.078125 6.890625 40.9375 10.546875 \nQ 45.796875 14.203125 45.796875 21.1875 \nQ 45.796875 27.640625 41.28125 31.265625 \nQ 36.765625 34.90625 28.71875 34.90625 \nL 20.21875 34.90625 \nL 20.21875 43.015625 \nL 29.109375 43.015625 \nQ 36.375 43.015625 40.234375 45.921875 \nQ 44.09375 48.828125 44.09375 54.296875 \nQ 44.09375 59.90625 40.109375 62.90625 \nQ 36.140625 65.921875 28.71875 65.921875 \nQ 24.65625 65.921875 20.015625 65.03125 \nQ 15.375 64.15625 9.8125 62.3125 \nL 9.8125 71.09375 \nQ 15.4375 72.65625 20.34375 73.4375 \nQ 25.25 74.21875 29.59375 74.21875 \nQ 40.828125 74.21875 47.359375 69.109375 \nQ 53.90625 64.015625 53.90625 55.328125 \nQ 53.90625 49.265625 50.4375 45.09375 \nQ 46.96875 40.921875 40.578125 39.3125 \nz\n\" id=\"DejaVuSans-51\"/>\n      </defs>\n      <g style=\"fill:#262626;\" transform=\"translate(7.2 69.35097)scale(0.11 -0.11)\">\n       <use xlink:href=\"#DejaVuSans-51\"/>\n       <use x=\"63.623047\" xlink:href=\"#DejaVuSans-48\"/>\n       <use x=\"127.246094\" xlink:href=\"#DejaVuSans-48\"/>\n       <use x=\"190.869141\" xlink:href=\"#DejaVuSans-48\"/>\n       <use x=\"254.492188\" xlink:href=\"#DejaVuSans-48\"/>\n      </g>\n     </g>\n    </g>\n    <g id=\"ytick_8\">\n     <g id=\"line2d_10\">\n      <path clip-path=\"url(#p2ea78a8d92)\" d=\"M 51.69375 38.275485 \nL 386.49375 38.275485 \n\" style=\"fill:none;stroke:#ffffff;stroke-linecap:round;\"/>\n     </g>\n     <g id=\"text_10\">\n      <!-- 35000 -->\n      <g style=\"fill:#262626;\" transform=\"translate(7.2 42.454626)scale(0.11 -0.11)\">\n       <use xlink:href=\"#DejaVuSans-51\"/>\n       <use x=\"63.623047\" xlink:href=\"#DejaVuSans-53\"/>\n       <use x=\"127.246094\" xlink:href=\"#DejaVuSans-48\"/>\n       <use x=\"190.869141\" xlink:href=\"#DejaVuSans-48\"/>\n       <use x=\"254.492188\" xlink:href=\"#DejaVuSans-48\"/>\n      </g>\n     </g>\n    </g>\n    <g id=\"ytick_9\">\n     <g id=\"line2d_11\">\n      <path clip-path=\"url(#p2ea78a8d92)\" d=\"M 51.69375 11.379141 \nL 386.49375 11.379141 \n\" style=\"fill:none;stroke:#ffffff;stroke-linecap:round;\"/>\n     </g>\n     <g id=\"text_11\">\n      <!-- 40000 -->\n      <defs>\n       <path d=\"M 37.796875 64.3125 \nL 12.890625 25.390625 \nL 37.796875 25.390625 \nz\nM 35.203125 72.90625 \nL 47.609375 72.90625 \nL 47.609375 25.390625 \nL 58.015625 25.390625 \nL 58.015625 17.1875 \nL 47.609375 17.1875 \nL 47.609375 0 \nL 37.796875 0 \nL 37.796875 17.1875 \nL 4.890625 17.1875 \nL 4.890625 26.703125 \nz\n\" id=\"DejaVuSans-52\"/>\n      </defs>\n      <g style=\"fill:#262626;\" transform=\"translate(7.2 15.558281)scale(0.11 -0.11)\">\n       <use xlink:href=\"#DejaVuSans-52\"/>\n       <use x=\"63.623047\" xlink:href=\"#DejaVuSans-48\"/>\n       <use x=\"127.246094\" xlink:href=\"#DejaVuSans-48\"/>\n       <use x=\"190.869141\" xlink:href=\"#DejaVuSans-48\"/>\n       <use x=\"254.492188\" xlink:href=\"#DejaVuSans-48\"/>\n      </g>\n     </g>\n    </g>\n   </g>\n   <g id=\"patch_3\">\n    <path clip-path=\"url(#p2ea78a8d92)\" d=\"M 93.54375 226.549896 \nL 177.24375 226.549896 \nL 177.24375 19.464182 \nL 93.54375 19.464182 \nz\n\" style=\"fill:#4c72b0;stroke:#ffffff;stroke-linejoin:miter;\"/>\n   </g>\n   <g id=\"patch_4\">\n    <path clip-path=\"url(#p2ea78a8d92)\" d=\"M 260.94375 226.549896 \nL 344.64375 226.549896 \nL 344.64375 112.826773 \nL 260.94375 112.826773 \nz\n\" style=\"fill:#4c72b0;stroke:#ffffff;stroke-linejoin:miter;\"/>\n   </g>\n   <g id=\"patch_5\">\n    <path d=\"M 51.69375 226.549896 \nL 51.69375 9.109896 \n\" style=\"fill:none;stroke:#ffffff;stroke-linecap:square;stroke-linejoin:miter;stroke-width:1.25;\"/>\n   </g>\n   <g id=\"patch_6\">\n    <path d=\"M 386.49375 226.549896 \nL 386.49375 9.109896 \n\" style=\"fill:none;stroke:#ffffff;stroke-linecap:square;stroke-linejoin:miter;stroke-width:1.25;\"/>\n   </g>\n   <g id=\"patch_7\">\n    <path d=\"M 51.69375 226.549896 \nL 386.49375 226.549896 \n\" style=\"fill:none;stroke:#ffffff;stroke-linecap:square;stroke-linejoin:miter;stroke-width:1.25;\"/>\n   </g>\n   <g id=\"patch_8\">\n    <path d=\"M 51.69375 9.109896 \nL 386.49375 9.109896 \n\" style=\"fill:none;stroke:#ffffff;stroke-linecap:square;stroke-linejoin:miter;stroke-width:1.25;\"/>\n   </g>\n  </g>\n </g>\n <defs>\n  <clipPath id=\"p2ea78a8d92\">\n   <rect height=\"217.44\" width=\"334.8\" x=\"51.69375\" y=\"9.109896\"/>\n  </clipPath>\n </defs>\n</svg>\n"
          },
          "metadata": {
            "tags": []
          }
        }
      ]
    },
    {
      "cell_type": "markdown",
      "metadata": {
        "id": "zUff75B-exxb",
        "colab_type": "text"
      },
      "source": [
        "### 3.6)-Checking relation with only one numerical variable\n",
        "\n",
        "- epoch_ms: epoch in milliseconds"
      ]
    },
    {
      "cell_type": "code",
      "metadata": {
        "id": "85toRhyMf050",
        "colab_type": "code",
        "outputId": "84bd44de-21b3-43a0-f52a-f84adc9a1f43",
        "colab": {
          "base_uri": "https://localhost:8080/",
          "height": 297
        }
      },
      "source": [
        "df_bol.describe()"
      ],
      "execution_count": 41,
      "outputs": [
        {
          "output_type": "execute_result",
          "data": {
            "text/html": [
              "<div>\n",
              "<style scoped>\n",
              "    .dataframe tbody tr th:only-of-type {\n",
              "        vertical-align: middle;\n",
              "    }\n",
              "\n",
              "    .dataframe tbody tr th {\n",
              "        vertical-align: top;\n",
              "    }\n",
              "\n",
              "    .dataframe thead th {\n",
              "        text-align: right;\n",
              "    }\n",
              "</style>\n",
              "<table border=\"1\" class=\"dataframe\">\n",
              "  <thead>\n",
              "    <tr style=\"text-align: right;\">\n",
              "      <th></th>\n",
              "      <th>epoch_ms</th>\n",
              "    </tr>\n",
              "  </thead>\n",
              "  <tbody>\n",
              "    <tr>\n",
              "      <th>count</th>\n",
              "      <td>5.963800e+04</td>\n",
              "    </tr>\n",
              "    <tr>\n",
              "      <th>mean</th>\n",
              "      <td>1.520283e+12</td>\n",
              "    </tr>\n",
              "    <tr>\n",
              "      <th>std</th>\n",
              "      <td>2.003379e+06</td>\n",
              "    </tr>\n",
              "    <tr>\n",
              "      <th>min</th>\n",
              "      <td>1.520280e+12</td>\n",
              "    </tr>\n",
              "    <tr>\n",
              "      <th>25%</th>\n",
              "      <td>1.520281e+12</td>\n",
              "    </tr>\n",
              "    <tr>\n",
              "      <th>50%</th>\n",
              "      <td>1.520283e+12</td>\n",
              "    </tr>\n",
              "    <tr>\n",
              "      <th>75%</th>\n",
              "      <td>1.520285e+12</td>\n",
              "    </tr>\n",
              "    <tr>\n",
              "      <th>max</th>\n",
              "      <td>1.520287e+12</td>\n",
              "    </tr>\n",
              "  </tbody>\n",
              "</table>\n",
              "</div>"
            ],
            "text/plain": [
              "           epoch_ms\n",
              "count  5.963800e+04\n",
              "mean   1.520283e+12\n",
              "std    2.003379e+06\n",
              "min    1.520280e+12\n",
              "25%    1.520281e+12\n",
              "50%    1.520283e+12\n",
              "75%    1.520285e+12\n",
              "max    1.520287e+12"
            ]
          },
          "metadata": {
            "tags": []
          },
          "execution_count": 41
        }
      ]
    },
    {
      "cell_type": "code",
      "metadata": {
        "id": "Y-IoFsl9exGW",
        "colab_type": "code",
        "outputId": "d6f6eb24-eb5e-4ebb-8f80-7dc319f017ab",
        "colab": {
          "base_uri": "https://localhost:8080/",
          "height": 410
        }
      },
      "source": [
        "sns.boxenplot(x='labels',y='epoch_ms', data=df_bol)"
      ],
      "execution_count": 42,
      "outputs": [
        {
          "output_type": "execute_result",
          "data": {
            "text/plain": [
              "<matplotlib.axes._subplots.AxesSubplot at 0x7f80790bcdd8>"
            ]
          },
          "metadata": {
            "tags": []
          },
          "execution_count": 42
        },
        {
          "output_type": "display_data",
          "data": {
            "text/plain": [
              "<Figure size 432x288 with 1 Axes>"
            ],
            "image/svg+xml": "<?xml version=\"1.0\" encoding=\"utf-8\" standalone=\"no\"?>\n<!DOCTYPE svg PUBLIC \"-//W3C//DTD SVG 1.1//EN\"\n  \"http://www.w3.org/Graphics/SVG/1.1/DTD/svg11.dtd\">\n<!-- Created with matplotlib (https://matplotlib.org/) -->\n<svg height=\"278.957969pt\" version=\"1.1\" viewBox=\"0 0 406.138437 278.957969\" width=\"406.138437pt\" xmlns=\"http://www.w3.org/2000/svg\" xmlns:xlink=\"http://www.w3.org/1999/xlink\">\n <defs>\n  <style type=\"text/css\">\n*{stroke-linecap:butt;stroke-linejoin:round;}\n  </style>\n </defs>\n <g id=\"figure_1\">\n  <g id=\"patch_1\">\n   <path d=\"M 0 278.957969 \nL 406.138437 278.957969 \nL 406.138437 0 \nL 0 0 \nz\n\" style=\"fill:none;\"/>\n  </g>\n  <g id=\"axes_1\">\n   <g id=\"patch_2\">\n    <path d=\"M 64.138438 235.998281 \nL 398.938438 235.998281 \nL 398.938438 18.558281 \nL 64.138438 18.558281 \nz\n\" style=\"fill:#eaeaf2;\"/>\n   </g>\n   <g id=\"matplotlib.axis_1\">\n    <g id=\"xtick_1\">\n     <g id=\"text_1\">\n      <!-- NHT -->\n      <defs>\n       <path d=\"M 9.8125 72.90625 \nL 23.09375 72.90625 \nL 55.421875 11.921875 \nL 55.421875 72.90625 \nL 64.984375 72.90625 \nL 64.984375 0 \nL 51.703125 0 \nL 19.390625 60.984375 \nL 19.390625 0 \nL 9.8125 0 \nz\n\" id=\"DejaVuSans-78\"/>\n       <path d=\"M 9.8125 72.90625 \nL 19.671875 72.90625 \nL 19.671875 43.015625 \nL 55.515625 43.015625 \nL 55.515625 72.90625 \nL 65.375 72.90625 \nL 65.375 0 \nL 55.515625 0 \nL 55.515625 34.71875 \nL 19.671875 34.71875 \nL 19.671875 0 \nL 9.8125 0 \nz\n\" id=\"DejaVuSans-72\"/>\n       <path d=\"M -0.296875 72.90625 \nL 61.375 72.90625 \nL 61.375 64.59375 \nL 35.5 64.59375 \nL 35.5 0 \nL 25.59375 0 \nL 25.59375 64.59375 \nL -0.296875 64.59375 \nz\n\" id=\"DejaVuSans-84\"/>\n      </defs>\n      <g style=\"fill:#262626;\" transform=\"translate(136.228281 253.856563)scale(0.11 -0.11)\">\n       <use xlink:href=\"#DejaVuSans-78\"/>\n       <use x=\"74.804688\" xlink:href=\"#DejaVuSans-72\"/>\n       <use x=\"150\" xlink:href=\"#DejaVuSans-84\"/>\n      </g>\n     </g>\n    </g>\n    <g id=\"xtick_2\">\n     <g id=\"text_2\">\n      <!-- HT -->\n      <g style=\"fill:#262626;\" transform=\"translate(307.742969 253.856563)scale(0.11 -0.11)\">\n       <use xlink:href=\"#DejaVuSans-72\"/>\n       <use x=\"75.195312\" xlink:href=\"#DejaVuSans-84\"/>\n      </g>\n     </g>\n    </g>\n    <g id=\"text_3\">\n     <!-- labels -->\n     <defs>\n      <path d=\"M 9.421875 75.984375 \nL 18.40625 75.984375 \nL 18.40625 0 \nL 9.421875 0 \nz\n\" id=\"DejaVuSans-108\"/>\n      <path d=\"M 34.28125 27.484375 \nQ 23.390625 27.484375 19.1875 25 \nQ 14.984375 22.515625 14.984375 16.5 \nQ 14.984375 11.71875 18.140625 8.90625 \nQ 21.296875 6.109375 26.703125 6.109375 \nQ 34.1875 6.109375 38.703125 11.40625 \nQ 43.21875 16.703125 43.21875 25.484375 \nL 43.21875 27.484375 \nz\nM 52.203125 31.203125 \nL 52.203125 0 \nL 43.21875 0 \nL 43.21875 8.296875 \nQ 40.140625 3.328125 35.546875 0.953125 \nQ 30.953125 -1.421875 24.3125 -1.421875 \nQ 15.921875 -1.421875 10.953125 3.296875 \nQ 6 8.015625 6 15.921875 \nQ 6 25.140625 12.171875 29.828125 \nQ 18.359375 34.515625 30.609375 34.515625 \nL 43.21875 34.515625 \nL 43.21875 35.40625 \nQ 43.21875 41.609375 39.140625 45 \nQ 35.0625 48.390625 27.6875 48.390625 \nQ 23 48.390625 18.546875 47.265625 \nQ 14.109375 46.140625 10.015625 43.890625 \nL 10.015625 52.203125 \nQ 14.9375 54.109375 19.578125 55.046875 \nQ 24.21875 56 28.609375 56 \nQ 40.484375 56 46.34375 49.84375 \nQ 52.203125 43.703125 52.203125 31.203125 \nz\n\" id=\"DejaVuSans-97\"/>\n      <path d=\"M 48.6875 27.296875 \nQ 48.6875 37.203125 44.609375 42.84375 \nQ 40.53125 48.484375 33.40625 48.484375 \nQ 26.265625 48.484375 22.1875 42.84375 \nQ 18.109375 37.203125 18.109375 27.296875 \nQ 18.109375 17.390625 22.1875 11.75 \nQ 26.265625 6.109375 33.40625 6.109375 \nQ 40.53125 6.109375 44.609375 11.75 \nQ 48.6875 17.390625 48.6875 27.296875 \nz\nM 18.109375 46.390625 \nQ 20.953125 51.265625 25.265625 53.625 \nQ 29.59375 56 35.59375 56 \nQ 45.5625 56 51.78125 48.09375 \nQ 58.015625 40.1875 58.015625 27.296875 \nQ 58.015625 14.40625 51.78125 6.484375 \nQ 45.5625 -1.421875 35.59375 -1.421875 \nQ 29.59375 -1.421875 25.265625 0.953125 \nQ 20.953125 3.328125 18.109375 8.203125 \nL 18.109375 0 \nL 9.078125 0 \nL 9.078125 75.984375 \nL 18.109375 75.984375 \nz\n\" id=\"DejaVuSans-98\"/>\n      <path d=\"M 56.203125 29.59375 \nL 56.203125 25.203125 \nL 14.890625 25.203125 \nQ 15.484375 15.921875 20.484375 11.0625 \nQ 25.484375 6.203125 34.421875 6.203125 \nQ 39.59375 6.203125 44.453125 7.46875 \nQ 49.3125 8.734375 54.109375 11.28125 \nL 54.109375 2.78125 \nQ 49.265625 0.734375 44.1875 -0.34375 \nQ 39.109375 -1.421875 33.890625 -1.421875 \nQ 20.796875 -1.421875 13.15625 6.1875 \nQ 5.515625 13.8125 5.515625 26.8125 \nQ 5.515625 40.234375 12.765625 48.109375 \nQ 20.015625 56 32.328125 56 \nQ 43.359375 56 49.78125 48.890625 \nQ 56.203125 41.796875 56.203125 29.59375 \nz\nM 47.21875 32.234375 \nQ 47.125 39.59375 43.09375 43.984375 \nQ 39.0625 48.390625 32.421875 48.390625 \nQ 24.90625 48.390625 20.390625 44.140625 \nQ 15.875 39.890625 15.1875 32.171875 \nz\n\" id=\"DejaVuSans-101\"/>\n      <path d=\"M 44.28125 53.078125 \nL 44.28125 44.578125 \nQ 40.484375 46.53125 36.375 47.5 \nQ 32.28125 48.484375 27.875 48.484375 \nQ 21.1875 48.484375 17.84375 46.4375 \nQ 14.5 44.390625 14.5 40.28125 \nQ 14.5 37.15625 16.890625 35.375 \nQ 19.28125 33.59375 26.515625 31.984375 \nL 29.59375 31.296875 \nQ 39.15625 29.25 43.1875 25.515625 \nQ 47.21875 21.78125 47.21875 15.09375 \nQ 47.21875 7.46875 41.1875 3.015625 \nQ 35.15625 -1.421875 24.609375 -1.421875 \nQ 20.21875 -1.421875 15.453125 -0.5625 \nQ 10.6875 0.296875 5.421875 2 \nL 5.421875 11.28125 \nQ 10.40625 8.6875 15.234375 7.390625 \nQ 20.0625 6.109375 24.8125 6.109375 \nQ 31.15625 6.109375 34.5625 8.28125 \nQ 37.984375 10.453125 37.984375 14.40625 \nQ 37.984375 18.0625 35.515625 20.015625 \nQ 33.0625 21.96875 24.703125 23.78125 \nL 21.578125 24.515625 \nQ 13.234375 26.265625 9.515625 29.90625 \nQ 5.8125 33.546875 5.8125 39.890625 \nQ 5.8125 47.609375 11.28125 51.796875 \nQ 16.75 56 26.8125 56 \nQ 31.78125 56 36.171875 55.265625 \nQ 40.578125 54.546875 44.28125 53.078125 \nz\n\" id=\"DejaVuSans-115\"/>\n     </defs>\n     <g style=\"fill:#262626;\" transform=\"translate(213.90125 269.262344)scale(0.12 -0.12)\">\n      <use xlink:href=\"#DejaVuSans-108\"/>\n      <use x=\"27.783203\" xlink:href=\"#DejaVuSans-97\"/>\n      <use x=\"89.0625\" xlink:href=\"#DejaVuSans-98\"/>\n      <use x=\"152.539062\" xlink:href=\"#DejaVuSans-101\"/>\n      <use x=\"214.0625\" xlink:href=\"#DejaVuSans-108\"/>\n      <use x=\"241.845703\" xlink:href=\"#DejaVuSans-115\"/>\n     </g>\n    </g>\n   </g>\n   <g id=\"matplotlib.axis_2\">\n    <g id=\"ytick_1\">\n     <g id=\"line2d_1\">\n      <path clip-path=\"url(#pcdd58bd75e)\" d=\"M 64.138438 226.62973 \nL 398.938438 226.62973 \n\" style=\"fill:none;stroke:#ffffff;stroke-linecap:round;\"/>\n     </g>\n     <g id=\"text_4\">\n      <!-- 1.517 -->\n      <defs>\n       <path d=\"M 12.40625 8.296875 \nL 28.515625 8.296875 \nL 28.515625 63.921875 \nL 10.984375 60.40625 \nL 10.984375 69.390625 \nL 28.421875 72.90625 \nL 38.28125 72.90625 \nL 38.28125 8.296875 \nL 54.390625 8.296875 \nL 54.390625 0 \nL 12.40625 0 \nz\n\" id=\"DejaVuSans-49\"/>\n       <path d=\"M 10.6875 12.40625 \nL 21 12.40625 \nL 21 0 \nL 10.6875 0 \nz\n\" id=\"DejaVuSans-46\"/>\n       <path d=\"M 10.796875 72.90625 \nL 49.515625 72.90625 \nL 49.515625 64.59375 \nL 19.828125 64.59375 \nL 19.828125 46.734375 \nQ 21.96875 47.46875 24.109375 47.828125 \nQ 26.265625 48.1875 28.421875 48.1875 \nQ 40.625 48.1875 47.75 41.5 \nQ 54.890625 34.8125 54.890625 23.390625 \nQ 54.890625 11.625 47.5625 5.09375 \nQ 40.234375 -1.421875 26.90625 -1.421875 \nQ 22.3125 -1.421875 17.546875 -0.640625 \nQ 12.796875 0.140625 7.71875 1.703125 \nL 7.71875 11.625 \nQ 12.109375 9.234375 16.796875 8.0625 \nQ 21.484375 6.890625 26.703125 6.890625 \nQ 35.15625 6.890625 40.078125 11.328125 \nQ 45.015625 15.765625 45.015625 23.390625 \nQ 45.015625 31 40.078125 35.4375 \nQ 35.15625 39.890625 26.703125 39.890625 \nQ 22.75 39.890625 18.8125 39.015625 \nQ 14.890625 38.140625 10.796875 36.28125 \nz\n\" id=\"DejaVuSans-53\"/>\n       <path d=\"M 8.203125 72.90625 \nL 55.078125 72.90625 \nL 55.078125 68.703125 \nL 28.609375 0 \nL 18.3125 0 \nL 43.21875 64.59375 \nL 8.203125 64.59375 \nz\n\" id=\"DejaVuSans-55\"/>\n      </defs>\n      <g style=\"fill:#262626;\" transform=\"translate(23.1475 230.808871)scale(0.11 -0.11)\">\n       <use xlink:href=\"#DejaVuSans-49\"/>\n       <use x=\"63.623047\" xlink:href=\"#DejaVuSans-46\"/>\n       <use x=\"95.410156\" xlink:href=\"#DejaVuSans-53\"/>\n       <use x=\"159.033203\" xlink:href=\"#DejaVuSans-49\"/>\n       <use x=\"222.65625\" xlink:href=\"#DejaVuSans-55\"/>\n      </g>\n     </g>\n    </g>\n    <g id=\"ytick_2\">\n     <g id=\"line2d_2\">\n      <path clip-path=\"url(#pcdd58bd75e)\" d=\"M 64.138438 196.372865 \nL 398.938438 196.372865 \n\" style=\"fill:none;stroke:#ffffff;stroke-linecap:round;\"/>\n     </g>\n     <g id=\"text_5\">\n      <!-- 1.518 -->\n      <defs>\n       <path d=\"M 31.78125 34.625 \nQ 24.75 34.625 20.71875 30.859375 \nQ 16.703125 27.09375 16.703125 20.515625 \nQ 16.703125 13.921875 20.71875 10.15625 \nQ 24.75 6.390625 31.78125 6.390625 \nQ 38.8125 6.390625 42.859375 10.171875 \nQ 46.921875 13.96875 46.921875 20.515625 \nQ 46.921875 27.09375 42.890625 30.859375 \nQ 38.875 34.625 31.78125 34.625 \nz\nM 21.921875 38.8125 \nQ 15.578125 40.375 12.03125 44.71875 \nQ 8.5 49.078125 8.5 55.328125 \nQ 8.5 64.0625 14.71875 69.140625 \nQ 20.953125 74.21875 31.78125 74.21875 \nQ 42.671875 74.21875 48.875 69.140625 \nQ 55.078125 64.0625 55.078125 55.328125 \nQ 55.078125 49.078125 51.53125 44.71875 \nQ 48 40.375 41.703125 38.8125 \nQ 48.828125 37.15625 52.796875 32.3125 \nQ 56.78125 27.484375 56.78125 20.515625 \nQ 56.78125 9.90625 50.3125 4.234375 \nQ 43.84375 -1.421875 31.78125 -1.421875 \nQ 19.734375 -1.421875 13.25 4.234375 \nQ 6.78125 9.90625 6.78125 20.515625 \nQ 6.78125 27.484375 10.78125 32.3125 \nQ 14.796875 37.15625 21.921875 38.8125 \nz\nM 18.3125 54.390625 \nQ 18.3125 48.734375 21.84375 45.5625 \nQ 25.390625 42.390625 31.78125 42.390625 \nQ 38.140625 42.390625 41.71875 45.5625 \nQ 45.3125 48.734375 45.3125 54.390625 \nQ 45.3125 60.0625 41.71875 63.234375 \nQ 38.140625 66.40625 31.78125 66.40625 \nQ 25.390625 66.40625 21.84375 63.234375 \nQ 18.3125 60.0625 18.3125 54.390625 \nz\n\" id=\"DejaVuSans-56\"/>\n      </defs>\n      <g style=\"fill:#262626;\" transform=\"translate(23.1475 200.552005)scale(0.11 -0.11)\">\n       <use xlink:href=\"#DejaVuSans-49\"/>\n       <use x=\"63.623047\" xlink:href=\"#DejaVuSans-46\"/>\n       <use x=\"95.410156\" xlink:href=\"#DejaVuSans-53\"/>\n       <use x=\"159.033203\" xlink:href=\"#DejaVuSans-49\"/>\n       <use x=\"222.65625\" xlink:href=\"#DejaVuSans-56\"/>\n      </g>\n     </g>\n    </g>\n    <g id=\"ytick_3\">\n     <g id=\"line2d_3\">\n      <path clip-path=\"url(#pcdd58bd75e)\" d=\"M 64.138438 166.115999 \nL 398.938438 166.115999 \n\" style=\"fill:none;stroke:#ffffff;stroke-linecap:round;\"/>\n     </g>\n     <g id=\"text_6\">\n      <!-- 1.519 -->\n      <defs>\n       <path d=\"M 10.984375 1.515625 \nL 10.984375 10.5 \nQ 14.703125 8.734375 18.5 7.8125 \nQ 22.3125 6.890625 25.984375 6.890625 \nQ 35.75 6.890625 40.890625 13.453125 \nQ 46.046875 20.015625 46.78125 33.40625 \nQ 43.953125 29.203125 39.59375 26.953125 \nQ 35.25 24.703125 29.984375 24.703125 \nQ 19.046875 24.703125 12.671875 31.3125 \nQ 6.296875 37.9375 6.296875 49.421875 \nQ 6.296875 60.640625 12.9375 67.421875 \nQ 19.578125 74.21875 30.609375 74.21875 \nQ 43.265625 74.21875 49.921875 64.515625 \nQ 56.59375 54.828125 56.59375 36.375 \nQ 56.59375 19.140625 48.40625 8.859375 \nQ 40.234375 -1.421875 26.421875 -1.421875 \nQ 22.703125 -1.421875 18.890625 -0.6875 \nQ 15.09375 0.046875 10.984375 1.515625 \nz\nM 30.609375 32.421875 \nQ 37.25 32.421875 41.125 36.953125 \nQ 45.015625 41.5 45.015625 49.421875 \nQ 45.015625 57.28125 41.125 61.84375 \nQ 37.25 66.40625 30.609375 66.40625 \nQ 23.96875 66.40625 20.09375 61.84375 \nQ 16.21875 57.28125 16.21875 49.421875 \nQ 16.21875 41.5 20.09375 36.953125 \nQ 23.96875 32.421875 30.609375 32.421875 \nz\n\" id=\"DejaVuSans-57\"/>\n      </defs>\n      <g style=\"fill:#262626;\" transform=\"translate(23.1475 170.29514)scale(0.11 -0.11)\">\n       <use xlink:href=\"#DejaVuSans-49\"/>\n       <use x=\"63.623047\" xlink:href=\"#DejaVuSans-46\"/>\n       <use x=\"95.410156\" xlink:href=\"#DejaVuSans-53\"/>\n       <use x=\"159.033203\" xlink:href=\"#DejaVuSans-49\"/>\n       <use x=\"222.65625\" xlink:href=\"#DejaVuSans-57\"/>\n      </g>\n     </g>\n    </g>\n    <g id=\"ytick_4\">\n     <g id=\"line2d_4\">\n      <path clip-path=\"url(#pcdd58bd75e)\" d=\"M 64.138438 135.859134 \nL 398.938438 135.859134 \n\" style=\"fill:none;stroke:#ffffff;stroke-linecap:round;\"/>\n     </g>\n     <g id=\"text_7\">\n      <!-- 1.520 -->\n      <defs>\n       <path d=\"M 19.1875 8.296875 \nL 53.609375 8.296875 \nL 53.609375 0 \nL 7.328125 0 \nL 7.328125 8.296875 \nQ 12.9375 14.109375 22.625 23.890625 \nQ 32.328125 33.6875 34.8125 36.53125 \nQ 39.546875 41.84375 41.421875 45.53125 \nQ 43.3125 49.21875 43.3125 52.78125 \nQ 43.3125 58.59375 39.234375 62.25 \nQ 35.15625 65.921875 28.609375 65.921875 \nQ 23.96875 65.921875 18.8125 64.3125 \nQ 13.671875 62.703125 7.8125 59.421875 \nL 7.8125 69.390625 \nQ 13.765625 71.78125 18.9375 73 \nQ 24.125 74.21875 28.421875 74.21875 \nQ 39.75 74.21875 46.484375 68.546875 \nQ 53.21875 62.890625 53.21875 53.421875 \nQ 53.21875 48.921875 51.53125 44.890625 \nQ 49.859375 40.875 45.40625 35.40625 \nQ 44.1875 33.984375 37.640625 27.21875 \nQ 31.109375 20.453125 19.1875 8.296875 \nz\n\" id=\"DejaVuSans-50\"/>\n       <path d=\"M 31.78125 66.40625 \nQ 24.171875 66.40625 20.328125 58.90625 \nQ 16.5 51.421875 16.5 36.375 \nQ 16.5 21.390625 20.328125 13.890625 \nQ 24.171875 6.390625 31.78125 6.390625 \nQ 39.453125 6.390625 43.28125 13.890625 \nQ 47.125 21.390625 47.125 36.375 \nQ 47.125 51.421875 43.28125 58.90625 \nQ 39.453125 66.40625 31.78125 66.40625 \nz\nM 31.78125 74.21875 \nQ 44.046875 74.21875 50.515625 64.515625 \nQ 56.984375 54.828125 56.984375 36.375 \nQ 56.984375 17.96875 50.515625 8.265625 \nQ 44.046875 -1.421875 31.78125 -1.421875 \nQ 19.53125 -1.421875 13.0625 8.265625 \nQ 6.59375 17.96875 6.59375 36.375 \nQ 6.59375 54.828125 13.0625 64.515625 \nQ 19.53125 74.21875 31.78125 74.21875 \nz\n\" id=\"DejaVuSans-48\"/>\n      </defs>\n      <g style=\"fill:#262626;\" transform=\"translate(23.1475 140.038274)scale(0.11 -0.11)\">\n       <use xlink:href=\"#DejaVuSans-49\"/>\n       <use x=\"63.623047\" xlink:href=\"#DejaVuSans-46\"/>\n       <use x=\"95.410156\" xlink:href=\"#DejaVuSans-53\"/>\n       <use x=\"159.033203\" xlink:href=\"#DejaVuSans-50\"/>\n       <use x=\"222.65625\" xlink:href=\"#DejaVuSans-48\"/>\n      </g>\n     </g>\n    </g>\n    <g id=\"ytick_5\">\n     <g id=\"line2d_5\">\n      <path clip-path=\"url(#pcdd58bd75e)\" d=\"M 64.138438 105.602268 \nL 398.938438 105.602268 \n\" style=\"fill:none;stroke:#ffffff;stroke-linecap:round;\"/>\n     </g>\n     <g id=\"text_8\">\n      <!-- 1.521 -->\n      <g style=\"fill:#262626;\" transform=\"translate(23.1475 109.781409)scale(0.11 -0.11)\">\n       <use xlink:href=\"#DejaVuSans-49\"/>\n       <use x=\"63.623047\" xlink:href=\"#DejaVuSans-46\"/>\n       <use x=\"95.410156\" xlink:href=\"#DejaVuSans-53\"/>\n       <use x=\"159.033203\" xlink:href=\"#DejaVuSans-50\"/>\n       <use x=\"222.65625\" xlink:href=\"#DejaVuSans-49\"/>\n      </g>\n     </g>\n    </g>\n    <g id=\"ytick_6\">\n     <g id=\"line2d_6\">\n      <path clip-path=\"url(#pcdd58bd75e)\" d=\"M 64.138438 75.345403 \nL 398.938438 75.345403 \n\" style=\"fill:none;stroke:#ffffff;stroke-linecap:round;\"/>\n     </g>\n     <g id=\"text_9\">\n      <!-- 1.522 -->\n      <g style=\"fill:#262626;\" transform=\"translate(23.1475 79.524543)scale(0.11 -0.11)\">\n       <use xlink:href=\"#DejaVuSans-49\"/>\n       <use x=\"63.623047\" xlink:href=\"#DejaVuSans-46\"/>\n       <use x=\"95.410156\" xlink:href=\"#DejaVuSans-53\"/>\n       <use x=\"159.033203\" xlink:href=\"#DejaVuSans-50\"/>\n       <use x=\"222.65625\" xlink:href=\"#DejaVuSans-50\"/>\n      </g>\n     </g>\n    </g>\n    <g id=\"ytick_7\">\n     <g id=\"line2d_7\">\n      <path clip-path=\"url(#pcdd58bd75e)\" d=\"M 64.138438 45.088537 \nL 398.938438 45.088537 \n\" style=\"fill:none;stroke:#ffffff;stroke-linecap:round;\"/>\n     </g>\n     <g id=\"text_10\">\n      <!-- 1.523 -->\n      <defs>\n       <path d=\"M 40.578125 39.3125 \nQ 47.65625 37.796875 51.625 33 \nQ 55.609375 28.21875 55.609375 21.1875 \nQ 55.609375 10.40625 48.1875 4.484375 \nQ 40.765625 -1.421875 27.09375 -1.421875 \nQ 22.515625 -1.421875 17.65625 -0.515625 \nQ 12.796875 0.390625 7.625 2.203125 \nL 7.625 11.71875 \nQ 11.71875 9.328125 16.59375 8.109375 \nQ 21.484375 6.890625 26.8125 6.890625 \nQ 36.078125 6.890625 40.9375 10.546875 \nQ 45.796875 14.203125 45.796875 21.1875 \nQ 45.796875 27.640625 41.28125 31.265625 \nQ 36.765625 34.90625 28.71875 34.90625 \nL 20.21875 34.90625 \nL 20.21875 43.015625 \nL 29.109375 43.015625 \nQ 36.375 43.015625 40.234375 45.921875 \nQ 44.09375 48.828125 44.09375 54.296875 \nQ 44.09375 59.90625 40.109375 62.90625 \nQ 36.140625 65.921875 28.71875 65.921875 \nQ 24.65625 65.921875 20.015625 65.03125 \nQ 15.375 64.15625 9.8125 62.3125 \nL 9.8125 71.09375 \nQ 15.4375 72.65625 20.34375 73.4375 \nQ 25.25 74.21875 29.59375 74.21875 \nQ 40.828125 74.21875 47.359375 69.109375 \nQ 53.90625 64.015625 53.90625 55.328125 \nQ 53.90625 49.265625 50.4375 45.09375 \nQ 46.96875 40.921875 40.578125 39.3125 \nz\n\" id=\"DejaVuSans-51\"/>\n      </defs>\n      <g style=\"fill:#262626;\" transform=\"translate(23.1475 49.267678)scale(0.11 -0.11)\">\n       <use xlink:href=\"#DejaVuSans-49\"/>\n       <use x=\"63.623047\" xlink:href=\"#DejaVuSans-46\"/>\n       <use x=\"95.410156\" xlink:href=\"#DejaVuSans-53\"/>\n       <use x=\"159.033203\" xlink:href=\"#DejaVuSans-50\"/>\n       <use x=\"222.65625\" xlink:href=\"#DejaVuSans-51\"/>\n      </g>\n     </g>\n    </g>\n    <g id=\"text_11\">\n     <!-- epoch_ms -->\n     <defs>\n      <path d=\"M 18.109375 8.203125 \nL 18.109375 -20.796875 \nL 9.078125 -20.796875 \nL 9.078125 54.6875 \nL 18.109375 54.6875 \nL 18.109375 46.390625 \nQ 20.953125 51.265625 25.265625 53.625 \nQ 29.59375 56 35.59375 56 \nQ 45.5625 56 51.78125 48.09375 \nQ 58.015625 40.1875 58.015625 27.296875 \nQ 58.015625 14.40625 51.78125 6.484375 \nQ 45.5625 -1.421875 35.59375 -1.421875 \nQ 29.59375 -1.421875 25.265625 0.953125 \nQ 20.953125 3.328125 18.109375 8.203125 \nz\nM 48.6875 27.296875 \nQ 48.6875 37.203125 44.609375 42.84375 \nQ 40.53125 48.484375 33.40625 48.484375 \nQ 26.265625 48.484375 22.1875 42.84375 \nQ 18.109375 37.203125 18.109375 27.296875 \nQ 18.109375 17.390625 22.1875 11.75 \nQ 26.265625 6.109375 33.40625 6.109375 \nQ 40.53125 6.109375 44.609375 11.75 \nQ 48.6875 17.390625 48.6875 27.296875 \nz\n\" id=\"DejaVuSans-112\"/>\n      <path d=\"M 30.609375 48.390625 \nQ 23.390625 48.390625 19.1875 42.75 \nQ 14.984375 37.109375 14.984375 27.296875 \nQ 14.984375 17.484375 19.15625 11.84375 \nQ 23.34375 6.203125 30.609375 6.203125 \nQ 37.796875 6.203125 41.984375 11.859375 \nQ 46.1875 17.53125 46.1875 27.296875 \nQ 46.1875 37.015625 41.984375 42.703125 \nQ 37.796875 48.390625 30.609375 48.390625 \nz\nM 30.609375 56 \nQ 42.328125 56 49.015625 48.375 \nQ 55.71875 40.765625 55.71875 27.296875 \nQ 55.71875 13.875 49.015625 6.21875 \nQ 42.328125 -1.421875 30.609375 -1.421875 \nQ 18.84375 -1.421875 12.171875 6.21875 \nQ 5.515625 13.875 5.515625 27.296875 \nQ 5.515625 40.765625 12.171875 48.375 \nQ 18.84375 56 30.609375 56 \nz\n\" id=\"DejaVuSans-111\"/>\n      <path d=\"M 48.78125 52.59375 \nL 48.78125 44.1875 \nQ 44.96875 46.296875 41.140625 47.34375 \nQ 37.3125 48.390625 33.40625 48.390625 \nQ 24.65625 48.390625 19.8125 42.84375 \nQ 14.984375 37.3125 14.984375 27.296875 \nQ 14.984375 17.28125 19.8125 11.734375 \nQ 24.65625 6.203125 33.40625 6.203125 \nQ 37.3125 6.203125 41.140625 7.25 \nQ 44.96875 8.296875 48.78125 10.40625 \nL 48.78125 2.09375 \nQ 45.015625 0.34375 40.984375 -0.53125 \nQ 36.96875 -1.421875 32.421875 -1.421875 \nQ 20.0625 -1.421875 12.78125 6.34375 \nQ 5.515625 14.109375 5.515625 27.296875 \nQ 5.515625 40.671875 12.859375 48.328125 \nQ 20.21875 56 33.015625 56 \nQ 37.15625 56 41.109375 55.140625 \nQ 45.0625 54.296875 48.78125 52.59375 \nz\n\" id=\"DejaVuSans-99\"/>\n      <path d=\"M 54.890625 33.015625 \nL 54.890625 0 \nL 45.90625 0 \nL 45.90625 32.71875 \nQ 45.90625 40.484375 42.875 44.328125 \nQ 39.84375 48.1875 33.796875 48.1875 \nQ 26.515625 48.1875 22.3125 43.546875 \nQ 18.109375 38.921875 18.109375 30.90625 \nL 18.109375 0 \nL 9.078125 0 \nL 9.078125 75.984375 \nL 18.109375 75.984375 \nL 18.109375 46.1875 \nQ 21.34375 51.125 25.703125 53.5625 \nQ 30.078125 56 35.796875 56 \nQ 45.21875 56 50.046875 50.171875 \nQ 54.890625 44.34375 54.890625 33.015625 \nz\n\" id=\"DejaVuSans-104\"/>\n      <path d=\"M 50.984375 -16.609375 \nL 50.984375 -23.578125 \nL -0.984375 -23.578125 \nL -0.984375 -16.609375 \nz\n\" id=\"DejaVuSans-95\"/>\n      <path d=\"M 52 44.1875 \nQ 55.375 50.25 60.0625 53.125 \nQ 64.75 56 71.09375 56 \nQ 79.640625 56 84.28125 50.015625 \nQ 88.921875 44.046875 88.921875 33.015625 \nL 88.921875 0 \nL 79.890625 0 \nL 79.890625 32.71875 \nQ 79.890625 40.578125 77.09375 44.375 \nQ 74.3125 48.1875 68.609375 48.1875 \nQ 61.625 48.1875 57.5625 43.546875 \nQ 53.515625 38.921875 53.515625 30.90625 \nL 53.515625 0 \nL 44.484375 0 \nL 44.484375 32.71875 \nQ 44.484375 40.625 41.703125 44.40625 \nQ 38.921875 48.1875 33.109375 48.1875 \nQ 26.21875 48.1875 22.15625 43.53125 \nQ 18.109375 38.875 18.109375 30.90625 \nL 18.109375 0 \nL 9.078125 0 \nL 9.078125 54.6875 \nL 18.109375 54.6875 \nL 18.109375 46.1875 \nQ 21.1875 51.21875 25.484375 53.609375 \nQ 29.78125 56 35.6875 56 \nQ 41.65625 56 45.828125 52.96875 \nQ 50 49.953125 52 44.1875 \nz\n\" id=\"DejaVuSans-109\"/>\n     </defs>\n     <g style=\"fill:#262626;\" transform=\"translate(16.318125 157.522031)rotate(-90)scale(0.12 -0.12)\">\n      <use xlink:href=\"#DejaVuSans-101\"/>\n      <use x=\"61.523438\" xlink:href=\"#DejaVuSans-112\"/>\n      <use x=\"125\" xlink:href=\"#DejaVuSans-111\"/>\n      <use x=\"186.181641\" xlink:href=\"#DejaVuSans-99\"/>\n      <use x=\"241.162109\" xlink:href=\"#DejaVuSans-104\"/>\n      <use x=\"304.541016\" xlink:href=\"#DejaVuSans-95\"/>\n      <use x=\"354.541016\" xlink:href=\"#DejaVuSans-109\"/>\n      <use x=\"451.953125\" xlink:href=\"#DejaVuSans-115\"/>\n     </g>\n    </g>\n    <g id=\"text_12\">\n     <!-- 1e12 -->\n     <g style=\"fill:#262626;\" transform=\"translate(64.138438 15.558281)scale(0.11 -0.11)\">\n      <use xlink:href=\"#DejaVuSans-49\"/>\n      <use x=\"63.623047\" xlink:href=\"#DejaVuSans-101\"/>\n      <use x=\"125.146484\" xlink:href=\"#DejaVuSans-49\"/>\n      <use x=\"188.769531\" xlink:href=\"#DejaVuSans-50\"/>\n     </g>\n    </g>\n   </g>\n   <g id=\"PathCollection_1\">\n    <defs>\n     <path d=\"M -0 4.242641 \nL 2.545584 0 \nL 0 -4.242641 \nL -2.545584 -0 \nz\n\" id=\"m472c0eb2fa\" style=\"stroke:#5875a4;\"/>\n    </defs>\n    <g clip-path=\"url(#pcdd58bd75e)\">\n     <use style=\"fill:#5875a4;stroke:#5875a4;\" x=\"147.838437\" xlink:href=\"#m472c0eb2fa\" y=\"127.38718\"/>\n     <use style=\"fill:#5875a4;stroke:#5875a4;\" x=\"147.838437\" xlink:href=\"#m472c0eb2fa\" y=\"127.387163\"/>\n     <use style=\"fill:#5875a4;stroke:#5875a4;\" x=\"147.838437\" xlink:href=\"#m472c0eb2fa\" y=\"127.387133\"/>\n     <use style=\"fill:#5875a4;stroke:#5875a4;\" x=\"147.838437\" xlink:href=\"#m472c0eb2fa\" y=\"127.387077\"/>\n     <use style=\"fill:#5875a4;stroke:#5875a4;\" x=\"147.838437\" xlink:href=\"#m472c0eb2fa\" y=\"127.387162\"/>\n     <use style=\"fill:#5875a4;stroke:#5875a4;\" x=\"147.838437\" xlink:href=\"#m472c0eb2fa\" y=\"127.387142\"/>\n     <use style=\"fill:#5875a4;stroke:#5875a4;\" x=\"147.838437\" xlink:href=\"#m472c0eb2fa\" y=\"127.387115\"/>\n     <use style=\"fill:#5875a4;stroke:#5875a4;\" x=\"147.838437\" xlink:href=\"#m472c0eb2fa\" y=\"127.387191\"/>\n     <use style=\"fill:#5875a4;stroke:#5875a4;\" x=\"147.838437\" xlink:href=\"#m472c0eb2fa\" y=\"127.387153\"/>\n     <use style=\"fill:#5875a4;stroke:#5875a4;\" x=\"147.838437\" xlink:href=\"#m472c0eb2fa\" y=\"127.387147\"/>\n     <use style=\"fill:#5875a4;stroke:#5875a4;\" x=\"147.838437\" xlink:href=\"#m472c0eb2fa\" y=\"127.387087\"/>\n     <use style=\"fill:#5875a4;stroke:#5875a4;\" x=\"147.838437\" xlink:href=\"#m472c0eb2fa\" y=\"127.387114\"/>\n     <use style=\"fill:#5875a4;stroke:#5875a4;\" x=\"147.838437\" xlink:href=\"#m472c0eb2fa\" y=\"127.387083\"/>\n     <use style=\"fill:#5875a4;stroke:#5875a4;\" x=\"147.838437\" xlink:href=\"#m472c0eb2fa\" y=\"127.387153\"/>\n     <use style=\"fill:#5875a4;stroke:#5875a4;\" x=\"147.838437\" xlink:href=\"#m472c0eb2fa\" y=\"127.387153\"/>\n     <use style=\"fill:#5875a4;stroke:#5875a4;\" x=\"147.838437\" xlink:href=\"#m472c0eb2fa\" y=\"127.387135\"/>\n     <use style=\"fill:#5875a4;stroke:#5875a4;\" x=\"147.838437\" xlink:href=\"#m472c0eb2fa\" y=\"127.387127\"/>\n     <use style=\"fill:#5875a4;stroke:#5875a4;\" x=\"147.838437\" xlink:href=\"#m472c0eb2fa\" y=\"127.387119\"/>\n     <use style=\"fill:#5875a4;stroke:#5875a4;\" x=\"147.838437\" xlink:href=\"#m472c0eb2fa\" y=\"127.387092\"/>\n     <use style=\"fill:#5875a4;stroke:#5875a4;\" x=\"147.838437\" xlink:href=\"#m472c0eb2fa\" y=\"127.38708\"/>\n     <use style=\"fill:#5875a4;stroke:#5875a4;\" x=\"147.838437\" xlink:href=\"#m472c0eb2fa\" y=\"127.387067\"/>\n     <use style=\"fill:#5875a4;stroke:#5875a4;\" x=\"147.838437\" xlink:href=\"#m472c0eb2fa\" y=\"127.169538\"/>\n     <use style=\"fill:#5875a4;stroke:#5875a4;\" x=\"147.838437\" xlink:href=\"#m472c0eb2fa\" y=\"127.169514\"/>\n     <use style=\"fill:#5875a4;stroke:#5875a4;\" x=\"147.838437\" xlink:href=\"#m472c0eb2fa\" y=\"127.169505\"/>\n     <use style=\"fill:#5875a4;stroke:#5875a4;\" x=\"147.838437\" xlink:href=\"#m472c0eb2fa\" y=\"127.169421\"/>\n     <use style=\"fill:#5875a4;stroke:#5875a4;\" x=\"147.838437\" xlink:href=\"#m472c0eb2fa\" y=\"127.169409\"/>\n     <use style=\"fill:#5875a4;stroke:#5875a4;\" x=\"147.838437\" xlink:href=\"#m472c0eb2fa\" y=\"127.169619\"/>\n     <use style=\"fill:#5875a4;stroke:#5875a4;\" x=\"147.838437\" xlink:href=\"#m472c0eb2fa\" y=\"127.169447\"/>\n     <use style=\"fill:#5875a4;stroke:#5875a4;\" x=\"147.838437\" xlink:href=\"#m472c0eb2fa\" y=\"127.169382\"/>\n     <use style=\"fill:#5875a4;stroke:#5875a4;\" x=\"147.838437\" xlink:href=\"#m472c0eb2fa\" y=\"127.169542\"/>\n     <use style=\"fill:#5875a4;stroke:#5875a4;\" x=\"147.838437\" xlink:href=\"#m472c0eb2fa\" y=\"127.16952\"/>\n     <use style=\"fill:#5875a4;stroke:#5875a4;\" x=\"147.838437\" xlink:href=\"#m472c0eb2fa\" y=\"127.169372\"/>\n     <use style=\"fill:#5875a4;stroke:#5875a4;\" x=\"147.838437\" xlink:href=\"#m472c0eb2fa\" y=\"127.169495\"/>\n     <use style=\"fill:#5875a4;stroke:#5875a4;\" x=\"147.838437\" xlink:href=\"#m472c0eb2fa\" y=\"127.169431\"/>\n     <use style=\"fill:#5875a4;stroke:#5875a4;\" x=\"147.838437\" xlink:href=\"#m472c0eb2fa\" y=\"127.169386\"/>\n     <use style=\"fill:#5875a4;stroke:#5875a4;\" x=\"147.838437\" xlink:href=\"#m472c0eb2fa\" y=\"127.169608\"/>\n     <use style=\"fill:#5875a4;stroke:#5875a4;\" x=\"147.838437\" xlink:href=\"#m472c0eb2fa\" y=\"127.169581\"/>\n     <use style=\"fill:#5875a4;stroke:#5875a4;\" x=\"147.838437\" xlink:href=\"#m472c0eb2fa\" y=\"127.169416\"/>\n     <use style=\"fill:#5875a4;stroke:#5875a4;\" x=\"147.838437\" xlink:href=\"#m472c0eb2fa\" y=\"127.169564\"/>\n     <use style=\"fill:#5875a4;stroke:#5875a4;\" x=\"147.838437\" xlink:href=\"#m472c0eb2fa\" y=\"127.169546\"/>\n     <use style=\"fill:#5875a4;stroke:#5875a4;\" x=\"147.838437\" xlink:href=\"#m472c0eb2fa\" y=\"127.169474\"/>\n     <use style=\"fill:#5875a4;stroke:#5875a4;\" x=\"147.838437\" xlink:href=\"#m472c0eb2fa\" y=\"127.169432\"/>\n    </g>\n   </g>\n   <g id=\"PatchCollection_1\">\n    <path clip-path=\"url(#pcdd58bd75e)\" d=\"M 147.576875 127.387066 \nL 148.1 127.387066 \nL 148.1 127.169634 \nL 147.576875 127.169634 \nz\n\" style=\"fill:#ffffff;stroke:#ffffff;\"/>\n    <path clip-path=\"url(#pcdd58bd75e)\" d=\"M 147.315313 127.386792 \nL 148.361562 127.386792 \nL 148.361562 127.169896 \nL 147.315313 127.169896 \nz\n\" style=\"fill:#eaeef4;stroke:#ffffff;\"/>\n    <path clip-path=\"url(#pcdd58bd75e)\" d=\"M 146.792188 127.386437 \nL 148.884687 127.386437 \nL 148.884687 127.170475 \nL 146.792188 127.170475 \nz\n\" style=\"fill:#d5dce8;stroke:#ffffff;\"/>\n    <path clip-path=\"url(#pcdd58bd75e)\" d=\"M 145.745937 127.385735 \nL 149.930937 127.385735 \nL 149.930937 127.171571 \nL 145.745937 127.171571 \nz\n\" style=\"fill:#c0cbdd;stroke:#ffffff;\"/>\n    <path clip-path=\"url(#pcdd58bd75e)\" d=\"M 143.653437 127.384227 \nL 152.023438 127.384227 \nL 152.023438 127.173589 \nL 143.653437 127.173589 \nz\n\" style=\"fill:#abbad1;stroke:#ffffff;\"/>\n    <path clip-path=\"url(#pcdd58bd75e)\" d=\"M 139.468437 127.382021 \nL 156.208438 127.382021 \nL 156.208438 127.176213 \nL 139.468437 127.176213 \nz\n\" style=\"fill:#97a8c6;stroke:#ffffff;\"/>\n    <path clip-path=\"url(#pcdd58bd75e)\" d=\"M 131.098437 127.377741 \nL 164.578438 127.377741 \nL 164.578438 127.187885 \nL 131.098437 127.187885 \nz\n\" style=\"fill:#8297ba;stroke:#ffffff;\"/>\n    <path clip-path=\"url(#pcdd58bd75e)\" d=\"M 114.358437 127.367191 \nL 181.318438 127.367191 \nL 181.318438 127.212321 \nL 114.358437 127.212321 \nz\n\" style=\"fill:#6d86af;stroke:#ffffff;\"/>\n    <path clip-path=\"url(#pcdd58bd75e)\" d=\"M 80.878437 127.34263 \nL 214.798438 127.34263 \nL 214.798438 127.238212 \nL 80.878437 127.238212 \nz\n\" style=\"fill:#5875a4;stroke:#ffffff;\"/>\n   </g>\n   <g id=\"PathCollection_2\">\n    <defs>\n     <path d=\"M -0 4.242641 \nL 2.545584 0 \nL 0 -4.242641 \nL -2.545584 -0 \nz\n\" id=\"mdbff74edd5\" style=\"stroke:#cc8963;\"/>\n    </defs>\n    <g clip-path=\"url(#pcdd58bd75e)\">\n     <use style=\"fill:#cc8963;stroke:#cc8963;\" x=\"315.238438\" xlink:href=\"#mdbff74edd5\" y=\"127.387139\"/>\n     <use style=\"fill:#cc8963;stroke:#cc8963;\" x=\"315.238438\" xlink:href=\"#mdbff74edd5\" y=\"127.387211\"/>\n     <use style=\"fill:#cc8963;stroke:#cc8963;\" x=\"315.238438\" xlink:href=\"#mdbff74edd5\" y=\"127.38721\"/>\n     <use style=\"fill:#cc8963;stroke:#cc8963;\" x=\"315.238438\" xlink:href=\"#mdbff74edd5\" y=\"127.387206\"/>\n     <use style=\"fill:#cc8963;stroke:#cc8963;\" x=\"315.238438\" xlink:href=\"#mdbff74edd5\" y=\"127.387193\"/>\n     <use style=\"fill:#cc8963;stroke:#cc8963;\" x=\"315.238438\" xlink:href=\"#mdbff74edd5\" y=\"127.387142\"/>\n     <use style=\"fill:#cc8963;stroke:#cc8963;\" x=\"315.238438\" xlink:href=\"#mdbff74edd5\" y=\"127.387128\"/>\n     <use style=\"fill:#cc8963;stroke:#cc8963;\" x=\"315.238438\" xlink:href=\"#mdbff74edd5\" y=\"127.387054\"/>\n     <use style=\"fill:#cc8963;stroke:#cc8963;\" x=\"315.238438\" xlink:href=\"#mdbff74edd5\" y=\"127.387048\"/>\n     <use style=\"fill:#cc8963;stroke:#cc8963;\" x=\"315.238438\" xlink:href=\"#mdbff74edd5\" y=\"127.387031\"/>\n     <use style=\"fill:#cc8963;stroke:#cc8963;\" x=\"315.238438\" xlink:href=\"#mdbff74edd5\" y=\"127.387206\"/>\n     <use style=\"fill:#cc8963;stroke:#cc8963;\" x=\"315.238438\" xlink:href=\"#mdbff74edd5\" y=\"127.387191\"/>\n     <use style=\"fill:#cc8963;stroke:#cc8963;\" x=\"315.238438\" xlink:href=\"#mdbff74edd5\" y=\"127.387165\"/>\n     <use style=\"fill:#cc8963;stroke:#cc8963;\" x=\"315.238438\" xlink:href=\"#mdbff74edd5\" y=\"127.387162\"/>\n     <use style=\"fill:#cc8963;stroke:#cc8963;\" x=\"315.238438\" xlink:href=\"#mdbff74edd5\" y=\"127.387068\"/>\n     <use style=\"fill:#cc8963;stroke:#cc8963;\" x=\"315.238438\" xlink:href=\"#mdbff74edd5\" y=\"127.387038\"/>\n     <use style=\"fill:#cc8963;stroke:#cc8963;\" x=\"315.238438\" xlink:href=\"#mdbff74edd5\" y=\"127.387034\"/>\n     <use style=\"fill:#cc8963;stroke:#cc8963;\" x=\"315.238438\" xlink:href=\"#mdbff74edd5\" y=\"127.387196\"/>\n     <use style=\"fill:#cc8963;stroke:#cc8963;\" x=\"315.238438\" xlink:href=\"#mdbff74edd5\" y=\"127.38717\"/>\n     <use style=\"fill:#cc8963;stroke:#cc8963;\" x=\"315.238438\" xlink:href=\"#mdbff74edd5\" y=\"127.38717\"/>\n     <use style=\"fill:#cc8963;stroke:#cc8963;\" x=\"315.238438\" xlink:href=\"#mdbff74edd5\" y=\"127.387092\"/>\n     <use style=\"fill:#cc8963;stroke:#cc8963;\" x=\"315.238438\" xlink:href=\"#mdbff74edd5\" y=\"127.387038\"/>\n     <use style=\"fill:#cc8963;stroke:#cc8963;\" x=\"315.238438\" xlink:href=\"#mdbff74edd5\" y=\"127.387204\"/>\n     <use style=\"fill:#cc8963;stroke:#cc8963;\" x=\"315.238438\" xlink:href=\"#mdbff74edd5\" y=\"127.387151\"/>\n     <use style=\"fill:#cc8963;stroke:#cc8963;\" x=\"315.238438\" xlink:href=\"#mdbff74edd5\" y=\"127.387128\"/>\n     <use style=\"fill:#cc8963;stroke:#cc8963;\" x=\"315.238438\" xlink:href=\"#mdbff74edd5\" y=\"127.387085\"/>\n     <use style=\"fill:#cc8963;stroke:#cc8963;\" x=\"315.238438\" xlink:href=\"#mdbff74edd5\" y=\"127.387206\"/>\n     <use style=\"fill:#cc8963;stroke:#cc8963;\" x=\"315.238438\" xlink:href=\"#mdbff74edd5\" y=\"127.387204\"/>\n     <use style=\"fill:#cc8963;stroke:#cc8963;\" x=\"315.238438\" xlink:href=\"#mdbff74edd5\" y=\"127.387149\"/>\n     <use style=\"fill:#cc8963;stroke:#cc8963;\" x=\"315.238438\" xlink:href=\"#mdbff74edd5\" y=\"127.387066\"/>\n     <use style=\"fill:#cc8963;stroke:#cc8963;\" x=\"315.238438\" xlink:href=\"#mdbff74edd5\" y=\"127.387051\"/>\n     <use style=\"fill:#cc8963;stroke:#cc8963;\" x=\"315.238438\" xlink:href=\"#mdbff74edd5\" y=\"127.387122\"/>\n     <use style=\"fill:#cc8963;stroke:#cc8963;\" x=\"315.238438\" xlink:href=\"#mdbff74edd5\" y=\"127.38712\"/>\n     <use style=\"fill:#cc8963;stroke:#cc8963;\" x=\"315.238438\" xlink:href=\"#mdbff74edd5\" y=\"127.38708\"/>\n     <use style=\"fill:#cc8963;stroke:#cc8963;\" x=\"315.238438\" xlink:href=\"#mdbff74edd5\" y=\"127.38707\"/>\n     <use style=\"fill:#cc8963;stroke:#cc8963;\" x=\"315.238438\" xlink:href=\"#mdbff74edd5\" y=\"127.387061\"/>\n     <use style=\"fill:#cc8963;stroke:#cc8963;\" x=\"315.238438\" xlink:href=\"#mdbff74edd5\" y=\"127.387052\"/>\n     <use style=\"fill:#cc8963;stroke:#cc8963;\" x=\"315.238438\" xlink:href=\"#mdbff74edd5\" y=\"127.387043\"/>\n     <use style=\"fill:#cc8963;stroke:#cc8963;\" x=\"315.238438\" xlink:href=\"#mdbff74edd5\" y=\"127.16958\"/>\n     <use style=\"fill:#cc8963;stroke:#cc8963;\" x=\"315.238438\" xlink:href=\"#mdbff74edd5\" y=\"127.169564\"/>\n     <use style=\"fill:#cc8963;stroke:#cc8963;\" x=\"315.238438\" xlink:href=\"#mdbff74edd5\" y=\"127.169537\"/>\n     <use style=\"fill:#cc8963;stroke:#cc8963;\" x=\"315.238438\" xlink:href=\"#mdbff74edd5\" y=\"127.169384\"/>\n     <use style=\"fill:#cc8963;stroke:#cc8963;\" x=\"315.238438\" xlink:href=\"#mdbff74edd5\" y=\"127.16959\"/>\n     <use style=\"fill:#cc8963;stroke:#cc8963;\" x=\"315.238438\" xlink:href=\"#mdbff74edd5\" y=\"127.169564\"/>\n     <use style=\"fill:#cc8963;stroke:#cc8963;\" x=\"315.238438\" xlink:href=\"#mdbff74edd5\" y=\"127.169504\"/>\n     <use style=\"fill:#cc8963;stroke:#cc8963;\" x=\"315.238438\" xlink:href=\"#mdbff74edd5\" y=\"127.169424\"/>\n     <use style=\"fill:#cc8963;stroke:#cc8963;\" x=\"315.238438\" xlink:href=\"#mdbff74edd5\" y=\"127.169409\"/>\n     <use style=\"fill:#cc8963;stroke:#cc8963;\" x=\"315.238438\" xlink:href=\"#mdbff74edd5\" y=\"127.169658\"/>\n     <use style=\"fill:#cc8963;stroke:#cc8963;\" x=\"315.238438\" xlink:href=\"#mdbff74edd5\" y=\"127.169637\"/>\n     <use style=\"fill:#cc8963;stroke:#cc8963;\" x=\"315.238438\" xlink:href=\"#mdbff74edd5\" y=\"127.169574\"/>\n     <use style=\"fill:#cc8963;stroke:#cc8963;\" x=\"315.238438\" xlink:href=\"#mdbff74edd5\" y=\"127.16952\"/>\n     <use style=\"fill:#cc8963;stroke:#cc8963;\" x=\"315.238438\" xlink:href=\"#mdbff74edd5\" y=\"127.169514\"/>\n     <use style=\"fill:#cc8963;stroke:#cc8963;\" x=\"315.238438\" xlink:href=\"#mdbff74edd5\" y=\"127.169488\"/>\n     <use style=\"fill:#cc8963;stroke:#cc8963;\" x=\"315.238438\" xlink:href=\"#mdbff74edd5\" y=\"127.169458\"/>\n     <use style=\"fill:#cc8963;stroke:#cc8963;\" x=\"315.238438\" xlink:href=\"#mdbff74edd5\" y=\"127.16945\"/>\n     <use style=\"fill:#cc8963;stroke:#cc8963;\" x=\"315.238438\" xlink:href=\"#mdbff74edd5\" y=\"127.169627\"/>\n     <use style=\"fill:#cc8963;stroke:#cc8963;\" x=\"315.238438\" xlink:href=\"#mdbff74edd5\" y=\"127.169471\"/>\n     <use style=\"fill:#cc8963;stroke:#cc8963;\" x=\"315.238438\" xlink:href=\"#mdbff74edd5\" y=\"127.169426\"/>\n     <use style=\"fill:#cc8963;stroke:#cc8963;\" x=\"315.238438\" xlink:href=\"#mdbff74edd5\" y=\"127.169407\"/>\n     <use style=\"fill:#cc8963;stroke:#cc8963;\" x=\"315.238438\" xlink:href=\"#mdbff74edd5\" y=\"127.169406\"/>\n     <use style=\"fill:#cc8963;stroke:#cc8963;\" x=\"315.238438\" xlink:href=\"#mdbff74edd5\" y=\"127.169391\"/>\n     <use style=\"fill:#cc8963;stroke:#cc8963;\" x=\"315.238438\" xlink:href=\"#mdbff74edd5\" y=\"127.169633\"/>\n     <use style=\"fill:#cc8963;stroke:#cc8963;\" x=\"315.238438\" xlink:href=\"#mdbff74edd5\" y=\"127.16961\"/>\n     <use style=\"fill:#cc8963;stroke:#cc8963;\" x=\"315.238438\" xlink:href=\"#mdbff74edd5\" y=\"127.169589\"/>\n     <use style=\"fill:#cc8963;stroke:#cc8963;\" x=\"315.238438\" xlink:href=\"#mdbff74edd5\" y=\"127.169538\"/>\n     <use style=\"fill:#cc8963;stroke:#cc8963;\" x=\"315.238438\" xlink:href=\"#mdbff74edd5\" y=\"127.16942\"/>\n     <use style=\"fill:#cc8963;stroke:#cc8963;\" x=\"315.238438\" xlink:href=\"#mdbff74edd5\" y=\"127.169556\"/>\n     <use style=\"fill:#cc8963;stroke:#cc8963;\" x=\"315.238438\" xlink:href=\"#mdbff74edd5\" y=\"127.169533\"/>\n     <use style=\"fill:#cc8963;stroke:#cc8963;\" x=\"315.238438\" xlink:href=\"#mdbff74edd5\" y=\"127.169474\"/>\n     <use style=\"fill:#cc8963;stroke:#cc8963;\" x=\"315.238438\" xlink:href=\"#mdbff74edd5\" y=\"127.169423\"/>\n     <use style=\"fill:#cc8963;stroke:#cc8963;\" x=\"315.238438\" xlink:href=\"#mdbff74edd5\" y=\"127.169409\"/>\n     <use style=\"fill:#cc8963;stroke:#cc8963;\" x=\"315.238438\" xlink:href=\"#mdbff74edd5\" y=\"127.16961\"/>\n     <use style=\"fill:#cc8963;stroke:#cc8963;\" x=\"315.238438\" xlink:href=\"#mdbff74edd5\" y=\"127.169586\"/>\n     <use style=\"fill:#cc8963;stroke:#cc8963;\" x=\"315.238438\" xlink:href=\"#mdbff74edd5\" y=\"127.169581\"/>\n     <use style=\"fill:#cc8963;stroke:#cc8963;\" x=\"315.238438\" xlink:href=\"#mdbff74edd5\" y=\"127.169564\"/>\n     <use style=\"fill:#cc8963;stroke:#cc8963;\" x=\"315.238438\" xlink:href=\"#mdbff74edd5\" y=\"127.169391\"/>\n    </g>\n   </g>\n   <g id=\"PatchCollection_2\">\n    <path clip-path=\"url(#pcdd58bd75e)\" d=\"M 314.976875 127.387028 \nL 315.5 127.387028 \nL 315.5 127.169661 \nL 314.976875 127.169661 \nz\n\" style=\"fill:#ffffff;stroke:#ffffff;\"/>\n    <path clip-path=\"url(#pcdd58bd75e)\" d=\"M 314.715312 127.386778 \nL 315.761563 127.386778 \nL 315.761563 127.170044 \nL 314.715312 127.170044 \nz\n\" style=\"fill:#f9f0eb;stroke:#ffffff;\"/>\n    <path clip-path=\"url(#pcdd58bd75e)\" d=\"M 314.192188 127.386385 \nL 316.284688 127.386385 \nL 316.284688 127.170734 \nL 314.192188 127.170734 \nz\n\" style=\"fill:#f2e1d8;stroke:#ffffff;\"/>\n    <path clip-path=\"url(#pcdd58bd75e)\" d=\"M 313.145938 127.385656 \nL 317.330938 127.385656 \nL 317.330938 127.172562 \nL 313.145938 127.172562 \nz\n\" style=\"fill:#ecd3c4;stroke:#ffffff;\"/>\n    <path clip-path=\"url(#pcdd58bd75e)\" d=\"M 311.053437 127.3841 \nL 319.423437 127.3841 \nL 319.423437 127.175332 \nL 311.053437 127.175332 \nz\n\" style=\"fill:#e5c4b1;stroke:#ffffff;\"/>\n    <path clip-path=\"url(#pcdd58bd75e)\" d=\"M 306.868438 127.381089 \nL 323.608438 127.381089 \nL 323.608438 127.179971 \nL 306.868438 127.179971 \nz\n\" style=\"fill:#dfb59d;stroke:#ffffff;\"/>\n    <path clip-path=\"url(#pcdd58bd75e)\" d=\"M 298.498438 127.374719 \nL 331.978438 127.374719 \nL 331.978438 127.190786 \nL 298.498438 127.190786 \nz\n\" style=\"fill:#d8a68a;stroke:#ffffff;\"/>\n    <path clip-path=\"url(#pcdd58bd75e)\" d=\"M 281.758438 127.364648 \nL 348.718438 127.364648 \nL 348.718438 127.208579 \nL 281.758438 127.208579 \nz\n\" style=\"fill:#d29776;stroke:#ffffff;\"/>\n    <path clip-path=\"url(#pcdd58bd75e)\" d=\"M 248.278437 127.344482 \nL 382.198437 127.344482 \nL 382.198437 127.244792 \nL 248.278437 127.244792 \nz\n\" style=\"fill:#cc8963;stroke:#ffffff;\"/>\n   </g>\n   <g id=\"line2d_8\">\n    <path clip-path=\"url(#pcdd58bd75e)\" d=\"M 80.878437 127.289426 \nL 214.798438 127.289426 \n\" style=\"fill:none;stroke:#262626;stroke-linecap:round;stroke-opacity:0.45;stroke-width:1.5;\"/>\n   </g>\n   <g id=\"line2d_9\">\n    <path clip-path=\"url(#pcdd58bd75e)\" d=\"M 248.278437 127.298102 \nL 382.198437 127.298102 \n\" style=\"fill:none;stroke:#262626;stroke-linecap:round;stroke-opacity:0.45;stroke-width:1.5;\"/>\n   </g>\n   <g id=\"patch_3\">\n    <path d=\"M 64.138438 235.998281 \nL 64.138438 18.558281 \n\" style=\"fill:none;stroke:#ffffff;stroke-linecap:square;stroke-linejoin:miter;stroke-width:1.25;\"/>\n   </g>\n   <g id=\"patch_4\">\n    <path d=\"M 398.938438 235.998281 \nL 398.938438 18.558281 \n\" style=\"fill:none;stroke:#ffffff;stroke-linecap:square;stroke-linejoin:miter;stroke-width:1.25;\"/>\n   </g>\n   <g id=\"patch_5\">\n    <path d=\"M 64.138437 235.998281 \nL 398.938438 235.998281 \n\" style=\"fill:none;stroke:#ffffff;stroke-linecap:square;stroke-linejoin:miter;stroke-width:1.25;\"/>\n   </g>\n   <g id=\"patch_6\">\n    <path d=\"M 64.138437 18.558281 \nL 398.938438 18.558281 \n\" style=\"fill:none;stroke:#ffffff;stroke-linecap:square;stroke-linejoin:miter;stroke-width:1.25;\"/>\n   </g>\n  </g>\n </g>\n <defs>\n  <clipPath id=\"pcdd58bd75e\">\n   <rect height=\"217.44\" width=\"334.8\" x=\"64.138438\" y=\"18.558281\"/>\n  </clipPath>\n </defs>\n</svg>\n"
          },
          "metadata": {
            "tags": []
          }
        }
      ]
    },
    {
      "cell_type": "markdown",
      "metadata": {
        "id": "PnHg3LvF2EyV",
        "colab_type": "text"
      },
      "source": [
        "### 3.7)-Dealing with epoch i.e Time "
      ]
    },
    {
      "cell_type": "code",
      "metadata": {
        "id": "LBo-AgXT2DiM",
        "colab_type": "code",
        "colab": {}
      },
      "source": [
        "from datetime import datetime"
      ],
      "execution_count": 0,
      "outputs": []
    },
    {
      "cell_type": "code",
      "metadata": {
        "id": "b_Qa0Rbk4AfO",
        "colab_type": "code",
        "colab": {
          "base_uri": "https://localhost:8080/",
          "height": 309
        },
        "outputId": "560c13d5-fd05-43f4-da5c-c7f6f4b96988"
      },
      "source": [
        "df_bol.head()"
      ],
      "execution_count": 44,
      "outputs": [
        {
          "output_type": "execute_result",
          "data": {
            "text/html": [
              "<div>\n",
              "<style scoped>\n",
              "    .dataframe tbody tr th:only-of-type {\n",
              "        vertical-align: middle;\n",
              "    }\n",
              "\n",
              "    .dataframe tbody tr th {\n",
              "        vertical-align: top;\n",
              "    }\n",
              "\n",
              "    .dataframe thead th {\n",
              "        text-align: right;\n",
              "    }\n",
              "</style>\n",
              "<table border=\"1\" class=\"dataframe\">\n",
              "  <thead>\n",
              "    <tr style=\"text-align: right;\">\n",
              "      <th></th>\n",
              "      <th>epoch_ms</th>\n",
              "      <th>session_id</th>\n",
              "      <th>country_by_ip_address</th>\n",
              "      <th>region_by_ip_address</th>\n",
              "      <th>url_without_parameters</th>\n",
              "      <th>referrer_without_parameters</th>\n",
              "      <th>visitor_recognition_type</th>\n",
              "      <th>ua_agent_class</th>\n",
              "      <th>labels</th>\n",
              "    </tr>\n",
              "  </thead>\n",
              "  <tbody>\n",
              "    <tr>\n",
              "      <th>0</th>\n",
              "      <td>1520280001034</td>\n",
              "      <td>be73c8d1b836170a21529a1b23140f8e</td>\n",
              "      <td>US</td>\n",
              "      <td>CA</td>\n",
              "      <td>https://www.bol.com/nl/l/nederlandstalige-kuns...</td>\n",
              "      <td>VARIOUS</td>\n",
              "      <td>ANONYMOUS</td>\n",
              "      <td>Robot</td>\n",
              "      <td>NHT</td>\n",
              "    </tr>\n",
              "    <tr>\n",
              "      <th>1</th>\n",
              "      <td>1520280001590</td>\n",
              "      <td>c24c6637ed7dcbe19ad64056184212a7</td>\n",
              "      <td>US</td>\n",
              "      <td>CA</td>\n",
              "      <td>https://www.bol.com/nl/l/italiaans-natuur-wete...</td>\n",
              "      <td>VARIOUS</td>\n",
              "      <td>ANONYMOUS</td>\n",
              "      <td>Robot</td>\n",
              "      <td>NHT</td>\n",
              "    </tr>\n",
              "    <tr>\n",
              "      <th>2</th>\n",
              "      <td>1520280002397</td>\n",
              "      <td>ee391655f5680a7bfae0019450aed396</td>\n",
              "      <td>IT</td>\n",
              "      <td>LI</td>\n",
              "      <td>https://www.bol.com/nl/p/nespresso-magimix-ini...</td>\n",
              "      <td>https://www.bol.com/nl/p/nespresso-magimix-ini...</td>\n",
              "      <td>ANONYMOUS</td>\n",
              "      <td>Browser</td>\n",
              "      <td>HT</td>\n",
              "    </tr>\n",
              "    <tr>\n",
              "      <th>3</th>\n",
              "      <td>1520280002598</td>\n",
              "      <td>f8c8a696dd37ca88233b2df096afa97f</td>\n",
              "      <td>US</td>\n",
              "      <td>CA</td>\n",
              "      <td>https://www.bol.com/nl/l/nieuwe-engelstalige-o...</td>\n",
              "      <td>VARIOUS</td>\n",
              "      <td>ANONYMOUS</td>\n",
              "      <td>Robot</td>\n",
              "      <td>NHT</td>\n",
              "    </tr>\n",
              "    <tr>\n",
              "      <th>4</th>\n",
              "      <td>1520280004428</td>\n",
              "      <td>f8b0c06747b7dd1d53c0932306bd04d6</td>\n",
              "      <td>US</td>\n",
              "      <td>CA</td>\n",
              "      <td>https://www.bol.com/nl/l/nieuwe-actie-avontuur...</td>\n",
              "      <td>VARIOUS</td>\n",
              "      <td>ANONYMOUS</td>\n",
              "      <td>Robot Mobile</td>\n",
              "      <td>NHT</td>\n",
              "    </tr>\n",
              "  </tbody>\n",
              "</table>\n",
              "</div>"
            ],
            "text/plain": [
              "        epoch_ms                        session_id  ... ua_agent_class labels\n",
              "0  1520280001034  be73c8d1b836170a21529a1b23140f8e  ...          Robot    NHT\n",
              "1  1520280001590  c24c6637ed7dcbe19ad64056184212a7  ...          Robot    NHT\n",
              "2  1520280002397  ee391655f5680a7bfae0019450aed396  ...        Browser     HT\n",
              "3  1520280002598  f8c8a696dd37ca88233b2df096afa97f  ...          Robot    NHT\n",
              "4  1520280004428  f8b0c06747b7dd1d53c0932306bd04d6  ...   Robot Mobile    NHT\n",
              "\n",
              "[5 rows x 9 columns]"
            ]
          },
          "metadata": {
            "tags": []
          },
          "execution_count": 44
        }
      ]
    },
    {
      "cell_type": "code",
      "metadata": {
        "id": "OBfleMlD5A5b",
        "colab_type": "code",
        "colab": {}
      },
      "source": [
        "df_bol['date']=(pd.to_datetime(df_bol['epoch_ms'],unit='ms'))"
      ],
      "execution_count": 0,
      "outputs": []
    },
    {
      "cell_type": "code",
      "metadata": {
        "id": "zn0Qyi0S5V8J",
        "colab_type": "code",
        "colab": {
          "base_uri": "https://localhost:8080/",
          "height": 119
        },
        "outputId": "67c028a0-6197-4de1-8752-654c5ed5cfaf"
      },
      "source": [
        "df_bol.date[:5]"
      ],
      "execution_count": 46,
      "outputs": [
        {
          "output_type": "execute_result",
          "data": {
            "text/plain": [
              "0   2018-03-05 20:00:01.034\n",
              "1   2018-03-05 20:00:01.590\n",
              "2   2018-03-05 20:00:02.397\n",
              "3   2018-03-05 20:00:02.598\n",
              "4   2018-03-05 20:00:04.428\n",
              "Name: date, dtype: datetime64[ns]"
            ]
          },
          "metadata": {
            "tags": []
          },
          "execution_count": 46
        }
      ]
    },
    {
      "cell_type": "code",
      "metadata": {
        "id": "JkAqrOMK5avh",
        "colab_type": "code",
        "colab": {
          "base_uri": "https://localhost:8080/",
          "height": 309
        },
        "outputId": "d026888c-c4df-4ebd-9525-f6174781e1da"
      },
      "source": [
        "df_bol.head()"
      ],
      "execution_count": 47,
      "outputs": [
        {
          "output_type": "execute_result",
          "data": {
            "text/html": [
              "<div>\n",
              "<style scoped>\n",
              "    .dataframe tbody tr th:only-of-type {\n",
              "        vertical-align: middle;\n",
              "    }\n",
              "\n",
              "    .dataframe tbody tr th {\n",
              "        vertical-align: top;\n",
              "    }\n",
              "\n",
              "    .dataframe thead th {\n",
              "        text-align: right;\n",
              "    }\n",
              "</style>\n",
              "<table border=\"1\" class=\"dataframe\">\n",
              "  <thead>\n",
              "    <tr style=\"text-align: right;\">\n",
              "      <th></th>\n",
              "      <th>epoch_ms</th>\n",
              "      <th>session_id</th>\n",
              "      <th>country_by_ip_address</th>\n",
              "      <th>region_by_ip_address</th>\n",
              "      <th>url_without_parameters</th>\n",
              "      <th>referrer_without_parameters</th>\n",
              "      <th>visitor_recognition_type</th>\n",
              "      <th>ua_agent_class</th>\n",
              "      <th>labels</th>\n",
              "      <th>date</th>\n",
              "    </tr>\n",
              "  </thead>\n",
              "  <tbody>\n",
              "    <tr>\n",
              "      <th>0</th>\n",
              "      <td>1520280001034</td>\n",
              "      <td>be73c8d1b836170a21529a1b23140f8e</td>\n",
              "      <td>US</td>\n",
              "      <td>CA</td>\n",
              "      <td>https://www.bol.com/nl/l/nederlandstalige-kuns...</td>\n",
              "      <td>VARIOUS</td>\n",
              "      <td>ANONYMOUS</td>\n",
              "      <td>Robot</td>\n",
              "      <td>NHT</td>\n",
              "      <td>2018-03-05 20:00:01.034</td>\n",
              "    </tr>\n",
              "    <tr>\n",
              "      <th>1</th>\n",
              "      <td>1520280001590</td>\n",
              "      <td>c24c6637ed7dcbe19ad64056184212a7</td>\n",
              "      <td>US</td>\n",
              "      <td>CA</td>\n",
              "      <td>https://www.bol.com/nl/l/italiaans-natuur-wete...</td>\n",
              "      <td>VARIOUS</td>\n",
              "      <td>ANONYMOUS</td>\n",
              "      <td>Robot</td>\n",
              "      <td>NHT</td>\n",
              "      <td>2018-03-05 20:00:01.590</td>\n",
              "    </tr>\n",
              "    <tr>\n",
              "      <th>2</th>\n",
              "      <td>1520280002397</td>\n",
              "      <td>ee391655f5680a7bfae0019450aed396</td>\n",
              "      <td>IT</td>\n",
              "      <td>LI</td>\n",
              "      <td>https://www.bol.com/nl/p/nespresso-magimix-ini...</td>\n",
              "      <td>https://www.bol.com/nl/p/nespresso-magimix-ini...</td>\n",
              "      <td>ANONYMOUS</td>\n",
              "      <td>Browser</td>\n",
              "      <td>HT</td>\n",
              "      <td>2018-03-05 20:00:02.397</td>\n",
              "    </tr>\n",
              "    <tr>\n",
              "      <th>3</th>\n",
              "      <td>1520280002598</td>\n",
              "      <td>f8c8a696dd37ca88233b2df096afa97f</td>\n",
              "      <td>US</td>\n",
              "      <td>CA</td>\n",
              "      <td>https://www.bol.com/nl/l/nieuwe-engelstalige-o...</td>\n",
              "      <td>VARIOUS</td>\n",
              "      <td>ANONYMOUS</td>\n",
              "      <td>Robot</td>\n",
              "      <td>NHT</td>\n",
              "      <td>2018-03-05 20:00:02.598</td>\n",
              "    </tr>\n",
              "    <tr>\n",
              "      <th>4</th>\n",
              "      <td>1520280004428</td>\n",
              "      <td>f8b0c06747b7dd1d53c0932306bd04d6</td>\n",
              "      <td>US</td>\n",
              "      <td>CA</td>\n",
              "      <td>https://www.bol.com/nl/l/nieuwe-actie-avontuur...</td>\n",
              "      <td>VARIOUS</td>\n",
              "      <td>ANONYMOUS</td>\n",
              "      <td>Robot Mobile</td>\n",
              "      <td>NHT</td>\n",
              "      <td>2018-03-05 20:00:04.428</td>\n",
              "    </tr>\n",
              "  </tbody>\n",
              "</table>\n",
              "</div>"
            ],
            "text/plain": [
              "        epoch_ms  ...                    date\n",
              "0  1520280001034  ... 2018-03-05 20:00:01.034\n",
              "1  1520280001590  ... 2018-03-05 20:00:01.590\n",
              "2  1520280002397  ... 2018-03-05 20:00:02.397\n",
              "3  1520280002598  ... 2018-03-05 20:00:02.598\n",
              "4  1520280004428  ... 2018-03-05 20:00:04.428\n",
              "\n",
              "[5 rows x 10 columns]"
            ]
          },
          "metadata": {
            "tags": []
          },
          "execution_count": 47
        }
      ]
    },
    {
      "cell_type": "code",
      "metadata": {
        "id": "g96uPs6u5yOJ",
        "colab_type": "code",
        "colab": {
          "base_uri": "https://localhost:8080/",
          "height": 204
        },
        "outputId": "2c670872-81ae-4497-90f5-6151778d06a7"
      },
      "source": [
        "df_bol.dtypes"
      ],
      "execution_count": 48,
      "outputs": [
        {
          "output_type": "execute_result",
          "data": {
            "text/plain": [
              "epoch_ms                                int64\n",
              "session_id                             object\n",
              "country_by_ip_address                  object\n",
              "region_by_ip_address                   object\n",
              "url_without_parameters                 object\n",
              "referrer_without_parameters            object\n",
              "visitor_recognition_type               object\n",
              "ua_agent_class                         object\n",
              "labels                                 object\n",
              "date                           datetime64[ns]\n",
              "dtype: object"
            ]
          },
          "metadata": {
            "tags": []
          },
          "execution_count": 48
        }
      ]
    },
    {
      "cell_type": "markdown",
      "metadata": {
        "id": "rOCgewcQ52L0",
        "colab_type": "text"
      },
      "source": [
        "We have converted eoch to datetime\n",
        "\n",
        "- Still we have 2018-03-05 20:00:01.034 format. We better have a more useful format"
      ]
    },
    {
      "cell_type": "code",
      "metadata": {
        "id": "QuiwHjeM5_Tu",
        "colab_type": "code",
        "colab": {}
      },
      "source": [
        "df_bol['date'] = df_bol['date'].dt.date"
      ],
      "execution_count": 0,
      "outputs": []
    },
    {
      "cell_type": "code",
      "metadata": {
        "id": "IUV0cKe46Mfy",
        "colab_type": "code",
        "colab": {
          "base_uri": "https://localhost:8080/",
          "height": 119
        },
        "outputId": "de2b2ca1-3671-4431-d0d0-f9245cad66c5"
      },
      "source": [
        "df_bol.date[:5]"
      ],
      "execution_count": 50,
      "outputs": [
        {
          "output_type": "execute_result",
          "data": {
            "text/plain": [
              "0    2018-03-05\n",
              "1    2018-03-05\n",
              "2    2018-03-05\n",
              "3    2018-03-05\n",
              "4    2018-03-05\n",
              "Name: date, dtype: object"
            ]
          },
          "metadata": {
            "tags": []
          },
          "execution_count": 50
        }
      ]
    },
    {
      "cell_type": "code",
      "metadata": {
        "id": "0BwqPEKg2DlQ",
        "colab_type": "code",
        "colab": {}
      },
      "source": [
        "df_bol=df_bol.drop('epoch_ms', axis=1)"
      ],
      "execution_count": 0,
      "outputs": []
    },
    {
      "cell_type": "code",
      "metadata": {
        "id": "2CTE-WQeODE9",
        "colab_type": "code",
        "colab": {}
      },
      "source": [
        "df_bol['date']=(pd.to_datetime(df_bol['date']))"
      ],
      "execution_count": 0,
      "outputs": []
    },
    {
      "cell_type": "code",
      "metadata": {
        "id": "ZdXaA_WU2Dq4",
        "colab_type": "code",
        "colab": {
          "base_uri": "https://localhost:8080/",
          "height": 187
        },
        "outputId": "705c58b5-0ab4-43f0-fb64-0f1e0ad90289"
      },
      "source": [
        "df_bol.dtypes"
      ],
      "execution_count": 56,
      "outputs": [
        {
          "output_type": "execute_result",
          "data": {
            "text/plain": [
              "session_id                             object\n",
              "country_by_ip_address                  object\n",
              "region_by_ip_address                   object\n",
              "url_without_parameters                 object\n",
              "referrer_without_parameters            object\n",
              "visitor_recognition_type               object\n",
              "ua_agent_class                         object\n",
              "labels                                 object\n",
              "date                           datetime64[ns]\n",
              "dtype: object"
            ]
          },
          "metadata": {
            "tags": []
          },
          "execution_count": 56
        }
      ]
    },
    {
      "cell_type": "code",
      "metadata": {
        "id": "Zxw_-Jt5N5KW",
        "colab_type": "code",
        "colab": {}
      },
      "source": [
        "df_bol['year']=df_bol.date.dt.year"
      ],
      "execution_count": 0,
      "outputs": []
    },
    {
      "cell_type": "markdown",
      "metadata": {
        "id": "lZ991DJkNfcA",
        "colab_type": "text"
      },
      "source": [
        "### 3.8)- Visualize data"
      ]
    },
    {
      "cell_type": "code",
      "metadata": {
        "id": "YW7eME61PDPG",
        "colab_type": "code",
        "colab": {
          "base_uri": "https://localhost:8080/",
          "height": 204
        },
        "outputId": "c1a19475-2021-44ee-e716-b42b80cbaab4"
      },
      "source": [
        "new_df=df_bol[['labels','year']]\n",
        "new_df.head()"
      ],
      "execution_count": 70,
      "outputs": [
        {
          "output_type": "execute_result",
          "data": {
            "text/html": [
              "<div>\n",
              "<style scoped>\n",
              "    .dataframe tbody tr th:only-of-type {\n",
              "        vertical-align: middle;\n",
              "    }\n",
              "\n",
              "    .dataframe tbody tr th {\n",
              "        vertical-align: top;\n",
              "    }\n",
              "\n",
              "    .dataframe thead th {\n",
              "        text-align: right;\n",
              "    }\n",
              "</style>\n",
              "<table border=\"1\" class=\"dataframe\">\n",
              "  <thead>\n",
              "    <tr style=\"text-align: right;\">\n",
              "      <th></th>\n",
              "      <th>labels</th>\n",
              "      <th>year</th>\n",
              "    </tr>\n",
              "  </thead>\n",
              "  <tbody>\n",
              "    <tr>\n",
              "      <th>0</th>\n",
              "      <td>NHT</td>\n",
              "      <td>2018</td>\n",
              "    </tr>\n",
              "    <tr>\n",
              "      <th>1</th>\n",
              "      <td>NHT</td>\n",
              "      <td>2018</td>\n",
              "    </tr>\n",
              "    <tr>\n",
              "      <th>2</th>\n",
              "      <td>HT</td>\n",
              "      <td>2018</td>\n",
              "    </tr>\n",
              "    <tr>\n",
              "      <th>3</th>\n",
              "      <td>NHT</td>\n",
              "      <td>2018</td>\n",
              "    </tr>\n",
              "    <tr>\n",
              "      <th>4</th>\n",
              "      <td>NHT</td>\n",
              "      <td>2018</td>\n",
              "    </tr>\n",
              "  </tbody>\n",
              "</table>\n",
              "</div>"
            ],
            "text/plain": [
              "  labels  year\n",
              "0    NHT  2018\n",
              "1    NHT  2018\n",
              "2     HT  2018\n",
              "3    NHT  2018\n",
              "4    NHT  2018"
            ]
          },
          "metadata": {
            "tags": []
          },
          "execution_count": 70
        }
      ]
    },
    {
      "cell_type": "code",
      "metadata": {
        "id": "59ajCiZYOfEt",
        "colab_type": "code",
        "colab": {}
      },
      "source": [
        "# making dataframe for count visualization\n",
        "df_ct = (new_df.reset_index()\n",
        "          .groupby(['year','labels'], as_index=False)\n",
        "          .count()\n",
        "          # rename isn't strictly necessary here, it's just for readability\n",
        "          .rename(columns={'index':'ct'})\n",
        "       )"
      ],
      "execution_count": 0,
      "outputs": []
    },
    {
      "cell_type": "code",
      "metadata": {
        "id": "YGXnvTUaOfN1",
        "colab_type": "code",
        "colab": {
          "base_uri": "https://localhost:8080/",
          "height": 111
        },
        "outputId": "83b82113-a8df-4ed3-af7f-f8267c7148eb"
      },
      "source": [
        "df_ct"
      ],
      "execution_count": 72,
      "outputs": [
        {
          "output_type": "execute_result",
          "data": {
            "text/html": [
              "<div>\n",
              "<style scoped>\n",
              "    .dataframe tbody tr th:only-of-type {\n",
              "        vertical-align: middle;\n",
              "    }\n",
              "\n",
              "    .dataframe tbody tr th {\n",
              "        vertical-align: top;\n",
              "    }\n",
              "\n",
              "    .dataframe thead th {\n",
              "        text-align: right;\n",
              "    }\n",
              "</style>\n",
              "<table border=\"1\" class=\"dataframe\">\n",
              "  <thead>\n",
              "    <tr style=\"text-align: right;\">\n",
              "      <th></th>\n",
              "      <th>year</th>\n",
              "      <th>labels</th>\n",
              "      <th>ct</th>\n",
              "    </tr>\n",
              "  </thead>\n",
              "  <tbody>\n",
              "    <tr>\n",
              "      <th>0</th>\n",
              "      <td>2018</td>\n",
              "      <td>HT</td>\n",
              "      <td>38497</td>\n",
              "    </tr>\n",
              "    <tr>\n",
              "      <th>1</th>\n",
              "      <td>2018</td>\n",
              "      <td>NHT</td>\n",
              "      <td>21141</td>\n",
              "    </tr>\n",
              "  </tbody>\n",
              "</table>\n",
              "</div>"
            ],
            "text/plain": [
              "   year labels     ct\n",
              "0  2018     HT  38497\n",
              "1  2018    NHT  21141"
            ]
          },
          "metadata": {
            "tags": []
          },
          "execution_count": 72
        }
      ]
    },
    {
      "cell_type": "code",
      "metadata": {
        "id": "myOe-RWBNruz",
        "colab_type": "code",
        "colab": {
          "base_uri": "https://localhost:8080/",
          "height": 397
        },
        "outputId": "a82d9301-cc19-4bc3-b7bc-0a42eb2415c6"
      },
      "source": [
        "sns.barplot(x='year',y='ct',hue='labels', data=df_ct, palette='husl')"
      ],
      "execution_count": 79,
      "outputs": [
        {
          "output_type": "execute_result",
          "data": {
            "text/plain": [
              "<matplotlib.axes._subplots.AxesSubplot at 0x7f807847ee80>"
            ]
          },
          "metadata": {
            "tags": []
          },
          "execution_count": 79
        },
        {
          "output_type": "display_data",
          "data": {
            "text/plain": [
              "<Figure size 432x288 with 1 Axes>"
            ],
            "image/svg+xml": "<?xml version=\"1.0\" encoding=\"utf-8\" standalone=\"no\"?>\n<!DOCTYPE svg PUBLIC \"-//W3C//DTD SVG 1.1//EN\"\n  \"http://www.w3.org/Graphics/SVG/1.1/DTD/svg11.dtd\">\n<!-- Created with matplotlib (https://matplotlib.org/) -->\n<svg height=\"269.509584pt\" version=\"1.1\" viewBox=\"0 0 409.3075 269.509584\" width=\"409.3075pt\" xmlns=\"http://www.w3.org/2000/svg\" xmlns:xlink=\"http://www.w3.org/1999/xlink\">\n <defs>\n  <style type=\"text/css\">\n*{stroke-linecap:butt;stroke-linejoin:round;}\n  </style>\n </defs>\n <g id=\"figure_1\">\n  <g id=\"patch_1\">\n   <path d=\"M 0 269.509584 \nL 409.3075 269.509584 \nL 409.3075 0 \nL 0 0 \nz\n\" style=\"fill:none;\"/>\n  </g>\n  <g id=\"axes_1\">\n   <g id=\"patch_2\">\n    <path d=\"M 67.3075 226.549896 \nL 402.1075 226.549896 \nL 402.1075 9.109896 \nL 67.3075 9.109896 \nz\n\" style=\"fill:#eaeaf2;\"/>\n   </g>\n   <g id=\"matplotlib.axis_1\">\n    <g id=\"xtick_1\">\n     <g id=\"text_1\">\n      <!-- 2018 -->\n      <defs>\n       <path d=\"M 19.1875 8.296875 \nL 53.609375 8.296875 \nL 53.609375 0 \nL 7.328125 0 \nL 7.328125 8.296875 \nQ 12.9375 14.109375 22.625 23.890625 \nQ 32.328125 33.6875 34.8125 36.53125 \nQ 39.546875 41.84375 41.421875 45.53125 \nQ 43.3125 49.21875 43.3125 52.78125 \nQ 43.3125 58.59375 39.234375 62.25 \nQ 35.15625 65.921875 28.609375 65.921875 \nQ 23.96875 65.921875 18.8125 64.3125 \nQ 13.671875 62.703125 7.8125 59.421875 \nL 7.8125 69.390625 \nQ 13.765625 71.78125 18.9375 73 \nQ 24.125 74.21875 28.421875 74.21875 \nQ 39.75 74.21875 46.484375 68.546875 \nQ 53.21875 62.890625 53.21875 53.421875 \nQ 53.21875 48.921875 51.53125 44.890625 \nQ 49.859375 40.875 45.40625 35.40625 \nQ 44.1875 33.984375 37.640625 27.21875 \nQ 31.109375 20.453125 19.1875 8.296875 \nz\n\" id=\"DejaVuSans-50\"/>\n       <path d=\"M 31.78125 66.40625 \nQ 24.171875 66.40625 20.328125 58.90625 \nQ 16.5 51.421875 16.5 36.375 \nQ 16.5 21.390625 20.328125 13.890625 \nQ 24.171875 6.390625 31.78125 6.390625 \nQ 39.453125 6.390625 43.28125 13.890625 \nQ 47.125 21.390625 47.125 36.375 \nQ 47.125 51.421875 43.28125 58.90625 \nQ 39.453125 66.40625 31.78125 66.40625 \nz\nM 31.78125 74.21875 \nQ 44.046875 74.21875 50.515625 64.515625 \nQ 56.984375 54.828125 56.984375 36.375 \nQ 56.984375 17.96875 50.515625 8.265625 \nQ 44.046875 -1.421875 31.78125 -1.421875 \nQ 19.53125 -1.421875 13.0625 8.265625 \nQ 6.59375 17.96875 6.59375 36.375 \nQ 6.59375 54.828125 13.0625 64.515625 \nQ 19.53125 74.21875 31.78125 74.21875 \nz\n\" id=\"DejaVuSans-48\"/>\n       <path d=\"M 12.40625 8.296875 \nL 28.515625 8.296875 \nL 28.515625 63.921875 \nL 10.984375 60.40625 \nL 10.984375 69.390625 \nL 28.421875 72.90625 \nL 38.28125 72.90625 \nL 38.28125 8.296875 \nL 54.390625 8.296875 \nL 54.390625 0 \nL 12.40625 0 \nz\n\" id=\"DejaVuSans-49\"/>\n       <path d=\"M 31.78125 34.625 \nQ 24.75 34.625 20.71875 30.859375 \nQ 16.703125 27.09375 16.703125 20.515625 \nQ 16.703125 13.921875 20.71875 10.15625 \nQ 24.75 6.390625 31.78125 6.390625 \nQ 38.8125 6.390625 42.859375 10.171875 \nQ 46.921875 13.96875 46.921875 20.515625 \nQ 46.921875 27.09375 42.890625 30.859375 \nQ 38.875 34.625 31.78125 34.625 \nz\nM 21.921875 38.8125 \nQ 15.578125 40.375 12.03125 44.71875 \nQ 8.5 49.078125 8.5 55.328125 \nQ 8.5 64.0625 14.71875 69.140625 \nQ 20.953125 74.21875 31.78125 74.21875 \nQ 42.671875 74.21875 48.875 69.140625 \nQ 55.078125 64.0625 55.078125 55.328125 \nQ 55.078125 49.078125 51.53125 44.71875 \nQ 48 40.375 41.703125 38.8125 \nQ 48.828125 37.15625 52.796875 32.3125 \nQ 56.78125 27.484375 56.78125 20.515625 \nQ 56.78125 9.90625 50.3125 4.234375 \nQ 43.84375 -1.421875 31.78125 -1.421875 \nQ 19.734375 -1.421875 13.25 4.234375 \nQ 6.78125 9.90625 6.78125 20.515625 \nQ 6.78125 27.484375 10.78125 32.3125 \nQ 14.796875 37.15625 21.921875 38.8125 \nz\nM 18.3125 54.390625 \nQ 18.3125 48.734375 21.84375 45.5625 \nQ 25.390625 42.390625 31.78125 42.390625 \nQ 38.140625 42.390625 41.71875 45.5625 \nQ 45.3125 48.734375 45.3125 54.390625 \nQ 45.3125 60.0625 41.71875 63.234375 \nQ 38.140625 66.40625 31.78125 66.40625 \nQ 25.390625 66.40625 21.84375 63.234375 \nQ 18.3125 60.0625 18.3125 54.390625 \nz\n\" id=\"DejaVuSans-56\"/>\n      </defs>\n      <g style=\"fill:#262626;\" transform=\"translate(220.71 244.408177)scale(0.11 -0.11)\">\n       <use xlink:href=\"#DejaVuSans-50\"/>\n       <use x=\"63.623047\" xlink:href=\"#DejaVuSans-48\"/>\n       <use x=\"127.246094\" xlink:href=\"#DejaVuSans-49\"/>\n       <use x=\"190.869141\" xlink:href=\"#DejaVuSans-56\"/>\n      </g>\n     </g>\n    </g>\n    <g id=\"text_2\">\n     <!-- year -->\n     <defs>\n      <path d=\"M 32.171875 -5.078125 \nQ 28.375 -14.84375 24.75 -17.8125 \nQ 21.140625 -20.796875 15.09375 -20.796875 \nL 7.90625 -20.796875 \nL 7.90625 -13.28125 \nL 13.1875 -13.28125 \nQ 16.890625 -13.28125 18.9375 -11.515625 \nQ 21 -9.765625 23.484375 -3.21875 \nL 25.09375 0.875 \nL 2.984375 54.6875 \nL 12.5 54.6875 \nL 29.59375 11.921875 \nL 46.6875 54.6875 \nL 56.203125 54.6875 \nz\n\" id=\"DejaVuSans-121\"/>\n      <path d=\"M 56.203125 29.59375 \nL 56.203125 25.203125 \nL 14.890625 25.203125 \nQ 15.484375 15.921875 20.484375 11.0625 \nQ 25.484375 6.203125 34.421875 6.203125 \nQ 39.59375 6.203125 44.453125 7.46875 \nQ 49.3125 8.734375 54.109375 11.28125 \nL 54.109375 2.78125 \nQ 49.265625 0.734375 44.1875 -0.34375 \nQ 39.109375 -1.421875 33.890625 -1.421875 \nQ 20.796875 -1.421875 13.15625 6.1875 \nQ 5.515625 13.8125 5.515625 26.8125 \nQ 5.515625 40.234375 12.765625 48.109375 \nQ 20.015625 56 32.328125 56 \nQ 43.359375 56 49.78125 48.890625 \nQ 56.203125 41.796875 56.203125 29.59375 \nz\nM 47.21875 32.234375 \nQ 47.125 39.59375 43.09375 43.984375 \nQ 39.0625 48.390625 32.421875 48.390625 \nQ 24.90625 48.390625 20.390625 44.140625 \nQ 15.875 39.890625 15.1875 32.171875 \nz\n\" id=\"DejaVuSans-101\"/>\n      <path d=\"M 34.28125 27.484375 \nQ 23.390625 27.484375 19.1875 25 \nQ 14.984375 22.515625 14.984375 16.5 \nQ 14.984375 11.71875 18.140625 8.90625 \nQ 21.296875 6.109375 26.703125 6.109375 \nQ 34.1875 6.109375 38.703125 11.40625 \nQ 43.21875 16.703125 43.21875 25.484375 \nL 43.21875 27.484375 \nz\nM 52.203125 31.203125 \nL 52.203125 0 \nL 43.21875 0 \nL 43.21875 8.296875 \nQ 40.140625 3.328125 35.546875 0.953125 \nQ 30.953125 -1.421875 24.3125 -1.421875 \nQ 15.921875 -1.421875 10.953125 3.296875 \nQ 6 8.015625 6 15.921875 \nQ 6 25.140625 12.171875 29.828125 \nQ 18.359375 34.515625 30.609375 34.515625 \nL 43.21875 34.515625 \nL 43.21875 35.40625 \nQ 43.21875 41.609375 39.140625 45 \nQ 35.0625 48.390625 27.6875 48.390625 \nQ 23 48.390625 18.546875 47.265625 \nQ 14.109375 46.140625 10.015625 43.890625 \nL 10.015625 52.203125 \nQ 14.9375 54.109375 19.578125 55.046875 \nQ 24.21875 56 28.609375 56 \nQ 40.484375 56 46.34375 49.84375 \nQ 52.203125 43.703125 52.203125 31.203125 \nz\n\" id=\"DejaVuSans-97\"/>\n      <path d=\"M 41.109375 46.296875 \nQ 39.59375 47.171875 37.8125 47.578125 \nQ 36.03125 48 33.890625 48 \nQ 26.265625 48 22.1875 43.046875 \nQ 18.109375 38.09375 18.109375 28.8125 \nL 18.109375 0 \nL 9.078125 0 \nL 9.078125 54.6875 \nL 18.109375 54.6875 \nL 18.109375 46.1875 \nQ 20.953125 51.171875 25.484375 53.578125 \nQ 30.03125 56 36.53125 56 \nQ 37.453125 56 38.578125 55.875 \nQ 39.703125 55.765625 41.0625 55.515625 \nz\n\" id=\"DejaVuSans-114\"/>\n     </defs>\n     <g style=\"fill:#262626;\" transform=\"translate(221.320938 259.813959)scale(0.12 -0.12)\">\n      <use xlink:href=\"#DejaVuSans-121\"/>\n      <use x=\"59.179688\" xlink:href=\"#DejaVuSans-101\"/>\n      <use x=\"120.703125\" xlink:href=\"#DejaVuSans-97\"/>\n      <use x=\"181.982422\" xlink:href=\"#DejaVuSans-114\"/>\n     </g>\n    </g>\n   </g>\n   <g id=\"matplotlib.axis_2\">\n    <g id=\"ytick_1\">\n     <g id=\"line2d_1\">\n      <path clip-path=\"url(#pda4926702f)\" d=\"M 67.3075 226.549896 \nL 402.1075 226.549896 \n\" style=\"fill:none;stroke:#ffffff;stroke-linecap:round;\"/>\n     </g>\n     <g id=\"text_3\">\n      <!-- 0 -->\n      <g style=\"fill:#262626;\" transform=\"translate(50.80875 230.729037)scale(0.11 -0.11)\">\n       <use xlink:href=\"#DejaVuSans-48\"/>\n      </g>\n     </g>\n    </g>\n    <g id=\"ytick_2\">\n     <g id=\"line2d_2\">\n      <path clip-path=\"url(#pda4926702f)\" d=\"M 67.3075 199.653552 \nL 402.1075 199.653552 \n\" style=\"fill:none;stroke:#ffffff;stroke-linecap:round;\"/>\n     </g>\n     <g id=\"text_4\">\n      <!-- 5000 -->\n      <defs>\n       <path d=\"M 10.796875 72.90625 \nL 49.515625 72.90625 \nL 49.515625 64.59375 \nL 19.828125 64.59375 \nL 19.828125 46.734375 \nQ 21.96875 47.46875 24.109375 47.828125 \nQ 26.265625 48.1875 28.421875 48.1875 \nQ 40.625 48.1875 47.75 41.5 \nQ 54.890625 34.8125 54.890625 23.390625 \nQ 54.890625 11.625 47.5625 5.09375 \nQ 40.234375 -1.421875 26.90625 -1.421875 \nQ 22.3125 -1.421875 17.546875 -0.640625 \nQ 12.796875 0.140625 7.71875 1.703125 \nL 7.71875 11.625 \nQ 12.109375 9.234375 16.796875 8.0625 \nQ 21.484375 6.890625 26.703125 6.890625 \nQ 35.15625 6.890625 40.078125 11.328125 \nQ 45.015625 15.765625 45.015625 23.390625 \nQ 45.015625 31 40.078125 35.4375 \nQ 35.15625 39.890625 26.703125 39.890625 \nQ 22.75 39.890625 18.8125 39.015625 \nQ 14.890625 38.140625 10.796875 36.28125 \nz\n\" id=\"DejaVuSans-53\"/>\n      </defs>\n      <g style=\"fill:#262626;\" transform=\"translate(29.8125 203.832692)scale(0.11 -0.11)\">\n       <use xlink:href=\"#DejaVuSans-53\"/>\n       <use x=\"63.623047\" xlink:href=\"#DejaVuSans-48\"/>\n       <use x=\"127.246094\" xlink:href=\"#DejaVuSans-48\"/>\n       <use x=\"190.869141\" xlink:href=\"#DejaVuSans-48\"/>\n      </g>\n     </g>\n    </g>\n    <g id=\"ytick_3\">\n     <g id=\"line2d_3\">\n      <path clip-path=\"url(#pda4926702f)\" d=\"M 67.3075 172.757207 \nL 402.1075 172.757207 \n\" style=\"fill:none;stroke:#ffffff;stroke-linecap:round;\"/>\n     </g>\n     <g id=\"text_5\">\n      <!-- 10000 -->\n      <g style=\"fill:#262626;\" transform=\"translate(22.81375 176.936348)scale(0.11 -0.11)\">\n       <use xlink:href=\"#DejaVuSans-49\"/>\n       <use x=\"63.623047\" xlink:href=\"#DejaVuSans-48\"/>\n       <use x=\"127.246094\" xlink:href=\"#DejaVuSans-48\"/>\n       <use x=\"190.869141\" xlink:href=\"#DejaVuSans-48\"/>\n       <use x=\"254.492188\" xlink:href=\"#DejaVuSans-48\"/>\n      </g>\n     </g>\n    </g>\n    <g id=\"ytick_4\">\n     <g id=\"line2d_4\">\n      <path clip-path=\"url(#pda4926702f)\" d=\"M 67.3075 145.860863 \nL 402.1075 145.860863 \n\" style=\"fill:none;stroke:#ffffff;stroke-linecap:round;\"/>\n     </g>\n     <g id=\"text_6\">\n      <!-- 15000 -->\n      <g style=\"fill:#262626;\" transform=\"translate(22.81375 150.040003)scale(0.11 -0.11)\">\n       <use xlink:href=\"#DejaVuSans-49\"/>\n       <use x=\"63.623047\" xlink:href=\"#DejaVuSans-53\"/>\n       <use x=\"127.246094\" xlink:href=\"#DejaVuSans-48\"/>\n       <use x=\"190.869141\" xlink:href=\"#DejaVuSans-48\"/>\n       <use x=\"254.492188\" xlink:href=\"#DejaVuSans-48\"/>\n      </g>\n     </g>\n    </g>\n    <g id=\"ytick_5\">\n     <g id=\"line2d_5\">\n      <path clip-path=\"url(#pda4926702f)\" d=\"M 67.3075 118.964518 \nL 402.1075 118.964518 \n\" style=\"fill:none;stroke:#ffffff;stroke-linecap:round;\"/>\n     </g>\n     <g id=\"text_7\">\n      <!-- 20000 -->\n      <g style=\"fill:#262626;\" transform=\"translate(22.81375 123.143659)scale(0.11 -0.11)\">\n       <use xlink:href=\"#DejaVuSans-50\"/>\n       <use x=\"63.623047\" xlink:href=\"#DejaVuSans-48\"/>\n       <use x=\"127.246094\" xlink:href=\"#DejaVuSans-48\"/>\n       <use x=\"190.869141\" xlink:href=\"#DejaVuSans-48\"/>\n       <use x=\"254.492188\" xlink:href=\"#DejaVuSans-48\"/>\n      </g>\n     </g>\n    </g>\n    <g id=\"ytick_6\">\n     <g id=\"line2d_6\">\n      <path clip-path=\"url(#pda4926702f)\" d=\"M 67.3075 92.068174 \nL 402.1075 92.068174 \n\" style=\"fill:none;stroke:#ffffff;stroke-linecap:round;\"/>\n     </g>\n     <g id=\"text_8\">\n      <!-- 25000 -->\n      <g style=\"fill:#262626;\" transform=\"translate(22.81375 96.247315)scale(0.11 -0.11)\">\n       <use xlink:href=\"#DejaVuSans-50\"/>\n       <use x=\"63.623047\" xlink:href=\"#DejaVuSans-53\"/>\n       <use x=\"127.246094\" xlink:href=\"#DejaVuSans-48\"/>\n       <use x=\"190.869141\" xlink:href=\"#DejaVuSans-48\"/>\n       <use x=\"254.492188\" xlink:href=\"#DejaVuSans-48\"/>\n      </g>\n     </g>\n    </g>\n    <g id=\"ytick_7\">\n     <g id=\"line2d_7\">\n      <path clip-path=\"url(#pda4926702f)\" d=\"M 67.3075 65.171829 \nL 402.1075 65.171829 \n\" style=\"fill:none;stroke:#ffffff;stroke-linecap:round;\"/>\n     </g>\n     <g id=\"text_9\">\n      <!-- 30000 -->\n      <defs>\n       <path d=\"M 40.578125 39.3125 \nQ 47.65625 37.796875 51.625 33 \nQ 55.609375 28.21875 55.609375 21.1875 \nQ 55.609375 10.40625 48.1875 4.484375 \nQ 40.765625 -1.421875 27.09375 -1.421875 \nQ 22.515625 -1.421875 17.65625 -0.515625 \nQ 12.796875 0.390625 7.625 2.203125 \nL 7.625 11.71875 \nQ 11.71875 9.328125 16.59375 8.109375 \nQ 21.484375 6.890625 26.8125 6.890625 \nQ 36.078125 6.890625 40.9375 10.546875 \nQ 45.796875 14.203125 45.796875 21.1875 \nQ 45.796875 27.640625 41.28125 31.265625 \nQ 36.765625 34.90625 28.71875 34.90625 \nL 20.21875 34.90625 \nL 20.21875 43.015625 \nL 29.109375 43.015625 \nQ 36.375 43.015625 40.234375 45.921875 \nQ 44.09375 48.828125 44.09375 54.296875 \nQ 44.09375 59.90625 40.109375 62.90625 \nQ 36.140625 65.921875 28.71875 65.921875 \nQ 24.65625 65.921875 20.015625 65.03125 \nQ 15.375 64.15625 9.8125 62.3125 \nL 9.8125 71.09375 \nQ 15.4375 72.65625 20.34375 73.4375 \nQ 25.25 74.21875 29.59375 74.21875 \nQ 40.828125 74.21875 47.359375 69.109375 \nQ 53.90625 64.015625 53.90625 55.328125 \nQ 53.90625 49.265625 50.4375 45.09375 \nQ 46.96875 40.921875 40.578125 39.3125 \nz\n\" id=\"DejaVuSans-51\"/>\n      </defs>\n      <g style=\"fill:#262626;\" transform=\"translate(22.81375 69.35097)scale(0.11 -0.11)\">\n       <use xlink:href=\"#DejaVuSans-51\"/>\n       <use x=\"63.623047\" xlink:href=\"#DejaVuSans-48\"/>\n       <use x=\"127.246094\" xlink:href=\"#DejaVuSans-48\"/>\n       <use x=\"190.869141\" xlink:href=\"#DejaVuSans-48\"/>\n       <use x=\"254.492188\" xlink:href=\"#DejaVuSans-48\"/>\n      </g>\n     </g>\n    </g>\n    <g id=\"ytick_8\">\n     <g id=\"line2d_8\">\n      <path clip-path=\"url(#pda4926702f)\" d=\"M 67.3075 38.275485 \nL 402.1075 38.275485 \n\" style=\"fill:none;stroke:#ffffff;stroke-linecap:round;\"/>\n     </g>\n     <g id=\"text_10\">\n      <!-- 35000 -->\n      <g style=\"fill:#262626;\" transform=\"translate(22.81375 42.454626)scale(0.11 -0.11)\">\n       <use xlink:href=\"#DejaVuSans-51\"/>\n       <use x=\"63.623047\" xlink:href=\"#DejaVuSans-53\"/>\n       <use x=\"127.246094\" xlink:href=\"#DejaVuSans-48\"/>\n       <use x=\"190.869141\" xlink:href=\"#DejaVuSans-48\"/>\n       <use x=\"254.492188\" xlink:href=\"#DejaVuSans-48\"/>\n      </g>\n     </g>\n    </g>\n    <g id=\"ytick_9\">\n     <g id=\"line2d_9\">\n      <path clip-path=\"url(#pda4926702f)\" d=\"M 67.3075 11.379141 \nL 402.1075 11.379141 \n\" style=\"fill:none;stroke:#ffffff;stroke-linecap:round;\"/>\n     </g>\n     <g id=\"text_11\">\n      <!-- 40000 -->\n      <defs>\n       <path d=\"M 37.796875 64.3125 \nL 12.890625 25.390625 \nL 37.796875 25.390625 \nz\nM 35.203125 72.90625 \nL 47.609375 72.90625 \nL 47.609375 25.390625 \nL 58.015625 25.390625 \nL 58.015625 17.1875 \nL 47.609375 17.1875 \nL 47.609375 0 \nL 37.796875 0 \nL 37.796875 17.1875 \nL 4.890625 17.1875 \nL 4.890625 26.703125 \nz\n\" id=\"DejaVuSans-52\"/>\n      </defs>\n      <g style=\"fill:#262626;\" transform=\"translate(22.81375 15.558281)scale(0.11 -0.11)\">\n       <use xlink:href=\"#DejaVuSans-52\"/>\n       <use x=\"63.623047\" xlink:href=\"#DejaVuSans-48\"/>\n       <use x=\"127.246094\" xlink:href=\"#DejaVuSans-48\"/>\n       <use x=\"190.869141\" xlink:href=\"#DejaVuSans-48\"/>\n       <use x=\"254.492188\" xlink:href=\"#DejaVuSans-48\"/>\n      </g>\n     </g>\n    </g>\n    <g id=\"text_12\">\n     <!-- ct -->\n     <defs>\n      <path d=\"M 48.78125 52.59375 \nL 48.78125 44.1875 \nQ 44.96875 46.296875 41.140625 47.34375 \nQ 37.3125 48.390625 33.40625 48.390625 \nQ 24.65625 48.390625 19.8125 42.84375 \nQ 14.984375 37.3125 14.984375 27.296875 \nQ 14.984375 17.28125 19.8125 11.734375 \nQ 24.65625 6.203125 33.40625 6.203125 \nQ 37.3125 6.203125 41.140625 7.25 \nQ 44.96875 8.296875 48.78125 10.40625 \nL 48.78125 2.09375 \nQ 45.015625 0.34375 40.984375 -0.53125 \nQ 36.96875 -1.421875 32.421875 -1.421875 \nQ 20.0625 -1.421875 12.78125 6.34375 \nQ 5.515625 14.109375 5.515625 27.296875 \nQ 5.515625 40.671875 12.859375 48.328125 \nQ 20.21875 56 33.015625 56 \nQ 37.15625 56 41.109375 55.140625 \nQ 45.0625 54.296875 48.78125 52.59375 \nz\n\" id=\"DejaVuSans-99\"/>\n      <path d=\"M 18.3125 70.21875 \nL 18.3125 54.6875 \nL 36.8125 54.6875 \nL 36.8125 47.703125 \nL 18.3125 47.703125 \nL 18.3125 18.015625 \nQ 18.3125 11.328125 20.140625 9.421875 \nQ 21.96875 7.515625 27.59375 7.515625 \nL 36.8125 7.515625 \nL 36.8125 0 \nL 27.59375 0 \nQ 17.1875 0 13.234375 3.875 \nQ 9.28125 7.765625 9.28125 18.015625 \nL 9.28125 47.703125 \nL 2.6875 47.703125 \nL 2.6875 54.6875 \nL 9.28125 54.6875 \nL 9.28125 70.21875 \nz\n\" id=\"DejaVuSans-116\"/>\n     </defs>\n     <g style=\"fill:#262626;\" transform=\"translate(16.318125 123.481146)rotate(-90)scale(0.12 -0.12)\">\n      <use xlink:href=\"#DejaVuSans-99\"/>\n      <use x=\"54.980469\" xlink:href=\"#DejaVuSans-116\"/>\n     </g>\n    </g>\n   </g>\n   <g id=\"patch_3\">\n    <path clip-path=\"url(#pda4926702f)\" d=\"M 100.7875 226.549896 \nL 234.7075 226.549896 \nL 234.7075 19.464182 \nL 100.7875 19.464182 \nz\n\" style=\"fill:#e68193;stroke:#ffffff;stroke-linejoin:miter;\"/>\n   </g>\n   <g id=\"patch_4\">\n    <path clip-path=\"url(#pda4926702f)\" d=\"M 234.7075 226.549896 \nL 368.6275 226.549896 \nL 368.6275 112.826773 \nL 234.7075 112.826773 \nz\n\" style=\"fill:#459e97;stroke:#ffffff;stroke-linejoin:miter;\"/>\n   </g>\n   <g id=\"line2d_10\">\n    <path clip-path=\"url(#pda4926702f)\" style=\"fill:none;stroke:#424242;stroke-linecap:round;stroke-width:2.7;\"/>\n   </g>\n   <g id=\"line2d_11\">\n    <path clip-path=\"url(#pda4926702f)\" style=\"fill:none;stroke:#424242;stroke-linecap:round;stroke-width:2.7;\"/>\n   </g>\n   <g id=\"patch_5\">\n    <path d=\"M 67.3075 226.549896 \nL 67.3075 9.109896 \n\" style=\"fill:none;stroke:#ffffff;stroke-linecap:square;stroke-linejoin:miter;stroke-width:1.25;\"/>\n   </g>\n   <g id=\"patch_6\">\n    <path d=\"M 402.1075 226.549896 \nL 402.1075 9.109896 \n\" style=\"fill:none;stroke:#ffffff;stroke-linecap:square;stroke-linejoin:miter;stroke-width:1.25;\"/>\n   </g>\n   <g id=\"patch_7\">\n    <path d=\"M 67.3075 226.549896 \nL 402.1075 226.549896 \n\" style=\"fill:none;stroke:#ffffff;stroke-linecap:square;stroke-linejoin:miter;stroke-width:1.25;\"/>\n   </g>\n   <g id=\"patch_8\">\n    <path d=\"M 67.3075 9.109896 \nL 402.1075 9.109896 \n\" style=\"fill:none;stroke:#ffffff;stroke-linecap:square;stroke-linejoin:miter;stroke-width:1.25;\"/>\n   </g>\n   <g id=\"legend_1\">\n    <g id=\"patch_9\">\n     <path d=\"M 335.987188 65.573459 \nL 394.4075 65.573459 \nQ 396.6075 65.573459 396.6075 63.373459 \nL 396.6075 16.809896 \nQ 396.6075 14.609896 394.4075 14.609896 \nL 335.987188 14.609896 \nQ 333.787188 14.609896 333.787188 16.809896 \nL 333.787188 63.373459 \nQ 333.787188 65.573459 335.987188 65.573459 \nz\n\" style=\"fill:#eaeaf2;opacity:0.8;stroke:#cccccc;stroke-linejoin:miter;\"/>\n    </g>\n    <g id=\"text_13\">\n     <!-- labels -->\n     <defs>\n      <path d=\"M 9.421875 75.984375 \nL 18.40625 75.984375 \nL 18.40625 0 \nL 9.421875 0 \nz\n\" id=\"DejaVuSans-108\"/>\n      <path d=\"M 48.6875 27.296875 \nQ 48.6875 37.203125 44.609375 42.84375 \nQ 40.53125 48.484375 33.40625 48.484375 \nQ 26.265625 48.484375 22.1875 42.84375 \nQ 18.109375 37.203125 18.109375 27.296875 \nQ 18.109375 17.390625 22.1875 11.75 \nQ 26.265625 6.109375 33.40625 6.109375 \nQ 40.53125 6.109375 44.609375 11.75 \nQ 48.6875 17.390625 48.6875 27.296875 \nz\nM 18.109375 46.390625 \nQ 20.953125 51.265625 25.265625 53.625 \nQ 29.59375 56 35.59375 56 \nQ 45.5625 56 51.78125 48.09375 \nQ 58.015625 40.1875 58.015625 27.296875 \nQ 58.015625 14.40625 51.78125 6.484375 \nQ 45.5625 -1.421875 35.59375 -1.421875 \nQ 29.59375 -1.421875 25.265625 0.953125 \nQ 20.953125 3.328125 18.109375 8.203125 \nL 18.109375 0 \nL 9.078125 0 \nL 9.078125 75.984375 \nL 18.109375 75.984375 \nz\n\" id=\"DejaVuSans-98\"/>\n      <path d=\"M 44.28125 53.078125 \nL 44.28125 44.578125 \nQ 40.484375 46.53125 36.375 47.5 \nQ 32.28125 48.484375 27.875 48.484375 \nQ 21.1875 48.484375 17.84375 46.4375 \nQ 14.5 44.390625 14.5 40.28125 \nQ 14.5 37.15625 16.890625 35.375 \nQ 19.28125 33.59375 26.515625 31.984375 \nL 29.59375 31.296875 \nQ 39.15625 29.25 43.1875 25.515625 \nQ 47.21875 21.78125 47.21875 15.09375 \nQ 47.21875 7.46875 41.1875 3.015625 \nQ 35.15625 -1.421875 24.609375 -1.421875 \nQ 20.21875 -1.421875 15.453125 -0.5625 \nQ 10.6875 0.296875 5.421875 2 \nL 5.421875 11.28125 \nQ 10.40625 8.6875 15.234375 7.390625 \nQ 20.0625 6.109375 24.8125 6.109375 \nQ 31.15625 6.109375 34.5625 8.28125 \nQ 37.984375 10.453125 37.984375 14.40625 \nQ 37.984375 18.0625 35.515625 20.015625 \nQ 33.0625 21.96875 24.703125 23.78125 \nL 21.578125 24.515625 \nQ 13.234375 26.265625 9.515625 29.90625 \nQ 5.8125 33.546875 5.8125 39.890625 \nQ 5.8125 47.609375 11.28125 51.796875 \nQ 16.75 56 26.8125 56 \nQ 31.78125 56 36.171875 55.265625 \nQ 40.578125 54.546875 44.28125 53.078125 \nz\n\" id=\"DejaVuSans-115\"/>\n     </defs>\n     <g style=\"fill:#262626;\" transform=\"translate(350.205734 26.760302)scale(0.102 -0.102)\">\n      <use xlink:href=\"#DejaVuSans-108\"/>\n      <use x=\"27.783203\" xlink:href=\"#DejaVuSans-97\"/>\n      <use x=\"89.0625\" xlink:href=\"#DejaVuSans-98\"/>\n      <use x=\"152.539062\" xlink:href=\"#DejaVuSans-101\"/>\n      <use x=\"214.0625\" xlink:href=\"#DejaVuSans-108\"/>\n      <use x=\"241.845703\" xlink:href=\"#DejaVuSans-115\"/>\n     </g>\n    </g>\n    <g id=\"patch_10\">\n     <path d=\"M 338.187187 42.739865 \nL 360.187187 42.739865 \nL 360.187187 35.039865 \nL 338.187187 35.039865 \nz\n\" style=\"fill:#e68193;stroke:#ffffff;stroke-linejoin:miter;\"/>\n    </g>\n    <g id=\"text_14\">\n     <!-- HT -->\n     <defs>\n      <path d=\"M 9.8125 72.90625 \nL 19.671875 72.90625 \nL 19.671875 43.015625 \nL 55.515625 43.015625 \nL 55.515625 72.90625 \nL 65.375 72.90625 \nL 65.375 0 \nL 55.515625 0 \nL 55.515625 34.71875 \nL 19.671875 34.71875 \nL 19.671875 0 \nL 9.8125 0 \nz\n\" id=\"DejaVuSans-72\"/>\n      <path d=\"M -0.296875 72.90625 \nL 61.375 72.90625 \nL 61.375 64.59375 \nL 35.5 64.59375 \nL 35.5 0 \nL 25.59375 0 \nL 25.59375 64.59375 \nL -0.296875 64.59375 \nz\n\" id=\"DejaVuSans-84\"/>\n     </defs>\n     <g style=\"fill:#262626;\" transform=\"translate(368.987188 42.739865)scale(0.11 -0.11)\">\n      <use xlink:href=\"#DejaVuSans-72\"/>\n      <use x=\"75.195312\" xlink:href=\"#DejaVuSans-84\"/>\n     </g>\n    </g>\n    <g id=\"patch_11\">\n     <path d=\"M 338.187187 58.885802 \nL 360.187187 58.885802 \nL 360.187187 51.185802 \nL 338.187187 51.185802 \nz\n\" style=\"fill:#459e97;stroke:#ffffff;stroke-linejoin:miter;\"/>\n    </g>\n    <g id=\"text_15\">\n     <!-- NHT -->\n     <defs>\n      <path d=\"M 9.8125 72.90625 \nL 23.09375 72.90625 \nL 55.421875 11.921875 \nL 55.421875 72.90625 \nL 64.984375 72.90625 \nL 64.984375 0 \nL 51.703125 0 \nL 19.390625 60.984375 \nL 19.390625 0 \nL 9.8125 0 \nz\n\" id=\"DejaVuSans-78\"/>\n     </defs>\n     <g style=\"fill:#262626;\" transform=\"translate(368.987188 58.885802)scale(0.11 -0.11)\">\n      <use xlink:href=\"#DejaVuSans-78\"/>\n      <use x=\"74.804688\" xlink:href=\"#DejaVuSans-72\"/>\n      <use x=\"150\" xlink:href=\"#DejaVuSans-84\"/>\n     </g>\n    </g>\n   </g>\n  </g>\n </g>\n <defs>\n  <clipPath id=\"pda4926702f\">\n   <rect height=\"217.44\" width=\"334.8\" x=\"67.3075\" y=\"9.109896\"/>\n  </clipPath>\n </defs>\n</svg>\n"
          },
          "metadata": {
            "tags": []
          }
        }
      ]
    },
    {
      "cell_type": "markdown",
      "metadata": {
        "id": "-APmc7YwWICT",
        "colab_type": "text"
      },
      "source": [
        "**Use month by month**"
      ]
    },
    {
      "cell_type": "code",
      "metadata": {
        "id": "6UobAcQzWSX8",
        "colab_type": "code",
        "colab": {}
      },
      "source": [
        "df_bol['month']=df_bol['date'].dt.month"
      ],
      "execution_count": 0,
      "outputs": []
    },
    {
      "cell_type": "code",
      "metadata": {
        "id": "x5HLS_Y_WOBT",
        "colab_type": "code",
        "colab": {
          "base_uri": "https://localhost:8080/",
          "height": 204
        },
        "outputId": "3bf00915-636d-4cd6-91fd-02cd16380219"
      },
      "source": [
        "df_month=df_bol[['labels','month']]\n",
        "df_month.head()"
      ],
      "execution_count": 83,
      "outputs": [
        {
          "output_type": "execute_result",
          "data": {
            "text/html": [
              "<div>\n",
              "<style scoped>\n",
              "    .dataframe tbody tr th:only-of-type {\n",
              "        vertical-align: middle;\n",
              "    }\n",
              "\n",
              "    .dataframe tbody tr th {\n",
              "        vertical-align: top;\n",
              "    }\n",
              "\n",
              "    .dataframe thead th {\n",
              "        text-align: right;\n",
              "    }\n",
              "</style>\n",
              "<table border=\"1\" class=\"dataframe\">\n",
              "  <thead>\n",
              "    <tr style=\"text-align: right;\">\n",
              "      <th></th>\n",
              "      <th>labels</th>\n",
              "      <th>month</th>\n",
              "    </tr>\n",
              "  </thead>\n",
              "  <tbody>\n",
              "    <tr>\n",
              "      <th>0</th>\n",
              "      <td>NHT</td>\n",
              "      <td>3</td>\n",
              "    </tr>\n",
              "    <tr>\n",
              "      <th>1</th>\n",
              "      <td>NHT</td>\n",
              "      <td>3</td>\n",
              "    </tr>\n",
              "    <tr>\n",
              "      <th>2</th>\n",
              "      <td>HT</td>\n",
              "      <td>3</td>\n",
              "    </tr>\n",
              "    <tr>\n",
              "      <th>3</th>\n",
              "      <td>NHT</td>\n",
              "      <td>3</td>\n",
              "    </tr>\n",
              "    <tr>\n",
              "      <th>4</th>\n",
              "      <td>NHT</td>\n",
              "      <td>3</td>\n",
              "    </tr>\n",
              "  </tbody>\n",
              "</table>\n",
              "</div>"
            ],
            "text/plain": [
              "  labels  month\n",
              "0    NHT      3\n",
              "1    NHT      3\n",
              "2     HT      3\n",
              "3    NHT      3\n",
              "4    NHT      3"
            ]
          },
          "metadata": {
            "tags": []
          },
          "execution_count": 83
        }
      ]
    },
    {
      "cell_type": "code",
      "metadata": {
        "id": "XE2c6rqUWOD9",
        "colab_type": "code",
        "colab": {}
      },
      "source": [
        "df_ct = (df_month.reset_index()\n",
        "          .groupby(['month','labels'], as_index=False)\n",
        "          .count()\n",
        "          # rename isn't strictly necessary here, it's just for readability\n",
        "          .rename(columns={'index':'ct'})\n",
        "       )"
      ],
      "execution_count": 0,
      "outputs": []
    },
    {
      "cell_type": "code",
      "metadata": {
        "id": "h_O10VRAWOG6",
        "colab_type": "code",
        "colab": {
          "base_uri": "https://localhost:8080/",
          "height": 111
        },
        "outputId": "97c790fb-f7c9-494d-e4fc-d46231a00bc6"
      },
      "source": [
        "df_ct"
      ],
      "execution_count": 86,
      "outputs": [
        {
          "output_type": "execute_result",
          "data": {
            "text/html": [
              "<div>\n",
              "<style scoped>\n",
              "    .dataframe tbody tr th:only-of-type {\n",
              "        vertical-align: middle;\n",
              "    }\n",
              "\n",
              "    .dataframe tbody tr th {\n",
              "        vertical-align: top;\n",
              "    }\n",
              "\n",
              "    .dataframe thead th {\n",
              "        text-align: right;\n",
              "    }\n",
              "</style>\n",
              "<table border=\"1\" class=\"dataframe\">\n",
              "  <thead>\n",
              "    <tr style=\"text-align: right;\">\n",
              "      <th></th>\n",
              "      <th>month</th>\n",
              "      <th>labels</th>\n",
              "      <th>ct</th>\n",
              "    </tr>\n",
              "  </thead>\n",
              "  <tbody>\n",
              "    <tr>\n",
              "      <th>0</th>\n",
              "      <td>3</td>\n",
              "      <td>HT</td>\n",
              "      <td>38497</td>\n",
              "    </tr>\n",
              "    <tr>\n",
              "      <th>1</th>\n",
              "      <td>3</td>\n",
              "      <td>NHT</td>\n",
              "      <td>21141</td>\n",
              "    </tr>\n",
              "  </tbody>\n",
              "</table>\n",
              "</div>"
            ],
            "text/plain": [
              "   month labels     ct\n",
              "0      3     HT  38497\n",
              "1      3    NHT  21141"
            ]
          },
          "metadata": {
            "tags": []
          },
          "execution_count": 86
        }
      ]
    },
    {
      "cell_type": "code",
      "metadata": {
        "id": "71XCAydtWOKC",
        "colab_type": "code",
        "colab": {
          "base_uri": "https://localhost:8080/",
          "height": 397
        },
        "outputId": "2dfff796-d8d5-4213-881a-653c410c7478"
      },
      "source": [
        "sns.barplot(x='month',y='ct',hue='labels', data=df_ct, palette='husl')"
      ],
      "execution_count": 87,
      "outputs": [
        {
          "output_type": "execute_result",
          "data": {
            "text/plain": [
              "<matplotlib.axes._subplots.AxesSubplot at 0x7f807847ef60>"
            ]
          },
          "metadata": {
            "tags": []
          },
          "execution_count": 87
        },
        {
          "output_type": "display_data",
          "data": {
            "text/plain": [
              "<Figure size 432x288 with 1 Axes>"
            ],
            "image/svg+xml": "<?xml version=\"1.0\" encoding=\"utf-8\" standalone=\"no\"?>\n<!DOCTYPE svg PUBLIC \"-//W3C//DTD SVG 1.1//EN\"\n  \"http://www.w3.org/Graphics/SVG/1.1/DTD/svg11.dtd\">\n<!-- Created with matplotlib (https://matplotlib.org/) -->\n<svg height=\"269.509584pt\" version=\"1.1\" viewBox=\"0 0 409.3075 269.509584\" width=\"409.3075pt\" xmlns=\"http://www.w3.org/2000/svg\" xmlns:xlink=\"http://www.w3.org/1999/xlink\">\n <defs>\n  <style type=\"text/css\">\n*{stroke-linecap:butt;stroke-linejoin:round;}\n  </style>\n </defs>\n <g id=\"figure_1\">\n  <g id=\"patch_1\">\n   <path d=\"M 0 269.509584 \nL 409.3075 269.509584 \nL 409.3075 0 \nL 0 0 \nz\n\" style=\"fill:none;\"/>\n  </g>\n  <g id=\"axes_1\">\n   <g id=\"patch_2\">\n    <path d=\"M 67.3075 226.549896 \nL 402.1075 226.549896 \nL 402.1075 9.109896 \nL 67.3075 9.109896 \nz\n\" style=\"fill:#eaeaf2;\"/>\n   </g>\n   <g id=\"matplotlib.axis_1\">\n    <g id=\"xtick_1\">\n     <g id=\"text_1\">\n      <!-- 3 -->\n      <defs>\n       <path d=\"M 40.578125 39.3125 \nQ 47.65625 37.796875 51.625 33 \nQ 55.609375 28.21875 55.609375 21.1875 \nQ 55.609375 10.40625 48.1875 4.484375 \nQ 40.765625 -1.421875 27.09375 -1.421875 \nQ 22.515625 -1.421875 17.65625 -0.515625 \nQ 12.796875 0.390625 7.625 2.203125 \nL 7.625 11.71875 \nQ 11.71875 9.328125 16.59375 8.109375 \nQ 21.484375 6.890625 26.8125 6.890625 \nQ 36.078125 6.890625 40.9375 10.546875 \nQ 45.796875 14.203125 45.796875 21.1875 \nQ 45.796875 27.640625 41.28125 31.265625 \nQ 36.765625 34.90625 28.71875 34.90625 \nL 20.21875 34.90625 \nL 20.21875 43.015625 \nL 29.109375 43.015625 \nQ 36.375 43.015625 40.234375 45.921875 \nQ 44.09375 48.828125 44.09375 54.296875 \nQ 44.09375 59.90625 40.109375 62.90625 \nQ 36.140625 65.921875 28.71875 65.921875 \nQ 24.65625 65.921875 20.015625 65.03125 \nQ 15.375 64.15625 9.8125 62.3125 \nL 9.8125 71.09375 \nQ 15.4375 72.65625 20.34375 73.4375 \nQ 25.25 74.21875 29.59375 74.21875 \nQ 40.828125 74.21875 47.359375 69.109375 \nQ 53.90625 64.015625 53.90625 55.328125 \nQ 53.90625 49.265625 50.4375 45.09375 \nQ 46.96875 40.921875 40.578125 39.3125 \nz\n\" id=\"DejaVuSans-51\"/>\n      </defs>\n      <g style=\"fill:#262626;\" transform=\"translate(231.208125 244.408177)scale(0.11 -0.11)\">\n       <use xlink:href=\"#DejaVuSans-51\"/>\n      </g>\n     </g>\n    </g>\n    <g id=\"text_2\">\n     <!-- month -->\n     <defs>\n      <path d=\"M 52 44.1875 \nQ 55.375 50.25 60.0625 53.125 \nQ 64.75 56 71.09375 56 \nQ 79.640625 56 84.28125 50.015625 \nQ 88.921875 44.046875 88.921875 33.015625 \nL 88.921875 0 \nL 79.890625 0 \nL 79.890625 32.71875 \nQ 79.890625 40.578125 77.09375 44.375 \nQ 74.3125 48.1875 68.609375 48.1875 \nQ 61.625 48.1875 57.5625 43.546875 \nQ 53.515625 38.921875 53.515625 30.90625 \nL 53.515625 0 \nL 44.484375 0 \nL 44.484375 32.71875 \nQ 44.484375 40.625 41.703125 44.40625 \nQ 38.921875 48.1875 33.109375 48.1875 \nQ 26.21875 48.1875 22.15625 43.53125 \nQ 18.109375 38.875 18.109375 30.90625 \nL 18.109375 0 \nL 9.078125 0 \nL 9.078125 54.6875 \nL 18.109375 54.6875 \nL 18.109375 46.1875 \nQ 21.1875 51.21875 25.484375 53.609375 \nQ 29.78125 56 35.6875 56 \nQ 41.65625 56 45.828125 52.96875 \nQ 50 49.953125 52 44.1875 \nz\n\" id=\"DejaVuSans-109\"/>\n      <path d=\"M 30.609375 48.390625 \nQ 23.390625 48.390625 19.1875 42.75 \nQ 14.984375 37.109375 14.984375 27.296875 \nQ 14.984375 17.484375 19.15625 11.84375 \nQ 23.34375 6.203125 30.609375 6.203125 \nQ 37.796875 6.203125 41.984375 11.859375 \nQ 46.1875 17.53125 46.1875 27.296875 \nQ 46.1875 37.015625 41.984375 42.703125 \nQ 37.796875 48.390625 30.609375 48.390625 \nz\nM 30.609375 56 \nQ 42.328125 56 49.015625 48.375 \nQ 55.71875 40.765625 55.71875 27.296875 \nQ 55.71875 13.875 49.015625 6.21875 \nQ 42.328125 -1.421875 30.609375 -1.421875 \nQ 18.84375 -1.421875 12.171875 6.21875 \nQ 5.515625 13.875 5.515625 27.296875 \nQ 5.515625 40.765625 12.171875 48.375 \nQ 18.84375 56 30.609375 56 \nz\n\" id=\"DejaVuSans-111\"/>\n      <path d=\"M 54.890625 33.015625 \nL 54.890625 0 \nL 45.90625 0 \nL 45.90625 32.71875 \nQ 45.90625 40.484375 42.875 44.328125 \nQ 39.84375 48.1875 33.796875 48.1875 \nQ 26.515625 48.1875 22.3125 43.546875 \nQ 18.109375 38.921875 18.109375 30.90625 \nL 18.109375 0 \nL 9.078125 0 \nL 9.078125 54.6875 \nL 18.109375 54.6875 \nL 18.109375 46.1875 \nQ 21.34375 51.125 25.703125 53.5625 \nQ 30.078125 56 35.796875 56 \nQ 45.21875 56 50.046875 50.171875 \nQ 54.890625 44.34375 54.890625 33.015625 \nz\n\" id=\"DejaVuSans-110\"/>\n      <path d=\"M 18.3125 70.21875 \nL 18.3125 54.6875 \nL 36.8125 54.6875 \nL 36.8125 47.703125 \nL 18.3125 47.703125 \nL 18.3125 18.015625 \nQ 18.3125 11.328125 20.140625 9.421875 \nQ 21.96875 7.515625 27.59375 7.515625 \nL 36.8125 7.515625 \nL 36.8125 0 \nL 27.59375 0 \nQ 17.1875 0 13.234375 3.875 \nQ 9.28125 7.765625 9.28125 18.015625 \nL 9.28125 47.703125 \nL 2.6875 47.703125 \nL 2.6875 54.6875 \nL 9.28125 54.6875 \nL 9.28125 70.21875 \nz\n\" id=\"DejaVuSans-116\"/>\n      <path d=\"M 54.890625 33.015625 \nL 54.890625 0 \nL 45.90625 0 \nL 45.90625 32.71875 \nQ 45.90625 40.484375 42.875 44.328125 \nQ 39.84375 48.1875 33.796875 48.1875 \nQ 26.515625 48.1875 22.3125 43.546875 \nQ 18.109375 38.921875 18.109375 30.90625 \nL 18.109375 0 \nL 9.078125 0 \nL 9.078125 75.984375 \nL 18.109375 75.984375 \nL 18.109375 46.1875 \nQ 21.34375 51.125 25.703125 53.5625 \nQ 30.078125 56 35.796875 56 \nQ 45.21875 56 50.046875 50.171875 \nQ 54.890625 44.34375 54.890625 33.015625 \nz\n\" id=\"DejaVuSans-104\"/>\n     </defs>\n     <g style=\"fill:#262626;\" transform=\"translate(215.234688 259.813959)scale(0.12 -0.12)\">\n      <use xlink:href=\"#DejaVuSans-109\"/>\n      <use x=\"97.412109\" xlink:href=\"#DejaVuSans-111\"/>\n      <use x=\"158.59375\" xlink:href=\"#DejaVuSans-110\"/>\n      <use x=\"221.972656\" xlink:href=\"#DejaVuSans-116\"/>\n      <use x=\"261.181641\" xlink:href=\"#DejaVuSans-104\"/>\n     </g>\n    </g>\n   </g>\n   <g id=\"matplotlib.axis_2\">\n    <g id=\"ytick_1\">\n     <g id=\"line2d_1\">\n      <path clip-path=\"url(#p3577088ad8)\" d=\"M 67.3075 226.549896 \nL 402.1075 226.549896 \n\" style=\"fill:none;stroke:#ffffff;stroke-linecap:round;\"/>\n     </g>\n     <g id=\"text_3\">\n      <!-- 0 -->\n      <defs>\n       <path d=\"M 31.78125 66.40625 \nQ 24.171875 66.40625 20.328125 58.90625 \nQ 16.5 51.421875 16.5 36.375 \nQ 16.5 21.390625 20.328125 13.890625 \nQ 24.171875 6.390625 31.78125 6.390625 \nQ 39.453125 6.390625 43.28125 13.890625 \nQ 47.125 21.390625 47.125 36.375 \nQ 47.125 51.421875 43.28125 58.90625 \nQ 39.453125 66.40625 31.78125 66.40625 \nz\nM 31.78125 74.21875 \nQ 44.046875 74.21875 50.515625 64.515625 \nQ 56.984375 54.828125 56.984375 36.375 \nQ 56.984375 17.96875 50.515625 8.265625 \nQ 44.046875 -1.421875 31.78125 -1.421875 \nQ 19.53125 -1.421875 13.0625 8.265625 \nQ 6.59375 17.96875 6.59375 36.375 \nQ 6.59375 54.828125 13.0625 64.515625 \nQ 19.53125 74.21875 31.78125 74.21875 \nz\n\" id=\"DejaVuSans-48\"/>\n      </defs>\n      <g style=\"fill:#262626;\" transform=\"translate(50.80875 230.729037)scale(0.11 -0.11)\">\n       <use xlink:href=\"#DejaVuSans-48\"/>\n      </g>\n     </g>\n    </g>\n    <g id=\"ytick_2\">\n     <g id=\"line2d_2\">\n      <path clip-path=\"url(#p3577088ad8)\" d=\"M 67.3075 199.653552 \nL 402.1075 199.653552 \n\" style=\"fill:none;stroke:#ffffff;stroke-linecap:round;\"/>\n     </g>\n     <g id=\"text_4\">\n      <!-- 5000 -->\n      <defs>\n       <path d=\"M 10.796875 72.90625 \nL 49.515625 72.90625 \nL 49.515625 64.59375 \nL 19.828125 64.59375 \nL 19.828125 46.734375 \nQ 21.96875 47.46875 24.109375 47.828125 \nQ 26.265625 48.1875 28.421875 48.1875 \nQ 40.625 48.1875 47.75 41.5 \nQ 54.890625 34.8125 54.890625 23.390625 \nQ 54.890625 11.625 47.5625 5.09375 \nQ 40.234375 -1.421875 26.90625 -1.421875 \nQ 22.3125 -1.421875 17.546875 -0.640625 \nQ 12.796875 0.140625 7.71875 1.703125 \nL 7.71875 11.625 \nQ 12.109375 9.234375 16.796875 8.0625 \nQ 21.484375 6.890625 26.703125 6.890625 \nQ 35.15625 6.890625 40.078125 11.328125 \nQ 45.015625 15.765625 45.015625 23.390625 \nQ 45.015625 31 40.078125 35.4375 \nQ 35.15625 39.890625 26.703125 39.890625 \nQ 22.75 39.890625 18.8125 39.015625 \nQ 14.890625 38.140625 10.796875 36.28125 \nz\n\" id=\"DejaVuSans-53\"/>\n      </defs>\n      <g style=\"fill:#262626;\" transform=\"translate(29.8125 203.832692)scale(0.11 -0.11)\">\n       <use xlink:href=\"#DejaVuSans-53\"/>\n       <use x=\"63.623047\" xlink:href=\"#DejaVuSans-48\"/>\n       <use x=\"127.246094\" xlink:href=\"#DejaVuSans-48\"/>\n       <use x=\"190.869141\" xlink:href=\"#DejaVuSans-48\"/>\n      </g>\n     </g>\n    </g>\n    <g id=\"ytick_3\">\n     <g id=\"line2d_3\">\n      <path clip-path=\"url(#p3577088ad8)\" d=\"M 67.3075 172.757207 \nL 402.1075 172.757207 \n\" style=\"fill:none;stroke:#ffffff;stroke-linecap:round;\"/>\n     </g>\n     <g id=\"text_5\">\n      <!-- 10000 -->\n      <defs>\n       <path d=\"M 12.40625 8.296875 \nL 28.515625 8.296875 \nL 28.515625 63.921875 \nL 10.984375 60.40625 \nL 10.984375 69.390625 \nL 28.421875 72.90625 \nL 38.28125 72.90625 \nL 38.28125 8.296875 \nL 54.390625 8.296875 \nL 54.390625 0 \nL 12.40625 0 \nz\n\" id=\"DejaVuSans-49\"/>\n      </defs>\n      <g style=\"fill:#262626;\" transform=\"translate(22.81375 176.936348)scale(0.11 -0.11)\">\n       <use xlink:href=\"#DejaVuSans-49\"/>\n       <use x=\"63.623047\" xlink:href=\"#DejaVuSans-48\"/>\n       <use x=\"127.246094\" xlink:href=\"#DejaVuSans-48\"/>\n       <use x=\"190.869141\" xlink:href=\"#DejaVuSans-48\"/>\n       <use x=\"254.492188\" xlink:href=\"#DejaVuSans-48\"/>\n      </g>\n     </g>\n    </g>\n    <g id=\"ytick_4\">\n     <g id=\"line2d_4\">\n      <path clip-path=\"url(#p3577088ad8)\" d=\"M 67.3075 145.860863 \nL 402.1075 145.860863 \n\" style=\"fill:none;stroke:#ffffff;stroke-linecap:round;\"/>\n     </g>\n     <g id=\"text_6\">\n      <!-- 15000 -->\n      <g style=\"fill:#262626;\" transform=\"translate(22.81375 150.040003)scale(0.11 -0.11)\">\n       <use xlink:href=\"#DejaVuSans-49\"/>\n       <use x=\"63.623047\" xlink:href=\"#DejaVuSans-53\"/>\n       <use x=\"127.246094\" xlink:href=\"#DejaVuSans-48\"/>\n       <use x=\"190.869141\" xlink:href=\"#DejaVuSans-48\"/>\n       <use x=\"254.492188\" xlink:href=\"#DejaVuSans-48\"/>\n      </g>\n     </g>\n    </g>\n    <g id=\"ytick_5\">\n     <g id=\"line2d_5\">\n      <path clip-path=\"url(#p3577088ad8)\" d=\"M 67.3075 118.964518 \nL 402.1075 118.964518 \n\" style=\"fill:none;stroke:#ffffff;stroke-linecap:round;\"/>\n     </g>\n     <g id=\"text_7\">\n      <!-- 20000 -->\n      <defs>\n       <path d=\"M 19.1875 8.296875 \nL 53.609375 8.296875 \nL 53.609375 0 \nL 7.328125 0 \nL 7.328125 8.296875 \nQ 12.9375 14.109375 22.625 23.890625 \nQ 32.328125 33.6875 34.8125 36.53125 \nQ 39.546875 41.84375 41.421875 45.53125 \nQ 43.3125 49.21875 43.3125 52.78125 \nQ 43.3125 58.59375 39.234375 62.25 \nQ 35.15625 65.921875 28.609375 65.921875 \nQ 23.96875 65.921875 18.8125 64.3125 \nQ 13.671875 62.703125 7.8125 59.421875 \nL 7.8125 69.390625 \nQ 13.765625 71.78125 18.9375 73 \nQ 24.125 74.21875 28.421875 74.21875 \nQ 39.75 74.21875 46.484375 68.546875 \nQ 53.21875 62.890625 53.21875 53.421875 \nQ 53.21875 48.921875 51.53125 44.890625 \nQ 49.859375 40.875 45.40625 35.40625 \nQ 44.1875 33.984375 37.640625 27.21875 \nQ 31.109375 20.453125 19.1875 8.296875 \nz\n\" id=\"DejaVuSans-50\"/>\n      </defs>\n      <g style=\"fill:#262626;\" transform=\"translate(22.81375 123.143659)scale(0.11 -0.11)\">\n       <use xlink:href=\"#DejaVuSans-50\"/>\n       <use x=\"63.623047\" xlink:href=\"#DejaVuSans-48\"/>\n       <use x=\"127.246094\" xlink:href=\"#DejaVuSans-48\"/>\n       <use x=\"190.869141\" xlink:href=\"#DejaVuSans-48\"/>\n       <use x=\"254.492188\" xlink:href=\"#DejaVuSans-48\"/>\n      </g>\n     </g>\n    </g>\n    <g id=\"ytick_6\">\n     <g id=\"line2d_6\">\n      <path clip-path=\"url(#p3577088ad8)\" d=\"M 67.3075 92.068174 \nL 402.1075 92.068174 \n\" style=\"fill:none;stroke:#ffffff;stroke-linecap:round;\"/>\n     </g>\n     <g id=\"text_8\">\n      <!-- 25000 -->\n      <g style=\"fill:#262626;\" transform=\"translate(22.81375 96.247315)scale(0.11 -0.11)\">\n       <use xlink:href=\"#DejaVuSans-50\"/>\n       <use x=\"63.623047\" xlink:href=\"#DejaVuSans-53\"/>\n       <use x=\"127.246094\" xlink:href=\"#DejaVuSans-48\"/>\n       <use x=\"190.869141\" xlink:href=\"#DejaVuSans-48\"/>\n       <use x=\"254.492188\" xlink:href=\"#DejaVuSans-48\"/>\n      </g>\n     </g>\n    </g>\n    <g id=\"ytick_7\">\n     <g id=\"line2d_7\">\n      <path clip-path=\"url(#p3577088ad8)\" d=\"M 67.3075 65.171829 \nL 402.1075 65.171829 \n\" style=\"fill:none;stroke:#ffffff;stroke-linecap:round;\"/>\n     </g>\n     <g id=\"text_9\">\n      <!-- 30000 -->\n      <g style=\"fill:#262626;\" transform=\"translate(22.81375 69.35097)scale(0.11 -0.11)\">\n       <use xlink:href=\"#DejaVuSans-51\"/>\n       <use x=\"63.623047\" xlink:href=\"#DejaVuSans-48\"/>\n       <use x=\"127.246094\" xlink:href=\"#DejaVuSans-48\"/>\n       <use x=\"190.869141\" xlink:href=\"#DejaVuSans-48\"/>\n       <use x=\"254.492188\" xlink:href=\"#DejaVuSans-48\"/>\n      </g>\n     </g>\n    </g>\n    <g id=\"ytick_8\">\n     <g id=\"line2d_8\">\n      <path clip-path=\"url(#p3577088ad8)\" d=\"M 67.3075 38.275485 \nL 402.1075 38.275485 \n\" style=\"fill:none;stroke:#ffffff;stroke-linecap:round;\"/>\n     </g>\n     <g id=\"text_10\">\n      <!-- 35000 -->\n      <g style=\"fill:#262626;\" transform=\"translate(22.81375 42.454626)scale(0.11 -0.11)\">\n       <use xlink:href=\"#DejaVuSans-51\"/>\n       <use x=\"63.623047\" xlink:href=\"#DejaVuSans-53\"/>\n       <use x=\"127.246094\" xlink:href=\"#DejaVuSans-48\"/>\n       <use x=\"190.869141\" xlink:href=\"#DejaVuSans-48\"/>\n       <use x=\"254.492188\" xlink:href=\"#DejaVuSans-48\"/>\n      </g>\n     </g>\n    </g>\n    <g id=\"ytick_9\">\n     <g id=\"line2d_9\">\n      <path clip-path=\"url(#p3577088ad8)\" d=\"M 67.3075 11.379141 \nL 402.1075 11.379141 \n\" style=\"fill:none;stroke:#ffffff;stroke-linecap:round;\"/>\n     </g>\n     <g id=\"text_11\">\n      <!-- 40000 -->\n      <defs>\n       <path d=\"M 37.796875 64.3125 \nL 12.890625 25.390625 \nL 37.796875 25.390625 \nz\nM 35.203125 72.90625 \nL 47.609375 72.90625 \nL 47.609375 25.390625 \nL 58.015625 25.390625 \nL 58.015625 17.1875 \nL 47.609375 17.1875 \nL 47.609375 0 \nL 37.796875 0 \nL 37.796875 17.1875 \nL 4.890625 17.1875 \nL 4.890625 26.703125 \nz\n\" id=\"DejaVuSans-52\"/>\n      </defs>\n      <g style=\"fill:#262626;\" transform=\"translate(22.81375 15.558281)scale(0.11 -0.11)\">\n       <use xlink:href=\"#DejaVuSans-52\"/>\n       <use x=\"63.623047\" xlink:href=\"#DejaVuSans-48\"/>\n       <use x=\"127.246094\" xlink:href=\"#DejaVuSans-48\"/>\n       <use x=\"190.869141\" xlink:href=\"#DejaVuSans-48\"/>\n       <use x=\"254.492188\" xlink:href=\"#DejaVuSans-48\"/>\n      </g>\n     </g>\n    </g>\n    <g id=\"text_12\">\n     <!-- ct -->\n     <defs>\n      <path d=\"M 48.78125 52.59375 \nL 48.78125 44.1875 \nQ 44.96875 46.296875 41.140625 47.34375 \nQ 37.3125 48.390625 33.40625 48.390625 \nQ 24.65625 48.390625 19.8125 42.84375 \nQ 14.984375 37.3125 14.984375 27.296875 \nQ 14.984375 17.28125 19.8125 11.734375 \nQ 24.65625 6.203125 33.40625 6.203125 \nQ 37.3125 6.203125 41.140625 7.25 \nQ 44.96875 8.296875 48.78125 10.40625 \nL 48.78125 2.09375 \nQ 45.015625 0.34375 40.984375 -0.53125 \nQ 36.96875 -1.421875 32.421875 -1.421875 \nQ 20.0625 -1.421875 12.78125 6.34375 \nQ 5.515625 14.109375 5.515625 27.296875 \nQ 5.515625 40.671875 12.859375 48.328125 \nQ 20.21875 56 33.015625 56 \nQ 37.15625 56 41.109375 55.140625 \nQ 45.0625 54.296875 48.78125 52.59375 \nz\n\" id=\"DejaVuSans-99\"/>\n     </defs>\n     <g style=\"fill:#262626;\" transform=\"translate(16.318125 123.481146)rotate(-90)scale(0.12 -0.12)\">\n      <use xlink:href=\"#DejaVuSans-99\"/>\n      <use x=\"54.980469\" xlink:href=\"#DejaVuSans-116\"/>\n     </g>\n    </g>\n   </g>\n   <g id=\"patch_3\">\n    <path clip-path=\"url(#p3577088ad8)\" d=\"M 100.7875 226.549896 \nL 234.7075 226.549896 \nL 234.7075 19.464182 \nL 100.7875 19.464182 \nz\n\" style=\"fill:#e68193;stroke:#ffffff;stroke-linejoin:miter;\"/>\n   </g>\n   <g id=\"patch_4\">\n    <path clip-path=\"url(#p3577088ad8)\" d=\"M 234.7075 226.549896 \nL 368.6275 226.549896 \nL 368.6275 112.826773 \nL 234.7075 112.826773 \nz\n\" style=\"fill:#459e97;stroke:#ffffff;stroke-linejoin:miter;\"/>\n   </g>\n   <g id=\"line2d_10\">\n    <path clip-path=\"url(#p3577088ad8)\" style=\"fill:none;stroke:#424242;stroke-linecap:round;stroke-width:2.7;\"/>\n   </g>\n   <g id=\"line2d_11\">\n    <path clip-path=\"url(#p3577088ad8)\" style=\"fill:none;stroke:#424242;stroke-linecap:round;stroke-width:2.7;\"/>\n   </g>\n   <g id=\"patch_5\">\n    <path d=\"M 67.3075 226.549896 \nL 67.3075 9.109896 \n\" style=\"fill:none;stroke:#ffffff;stroke-linecap:square;stroke-linejoin:miter;stroke-width:1.25;\"/>\n   </g>\n   <g id=\"patch_6\">\n    <path d=\"M 402.1075 226.549896 \nL 402.1075 9.109896 \n\" style=\"fill:none;stroke:#ffffff;stroke-linecap:square;stroke-linejoin:miter;stroke-width:1.25;\"/>\n   </g>\n   <g id=\"patch_7\">\n    <path d=\"M 67.3075 226.549896 \nL 402.1075 226.549896 \n\" style=\"fill:none;stroke:#ffffff;stroke-linecap:square;stroke-linejoin:miter;stroke-width:1.25;\"/>\n   </g>\n   <g id=\"patch_8\">\n    <path d=\"M 67.3075 9.109896 \nL 402.1075 9.109896 \n\" style=\"fill:none;stroke:#ffffff;stroke-linecap:square;stroke-linejoin:miter;stroke-width:1.25;\"/>\n   </g>\n   <g id=\"legend_1\">\n    <g id=\"patch_9\">\n     <path d=\"M 335.987188 65.573459 \nL 394.4075 65.573459 \nQ 396.6075 65.573459 396.6075 63.373459 \nL 396.6075 16.809896 \nQ 396.6075 14.609896 394.4075 14.609896 \nL 335.987188 14.609896 \nQ 333.787188 14.609896 333.787188 16.809896 \nL 333.787188 63.373459 \nQ 333.787188 65.573459 335.987188 65.573459 \nz\n\" style=\"fill:#eaeaf2;opacity:0.8;stroke:#cccccc;stroke-linejoin:miter;\"/>\n    </g>\n    <g id=\"text_13\">\n     <!-- labels -->\n     <defs>\n      <path d=\"M 9.421875 75.984375 \nL 18.40625 75.984375 \nL 18.40625 0 \nL 9.421875 0 \nz\n\" id=\"DejaVuSans-108\"/>\n      <path d=\"M 34.28125 27.484375 \nQ 23.390625 27.484375 19.1875 25 \nQ 14.984375 22.515625 14.984375 16.5 \nQ 14.984375 11.71875 18.140625 8.90625 \nQ 21.296875 6.109375 26.703125 6.109375 \nQ 34.1875 6.109375 38.703125 11.40625 \nQ 43.21875 16.703125 43.21875 25.484375 \nL 43.21875 27.484375 \nz\nM 52.203125 31.203125 \nL 52.203125 0 \nL 43.21875 0 \nL 43.21875 8.296875 \nQ 40.140625 3.328125 35.546875 0.953125 \nQ 30.953125 -1.421875 24.3125 -1.421875 \nQ 15.921875 -1.421875 10.953125 3.296875 \nQ 6 8.015625 6 15.921875 \nQ 6 25.140625 12.171875 29.828125 \nQ 18.359375 34.515625 30.609375 34.515625 \nL 43.21875 34.515625 \nL 43.21875 35.40625 \nQ 43.21875 41.609375 39.140625 45 \nQ 35.0625 48.390625 27.6875 48.390625 \nQ 23 48.390625 18.546875 47.265625 \nQ 14.109375 46.140625 10.015625 43.890625 \nL 10.015625 52.203125 \nQ 14.9375 54.109375 19.578125 55.046875 \nQ 24.21875 56 28.609375 56 \nQ 40.484375 56 46.34375 49.84375 \nQ 52.203125 43.703125 52.203125 31.203125 \nz\n\" id=\"DejaVuSans-97\"/>\n      <path d=\"M 48.6875 27.296875 \nQ 48.6875 37.203125 44.609375 42.84375 \nQ 40.53125 48.484375 33.40625 48.484375 \nQ 26.265625 48.484375 22.1875 42.84375 \nQ 18.109375 37.203125 18.109375 27.296875 \nQ 18.109375 17.390625 22.1875 11.75 \nQ 26.265625 6.109375 33.40625 6.109375 \nQ 40.53125 6.109375 44.609375 11.75 \nQ 48.6875 17.390625 48.6875 27.296875 \nz\nM 18.109375 46.390625 \nQ 20.953125 51.265625 25.265625 53.625 \nQ 29.59375 56 35.59375 56 \nQ 45.5625 56 51.78125 48.09375 \nQ 58.015625 40.1875 58.015625 27.296875 \nQ 58.015625 14.40625 51.78125 6.484375 \nQ 45.5625 -1.421875 35.59375 -1.421875 \nQ 29.59375 -1.421875 25.265625 0.953125 \nQ 20.953125 3.328125 18.109375 8.203125 \nL 18.109375 0 \nL 9.078125 0 \nL 9.078125 75.984375 \nL 18.109375 75.984375 \nz\n\" id=\"DejaVuSans-98\"/>\n      <path d=\"M 56.203125 29.59375 \nL 56.203125 25.203125 \nL 14.890625 25.203125 \nQ 15.484375 15.921875 20.484375 11.0625 \nQ 25.484375 6.203125 34.421875 6.203125 \nQ 39.59375 6.203125 44.453125 7.46875 \nQ 49.3125 8.734375 54.109375 11.28125 \nL 54.109375 2.78125 \nQ 49.265625 0.734375 44.1875 -0.34375 \nQ 39.109375 -1.421875 33.890625 -1.421875 \nQ 20.796875 -1.421875 13.15625 6.1875 \nQ 5.515625 13.8125 5.515625 26.8125 \nQ 5.515625 40.234375 12.765625 48.109375 \nQ 20.015625 56 32.328125 56 \nQ 43.359375 56 49.78125 48.890625 \nQ 56.203125 41.796875 56.203125 29.59375 \nz\nM 47.21875 32.234375 \nQ 47.125 39.59375 43.09375 43.984375 \nQ 39.0625 48.390625 32.421875 48.390625 \nQ 24.90625 48.390625 20.390625 44.140625 \nQ 15.875 39.890625 15.1875 32.171875 \nz\n\" id=\"DejaVuSans-101\"/>\n      <path d=\"M 44.28125 53.078125 \nL 44.28125 44.578125 \nQ 40.484375 46.53125 36.375 47.5 \nQ 32.28125 48.484375 27.875 48.484375 \nQ 21.1875 48.484375 17.84375 46.4375 \nQ 14.5 44.390625 14.5 40.28125 \nQ 14.5 37.15625 16.890625 35.375 \nQ 19.28125 33.59375 26.515625 31.984375 \nL 29.59375 31.296875 \nQ 39.15625 29.25 43.1875 25.515625 \nQ 47.21875 21.78125 47.21875 15.09375 \nQ 47.21875 7.46875 41.1875 3.015625 \nQ 35.15625 -1.421875 24.609375 -1.421875 \nQ 20.21875 -1.421875 15.453125 -0.5625 \nQ 10.6875 0.296875 5.421875 2 \nL 5.421875 11.28125 \nQ 10.40625 8.6875 15.234375 7.390625 \nQ 20.0625 6.109375 24.8125 6.109375 \nQ 31.15625 6.109375 34.5625 8.28125 \nQ 37.984375 10.453125 37.984375 14.40625 \nQ 37.984375 18.0625 35.515625 20.015625 \nQ 33.0625 21.96875 24.703125 23.78125 \nL 21.578125 24.515625 \nQ 13.234375 26.265625 9.515625 29.90625 \nQ 5.8125 33.546875 5.8125 39.890625 \nQ 5.8125 47.609375 11.28125 51.796875 \nQ 16.75 56 26.8125 56 \nQ 31.78125 56 36.171875 55.265625 \nQ 40.578125 54.546875 44.28125 53.078125 \nz\n\" id=\"DejaVuSans-115\"/>\n     </defs>\n     <g style=\"fill:#262626;\" transform=\"translate(350.205734 26.760302)scale(0.102 -0.102)\">\n      <use xlink:href=\"#DejaVuSans-108\"/>\n      <use x=\"27.783203\" xlink:href=\"#DejaVuSans-97\"/>\n      <use x=\"89.0625\" xlink:href=\"#DejaVuSans-98\"/>\n      <use x=\"152.539062\" xlink:href=\"#DejaVuSans-101\"/>\n      <use x=\"214.0625\" xlink:href=\"#DejaVuSans-108\"/>\n      <use x=\"241.845703\" xlink:href=\"#DejaVuSans-115\"/>\n     </g>\n    </g>\n    <g id=\"patch_10\">\n     <path d=\"M 338.187187 42.739865 \nL 360.187187 42.739865 \nL 360.187187 35.039865 \nL 338.187187 35.039865 \nz\n\" style=\"fill:#e68193;stroke:#ffffff;stroke-linejoin:miter;\"/>\n    </g>\n    <g id=\"text_14\">\n     <!-- HT -->\n     <defs>\n      <path d=\"M 9.8125 72.90625 \nL 19.671875 72.90625 \nL 19.671875 43.015625 \nL 55.515625 43.015625 \nL 55.515625 72.90625 \nL 65.375 72.90625 \nL 65.375 0 \nL 55.515625 0 \nL 55.515625 34.71875 \nL 19.671875 34.71875 \nL 19.671875 0 \nL 9.8125 0 \nz\n\" id=\"DejaVuSans-72\"/>\n      <path d=\"M -0.296875 72.90625 \nL 61.375 72.90625 \nL 61.375 64.59375 \nL 35.5 64.59375 \nL 35.5 0 \nL 25.59375 0 \nL 25.59375 64.59375 \nL -0.296875 64.59375 \nz\n\" id=\"DejaVuSans-84\"/>\n     </defs>\n     <g style=\"fill:#262626;\" transform=\"translate(368.987188 42.739865)scale(0.11 -0.11)\">\n      <use xlink:href=\"#DejaVuSans-72\"/>\n      <use x=\"75.195312\" xlink:href=\"#DejaVuSans-84\"/>\n     </g>\n    </g>\n    <g id=\"patch_11\">\n     <path d=\"M 338.187187 58.885802 \nL 360.187187 58.885802 \nL 360.187187 51.185802 \nL 338.187187 51.185802 \nz\n\" style=\"fill:#459e97;stroke:#ffffff;stroke-linejoin:miter;\"/>\n    </g>\n    <g id=\"text_15\">\n     <!-- NHT -->\n     <defs>\n      <path d=\"M 9.8125 72.90625 \nL 23.09375 72.90625 \nL 55.421875 11.921875 \nL 55.421875 72.90625 \nL 64.984375 72.90625 \nL 64.984375 0 \nL 51.703125 0 \nL 19.390625 60.984375 \nL 19.390625 0 \nL 9.8125 0 \nz\n\" id=\"DejaVuSans-78\"/>\n     </defs>\n     <g style=\"fill:#262626;\" transform=\"translate(368.987188 58.885802)scale(0.11 -0.11)\">\n      <use xlink:href=\"#DejaVuSans-78\"/>\n      <use x=\"74.804688\" xlink:href=\"#DejaVuSans-72\"/>\n      <use x=\"150\" xlink:href=\"#DejaVuSans-84\"/>\n     </g>\n    </g>\n   </g>\n  </g>\n </g>\n <defs>\n  <clipPath id=\"p3577088ad8\">\n   <rect height=\"217.44\" width=\"334.8\" x=\"67.3075\" y=\"9.109896\"/>\n  </clipPath>\n </defs>\n</svg>\n"
          },
          "metadata": {
            "tags": []
          }
        }
      ]
    },
    {
      "cell_type": "markdown",
      "metadata": {
        "id": "GQbX8azaW2xe",
        "colab_type": "text"
      },
      "source": [
        "**We only have data for month of march and year 2018.That's wht we are not getting longitudnal data. We need to dig deeper perhaps weeks or days.**"
      ]
    },
    {
      "cell_type": "code",
      "metadata": {
        "id": "fVoPyDiDWOM7",
        "colab_type": "code",
        "colab": {}
      },
      "source": [
        "df_bol['days']=df_bol['date'].dt.dayofweek"
      ],
      "execution_count": 0,
      "outputs": []
    },
    {
      "cell_type": "code",
      "metadata": {
        "id": "gAi3PZmcXTQ8",
        "colab_type": "code",
        "colab": {
          "base_uri": "https://localhost:8080/",
          "height": 204
        },
        "outputId": "1fd50291-5315-4cd0-e6c6-c2a67c1b069b"
      },
      "source": [
        "df_days=df_bol[['labels','days']]\n",
        "df_days.head()"
      ],
      "execution_count": 90,
      "outputs": [
        {
          "output_type": "execute_result",
          "data": {
            "text/html": [
              "<div>\n",
              "<style scoped>\n",
              "    .dataframe tbody tr th:only-of-type {\n",
              "        vertical-align: middle;\n",
              "    }\n",
              "\n",
              "    .dataframe tbody tr th {\n",
              "        vertical-align: top;\n",
              "    }\n",
              "\n",
              "    .dataframe thead th {\n",
              "        text-align: right;\n",
              "    }\n",
              "</style>\n",
              "<table border=\"1\" class=\"dataframe\">\n",
              "  <thead>\n",
              "    <tr style=\"text-align: right;\">\n",
              "      <th></th>\n",
              "      <th>labels</th>\n",
              "      <th>days</th>\n",
              "    </tr>\n",
              "  </thead>\n",
              "  <tbody>\n",
              "    <tr>\n",
              "      <th>0</th>\n",
              "      <td>NHT</td>\n",
              "      <td>0</td>\n",
              "    </tr>\n",
              "    <tr>\n",
              "      <th>1</th>\n",
              "      <td>NHT</td>\n",
              "      <td>0</td>\n",
              "    </tr>\n",
              "    <tr>\n",
              "      <th>2</th>\n",
              "      <td>HT</td>\n",
              "      <td>0</td>\n",
              "    </tr>\n",
              "    <tr>\n",
              "      <th>3</th>\n",
              "      <td>NHT</td>\n",
              "      <td>0</td>\n",
              "    </tr>\n",
              "    <tr>\n",
              "      <th>4</th>\n",
              "      <td>NHT</td>\n",
              "      <td>0</td>\n",
              "    </tr>\n",
              "  </tbody>\n",
              "</table>\n",
              "</div>"
            ],
            "text/plain": [
              "  labels  days\n",
              "0    NHT     0\n",
              "1    NHT     0\n",
              "2     HT     0\n",
              "3    NHT     0\n",
              "4    NHT     0"
            ]
          },
          "metadata": {
            "tags": []
          },
          "execution_count": 90
        }
      ]
    },
    {
      "cell_type": "code",
      "metadata": {
        "id": "djSuP1IoXTT7",
        "colab_type": "code",
        "colab": {
          "base_uri": "https://localhost:8080/",
          "height": 34
        },
        "outputId": "20891305-6f39-4648-ea3b-2d32ab91f96c"
      },
      "source": [
        "df_days.days.unique()"
      ],
      "execution_count": 94,
      "outputs": [
        {
          "output_type": "execute_result",
          "data": {
            "text/plain": [
              "array([0])"
            ]
          },
          "metadata": {
            "tags": []
          },
          "execution_count": 94
        }
      ]
    },
    {
      "cell_type": "markdown",
      "metadata": {
        "id": "-NYkYo5nXipt",
        "colab_type": "text"
      },
      "source": [
        "Again we have nothing here. So, we may not be able to get a longitudnal data. We may go by minutes."
      ]
    },
    {
      "cell_type": "code",
      "metadata": {
        "id": "rffaDwNZXTZL",
        "colab_type": "code",
        "colab": {}
      },
      "source": [
        "df_bol['mins']=df_bol['date'].dt.minute"
      ],
      "execution_count": 0,
      "outputs": []
    },
    {
      "cell_type": "code",
      "metadata": {
        "id": "db1pFBAqXTW1",
        "colab_type": "code",
        "colab": {
          "base_uri": "https://localhost:8080/",
          "height": 34
        },
        "outputId": "17034433-35cf-438f-82d7-ac0ac100471b"
      },
      "source": [
        "df_bol.mins.unique()"
      ],
      "execution_count": 97,
      "outputs": [
        {
          "output_type": "execute_result",
          "data": {
            "text/plain": [
              "array([0])"
            ]
          },
          "metadata": {
            "tags": []
          },
          "execution_count": 97
        }
      ]
    },
    {
      "cell_type": "markdown",
      "metadata": {
        "id": "YcoSsN8IX9hY",
        "colab_type": "text"
      },
      "source": [
        "We better move on with analysis.We will not get longitudnal pattern of data "
      ]
    },
    {
      "cell_type": "markdown",
      "metadata": {
        "id": "OyZbR4KugqTu",
        "colab_type": "text"
      },
      "source": [
        "# 4)- Creating dataframe with Feature of Importance"
      ]
    },
    {
      "cell_type": "code",
      "metadata": {
        "id": "dRwrrsrqg2oq",
        "colab_type": "code",
        "colab": {}
      },
      "source": [
        "df_foi=df_bol[['labels','visitor_recognition_type','country_by_ip_address','region_by_ip_address']]"
      ],
      "execution_count": 0,
      "outputs": []
    },
    {
      "cell_type": "code",
      "metadata": {
        "colab_type": "code",
        "id": "U2zX00LQgRLU",
        "outputId": "711f9989-2f67-41cd-c4dc-29228d102781",
        "colab": {
          "base_uri": "https://localhost:8080/",
          "height": 204
        }
      },
      "source": [
        "df_foi.head()"
      ],
      "execution_count": 99,
      "outputs": [
        {
          "output_type": "execute_result",
          "data": {
            "text/html": [
              "<div>\n",
              "<style scoped>\n",
              "    .dataframe tbody tr th:only-of-type {\n",
              "        vertical-align: middle;\n",
              "    }\n",
              "\n",
              "    .dataframe tbody tr th {\n",
              "        vertical-align: top;\n",
              "    }\n",
              "\n",
              "    .dataframe thead th {\n",
              "        text-align: right;\n",
              "    }\n",
              "</style>\n",
              "<table border=\"1\" class=\"dataframe\">\n",
              "  <thead>\n",
              "    <tr style=\"text-align: right;\">\n",
              "      <th></th>\n",
              "      <th>labels</th>\n",
              "      <th>visitor_recognition_type</th>\n",
              "      <th>country_by_ip_address</th>\n",
              "      <th>region_by_ip_address</th>\n",
              "    </tr>\n",
              "  </thead>\n",
              "  <tbody>\n",
              "    <tr>\n",
              "      <th>0</th>\n",
              "      <td>NHT</td>\n",
              "      <td>ANONYMOUS</td>\n",
              "      <td>US</td>\n",
              "      <td>CA</td>\n",
              "    </tr>\n",
              "    <tr>\n",
              "      <th>1</th>\n",
              "      <td>NHT</td>\n",
              "      <td>ANONYMOUS</td>\n",
              "      <td>US</td>\n",
              "      <td>CA</td>\n",
              "    </tr>\n",
              "    <tr>\n",
              "      <th>2</th>\n",
              "      <td>HT</td>\n",
              "      <td>ANONYMOUS</td>\n",
              "      <td>IT</td>\n",
              "      <td>LI</td>\n",
              "    </tr>\n",
              "    <tr>\n",
              "      <th>3</th>\n",
              "      <td>NHT</td>\n",
              "      <td>ANONYMOUS</td>\n",
              "      <td>US</td>\n",
              "      <td>CA</td>\n",
              "    </tr>\n",
              "    <tr>\n",
              "      <th>4</th>\n",
              "      <td>NHT</td>\n",
              "      <td>ANONYMOUS</td>\n",
              "      <td>US</td>\n",
              "      <td>CA</td>\n",
              "    </tr>\n",
              "  </tbody>\n",
              "</table>\n",
              "</div>"
            ],
            "text/plain": [
              "  labels visitor_recognition_type country_by_ip_address region_by_ip_address\n",
              "0    NHT                ANONYMOUS                    US                   CA\n",
              "1    NHT                ANONYMOUS                    US                   CA\n",
              "2     HT                ANONYMOUS                    IT                   LI\n",
              "3    NHT                ANONYMOUS                    US                   CA\n",
              "4    NHT                ANONYMOUS                    US                   CA"
            ]
          },
          "metadata": {
            "tags": []
          },
          "execution_count": 99
        }
      ]
    },
    {
      "cell_type": "markdown",
      "metadata": {
        "colab_type": "text",
        "id": "2uSEnU4Pr1kc"
      },
      "source": [
        "### 4a)-Checking ANONYMOUS traffice role in data\n",
        "As we have now more concise data classification so, we might want to check again "
      ]
    },
    {
      "cell_type": "markdown",
      "metadata": {
        "id": "rNASX73OZ0qD",
        "colab_type": "text"
      },
      "source": [
        "**This \"ANONYMOUS\" class in visitor_recognition_type feature is interesting. It could be that bot searches are mostly ANONYMOUS. It is only an assumption. Let's see if data supports it**"
      ]
    },
    {
      "cell_type": "code",
      "metadata": {
        "id": "XcEf9V_AZ0qE",
        "colab_type": "code",
        "colab": {}
      },
      "source": [
        "c=df_foi"
      ],
      "execution_count": 0,
      "outputs": []
    },
    {
      "cell_type": "code",
      "metadata": {
        "id": "DNx6aXZeZ0qF",
        "colab_type": "code",
        "colab": {}
      },
      "source": [
        "c=c[(c.visitor_recognition_type == 'ANONYMOUS')]\n",
        "c=c.groupby(['labels','visitor_recognition_type']).size()"
      ],
      "execution_count": 0,
      "outputs": []
    },
    {
      "cell_type": "code",
      "metadata": {
        "id": "1cTD5sfCZ0qG",
        "colab_type": "code",
        "outputId": "1efb6cb5-dccf-4093-e125-a455c0965810",
        "colab": {
          "base_uri": "https://localhost:8080/",
          "height": 85
        }
      },
      "source": [
        "c"
      ],
      "execution_count": 102,
      "outputs": [
        {
          "output_type": "execute_result",
          "data": {
            "text/plain": [
              "labels  visitor_recognition_type\n",
              "HT      ANONYMOUS                   22426\n",
              "NHT     ANONYMOUS                   21141\n",
              "dtype: int64"
            ]
          },
          "metadata": {
            "tags": []
          },
          "execution_count": 102
        }
      ]
    },
    {
      "cell_type": "markdown",
      "metadata": {
        "id": "T8kqyn27Z0qH",
        "colab_type": "text"
      },
      "source": [
        "**There is not much difference. So, my assumption that \"ANONYMOUS\" is related to Non-human traffic does not hold ground.**\n"
      ]
    },
    {
      "cell_type": "code",
      "metadata": {
        "id": "j_pxa1dtZ0qI",
        "colab_type": "code",
        "outputId": "a2b06269-56de-4ce3-8e08-6695267a5745",
        "colab": {
          "base_uri": "https://localhost:8080/",
          "height": 204
        }
      },
      "source": [
        "df_foi.groupby(['labels', 'visitor_recognition_type']).count()"
      ],
      "execution_count": 103,
      "outputs": [
        {
          "output_type": "execute_result",
          "data": {
            "text/html": [
              "<div>\n",
              "<style scoped>\n",
              "    .dataframe tbody tr th:only-of-type {\n",
              "        vertical-align: middle;\n",
              "    }\n",
              "\n",
              "    .dataframe tbody tr th {\n",
              "        vertical-align: top;\n",
              "    }\n",
              "\n",
              "    .dataframe thead th {\n",
              "        text-align: right;\n",
              "    }\n",
              "</style>\n",
              "<table border=\"1\" class=\"dataframe\">\n",
              "  <thead>\n",
              "    <tr style=\"text-align: right;\">\n",
              "      <th></th>\n",
              "      <th></th>\n",
              "      <th>country_by_ip_address</th>\n",
              "      <th>region_by_ip_address</th>\n",
              "    </tr>\n",
              "    <tr>\n",
              "      <th>labels</th>\n",
              "      <th>visitor_recognition_type</th>\n",
              "      <th></th>\n",
              "      <th></th>\n",
              "    </tr>\n",
              "  </thead>\n",
              "  <tbody>\n",
              "    <tr>\n",
              "      <th rowspan=\"3\" valign=\"top\">HT</th>\n",
              "      <th>ANONYMOUS</th>\n",
              "      <td>22426</td>\n",
              "      <td>22426</td>\n",
              "    </tr>\n",
              "    <tr>\n",
              "      <th>LOGGEDIN</th>\n",
              "      <td>3482</td>\n",
              "      <td>3482</td>\n",
              "    </tr>\n",
              "    <tr>\n",
              "      <th>RECOGNIZED</th>\n",
              "      <td>12589</td>\n",
              "      <td>12589</td>\n",
              "    </tr>\n",
              "    <tr>\n",
              "      <th>NHT</th>\n",
              "      <th>ANONYMOUS</th>\n",
              "      <td>21141</td>\n",
              "      <td>21141</td>\n",
              "    </tr>\n",
              "  </tbody>\n",
              "</table>\n",
              "</div>"
            ],
            "text/plain": [
              "                                 country_by_ip_address  region_by_ip_address\n",
              "labels visitor_recognition_type                                             \n",
              "HT     ANONYMOUS                                 22426                 22426\n",
              "       LOGGEDIN                                   3482                  3482\n",
              "       RECOGNIZED                                12589                 12589\n",
              "NHT    ANONYMOUS                                 21141                 21141"
            ]
          },
          "metadata": {
            "tags": []
          },
          "execution_count": 103
        }
      ]
    },
    {
      "cell_type": "markdown",
      "metadata": {
        "id": "qZgyIADOZ0qJ",
        "colab_type": "text"
      },
      "source": [
        "\n",
        "one thing is for sure that all NHT is in ANONYMOUS category as seen above."
      ]
    },
    {
      "cell_type": "code",
      "metadata": {
        "id": "8oC1cgqEZ0qK",
        "colab_type": "code",
        "colab": {}
      },
      "source": [
        "#df_foi.groupby(['labels', 'country_by_ip_address']).count()"
      ],
      "execution_count": 0,
      "outputs": []
    },
    {
      "cell_type": "markdown",
      "metadata": {
        "id": "2hJFzs2UZ0qL",
        "colab_type": "text"
      },
      "source": [
        "# 4)- Saving file for future use\n"
      ]
    },
    {
      "cell_type": "markdown",
      "metadata": {
        "id": "Wl86DerhZ0qM",
        "colab_type": "text"
      },
      "source": [
        "**Save file as pickle for binary classification**"
      ]
    },
    {
      "cell_type": "code",
      "metadata": {
        "colab_type": "code",
        "id": "PceEFXwks298",
        "colab": {}
      },
      "source": [
        "df_foi.to_pickle('clickdata.pkl')"
      ],
      "execution_count": 0,
      "outputs": []
    }
  ]
}