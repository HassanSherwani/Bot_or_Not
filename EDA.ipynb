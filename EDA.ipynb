{
 "cells": [
  {
   "cell_type": "markdown",
   "metadata": {
    "colab_type": "text",
    "id": "zfSWyFCgeA12"
   },
   "source": [
    "# Problem Statement\n",
    "\n",
    "Build an optimal model that can help us identify bot traffic coming  from search engines (NHT-search), other bot traffic (NHT-other) and human traffic (HT)."
   ]
  },
  {
   "cell_type": "markdown",
   "metadata": {
    "colab_type": "text",
    "id": "znXnOA8IeGF3"
   },
   "source": [
    "# Importing key modules"
   ]
  },
  {
   "cell_type": "code",
   "execution_count": 1,
   "metadata": {
    "colab": {},
    "colab_type": "code",
    "id": "qlTOkyBUeFQ6"
   },
   "outputs": [],
   "source": [
    "#support both Python 2 and Python 3 with minimal overhead.\n",
    "from __future__ import absolute_import, division, print_function"
   ]
  },
  {
   "cell_type": "code",
   "execution_count": 2,
   "metadata": {
    "colab": {},
    "colab_type": "code",
    "id": "_wT3rQyQeISZ"
   },
   "outputs": [],
   "source": [
    "# I am an engineer. I care only about error not warning. So, let's be maverick and ignore warnings.\n",
    "import warnings\n",
    "warnings.filterwarnings('ignore')"
   ]
  },
  {
   "cell_type": "code",
   "execution_count": 3,
   "metadata": {
    "colab": {},
    "colab_type": "code",
    "id": "PmaYA_4deKGL"
   },
   "outputs": [],
   "source": [
    "# For processing and maths\n",
    "import numpy as np\n",
    "import pandas as pd\n",
    "import re\n",
    "import requests\n",
    "import pickle"
   ]
  },
  {
   "cell_type": "code",
   "execution_count": 4,
   "metadata": {
    "colab": {
     "base_uri": "https://localhost:8080/",
     "height": 34
    },
    "colab_type": "code",
    "id": "RJOw_xPQeL9X",
    "outputId": "18e4b4f8-4eaa-494b-a169-cb4e4bfc5f87"
   },
   "outputs": [
    {
     "name": "stdout",
     "output_type": "stream",
     "text": [
      "Populating the interactive namespace from numpy and matplotlib\n"
     ]
    }
   ],
   "source": [
    "#For Visuals\n",
    "import matplotlib.pyplot as plt\n",
    "import seaborn as sns\n",
    "sns.set()\n",
    "from matplotlib import rcParams\n",
    "rcParams['figure.figsize'] = 11, 8\n",
    "%config InlineBackend.figure_format = 'svg'\n",
    "%matplotlib inline\n",
    "%pylab inline"
   ]
  },
  {
   "cell_type": "markdown",
   "metadata": {
    "colab_type": "text",
    "id": "mA9aE7ZGeYbb"
   },
   "source": [
    "# 2)-Loading datasets "
   ]
  },
  {
   "cell_type": "code",
   "execution_count": 5,
   "metadata": {
    "colab": {
     "base_uri": "https://localhost:8080/",
     "height": 34
    },
    "colab_type": "code",
    "id": "nptwi6qpeX4-",
    "outputId": "3f036be6-9867-4fd7-b4c3-a7e6a456c2a4"
   },
   "outputs": [
    {
     "data": {
      "text/plain": [
       "(59782, 8)"
      ]
     },
     "execution_count": 5,
     "metadata": {},
     "output_type": "execute_result"
    }
   ],
   "source": [
    "df_bol =pd.read_csv('clickdata.csv')\n",
    "df_bol.shape"
   ]
  },
  {
   "cell_type": "code",
   "execution_count": 6,
   "metadata": {
    "colab": {
     "base_uri": "https://localhost:8080/",
     "height": 101
    },
    "colab_type": "code",
    "id": "6nz1p0HNebKz",
    "outputId": "5ed241a5-e37a-46df-af0e-02573091d699"
   },
   "outputs": [
    {
     "data": {
      "text/plain": [
       "Index(['epoch_ms', 'session_id', 'country_by_ip_address',\n",
       "       'region_by_ip_address', 'url_without_parameters',\n",
       "       'referrer_without_parameters', 'visitor_recognition_type',\n",
       "       'ua_agent_class'],\n",
       "      dtype='object')"
      ]
     },
     "execution_count": 6,
     "metadata": {},
     "output_type": "execute_result"
    }
   ],
   "source": [
    "df_bol.columns"
   ]
  },
  {
   "cell_type": "code",
   "execution_count": 7,
   "metadata": {
    "colab": {
     "base_uri": "https://localhost:8080/",
     "height": 299
    },
    "colab_type": "code",
    "id": "jD1utT_xebQy",
    "outputId": "e7488cda-ff1c-4bf9-ae2a-5851d615f61a"
   },
   "outputs": [
    {
     "data": {
      "text/html": [
       "<div>\n",
       "<style scoped>\n",
       "    .dataframe tbody tr th:only-of-type {\n",
       "        vertical-align: middle;\n",
       "    }\n",
       "\n",
       "    .dataframe tbody tr th {\n",
       "        vertical-align: top;\n",
       "    }\n",
       "\n",
       "    .dataframe thead th {\n",
       "        text-align: right;\n",
       "    }\n",
       "</style>\n",
       "<table border=\"1\" class=\"dataframe\">\n",
       "  <thead>\n",
       "    <tr style=\"text-align: right;\">\n",
       "      <th></th>\n",
       "      <th>epoch_ms</th>\n",
       "      <th>session_id</th>\n",
       "      <th>country_by_ip_address</th>\n",
       "      <th>region_by_ip_address</th>\n",
       "      <th>url_without_parameters</th>\n",
       "      <th>referrer_without_parameters</th>\n",
       "      <th>visitor_recognition_type</th>\n",
       "      <th>ua_agent_class</th>\n",
       "    </tr>\n",
       "  </thead>\n",
       "  <tbody>\n",
       "    <tr>\n",
       "      <th>0</th>\n",
       "      <td>1520280001034</td>\n",
       "      <td>be73c8d1b836170a21529a1b23140f8e</td>\n",
       "      <td>US</td>\n",
       "      <td>CA</td>\n",
       "      <td>https://www.bol.com/nl/l/nederlandstalige-kuns...</td>\n",
       "      <td>NaN</td>\n",
       "      <td>ANONYMOUS</td>\n",
       "      <td>Robot</td>\n",
       "    </tr>\n",
       "    <tr>\n",
       "      <th>1</th>\n",
       "      <td>1520280001590</td>\n",
       "      <td>c24c6637ed7dcbe19ad64056184212a7</td>\n",
       "      <td>US</td>\n",
       "      <td>CA</td>\n",
       "      <td>https://www.bol.com/nl/l/italiaans-natuur-wete...</td>\n",
       "      <td>NaN</td>\n",
       "      <td>ANONYMOUS</td>\n",
       "      <td>Robot</td>\n",
       "    </tr>\n",
       "    <tr>\n",
       "      <th>2</th>\n",
       "      <td>1520280002397</td>\n",
       "      <td>ee391655f5680a7bfae0019450aed396</td>\n",
       "      <td>IT</td>\n",
       "      <td>LI</td>\n",
       "      <td>https://www.bol.com/nl/p/nespresso-magimix-ini...</td>\n",
       "      <td>https://www.bol.com/nl/p/nespresso-magimix-ini...</td>\n",
       "      <td>ANONYMOUS</td>\n",
       "      <td>Browser</td>\n",
       "    </tr>\n",
       "    <tr>\n",
       "      <th>3</th>\n",
       "      <td>1520280002598</td>\n",
       "      <td>f8c8a696dd37ca88233b2df096afa97f</td>\n",
       "      <td>US</td>\n",
       "      <td>CA</td>\n",
       "      <td>https://www.bol.com/nl/l/nieuwe-engelstalige-o...</td>\n",
       "      <td>NaN</td>\n",
       "      <td>ANONYMOUS</td>\n",
       "      <td>Robot</td>\n",
       "    </tr>\n",
       "    <tr>\n",
       "      <th>4</th>\n",
       "      <td>1520280004428</td>\n",
       "      <td>f8b0c06747b7dd1d53c0932306bd04d6</td>\n",
       "      <td>US</td>\n",
       "      <td>CA</td>\n",
       "      <td>https://www.bol.com/nl/l/nieuwe-actie-avontuur...</td>\n",
       "      <td>NaN</td>\n",
       "      <td>ANONYMOUS</td>\n",
       "      <td>Robot Mobile</td>\n",
       "    </tr>\n",
       "  </tbody>\n",
       "</table>\n",
       "</div>"
      ],
      "text/plain": [
       "        epoch_ms                        session_id country_by_ip_address  \\\n",
       "0  1520280001034  be73c8d1b836170a21529a1b23140f8e                    US   \n",
       "1  1520280001590  c24c6637ed7dcbe19ad64056184212a7                    US   \n",
       "2  1520280002397  ee391655f5680a7bfae0019450aed396                    IT   \n",
       "3  1520280002598  f8c8a696dd37ca88233b2df096afa97f                    US   \n",
       "4  1520280004428  f8b0c06747b7dd1d53c0932306bd04d6                    US   \n",
       "\n",
       "  region_by_ip_address                             url_without_parameters  \\\n",
       "0                   CA  https://www.bol.com/nl/l/nederlandstalige-kuns...   \n",
       "1                   CA  https://www.bol.com/nl/l/italiaans-natuur-wete...   \n",
       "2                   LI  https://www.bol.com/nl/p/nespresso-magimix-ini...   \n",
       "3                   CA  https://www.bol.com/nl/l/nieuwe-engelstalige-o...   \n",
       "4                   CA  https://www.bol.com/nl/l/nieuwe-actie-avontuur...   \n",
       "\n",
       "                         referrer_without_parameters visitor_recognition_type  \\\n",
       "0                                                NaN                ANONYMOUS   \n",
       "1                                                NaN                ANONYMOUS   \n",
       "2  https://www.bol.com/nl/p/nespresso-magimix-ini...                ANONYMOUS   \n",
       "3                                                NaN                ANONYMOUS   \n",
       "4                                                NaN                ANONYMOUS   \n",
       "\n",
       "  ua_agent_class  \n",
       "0          Robot  \n",
       "1          Robot  \n",
       "2        Browser  \n",
       "3          Robot  \n",
       "4   Robot Mobile  "
      ]
     },
     "execution_count": 7,
     "metadata": {},
     "output_type": "execute_result"
    }
   ],
   "source": [
    "df_bol.head()"
   ]
  },
  {
   "cell_type": "code",
   "execution_count": 8,
   "metadata": {
    "colab": {
     "base_uri": "https://localhost:8080/",
     "height": 299
    },
    "colab_type": "code",
    "id": "oIgmJhYEebUK",
    "outputId": "59530b64-88b0-4db2-de7d-bc25b8658d28"
   },
   "outputs": [
    {
     "data": {
      "text/html": [
       "<div>\n",
       "<style scoped>\n",
       "    .dataframe tbody tr th:only-of-type {\n",
       "        vertical-align: middle;\n",
       "    }\n",
       "\n",
       "    .dataframe tbody tr th {\n",
       "        vertical-align: top;\n",
       "    }\n",
       "\n",
       "    .dataframe thead th {\n",
       "        text-align: right;\n",
       "    }\n",
       "</style>\n",
       "<table border=\"1\" class=\"dataframe\">\n",
       "  <thead>\n",
       "    <tr style=\"text-align: right;\">\n",
       "      <th></th>\n",
       "      <th>epoch_ms</th>\n",
       "      <th>session_id</th>\n",
       "      <th>country_by_ip_address</th>\n",
       "      <th>region_by_ip_address</th>\n",
       "      <th>url_without_parameters</th>\n",
       "      <th>referrer_without_parameters</th>\n",
       "      <th>visitor_recognition_type</th>\n",
       "      <th>ua_agent_class</th>\n",
       "    </tr>\n",
       "  </thead>\n",
       "  <tbody>\n",
       "    <tr>\n",
       "      <th>59777</th>\n",
       "      <td>1520287193332</td>\n",
       "      <td>6a98ec825aa0ccdc2aefb0d02f291cde</td>\n",
       "      <td>NL</td>\n",
       "      <td>NH</td>\n",
       "      <td>https://www.bol.com/nl/p/gladskin-rosacea-gel-...</td>\n",
       "      <td>NaN</td>\n",
       "      <td>RECOGNIZED</td>\n",
       "      <td>Browser</td>\n",
       "    </tr>\n",
       "    <tr>\n",
       "      <th>59778</th>\n",
       "      <td>1520287193930</td>\n",
       "      <td>70664825c07eeb2af81c77e7ef6f7493</td>\n",
       "      <td>US</td>\n",
       "      <td>CA</td>\n",
       "      <td>https://www.bol.com/nl/p/homedecoration-toront...</td>\n",
       "      <td>NaN</td>\n",
       "      <td>ANONYMOUS</td>\n",
       "      <td>Robot</td>\n",
       "    </tr>\n",
       "    <tr>\n",
       "      <th>59779</th>\n",
       "      <td>1520287196302</td>\n",
       "      <td>99935d53a2f5d6e95adaecba3ec288e6</td>\n",
       "      <td>US</td>\n",
       "      <td>CA</td>\n",
       "      <td>https://www.bol.com/nl/l/witte-nike-sportshirt...</td>\n",
       "      <td>NaN</td>\n",
       "      <td>ANONYMOUS</td>\n",
       "      <td>Robot</td>\n",
       "    </tr>\n",
       "    <tr>\n",
       "      <th>59780</th>\n",
       "      <td>1520287197700</td>\n",
       "      <td>0bff91927029f6402eff065680b0d8d8</td>\n",
       "      <td>US</td>\n",
       "      <td>CA</td>\n",
       "      <td>https://www.bol.com/nl/l/gadgetbay-randapparat...</td>\n",
       "      <td>NaN</td>\n",
       "      <td>ANONYMOUS</td>\n",
       "      <td>Robot</td>\n",
       "    </tr>\n",
       "    <tr>\n",
       "      <th>59781</th>\n",
       "      <td>1520287199048</td>\n",
       "      <td>01201ebb918c64ea4dabdabdfbcbd1b0</td>\n",
       "      <td>NL</td>\n",
       "      <td>NaN</td>\n",
       "      <td>https://www.bol.com/nl/p/hp-z3700-draadloze-mu...</td>\n",
       "      <td>NaN</td>\n",
       "      <td>ANONYMOUS</td>\n",
       "      <td>Browser</td>\n",
       "    </tr>\n",
       "  </tbody>\n",
       "</table>\n",
       "</div>"
      ],
      "text/plain": [
       "            epoch_ms                        session_id country_by_ip_address  \\\n",
       "59777  1520287193332  6a98ec825aa0ccdc2aefb0d02f291cde                    NL   \n",
       "59778  1520287193930  70664825c07eeb2af81c77e7ef6f7493                    US   \n",
       "59779  1520287196302  99935d53a2f5d6e95adaecba3ec288e6                    US   \n",
       "59780  1520287197700  0bff91927029f6402eff065680b0d8d8                    US   \n",
       "59781  1520287199048  01201ebb918c64ea4dabdabdfbcbd1b0                    NL   \n",
       "\n",
       "      region_by_ip_address                             url_without_parameters  \\\n",
       "59777                   NH  https://www.bol.com/nl/p/gladskin-rosacea-gel-...   \n",
       "59778                   CA  https://www.bol.com/nl/p/homedecoration-toront...   \n",
       "59779                   CA  https://www.bol.com/nl/l/witte-nike-sportshirt...   \n",
       "59780                   CA  https://www.bol.com/nl/l/gadgetbay-randapparat...   \n",
       "59781                  NaN  https://www.bol.com/nl/p/hp-z3700-draadloze-mu...   \n",
       "\n",
       "      referrer_without_parameters visitor_recognition_type ua_agent_class  \n",
       "59777                         NaN               RECOGNIZED        Browser  \n",
       "59778                         NaN                ANONYMOUS          Robot  \n",
       "59779                         NaN                ANONYMOUS          Robot  \n",
       "59780                         NaN                ANONYMOUS          Robot  \n",
       "59781                         NaN                ANONYMOUS        Browser  "
      ]
     },
     "execution_count": 8,
     "metadata": {},
     "output_type": "execute_result"
    }
   ],
   "source": [
    "df_bol.tail()"
   ]
  },
  {
   "cell_type": "markdown",
   "metadata": {
    "colab_type": "text",
    "id": "XQHFnIwEmegJ"
   },
   "source": [
    "# 3)-Data Exploring"
   ]
  },
  {
   "cell_type": "markdown",
   "metadata": {
    "colab_type": "text",
    "id": "jw8r6BQLmp6p"
   },
   "source": [
    "### 3.1)- Checking data-type"
   ]
  },
  {
   "cell_type": "code",
   "execution_count": 9,
   "metadata": {
    "colab": {
     "base_uri": "https://localhost:8080/",
     "height": 284
    },
    "colab_type": "code",
    "id": "Yg5ct34KmqSv",
    "outputId": "f2e391b7-bcd3-415a-fa0a-304935eaa3f4"
   },
   "outputs": [
    {
     "data": {
      "text/html": [
       "<div>\n",
       "<style scoped>\n",
       "    .dataframe tbody tr th:only-of-type {\n",
       "        vertical-align: middle;\n",
       "    }\n",
       "\n",
       "    .dataframe tbody tr th {\n",
       "        vertical-align: top;\n",
       "    }\n",
       "\n",
       "    .dataframe thead th {\n",
       "        text-align: right;\n",
       "    }\n",
       "</style>\n",
       "<table border=\"1\" class=\"dataframe\">\n",
       "  <thead>\n",
       "    <tr style=\"text-align: right;\">\n",
       "      <th></th>\n",
       "      <th>Data Type</th>\n",
       "    </tr>\n",
       "  </thead>\n",
       "  <tbody>\n",
       "    <tr>\n",
       "      <th>epoch_ms</th>\n",
       "      <td>int64</td>\n",
       "    </tr>\n",
       "    <tr>\n",
       "      <th>session_id</th>\n",
       "      <td>object</td>\n",
       "    </tr>\n",
       "    <tr>\n",
       "      <th>country_by_ip_address</th>\n",
       "      <td>object</td>\n",
       "    </tr>\n",
       "    <tr>\n",
       "      <th>region_by_ip_address</th>\n",
       "      <td>object</td>\n",
       "    </tr>\n",
       "    <tr>\n",
       "      <th>url_without_parameters</th>\n",
       "      <td>object</td>\n",
       "    </tr>\n",
       "    <tr>\n",
       "      <th>referrer_without_parameters</th>\n",
       "      <td>object</td>\n",
       "    </tr>\n",
       "    <tr>\n",
       "      <th>visitor_recognition_type</th>\n",
       "      <td>object</td>\n",
       "    </tr>\n",
       "    <tr>\n",
       "      <th>ua_agent_class</th>\n",
       "      <td>object</td>\n",
       "    </tr>\n",
       "  </tbody>\n",
       "</table>\n",
       "</div>"
      ],
      "text/plain": [
       "                            Data Type\n",
       "epoch_ms                        int64\n",
       "session_id                     object\n",
       "country_by_ip_address          object\n",
       "region_by_ip_address           object\n",
       "url_without_parameters         object\n",
       "referrer_without_parameters    object\n",
       "visitor_recognition_type       object\n",
       "ua_agent_class                 object"
      ]
     },
     "execution_count": 9,
     "metadata": {},
     "output_type": "execute_result"
    }
   ],
   "source": [
    "# Checking all variables with their data-type\n",
    "def _tbl_dtype(dataset):\n",
    "    sum_dtype = pd.DataFrame(dataset.dtypes).sort_values(0).rename(columns = {0:'Data Type'})\n",
    "    return sum_dtype\n",
    "\n",
    "table_dtype = _tbl_dtype(df_bol)\n",
    "table_dtype"
   ]
  },
  {
   "cell_type": "markdown",
   "metadata": {
    "colab_type": "text",
    "id": "ihuSrOWymi3q"
   },
   "source": [
    "### 3.2)- Checking missing values"
   ]
  },
  {
   "cell_type": "code",
   "execution_count": 10,
   "metadata": {
    "colab": {},
    "colab_type": "code",
    "id": "3BIaAHLgmSKC"
   },
   "outputs": [],
   "source": [
    "def summary_missing(dataset):\n",
    "    n_miss = dataset.isnull().sum()\n",
    "    n_obs = dataset.shape[0]\n",
    "    n_miss_per = n_miss/n_obs*100\n",
    "    n_miss_tbl = pd.concat([n_miss, n_miss_per], axis = 1).sort_values(1, ascending = False).round(1)\n",
    "    n_miss_tbl = n_miss_tbl[n_miss_tbl[1] != 0]\n",
    "    print('No. of fields: ', dataset.shape[0])\n",
    "    print('No. of missing fields: ', n_miss_tbl.shape[0])\n",
    "    n_miss_tbl = n_miss_tbl.rename(columns = {0:'No. of mising Value', 1:'%age of missing Value'})\n",
    "    return n_miss_tbl"
   ]
  },
  {
   "cell_type": "code",
   "execution_count": 11,
   "metadata": {
    "colab": {
     "base_uri": "https://localhost:8080/",
     "height": 170
    },
    "colab_type": "code",
    "id": "c9FpjOeamSM3",
    "outputId": "e9048bd2-f852-482e-e9bf-1dc94eb6454f"
   },
   "outputs": [
    {
     "name": "stdout",
     "output_type": "stream",
     "text": [
      "No. of fields:  59782\n",
      "No. of missing fields:  3\n"
     ]
    },
    {
     "data": {
      "text/html": [
       "<div>\n",
       "<style scoped>\n",
       "    .dataframe tbody tr th:only-of-type {\n",
       "        vertical-align: middle;\n",
       "    }\n",
       "\n",
       "    .dataframe tbody tr th {\n",
       "        vertical-align: top;\n",
       "    }\n",
       "\n",
       "    .dataframe thead th {\n",
       "        text-align: right;\n",
       "    }\n",
       "</style>\n",
       "<table border=\"1\" class=\"dataframe\">\n",
       "  <thead>\n",
       "    <tr style=\"text-align: right;\">\n",
       "      <th></th>\n",
       "      <th>No. of mising Value</th>\n",
       "      <th>%age of missing Value</th>\n",
       "    </tr>\n",
       "  </thead>\n",
       "  <tbody>\n",
       "    <tr>\n",
       "      <th>referrer_without_parameters</th>\n",
       "      <td>44778</td>\n",
       "      <td>74.9</td>\n",
       "    </tr>\n",
       "    <tr>\n",
       "      <th>region_by_ip_address</th>\n",
       "      <td>9896</td>\n",
       "      <td>16.6</td>\n",
       "    </tr>\n",
       "    <tr>\n",
       "      <th>country_by_ip_address</th>\n",
       "      <td>248</td>\n",
       "      <td>0.4</td>\n",
       "    </tr>\n",
       "  </tbody>\n",
       "</table>\n",
       "</div>"
      ],
      "text/plain": [
       "                             No. of mising Value  %age of missing Value\n",
       "referrer_without_parameters                44778                   74.9\n",
       "region_by_ip_address                        9896                   16.6\n",
       "country_by_ip_address                        248                    0.4"
      ]
     },
     "execution_count": 11,
     "metadata": {},
     "output_type": "execute_result"
    }
   ],
   "source": [
    "summary_missing(df_bol)"
   ]
  },
  {
   "cell_type": "code",
   "execution_count": 12,
   "metadata": {
    "colab": {
     "base_uri": "https://localhost:8080/",
     "height": 1000
    },
    "colab_type": "code",
    "id": "VrNrLAyJmSPf",
    "outputId": "a94a465f-dccc-44c9-ca75-a64d7f6ed31c"
   },
   "outputs": [],
   "source": [
    "# checking each feature one by one starting with \"referrer_without_parameters\"\n",
    "\n",
    "#df_bol['referrer_without_parameters'].value_counts(dropna=False)"
   ]
  },
  {
   "cell_type": "code",
   "execution_count": 13,
   "metadata": {
    "colab": {
     "base_uri": "https://localhost:8080/",
     "height": 1000
    },
    "colab_type": "code",
    "id": "LKnqhd_Wo7w6",
    "outputId": "271ce0be-b28a-44f0-fd84-cd31d0a605cd"
   },
   "outputs": [
    {
     "data": {
      "text/plain": [
       "NL     25673\n",
       "US     22780\n",
       "BE      7409\n",
       "GB      1185\n",
       "DE       616\n",
       "FR       348\n",
       "NaN      248\n",
       "CN       236\n",
       "UA       192\n",
       "RU       105\n",
       "ES        90\n",
       "IE        89\n",
       "PL        81\n",
       "JP        80\n",
       "IT        74\n",
       "CA        65\n",
       "PT        62\n",
       "CH        42\n",
       "NZ        35\n",
       "GR        30\n",
       "QA        29\n",
       "SE        26\n",
       "BR        23\n",
       "BD        21\n",
       "TR        16\n",
       "ID        16\n",
       "AU        15\n",
       "IR        14\n",
       "HU        14\n",
       "AT        13\n",
       "       ...  \n",
       "CZ         8\n",
       "TH         8\n",
       "DK         7\n",
       "BG         7\n",
       "SR         6\n",
       "PK         5\n",
       "MK         5\n",
       "MD         4\n",
       "VN         4\n",
       "LV         4\n",
       "GH         4\n",
       "AL         3\n",
       "LT         3\n",
       "ZA         3\n",
       "KR         3\n",
       "AM         2\n",
       "MA         2\n",
       "SO         2\n",
       "PY         2\n",
       "AR         1\n",
       "SK         1\n",
       "DO         1\n",
       "LU         1\n",
       "MX         1\n",
       "IL         1\n",
       "MC         1\n",
       "KG         1\n",
       "BO         1\n",
       "CW         1\n",
       "MN         1\n",
       "Name: country_by_ip_address, Length: 66, dtype: int64"
      ]
     },
     "execution_count": 13,
     "metadata": {},
     "output_type": "execute_result"
    }
   ],
   "source": [
    "df_bol['country_by_ip_address'].value_counts(dropna=False)"
   ]
  },
  {
   "cell_type": "code",
   "execution_count": 14,
   "metadata": {
    "colab": {
     "base_uri": "https://localhost:8080/",
     "height": 1000
    },
    "colab_type": "code",
    "id": "o7iVont1mSSC",
    "outputId": "bfd0ec98-297d-428d-c1dd-20cf2b0ae203"
   },
   "outputs": [
    {
     "data": {
      "text/plain": [
       "CA     20662\n",
       "NaN     9896\n",
       "NH      4320\n",
       "ZH      4160\n",
       "VAN     2239\n",
       "NB      2112\n",
       "GE      1950\n",
       "UT      1586\n",
       "VOV     1333\n",
       "OV      1055\n",
       "VWV      821\n",
       "ENG      736\n",
       "VLI      730\n",
       "LI       707\n",
       "BRU      699\n",
       "OK       682\n",
       "GR       571\n",
       "FL       533\n",
       "VBR      528\n",
       "FR       480\n",
       "DR       436\n",
       "ZE       356\n",
       "BJ       234\n",
       "NY       229\n",
       "VA       203\n",
       "WA       137\n",
       "BOL      122\n",
       "30       104\n",
       "NJ        90\n",
       "11        74\n",
       "       ...  \n",
       "26         1\n",
       "GC         1\n",
       "29         1\n",
       "31         1\n",
       "WKO        1\n",
       "VD         1\n",
       "AM         1\n",
       "CE         1\n",
       "KP         1\n",
       "15         1\n",
       "TA         1\n",
       "VGG        1\n",
       "KHE        1\n",
       "BEN        1\n",
       "41         1\n",
       "WLX        1\n",
       "ENF        1\n",
       "UP         1\n",
       "86         1\n",
       "CMX        1\n",
       "531        1\n",
       "LT         1\n",
       "61         1\n",
       "06         1\n",
       "KEN        1\n",
       "IRK        1\n",
       "BL         1\n",
       "TO         1\n",
       "202        1\n",
       "ME         1\n",
       "Name: region_by_ip_address, Length: 229, dtype: int64"
      ]
     },
     "execution_count": 14,
     "metadata": {},
     "output_type": "execute_result"
    }
   ],
   "source": [
    "df_bol['region_by_ip_address'].value_counts(dropna=False)"
   ]
  },
  {
   "cell_type": "markdown",
   "metadata": {
    "colab_type": "text",
    "id": "v7wFXFGkq-g7"
   },
   "source": [
    "We could either remove these missing values or we might fill them with an \"entity\". If it were numerical data then I would add 0. As it is categorical data , we might add\"various\" or as training model suggests , we may also add ''. I will use same code as given"
   ]
  },
  {
   "cell_type": "code",
   "execution_count": 15,
   "metadata": {
    "colab": {},
    "colab_type": "code",
    "id": "5tRmQ-WeooAj"
   },
   "outputs": [],
   "source": [
    "df_bol.replace(np.nan, '', regex=True, inplace=True)\n",
    "df_bol.replace('Unknown', '', regex=True, inplace=True)"
   ]
  },
  {
   "cell_type": "code",
   "execution_count": 16,
   "metadata": {
    "colab": {
     "base_uri": "https://localhost:8080/",
     "height": 81
    },
    "colab_type": "code",
    "id": "W1vhA5HrrxUZ",
    "outputId": "e15c0b77-b79d-4fc1-ffeb-b6d2d5804ed4"
   },
   "outputs": [
    {
     "name": "stdout",
     "output_type": "stream",
     "text": [
      "No. of fields:  59782\n",
      "No. of missing fields:  0\n"
     ]
    },
    {
     "data": {
      "text/html": [
       "<div>\n",
       "<style scoped>\n",
       "    .dataframe tbody tr th:only-of-type {\n",
       "        vertical-align: middle;\n",
       "    }\n",
       "\n",
       "    .dataframe tbody tr th {\n",
       "        vertical-align: top;\n",
       "    }\n",
       "\n",
       "    .dataframe thead th {\n",
       "        text-align: right;\n",
       "    }\n",
       "</style>\n",
       "<table border=\"1\" class=\"dataframe\">\n",
       "  <thead>\n",
       "    <tr style=\"text-align: right;\">\n",
       "      <th></th>\n",
       "      <th>No. of mising Value</th>\n",
       "      <th>%age of missing Value</th>\n",
       "    </tr>\n",
       "  </thead>\n",
       "  <tbody>\n",
       "  </tbody>\n",
       "</table>\n",
       "</div>"
      ],
      "text/plain": [
       "Empty DataFrame\n",
       "Columns: [No. of mising Value, %age of missing Value]\n",
       "Index: []"
      ]
     },
     "execution_count": 16,
     "metadata": {},
     "output_type": "execute_result"
    }
   ],
   "source": [
    "summary_missing(df_bol)"
   ]
  },
  {
   "cell_type": "markdown",
   "metadata": {
    "colab_type": "text",
    "id": "pUercXsJvHXc"
   },
   "source": [
    "Seems fine now"
   ]
  },
  {
   "cell_type": "markdown",
   "metadata": {
    "colab_type": "text",
    "id": "ckyMNwRKbG4u"
   },
   "source": [
    "### 3.3)-checking duplicate values"
   ]
  },
  {
   "cell_type": "code",
   "execution_count": 17,
   "metadata": {
    "colab": {
     "base_uri": "https://localhost:8080/",
     "height": 34
    },
    "colab_type": "code",
    "id": "erep1L9ybK5z",
    "outputId": "3dc67b43-007f-4d2f-c30b-eef324bf7288"
   },
   "outputs": [
    {
     "name": "stdout",
     "output_type": "stream",
     "text": [
      "0\n"
     ]
    }
   ],
   "source": [
    "print(df_bol.duplicated().sum())"
   ]
  },
  {
   "cell_type": "markdown",
   "metadata": {
    "colab_type": "text",
    "id": "7DqbCRQDmxDv"
   },
   "source": [
    "### 3.4)-Sorting"
   ]
  },
  {
   "cell_type": "code",
   "execution_count": 18,
   "metadata": {
    "colab": {
     "base_uri": "https://localhost:8080/",
     "height": 266
    },
    "colab_type": "code",
    "id": "4pv5_xNbmzWU",
    "outputId": "1774b7b2-fe70-43c8-8da6-c4ad77766a2a"
   },
   "outputs": [
    {
     "data": {
      "text/html": [
       "<div>\n",
       "<style scoped>\n",
       "    .dataframe tbody tr th:only-of-type {\n",
       "        vertical-align: middle;\n",
       "    }\n",
       "\n",
       "    .dataframe tbody tr th {\n",
       "        vertical-align: top;\n",
       "    }\n",
       "\n",
       "    .dataframe thead th {\n",
       "        text-align: right;\n",
       "    }\n",
       "</style>\n",
       "<table border=\"1\" class=\"dataframe\">\n",
       "  <thead>\n",
       "    <tr style=\"text-align: right;\">\n",
       "      <th></th>\n",
       "      <th>epoch_ms</th>\n",
       "      <th>session_id</th>\n",
       "      <th>country_by_ip_address</th>\n",
       "      <th>region_by_ip_address</th>\n",
       "      <th>url_without_parameters</th>\n",
       "      <th>referrer_without_parameters</th>\n",
       "      <th>visitor_recognition_type</th>\n",
       "      <th>ua_agent_class</th>\n",
       "    </tr>\n",
       "  </thead>\n",
       "  <tbody>\n",
       "    <tr>\n",
       "      <th>34496</th>\n",
       "      <td>1520280202558</td>\n",
       "      <td>da3b7564f35e8f28451ae65a9a9b66d1</td>\n",
       "      <td>NL</td>\n",
       "      <td></td>\n",
       "      <td>https://www.bol.com/nl/b/ajax/index.html</td>\n",
       "      <td>https://www.bol.com/nl/b/baby-kinderkleding-jo...</td>\n",
       "      <td>RECOGNIZED</td>\n",
       "      <td>Browser</td>\n",
       "    </tr>\n",
       "    <tr>\n",
       "      <th>27702</th>\n",
       "      <td>1520281427095</td>\n",
       "      <td>b394bfb124a91cd9ebbedd4f14d5e4b0</td>\n",
       "      <td>BE</td>\n",
       "      <td>VAN</td>\n",
       "      <td>https://www.bol.com/nl/p/swampworld-dionaea-mu...</td>\n",
       "      <td>https://www.bol.com/nl/s/tuin/zoekresultaten/N...</td>\n",
       "      <td>RECOGNIZED</td>\n",
       "      <td>Browser</td>\n",
       "    </tr>\n",
       "    <tr>\n",
       "      <th>27721</th>\n",
       "      <td>1520281441407</td>\n",
       "      <td>e3d49b10074a12986d8868dd85835fb6</td>\n",
       "      <td>BE</td>\n",
       "      <td></td>\n",
       "      <td>https://www.bol.com/nl/p/sistema-bake-it-versh...</td>\n",
       "      <td>https://www.bol.com/nl/s/algemeen/zoekresultat...</td>\n",
       "      <td>RECOGNIZED</td>\n",
       "      <td>Browser</td>\n",
       "    </tr>\n",
       "    <tr>\n",
       "      <th>12747</th>\n",
       "      <td>1520283062812</td>\n",
       "      <td>03988ce8b205597d44bc571d8a04162a</td>\n",
       "      <td>NL</td>\n",
       "      <td>GE</td>\n",
       "      <td>https://www.bol.com/nl/s/ajax/index.html</td>\n",
       "      <td>https://www.bol.com/nl/s/algemeen/zoekresultat...</td>\n",
       "      <td>RECOGNIZED</td>\n",
       "      <td>Browser</td>\n",
       "    </tr>\n",
       "    <tr>\n",
       "      <th>27716</th>\n",
       "      <td>1520281439193</td>\n",
       "      <td>01302b8ffd4ccc060e926d01171651c7</td>\n",
       "      <td>NL</td>\n",
       "      <td></td>\n",
       "      <td>https://www.bol.com/nl/p/wereldbol-met-verlich...</td>\n",
       "      <td></td>\n",
       "      <td>RECOGNIZED</td>\n",
       "      <td>Browser</td>\n",
       "    </tr>\n",
       "  </tbody>\n",
       "</table>\n",
       "</div>"
      ],
      "text/plain": [
       "            epoch_ms                        session_id country_by_ip_address  \\\n",
       "34496  1520280202558  da3b7564f35e8f28451ae65a9a9b66d1                    NL   \n",
       "27702  1520281427095  b394bfb124a91cd9ebbedd4f14d5e4b0                    BE   \n",
       "27721  1520281441407  e3d49b10074a12986d8868dd85835fb6                    BE   \n",
       "12747  1520283062812  03988ce8b205597d44bc571d8a04162a                    NL   \n",
       "27716  1520281439193  01302b8ffd4ccc060e926d01171651c7                    NL   \n",
       "\n",
       "      region_by_ip_address                             url_without_parameters  \\\n",
       "34496                                https://www.bol.com/nl/b/ajax/index.html   \n",
       "27702                  VAN  https://www.bol.com/nl/p/swampworld-dionaea-mu...   \n",
       "27721                       https://www.bol.com/nl/p/sistema-bake-it-versh...   \n",
       "12747                   GE           https://www.bol.com/nl/s/ajax/index.html   \n",
       "27716                       https://www.bol.com/nl/p/wereldbol-met-verlich...   \n",
       "\n",
       "                             referrer_without_parameters  \\\n",
       "34496  https://www.bol.com/nl/b/baby-kinderkleding-jo...   \n",
       "27702  https://www.bol.com/nl/s/tuin/zoekresultaten/N...   \n",
       "27721  https://www.bol.com/nl/s/algemeen/zoekresultat...   \n",
       "12747  https://www.bol.com/nl/s/algemeen/zoekresultat...   \n",
       "27716                                                      \n",
       "\n",
       "      visitor_recognition_type ua_agent_class  \n",
       "34496               RECOGNIZED        Browser  \n",
       "27702               RECOGNIZED        Browser  \n",
       "27721               RECOGNIZED        Browser  \n",
       "12747               RECOGNIZED        Browser  \n",
       "27716               RECOGNIZED        Browser  "
      ]
     },
     "execution_count": 18,
     "metadata": {},
     "output_type": "execute_result"
    }
   ],
   "source": [
    "df_bol.sort_values(by='visitor_recognition_type', ascending=False).head()"
   ]
  },
  {
   "cell_type": "code",
   "execution_count": 19,
   "metadata": {
    "colab": {
     "base_uri": "https://localhost:8080/",
     "height": 266
    },
    "colab_type": "code",
    "id": "6Y-wDJHNmzZc",
    "outputId": "dfd5a109-4837-442a-f485-85799b66b988"
   },
   "outputs": [
    {
     "data": {
      "text/html": [
       "<div>\n",
       "<style scoped>\n",
       "    .dataframe tbody tr th:only-of-type {\n",
       "        vertical-align: middle;\n",
       "    }\n",
       "\n",
       "    .dataframe tbody tr th {\n",
       "        vertical-align: top;\n",
       "    }\n",
       "\n",
       "    .dataframe thead th {\n",
       "        text-align: right;\n",
       "    }\n",
       "</style>\n",
       "<table border=\"1\" class=\"dataframe\">\n",
       "  <thead>\n",
       "    <tr style=\"text-align: right;\">\n",
       "      <th></th>\n",
       "      <th>epoch_ms</th>\n",
       "      <th>session_id</th>\n",
       "      <th>country_by_ip_address</th>\n",
       "      <th>region_by_ip_address</th>\n",
       "      <th>url_without_parameters</th>\n",
       "      <th>referrer_without_parameters</th>\n",
       "      <th>visitor_recognition_type</th>\n",
       "      <th>ua_agent_class</th>\n",
       "    </tr>\n",
       "  </thead>\n",
       "  <tbody>\n",
       "    <tr>\n",
       "      <th>9</th>\n",
       "      <td>1520280013619</td>\n",
       "      <td>d3828e7e2638881c9b0f3bed0221f815</td>\n",
       "      <td>NL</td>\n",
       "      <td>ZH</td>\n",
       "      <td>https://www.bol.com/nl/t/elektronica/audio-hif...</td>\n",
       "      <td></td>\n",
       "      <td>RECOGNIZED</td>\n",
       "      <td>Browser</td>\n",
       "    </tr>\n",
       "    <tr>\n",
       "      <th>19</th>\n",
       "      <td>1520280023995</td>\n",
       "      <td>6c3d7350dee7687fe8a550951ae2ad4a</td>\n",
       "      <td>NL</td>\n",
       "      <td>ZH</td>\n",
       "      <td>https://www.bol.com/nl/checkout/login.html</td>\n",
       "      <td></td>\n",
       "      <td>RECOGNIZED</td>\n",
       "      <td>Browser</td>\n",
       "    </tr>\n",
       "    <tr>\n",
       "      <th>26</th>\n",
       "      <td>1520280033070</td>\n",
       "      <td>160fdd31c0a5ecfb6e27d0c9e99eceaa</td>\n",
       "      <td>NL</td>\n",
       "      <td>UT</td>\n",
       "      <td>https://www.bol.com/nl/p/ducksday-zomer-poncho...</td>\n",
       "      <td>https://www.bol.com/nl/s/algemeen/zoekresultat...</td>\n",
       "      <td>RECOGNIZED</td>\n",
       "      <td>Browser</td>\n",
       "    </tr>\n",
       "    <tr>\n",
       "      <th>37</th>\n",
       "      <td>1520280038110</td>\n",
       "      <td>13f24291bd85342a43c4afbdad7c6e9c</td>\n",
       "      <td>NL</td>\n",
       "      <td>GR</td>\n",
       "      <td>https://www.bol.com/nl/ra/boeken/gratis-verzen...</td>\n",
       "      <td></td>\n",
       "      <td>RECOGNIZED</td>\n",
       "      <td>Browser</td>\n",
       "    </tr>\n",
       "    <tr>\n",
       "      <th>39</th>\n",
       "      <td>1520280039188</td>\n",
       "      <td>8e2499565ca2b5a8a1ece6080e09af5d</td>\n",
       "      <td>NL</td>\n",
       "      <td>NB</td>\n",
       "      <td>https://www.bol.com/nl/c/ajax/index.html</td>\n",
       "      <td></td>\n",
       "      <td>RECOGNIZED</td>\n",
       "      <td>Browser</td>\n",
       "    </tr>\n",
       "  </tbody>\n",
       "</table>\n",
       "</div>"
      ],
      "text/plain": [
       "         epoch_ms                        session_id country_by_ip_address  \\\n",
       "9   1520280013619  d3828e7e2638881c9b0f3bed0221f815                    NL   \n",
       "19  1520280023995  6c3d7350dee7687fe8a550951ae2ad4a                    NL   \n",
       "26  1520280033070  160fdd31c0a5ecfb6e27d0c9e99eceaa                    NL   \n",
       "37  1520280038110  13f24291bd85342a43c4afbdad7c6e9c                    NL   \n",
       "39  1520280039188  8e2499565ca2b5a8a1ece6080e09af5d                    NL   \n",
       "\n",
       "   region_by_ip_address                             url_without_parameters  \\\n",
       "9                    ZH  https://www.bol.com/nl/t/elektronica/audio-hif...   \n",
       "19                   ZH         https://www.bol.com/nl/checkout/login.html   \n",
       "26                   UT  https://www.bol.com/nl/p/ducksday-zomer-poncho...   \n",
       "37                   GR  https://www.bol.com/nl/ra/boeken/gratis-verzen...   \n",
       "39                   NB           https://www.bol.com/nl/c/ajax/index.html   \n",
       "\n",
       "                          referrer_without_parameters  \\\n",
       "9                                                       \n",
       "19                                                      \n",
       "26  https://www.bol.com/nl/s/algemeen/zoekresultat...   \n",
       "37                                                      \n",
       "39                                                      \n",
       "\n",
       "   visitor_recognition_type ua_agent_class  \n",
       "9                RECOGNIZED        Browser  \n",
       "19               RECOGNIZED        Browser  \n",
       "26               RECOGNIZED        Browser  \n",
       "37               RECOGNIZED        Browser  \n",
       "39               RECOGNIZED        Browser  "
      ]
     },
     "execution_count": 19,
     "metadata": {},
     "output_type": "execute_result"
    }
   ],
   "source": [
    "df_bol.sort_values(by=['ua_agent_class', 'visitor_recognition_type'], ascending=[True, False]).head()"
   ]
  },
  {
   "cell_type": "markdown",
   "metadata": {
    "colab_type": "text",
    "id": "PoPAZgN3sB1M"
   },
   "source": [
    "### groupby"
   ]
  },
  {
   "cell_type": "code",
   "execution_count": 20,
   "metadata": {
    "colab": {
     "base_uri": "https://localhost:8080/",
     "height": 284
    },
    "colab_type": "code",
    "id": "3ixu_q2ZtrB-",
    "outputId": "12b2cd8e-5729-452f-ad37-4c7bbe9a0711"
   },
   "outputs": [
    {
     "data": {
      "text/html": [
       "<div>\n",
       "<style scoped>\n",
       "    .dataframe tbody tr th:only-of-type {\n",
       "        vertical-align: middle;\n",
       "    }\n",
       "\n",
       "    .dataframe tbody tr th {\n",
       "        vertical-align: top;\n",
       "    }\n",
       "\n",
       "    .dataframe thead th {\n",
       "        text-align: right;\n",
       "    }\n",
       "</style>\n",
       "<table border=\"1\" class=\"dataframe\">\n",
       "  <thead>\n",
       "    <tr style=\"text-align: right;\">\n",
       "      <th></th>\n",
       "      <th>epoch_ms</th>\n",
       "      <th>session_id</th>\n",
       "      <th>country_by_ip_address</th>\n",
       "      <th>region_by_ip_address</th>\n",
       "      <th>url_without_parameters</th>\n",
       "      <th>referrer_without_parameters</th>\n",
       "      <th>visitor_recognition_type</th>\n",
       "    </tr>\n",
       "    <tr>\n",
       "      <th>ua_agent_class</th>\n",
       "      <th></th>\n",
       "      <th></th>\n",
       "      <th></th>\n",
       "      <th></th>\n",
       "      <th></th>\n",
       "      <th></th>\n",
       "      <th></th>\n",
       "    </tr>\n",
       "  </thead>\n",
       "  <tbody>\n",
       "    <tr>\n",
       "      <th>Browser</th>\n",
       "      <td>35509</td>\n",
       "      <td>35509</td>\n",
       "      <td>35509</td>\n",
       "      <td>35509</td>\n",
       "      <td>35509</td>\n",
       "      <td>35509</td>\n",
       "      <td>35509</td>\n",
       "    </tr>\n",
       "    <tr>\n",
       "      <th>Browser Webview</th>\n",
       "      <td>1800</td>\n",
       "      <td>1800</td>\n",
       "      <td>1800</td>\n",
       "      <td>1800</td>\n",
       "      <td>1800</td>\n",
       "      <td>1800</td>\n",
       "      <td>1800</td>\n",
       "    </tr>\n",
       "    <tr>\n",
       "      <th>Cloud Application</th>\n",
       "      <td>2</td>\n",
       "      <td>2</td>\n",
       "      <td>2</td>\n",
       "      <td>2</td>\n",
       "      <td>2</td>\n",
       "      <td>2</td>\n",
       "      <td>2</td>\n",
       "    </tr>\n",
       "    <tr>\n",
       "      <th>Hacker</th>\n",
       "      <td>1177</td>\n",
       "      <td>1177</td>\n",
       "      <td>1177</td>\n",
       "      <td>1177</td>\n",
       "      <td>1177</td>\n",
       "      <td>1177</td>\n",
       "      <td>1177</td>\n",
       "    </tr>\n",
       "    <tr>\n",
       "      <th>Mobile App</th>\n",
       "      <td>9</td>\n",
       "      <td>9</td>\n",
       "      <td>9</td>\n",
       "      <td>9</td>\n",
       "      <td>9</td>\n",
       "      <td>9</td>\n",
       "      <td>9</td>\n",
       "    </tr>\n",
       "    <tr>\n",
       "      <th>Robot</th>\n",
       "      <td>16026</td>\n",
       "      <td>16026</td>\n",
       "      <td>16026</td>\n",
       "      <td>16026</td>\n",
       "      <td>16026</td>\n",
       "      <td>16026</td>\n",
       "      <td>16026</td>\n",
       "    </tr>\n",
       "    <tr>\n",
       "      <th>Robot Mobile</th>\n",
       "      <td>5115</td>\n",
       "      <td>5115</td>\n",
       "      <td>5115</td>\n",
       "      <td>5115</td>\n",
       "      <td>5115</td>\n",
       "      <td>5115</td>\n",
       "      <td>5115</td>\n",
       "    </tr>\n",
       "    <tr>\n",
       "      <th>Special</th>\n",
       "      <td>144</td>\n",
       "      <td>144</td>\n",
       "      <td>144</td>\n",
       "      <td>144</td>\n",
       "      <td>144</td>\n",
       "      <td>144</td>\n",
       "      <td>144</td>\n",
       "    </tr>\n",
       "  </tbody>\n",
       "</table>\n",
       "</div>"
      ],
      "text/plain": [
       "                   epoch_ms  session_id  country_by_ip_address  \\\n",
       "ua_agent_class                                                   \n",
       "Browser               35509       35509                  35509   \n",
       "Browser Webview        1800        1800                   1800   \n",
       "Cloud Application         2           2                      2   \n",
       "Hacker                 1177        1177                   1177   \n",
       "Mobile App                9           9                      9   \n",
       "Robot                 16026       16026                  16026   \n",
       "Robot Mobile           5115        5115                   5115   \n",
       "Special                 144         144                    144   \n",
       "\n",
       "                   region_by_ip_address  url_without_parameters  \\\n",
       "ua_agent_class                                                    \n",
       "Browser                           35509                   35509   \n",
       "Browser Webview                    1800                    1800   \n",
       "Cloud Application                     2                       2   \n",
       "Hacker                             1177                    1177   \n",
       "Mobile App                            9                       9   \n",
       "Robot                             16026                   16026   \n",
       "Robot Mobile                       5115                    5115   \n",
       "Special                             144                     144   \n",
       "\n",
       "                   referrer_without_parameters  visitor_recognition_type  \n",
       "ua_agent_class                                                            \n",
       "Browser                                  35509                     35509  \n",
       "Browser Webview                           1800                      1800  \n",
       "Cloud Application                            2                         2  \n",
       "Hacker                                    1177                      1177  \n",
       "Mobile App                                   9                         9  \n",
       "Robot                                    16026                     16026  \n",
       "Robot Mobile                              5115                      5115  \n",
       "Special                                    144                       144  "
      ]
     },
     "execution_count": 20,
     "metadata": {},
     "output_type": "execute_result"
    }
   ],
   "source": [
    "df_bol.groupby(['ua_agent_class']).count()"
   ]
  },
  {
   "cell_type": "code",
   "execution_count": 21,
   "metadata": {
    "colab": {
     "base_uri": "https://localhost:8080/",
     "height": 462
    },
    "colab_type": "code",
    "id": "YOJDQmykri3E",
    "outputId": "cb68a377-067a-484c-a7a4-04936786e006"
   },
   "outputs": [
    {
     "data": {
      "text/html": [
       "<div>\n",
       "<style scoped>\n",
       "    .dataframe tbody tr th:only-of-type {\n",
       "        vertical-align: middle;\n",
       "    }\n",
       "\n",
       "    .dataframe tbody tr th {\n",
       "        vertical-align: top;\n",
       "    }\n",
       "\n",
       "    .dataframe thead th {\n",
       "        text-align: right;\n",
       "    }\n",
       "</style>\n",
       "<table border=\"1\" class=\"dataframe\">\n",
       "  <thead>\n",
       "    <tr style=\"text-align: right;\">\n",
       "      <th></th>\n",
       "      <th></th>\n",
       "      <th>epoch_ms</th>\n",
       "      <th>session_id</th>\n",
       "      <th>country_by_ip_address</th>\n",
       "      <th>region_by_ip_address</th>\n",
       "      <th>url_without_parameters</th>\n",
       "      <th>referrer_without_parameters</th>\n",
       "    </tr>\n",
       "    <tr>\n",
       "      <th>ua_agent_class</th>\n",
       "      <th>visitor_recognition_type</th>\n",
       "      <th></th>\n",
       "      <th></th>\n",
       "      <th></th>\n",
       "      <th></th>\n",
       "      <th></th>\n",
       "      <th></th>\n",
       "    </tr>\n",
       "  </thead>\n",
       "  <tbody>\n",
       "    <tr>\n",
       "      <th rowspan=\"3\" valign=\"top\">Browser</th>\n",
       "      <th>ANONYMOUS</th>\n",
       "      <td>20390</td>\n",
       "      <td>20390</td>\n",
       "      <td>20390</td>\n",
       "      <td>20390</td>\n",
       "      <td>20390</td>\n",
       "      <td>20390</td>\n",
       "    </tr>\n",
       "    <tr>\n",
       "      <th>LOGGEDIN</th>\n",
       "      <td>3076</td>\n",
       "      <td>3076</td>\n",
       "      <td>3076</td>\n",
       "      <td>3076</td>\n",
       "      <td>3076</td>\n",
       "      <td>3076</td>\n",
       "    </tr>\n",
       "    <tr>\n",
       "      <th>RECOGNIZED</th>\n",
       "      <td>12043</td>\n",
       "      <td>12043</td>\n",
       "      <td>12043</td>\n",
       "      <td>12043</td>\n",
       "      <td>12043</td>\n",
       "      <td>12043</td>\n",
       "    </tr>\n",
       "    <tr>\n",
       "      <th rowspan=\"3\" valign=\"top\">Browser Webview</th>\n",
       "      <th>ANONYMOUS</th>\n",
       "      <td>849</td>\n",
       "      <td>849</td>\n",
       "      <td>849</td>\n",
       "      <td>849</td>\n",
       "      <td>849</td>\n",
       "      <td>849</td>\n",
       "    </tr>\n",
       "    <tr>\n",
       "      <th>LOGGEDIN</th>\n",
       "      <td>406</td>\n",
       "      <td>406</td>\n",
       "      <td>406</td>\n",
       "      <td>406</td>\n",
       "      <td>406</td>\n",
       "      <td>406</td>\n",
       "    </tr>\n",
       "    <tr>\n",
       "      <th>RECOGNIZED</th>\n",
       "      <td>545</td>\n",
       "      <td>545</td>\n",
       "      <td>545</td>\n",
       "      <td>545</td>\n",
       "      <td>545</td>\n",
       "      <td>545</td>\n",
       "    </tr>\n",
       "    <tr>\n",
       "      <th>Cloud Application</th>\n",
       "      <th>ANONYMOUS</th>\n",
       "      <td>2</td>\n",
       "      <td>2</td>\n",
       "      <td>2</td>\n",
       "      <td>2</td>\n",
       "      <td>2</td>\n",
       "      <td>2</td>\n",
       "    </tr>\n",
       "    <tr>\n",
       "      <th rowspan=\"2\" valign=\"top\">Hacker</th>\n",
       "      <th>ANONYMOUS</th>\n",
       "      <td>1176</td>\n",
       "      <td>1176</td>\n",
       "      <td>1176</td>\n",
       "      <td>1176</td>\n",
       "      <td>1176</td>\n",
       "      <td>1176</td>\n",
       "    </tr>\n",
       "    <tr>\n",
       "      <th>RECOGNIZED</th>\n",
       "      <td>1</td>\n",
       "      <td>1</td>\n",
       "      <td>1</td>\n",
       "      <td>1</td>\n",
       "      <td>1</td>\n",
       "      <td>1</td>\n",
       "    </tr>\n",
       "    <tr>\n",
       "      <th>Mobile App</th>\n",
       "      <th>ANONYMOUS</th>\n",
       "      <td>9</td>\n",
       "      <td>9</td>\n",
       "      <td>9</td>\n",
       "      <td>9</td>\n",
       "      <td>9</td>\n",
       "      <td>9</td>\n",
       "    </tr>\n",
       "    <tr>\n",
       "      <th>Robot</th>\n",
       "      <th>ANONYMOUS</th>\n",
       "      <td>16026</td>\n",
       "      <td>16026</td>\n",
       "      <td>16026</td>\n",
       "      <td>16026</td>\n",
       "      <td>16026</td>\n",
       "      <td>16026</td>\n",
       "    </tr>\n",
       "    <tr>\n",
       "      <th>Robot Mobile</th>\n",
       "      <th>ANONYMOUS</th>\n",
       "      <td>5115</td>\n",
       "      <td>5115</td>\n",
       "      <td>5115</td>\n",
       "      <td>5115</td>\n",
       "      <td>5115</td>\n",
       "      <td>5115</td>\n",
       "    </tr>\n",
       "    <tr>\n",
       "      <th>Special</th>\n",
       "      <th>ANONYMOUS</th>\n",
       "      <td>144</td>\n",
       "      <td>144</td>\n",
       "      <td>144</td>\n",
       "      <td>144</td>\n",
       "      <td>144</td>\n",
       "      <td>144</td>\n",
       "    </tr>\n",
       "  </tbody>\n",
       "</table>\n",
       "</div>"
      ],
      "text/plain": [
       "                                            epoch_ms  session_id  \\\n",
       "ua_agent_class    visitor_recognition_type                         \n",
       "Browser           ANONYMOUS                    20390       20390   \n",
       "                  LOGGEDIN                      3076        3076   \n",
       "                  RECOGNIZED                   12043       12043   \n",
       "Browser Webview   ANONYMOUS                      849         849   \n",
       "                  LOGGEDIN                       406         406   \n",
       "                  RECOGNIZED                     545         545   \n",
       "Cloud Application ANONYMOUS                        2           2   \n",
       "Hacker            ANONYMOUS                     1176        1176   \n",
       "                  RECOGNIZED                       1           1   \n",
       "Mobile App        ANONYMOUS                        9           9   \n",
       "Robot             ANONYMOUS                    16026       16026   \n",
       "Robot Mobile      ANONYMOUS                     5115        5115   \n",
       "Special           ANONYMOUS                      144         144   \n",
       "\n",
       "                                            country_by_ip_address  \\\n",
       "ua_agent_class    visitor_recognition_type                          \n",
       "Browser           ANONYMOUS                                 20390   \n",
       "                  LOGGEDIN                                   3076   \n",
       "                  RECOGNIZED                                12043   \n",
       "Browser Webview   ANONYMOUS                                   849   \n",
       "                  LOGGEDIN                                    406   \n",
       "                  RECOGNIZED                                  545   \n",
       "Cloud Application ANONYMOUS                                     2   \n",
       "Hacker            ANONYMOUS                                  1176   \n",
       "                  RECOGNIZED                                    1   \n",
       "Mobile App        ANONYMOUS                                     9   \n",
       "Robot             ANONYMOUS                                 16026   \n",
       "Robot Mobile      ANONYMOUS                                  5115   \n",
       "Special           ANONYMOUS                                   144   \n",
       "\n",
       "                                            region_by_ip_address  \\\n",
       "ua_agent_class    visitor_recognition_type                         \n",
       "Browser           ANONYMOUS                                20390   \n",
       "                  LOGGEDIN                                  3076   \n",
       "                  RECOGNIZED                               12043   \n",
       "Browser Webview   ANONYMOUS                                  849   \n",
       "                  LOGGEDIN                                   406   \n",
       "                  RECOGNIZED                                 545   \n",
       "Cloud Application ANONYMOUS                                    2   \n",
       "Hacker            ANONYMOUS                                 1176   \n",
       "                  RECOGNIZED                                   1   \n",
       "Mobile App        ANONYMOUS                                    9   \n",
       "Robot             ANONYMOUS                                16026   \n",
       "Robot Mobile      ANONYMOUS                                 5115   \n",
       "Special           ANONYMOUS                                  144   \n",
       "\n",
       "                                            url_without_parameters  \\\n",
       "ua_agent_class    visitor_recognition_type                           \n",
       "Browser           ANONYMOUS                                  20390   \n",
       "                  LOGGEDIN                                    3076   \n",
       "                  RECOGNIZED                                 12043   \n",
       "Browser Webview   ANONYMOUS                                    849   \n",
       "                  LOGGEDIN                                     406   \n",
       "                  RECOGNIZED                                   545   \n",
       "Cloud Application ANONYMOUS                                      2   \n",
       "Hacker            ANONYMOUS                                   1176   \n",
       "                  RECOGNIZED                                     1   \n",
       "Mobile App        ANONYMOUS                                      9   \n",
       "Robot             ANONYMOUS                                  16026   \n",
       "Robot Mobile      ANONYMOUS                                   5115   \n",
       "Special           ANONYMOUS                                    144   \n",
       "\n",
       "                                            referrer_without_parameters  \n",
       "ua_agent_class    visitor_recognition_type                               \n",
       "Browser           ANONYMOUS                                       20390  \n",
       "                  LOGGEDIN                                         3076  \n",
       "                  RECOGNIZED                                      12043  \n",
       "Browser Webview   ANONYMOUS                                         849  \n",
       "                  LOGGEDIN                                          406  \n",
       "                  RECOGNIZED                                        545  \n",
       "Cloud Application ANONYMOUS                                           2  \n",
       "Hacker            ANONYMOUS                                        1176  \n",
       "                  RECOGNIZED                                          1  \n",
       "Mobile App        ANONYMOUS                                           9  \n",
       "Robot             ANONYMOUS                                       16026  \n",
       "Robot Mobile      ANONYMOUS                                        5115  \n",
       "Special           ANONYMOUS                                         144  "
      ]
     },
     "execution_count": 21,
     "metadata": {},
     "output_type": "execute_result"
    }
   ],
   "source": [
    "df_bol.groupby(['ua_agent_class', 'visitor_recognition_type']).count()"
   ]
  },
  {
   "cell_type": "markdown",
   "metadata": {
    "colab_type": "text",
    "id": "_CAmQCSVvmM1"
   },
   "source": [
    "### 3.4)- Checking categorical features"
   ]
  },
  {
   "cell_type": "code",
   "execution_count": 22,
   "metadata": {
    "colab": {
     "base_uri": "https://localhost:8080/",
     "height": 151
    },
    "colab_type": "code",
    "id": "-GS3DiT_vDie",
    "outputId": "5b50a35d-3058-4da3-e64a-76da61206834"
   },
   "outputs": [
    {
     "data": {
      "text/plain": [
       "session_id                     30816\n",
       "country_by_ip_address             66\n",
       "region_by_ip_address             229\n",
       "url_without_parameters         40696\n",
       "referrer_without_parameters     6203\n",
       "visitor_recognition_type           3\n",
       "ua_agent_class                     8\n",
       "dtype: int64"
      ]
     },
     "execution_count": 22,
     "metadata": {},
     "output_type": "execute_result"
    }
   ],
   "source": [
    "# Checking unique categorical variables\n",
    "df_bol.select_dtypes('object').apply(pd.Series.nunique, axis = 0)"
   ]
  },
  {
   "cell_type": "markdown",
   "metadata": {
    "colab_type": "text",
    "id": "Po8D3C09v2Ka"
   },
   "source": [
    "Our feature of interests are \"ua_agent\" being our independant feature, country_by_ip_address, region_by_ip_address and visitor_recognition_type."
   ]
  },
  {
   "cell_type": "code",
   "execution_count": 23,
   "metadata": {
    "colab": {
     "base_uri": "https://localhost:8080/",
     "height": 34
    },
    "colab_type": "code",
    "id": "nF5ZqECHvyH1",
    "outputId": "eed29392-a21c-4095-f134-6159b3f04475"
   },
   "outputs": [
    {
     "data": {
      "text/plain": [
       "array(['ANONYMOUS', 'LOGGEDIN', 'RECOGNIZED'], dtype=object)"
      ]
     },
     "execution_count": 23,
     "metadata": {},
     "output_type": "execute_result"
    }
   ],
   "source": [
    "# checking how many unique labels are in each feature\n",
    "df_bol['visitor_recognition_type'].unique()"
   ]
  },
  {
   "cell_type": "code",
   "execution_count": 24,
   "metadata": {
    "colab": {
     "base_uri": "https://localhost:8080/",
     "height": 84
    },
    "colab_type": "code",
    "id": "7iqjaK1ywVQX",
    "outputId": "f600f31b-f181-4ce1-ffab-b60af4d52ee9"
   },
   "outputs": [
    {
     "data": {
      "text/plain": [
       "ANONYMOUS     43711\n",
       "RECOGNIZED    12589\n",
       "LOGGEDIN       3482\n",
       "Name: visitor_recognition_type, dtype: int64"
      ]
     },
     "execution_count": 24,
     "metadata": {},
     "output_type": "execute_result"
    }
   ],
   "source": [
    "# how many times those labels classes occur\n",
    "df_bol['visitor_recognition_type'].value_counts()"
   ]
  },
  {
   "cell_type": "code",
   "execution_count": 25,
   "metadata": {
    "colab": {
     "base_uri": "https://localhost:8080/",
     "height": 466
    },
    "colab_type": "code",
    "id": "f8zFQqQXwmiu",
    "outputId": "d19e5adb-c7be-4e37-e35b-51a71701570d"
   },
   "outputs": [
    {
     "data": {
      "text/plain": [
       "<matplotlib.axes._subplots.AxesSubplot at 0x15ebda310b8>"
      ]
     },
     "execution_count": 25,
     "metadata": {},
     "output_type": "execute_result"
    },
    {
     "data": {
      "image/svg+xml": [
       "<?xml version=\"1.0\" encoding=\"utf-8\" standalone=\"no\"?>\r\n",
       "<!DOCTYPE svg PUBLIC \"-//W3C//DTD SVG 1.1//EN\"\r\n",
       "  \"http://www.w3.org/Graphics/SVG/1.1/DTD/svg11.dtd\">\r\n",
       "<!-- Created with matplotlib (http://matplotlib.org/) -->\r\n",
       "<svg height=\"320pt\" version=\"1.1\" viewBox=\"0 0 395 320\" width=\"395pt\" xmlns=\"http://www.w3.org/2000/svg\" xmlns:xlink=\"http://www.w3.org/1999/xlink\">\r\n",
       " <defs>\r\n",
       "  <style type=\"text/css\">\r\n",
       "*{stroke-linecap:butt;stroke-linejoin:round;}\r\n",
       "  </style>\r\n",
       " </defs>\r\n",
       " <g id=\"figure_1\">\r\n",
       "  <g id=\"patch_1\">\r\n",
       "   <path d=\"M 0 320.677344 \r\n",
       "L 395.285156 320.677344 \r\n",
       "L 395.285156 0 \r\n",
       "L 0 0 \r\n",
       "z\r\n",
       "\" style=\"fill:none;\"/>\r\n",
       "  </g>\r\n",
       "  <g id=\"axes_1\">\r\n",
       "   <g id=\"patch_2\">\r\n",
       "    <path d=\"M 47.285156 230.64 \r\n",
       "L 382.085156 230.64 \r\n",
       "L 382.085156 13.2 \r\n",
       "L 47.285156 13.2 \r\n",
       "z\r\n",
       "\" style=\"fill:#eaeaf2;\"/>\r\n",
       "   </g>\r\n",
       "   <g id=\"matplotlib.axis_1\">\r\n",
       "    <g id=\"xtick_1\">\r\n",
       "     <g id=\"line2d_1\">\r\n",
       "      <path clip-path=\"url(#p47108e1140)\" d=\"M 103.085156 230.64 \r\n",
       "L 103.085156 13.2 \r\n",
       "\" style=\"fill:none;stroke:#ffffff;stroke-linecap:round;\"/>\r\n",
       "     </g>\r\n",
       "     <g id=\"text_1\">\r\n",
       "      <!-- ANONYMOUS -->\r\n",
       "      <defs>\r\n",
       "       <path d=\"M -0.140625 0 \r\n",
       "L 27.34375 71.578125 \r\n",
       "L 37.546875 71.578125 \r\n",
       "L 66.84375 0 \r\n",
       "L 56.0625 0 \r\n",
       "L 47.703125 21.6875 \r\n",
       "L 17.78125 21.6875 \r\n",
       "L 9.90625 0 \r\n",
       "z\r\n",
       "M 20.515625 29.390625 \r\n",
       "L 44.78125 29.390625 \r\n",
       "L 37.3125 49.21875 \r\n",
       "Q 33.890625 58.25 32.234375 64.0625 \r\n",
       "Q 30.859375 57.171875 28.375 50.390625 \r\n",
       "z\r\n",
       "\" id=\"ArialMT-41\"/>\r\n",
       "       <path d=\"M 7.625 0 \r\n",
       "L 7.625 71.578125 \r\n",
       "L 17.328125 71.578125 \r\n",
       "L 54.9375 15.375 \r\n",
       "L 54.9375 71.578125 \r\n",
       "L 64.015625 71.578125 \r\n",
       "L 64.015625 0 \r\n",
       "L 54.296875 0 \r\n",
       "L 16.703125 56.25 \r\n",
       "L 16.703125 0 \r\n",
       "z\r\n",
       "\" id=\"ArialMT-4e\"/>\r\n",
       "       <path d=\"M 4.828125 34.859375 \r\n",
       "Q 4.828125 52.6875 14.390625 62.765625 \r\n",
       "Q 23.96875 72.859375 39.109375 72.859375 \r\n",
       "Q 49.03125 72.859375 56.984375 68.109375 \r\n",
       "Q 64.9375 63.375 69.109375 54.90625 \r\n",
       "Q 73.296875 46.4375 73.296875 35.6875 \r\n",
       "Q 73.296875 24.8125 68.890625 16.21875 \r\n",
       "Q 64.5 7.625 56.4375 3.203125 \r\n",
       "Q 48.390625 -1.21875 39.0625 -1.21875 \r\n",
       "Q 28.953125 -1.21875 20.984375 3.65625 \r\n",
       "Q 13.03125 8.546875 8.921875 16.984375 \r\n",
       "Q 4.828125 25.4375 4.828125 34.859375 \r\n",
       "z\r\n",
       "M 14.59375 34.71875 \r\n",
       "Q 14.59375 21.78125 21.546875 14.328125 \r\n",
       "Q 28.515625 6.890625 39.015625 6.890625 \r\n",
       "Q 49.703125 6.890625 56.609375 14.40625 \r\n",
       "Q 63.53125 21.921875 63.53125 35.75 \r\n",
       "Q 63.53125 44.484375 60.578125 51 \r\n",
       "Q 57.625 57.515625 51.921875 61.109375 \r\n",
       "Q 46.234375 64.703125 39.15625 64.703125 \r\n",
       "Q 29.109375 64.703125 21.84375 57.78125 \r\n",
       "Q 14.59375 50.875 14.59375 34.71875 \r\n",
       "z\r\n",
       "\" id=\"ArialMT-4f\"/>\r\n",
       "       <path d=\"M 27.875 0 \r\n",
       "L 27.875 30.328125 \r\n",
       "L 0.296875 71.578125 \r\n",
       "L 11.8125 71.578125 \r\n",
       "L 25.921875 50 \r\n",
       "Q 29.828125 43.953125 33.203125 37.890625 \r\n",
       "Q 36.421875 43.5 41.015625 50.53125 \r\n",
       "L 54.890625 71.578125 \r\n",
       "L 65.921875 71.578125 \r\n",
       "L 37.359375 30.328125 \r\n",
       "L 37.359375 0 \r\n",
       "z\r\n",
       "\" id=\"ArialMT-59\"/>\r\n",
       "       <path d=\"M 7.421875 0 \r\n",
       "L 7.421875 71.578125 \r\n",
       "L 21.6875 71.578125 \r\n",
       "L 38.625 20.90625 \r\n",
       "Q 40.96875 13.8125 42.046875 10.296875 \r\n",
       "Q 43.265625 14.203125 45.84375 21.78125 \r\n",
       "L 62.984375 71.578125 \r\n",
       "L 75.734375 71.578125 \r\n",
       "L 75.734375 0 \r\n",
       "L 66.609375 0 \r\n",
       "L 66.609375 59.90625 \r\n",
       "L 45.796875 0 \r\n",
       "L 37.25 0 \r\n",
       "L 16.546875 60.9375 \r\n",
       "L 16.546875 0 \r\n",
       "z\r\n",
       "\" id=\"ArialMT-4d\"/>\r\n",
       "       <path d=\"M 54.6875 71.578125 \r\n",
       "L 64.15625 71.578125 \r\n",
       "L 64.15625 30.21875 \r\n",
       "Q 64.15625 19.4375 61.71875 13.078125 \r\n",
       "Q 59.28125 6.734375 52.90625 2.75 \r\n",
       "Q 46.53125 -1.21875 36.1875 -1.21875 \r\n",
       "Q 26.125 -1.21875 19.71875 2.25 \r\n",
       "Q 13.328125 5.71875 10.59375 12.28125 \r\n",
       "Q 7.859375 18.84375 7.859375 30.21875 \r\n",
       "L 7.859375 71.578125 \r\n",
       "L 17.328125 71.578125 \r\n",
       "L 17.328125 30.28125 \r\n",
       "Q 17.328125 20.953125 19.0625 16.53125 \r\n",
       "Q 20.796875 12.109375 25.015625 9.71875 \r\n",
       "Q 29.25 7.328125 35.359375 7.328125 \r\n",
       "Q 45.796875 7.328125 50.234375 12.0625 \r\n",
       "Q 54.6875 16.796875 54.6875 30.28125 \r\n",
       "z\r\n",
       "\" id=\"ArialMT-55\"/>\r\n",
       "       <path d=\"M 4.5 23 \r\n",
       "L 13.421875 23.78125 \r\n",
       "Q 14.0625 18.40625 16.375 14.96875 \r\n",
       "Q 18.703125 11.53125 23.578125 9.40625 \r\n",
       "Q 28.46875 7.28125 34.578125 7.28125 \r\n",
       "Q 39.984375 7.28125 44.140625 8.890625 \r\n",
       "Q 48.296875 10.5 50.3125 13.296875 \r\n",
       "Q 52.34375 16.109375 52.34375 19.4375 \r\n",
       "Q 52.34375 22.796875 50.390625 25.3125 \r\n",
       "Q 48.4375 27.828125 43.953125 29.546875 \r\n",
       "Q 41.0625 30.671875 31.203125 33.03125 \r\n",
       "Q 21.34375 35.40625 17.390625 37.5 \r\n",
       "Q 12.25 40.1875 9.734375 44.15625 \r\n",
       "Q 7.234375 48.140625 7.234375 53.078125 \r\n",
       "Q 7.234375 58.5 10.296875 63.203125 \r\n",
       "Q 13.375 67.921875 19.28125 70.359375 \r\n",
       "Q 25.203125 72.796875 32.421875 72.796875 \r\n",
       "Q 40.375 72.796875 46.453125 70.234375 \r\n",
       "Q 52.546875 67.671875 55.8125 62.6875 \r\n",
       "Q 59.078125 57.71875 59.328125 51.421875 \r\n",
       "L 50.25 50.734375 \r\n",
       "Q 49.515625 57.515625 45.28125 60.984375 \r\n",
       "Q 41.0625 64.453125 32.8125 64.453125 \r\n",
       "Q 24.21875 64.453125 20.28125 61.296875 \r\n",
       "Q 16.359375 58.15625 16.359375 53.71875 \r\n",
       "Q 16.359375 49.859375 19.140625 47.359375 \r\n",
       "Q 21.875 44.875 33.421875 42.265625 \r\n",
       "Q 44.96875 39.65625 49.265625 37.703125 \r\n",
       "Q 55.515625 34.8125 58.484375 30.390625 \r\n",
       "Q 61.46875 25.984375 61.46875 20.21875 \r\n",
       "Q 61.46875 14.5 58.203125 9.4375 \r\n",
       "Q 54.9375 4.390625 48.796875 1.578125 \r\n",
       "Q 42.671875 -1.21875 35.015625 -1.21875 \r\n",
       "Q 25.296875 -1.21875 18.71875 1.609375 \r\n",
       "Q 12.15625 4.4375 8.421875 10.125 \r\n",
       "Q 4.6875 15.828125 4.5 23 \r\n",
       "z\r\n",
       "\" id=\"ArialMT-53\"/>\r\n",
       "      </defs>\r\n",
       "      <g style=\"fill:#262626;\" transform=\"translate(105.928828 312.25875)rotate(-90)scale(0.11 -0.11)\">\r\n",
       "       <use xlink:href=\"#ArialMT-41\"/>\r\n",
       "       <use x=\"66.699219\" xlink:href=\"#ArialMT-4e\"/>\r\n",
       "       <use x=\"138.916016\" xlink:href=\"#ArialMT-4f\"/>\r\n",
       "       <use x=\"216.699219\" xlink:href=\"#ArialMT-4e\"/>\r\n",
       "       <use x=\"288.916016\" xlink:href=\"#ArialMT-59\"/>\r\n",
       "       <use x=\"355.615234\" xlink:href=\"#ArialMT-4d\"/>\r\n",
       "       <use x=\"438.916016\" xlink:href=\"#ArialMT-4f\"/>\r\n",
       "       <use x=\"516.699219\" xlink:href=\"#ArialMT-55\"/>\r\n",
       "       <use x=\"588.916016\" xlink:href=\"#ArialMT-53\"/>\r\n",
       "      </g>\r\n",
       "     </g>\r\n",
       "    </g>\r\n",
       "    <g id=\"xtick_2\">\r\n",
       "     <g id=\"line2d_2\">\r\n",
       "      <path clip-path=\"url(#p47108e1140)\" d=\"M 214.685156 230.64 \r\n",
       "L 214.685156 13.2 \r\n",
       "\" style=\"fill:none;stroke:#ffffff;stroke-linecap:round;\"/>\r\n",
       "     </g>\r\n",
       "     <g id=\"text_2\">\r\n",
       "      <!-- RECOGNIZED -->\r\n",
       "      <defs>\r\n",
       "       <path d=\"M 7.859375 0 \r\n",
       "L 7.859375 71.578125 \r\n",
       "L 39.59375 71.578125 \r\n",
       "Q 49.171875 71.578125 54.140625 69.640625 \r\n",
       "Q 59.125 67.71875 62.109375 62.828125 \r\n",
       "Q 65.09375 57.953125 65.09375 52.046875 \r\n",
       "Q 65.09375 44.4375 60.15625 39.203125 \r\n",
       "Q 55.21875 33.984375 44.921875 32.5625 \r\n",
       "Q 48.6875 30.765625 50.640625 29 \r\n",
       "Q 54.78125 25.203125 58.5 19.484375 \r\n",
       "L 70.953125 0 \r\n",
       "L 59.03125 0 \r\n",
       "L 49.5625 14.890625 \r\n",
       "Q 45.40625 21.34375 42.71875 24.75 \r\n",
       "Q 40.046875 28.171875 37.921875 29.53125 \r\n",
       "Q 35.796875 30.90625 33.59375 31.453125 \r\n",
       "Q 31.984375 31.78125 28.328125 31.78125 \r\n",
       "L 17.328125 31.78125 \r\n",
       "L 17.328125 0 \r\n",
       "z\r\n",
       "M 17.328125 39.984375 \r\n",
       "L 37.703125 39.984375 \r\n",
       "Q 44.1875 39.984375 47.84375 41.328125 \r\n",
       "Q 51.515625 42.671875 53.421875 45.625 \r\n",
       "Q 55.328125 48.578125 55.328125 52.046875 \r\n",
       "Q 55.328125 57.125 51.640625 60.390625 \r\n",
       "Q 47.953125 63.671875 39.984375 63.671875 \r\n",
       "L 17.328125 63.671875 \r\n",
       "z\r\n",
       "\" id=\"ArialMT-52\"/>\r\n",
       "       <path d=\"M 7.90625 0 \r\n",
       "L 7.90625 71.578125 \r\n",
       "L 59.671875 71.578125 \r\n",
       "L 59.671875 63.140625 \r\n",
       "L 17.390625 63.140625 \r\n",
       "L 17.390625 41.21875 \r\n",
       "L 56.984375 41.21875 \r\n",
       "L 56.984375 32.8125 \r\n",
       "L 17.390625 32.8125 \r\n",
       "L 17.390625 8.453125 \r\n",
       "L 61.328125 8.453125 \r\n",
       "L 61.328125 0 \r\n",
       "z\r\n",
       "\" id=\"ArialMT-45\"/>\r\n",
       "       <path d=\"M 58.796875 25.09375 \r\n",
       "L 68.265625 22.703125 \r\n",
       "Q 65.28125 11.03125 57.546875 4.90625 \r\n",
       "Q 49.8125 -1.21875 38.625 -1.21875 \r\n",
       "Q 27.046875 -1.21875 19.796875 3.484375 \r\n",
       "Q 12.546875 8.203125 8.765625 17.140625 \r\n",
       "Q 4.984375 26.078125 4.984375 36.328125 \r\n",
       "Q 4.984375 47.515625 9.25 55.828125 \r\n",
       "Q 13.53125 64.15625 21.40625 68.46875 \r\n",
       "Q 29.296875 72.796875 38.765625 72.796875 \r\n",
       "Q 49.515625 72.796875 56.828125 67.328125 \r\n",
       "Q 64.15625 61.859375 67.046875 51.953125 \r\n",
       "L 57.71875 49.75 \r\n",
       "Q 55.21875 57.5625 50.484375 61.125 \r\n",
       "Q 45.75 64.703125 38.578125 64.703125 \r\n",
       "Q 30.328125 64.703125 24.78125 60.734375 \r\n",
       "Q 19.234375 56.78125 16.984375 50.109375 \r\n",
       "Q 14.75 43.453125 14.75 36.375 \r\n",
       "Q 14.75 27.25 17.40625 20.4375 \r\n",
       "Q 20.0625 13.625 25.671875 10.25 \r\n",
       "Q 31.296875 6.890625 37.84375 6.890625 \r\n",
       "Q 45.796875 6.890625 51.3125 11.46875 \r\n",
       "Q 56.84375 16.0625 58.796875 25.09375 \r\n",
       "z\r\n",
       "\" id=\"ArialMT-43\"/>\r\n",
       "       <path d=\"M 41.21875 28.078125 \r\n",
       "L 41.21875 36.46875 \r\n",
       "L 71.53125 36.53125 \r\n",
       "L 71.53125 9.96875 \r\n",
       "Q 64.546875 4.390625 57.125 1.578125 \r\n",
       "Q 49.703125 -1.21875 41.890625 -1.21875 \r\n",
       "Q 31.34375 -1.21875 22.71875 3.296875 \r\n",
       "Q 14.109375 7.8125 9.71875 16.359375 \r\n",
       "Q 5.328125 24.90625 5.328125 35.453125 \r\n",
       "Q 5.328125 45.90625 9.6875 54.953125 \r\n",
       "Q 14.0625 64.015625 22.265625 68.40625 \r\n",
       "Q 30.46875 72.796875 41.15625 72.796875 \r\n",
       "Q 48.921875 72.796875 55.1875 70.28125 \r\n",
       "Q 61.46875 67.78125 65.03125 63.28125 \r\n",
       "Q 68.609375 58.796875 70.453125 51.5625 \r\n",
       "L 61.921875 49.21875 \r\n",
       "Q 60.296875 54.6875 57.90625 57.8125 \r\n",
       "Q 55.515625 60.9375 51.0625 62.8125 \r\n",
       "Q 46.625 64.703125 41.21875 64.703125 \r\n",
       "Q 34.71875 64.703125 29.984375 62.71875 \r\n",
       "Q 25.25 60.75 22.34375 57.515625 \r\n",
       "Q 19.4375 54.296875 17.828125 50.4375 \r\n",
       "Q 15.09375 43.796875 15.09375 36.03125 \r\n",
       "Q 15.09375 26.46875 18.390625 20.015625 \r\n",
       "Q 21.6875 13.578125 27.984375 10.453125 \r\n",
       "Q 34.28125 7.328125 41.359375 7.328125 \r\n",
       "Q 47.515625 7.328125 53.375 9.6875 \r\n",
       "Q 59.234375 12.0625 62.25 14.75 \r\n",
       "L 62.25 28.078125 \r\n",
       "z\r\n",
       "\" id=\"ArialMT-47\"/>\r\n",
       "       <path d=\"M 9.328125 0 \r\n",
       "L 9.328125 71.578125 \r\n",
       "L 18.796875 71.578125 \r\n",
       "L 18.796875 0 \r\n",
       "z\r\n",
       "\" id=\"ArialMT-49\"/>\r\n",
       "       <path d=\"M 2 0 \r\n",
       "L 2 8.796875 \r\n",
       "L 38.671875 54.640625 \r\n",
       "Q 42.578125 59.515625 46.09375 63.140625 \r\n",
       "L 6.15625 63.140625 \r\n",
       "L 6.15625 71.578125 \r\n",
       "L 57.421875 71.578125 \r\n",
       "L 57.421875 63.140625 \r\n",
       "L 17.234375 13.484375 \r\n",
       "L 12.890625 8.453125 \r\n",
       "L 58.59375 8.453125 \r\n",
       "L 58.59375 0 \r\n",
       "z\r\n",
       "\" id=\"ArialMT-5a\"/>\r\n",
       "       <path d=\"M 7.71875 0 \r\n",
       "L 7.71875 71.578125 \r\n",
       "L 32.375 71.578125 \r\n",
       "Q 40.71875 71.578125 45.125 70.5625 \r\n",
       "Q 51.265625 69.140625 55.609375 65.4375 \r\n",
       "Q 61.28125 60.640625 64.078125 53.1875 \r\n",
       "Q 66.890625 45.75 66.890625 36.1875 \r\n",
       "Q 66.890625 28.03125 64.984375 21.734375 \r\n",
       "Q 63.09375 15.4375 60.109375 11.296875 \r\n",
       "Q 57.125 7.171875 53.578125 4.796875 \r\n",
       "Q 50.046875 2.4375 45.046875 1.21875 \r\n",
       "Q 40.046875 0 33.546875 0 \r\n",
       "z\r\n",
       "M 17.1875 8.453125 \r\n",
       "L 32.46875 8.453125 \r\n",
       "Q 39.546875 8.453125 43.578125 9.765625 \r\n",
       "Q 47.609375 11.078125 50 13.484375 \r\n",
       "Q 53.375 16.84375 55.25 22.53125 \r\n",
       "Q 57.125 28.21875 57.125 36.328125 \r\n",
       "Q 57.125 47.5625 53.4375 53.59375 \r\n",
       "Q 49.75 59.625 44.484375 61.671875 \r\n",
       "Q 40.671875 63.140625 32.234375 63.140625 \r\n",
       "L 17.1875 63.140625 \r\n",
       "z\r\n",
       "\" id=\"ArialMT-44\"/>\r\n",
       "      </defs>\r\n",
       "      <g style=\"fill:#262626;\" transform=\"translate(217.528828 313.477344)rotate(-90)scale(0.11 -0.11)\">\r\n",
       "       <use xlink:href=\"#ArialMT-52\"/>\r\n",
       "       <use x=\"72.216797\" xlink:href=\"#ArialMT-45\"/>\r\n",
       "       <use x=\"138.916016\" xlink:href=\"#ArialMT-43\"/>\r\n",
       "       <use x=\"211.132812\" xlink:href=\"#ArialMT-4f\"/>\r\n",
       "       <use x=\"288.916016\" xlink:href=\"#ArialMT-47\"/>\r\n",
       "       <use x=\"366.699219\" xlink:href=\"#ArialMT-4e\"/>\r\n",
       "       <use x=\"438.916016\" xlink:href=\"#ArialMT-49\"/>\r\n",
       "       <use x=\"466.699219\" xlink:href=\"#ArialMT-5a\"/>\r\n",
       "       <use x=\"527.783203\" xlink:href=\"#ArialMT-45\"/>\r\n",
       "       <use x=\"594.482422\" xlink:href=\"#ArialMT-44\"/>\r\n",
       "      </g>\r\n",
       "     </g>\r\n",
       "    </g>\r\n",
       "    <g id=\"xtick_3\">\r\n",
       "     <g id=\"line2d_3\">\r\n",
       "      <path clip-path=\"url(#p47108e1140)\" d=\"M 326.285156 230.64 \r\n",
       "L 326.285156 13.2 \r\n",
       "\" style=\"fill:none;stroke:#ffffff;stroke-linecap:round;\"/>\r\n",
       "     </g>\r\n",
       "     <g id=\"text_3\">\r\n",
       "      <!-- LOGGEDIN -->\r\n",
       "      <defs>\r\n",
       "       <path d=\"M 7.328125 0 \r\n",
       "L 7.328125 71.578125 \r\n",
       "L 16.796875 71.578125 \r\n",
       "L 16.796875 8.453125 \r\n",
       "L 52.046875 8.453125 \r\n",
       "L 52.046875 0 \r\n",
       "z\r\n",
       "\" id=\"ArialMT-4c\"/>\r\n",
       "      </defs>\r\n",
       "      <g style=\"fill:#262626;\" transform=\"translate(329.128828 298.20625)rotate(-90)scale(0.11 -0.11)\">\r\n",
       "       <use xlink:href=\"#ArialMT-4c\"/>\r\n",
       "       <use x=\"55.615234\" xlink:href=\"#ArialMT-4f\"/>\r\n",
       "       <use x=\"133.398438\" xlink:href=\"#ArialMT-47\"/>\r\n",
       "       <use x=\"211.181641\" xlink:href=\"#ArialMT-47\"/>\r\n",
       "       <use x=\"288.964844\" xlink:href=\"#ArialMT-45\"/>\r\n",
       "       <use x=\"355.664062\" xlink:href=\"#ArialMT-44\"/>\r\n",
       "       <use x=\"427.880859\" xlink:href=\"#ArialMT-49\"/>\r\n",
       "       <use x=\"455.664062\" xlink:href=\"#ArialMT-4e\"/>\r\n",
       "      </g>\r\n",
       "     </g>\r\n",
       "    </g>\r\n",
       "   </g>\r\n",
       "   <g id=\"matplotlib.axis_2\">\r\n",
       "    <g id=\"ytick_1\">\r\n",
       "     <g id=\"line2d_4\">\r\n",
       "      <path clip-path=\"url(#p47108e1140)\" d=\"M 47.285156 230.64 \r\n",
       "L 382.085156 230.64 \r\n",
       "\" style=\"fill:none;stroke:#ffffff;stroke-linecap:round;\"/>\r\n",
       "     </g>\r\n",
       "     <g id=\"text_4\">\r\n",
       "      <!-- 0 -->\r\n",
       "      <defs>\r\n",
       "       <path d=\"M 4.15625 35.296875 \r\n",
       "Q 4.15625 48 6.765625 55.734375 \r\n",
       "Q 9.375 63.484375 14.515625 67.671875 \r\n",
       "Q 19.671875 71.875 27.484375 71.875 \r\n",
       "Q 33.25 71.875 37.59375 69.546875 \r\n",
       "Q 41.9375 67.234375 44.765625 62.859375 \r\n",
       "Q 47.609375 58.5 49.21875 52.21875 \r\n",
       "Q 50.828125 45.953125 50.828125 35.296875 \r\n",
       "Q 50.828125 22.703125 48.234375 14.96875 \r\n",
       "Q 45.65625 7.234375 40.5 3 \r\n",
       "Q 35.359375 -1.21875 27.484375 -1.21875 \r\n",
       "Q 17.140625 -1.21875 11.234375 6.203125 \r\n",
       "Q 4.15625 15.140625 4.15625 35.296875 \r\n",
       "z\r\n",
       "M 13.1875 35.296875 \r\n",
       "Q 13.1875 17.671875 17.3125 11.828125 \r\n",
       "Q 21.4375 6 27.484375 6 \r\n",
       "Q 33.546875 6 37.671875 11.859375 \r\n",
       "Q 41.796875 17.71875 41.796875 35.296875 \r\n",
       "Q 41.796875 52.984375 37.671875 58.78125 \r\n",
       "Q 33.546875 64.59375 27.390625 64.59375 \r\n",
       "Q 21.34375 64.59375 17.71875 59.46875 \r\n",
       "Q 13.1875 52.9375 13.1875 35.296875 \r\n",
       "z\r\n",
       "\" id=\"ArialMT-30\"/>\r\n",
       "      </defs>\r\n",
       "      <g style=\"fill:#262626;\" transform=\"translate(31.668125 234.576797)scale(0.11 -0.11)\">\r\n",
       "       <use xlink:href=\"#ArialMT-30\"/>\r\n",
       "      </g>\r\n",
       "     </g>\r\n",
       "    </g>\r\n",
       "    <g id=\"ytick_2\">\r\n",
       "     <g id=\"line2d_5\">\r\n",
       "      <path clip-path=\"url(#p47108e1140)\" d=\"M 47.285156 183.26389 \r\n",
       "L 382.085156 183.26389 \r\n",
       "\" style=\"fill:none;stroke:#ffffff;stroke-linecap:round;\"/>\r\n",
       "     </g>\r\n",
       "     <g id=\"text_5\">\r\n",
       "      <!-- 10000 -->\r\n",
       "      <defs>\r\n",
       "       <path d=\"M 37.25 0 \r\n",
       "L 28.46875 0 \r\n",
       "L 28.46875 56 \r\n",
       "Q 25.296875 52.984375 20.140625 49.953125 \r\n",
       "Q 14.984375 46.921875 10.890625 45.40625 \r\n",
       "L 10.890625 53.90625 \r\n",
       "Q 18.265625 57.375 23.78125 62.296875 \r\n",
       "Q 29.296875 67.234375 31.59375 71.875 \r\n",
       "L 37.25 71.875 \r\n",
       "z\r\n",
       "\" id=\"ArialMT-31\"/>\r\n",
       "      </defs>\r\n",
       "      <g style=\"fill:#262626;\" transform=\"translate(7.2 187.200687)scale(0.11 -0.11)\">\r\n",
       "       <use xlink:href=\"#ArialMT-31\"/>\r\n",
       "       <use x=\"55.615234\" xlink:href=\"#ArialMT-30\"/>\r\n",
       "       <use x=\"111.230469\" xlink:href=\"#ArialMT-30\"/>\r\n",
       "       <use x=\"166.845703\" xlink:href=\"#ArialMT-30\"/>\r\n",
       "       <use x=\"222.460938\" xlink:href=\"#ArialMT-30\"/>\r\n",
       "      </g>\r\n",
       "     </g>\r\n",
       "    </g>\r\n",
       "    <g id=\"ytick_3\">\r\n",
       "     <g id=\"line2d_6\">\r\n",
       "      <path clip-path=\"url(#p47108e1140)\" d=\"M 47.285156 135.88778 \r\n",
       "L 382.085156 135.88778 \r\n",
       "\" style=\"fill:none;stroke:#ffffff;stroke-linecap:round;\"/>\r\n",
       "     </g>\r\n",
       "     <g id=\"text_6\">\r\n",
       "      <!-- 20000 -->\r\n",
       "      <defs>\r\n",
       "       <path d=\"M 50.34375 8.453125 \r\n",
       "L 50.34375 0 \r\n",
       "L 3.03125 0 \r\n",
       "Q 2.9375 3.171875 4.046875 6.109375 \r\n",
       "Q 5.859375 10.9375 9.828125 15.625 \r\n",
       "Q 13.8125 20.3125 21.34375 26.46875 \r\n",
       "Q 33.015625 36.03125 37.109375 41.625 \r\n",
       "Q 41.21875 47.21875 41.21875 52.203125 \r\n",
       "Q 41.21875 57.421875 37.46875 61 \r\n",
       "Q 33.734375 64.59375 27.734375 64.59375 \r\n",
       "Q 21.390625 64.59375 17.578125 60.78125 \r\n",
       "Q 13.765625 56.984375 13.71875 50.25 \r\n",
       "L 4.6875 51.171875 \r\n",
       "Q 5.609375 61.28125 11.65625 66.578125 \r\n",
       "Q 17.71875 71.875 27.9375 71.875 \r\n",
       "Q 38.234375 71.875 44.234375 66.15625 \r\n",
       "Q 50.25 60.453125 50.25 52 \r\n",
       "Q 50.25 47.703125 48.484375 43.546875 \r\n",
       "Q 46.734375 39.40625 42.65625 34.8125 \r\n",
       "Q 38.578125 30.21875 29.109375 22.21875 \r\n",
       "Q 21.1875 15.578125 18.9375 13.203125 \r\n",
       "Q 16.703125 10.84375 15.234375 8.453125 \r\n",
       "z\r\n",
       "\" id=\"ArialMT-32\"/>\r\n",
       "      </defs>\r\n",
       "      <g style=\"fill:#262626;\" transform=\"translate(7.2 139.824577)scale(0.11 -0.11)\">\r\n",
       "       <use xlink:href=\"#ArialMT-32\"/>\r\n",
       "       <use x=\"55.615234\" xlink:href=\"#ArialMT-30\"/>\r\n",
       "       <use x=\"111.230469\" xlink:href=\"#ArialMT-30\"/>\r\n",
       "       <use x=\"166.845703\" xlink:href=\"#ArialMT-30\"/>\r\n",
       "       <use x=\"222.460938\" xlink:href=\"#ArialMT-30\"/>\r\n",
       "      </g>\r\n",
       "     </g>\r\n",
       "    </g>\r\n",
       "    <g id=\"ytick_4\">\r\n",
       "     <g id=\"line2d_7\">\r\n",
       "      <path clip-path=\"url(#p47108e1140)\" d=\"M 47.285156 88.51167 \r\n",
       "L 382.085156 88.51167 \r\n",
       "\" style=\"fill:none;stroke:#ffffff;stroke-linecap:round;\"/>\r\n",
       "     </g>\r\n",
       "     <g id=\"text_7\">\r\n",
       "      <!-- 30000 -->\r\n",
       "      <defs>\r\n",
       "       <path d=\"M 4.203125 18.890625 \r\n",
       "L 12.984375 20.0625 \r\n",
       "Q 14.5 12.59375 18.140625 9.296875 \r\n",
       "Q 21.78125 6 27 6 \r\n",
       "Q 33.203125 6 37.46875 10.296875 \r\n",
       "Q 41.75 14.59375 41.75 20.953125 \r\n",
       "Q 41.75 27 37.796875 30.921875 \r\n",
       "Q 33.84375 34.859375 27.734375 34.859375 \r\n",
       "Q 25.25 34.859375 21.53125 33.890625 \r\n",
       "L 22.515625 41.609375 \r\n",
       "Q 23.390625 41.5 23.921875 41.5 \r\n",
       "Q 29.546875 41.5 34.03125 44.421875 \r\n",
       "Q 38.53125 47.359375 38.53125 53.46875 \r\n",
       "Q 38.53125 58.296875 35.25 61.46875 \r\n",
       "Q 31.984375 64.65625 26.8125 64.65625 \r\n",
       "Q 21.6875 64.65625 18.265625 61.421875 \r\n",
       "Q 14.84375 58.203125 13.875 51.765625 \r\n",
       "L 5.078125 53.328125 \r\n",
       "Q 6.6875 62.15625 12.390625 67.015625 \r\n",
       "Q 18.109375 71.875 26.609375 71.875 \r\n",
       "Q 32.46875 71.875 37.390625 69.359375 \r\n",
       "Q 42.328125 66.84375 44.9375 62.5 \r\n",
       "Q 47.5625 58.15625 47.5625 53.265625 \r\n",
       "Q 47.5625 48.640625 45.0625 44.828125 \r\n",
       "Q 42.578125 41.015625 37.703125 38.765625 \r\n",
       "Q 44.046875 37.3125 47.5625 32.6875 \r\n",
       "Q 51.078125 28.078125 51.078125 21.140625 \r\n",
       "Q 51.078125 11.765625 44.234375 5.25 \r\n",
       "Q 37.40625 -1.265625 26.953125 -1.265625 \r\n",
       "Q 17.53125 -1.265625 11.296875 4.34375 \r\n",
       "Q 5.078125 9.96875 4.203125 18.890625 \r\n",
       "z\r\n",
       "\" id=\"ArialMT-33\"/>\r\n",
       "      </defs>\r\n",
       "      <g style=\"fill:#262626;\" transform=\"translate(7.2 92.448467)scale(0.11 -0.11)\">\r\n",
       "       <use xlink:href=\"#ArialMT-33\"/>\r\n",
       "       <use x=\"55.615234\" xlink:href=\"#ArialMT-30\"/>\r\n",
       "       <use x=\"111.230469\" xlink:href=\"#ArialMT-30\"/>\r\n",
       "       <use x=\"166.845703\" xlink:href=\"#ArialMT-30\"/>\r\n",
       "       <use x=\"222.460938\" xlink:href=\"#ArialMT-30\"/>\r\n",
       "      </g>\r\n",
       "     </g>\r\n",
       "    </g>\r\n",
       "    <g id=\"ytick_5\">\r\n",
       "     <g id=\"line2d_8\">\r\n",
       "      <path clip-path=\"url(#p47108e1140)\" d=\"M 47.285156 41.13556 \r\n",
       "L 382.085156 41.13556 \r\n",
       "\" style=\"fill:none;stroke:#ffffff;stroke-linecap:round;\"/>\r\n",
       "     </g>\r\n",
       "     <g id=\"text_8\">\r\n",
       "      <!-- 40000 -->\r\n",
       "      <defs>\r\n",
       "       <path d=\"M 32.328125 0 \r\n",
       "L 32.328125 17.140625 \r\n",
       "L 1.265625 17.140625 \r\n",
       "L 1.265625 25.203125 \r\n",
       "L 33.9375 71.578125 \r\n",
       "L 41.109375 71.578125 \r\n",
       "L 41.109375 25.203125 \r\n",
       "L 50.78125 25.203125 \r\n",
       "L 50.78125 17.140625 \r\n",
       "L 41.109375 17.140625 \r\n",
       "L 41.109375 0 \r\n",
       "z\r\n",
       "M 32.328125 25.203125 \r\n",
       "L 32.328125 57.46875 \r\n",
       "L 9.90625 25.203125 \r\n",
       "z\r\n",
       "\" id=\"ArialMT-34\"/>\r\n",
       "      </defs>\r\n",
       "      <g style=\"fill:#262626;\" transform=\"translate(7.2 45.072357)scale(0.11 -0.11)\">\r\n",
       "       <use xlink:href=\"#ArialMT-34\"/>\r\n",
       "       <use x=\"55.615234\" xlink:href=\"#ArialMT-30\"/>\r\n",
       "       <use x=\"111.230469\" xlink:href=\"#ArialMT-30\"/>\r\n",
       "       <use x=\"166.845703\" xlink:href=\"#ArialMT-30\"/>\r\n",
       "       <use x=\"222.460938\" xlink:href=\"#ArialMT-30\"/>\r\n",
       "      </g>\r\n",
       "     </g>\r\n",
       "    </g>\r\n",
       "   </g>\r\n",
       "   <g id=\"patch_3\">\r\n",
       "    <path clip-path=\"url(#p47108e1140)\" d=\"M 75.185156 230.64 \r\n",
       "L 130.985156 230.64 \r\n",
       "L 130.985156 23.554286 \r\n",
       "L 75.185156 23.554286 \r\n",
       "z\r\n",
       "\" style=\"fill:#4c72b0;stroke:#ffffff;stroke-linejoin:miter;\"/>\r\n",
       "   </g>\r\n",
       "   <g id=\"patch_4\">\r\n",
       "    <path clip-path=\"url(#p47108e1140)\" d=\"M 186.785156 230.64 \r\n",
       "L 242.585156 230.64 \r\n",
       "L 242.585156 170.998215 \r\n",
       "L 186.785156 170.998215 \r\n",
       "z\r\n",
       "\" style=\"fill:#dd8452;stroke:#ffffff;stroke-linejoin:miter;\"/>\r\n",
       "   </g>\r\n",
       "   <g id=\"patch_5\">\r\n",
       "    <path clip-path=\"url(#p47108e1140)\" d=\"M 298.385156 230.64 \r\n",
       "L 354.185156 230.64 \r\n",
       "L 354.185156 214.143639 \r\n",
       "L 298.385156 214.143639 \r\n",
       "z\r\n",
       "\" style=\"fill:#55a868;stroke:#ffffff;stroke-linejoin:miter;\"/>\r\n",
       "   </g>\r\n",
       "   <g id=\"patch_6\">\r\n",
       "    <path d=\"M 47.285156 230.64 \r\n",
       "L 47.285156 13.2 \r\n",
       "\" style=\"fill:none;stroke:#ffffff;stroke-linecap:square;stroke-linejoin:miter;stroke-width:1.25;\"/>\r\n",
       "   </g>\r\n",
       "   <g id=\"patch_7\">\r\n",
       "    <path d=\"M 382.085156 230.64 \r\n",
       "L 382.085156 13.2 \r\n",
       "\" style=\"fill:none;stroke:#ffffff;stroke-linecap:square;stroke-linejoin:miter;stroke-width:1.25;\"/>\r\n",
       "   </g>\r\n",
       "   <g id=\"patch_8\">\r\n",
       "    <path d=\"M 47.285156 230.64 \r\n",
       "L 382.085156 230.64 \r\n",
       "\" style=\"fill:none;stroke:#ffffff;stroke-linecap:square;stroke-linejoin:miter;stroke-width:1.25;\"/>\r\n",
       "   </g>\r\n",
       "   <g id=\"patch_9\">\r\n",
       "    <path d=\"M 47.285156 13.2 \r\n",
       "L 382.085156 13.2 \r\n",
       "\" style=\"fill:none;stroke:#ffffff;stroke-linecap:square;stroke-linejoin:miter;stroke-width:1.25;\"/>\r\n",
       "   </g>\r\n",
       "  </g>\r\n",
       " </g>\r\n",
       " <defs>\r\n",
       "  <clipPath id=\"p47108e1140\">\r\n",
       "   <rect height=\"217.44\" width=\"334.8\" x=\"47.285156\" y=\"13.2\"/>\r\n",
       "  </clipPath>\r\n",
       " </defs>\r\n",
       "</svg>\r\n"
      ],
      "text/plain": [
       "<matplotlib.figure.Figure at 0x15ebdadd978>"
      ]
     },
     "metadata": {
      "needs_background": "light"
     },
     "output_type": "display_data"
    }
   ],
   "source": [
    "df_bol['visitor_recognition_type'].value_counts().plot.bar()"
   ]
  },
  {
   "cell_type": "code",
   "execution_count": 26,
   "metadata": {
    "colab": {
     "base_uri": "https://localhost:8080/",
     "height": 134
    },
    "colab_type": "code",
    "id": "fzMiSMIXxVig",
    "outputId": "066113e8-390f-4fb5-c720-1ccd6e696373"
   },
   "outputs": [
    {
     "data": {
      "text/plain": [
       "array(['US', 'IT', 'NL', 'BE', '', 'UA', 'FR', 'DE', 'PL', 'CN', 'IE',\n",
       "       'RU', 'GB', 'AT', 'HU', 'JP', 'CA', 'PT', 'ES', 'CH', 'LT', 'ID',\n",
       "       'IN', 'TR', 'IR', 'MY', 'NZ', 'AU', 'TH', 'BD', 'QA', 'CZ', 'VN',\n",
       "       'MN', 'IL', 'FI', 'AM', 'DK', 'SR', 'GR', 'SE', 'LV', 'PK', 'LU',\n",
       "       'MA', 'MD', 'BG', 'BR', 'HR', 'AR', 'AL', 'MK', 'GH', 'PY', 'NO',\n",
       "       'RO', 'BO', 'ZA', 'SO', 'MC', 'MX', 'KR', 'DO', 'CW', 'SK', 'KG'],\n",
       "      dtype=object)"
      ]
     },
     "execution_count": 26,
     "metadata": {},
     "output_type": "execute_result"
    }
   ],
   "source": [
    "# Let's check other categorical variables such as country_by_ip_address\n",
    "\n",
    "df_bol['country_by_ip_address'].unique()"
   ]
  },
  {
   "cell_type": "code",
   "execution_count": 27,
   "metadata": {
    "colab": {
     "base_uri": "https://localhost:8080/",
     "height": 202
    },
    "colab_type": "code",
    "id": "wwhe93fiRFrk",
    "outputId": "d0ba48e5-4983-4fbe-da4d-b6e4d8e339ad"
   },
   "outputs": [
    {
     "data": {
      "text/plain": [
       "NL    25673\n",
       "US    22780\n",
       "BE     7409\n",
       "GB     1185\n",
       "DE      616\n",
       "FR      348\n",
       "        248\n",
       "CN      236\n",
       "UA      192\n",
       "RU      105\n",
       "Name: country_by_ip_address, dtype: int64"
      ]
     },
     "execution_count": 27,
     "metadata": {},
     "output_type": "execute_result"
    }
   ],
   "source": [
    "df_bol['country_by_ip_address'].value_counts()[:10]"
   ]
  },
  {
   "cell_type": "code",
   "execution_count": 28,
   "metadata": {
    "colab": {
     "base_uri": "https://localhost:8080/",
     "height": 386
    },
    "colab_type": "code",
    "id": "r57rjF3TRK11",
    "outputId": "dcf6b76b-f5b5-4be9-bf3d-10cb91fb4acc"
   },
   "outputs": [
    {
     "data": {
      "text/plain": [
       "array(['CA', 'LI', 'NB', 'UT', 'ZH', '', 'GE', 'DR', 'GR', 'FL', 'BRU',\n",
       "       'VAN', 'NH', 'OV', 'SO', 'VLI', 'FR', 'OK', '30', 'VWV', 'BW',\n",
       "       'MZ', 'BJ', 'ZE', 'VOV', 'VBR', 'L', 'VLA', 'BOL', 'WA', '7', '5',\n",
       "       'AZ', 'NY', 'PA', 'VA', 'BU', 'ENG', 'WHT', 'TN', '13', 'IL', 'NV',\n",
       "       '69', 'WNA', 'AL', 'IN', 'ON', 'WLG', 'NJ', 'MN', '11', 'ND', 'AR',\n",
       "       'DA', 'RM', 'QC', 'SD', 'TOM', 'ZG', '05', 'JI', 'HE', 'AP', '59',\n",
       "       'CO', '08', '67', '03', '35', 'WBR', '14', 'AUK', 'NSW', '64',\n",
       "       'MOS', '23', 'MD', 'ZP', '10', 'IA', 'LU', 'LA', '29', 'KP', 'HN',\n",
       "       '1', 'NYK', 'TA', '18', 'BA', 'ER', '27', '07', '81', 'TX', 'NW',\n",
       "       'IRK', 'CM', 'MI', '40', 'I', 'JK', 'SI', 'GA', '26', 'OR', 'MS',\n",
       "       '24', '71', 'WKO', '9', 'NC', 'VGG', 'AB', 'LK', 'MOW', 'RIX',\n",
       "       'PB', 'M', 'ME', 'SL', 'KHE', 'OH', 'ID', 'CT', 'MO', 'MA', '6',\n",
       "       'NI', '12', 'GRE', 'BY', '92', 'CU', 'CAS', '20', 'A', 'GI', 'SH',\n",
       "       'FI', 'SRY', 'BE', 'WI', 'NFK', 'ULY', '51', '21', '16', 'AM',\n",
       "       '83', 'GJ', 'UP', 'S', 'B', 'SA', '22', 'PK', '77', 'DL', '91',\n",
       "       '45', 'KS', '04', '75', 'RJ', '38', 'ENF', 'AA', 'T', 'V', '61',\n",
       "       'ASU', '63', '422', '34', 'PO', '56', '209', 'VR', 'VD', 'MDW',\n",
       "       'VT', 'SC', '31', 'DJ', '86', 'GC', '33', 'NE', 'SE', 'CS', 'BI',\n",
       "       'TG', 'KEN', '46', 'GT', '15', '28', 'TO', 'IVA', 'MG', 'CMX',\n",
       "       'LEN', 'PM', 'WP', 'AQ', 'SOM', 'WLX', 'CE', 'AN', 'SP', 'WIL',\n",
       "       '01', '202', 'SLG', '531', 'TWH', '644', 'O', 'LT', '50', 'KY',\n",
       "       '41', 'BL', 'BEN', 'GB', 'VI', '06'], dtype=object)"
      ]
     },
     "execution_count": 28,
     "metadata": {},
     "output_type": "execute_result"
    }
   ],
   "source": [
    "df_bol['region_by_ip_address'].unique()"
   ]
  },
  {
   "cell_type": "code",
   "execution_count": 29,
   "metadata": {
    "colab": {
     "base_uri": "https://localhost:8080/",
     "height": 202
    },
    "colab_type": "code",
    "id": "GSBDxX9SRl7f",
    "outputId": "b98911b2-0c35-406e-a72c-0adaa4d5589e"
   },
   "outputs": [
    {
     "data": {
      "text/plain": [
       "CA     20662\n",
       "        9896\n",
       "NH      4320\n",
       "ZH      4160\n",
       "VAN     2239\n",
       "NB      2112\n",
       "GE      1950\n",
       "UT      1586\n",
       "VOV     1333\n",
       "OV      1055\n",
       "Name: region_by_ip_address, dtype: int64"
      ]
     },
     "execution_count": 29,
     "metadata": {},
     "output_type": "execute_result"
    }
   ],
   "source": [
    "df_bol['region_by_ip_address'].value_counts()[:10]"
   ]
  },
  {
   "cell_type": "markdown",
   "metadata": {
    "colab_type": "text",
    "id": "OacKjp25SXkj"
   },
   "source": [
    "### 3.5)- Dependant Feature"
   ]
  },
  {
   "cell_type": "code",
   "execution_count": 30,
   "metadata": {
    "colab": {
     "base_uri": "https://localhost:8080/",
     "height": 50
    },
    "colab_type": "code",
    "id": "nObPSl8USbYP",
    "outputId": "4005ed2a-27b2-4a94-f367-6e0b0b17a8a8"
   },
   "outputs": [
    {
     "data": {
      "text/plain": [
       "array(['Robot', 'Browser', 'Robot Mobile', 'Browser Webview', 'Hacker',\n",
       "       'Special', 'Mobile App', 'Cloud Application'], dtype=object)"
      ]
     },
     "execution_count": 30,
     "metadata": {},
     "output_type": "execute_result"
    }
   ],
   "source": [
    "df_bol['ua_agent_class'].unique()"
   ]
  },
  {
   "cell_type": "code",
   "execution_count": 31,
   "metadata": {
    "colab": {
     "base_uri": "https://localhost:8080/",
     "height": 34
    },
    "colab_type": "code",
    "id": "hIcTDkjhb_rQ",
    "outputId": "3288038c-f31f-4f5d-e6b8-3b6a63bf0170"
   },
   "outputs": [
    {
     "data": {
      "text/plain": [
       "(59782, 8)"
      ]
     },
     "execution_count": 31,
     "metadata": {},
     "output_type": "execute_result"
    }
   ],
   "source": [
    "df_bol.shape"
   ]
  },
  {
   "cell_type": "markdown",
   "metadata": {
    "colab_type": "text",
    "id": "tG5glY8ySjKC"
   },
   "source": [
    "I will choose to divide into only two categories according to our problem statement.Our categories are bot traffic coming  from search engines (NHT-search), other bot traffic (NHT-other) and human traffic (HT). \n",
    "\n",
    "- I will choose first a binary problem where we have only Non-human traffice and Human traffice.\n",
    "\n",
    "- Second case will be for three classes where traffic coming  from search engines (NHT-search), other bot traffic (NHT-other) and human traffic (HT) will be considered"
   ]
  },
  {
   "cell_type": "markdown",
   "metadata": {
    "colab_type": "text",
    "id": "86S8q9P6b7Pq"
   },
   "source": [
    "**I am not sure about what special is. So, I ll remove it from our category**"
   ]
  },
  {
   "cell_type": "code",
   "execution_count": 32,
   "metadata": {
    "colab": {
     "base_uri": "https://localhost:8080/",
     "height": 34
    },
    "colab_type": "code",
    "id": "Uc7W7iGfb8no",
    "outputId": "47528f09-f2fe-47cd-92bc-fc947b096cb7"
   },
   "outputs": [
    {
     "data": {
      "text/plain": [
       "(59638, 8)"
      ]
     },
     "execution_count": 32,
     "metadata": {},
     "output_type": "execute_result"
    }
   ],
   "source": [
    "df_bol = df_bol[~df_bol['ua_agent_class'].isin(['Special'])]\n",
    "df_bol.shape"
   ]
  },
  {
   "cell_type": "code",
   "execution_count": 33,
   "metadata": {
    "colab": {
     "base_uri": "https://localhost:8080/",
     "height": 151
    },
    "colab_type": "code",
    "id": "bC4cJhIMcYeb",
    "outputId": "03ac10ce-9beb-43c2-98fe-b11d998370b8"
   },
   "outputs": [
    {
     "data": {
      "text/plain": [
       "Browser              35509\n",
       "Robot                16026\n",
       "Robot Mobile          5115\n",
       "Browser Webview       1800\n",
       "Hacker                1177\n",
       "Mobile App               9\n",
       "Cloud Application        2\n",
       "Name: ua_agent_class, dtype: int64"
      ]
     },
     "execution_count": 33,
     "metadata": {},
     "output_type": "execute_result"
    }
   ],
   "source": [
    "df_bol.ua_agent_class.value_counts()"
   ]
  },
  {
   "cell_type": "code",
   "execution_count": 34,
   "metadata": {
    "colab": {},
    "colab_type": "code",
    "id": "rHTxaJ0wcsdx"
   },
   "outputs": [],
   "source": [
    "df_bol['labels'] = df_bol.ua_agent_class.map({'Robot':'NHT', 'Robot Mobile':'NHT','Browser':'HT', 'Browser Webview':'HT','Hacker':'HT','Mobile App':'HT','Cloud Application':'HT'})"
   ]
  },
  {
   "cell_type": "code",
   "execution_count": 35,
   "metadata": {
    "colab": {
     "base_uri": "https://localhost:8080/",
     "height": 67
    },
    "colab_type": "code",
    "id": "JnTfm4zvdfra",
    "outputId": "bc8a7981-e443-4acf-9f6e-c9d50b060f58"
   },
   "outputs": [
    {
     "data": {
      "text/plain": [
       "HT     38497\n",
       "NHT    21141\n",
       "Name: labels, dtype: int64"
      ]
     },
     "execution_count": 35,
     "metadata": {},
     "output_type": "execute_result"
    }
   ],
   "source": [
    "df_bol.labels.value_counts()"
   ]
  },
  {
   "cell_type": "code",
   "execution_count": 36,
   "metadata": {
    "colab": {
     "base_uri": "https://localhost:8080/",
     "height": 398
    },
    "colab_type": "code",
    "id": "RZ9OYDNkeawO",
    "outputId": "202e2474-bea3-4778-f210-a126eead9858"
   },
   "outputs": [
    {
     "data": {
      "text/plain": [
       "<matplotlib.axes._subplots.AxesSubplot at 0x15ebdd0ca20>"
      ]
     },
     "execution_count": 36,
     "metadata": {},
     "output_type": "execute_result"
    },
    {
     "data": {
      "image/svg+xml": [
       "<?xml version=\"1.0\" encoding=\"utf-8\" standalone=\"no\"?>\r\n",
       "<!DOCTYPE svg PUBLIC \"-//W3C//DTD SVG 1.1//EN\"\r\n",
       "  \"http://www.w3.org/Graphics/SVG/1.1/DTD/svg11.dtd\">\r\n",
       "<!-- Created with matplotlib (http://matplotlib.org/) -->\r\n",
       "<svg height=\"269pt\" version=\"1.1\" viewBox=\"0 0 395 269\" width=\"395pt\" xmlns=\"http://www.w3.org/2000/svg\" xmlns:xlink=\"http://www.w3.org/1999/xlink\">\r\n",
       " <defs>\r\n",
       "  <style type=\"text/css\">\r\n",
       "*{stroke-linecap:butt;stroke-linejoin:round;}\r\n",
       "  </style>\r\n",
       " </defs>\r\n",
       " <g id=\"figure_1\">\r\n",
       "  <g id=\"patch_1\">\r\n",
       "   <path d=\"M 0 269.946719 \r\n",
       "L 395.285156 269.946719 \r\n",
       "L 395.285156 0 \r\n",
       "L 0 0 \r\n",
       "z\r\n",
       "\" style=\"fill:none;\"/>\r\n",
       "  </g>\r\n",
       "  <g id=\"axes_1\">\r\n",
       "   <g id=\"patch_2\">\r\n",
       "    <path d=\"M 47.285156 230.64 \r\n",
       "L 382.085156 230.64 \r\n",
       "L 382.085156 13.2 \r\n",
       "L 47.285156 13.2 \r\n",
       "z\r\n",
       "\" style=\"fill:#eaeaf2;\"/>\r\n",
       "   </g>\r\n",
       "   <g id=\"matplotlib.axis_1\">\r\n",
       "    <g id=\"xtick_1\">\r\n",
       "     <g id=\"line2d_1\">\r\n",
       "      <path clip-path=\"url(#p04e1754cd4)\" d=\"M 130.985156 230.64 \r\n",
       "L 130.985156 13.2 \r\n",
       "\" style=\"fill:none;stroke:#ffffff;stroke-linecap:round;\"/>\r\n",
       "     </g>\r\n",
       "     <g id=\"text_1\">\r\n",
       "      <!-- HT -->\r\n",
       "      <defs>\r\n",
       "       <path d=\"M 8.015625 0 \r\n",
       "L 8.015625 71.578125 \r\n",
       "L 17.484375 71.578125 \r\n",
       "L 17.484375 42.1875 \r\n",
       "L 54.6875 42.1875 \r\n",
       "L 54.6875 71.578125 \r\n",
       "L 64.15625 71.578125 \r\n",
       "L 64.15625 0 \r\n",
       "L 54.6875 0 \r\n",
       "L 54.6875 33.734375 \r\n",
       "L 17.484375 33.734375 \r\n",
       "L 17.484375 0 \r\n",
       "z\r\n",
       "\" id=\"ArialMT-48\"/>\r\n",
       "       <path d=\"M 25.921875 0 \r\n",
       "L 25.921875 63.140625 \r\n",
       "L 2.34375 63.140625 \r\n",
       "L 2.34375 71.578125 \r\n",
       "L 59.078125 71.578125 \r\n",
       "L 59.078125 63.140625 \r\n",
       "L 35.40625 63.140625 \r\n",
       "L 35.40625 0 \r\n",
       "z\r\n",
       "\" id=\"ArialMT-54\"/>\r\n",
       "      </defs>\r\n",
       "      <g style=\"fill:#262626;\" transform=\"translate(133.828828 254.802656)rotate(-90)scale(0.11 -0.11)\">\r\n",
       "       <use xlink:href=\"#ArialMT-48\"/>\r\n",
       "       <use x=\"72.216797\" xlink:href=\"#ArialMT-54\"/>\r\n",
       "      </g>\r\n",
       "     </g>\r\n",
       "    </g>\r\n",
       "    <g id=\"xtick_2\">\r\n",
       "     <g id=\"line2d_2\">\r\n",
       "      <path clip-path=\"url(#p04e1754cd4)\" d=\"M 298.385156 230.64 \r\n",
       "L 298.385156 13.2 \r\n",
       "\" style=\"fill:none;stroke:#ffffff;stroke-linecap:round;\"/>\r\n",
       "     </g>\r\n",
       "     <g id=\"text_2\">\r\n",
       "      <!-- NHT -->\r\n",
       "      <defs>\r\n",
       "       <path d=\"M 7.625 0 \r\n",
       "L 7.625 71.578125 \r\n",
       "L 17.328125 71.578125 \r\n",
       "L 54.9375 15.375 \r\n",
       "L 54.9375 71.578125 \r\n",
       "L 64.015625 71.578125 \r\n",
       "L 64.015625 0 \r\n",
       "L 54.296875 0 \r\n",
       "L 16.703125 56.25 \r\n",
       "L 16.703125 0 \r\n",
       "z\r\n",
       "\" id=\"ArialMT-4e\"/>\r\n",
       "      </defs>\r\n",
       "      <g style=\"fill:#262626;\" transform=\"translate(301.228828 262.746719)rotate(-90)scale(0.11 -0.11)\">\r\n",
       "       <use xlink:href=\"#ArialMT-4e\"/>\r\n",
       "       <use x=\"72.216797\" xlink:href=\"#ArialMT-48\"/>\r\n",
       "       <use x=\"144.433594\" xlink:href=\"#ArialMT-54\"/>\r\n",
       "      </g>\r\n",
       "     </g>\r\n",
       "    </g>\r\n",
       "   </g>\r\n",
       "   <g id=\"matplotlib.axis_2\">\r\n",
       "    <g id=\"ytick_1\">\r\n",
       "     <g id=\"line2d_3\">\r\n",
       "      <path clip-path=\"url(#p04e1754cd4)\" d=\"M 47.285156 230.64 \r\n",
       "L 382.085156 230.64 \r\n",
       "\" style=\"fill:none;stroke:#ffffff;stroke-linecap:round;\"/>\r\n",
       "     </g>\r\n",
       "     <g id=\"text_3\">\r\n",
       "      <!-- 0 -->\r\n",
       "      <defs>\r\n",
       "       <path d=\"M 4.15625 35.296875 \r\n",
       "Q 4.15625 48 6.765625 55.734375 \r\n",
       "Q 9.375 63.484375 14.515625 67.671875 \r\n",
       "Q 19.671875 71.875 27.484375 71.875 \r\n",
       "Q 33.25 71.875 37.59375 69.546875 \r\n",
       "Q 41.9375 67.234375 44.765625 62.859375 \r\n",
       "Q 47.609375 58.5 49.21875 52.21875 \r\n",
       "Q 50.828125 45.953125 50.828125 35.296875 \r\n",
       "Q 50.828125 22.703125 48.234375 14.96875 \r\n",
       "Q 45.65625 7.234375 40.5 3 \r\n",
       "Q 35.359375 -1.21875 27.484375 -1.21875 \r\n",
       "Q 17.140625 -1.21875 11.234375 6.203125 \r\n",
       "Q 4.15625 15.140625 4.15625 35.296875 \r\n",
       "z\r\n",
       "M 13.1875 35.296875 \r\n",
       "Q 13.1875 17.671875 17.3125 11.828125 \r\n",
       "Q 21.4375 6 27.484375 6 \r\n",
       "Q 33.546875 6 37.671875 11.859375 \r\n",
       "Q 41.796875 17.71875 41.796875 35.296875 \r\n",
       "Q 41.796875 52.984375 37.671875 58.78125 \r\n",
       "Q 33.546875 64.59375 27.390625 64.59375 \r\n",
       "Q 21.34375 64.59375 17.71875 59.46875 \r\n",
       "Q 13.1875 52.9375 13.1875 35.296875 \r\n",
       "z\r\n",
       "\" id=\"ArialMT-30\"/>\r\n",
       "      </defs>\r\n",
       "      <g style=\"fill:#262626;\" transform=\"translate(31.668125 234.576797)scale(0.11 -0.11)\">\r\n",
       "       <use xlink:href=\"#ArialMT-30\"/>\r\n",
       "      </g>\r\n",
       "     </g>\r\n",
       "    </g>\r\n",
       "    <g id=\"ytick_2\">\r\n",
       "     <g id=\"line2d_4\">\r\n",
       "      <path clip-path=\"url(#p04e1754cd4)\" d=\"M 47.285156 203.743656 \r\n",
       "L 382.085156 203.743656 \r\n",
       "\" style=\"fill:none;stroke:#ffffff;stroke-linecap:round;\"/>\r\n",
       "     </g>\r\n",
       "     <g id=\"text_4\">\r\n",
       "      <!-- 5000 -->\r\n",
       "      <defs>\r\n",
       "       <path d=\"M 4.15625 18.75 \r\n",
       "L 13.375 19.53125 \r\n",
       "Q 14.40625 12.796875 18.140625 9.390625 \r\n",
       "Q 21.875 6 27.15625 6 \r\n",
       "Q 33.5 6 37.890625 10.78125 \r\n",
       "Q 42.28125 15.578125 42.28125 23.484375 \r\n",
       "Q 42.28125 31 38.0625 35.34375 \r\n",
       "Q 33.84375 39.703125 27 39.703125 \r\n",
       "Q 22.75 39.703125 19.328125 37.765625 \r\n",
       "Q 15.921875 35.84375 13.96875 32.765625 \r\n",
       "L 5.71875 33.84375 \r\n",
       "L 12.640625 70.609375 \r\n",
       "L 48.25 70.609375 \r\n",
       "L 48.25 62.203125 \r\n",
       "L 19.671875 62.203125 \r\n",
       "L 15.828125 42.96875 \r\n",
       "Q 22.265625 47.46875 29.34375 47.46875 \r\n",
       "Q 38.71875 47.46875 45.15625 40.96875 \r\n",
       "Q 51.609375 34.46875 51.609375 24.265625 \r\n",
       "Q 51.609375 14.546875 45.953125 7.46875 \r\n",
       "Q 39.0625 -1.21875 27.15625 -1.21875 \r\n",
       "Q 17.390625 -1.21875 11.203125 4.25 \r\n",
       "Q 5.03125 9.71875 4.15625 18.75 \r\n",
       "z\r\n",
       "\" id=\"ArialMT-35\"/>\r\n",
       "      </defs>\r\n",
       "      <g style=\"fill:#262626;\" transform=\"translate(13.317031 207.680452)scale(0.11 -0.11)\">\r\n",
       "       <use xlink:href=\"#ArialMT-35\"/>\r\n",
       "       <use x=\"55.615234\" xlink:href=\"#ArialMT-30\"/>\r\n",
       "       <use x=\"111.230469\" xlink:href=\"#ArialMT-30\"/>\r\n",
       "       <use x=\"166.845703\" xlink:href=\"#ArialMT-30\"/>\r\n",
       "      </g>\r\n",
       "     </g>\r\n",
       "    </g>\r\n",
       "    <g id=\"ytick_3\">\r\n",
       "     <g id=\"line2d_5\">\r\n",
       "      <path clip-path=\"url(#p04e1754cd4)\" d=\"M 47.285156 176.847311 \r\n",
       "L 382.085156 176.847311 \r\n",
       "\" style=\"fill:none;stroke:#ffffff;stroke-linecap:round;\"/>\r\n",
       "     </g>\r\n",
       "     <g id=\"text_5\">\r\n",
       "      <!-- 10000 -->\r\n",
       "      <defs>\r\n",
       "       <path d=\"M 37.25 0 \r\n",
       "L 28.46875 0 \r\n",
       "L 28.46875 56 \r\n",
       "Q 25.296875 52.984375 20.140625 49.953125 \r\n",
       "Q 14.984375 46.921875 10.890625 45.40625 \r\n",
       "L 10.890625 53.90625 \r\n",
       "Q 18.265625 57.375 23.78125 62.296875 \r\n",
       "Q 29.296875 67.234375 31.59375 71.875 \r\n",
       "L 37.25 71.875 \r\n",
       "z\r\n",
       "\" id=\"ArialMT-31\"/>\r\n",
       "      </defs>\r\n",
       "      <g style=\"fill:#262626;\" transform=\"translate(7.2 180.784108)scale(0.11 -0.11)\">\r\n",
       "       <use xlink:href=\"#ArialMT-31\"/>\r\n",
       "       <use x=\"55.615234\" xlink:href=\"#ArialMT-30\"/>\r\n",
       "       <use x=\"111.230469\" xlink:href=\"#ArialMT-30\"/>\r\n",
       "       <use x=\"166.845703\" xlink:href=\"#ArialMT-30\"/>\r\n",
       "       <use x=\"222.460938\" xlink:href=\"#ArialMT-30\"/>\r\n",
       "      </g>\r\n",
       "     </g>\r\n",
       "    </g>\r\n",
       "    <g id=\"ytick_4\">\r\n",
       "     <g id=\"line2d_6\">\r\n",
       "      <path clip-path=\"url(#p04e1754cd4)\" d=\"M 47.285156 149.950967 \r\n",
       "L 382.085156 149.950967 \r\n",
       "\" style=\"fill:none;stroke:#ffffff;stroke-linecap:round;\"/>\r\n",
       "     </g>\r\n",
       "     <g id=\"text_6\">\r\n",
       "      <!-- 15000 -->\r\n",
       "      <g style=\"fill:#262626;\" transform=\"translate(7.2 153.887764)scale(0.11 -0.11)\">\r\n",
       "       <use xlink:href=\"#ArialMT-31\"/>\r\n",
       "       <use x=\"55.615234\" xlink:href=\"#ArialMT-35\"/>\r\n",
       "       <use x=\"111.230469\" xlink:href=\"#ArialMT-30\"/>\r\n",
       "       <use x=\"166.845703\" xlink:href=\"#ArialMT-30\"/>\r\n",
       "       <use x=\"222.460938\" xlink:href=\"#ArialMT-30\"/>\r\n",
       "      </g>\r\n",
       "     </g>\r\n",
       "    </g>\r\n",
       "    <g id=\"ytick_5\">\r\n",
       "     <g id=\"line2d_7\">\r\n",
       "      <path clip-path=\"url(#p04e1754cd4)\" d=\"M 47.285156 123.054622 \r\n",
       "L 382.085156 123.054622 \r\n",
       "\" style=\"fill:none;stroke:#ffffff;stroke-linecap:round;\"/>\r\n",
       "     </g>\r\n",
       "     <g id=\"text_7\">\r\n",
       "      <!-- 20000 -->\r\n",
       "      <defs>\r\n",
       "       <path d=\"M 50.34375 8.453125 \r\n",
       "L 50.34375 0 \r\n",
       "L 3.03125 0 \r\n",
       "Q 2.9375 3.171875 4.046875 6.109375 \r\n",
       "Q 5.859375 10.9375 9.828125 15.625 \r\n",
       "Q 13.8125 20.3125 21.34375 26.46875 \r\n",
       "Q 33.015625 36.03125 37.109375 41.625 \r\n",
       "Q 41.21875 47.21875 41.21875 52.203125 \r\n",
       "Q 41.21875 57.421875 37.46875 61 \r\n",
       "Q 33.734375 64.59375 27.734375 64.59375 \r\n",
       "Q 21.390625 64.59375 17.578125 60.78125 \r\n",
       "Q 13.765625 56.984375 13.71875 50.25 \r\n",
       "L 4.6875 51.171875 \r\n",
       "Q 5.609375 61.28125 11.65625 66.578125 \r\n",
       "Q 17.71875 71.875 27.9375 71.875 \r\n",
       "Q 38.234375 71.875 44.234375 66.15625 \r\n",
       "Q 50.25 60.453125 50.25 52 \r\n",
       "Q 50.25 47.703125 48.484375 43.546875 \r\n",
       "Q 46.734375 39.40625 42.65625 34.8125 \r\n",
       "Q 38.578125 30.21875 29.109375 22.21875 \r\n",
       "Q 21.1875 15.578125 18.9375 13.203125 \r\n",
       "Q 16.703125 10.84375 15.234375 8.453125 \r\n",
       "z\r\n",
       "\" id=\"ArialMT-32\"/>\r\n",
       "      </defs>\r\n",
       "      <g style=\"fill:#262626;\" transform=\"translate(7.2 126.991419)scale(0.11 -0.11)\">\r\n",
       "       <use xlink:href=\"#ArialMT-32\"/>\r\n",
       "       <use x=\"55.615234\" xlink:href=\"#ArialMT-30\"/>\r\n",
       "       <use x=\"111.230469\" xlink:href=\"#ArialMT-30\"/>\r\n",
       "       <use x=\"166.845703\" xlink:href=\"#ArialMT-30\"/>\r\n",
       "       <use x=\"222.460938\" xlink:href=\"#ArialMT-30\"/>\r\n",
       "      </g>\r\n",
       "     </g>\r\n",
       "    </g>\r\n",
       "    <g id=\"ytick_6\">\r\n",
       "     <g id=\"line2d_8\">\r\n",
       "      <path clip-path=\"url(#p04e1754cd4)\" d=\"M 47.285156 96.158278 \r\n",
       "L 382.085156 96.158278 \r\n",
       "\" style=\"fill:none;stroke:#ffffff;stroke-linecap:round;\"/>\r\n",
       "     </g>\r\n",
       "     <g id=\"text_8\">\r\n",
       "      <!-- 25000 -->\r\n",
       "      <g style=\"fill:#262626;\" transform=\"translate(7.2 100.095075)scale(0.11 -0.11)\">\r\n",
       "       <use xlink:href=\"#ArialMT-32\"/>\r\n",
       "       <use x=\"55.615234\" xlink:href=\"#ArialMT-35\"/>\r\n",
       "       <use x=\"111.230469\" xlink:href=\"#ArialMT-30\"/>\r\n",
       "       <use x=\"166.845703\" xlink:href=\"#ArialMT-30\"/>\r\n",
       "       <use x=\"222.460938\" xlink:href=\"#ArialMT-30\"/>\r\n",
       "      </g>\r\n",
       "     </g>\r\n",
       "    </g>\r\n",
       "    <g id=\"ytick_7\">\r\n",
       "     <g id=\"line2d_9\">\r\n",
       "      <path clip-path=\"url(#p04e1754cd4)\" d=\"M 47.285156 69.261933 \r\n",
       "L 382.085156 69.261933 \r\n",
       "\" style=\"fill:none;stroke:#ffffff;stroke-linecap:round;\"/>\r\n",
       "     </g>\r\n",
       "     <g id=\"text_9\">\r\n",
       "      <!-- 30000 -->\r\n",
       "      <defs>\r\n",
       "       <path d=\"M 4.203125 18.890625 \r\n",
       "L 12.984375 20.0625 \r\n",
       "Q 14.5 12.59375 18.140625 9.296875 \r\n",
       "Q 21.78125 6 27 6 \r\n",
       "Q 33.203125 6 37.46875 10.296875 \r\n",
       "Q 41.75 14.59375 41.75 20.953125 \r\n",
       "Q 41.75 27 37.796875 30.921875 \r\n",
       "Q 33.84375 34.859375 27.734375 34.859375 \r\n",
       "Q 25.25 34.859375 21.53125 33.890625 \r\n",
       "L 22.515625 41.609375 \r\n",
       "Q 23.390625 41.5 23.921875 41.5 \r\n",
       "Q 29.546875 41.5 34.03125 44.421875 \r\n",
       "Q 38.53125 47.359375 38.53125 53.46875 \r\n",
       "Q 38.53125 58.296875 35.25 61.46875 \r\n",
       "Q 31.984375 64.65625 26.8125 64.65625 \r\n",
       "Q 21.6875 64.65625 18.265625 61.421875 \r\n",
       "Q 14.84375 58.203125 13.875 51.765625 \r\n",
       "L 5.078125 53.328125 \r\n",
       "Q 6.6875 62.15625 12.390625 67.015625 \r\n",
       "Q 18.109375 71.875 26.609375 71.875 \r\n",
       "Q 32.46875 71.875 37.390625 69.359375 \r\n",
       "Q 42.328125 66.84375 44.9375 62.5 \r\n",
       "Q 47.5625 58.15625 47.5625 53.265625 \r\n",
       "Q 47.5625 48.640625 45.0625 44.828125 \r\n",
       "Q 42.578125 41.015625 37.703125 38.765625 \r\n",
       "Q 44.046875 37.3125 47.5625 32.6875 \r\n",
       "Q 51.078125 28.078125 51.078125 21.140625 \r\n",
       "Q 51.078125 11.765625 44.234375 5.25 \r\n",
       "Q 37.40625 -1.265625 26.953125 -1.265625 \r\n",
       "Q 17.53125 -1.265625 11.296875 4.34375 \r\n",
       "Q 5.078125 9.96875 4.203125 18.890625 \r\n",
       "z\r\n",
       "\" id=\"ArialMT-33\"/>\r\n",
       "      </defs>\r\n",
       "      <g style=\"fill:#262626;\" transform=\"translate(7.2 73.19873)scale(0.11 -0.11)\">\r\n",
       "       <use xlink:href=\"#ArialMT-33\"/>\r\n",
       "       <use x=\"55.615234\" xlink:href=\"#ArialMT-30\"/>\r\n",
       "       <use x=\"111.230469\" xlink:href=\"#ArialMT-30\"/>\r\n",
       "       <use x=\"166.845703\" xlink:href=\"#ArialMT-30\"/>\r\n",
       "       <use x=\"222.460938\" xlink:href=\"#ArialMT-30\"/>\r\n",
       "      </g>\r\n",
       "     </g>\r\n",
       "    </g>\r\n",
       "    <g id=\"ytick_8\">\r\n",
       "     <g id=\"line2d_10\">\r\n",
       "      <path clip-path=\"url(#p04e1754cd4)\" d=\"M 47.285156 42.365589 \r\n",
       "L 382.085156 42.365589 \r\n",
       "\" style=\"fill:none;stroke:#ffffff;stroke-linecap:round;\"/>\r\n",
       "     </g>\r\n",
       "     <g id=\"text_10\">\r\n",
       "      <!-- 35000 -->\r\n",
       "      <g style=\"fill:#262626;\" transform=\"translate(7.2 46.302386)scale(0.11 -0.11)\">\r\n",
       "       <use xlink:href=\"#ArialMT-33\"/>\r\n",
       "       <use x=\"55.615234\" xlink:href=\"#ArialMT-35\"/>\r\n",
       "       <use x=\"111.230469\" xlink:href=\"#ArialMT-30\"/>\r\n",
       "       <use x=\"166.845703\" xlink:href=\"#ArialMT-30\"/>\r\n",
       "       <use x=\"222.460938\" xlink:href=\"#ArialMT-30\"/>\r\n",
       "      </g>\r\n",
       "     </g>\r\n",
       "    </g>\r\n",
       "    <g id=\"ytick_9\">\r\n",
       "     <g id=\"line2d_11\">\r\n",
       "      <path clip-path=\"url(#p04e1754cd4)\" d=\"M 47.285156 15.469245 \r\n",
       "L 382.085156 15.469245 \r\n",
       "\" style=\"fill:none;stroke:#ffffff;stroke-linecap:round;\"/>\r\n",
       "     </g>\r\n",
       "     <g id=\"text_11\">\r\n",
       "      <!-- 40000 -->\r\n",
       "      <defs>\r\n",
       "       <path d=\"M 32.328125 0 \r\n",
       "L 32.328125 17.140625 \r\n",
       "L 1.265625 17.140625 \r\n",
       "L 1.265625 25.203125 \r\n",
       "L 33.9375 71.578125 \r\n",
       "L 41.109375 71.578125 \r\n",
       "L 41.109375 25.203125 \r\n",
       "L 50.78125 25.203125 \r\n",
       "L 50.78125 17.140625 \r\n",
       "L 41.109375 17.140625 \r\n",
       "L 41.109375 0 \r\n",
       "z\r\n",
       "M 32.328125 25.203125 \r\n",
       "L 32.328125 57.46875 \r\n",
       "L 9.90625 25.203125 \r\n",
       "z\r\n",
       "\" id=\"ArialMT-34\"/>\r\n",
       "      </defs>\r\n",
       "      <g style=\"fill:#262626;\" transform=\"translate(7.2 19.406041)scale(0.11 -0.11)\">\r\n",
       "       <use xlink:href=\"#ArialMT-34\"/>\r\n",
       "       <use x=\"55.615234\" xlink:href=\"#ArialMT-30\"/>\r\n",
       "       <use x=\"111.230469\" xlink:href=\"#ArialMT-30\"/>\r\n",
       "       <use x=\"166.845703\" xlink:href=\"#ArialMT-30\"/>\r\n",
       "       <use x=\"222.460938\" xlink:href=\"#ArialMT-30\"/>\r\n",
       "      </g>\r\n",
       "     </g>\r\n",
       "    </g>\r\n",
       "   </g>\r\n",
       "   <g id=\"patch_3\">\r\n",
       "    <path clip-path=\"url(#p04e1754cd4)\" d=\"M 89.135156 230.64 \r\n",
       "L 172.835156 230.64 \r\n",
       "L 172.835156 23.554286 \r\n",
       "L 89.135156 23.554286 \r\n",
       "z\r\n",
       "\" style=\"fill:#4c72b0;stroke:#ffffff;stroke-linejoin:miter;\"/>\r\n",
       "   </g>\r\n",
       "   <g id=\"patch_4\">\r\n",
       "    <path clip-path=\"url(#p04e1754cd4)\" d=\"M 256.535156 230.64 \r\n",
       "L 340.235156 230.64 \r\n",
       "L 340.235156 116.916876 \r\n",
       "L 256.535156 116.916876 \r\n",
       "z\r\n",
       "\" style=\"fill:#dd8452;stroke:#ffffff;stroke-linejoin:miter;\"/>\r\n",
       "   </g>\r\n",
       "   <g id=\"patch_5\">\r\n",
       "    <path d=\"M 47.285156 230.64 \r\n",
       "L 47.285156 13.2 \r\n",
       "\" style=\"fill:none;stroke:#ffffff;stroke-linecap:square;stroke-linejoin:miter;stroke-width:1.25;\"/>\r\n",
       "   </g>\r\n",
       "   <g id=\"patch_6\">\r\n",
       "    <path d=\"M 382.085156 230.64 \r\n",
       "L 382.085156 13.2 \r\n",
       "\" style=\"fill:none;stroke:#ffffff;stroke-linecap:square;stroke-linejoin:miter;stroke-width:1.25;\"/>\r\n",
       "   </g>\r\n",
       "   <g id=\"patch_7\">\r\n",
       "    <path d=\"M 47.285156 230.64 \r\n",
       "L 382.085156 230.64 \r\n",
       "\" style=\"fill:none;stroke:#ffffff;stroke-linecap:square;stroke-linejoin:miter;stroke-width:1.25;\"/>\r\n",
       "   </g>\r\n",
       "   <g id=\"patch_8\">\r\n",
       "    <path d=\"M 47.285156 13.2 \r\n",
       "L 382.085156 13.2 \r\n",
       "\" style=\"fill:none;stroke:#ffffff;stroke-linecap:square;stroke-linejoin:miter;stroke-width:1.25;\"/>\r\n",
       "   </g>\r\n",
       "  </g>\r\n",
       " </g>\r\n",
       " <defs>\r\n",
       "  <clipPath id=\"p04e1754cd4\">\r\n",
       "   <rect height=\"217.44\" width=\"334.8\" x=\"47.285156\" y=\"13.2\"/>\r\n",
       "  </clipPath>\r\n",
       " </defs>\r\n",
       "</svg>\r\n"
      ],
      "text/plain": [
       "<matplotlib.figure.Figure at 0x15ebdd0c0f0>"
      ]
     },
     "metadata": {
      "needs_background": "light"
     },
     "output_type": "display_data"
    }
   ],
   "source": [
    "df_bol.labels.value_counts().plot(kind='bar')"
   ]
  },
  {
   "cell_type": "code",
   "execution_count": 37,
   "metadata": {
    "colab": {},
    "colab_type": "code",
    "id": "fO_bxVEzRyoX"
   },
   "outputs": [],
   "source": [
    "# create dataframe for feature of interest\n",
    "df_foi=df_bol[['labels','visitor_recognition_type','country_by_ip_address','region_by_ip_address']]"
   ]
  },
  {
   "cell_type": "code",
   "execution_count": 38,
   "metadata": {
    "colab": {
     "base_uri": "https://localhost:8080/",
     "height": 195
    },
    "colab_type": "code",
    "id": "U2zX00LQgRLU",
    "outputId": "256a6aca-2993-41a5-e27f-349d546c0e38"
   },
   "outputs": [
    {
     "data": {
      "text/html": [
       "<div>\n",
       "<style scoped>\n",
       "    .dataframe tbody tr th:only-of-type {\n",
       "        vertical-align: middle;\n",
       "    }\n",
       "\n",
       "    .dataframe tbody tr th {\n",
       "        vertical-align: top;\n",
       "    }\n",
       "\n",
       "    .dataframe thead th {\n",
       "        text-align: right;\n",
       "    }\n",
       "</style>\n",
       "<table border=\"1\" class=\"dataframe\">\n",
       "  <thead>\n",
       "    <tr style=\"text-align: right;\">\n",
       "      <th></th>\n",
       "      <th>labels</th>\n",
       "      <th>visitor_recognition_type</th>\n",
       "      <th>country_by_ip_address</th>\n",
       "      <th>region_by_ip_address</th>\n",
       "    </tr>\n",
       "  </thead>\n",
       "  <tbody>\n",
       "    <tr>\n",
       "      <th>0</th>\n",
       "      <td>NHT</td>\n",
       "      <td>ANONYMOUS</td>\n",
       "      <td>US</td>\n",
       "      <td>CA</td>\n",
       "    </tr>\n",
       "    <tr>\n",
       "      <th>1</th>\n",
       "      <td>NHT</td>\n",
       "      <td>ANONYMOUS</td>\n",
       "      <td>US</td>\n",
       "      <td>CA</td>\n",
       "    </tr>\n",
       "    <tr>\n",
       "      <th>2</th>\n",
       "      <td>HT</td>\n",
       "      <td>ANONYMOUS</td>\n",
       "      <td>IT</td>\n",
       "      <td>LI</td>\n",
       "    </tr>\n",
       "    <tr>\n",
       "      <th>3</th>\n",
       "      <td>NHT</td>\n",
       "      <td>ANONYMOUS</td>\n",
       "      <td>US</td>\n",
       "      <td>CA</td>\n",
       "    </tr>\n",
       "    <tr>\n",
       "      <th>4</th>\n",
       "      <td>NHT</td>\n",
       "      <td>ANONYMOUS</td>\n",
       "      <td>US</td>\n",
       "      <td>CA</td>\n",
       "    </tr>\n",
       "  </tbody>\n",
       "</table>\n",
       "</div>"
      ],
      "text/plain": [
       "  labels visitor_recognition_type country_by_ip_address region_by_ip_address\n",
       "0    NHT                ANONYMOUS                    US                   CA\n",
       "1    NHT                ANONYMOUS                    US                   CA\n",
       "2     HT                ANONYMOUS                    IT                   LI\n",
       "3    NHT                ANONYMOUS                    US                   CA\n",
       "4    NHT                ANONYMOUS                    US                   CA"
      ]
     },
     "execution_count": 38,
     "metadata": {},
     "output_type": "execute_result"
    }
   ],
   "source": [
    "df_foi.head()"
   ]
  },
  {
   "cell_type": "markdown",
   "metadata": {
    "colab_type": "text",
    "id": "2uSEnU4Pr1kc"
   },
   "source": [
    "### Checking ANONYMOUS traffice role in data\n",
    "As we have now more concise data classification so, we might want to check again "
   ]
  },
  {
   "cell_type": "markdown",
   "metadata": {},
   "source": [
    "**This \"ANONYMOUS\" class in visitor_recognition_type feature is interesting. It could be that bot searches are mostly ANONYMOUS. It is only an assumption. Let's see if data supports it**"
   ]
  },
  {
   "cell_type": "code",
   "execution_count": 39,
   "metadata": {},
   "outputs": [],
   "source": [
    "c=df_foi"
   ]
  },
  {
   "cell_type": "code",
   "execution_count": 40,
   "metadata": {},
   "outputs": [],
   "source": [
    "c=c[(c.visitor_recognition_type == 'ANONYMOUS')]\n",
    "c=c.groupby(['labels','visitor_recognition_type']).size()"
   ]
  },
  {
   "cell_type": "code",
   "execution_count": 41,
   "metadata": {},
   "outputs": [
    {
     "data": {
      "text/plain": [
       "labels  visitor_recognition_type\n",
       "HT      ANONYMOUS                   22426\n",
       "NHT     ANONYMOUS                   21141\n",
       "dtype: int64"
      ]
     },
     "execution_count": 41,
     "metadata": {},
     "output_type": "execute_result"
    }
   ],
   "source": [
    "c"
   ]
  },
  {
   "cell_type": "markdown",
   "metadata": {},
   "source": [
    "**There is not much difference. So, my assumption that \"ANONYMOUS\" is related to Non-human traffic does not hold ground.**\n"
   ]
  },
  {
   "cell_type": "code",
   "execution_count": 42,
   "metadata": {},
   "outputs": [
    {
     "data": {
      "text/html": [
       "<div>\n",
       "<style scoped>\n",
       "    .dataframe tbody tr th:only-of-type {\n",
       "        vertical-align: middle;\n",
       "    }\n",
       "\n",
       "    .dataframe tbody tr th {\n",
       "        vertical-align: top;\n",
       "    }\n",
       "\n",
       "    .dataframe thead th {\n",
       "        text-align: right;\n",
       "    }\n",
       "</style>\n",
       "<table border=\"1\" class=\"dataframe\">\n",
       "  <thead>\n",
       "    <tr style=\"text-align: right;\">\n",
       "      <th></th>\n",
       "      <th></th>\n",
       "      <th>country_by_ip_address</th>\n",
       "      <th>region_by_ip_address</th>\n",
       "    </tr>\n",
       "    <tr>\n",
       "      <th>labels</th>\n",
       "      <th>visitor_recognition_type</th>\n",
       "      <th></th>\n",
       "      <th></th>\n",
       "    </tr>\n",
       "  </thead>\n",
       "  <tbody>\n",
       "    <tr>\n",
       "      <th rowspan=\"3\" valign=\"top\">HT</th>\n",
       "      <th>ANONYMOUS</th>\n",
       "      <td>22426</td>\n",
       "      <td>22426</td>\n",
       "    </tr>\n",
       "    <tr>\n",
       "      <th>LOGGEDIN</th>\n",
       "      <td>3482</td>\n",
       "      <td>3482</td>\n",
       "    </tr>\n",
       "    <tr>\n",
       "      <th>RECOGNIZED</th>\n",
       "      <td>12589</td>\n",
       "      <td>12589</td>\n",
       "    </tr>\n",
       "    <tr>\n",
       "      <th>NHT</th>\n",
       "      <th>ANONYMOUS</th>\n",
       "      <td>21141</td>\n",
       "      <td>21141</td>\n",
       "    </tr>\n",
       "  </tbody>\n",
       "</table>\n",
       "</div>"
      ],
      "text/plain": [
       "                                 country_by_ip_address  region_by_ip_address\n",
       "labels visitor_recognition_type                                             \n",
       "HT     ANONYMOUS                                 22426                 22426\n",
       "       LOGGEDIN                                   3482                  3482\n",
       "       RECOGNIZED                                12589                 12589\n",
       "NHT    ANONYMOUS                                 21141                 21141"
      ]
     },
     "execution_count": 42,
     "metadata": {},
     "output_type": "execute_result"
    }
   ],
   "source": [
    "df_foi.groupby(['labels', 'visitor_recognition_type']).count()"
   ]
  },
  {
   "cell_type": "markdown",
   "metadata": {},
   "source": [
    "\n",
    "one thing is for sure that all NHT is in ANONYMOUS category as seen above."
   ]
  },
  {
   "cell_type": "code",
   "execution_count": 43,
   "metadata": {},
   "outputs": [],
   "source": [
    "#df_foi.groupby(['labels', 'country_by_ip_address']).count()"
   ]
  },
  {
   "cell_type": "markdown",
   "metadata": {},
   "source": [
    "# 4)- Saving file for future use\n",
    "\n",
    "- Create binary classification\n",
    "- Create multi-classification"
   ]
  },
  {
   "cell_type": "markdown",
   "metadata": {},
   "source": [
    "**Save file as pickle for binary classification**"
   ]
  },
  {
   "cell_type": "code",
   "execution_count": 44,
   "metadata": {
    "colab": {},
    "colab_type": "code",
    "id": "PceEFXwks298"
   },
   "outputs": [],
   "source": [
    "df_foi.to_pickle('clickdata.pkl')"
   ]
  },
  {
   "cell_type": "markdown",
   "metadata": {},
   "source": [
    "### for multi-classification"
   ]
  }
 ],
 "metadata": {
  "accelerator": "GPU",
  "colab": {
   "collapsed_sections": [],
   "name": "EDA.ipynb",
   "provenance": [],
   "version": "0.3.2"
  },
  "kernelspec": {
   "display_name": "Python 3",
   "language": "python",
   "name": "python3"
  },
  "language_info": {
   "codemirror_mode": {
    "name": "ipython",
    "version": 3
   },
   "file_extension": ".py",
   "mimetype": "text/x-python",
   "name": "python",
   "nbconvert_exporter": "python",
   "pygments_lexer": "ipython3",
   "version": "3.6.3"
  }
 },
 "nbformat": 4,
 "nbformat_minor": 1
}
